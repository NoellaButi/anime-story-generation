{
 "cells": [
  {
   "cell_type": "code",
   "execution_count": 1,
   "id": "2935d393-99c5-4bbd-945e-bcae0f45737b",
   "metadata": {},
   "outputs": [],
   "source": [
    "# Author: Yuki\n",
    "# Datasets: Character Trait Dataset + Top 15000 Anime Dataset\n",
    "# This is a notebook for analyzing, visualizing, cleaning, merging of our datasets"
   ]
  },
  {
   "cell_type": "markdown",
   "id": "77a40bdb",
   "metadata": {},
   "source": [
    "### Loads the dataset and checks info"
   ]
  },
  {
   "cell_type": "code",
   "execution_count": 2,
   "id": "fbc7da0f-0292-4dc7-8af9-3a0350c4e28f",
   "metadata": {},
   "outputs": [],
   "source": [
    "import pandas as pd\n",
    "\n",
    "df = pd.read_csv(\"Anime_Traits.csv\")"
   ]
  },
  {
   "cell_type": "code",
   "execution_count": 3,
   "id": "ffc23e7b-b544-4208-aac3-c70bedd46178",
   "metadata": {},
   "outputs": [
    {
     "data": {
      "text/html": [
       "<div>\n",
       "<style scoped>\n",
       "    .dataframe tbody tr th:only-of-type {\n",
       "        vertical-align: middle;\n",
       "    }\n",
       "\n",
       "    .dataframe tbody tr th {\n",
       "        vertical-align: top;\n",
       "    }\n",
       "\n",
       "    .dataframe thead th {\n",
       "        text-align: right;\n",
       "    }\n",
       "</style>\n",
       "<table border=\"1\" class=\"dataframe\">\n",
       "  <thead>\n",
       "    <tr style=\"text-align: right;\">\n",
       "      <th></th>\n",
       "      <th>Id</th>\n",
       "      <th>Names</th>\n",
       "      <th>Hair_Color</th>\n",
       "      <th>Gender</th>\n",
       "      <th>Tags</th>\n",
       "      <th>Anime</th>\n",
       "      <th>Manga</th>\n",
       "    </tr>\n",
       "  </thead>\n",
       "  <tbody>\n",
       "    <tr>\n",
       "      <th>0</th>\n",
       "      <td>0</td>\n",
       "      <td>L</td>\n",
       "      <td>Black Hair</td>\n",
       "      <td>Male</td>\n",
       "      <td>['Analytical', 'Barefoot', 'Detective', 'Eye B...</td>\n",
       "      <td>['Death Note', 'Death Note Rewrite 1: Visions ...</td>\n",
       "      <td>['Death Note', 'Death Note: L Change the World...</td>\n",
       "    </tr>\n",
       "    <tr>\n",
       "      <th>1</th>\n",
       "      <td>1</td>\n",
       "      <td>Kakashi HATAKE</td>\n",
       "      <td>Grey Hair</td>\n",
       "      <td>Male</td>\n",
       "      <td>['Adult', 'Anti-Gravity Hair', 'Beastmaster', ...</td>\n",
       "      <td>['Boruto: Naruto Next Generations', 'Boruto: N...</td>\n",
       "      <td>['Boruto: Naruto the Movie Tokubetsu Bangai-he...</td>\n",
       "    </tr>\n",
       "    <tr>\n",
       "      <th>2</th>\n",
       "      <td>2</td>\n",
       "      <td>Edward ELRIC</td>\n",
       "      <td>Blonde Hair</td>\n",
       "      <td>Male</td>\n",
       "      <td>['Alchemist', 'Arm Blades', 'Artificial Limb',...</td>\n",
       "      <td>['Fullmetal Alchemist', 'Fullmetal Alchemist: ...</td>\n",
       "      <td>['Fullmetal Alchemist', 'Fullmetal Alchemist G...</td>\n",
       "    </tr>\n",
       "    <tr>\n",
       "      <th>3</th>\n",
       "      <td>3</td>\n",
       "      <td>Levi</td>\n",
       "      <td>Black Hair</td>\n",
       "      <td>Male</td>\n",
       "      <td>['Adult', 'Military', 'Ruthless', 'Stoic', 'Sw...</td>\n",
       "      <td>['Attack on Skytree', 'Attack on Titan', 'Atta...</td>\n",
       "      <td>['Attack on Titan', 'Attack on Titan: Junior H...</td>\n",
       "    </tr>\n",
       "    <tr>\n",
       "      <th>4</th>\n",
       "      <td>4</td>\n",
       "      <td>Light YAGAMI</td>\n",
       "      <td>Brown Hair</td>\n",
       "      <td>Male</td>\n",
       "      <td>['Analytical', 'Big Ego', 'Charismatic', 'God ...</td>\n",
       "      <td>['Death Note', 'Death Note Rewrite 1: Visions ...</td>\n",
       "      <td>['Death Note']</td>\n",
       "    </tr>\n",
       "  </tbody>\n",
       "</table>\n",
       "</div>"
      ],
      "text/plain": [
       "   Id           Names   Hair_Color Gender  \\\n",
       "0   0               L   Black Hair   Male   \n",
       "1   1  Kakashi HATAKE    Grey Hair   Male   \n",
       "2   2    Edward ELRIC  Blonde Hair   Male   \n",
       "3   3            Levi   Black Hair   Male   \n",
       "4   4    Light YAGAMI   Brown Hair   Male   \n",
       "\n",
       "                                                Tags  \\\n",
       "0  ['Analytical', 'Barefoot', 'Detective', 'Eye B...   \n",
       "1  ['Adult', 'Anti-Gravity Hair', 'Beastmaster', ...   \n",
       "2  ['Alchemist', 'Arm Blades', 'Artificial Limb',...   \n",
       "3  ['Adult', 'Military', 'Ruthless', 'Stoic', 'Sw...   \n",
       "4  ['Analytical', 'Big Ego', 'Charismatic', 'God ...   \n",
       "\n",
       "                                               Anime  \\\n",
       "0  ['Death Note', 'Death Note Rewrite 1: Visions ...   \n",
       "1  ['Boruto: Naruto Next Generations', 'Boruto: N...   \n",
       "2  ['Fullmetal Alchemist', 'Fullmetal Alchemist: ...   \n",
       "3  ['Attack on Skytree', 'Attack on Titan', 'Atta...   \n",
       "4  ['Death Note', 'Death Note Rewrite 1: Visions ...   \n",
       "\n",
       "                                               Manga  \n",
       "0  ['Death Note', 'Death Note: L Change the World...  \n",
       "1  ['Boruto: Naruto the Movie Tokubetsu Bangai-he...  \n",
       "2  ['Fullmetal Alchemist', 'Fullmetal Alchemist G...  \n",
       "3  ['Attack on Titan', 'Attack on Titan: Junior H...  \n",
       "4                                     ['Death Note']  "
      ]
     },
     "execution_count": 3,
     "metadata": {},
     "output_type": "execute_result"
    }
   ],
   "source": [
    "df.head()"
   ]
  },
  {
   "cell_type": "code",
   "execution_count": 4,
   "id": "97a8d844-b0c7-4526-af81-3df2fe86f47d",
   "metadata": {
    "scrolled": true
   },
   "outputs": [
    {
     "name": "stdout",
     "output_type": "stream",
     "text": [
      "<class 'pandas.core.frame.DataFrame'>\n",
      "RangeIndex: 119825 entries, 0 to 119824\n",
      "Data columns (total 7 columns):\n",
      " #   Column      Non-Null Count   Dtype \n",
      "---  ------      --------------   ----- \n",
      " 0   Id          119825 non-null  int64 \n",
      " 1   Names       119824 non-null  object\n",
      " 2   Hair_Color  96059 non-null   object\n",
      " 3   Gender      113212 non-null  object\n",
      " 4   Tags        119391 non-null  object\n",
      " 5   Anime       104426 non-null  object\n",
      " 6   Manga       35540 non-null   object\n",
      "dtypes: int64(1), object(6)\n",
      "memory usage: 6.4+ MB\n"
     ]
    }
   ],
   "source": [
    "df.info()"
   ]
  },
  {
   "cell_type": "code",
   "execution_count": 5,
   "id": "aef57ead-d00d-4951-86d7-5b5f60d1e730",
   "metadata": {},
   "outputs": [
    {
     "data": {
      "text/html": [
       "<div>\n",
       "<style scoped>\n",
       "    .dataframe tbody tr th:only-of-type {\n",
       "        vertical-align: middle;\n",
       "    }\n",
       "\n",
       "    .dataframe tbody tr th {\n",
       "        vertical-align: top;\n",
       "    }\n",
       "\n",
       "    .dataframe thead th {\n",
       "        text-align: right;\n",
       "    }\n",
       "</style>\n",
       "<table border=\"1\" class=\"dataframe\">\n",
       "  <thead>\n",
       "    <tr style=\"text-align: right;\">\n",
       "      <th></th>\n",
       "      <th>Id</th>\n",
       "      <th>Names</th>\n",
       "      <th>Hair_Color</th>\n",
       "      <th>Gender</th>\n",
       "      <th>Tags</th>\n",
       "      <th>Anime</th>\n",
       "      <th>Manga</th>\n",
       "    </tr>\n",
       "  </thead>\n",
       "  <tbody>\n",
       "    <tr>\n",
       "      <th>count</th>\n",
       "      <td>119825.000000</td>\n",
       "      <td>119824</td>\n",
       "      <td>96059</td>\n",
       "      <td>113212</td>\n",
       "      <td>119391</td>\n",
       "      <td>104426</td>\n",
       "      <td>35540</td>\n",
       "    </tr>\n",
       "    <tr>\n",
       "      <th>unique</th>\n",
       "      <td>NaN</td>\n",
       "      <td>96411</td>\n",
       "      <td>634</td>\n",
       "      <td>7</td>\n",
       "      <td>58848</td>\n",
       "      <td>20170</td>\n",
       "      <td>6052</td>\n",
       "    </tr>\n",
       "    <tr>\n",
       "      <th>top</th>\n",
       "      <td>NaN</td>\n",
       "      <td>Narrator</td>\n",
       "      <td>Brown Hair</td>\n",
       "      <td>Male</td>\n",
       "      <td>['Adult']</td>\n",
       "      <td>['One Piece']</td>\n",
       "      <td>['One Piece']</td>\n",
       "    </tr>\n",
       "    <tr>\n",
       "      <th>freq</th>\n",
       "      <td>NaN</td>\n",
       "      <td>151</td>\n",
       "      <td>25576</td>\n",
       "      <td>62063</td>\n",
       "      <td>3132</td>\n",
       "      <td>625</td>\n",
       "      <td>669</td>\n",
       "    </tr>\n",
       "    <tr>\n",
       "      <th>mean</th>\n",
       "      <td>60575.813979</td>\n",
       "      <td>NaN</td>\n",
       "      <td>NaN</td>\n",
       "      <td>NaN</td>\n",
       "      <td>NaN</td>\n",
       "      <td>NaN</td>\n",
       "      <td>NaN</td>\n",
       "    </tr>\n",
       "    <tr>\n",
       "      <th>std</th>\n",
       "      <td>35331.953739</td>\n",
       "      <td>NaN</td>\n",
       "      <td>NaN</td>\n",
       "      <td>NaN</td>\n",
       "      <td>NaN</td>\n",
       "      <td>NaN</td>\n",
       "      <td>NaN</td>\n",
       "    </tr>\n",
       "    <tr>\n",
       "      <th>min</th>\n",
       "      <td>0.000000</td>\n",
       "      <td>NaN</td>\n",
       "      <td>NaN</td>\n",
       "      <td>NaN</td>\n",
       "      <td>NaN</td>\n",
       "      <td>NaN</td>\n",
       "      <td>NaN</td>\n",
       "    </tr>\n",
       "    <tr>\n",
       "      <th>25%</th>\n",
       "      <td>29986.000000</td>\n",
       "      <td>NaN</td>\n",
       "      <td>NaN</td>\n",
       "      <td>NaN</td>\n",
       "      <td>NaN</td>\n",
       "      <td>NaN</td>\n",
       "      <td>NaN</td>\n",
       "    </tr>\n",
       "    <tr>\n",
       "      <th>50%</th>\n",
       "      <td>60177.000000</td>\n",
       "      <td>NaN</td>\n",
       "      <td>NaN</td>\n",
       "      <td>NaN</td>\n",
       "      <td>NaN</td>\n",
       "      <td>NaN</td>\n",
       "      <td>NaN</td>\n",
       "    </tr>\n",
       "    <tr>\n",
       "      <th>75%</th>\n",
       "      <td>90877.000000</td>\n",
       "      <td>NaN</td>\n",
       "      <td>NaN</td>\n",
       "      <td>NaN</td>\n",
       "      <td>NaN</td>\n",
       "      <td>NaN</td>\n",
       "      <td>NaN</td>\n",
       "    </tr>\n",
       "    <tr>\n",
       "      <th>max</th>\n",
       "      <td>123373.000000</td>\n",
       "      <td>NaN</td>\n",
       "      <td>NaN</td>\n",
       "      <td>NaN</td>\n",
       "      <td>NaN</td>\n",
       "      <td>NaN</td>\n",
       "      <td>NaN</td>\n",
       "    </tr>\n",
       "  </tbody>\n",
       "</table>\n",
       "</div>"
      ],
      "text/plain": [
       "                   Id     Names  Hair_Color  Gender       Tags          Anime  \\\n",
       "count   119825.000000    119824       96059  113212     119391         104426   \n",
       "unique            NaN     96411         634       7      58848          20170   \n",
       "top               NaN  Narrator  Brown Hair    Male  ['Adult']  ['One Piece']   \n",
       "freq              NaN       151       25576   62063       3132            625   \n",
       "mean     60575.813979       NaN         NaN     NaN        NaN            NaN   \n",
       "std      35331.953739       NaN         NaN     NaN        NaN            NaN   \n",
       "min          0.000000       NaN         NaN     NaN        NaN            NaN   \n",
       "25%      29986.000000       NaN         NaN     NaN        NaN            NaN   \n",
       "50%      60177.000000       NaN         NaN     NaN        NaN            NaN   \n",
       "75%      90877.000000       NaN         NaN     NaN        NaN            NaN   \n",
       "max     123373.000000       NaN         NaN     NaN        NaN            NaN   \n",
       "\n",
       "                Manga  \n",
       "count           35540  \n",
       "unique           6052  \n",
       "top     ['One Piece']  \n",
       "freq              669  \n",
       "mean              NaN  \n",
       "std               NaN  \n",
       "min               NaN  \n",
       "25%               NaN  \n",
       "50%               NaN  \n",
       "75%               NaN  \n",
       "max               NaN  "
      ]
     },
     "execution_count": 5,
     "metadata": {},
     "output_type": "execute_result"
    }
   ],
   "source": [
    "df.describe(include='all')"
   ]
  },
  {
   "cell_type": "raw",
   "id": "5e57f7b9-9195-4107-aa14-14add2923362",
   "metadata": {},
   "source": [
    "'Top'(most common):\n",
    "Name: 'Narrator' => This implies there might contain many entries that aren't actual character names. \n",
    "                    Need to be removed in the data cleaning phase. \n",
    "\n",
    "Gender:'male' => This could be a skewness, which might be something the generation model could inadvertently pick up on.\n",
    "\n",
    "Hair_Color:'Brown hair' => This is not too surprising, as it's a common hair color in general.\n",
    "\n",
    "Tag: 'adult' => This seems okay, more generic 'trait' of most of the popular characters."
   ]
  },
  {
   "cell_type": "raw",
   "id": "1be3bdcc-fc2b-4695-b59c-d994aa6d622b",
   "metadata": {},
   "source": [
    "Since having NaN for important columns would mean those rows are unusable, I delete these first."
   ]
  },
  {
   "cell_type": "markdown",
   "id": "39adcbc6",
   "metadata": {},
   "source": [
    "### Remove unusable rows that miss important info for character generation"
   ]
  },
  {
   "cell_type": "code",
   "execution_count": 6,
   "id": "f337441a-5c80-4c15-8ff3-d808d5edd980",
   "metadata": {},
   "outputs": [
    {
     "data": {
      "text/html": [
       "<div>\n",
       "<style scoped>\n",
       "    .dataframe tbody tr th:only-of-type {\n",
       "        vertical-align: middle;\n",
       "    }\n",
       "\n",
       "    .dataframe tbody tr th {\n",
       "        vertical-align: top;\n",
       "    }\n",
       "\n",
       "    .dataframe thead th {\n",
       "        text-align: right;\n",
       "    }\n",
       "</style>\n",
       "<table border=\"1\" class=\"dataframe\">\n",
       "  <thead>\n",
       "    <tr style=\"text-align: right;\">\n",
       "      <th></th>\n",
       "      <th>Id</th>\n",
       "      <th>Names</th>\n",
       "      <th>Hair_Color</th>\n",
       "      <th>Gender</th>\n",
       "      <th>Tags</th>\n",
       "      <th>Anime</th>\n",
       "      <th>Manga</th>\n",
       "    </tr>\n",
       "  </thead>\n",
       "  <tbody>\n",
       "    <tr>\n",
       "      <th>2114</th>\n",
       "      <td>2114</td>\n",
       "      <td>Evangelion Unit 01</td>\n",
       "      <td>Evangelion: 2.0 You Can (Not) Advance</td>\n",
       "      <td>NaN</td>\n",
       "      <td>NaN</td>\n",
       "      <td>NaN</td>\n",
       "      <td>NaN</td>\n",
       "    </tr>\n",
       "    <tr>\n",
       "      <th>3847</th>\n",
       "      <td>3847</td>\n",
       "      <td>Evangelion Unit 02</td>\n",
       "      <td>Evangelion: 3.0 You Can (Not) Redo</td>\n",
       "      <td>NaN</td>\n",
       "      <td>NaN</td>\n",
       "      <td>NaN</td>\n",
       "      <td>NaN</td>\n",
       "    </tr>\n",
       "    <tr>\n",
       "      <th>4315</th>\n",
       "      <td>4315</td>\n",
       "      <td>Evangelion Unit 00</td>\n",
       "      <td>Evangelion: 2.0 You Can (Not) Advance</td>\n",
       "      <td>NaN</td>\n",
       "      <td>NaN</td>\n",
       "      <td>NaN</td>\n",
       "      <td>NaN</td>\n",
       "    </tr>\n",
       "    <tr>\n",
       "      <th>14155</th>\n",
       "      <td>14160</td>\n",
       "      <td>Narrator</td>\n",
       "      <td>Pokemon Advanced</td>\n",
       "      <td>NaN</td>\n",
       "      <td>NaN</td>\n",
       "      <td>NaN</td>\n",
       "      <td>NaN</td>\n",
       "    </tr>\n",
       "    <tr>\n",
       "      <th>14678</th>\n",
       "      <td>14683</td>\n",
       "      <td>Evangelion Unit 03</td>\n",
       "      <td>Neon Genesis Evangelion</td>\n",
       "      <td>NaN</td>\n",
       "      <td>NaN</td>\n",
       "      <td>NaN</td>\n",
       "      <td>NaN</td>\n",
       "    </tr>\n",
       "    <tr>\n",
       "      <th>...</th>\n",
       "      <td>...</td>\n",
       "      <td>...</td>\n",
       "      <td>...</td>\n",
       "      <td>...</td>\n",
       "      <td>...</td>\n",
       "      <td>...</td>\n",
       "      <td>...</td>\n",
       "    </tr>\n",
       "    <tr>\n",
       "      <th>119507</th>\n",
       "      <td>122997</td>\n",
       "      <td>Tetsunosuke</td>\n",
       "      <td>B-Legend! Battle B-Daman Fire Spirits!</td>\n",
       "      <td>NaN</td>\n",
       "      <td>NaN</td>\n",
       "      <td>NaN</td>\n",
       "      <td>NaN</td>\n",
       "    </tr>\n",
       "    <tr>\n",
       "      <th>119513</th>\n",
       "      <td>123005</td>\n",
       "      <td>West</td>\n",
       "      <td>Denkou Chou Tokkyuu Hikarian</td>\n",
       "      <td>NaN</td>\n",
       "      <td>NaN</td>\n",
       "      <td>NaN</td>\n",
       "      <td>NaN</td>\n",
       "    </tr>\n",
       "    <tr>\n",
       "      <th>119703</th>\n",
       "      <td>123220</td>\n",
       "      <td>Rita</td>\n",
       "      <td>Dirty Pair: Project Eden</td>\n",
       "      <td>NaN</td>\n",
       "      <td>NaN</td>\n",
       "      <td>NaN</td>\n",
       "      <td>NaN</td>\n",
       "    </tr>\n",
       "    <tr>\n",
       "      <th>119704</th>\n",
       "      <td>123222</td>\n",
       "      <td>Miraruda</td>\n",
       "      <td>Dirty Pair: Project Eden</td>\n",
       "      <td>NaN</td>\n",
       "      <td>NaN</td>\n",
       "      <td>NaN</td>\n",
       "      <td>NaN</td>\n",
       "    </tr>\n",
       "    <tr>\n",
       "      <th>119772</th>\n",
       "      <td>123308</td>\n",
       "      <td>Miki</td>\n",
       "      <td>\"Bungaku Shoujo\" Movie</td>\n",
       "      <td>NaN</td>\n",
       "      <td>NaN</td>\n",
       "      <td>NaN</td>\n",
       "      <td>NaN</td>\n",
       "    </tr>\n",
       "  </tbody>\n",
       "</table>\n",
       "<p>434 rows × 7 columns</p>\n",
       "</div>"
      ],
      "text/plain": [
       "            Id               Names                              Hair_Color  \\\n",
       "2114      2114  Evangelion Unit 01   Evangelion: 2.0 You Can (Not) Advance   \n",
       "3847      3847  Evangelion Unit 02      Evangelion: 3.0 You Can (Not) Redo   \n",
       "4315      4315  Evangelion Unit 00   Evangelion: 2.0 You Can (Not) Advance   \n",
       "14155    14160            Narrator                        Pokemon Advanced   \n",
       "14678    14683  Evangelion Unit 03                 Neon Genesis Evangelion   \n",
       "...        ...                 ...                                     ...   \n",
       "119507  122997         Tetsunosuke  B-Legend! Battle B-Daman Fire Spirits!   \n",
       "119513  123005                West            Denkou Chou Tokkyuu Hikarian   \n",
       "119703  123220                Rita                Dirty Pair: Project Eden   \n",
       "119704  123222            Miraruda                Dirty Pair: Project Eden   \n",
       "119772  123308                Miki                  \"Bungaku Shoujo\" Movie   \n",
       "\n",
       "       Gender Tags Anime Manga  \n",
       "2114      NaN  NaN   NaN   NaN  \n",
       "3847      NaN  NaN   NaN   NaN  \n",
       "4315      NaN  NaN   NaN   NaN  \n",
       "14155     NaN  NaN   NaN   NaN  \n",
       "14678     NaN  NaN   NaN   NaN  \n",
       "...       ...  ...   ...   ...  \n",
       "119507    NaN  NaN   NaN   NaN  \n",
       "119513    NaN  NaN   NaN   NaN  \n",
       "119703    NaN  NaN   NaN   NaN  \n",
       "119704    NaN  NaN   NaN   NaN  \n",
       "119772    NaN  NaN   NaN   NaN  \n",
       "\n",
       "[434 rows x 7 columns]"
      ]
     },
     "execution_count": 6,
     "metadata": {},
     "output_type": "execute_result"
    }
   ],
   "source": [
    "important_col = ['Tags', 'Anime']\n",
    "\n",
    "# Select only the important columns\n",
    "important_df = df[important_col]\n",
    "\n",
    "# Check for null values in these columns\n",
    "isnull_important = important_df.isnull()\n",
    "\n",
    "# Select the rows where all important columns are null\n",
    "all_null_mask = isnull_important.all(axis=1)\n",
    "all_null_rows = df[all_null_mask]\n",
    "\n",
    "all_null_rows"
   ]
  },
  {
   "cell_type": "raw",
   "id": "326e6484-bf86-4faf-8e31-33f3b8149eb8",
   "metadata": {},
   "source": [
    "=> Since these rows do not have useful features for character generation, we delete these."
   ]
  },
  {
   "cell_type": "code",
   "execution_count": 7,
   "id": "abb74b8b-4714-4a0c-a0bc-634507292ed2",
   "metadata": {},
   "outputs": [
    {
     "name": "stdout",
     "output_type": "stream",
     "text": [
      "Shape of DataFrame after dropping: (119391, 7)\n"
     ]
    }
   ],
   "source": [
    "# Get the index of the rows to drop\n",
    "indices_to_drop = all_null_rows.index\n",
    "\n",
    "df_cleaned = df.drop(indices_to_drop)\n",
    "\n",
    "print(f\"Shape of DataFrame after dropping: {df_cleaned.shape}\")\n",
    "\n",
    "# Update the main DataFrame 'df' with the cleaned version\n",
    "df = df_cleaned"
   ]
  },
  {
   "cell_type": "code",
   "execution_count": 8,
   "id": "56cfea58-fd4f-4ac2-adfc-40033ed577e4",
   "metadata": {},
   "outputs": [],
   "source": [
    "df.to_pickle('df_cleaned_missing_tag_and_anime.pkl')"
   ]
  },
  {
   "cell_type": "markdown",
   "id": "63bf6d22-efb9-4b8b-b5ec-b3314900c688",
   "metadata": {},
   "source": [
    "## Keeping the rows that match the anime titles included in Top 15000 Anime Dataset. "
   ]
  },
  {
   "cell_type": "markdown",
   "id": "440c3aca-2116-49ab-bf07-035302ff0f8e",
   "metadata": {},
   "source": [
    "### Converting the Anime titles into a list"
   ]
  },
  {
   "cell_type": "code",
   "execution_count": null,
   "id": "4eb75b7b-2626-46ee-adac-b10e35eaa590",
   "metadata": {},
   "outputs": [],
   "source": [
    "# importing the ast module\n",
    "import ast\n",
    "\n",
    "def safe_eval(val):\n",
    "    try:\n",
    "        # ast.literal_eval() converts a string to a Python list\n",
    "        return ast.literal_eval(val)\n",
    "    except (ValueError, SyntaxError):\n",
    "        return None \n",
    "        \n",
    "# Converts the anime titles in the Anime column then enter them into Anime_List column \n",
    "df['Anime_List'] = df['Anime'].apply(safe_eval)"
   ]
  },
  {
   "cell_type": "code",
   "execution_count": 10,
   "id": "6b412ad1-a24f-470b-ad66-40c761ffb19d",
   "metadata": {},
   "outputs": [
    {
     "data": {
      "text/plain": [
       "(14965, 8)"
      ]
     },
     "execution_count": 10,
     "metadata": {},
     "output_type": "execute_result"
    }
   ],
   "source": [
    "# Checks how many rows failed to be converted into a list\n",
    "failed_rows = df[df['Anime_List'].isnull()]\n",
    "failed_rows.shape"
   ]
  },
  {
   "cell_type": "code",
   "execution_count": 11,
   "id": "da2c9791-d59b-4f72-8a77-c04830ae85e6",
   "metadata": {},
   "outputs": [
    {
     "data": {
      "text/html": [
       "<div>\n",
       "<style scoped>\n",
       "    .dataframe tbody tr th:only-of-type {\n",
       "        vertical-align: middle;\n",
       "    }\n",
       "\n",
       "    .dataframe tbody tr th {\n",
       "        vertical-align: top;\n",
       "    }\n",
       "\n",
       "    .dataframe thead th {\n",
       "        text-align: right;\n",
       "    }\n",
       "</style>\n",
       "<table border=\"1\" class=\"dataframe\">\n",
       "  <thead>\n",
       "    <tr style=\"text-align: right;\">\n",
       "      <th></th>\n",
       "      <th>Id</th>\n",
       "      <th>Names</th>\n",
       "      <th>Hair_Color</th>\n",
       "      <th>Gender</th>\n",
       "      <th>Tags</th>\n",
       "      <th>Anime</th>\n",
       "      <th>Manga</th>\n",
       "      <th>Anime_List</th>\n",
       "    </tr>\n",
       "  </thead>\n",
       "  <tbody>\n",
       "    <tr>\n",
       "      <th>381</th>\n",
       "      <td>381</td>\n",
       "      <td>Truck-kun</td>\n",
       "      <td>A Dark Rabbit Has Seven Lives</td>\n",
       "      <td>NaN</td>\n",
       "      <td>['1-nen A-gumi no Monster', 'Accomplishments o...</td>\n",
       "      <td>NaN</td>\n",
       "      <td>NaN</td>\n",
       "      <td>None</td>\n",
       "    </tr>\n",
       "    <tr>\n",
       "      <th>1584</th>\n",
       "      <td>1584</td>\n",
       "      <td>Hyourinmaru</td>\n",
       "      <td>Turquoise Hair</td>\n",
       "      <td>Male</td>\n",
       "      <td>['Bleach']</td>\n",
       "      <td>NaN</td>\n",
       "      <td>NaN</td>\n",
       "      <td>None</td>\n",
       "    </tr>\n",
       "    <tr>\n",
       "      <th>1802</th>\n",
       "      <td>1802</td>\n",
       "      <td>Sode no Shirayuki</td>\n",
       "      <td>White Hair</td>\n",
       "      <td>Female</td>\n",
       "      <td>['Bleach']</td>\n",
       "      <td>NaN</td>\n",
       "      <td>NaN</td>\n",
       "      <td>None</td>\n",
       "    </tr>\n",
       "    <tr>\n",
       "      <th>1849</th>\n",
       "      <td>1849</td>\n",
       "      <td>Misty's Togepi</td>\n",
       "      <td>NaN</td>\n",
       "      <td>NaN</td>\n",
       "      <td>['Pokemon', 'Pokemon Advanced', 'Pokemon: Camp...</td>\n",
       "      <td>NaN</td>\n",
       "      <td>NaN</td>\n",
       "      <td>None</td>\n",
       "    </tr>\n",
       "    <tr>\n",
       "      <th>2529</th>\n",
       "      <td>2529</td>\n",
       "      <td>Tachikoma</td>\n",
       "      <td>Robot</td>\n",
       "      <td>NaN</td>\n",
       "      <td>['Ghost in the Shell: SAC_2045', 'Ghost in the...</td>\n",
       "      <td>NaN</td>\n",
       "      <td>NaN</td>\n",
       "      <td>None</td>\n",
       "    </tr>\n",
       "    <tr>\n",
       "      <th>...</th>\n",
       "      <td>...</td>\n",
       "      <td>...</td>\n",
       "      <td>...</td>\n",
       "      <td>...</td>\n",
       "      <td>...</td>\n",
       "      <td>...</td>\n",
       "      <td>...</td>\n",
       "      <td>...</td>\n",
       "    </tr>\n",
       "    <tr>\n",
       "      <th>119813</th>\n",
       "      <td>123357</td>\n",
       "      <td>Kitajima</td>\n",
       "      <td>Black Hair</td>\n",
       "      <td>Male</td>\n",
       "      <td>['A Town Where You Live (2014)']</td>\n",
       "      <td>NaN</td>\n",
       "      <td>NaN</td>\n",
       "      <td>None</td>\n",
       "    </tr>\n",
       "    <tr>\n",
       "      <th>119814</th>\n",
       "      <td>123358</td>\n",
       "      <td>Nakashiki</td>\n",
       "      <td>Brown Hair</td>\n",
       "      <td>Female</td>\n",
       "      <td>['A Town Where You Live (2014)']</td>\n",
       "      <td>NaN</td>\n",
       "      <td>NaN</td>\n",
       "      <td>None</td>\n",
       "    </tr>\n",
       "    <tr>\n",
       "      <th>119818</th>\n",
       "      <td>123367</td>\n",
       "      <td>Narrator</td>\n",
       "      <td>NaN</td>\n",
       "      <td>Male</td>\n",
       "      <td>['Gasshin Sentai Mechander Robo']</td>\n",
       "      <td>NaN</td>\n",
       "      <td>NaN</td>\n",
       "      <td>None</td>\n",
       "    </tr>\n",
       "    <tr>\n",
       "      <th>119820</th>\n",
       "      <td>123369</td>\n",
       "      <td>Narrator</td>\n",
       "      <td>NaN</td>\n",
       "      <td>Male</td>\n",
       "      <td>['Gold Lightan: Golden Warrior']</td>\n",
       "      <td>NaN</td>\n",
       "      <td>NaN</td>\n",
       "      <td>None</td>\n",
       "    </tr>\n",
       "    <tr>\n",
       "      <th>119824</th>\n",
       "      <td>123373</td>\n",
       "      <td>Haruko HIRIKOMA</td>\n",
       "      <td>NaN</td>\n",
       "      <td>Female</td>\n",
       "      <td>['Helter Skelter: Fashion Unfriendly']</td>\n",
       "      <td>NaN</td>\n",
       "      <td>NaN</td>\n",
       "      <td>None</td>\n",
       "    </tr>\n",
       "  </tbody>\n",
       "</table>\n",
       "<p>14965 rows × 8 columns</p>\n",
       "</div>"
      ],
      "text/plain": [
       "            Id              Names                     Hair_Color  Gender  \\\n",
       "381        381          Truck-kun  A Dark Rabbit Has Seven Lives     NaN   \n",
       "1584      1584        Hyourinmaru                 Turquoise Hair    Male   \n",
       "1802      1802  Sode no Shirayuki                     White Hair  Female   \n",
       "1849      1849     Misty's Togepi                            NaN     NaN   \n",
       "2529      2529          Tachikoma                          Robot     NaN   \n",
       "...        ...                ...                            ...     ...   \n",
       "119813  123357           Kitajima                     Black Hair    Male   \n",
       "119814  123358          Nakashiki                     Brown Hair  Female   \n",
       "119818  123367           Narrator                            NaN    Male   \n",
       "119820  123369           Narrator                            NaN    Male   \n",
       "119824  123373    Haruko HIRIKOMA                            NaN  Female   \n",
       "\n",
       "                                                     Tags Anime Manga  \\\n",
       "381     ['1-nen A-gumi no Monster', 'Accomplishments o...   NaN   NaN   \n",
       "1584                                           ['Bleach']   NaN   NaN   \n",
       "1802                                           ['Bleach']   NaN   NaN   \n",
       "1849    ['Pokemon', 'Pokemon Advanced', 'Pokemon: Camp...   NaN   NaN   \n",
       "2529    ['Ghost in the Shell: SAC_2045', 'Ghost in the...   NaN   NaN   \n",
       "...                                                   ...   ...   ...   \n",
       "119813                   ['A Town Where You Live (2014)']   NaN   NaN   \n",
       "119814                   ['A Town Where You Live (2014)']   NaN   NaN   \n",
       "119818                  ['Gasshin Sentai Mechander Robo']   NaN   NaN   \n",
       "119820                   ['Gold Lightan: Golden Warrior']   NaN   NaN   \n",
       "119824             ['Helter Skelter: Fashion Unfriendly']   NaN   NaN   \n",
       "\n",
       "       Anime_List  \n",
       "381          None  \n",
       "1584         None  \n",
       "1802         None  \n",
       "1849         None  \n",
       "2529         None  \n",
       "...           ...  \n",
       "119813       None  \n",
       "119814       None  \n",
       "119818       None  \n",
       "119820       None  \n",
       "119824       None  \n",
       "\n",
       "[14965 rows x 8 columns]"
      ]
     },
     "execution_count": 11,
     "metadata": {},
     "output_type": "execute_result"
    }
   ],
   "source": [
    "# Checks how many rows are null within these failed rows\n",
    "anime_missing = failed_rows[failed_rows['Anime'].isnull()]\n",
    "anime_missing"
   ]
  },
  {
   "cell_type": "raw",
   "id": "c703b4dd-e747-4ea5-9420-6d7c6806e620",
   "metadata": {},
   "source": [
    "=> The failed rows basically had null values in the Anime\n",
    "=> We can remove these rows"
   ]
  },
  {
   "cell_type": "code",
   "execution_count": 12,
   "id": "3a653d6a-40d8-42d5-a417-35b635c81e92",
   "metadata": {},
   "outputs": [],
   "source": [
    "# Only keep the ones that have anime titles in Anime_List column and reindex the dataframe\n",
    "df = df[df['Anime_List'].notnull()].reset_index(drop=True)"
   ]
  },
  {
   "cell_type": "code",
   "execution_count": 13,
   "id": "f3f54cef-dc65-4057-ae00-f89178d552ca",
   "metadata": {},
   "outputs": [
    {
     "data": {
      "text/plain": [
       "104426"
      ]
     },
     "execution_count": 13,
     "metadata": {},
     "output_type": "execute_result"
    }
   ],
   "source": [
    "current_length = df.shape[0]\n",
    "current_length"
   ]
  },
  {
   "cell_type": "raw",
   "id": "9ca307eb-f717-4d7f-b532-3032de8e879a",
   "metadata": {},
   "source": [
    "=> Current df has 104426 (previously 119391 - null Anime 14965 = 104426) "
   ]
  },
  {
   "cell_type": "code",
   "execution_count": 14,
   "id": "181d52ad-1ec9-43f6-8443-a2d2e65c503e",
   "metadata": {},
   "outputs": [],
   "source": [
    "df.to_pickle('df_cleaned_null_anime.pkl')"
   ]
  },
  {
   "cell_type": "markdown",
   "id": "59d408c2-aab7-44d7-833e-7253c76ec151",
   "metadata": {},
   "source": [
    "## Merge the Character Trait dataset with Top15000 Anime dataset"
   ]
  },
  {
   "cell_type": "markdown",
   "id": "087bc8b7-d973-4128-ac17-1a01c81664e8",
   "metadata": {},
   "source": [
    "### Load Top 15000 Anime Dataset"
   ]
  },
  {
   "cell_type": "code",
   "execution_count": 15,
   "id": "69203006-075c-4380-a876-fb6f4a9f42ca",
   "metadata": {},
   "outputs": [],
   "source": [
    "top15000_df = pd.read_csv('top_anime_dataset_cleaned_inappropriate_rows.csv')"
   ]
  },
  {
   "cell_type": "code",
   "execution_count": 16,
   "id": "315bcae8-26b9-4c28-9eb7-a881f86964ad",
   "metadata": {},
   "outputs": [
    {
     "name": "stdout",
     "output_type": "stream",
     "text": [
      "<class 'pandas.core.frame.DataFrame'>\n",
      "RangeIndex: 13272 entries, 0 to 13271\n",
      "Data columns (total 24 columns):\n",
      " #   Column          Non-Null Count  Dtype  \n",
      "---  ------          --------------  -----  \n",
      " 0   anime_id        13272 non-null  int64  \n",
      " 1   anime_url       13272 non-null  object \n",
      " 2   image_url       13272 non-null  object \n",
      " 3   name            13272 non-null  object \n",
      " 4   english_name    7738 non-null   object \n",
      " 5   japanese_names  13229 non-null  object \n",
      " 6   score           13272 non-null  float64\n",
      " 7   genres          11743 non-null  object \n",
      " 8   themes          9436 non-null   object \n",
      " 9   demographics    4265 non-null   object \n",
      " 10  synopsis        13272 non-null  object \n",
      " 11  type            13271 non-null  object \n",
      " 12  episodes        13210 non-null  float64\n",
      " 13  premiered       4612 non-null   object \n",
      " 14  producers       8344 non-null   object \n",
      " 15  studios         11072 non-null  object \n",
      " 16  source          13272 non-null  object \n",
      " 17  duration        13272 non-null  object \n",
      " 18  rating          13206 non-null  object \n",
      " 19  rank            11465 non-null  float64\n",
      " 20  popularity      13272 non-null  int64  \n",
      " 21  favorites       13272 non-null  int64  \n",
      " 22  scored_by       13272 non-null  int64  \n",
      " 23  members         13272 non-null  int64  \n",
      "dtypes: float64(3), int64(5), object(16)\n",
      "memory usage: 2.4+ MB\n"
     ]
    }
   ],
   "source": [
    "top15000_df.info()"
   ]
  },
  {
   "cell_type": "code",
   "execution_count": 17,
   "id": "132d46f3-eb72-453b-84a9-5cff416deec4",
   "metadata": {},
   "outputs": [
    {
     "data": {
      "text/plain": [
       "13272"
      ]
     },
     "execution_count": 17,
     "metadata": {},
     "output_type": "execute_result"
    }
   ],
   "source": [
    "original_top_anime_length = top15000_df.shape[0]\n",
    "original_top_anime_length"
   ]
  },
  {
   "cell_type": "raw",
   "id": "1477ea3a-1ca4-46b9-a409-6c3da9727ebf",
   "metadata": {},
   "source": [
    "=> I noticed that the titles in the 'name' has the original title and 'english_name' has the US version, which we'd like to use. However, when the title is the same, the 'english_name' is not filled in some rows.\n",
    "=> I need to create a merged_title column from this dataset so that either one of them can match the title in the Character Trait dataset"
   ]
  },
  {
   "cell_type": "code",
   "execution_count": 18,
   "id": "32fdf066-4e97-4990-86f9-595bd0c7b1d5",
   "metadata": {},
   "outputs": [],
   "source": [
    "# Create a new column with english_name if available, else fallback to name\n",
    "top15000_df['Merged_Title'] = top15000_df['english_name'].fillna(top15000_df['name'])\n",
    "# Removes spaces and lower-case them \n",
    "top15000_df['Cleaned_Title'] = top15000_df['Merged_Title'].str.strip().str.lower()"
   ]
  },
  {
   "cell_type": "code",
   "execution_count": 19,
   "id": "0aba4e00-92e4-4760-9fa5-94c65ecab5eb",
   "metadata": {},
   "outputs": [],
   "source": [
    "# Create a trimmed synopsis_df using these cleaned values\n",
    "synopsis_df = top15000_df[['Merged_Title', 'synopsis', 'Cleaned_Title']].copy()"
   ]
  },
  {
   "cell_type": "markdown",
   "id": "398b6af9-b610-4454-b29c-f7b431265021",
   "metadata": {},
   "source": [
    "### Create the dataframe where each anime title is in 1 row"
   ]
  },
  {
   "cell_type": "code",
   "execution_count": 20,
   "id": "7e8f817e-a27c-4a39-9b91-2ff803af8faf",
   "metadata": {},
   "outputs": [],
   "source": [
    "# .explode() can transform each element of a list-like to a row, replicating index values. \n",
    "df_exploded = df.explode('Anime_List').reset_index(drop=True)"
   ]
  },
  {
   "cell_type": "code",
   "execution_count": 21,
   "id": "4d1a8ffc-d977-4ca3-87f2-df3f91eb2fb0",
   "metadata": {},
   "outputs": [
    {
     "data": {
      "text/html": [
       "<div>\n",
       "<style scoped>\n",
       "    .dataframe tbody tr th:only-of-type {\n",
       "        vertical-align: middle;\n",
       "    }\n",
       "\n",
       "    .dataframe tbody tr th {\n",
       "        vertical-align: top;\n",
       "    }\n",
       "\n",
       "    .dataframe thead th {\n",
       "        text-align: right;\n",
       "    }\n",
       "</style>\n",
       "<table border=\"1\" class=\"dataframe\">\n",
       "  <thead>\n",
       "    <tr style=\"text-align: right;\">\n",
       "      <th></th>\n",
       "      <th>Id</th>\n",
       "      <th>Names</th>\n",
       "      <th>Hair_Color</th>\n",
       "      <th>Gender</th>\n",
       "      <th>Tags</th>\n",
       "      <th>Anime</th>\n",
       "      <th>Manga</th>\n",
       "      <th>Anime_List</th>\n",
       "    </tr>\n",
       "  </thead>\n",
       "  <tbody>\n",
       "    <tr>\n",
       "      <th>0</th>\n",
       "      <td>0</td>\n",
       "      <td>L</td>\n",
       "      <td>Black Hair</td>\n",
       "      <td>Male</td>\n",
       "      <td>['Analytical', 'Barefoot', 'Detective', 'Eye B...</td>\n",
       "      <td>['Death Note', 'Death Note Rewrite 1: Visions ...</td>\n",
       "      <td>['Death Note', 'Death Note: L Change the World...</td>\n",
       "      <td>Death Note</td>\n",
       "    </tr>\n",
       "    <tr>\n",
       "      <th>1</th>\n",
       "      <td>0</td>\n",
       "      <td>L</td>\n",
       "      <td>Black Hair</td>\n",
       "      <td>Male</td>\n",
       "      <td>['Analytical', 'Barefoot', 'Detective', 'Eye B...</td>\n",
       "      <td>['Death Note', 'Death Note Rewrite 1: Visions ...</td>\n",
       "      <td>['Death Note', 'Death Note: L Change the World...</td>\n",
       "      <td>Death Note Rewrite 1: Visions of a God</td>\n",
       "    </tr>\n",
       "    <tr>\n",
       "      <th>2</th>\n",
       "      <td>0</td>\n",
       "      <td>L</td>\n",
       "      <td>Black Hair</td>\n",
       "      <td>Male</td>\n",
       "      <td>['Analytical', 'Barefoot', 'Detective', 'Eye B...</td>\n",
       "      <td>['Death Note', 'Death Note Rewrite 1: Visions ...</td>\n",
       "      <td>['Death Note', 'Death Note: L Change the World...</td>\n",
       "      <td>Death Note Rewrite 2: L's Successors</td>\n",
       "    </tr>\n",
       "    <tr>\n",
       "      <th>3</th>\n",
       "      <td>1</td>\n",
       "      <td>Kakashi HATAKE</td>\n",
       "      <td>Grey Hair</td>\n",
       "      <td>Male</td>\n",
       "      <td>['Adult', 'Anti-Gravity Hair', 'Beastmaster', ...</td>\n",
       "      <td>['Boruto: Naruto Next Generations', 'Boruto: N...</td>\n",
       "      <td>['Boruto: Naruto the Movie Tokubetsu Bangai-he...</td>\n",
       "      <td>Boruto: Naruto Next Generations</td>\n",
       "    </tr>\n",
       "    <tr>\n",
       "      <th>4</th>\n",
       "      <td>1</td>\n",
       "      <td>Kakashi HATAKE</td>\n",
       "      <td>Grey Hair</td>\n",
       "      <td>Male</td>\n",
       "      <td>['Adult', 'Anti-Gravity Hair', 'Beastmaster', ...</td>\n",
       "      <td>['Boruto: Naruto Next Generations', 'Boruto: N...</td>\n",
       "      <td>['Boruto: Naruto the Movie Tokubetsu Bangai-he...</td>\n",
       "      <td>Boruto: Naruto the Movie</td>\n",
       "    </tr>\n",
       "    <tr>\n",
       "      <th>...</th>\n",
       "      <td>...</td>\n",
       "      <td>...</td>\n",
       "      <td>...</td>\n",
       "      <td>...</td>\n",
       "      <td>...</td>\n",
       "      <td>...</td>\n",
       "      <td>...</td>\n",
       "      <td>...</td>\n",
       "    </tr>\n",
       "    <tr>\n",
       "      <th>175109</th>\n",
       "      <td>123366</td>\n",
       "      <td>Pyonkichi</td>\n",
       "      <td>NaN</td>\n",
       "      <td>Male</td>\n",
       "      <td>['Animal', 'Frog']</td>\n",
       "      <td>['Dokonjou Gaeru', 'Shin Dokonjou Gaeru', 'Shi...</td>\n",
       "      <td>['The Gutsy Frog']</td>\n",
       "      <td>Shin Dokonjou Gaeru: Dokonjou Yumemakura</td>\n",
       "    </tr>\n",
       "    <tr>\n",
       "      <th>175110</th>\n",
       "      <td>123368</td>\n",
       "      <td>Gideon LEE</td>\n",
       "      <td>Brown Hair</td>\n",
       "      <td>Male</td>\n",
       "      <td>['Facial Hair', 'Glasses']</td>\n",
       "      <td>['The Good Witch of the West']</td>\n",
       "      <td>NaN</td>\n",
       "      <td>The Good Witch of the West</td>\n",
       "    </tr>\n",
       "    <tr>\n",
       "      <th>175111</th>\n",
       "      <td>123370</td>\n",
       "      <td>Aoi</td>\n",
       "      <td>Purple Hair</td>\n",
       "      <td>Female</td>\n",
       "      <td>['Editor', 'Hair Antenna']</td>\n",
       "      <td>['Kemeko Deluxe!']</td>\n",
       "      <td>['Kemeko DX!']</td>\n",
       "      <td>Kemeko Deluxe!</td>\n",
       "    </tr>\n",
       "    <tr>\n",
       "      <th>175112</th>\n",
       "      <td>123371</td>\n",
       "      <td>Kiriko</td>\n",
       "      <td>Black Hair</td>\n",
       "      <td>Female</td>\n",
       "      <td>['Eye Patch', 'Robot', 'Rosy Cheeks']</td>\n",
       "      <td>['Kemeko Deluxe!']</td>\n",
       "      <td>['Kemeko DX!']</td>\n",
       "      <td>Kemeko Deluxe!</td>\n",
       "    </tr>\n",
       "    <tr>\n",
       "      <th>175113</th>\n",
       "      <td>123372</td>\n",
       "      <td>Ryouta MINAMINO</td>\n",
       "      <td>Blonde Hair</td>\n",
       "      <td>Male</td>\n",
       "      <td>['Anti-Gravity Hair', 'Glasses', 'Headband']</td>\n",
       "      <td>['Kemeko Deluxe!']</td>\n",
       "      <td>['Kemeko DX!']</td>\n",
       "      <td>Kemeko Deluxe!</td>\n",
       "    </tr>\n",
       "  </tbody>\n",
       "</table>\n",
       "<p>175114 rows × 8 columns</p>\n",
       "</div>"
      ],
      "text/plain": [
       "            Id            Names   Hair_Color  Gender  \\\n",
       "0            0                L   Black Hair    Male   \n",
       "1            0                L   Black Hair    Male   \n",
       "2            0                L   Black Hair    Male   \n",
       "3            1   Kakashi HATAKE    Grey Hair    Male   \n",
       "4            1   Kakashi HATAKE    Grey Hair    Male   \n",
       "...        ...              ...          ...     ...   \n",
       "175109  123366        Pyonkichi          NaN    Male   \n",
       "175110  123368       Gideon LEE   Brown Hair    Male   \n",
       "175111  123370              Aoi  Purple Hair  Female   \n",
       "175112  123371           Kiriko   Black Hair  Female   \n",
       "175113  123372  Ryouta MINAMINO  Blonde Hair    Male   \n",
       "\n",
       "                                                     Tags  \\\n",
       "0       ['Analytical', 'Barefoot', 'Detective', 'Eye B...   \n",
       "1       ['Analytical', 'Barefoot', 'Detective', 'Eye B...   \n",
       "2       ['Analytical', 'Barefoot', 'Detective', 'Eye B...   \n",
       "3       ['Adult', 'Anti-Gravity Hair', 'Beastmaster', ...   \n",
       "4       ['Adult', 'Anti-Gravity Hair', 'Beastmaster', ...   \n",
       "...                                                   ...   \n",
       "175109                                 ['Animal', 'Frog']   \n",
       "175110                         ['Facial Hair', 'Glasses']   \n",
       "175111                         ['Editor', 'Hair Antenna']   \n",
       "175112              ['Eye Patch', 'Robot', 'Rosy Cheeks']   \n",
       "175113       ['Anti-Gravity Hair', 'Glasses', 'Headband']   \n",
       "\n",
       "                                                    Anime  \\\n",
       "0       ['Death Note', 'Death Note Rewrite 1: Visions ...   \n",
       "1       ['Death Note', 'Death Note Rewrite 1: Visions ...   \n",
       "2       ['Death Note', 'Death Note Rewrite 1: Visions ...   \n",
       "3       ['Boruto: Naruto Next Generations', 'Boruto: N...   \n",
       "4       ['Boruto: Naruto Next Generations', 'Boruto: N...   \n",
       "...                                                   ...   \n",
       "175109  ['Dokonjou Gaeru', 'Shin Dokonjou Gaeru', 'Shi...   \n",
       "175110                     ['The Good Witch of the West']   \n",
       "175111                                 ['Kemeko Deluxe!']   \n",
       "175112                                 ['Kemeko Deluxe!']   \n",
       "175113                                 ['Kemeko Deluxe!']   \n",
       "\n",
       "                                                    Manga  \\\n",
       "0       ['Death Note', 'Death Note: L Change the World...   \n",
       "1       ['Death Note', 'Death Note: L Change the World...   \n",
       "2       ['Death Note', 'Death Note: L Change the World...   \n",
       "3       ['Boruto: Naruto the Movie Tokubetsu Bangai-he...   \n",
       "4       ['Boruto: Naruto the Movie Tokubetsu Bangai-he...   \n",
       "...                                                   ...   \n",
       "175109                                 ['The Gutsy Frog']   \n",
       "175110                                                NaN   \n",
       "175111                                     ['Kemeko DX!']   \n",
       "175112                                     ['Kemeko DX!']   \n",
       "175113                                     ['Kemeko DX!']   \n",
       "\n",
       "                                      Anime_List  \n",
       "0                                     Death Note  \n",
       "1         Death Note Rewrite 1: Visions of a God  \n",
       "2           Death Note Rewrite 2: L's Successors  \n",
       "3                Boruto: Naruto Next Generations  \n",
       "4                       Boruto: Naruto the Movie  \n",
       "...                                          ...  \n",
       "175109  Shin Dokonjou Gaeru: Dokonjou Yumemakura  \n",
       "175110                The Good Witch of the West  \n",
       "175111                            Kemeko Deluxe!  \n",
       "175112                            Kemeko Deluxe!  \n",
       "175113                            Kemeko Deluxe!  \n",
       "\n",
       "[175114 rows x 8 columns]"
      ]
     },
     "execution_count": 21,
     "metadata": {},
     "output_type": "execute_result"
    }
   ],
   "source": [
    "df_exploded"
   ]
  },
  {
   "cell_type": "code",
   "execution_count": 22,
   "id": "cfd30dea-789c-484c-82aa-e1f5fa2b35e1",
   "metadata": {},
   "outputs": [],
   "source": [
    "# clean up the titles after exploded so that they are lower-case without any unnecessary spaces\n",
    "df_exploded['Cleaned_Anime_Title'] = df_exploded['Anime_List'].str.strip().str.lower()"
   ]
  },
  {
   "cell_type": "code",
   "execution_count": 23,
   "id": "7a589e0d-a4b7-4bc6-b6f3-37dccdd4bf89",
   "metadata": {},
   "outputs": [],
   "source": [
    "merged_df = df_exploded.merge(\n",
    "    synopsis_df,\n",
    "    left_on='Cleaned_Anime_Title',\n",
    "    right_on='Cleaned_Title',\n",
    "    how='left' # use 'left' since we want to keep all characters even if unmatched\n",
    ")"
   ]
  },
  {
   "cell_type": "code",
   "execution_count": 24,
   "id": "6ba23dbe-80f2-441a-934b-bf360c87e644",
   "metadata": {},
   "outputs": [
    {
     "data": {
      "text/plain": [
       "(176464, 12)"
      ]
     },
     "execution_count": 24,
     "metadata": {},
     "output_type": "execute_result"
    }
   ],
   "source": [
    "merged_df.shape"
   ]
  },
  {
   "cell_type": "markdown",
   "id": "7fd4fab1-d4ef-4536-bb26-c663e8caed51",
   "metadata": {},
   "source": [
    "### Remove the rows where synopsis is missing"
   ]
  },
  {
   "cell_type": "code",
   "execution_count": 25,
   "id": "87b5e30d-18e3-465f-9cc9-2ec6f123b197",
   "metadata": {},
   "outputs": [
    {
     "data": {
      "text/html": [
       "<div>\n",
       "<style scoped>\n",
       "    .dataframe tbody tr th:only-of-type {\n",
       "        vertical-align: middle;\n",
       "    }\n",
       "\n",
       "    .dataframe tbody tr th {\n",
       "        vertical-align: top;\n",
       "    }\n",
       "\n",
       "    .dataframe thead th {\n",
       "        text-align: right;\n",
       "    }\n",
       "</style>\n",
       "<table border=\"1\" class=\"dataframe\">\n",
       "  <thead>\n",
       "    <tr style=\"text-align: right;\">\n",
       "      <th></th>\n",
       "      <th>Id</th>\n",
       "      <th>Names</th>\n",
       "      <th>Hair_Color</th>\n",
       "      <th>Gender</th>\n",
       "      <th>Tags</th>\n",
       "      <th>Anime</th>\n",
       "      <th>Manga</th>\n",
       "      <th>Anime_List</th>\n",
       "      <th>Cleaned_Anime_Title</th>\n",
       "      <th>Merged_Title</th>\n",
       "      <th>synopsis</th>\n",
       "      <th>Cleaned_Title</th>\n",
       "    </tr>\n",
       "  </thead>\n",
       "  <tbody>\n",
       "    <tr>\n",
       "      <th>176452</th>\n",
       "      <td>123353</td>\n",
       "      <td>Gorou</td>\n",
       "      <td>Brown Hair</td>\n",
       "      <td>NaN</td>\n",
       "      <td>['Animal', 'Dog']</td>\n",
       "      <td>['Koroshiya-san: The Hired Gun']</td>\n",
       "      <td>['Koroshiya-san']</td>\n",
       "      <td>Koroshiya-san: The Hired Gun</td>\n",
       "      <td>koroshiya-san: the hired gun</td>\n",
       "      <td>NaN</td>\n",
       "      <td>NaN</td>\n",
       "      <td>NaN</td>\n",
       "    </tr>\n",
       "    <tr>\n",
       "      <th>176453</th>\n",
       "      <td>123354</td>\n",
       "      <td>Guan Yu</td>\n",
       "      <td>Black Hair</td>\n",
       "      <td>NaN</td>\n",
       "      <td>['Animal', 'Cat']</td>\n",
       "      <td>['Kremlin']</td>\n",
       "      <td>['KРΣМЛЬ']</td>\n",
       "      <td>Kremlin</td>\n",
       "      <td>kremlin</td>\n",
       "      <td>NaN</td>\n",
       "      <td>NaN</td>\n",
       "      <td>NaN</td>\n",
       "    </tr>\n",
       "    <tr>\n",
       "      <th>176454</th>\n",
       "      <td>123355</td>\n",
       "      <td>Haruo KYATTSUYAMA</td>\n",
       "      <td>Brown Hair</td>\n",
       "      <td>Male</td>\n",
       "      <td>['Hat']</td>\n",
       "      <td>['Kremlin']</td>\n",
       "      <td>['KРΣМЛЬ']</td>\n",
       "      <td>Kremlin</td>\n",
       "      <td>kremlin</td>\n",
       "      <td>NaN</td>\n",
       "      <td>NaN</td>\n",
       "      <td>NaN</td>\n",
       "    </tr>\n",
       "    <tr>\n",
       "      <th>176455</th>\n",
       "      <td>123359</td>\n",
       "      <td>Rajibo</td>\n",
       "      <td>Multicolored Hair</td>\n",
       "      <td>Male</td>\n",
       "      <td>['Animal', 'Cat', 'Glasses']</td>\n",
       "      <td>['Komaneko’s Christmas: The Lost Gift']</td>\n",
       "      <td>NaN</td>\n",
       "      <td>Komaneko’s Christmas: The Lost Gift</td>\n",
       "      <td>komaneko’s christmas: the lost gift</td>\n",
       "      <td>NaN</td>\n",
       "      <td>NaN</td>\n",
       "      <td>NaN</td>\n",
       "    </tr>\n",
       "    <tr>\n",
       "      <th>176456</th>\n",
       "      <td>123360</td>\n",
       "      <td>Koume</td>\n",
       "      <td>Black Hair</td>\n",
       "      <td>Female</td>\n",
       "      <td>['Rosy Cheeks', 'Salaryman']</td>\n",
       "      <td>['Koume-chan ga Iku!']</td>\n",
       "      <td>['Koume-chan ga Iku!!', 'Koume-chan ga Iku!! R']</td>\n",
       "      <td>Koume-chan ga Iku!</td>\n",
       "      <td>koume-chan ga iku!</td>\n",
       "      <td>NaN</td>\n",
       "      <td>NaN</td>\n",
       "      <td>NaN</td>\n",
       "    </tr>\n",
       "  </tbody>\n",
       "</table>\n",
       "</div>"
      ],
      "text/plain": [
       "            Id              Names         Hair_Color  Gender  \\\n",
       "176452  123353              Gorou         Brown Hair     NaN   \n",
       "176453  123354            Guan Yu         Black Hair     NaN   \n",
       "176454  123355  Haruo KYATTSUYAMA         Brown Hair    Male   \n",
       "176455  123359             Rajibo  Multicolored Hair    Male   \n",
       "176456  123360              Koume         Black Hair  Female   \n",
       "\n",
       "                                Tags                                    Anime  \\\n",
       "176452             ['Animal', 'Dog']         ['Koroshiya-san: The Hired Gun']   \n",
       "176453             ['Animal', 'Cat']                              ['Kremlin']   \n",
       "176454                       ['Hat']                              ['Kremlin']   \n",
       "176455  ['Animal', 'Cat', 'Glasses']  ['Komaneko’s Christmas: The Lost Gift']   \n",
       "176456  ['Rosy Cheeks', 'Salaryman']                   ['Koume-chan ga Iku!']   \n",
       "\n",
       "                                                   Manga  \\\n",
       "176452                                 ['Koroshiya-san']   \n",
       "176453                                        ['KРΣМЛЬ']   \n",
       "176454                                        ['KРΣМЛЬ']   \n",
       "176455                                               NaN   \n",
       "176456  ['Koume-chan ga Iku!!', 'Koume-chan ga Iku!! R']   \n",
       "\n",
       "                                 Anime_List  \\\n",
       "176452         Koroshiya-san: The Hired Gun   \n",
       "176453                              Kremlin   \n",
       "176454                              Kremlin   \n",
       "176455  Komaneko’s Christmas: The Lost Gift   \n",
       "176456                   Koume-chan ga Iku!   \n",
       "\n",
       "                        Cleaned_Anime_Title Merged_Title synopsis  \\\n",
       "176452         koroshiya-san: the hired gun          NaN      NaN   \n",
       "176453                              kremlin          NaN      NaN   \n",
       "176454                              kremlin          NaN      NaN   \n",
       "176455  komaneko’s christmas: the lost gift          NaN      NaN   \n",
       "176456                   koume-chan ga iku!          NaN      NaN   \n",
       "\n",
       "       Cleaned_Title  \n",
       "176452           NaN  \n",
       "176453           NaN  \n",
       "176454           NaN  \n",
       "176455           NaN  \n",
       "176456           NaN  "
      ]
     },
     "execution_count": 25,
     "metadata": {},
     "output_type": "execute_result"
    }
   ],
   "source": [
    "# Find unmatched rows:\n",
    "unmatched = merged_df[merged_df['synopsis'].isnull()]\n",
    "unmatched.tail(5)"
   ]
  },
  {
   "cell_type": "code",
   "execution_count": 26,
   "id": "b9065b24-f947-44a1-b4ba-cce6e994ff4d",
   "metadata": {},
   "outputs": [
    {
     "data": {
      "text/plain": [
       "(95216, 12)"
      ]
     },
     "execution_count": 26,
     "metadata": {},
     "output_type": "execute_result"
    }
   ],
   "source": [
    "# Number of rows where the synopsis is absent\n",
    "synopsis_null = merged_df[merged_df['synopsis'].isnull()]\n",
    "synopsis_null.shape"
   ]
  },
  {
   "cell_type": "code",
   "execution_count": 27,
   "id": "4fd2bbd6-6614-4df2-a0d1-916e8af7fd50",
   "metadata": {},
   "outputs": [
    {
     "data": {
      "text/plain": [
       "(51486,)"
      ]
     },
     "execution_count": 27,
     "metadata": {},
     "output_type": "execute_result"
    }
   ],
   "source": [
    "# Number of characters exist among the ones where the synopsis is present\n",
    "synopsis_not_null = merged_df[merged_df['synopsis'].notnull()]\n",
    "synopsis_not_null['Names'].unique().shape"
   ]
  },
  {
   "cell_type": "code",
   "execution_count": 28,
   "id": "7cc1849b-34ad-4edd-be90-0574e7aae76e",
   "metadata": {},
   "outputs": [
    {
     "data": {
      "text/plain": [
       "(4440,)"
      ]
     },
     "execution_count": 28,
     "metadata": {},
     "output_type": "execute_result"
    }
   ],
   "source": [
    "# Number of unique anime titles among the ones where the synopsis is present\n",
    "synopsis_not_null = merged_df[merged_df['synopsis'].notnull()]\n",
    "synopsis_not_null['Anime_List'].unique().shape"
   ]
  },
  {
   "cell_type": "code",
   "execution_count": 29,
   "id": "ad230056-c58f-4ef3-b043-57a7c7184b09",
   "metadata": {},
   "outputs": [
    {
     "data": {
      "text/plain": [
       "(81248, 12)"
      ]
     },
     "execution_count": 29,
     "metadata": {},
     "output_type": "execute_result"
    }
   ],
   "source": [
    "synopsis_not_null.shape # Number of rows with synopsis"
   ]
  },
  {
   "cell_type": "code",
   "execution_count": 30,
   "id": "d61ca0fe-66ca-4374-95c1-ac944eadadd6",
   "metadata": {},
   "outputs": [],
   "source": [
    "# Only keeps the rows with synopsis as training_df\n",
    "training_df = merged_df[merged_df['synopsis'].notnull()].reset_index(drop=True)"
   ]
  },
  {
   "cell_type": "code",
   "execution_count": 31,
   "id": "ef6d3163-63a1-40ea-afc7-f31c8bb0925a",
   "metadata": {},
   "outputs": [
    {
     "data": {
      "text/plain": [
       "(81248, 12)"
      ]
     },
     "execution_count": 31,
     "metadata": {},
     "output_type": "execute_result"
    }
   ],
   "source": [
    "training_df.shape"
   ]
  },
  {
   "cell_type": "markdown",
   "id": "77f8f96f-f763-409d-996b-d5309ad04534",
   "metadata": {},
   "source": [
    "## Removing Null Values in Hair_Color, Gender, and Tags"
   ]
  },
  {
   "cell_type": "raw",
   "id": "70b066f5-bbfc-462d-afe2-cad0503f08cc",
   "metadata": {},
   "source": [
    "=> Since we'd like to train the model with as many traits as possible, I remove the rows without any of these columns"
   ]
  },
  {
   "cell_type": "code",
   "execution_count": 32,
   "id": "57e0d053-2ed0-427f-a6f1-68e26e476a40",
   "metadata": {},
   "outputs": [
    {
     "data": {
      "text/plain": [
       "(1669, 12)"
      ]
     },
     "execution_count": 32,
     "metadata": {},
     "output_type": "execute_result"
    }
   ],
   "source": [
    "missing_gender = training_df[training_df['Gender'].isnull()]\n",
    "missing_gender.shape"
   ]
  },
  {
   "cell_type": "code",
   "execution_count": 33,
   "id": "b8a9e99a-4115-40d5-b32d-7be2607f0b27",
   "metadata": {},
   "outputs": [],
   "source": [
    "# Only keeps the rows with gender\n",
    "training_df = training_df[training_df['Gender'].notnull()].reset_index(drop=True)"
   ]
  },
  {
   "cell_type": "code",
   "execution_count": 34,
   "id": "6200b4bd-64ea-4147-bee0-bca5734b7edd",
   "metadata": {},
   "outputs": [
    {
     "data": {
      "text/plain": [
       "(8524, 12)"
      ]
     },
     "execution_count": 34,
     "metadata": {},
     "output_type": "execute_result"
    }
   ],
   "source": [
    "missing_hair_color = training_df[training_df['Hair_Color'].isnull()]\n",
    "missing_hair_color.shape"
   ]
  },
  {
   "cell_type": "code",
   "execution_count": 35,
   "id": "9604f64a-68fa-4003-8930-11f011b7366b",
   "metadata": {},
   "outputs": [],
   "source": [
    "# Only keeps rows with hair color\n",
    "training_df = training_df[training_df['Hair_Color'].notnull()].reset_index(drop=True)"
   ]
  },
  {
   "cell_type": "code",
   "execution_count": 36,
   "id": "785aa9d5-c407-438f-9b1b-781838b6a7a3",
   "metadata": {},
   "outputs": [
    {
     "data": {
      "text/plain": [
       "(0, 12)"
      ]
     },
     "execution_count": 36,
     "metadata": {},
     "output_type": "execute_result"
    }
   ],
   "source": [
    "missing_tags = training_df[training_df['Tags'].isnull()]\n",
    "missing_tags.shape"
   ]
  },
  {
   "cell_type": "raw",
   "id": "d86f8775-55e9-4024-9a3d-771eaec9c913",
   "metadata": {},
   "source": [
    "=> No null tags left since I removed them initially.\n",
    "=> However, we need to check if the tags are in good format, such as a list"
   ]
  },
  {
   "cell_type": "code",
   "execution_count": 37,
   "id": "13934465-78cb-48e7-ae80-b1f4ea7b2f28",
   "metadata": {},
   "outputs": [
    {
     "data": {
      "text/plain": [
       "Tags\n",
       "False    71055\n",
       "Name: count, dtype: int64"
      ]
     },
     "execution_count": 37,
     "metadata": {},
     "output_type": "execute_result"
    }
   ],
   "source": [
    "training_df['Tags'].apply(lambda x: isinstance(x, list) and len(x) > 0).value_counts()"
   ]
  },
  {
   "cell_type": "raw",
   "id": "c0e5d05d-a728-4331-9e38-e6dfabdd750f",
   "metadata": {},
   "source": [
    "=> Seems like they are not lists.\n",
    "=> We inspect further"
   ]
  },
  {
   "cell_type": "code",
   "execution_count": 38,
   "id": "1b6a6a36-ece7-4057-a415-4a326473e8b7",
   "metadata": {},
   "outputs": [
    {
     "data": {
      "text/plain": [
       "\"['Analytical', 'Barefoot', 'Detective', 'Eye Bags', 'Sweet Tooth']\""
      ]
     },
     "execution_count": 38,
     "metadata": {},
     "output_type": "execute_result"
    }
   ],
   "source": [
    "bad_tags_df = training_df[~training_df['Tags'].apply(lambda x: isinstance(x, list) and len(x) > 0)]\n",
    "bad_tags_df['Tags'][0]"
   ]
  },
  {
   "cell_type": "raw",
   "id": "a6a1ef5a-1367-4612-a646-e5620f5d6afc",
   "metadata": {},
   "source": [
    "=> This shows they look like a list, but stored as strings"
   ]
  },
  {
   "cell_type": "markdown",
   "id": "a29c0853-7a16-445e-b494-944855333b48",
   "metadata": {},
   "source": [
    "### Converts the tags into Python lists\n",
    "Using the same ast.literal_eval() I used earlier, I convert the strings into Python lists"
   ]
  },
  {
   "cell_type": "code",
   "execution_count": 39,
   "id": "fa43cb7e-f123-430a-ae11-900825f91c9f",
   "metadata": {},
   "outputs": [],
   "source": [
    "import ast\n",
    "\n",
    "def parse_tags(x):\n",
    "    try:\n",
    "        return ast.literal_eval(x) if isinstance(x, str) else x\n",
    "    except:\n",
    "        return []"
   ]
  },
  {
   "cell_type": "code",
   "execution_count": 40,
   "id": "1a160c8e-d33a-4f19-bb71-947fb121ffe5",
   "metadata": {},
   "outputs": [],
   "source": [
    "# Apply the above function to each tag entries\n",
    "training_df['Tags'] = training_df['Tags'].apply(parse_tags)"
   ]
  },
  {
   "cell_type": "code",
   "execution_count": 41,
   "id": "293399be-482f-43f3-9f36-bc575e818148",
   "metadata": {},
   "outputs": [],
   "source": [
    "# Keeps only the rows where the tags is present\n",
    "training_df = training_df[training_df['Tags'].apply(lambda x: len(x) > 0)].reset_index(drop=True)"
   ]
  },
  {
   "cell_type": "code",
   "execution_count": 42,
   "id": "94505780-76ab-40e5-8b46-0c6d17e4da5e",
   "metadata": {},
   "outputs": [
    {
     "data": {
      "text/plain": [
       "(71055, 12)"
      ]
     },
     "execution_count": 42,
     "metadata": {},
     "output_type": "execute_result"
    }
   ],
   "source": [
    "training_df.shape"
   ]
  },
  {
   "cell_type": "code",
   "execution_count": 43,
   "id": "90c81ec8-0b10-4321-8484-1a1ecdcbeab1",
   "metadata": {},
   "outputs": [],
   "source": [
    "training_df.to_pickle('df_cleaned_null_gender_hair_tags.pkl')"
   ]
  },
  {
   "cell_type": "markdown",
   "id": "e0c73a67-73df-493c-83ee-620330a96143",
   "metadata": {},
   "source": [
    "## Names Column Distribution"
   ]
  },
  {
   "cell_type": "code",
   "execution_count": 44,
   "id": "ef1ad5a4-f7f2-461c-8945-111a05f9cc3d",
   "metadata": {},
   "outputs": [
    {
     "data": {
      "image/png": "[encoded data removed]",
      "text/plain": [
       "<Figure size 1200x600 with 1 Axes>"
      ]
     },
     "metadata": {},
     "output_type": "display_data"
    }
   ],
   "source": [
    "import matplotlib.pyplot as plt\n",
    "\n",
    "# Get the value counts of the 'Names' column\n",
    "name_counts = training_df['Names'].value_counts().head(20) # Get the top 20 names\n",
    "\n",
    "# Create a bar plot\n",
    "plt.figure(figsize=(12, 6))\n",
    "name_counts.plot(kind='bar')\n",
    "plt.title('Frequency of Top 20 Names')\n",
    "plt.xlabel('Name')\n",
    "plt.ylabel('Frequency')\n",
    "plt.xticks(rotation=45, ha='right')\n",
    "plt.tight_layout()\n",
    "plt.show()"
   ]
  },
  {
   "cell_type": "raw",
   "id": "59d89f0c-c1e7-4eec-badf-8a5361d6cb10",
   "metadata": {},
   "source": [
    "=> I see the generic roles, they most likely don't have many useful traits to be main characters in storylines.\n",
    "=> Checks more entries"
   ]
  },
  {
   "cell_type": "code",
   "execution_count": 45,
   "id": "8333864d-1ef1-4c10-a99e-f44c7abadb6e",
   "metadata": {},
   "outputs": [
    {
     "data": {
      "text/plain": [
       "(45010,)"
      ]
     },
     "execution_count": 45,
     "metadata": {},
     "output_type": "execute_result"
    }
   ],
   "source": [
    "name_counts = training_df['Names'].value_counts()\n",
    "name_counts.shape"
   ]
  },
  {
   "cell_type": "code",
   "execution_count": 46,
   "id": "aa6f9f4d-188e-4e5d-a9bf-1c0f680b3e44",
   "metadata": {},
   "outputs": [
    {
     "name": "stdout",
     "output_type": "stream",
     "text": [
      "Teacher, Principal, Conan EDOGAWA, Caster, Rider, Saber, Maria, Alice, Homeroom Teacher, Sakura, Lancer, Anna, Yuki, Archer, Yamada, King, Tanaka, Nurse, Ran MORI, Doctor, Miki, Berserker, Old Man, Yuri, Genta KOJIMA, Kei, Mitsuhiko TSUBURAYA, Shin, Ayumi YOSHIDA, Master, Maki, Suzuki, Rin, Assassin, Ai, Nobunaga ODA, Sarah, Leo, Marie, Mina, Lucifer, Misaki, Yuu, Mother, Lily, Goku SON, Michael, Haruka, Tama, Grandma, Hana, Kuro, Kagura, Kogoro MORI, Hiroshi AGASA, Rei, Kiki, Captain, Mao, Char AZNABLE, Hiro, Manager, Mari, Saito, Loki, Sora, Ishikawa, Suzu, Kai, Gin, President, Shiro, Freya, Bartender, Mimi, Mary, Ryu, Girl, Landlady, Sonoko SUZUKI, Shinnosuke NOHARA, Mai, Makoto, Sara, Waitress, Jin, Ayame, Reporter, Mika, Tsubaki, Mayu, Maetel, Sakuya, Akira, Rose, Boy, Kobayashi, Naomi, Sasaki, Kana\n"
     ]
    }
   ],
   "source": [
    "top_100_names = training_df['Names'].value_counts().head(100).index.tolist()\n",
    "print(*top_100_names, sep=\", \")"
   ]
  },
  {
   "cell_type": "code",
   "execution_count": 47,
   "id": "8f1038f9-c32d-4c17-979c-d2b0fa186b9b",
   "metadata": {},
   "outputs": [
    {
     "data": {
      "text/html": [
       "<div>\n",
       "<style scoped>\n",
       "    .dataframe tbody tr th:only-of-type {\n",
       "        vertical-align: middle;\n",
       "    }\n",
       "\n",
       "    .dataframe tbody tr th {\n",
       "        vertical-align: top;\n",
       "    }\n",
       "\n",
       "    .dataframe thead th {\n",
       "        text-align: right;\n",
       "    }\n",
       "</style>\n",
       "<table border=\"1\" class=\"dataframe\">\n",
       "  <thead>\n",
       "    <tr style=\"text-align: right;\">\n",
       "      <th></th>\n",
       "      <th>Id</th>\n",
       "      <th>Names</th>\n",
       "      <th>Hair_Color</th>\n",
       "      <th>Gender</th>\n",
       "      <th>Tags</th>\n",
       "      <th>Anime</th>\n",
       "      <th>Manga</th>\n",
       "      <th>Anime_List</th>\n",
       "      <th>Cleaned_Anime_Title</th>\n",
       "      <th>Merged_Title</th>\n",
       "      <th>synopsis</th>\n",
       "      <th>Cleaned_Title</th>\n",
       "    </tr>\n",
       "  </thead>\n",
       "  <tbody>\n",
       "    <tr>\n",
       "      <th>4261</th>\n",
       "      <td>1839</td>\n",
       "      <td>Assassin</td>\n",
       "      <td>Purple Hair</td>\n",
       "      <td>Male</td>\n",
       "      <td>[Historical Figure, Honorable Fighter, Immorta...</td>\n",
       "      <td>['Carnival Phantasm', 'Fate/stay night', \"Fate...</td>\n",
       "      <td>['Fate/Grand Order Comic Anthology STAR', 'Fat...</td>\n",
       "      <td>Carnival Phantasm</td>\n",
       "      <td>carnival phantasm</td>\n",
       "      <td>Carnival Phantasm</td>\n",
       "      <td>The Carnival Moment is a time when several nar...</td>\n",
       "      <td>carnival phantasm</td>\n",
       "    </tr>\n",
       "    <tr>\n",
       "      <th>4262</th>\n",
       "      <td>1839</td>\n",
       "      <td>Assassin</td>\n",
       "      <td>Purple Hair</td>\n",
       "      <td>Male</td>\n",
       "      <td>[Historical Figure, Honorable Fighter, Immorta...</td>\n",
       "      <td>['Carnival Phantasm', 'Fate/stay night', \"Fate...</td>\n",
       "      <td>['Fate/Grand Order Comic Anthology STAR', 'Fat...</td>\n",
       "      <td>Fate/stay night</td>\n",
       "      <td>fate/stay night</td>\n",
       "      <td>Fate/stay night</td>\n",
       "      <td>After a mysterious inferno kills his family, S...</td>\n",
       "      <td>fate/stay night</td>\n",
       "    </tr>\n",
       "    <tr>\n",
       "      <th>4263</th>\n",
       "      <td>1839</td>\n",
       "      <td>Assassin</td>\n",
       "      <td>Purple Hair</td>\n",
       "      <td>Male</td>\n",
       "      <td>[Historical Figure, Honorable Fighter, Immorta...</td>\n",
       "      <td>['Carnival Phantasm', 'Fate/stay night', \"Fate...</td>\n",
       "      <td>['Fate/Grand Order Comic Anthology STAR', 'Fat...</td>\n",
       "      <td>Fate/stay night: Unlimited Blade Works</td>\n",
       "      <td>fate/stay night: unlimited blade works</td>\n",
       "      <td>Fate/stay night: Unlimited Blade Works</td>\n",
       "      <td>In Fuyuki City, the Fifth Holy Grail War is ab...</td>\n",
       "      <td>fate/stay night: unlimited blade works</td>\n",
       "    </tr>\n",
       "    <tr>\n",
       "      <th>4351</th>\n",
       "      <td>1896</td>\n",
       "      <td>Father</td>\n",
       "      <td>Black Hair</td>\n",
       "      <td>Male</td>\n",
       "      <td>[Adult, Bookworm, Facial Hair, Werewolf]</td>\n",
       "      <td>['Wolf Children']</td>\n",
       "      <td>['Wolf Children: Ame &amp; Yuki']</td>\n",
       "      <td>Wolf Children</td>\n",
       "      <td>wolf children</td>\n",
       "      <td>Wolf Children</td>\n",
       "      <td>Hana, a hard-working college student, falls in...</td>\n",
       "      <td>wolf children</td>\n",
       "    </tr>\n",
       "    <tr>\n",
       "      <th>4996</th>\n",
       "      <td>2213</td>\n",
       "      <td>Girl</td>\n",
       "      <td>Brown Hair</td>\n",
       "      <td>Female</td>\n",
       "      <td>[Barefoot]</td>\n",
       "      <td>['Clannad', 'Clannad After Story']</td>\n",
       "      <td>NaN</td>\n",
       "      <td>Clannad</td>\n",
       "      <td>clannad</td>\n",
       "      <td>Clannad</td>\n",
       "      <td>Tomoya Okazaki is a delinquent who finds life ...</td>\n",
       "      <td>clannad</td>\n",
       "    </tr>\n",
       "    <tr>\n",
       "      <th>...</th>\n",
       "      <td>...</td>\n",
       "      <td>...</td>\n",
       "      <td>...</td>\n",
       "      <td>...</td>\n",
       "      <td>...</td>\n",
       "      <td>...</td>\n",
       "      <td>...</td>\n",
       "      <td>...</td>\n",
       "      <td>...</td>\n",
       "      <td>...</td>\n",
       "      <td>...</td>\n",
       "      <td>...</td>\n",
       "    </tr>\n",
       "    <tr>\n",
       "      <th>70473</th>\n",
       "      <td>120050</td>\n",
       "      <td>Nurse</td>\n",
       "      <td>Black Hair</td>\n",
       "      <td>Female</td>\n",
       "      <td>[Adult, Hat, Nurse]</td>\n",
       "      <td>['Honey and Clover']</td>\n",
       "      <td>['Honey and Clover']</td>\n",
       "      <td>Honey and Clover</td>\n",
       "      <td>honey and clover</td>\n",
       "      <td>Honey and Clover</td>\n",
       "      <td>Yuuta Takemoto, a sophomore at an arts college...</td>\n",
       "      <td>honey and clover</td>\n",
       "    </tr>\n",
       "    <tr>\n",
       "      <th>70489</th>\n",
       "      <td>120181</td>\n",
       "      <td>Reporter</td>\n",
       "      <td>Brown Hair</td>\n",
       "      <td>Female</td>\n",
       "      <td>[Reporter]</td>\n",
       "      <td>['Tiger &amp; Bunny']</td>\n",
       "      <td>NaN</td>\n",
       "      <td>Tiger &amp; Bunny</td>\n",
       "      <td>tiger &amp; bunny</td>\n",
       "      <td>Tiger &amp; Bunny</td>\n",
       "      <td>In Stern Bild City, those with special abiliti...</td>\n",
       "      <td>tiger &amp; bunny</td>\n",
       "    </tr>\n",
       "    <tr>\n",
       "      <th>70702</th>\n",
       "      <td>121217</td>\n",
       "      <td>Reporter</td>\n",
       "      <td>Blonde Hair</td>\n",
       "      <td>Male</td>\n",
       "      <td>[Reporter]</td>\n",
       "      <td>['Flag']</td>\n",
       "      <td>NaN</td>\n",
       "      <td>Flag</td>\n",
       "      <td>flag</td>\n",
       "      <td>Flag</td>\n",
       "      <td>In 20xx, a civil war broke out in a small coun...</td>\n",
       "      <td>flag</td>\n",
       "    </tr>\n",
       "    <tr>\n",
       "      <th>70734</th>\n",
       "      <td>121490</td>\n",
       "      <td>Reporter</td>\n",
       "      <td>Brown Hair</td>\n",
       "      <td>Male</td>\n",
       "      <td>[Adult, Reporter]</td>\n",
       "      <td>['Symphogear G']</td>\n",
       "      <td>NaN</td>\n",
       "      <td>Symphogear G</td>\n",
       "      <td>symphogear g</td>\n",
       "      <td>Symphogear G</td>\n",
       "      <td>Three months after a Lunar Attack which nearly...</td>\n",
       "      <td>symphogear g</td>\n",
       "    </tr>\n",
       "    <tr>\n",
       "      <th>71020</th>\n",
       "      <td>123215</td>\n",
       "      <td>Captain</td>\n",
       "      <td>Black Hair</td>\n",
       "      <td>Male</td>\n",
       "      <td>[Adult, Police]</td>\n",
       "      <td>['D.Gray-man']</td>\n",
       "      <td>['D.Gray-Man']</td>\n",
       "      <td>D.Gray-man</td>\n",
       "      <td>d.gray-man</td>\n",
       "      <td>D.Gray-man</td>\n",
       "      <td>Losing a loved one is so painful that one may ...</td>\n",
       "      <td>d.gray-man</td>\n",
       "    </tr>\n",
       "  </tbody>\n",
       "</table>\n",
       "<p>427 rows × 12 columns</p>\n",
       "</div>"
      ],
      "text/plain": [
       "           Id     Names   Hair_Color  Gender  \\\n",
       "4261     1839  Assassin  Purple Hair    Male   \n",
       "4262     1839  Assassin  Purple Hair    Male   \n",
       "4263     1839  Assassin  Purple Hair    Male   \n",
       "4351     1896    Father   Black Hair    Male   \n",
       "4996     2213      Girl   Brown Hair  Female   \n",
       "...       ...       ...          ...     ...   \n",
       "70473  120050     Nurse   Black Hair  Female   \n",
       "70489  120181  Reporter   Brown Hair  Female   \n",
       "70702  121217  Reporter  Blonde Hair    Male   \n",
       "70734  121490  Reporter   Brown Hair    Male   \n",
       "71020  123215   Captain   Black Hair    Male   \n",
       "\n",
       "                                                    Tags  \\\n",
       "4261   [Historical Figure, Honorable Fighter, Immorta...   \n",
       "4262   [Historical Figure, Honorable Fighter, Immorta...   \n",
       "4263   [Historical Figure, Honorable Fighter, Immorta...   \n",
       "4351            [Adult, Bookworm, Facial Hair, Werewolf]   \n",
       "4996                                          [Barefoot]   \n",
       "...                                                  ...   \n",
       "70473                                [Adult, Hat, Nurse]   \n",
       "70489                                         [Reporter]   \n",
       "70702                                         [Reporter]   \n",
       "70734                                  [Adult, Reporter]   \n",
       "71020                                    [Adult, Police]   \n",
       "\n",
       "                                                   Anime  \\\n",
       "4261   ['Carnival Phantasm', 'Fate/stay night', \"Fate...   \n",
       "4262   ['Carnival Phantasm', 'Fate/stay night', \"Fate...   \n",
       "4263   ['Carnival Phantasm', 'Fate/stay night', \"Fate...   \n",
       "4351                                   ['Wolf Children']   \n",
       "4996                  ['Clannad', 'Clannad After Story']   \n",
       "...                                                  ...   \n",
       "70473                               ['Honey and Clover']   \n",
       "70489                                  ['Tiger & Bunny']   \n",
       "70702                                           ['Flag']   \n",
       "70734                                   ['Symphogear G']   \n",
       "71020                                     ['D.Gray-man']   \n",
       "\n",
       "                                                   Manga  \\\n",
       "4261   ['Fate/Grand Order Comic Anthology STAR', 'Fat...   \n",
       "4262   ['Fate/Grand Order Comic Anthology STAR', 'Fat...   \n",
       "4263   ['Fate/Grand Order Comic Anthology STAR', 'Fat...   \n",
       "4351                       ['Wolf Children: Ame & Yuki']   \n",
       "4996                                                 NaN   \n",
       "...                                                  ...   \n",
       "70473                               ['Honey and Clover']   \n",
       "70489                                                NaN   \n",
       "70702                                                NaN   \n",
       "70734                                                NaN   \n",
       "71020                                     ['D.Gray-Man']   \n",
       "\n",
       "                                   Anime_List  \\\n",
       "4261                        Carnival Phantasm   \n",
       "4262                          Fate/stay night   \n",
       "4263   Fate/stay night: Unlimited Blade Works   \n",
       "4351                            Wolf Children   \n",
       "4996                                  Clannad   \n",
       "...                                       ...   \n",
       "70473                        Honey and Clover   \n",
       "70489                           Tiger & Bunny   \n",
       "70702                                    Flag   \n",
       "70734                            Symphogear G   \n",
       "71020                              D.Gray-man   \n",
       "\n",
       "                          Cleaned_Anime_Title  \\\n",
       "4261                        carnival phantasm   \n",
       "4262                          fate/stay night   \n",
       "4263   fate/stay night: unlimited blade works   \n",
       "4351                            wolf children   \n",
       "4996                                  clannad   \n",
       "...                                       ...   \n",
       "70473                        honey and clover   \n",
       "70489                           tiger & bunny   \n",
       "70702                                    flag   \n",
       "70734                            symphogear g   \n",
       "71020                              d.gray-man   \n",
       "\n",
       "                                 Merged_Title  \\\n",
       "4261                        Carnival Phantasm   \n",
       "4262                          Fate/stay night   \n",
       "4263   Fate/stay night: Unlimited Blade Works   \n",
       "4351                            Wolf Children   \n",
       "4996                                  Clannad   \n",
       "...                                       ...   \n",
       "70473                        Honey and Clover   \n",
       "70489                           Tiger & Bunny   \n",
       "70702                                    Flag   \n",
       "70734                            Symphogear G   \n",
       "71020                              D.Gray-man   \n",
       "\n",
       "                                                synopsis  \\\n",
       "4261   The Carnival Moment is a time when several nar...   \n",
       "4262   After a mysterious inferno kills his family, S...   \n",
       "4263   In Fuyuki City, the Fifth Holy Grail War is ab...   \n",
       "4351   Hana, a hard-working college student, falls in...   \n",
       "4996   Tomoya Okazaki is a delinquent who finds life ...   \n",
       "...                                                  ...   \n",
       "70473  Yuuta Takemoto, a sophomore at an arts college...   \n",
       "70489  In Stern Bild City, those with special abiliti...   \n",
       "70702  In 20xx, a civil war broke out in a small coun...   \n",
       "70734  Three months after a Lunar Attack which nearly...   \n",
       "71020  Losing a loved one is so painful that one may ...   \n",
       "\n",
       "                                Cleaned_Title  \n",
       "4261                        carnival phantasm  \n",
       "4262                          fate/stay night  \n",
       "4263   fate/stay night: unlimited blade works  \n",
       "4351                            wolf children  \n",
       "4996                                  clannad  \n",
       "...                                       ...  \n",
       "70473                        honey and clover  \n",
       "70489                           tiger & bunny  \n",
       "70702                                    flag  \n",
       "70734                            symphogear g  \n",
       "71020                              d.gray-man  \n",
       "\n",
       "[427 rows x 12 columns]"
      ]
     },
     "execution_count": 47,
     "metadata": {},
     "output_type": "execute_result"
    }
   ],
   "source": [
    "# List of names to inspect\n",
    "names_to_remove = ['Teacher', 'Principal', 'Homeroom Teacher','Nurse', 'Old Man', 'Old Women','Doctor', 'Master','Assassin',\n",
    "                   'Mother', 'Father','Granma', 'Granpa', 'Manager', 'Captain', 'President','Bartender', 'Landlady', 'Girl', 'Boy', \n",
    "                   'Reporter', 'Waitress', 'Director', 'Mayor', 'Maid']\n",
    "\n",
    "# Select the rows where 'Names' is in the list to inspect\n",
    "rows_to_delete = training_df[training_df['Names'].isin(names_to_remove)]\n",
    "rows_to_delete"
   ]
  },
  {
   "cell_type": "code",
   "execution_count": 48,
   "id": "2ba4de40-b6d3-4a38-bec5-2e83bb4bad67",
   "metadata": {},
   "outputs": [
    {
     "name": "stdout",
     "output_type": "stream",
     "text": [
      "Shape of DataFrame after deletion: (70628, 12)\n"
     ]
    }
   ],
   "source": [
    "# Drop the rows from the original DataFrame 'df'\n",
    "indices_to_drop = rows_to_delete.index\n",
    "df_cleaned_generic = training_df.drop(indices_to_drop)\n",
    "\n",
    "print(f\"Shape of DataFrame after deletion: {df_cleaned_generic.shape}\")\n",
    "\n",
    "# Update your main DataFrame 'df' with the cleaned version\n",
    "training_df = df_cleaned_generic"
   ]
  },
  {
   "cell_type": "markdown",
   "id": "5c53c29f",
   "metadata": {},
   "source": [
    "### Remove the rows with role names in Fate franchise "
   ]
  },
  {
   "cell_type": "code",
   "execution_count": 49,
   "id": "46fe05e6",
   "metadata": {},
   "outputs": [],
   "source": [
    "# List of Fate class roles\n",
    "fate_roles = ['saber', 'lancer', 'archer', 'rider', 'caster', 'assassin', 'berserker', 'ruler', 'avenger', 'alter ego', 'moon cancer', 'foreigner', 'beast']\n",
    "\n",
    "# Filter dataframe\n",
    "filtered_df = df[\n",
    "    df['Names'].str.lower().isin(fate_roles) & \n",
    "    df['Anime'].str.lower().str.contains('fate')\n",
    "]"
   ]
  },
  {
   "cell_type": "code",
   "execution_count": 50,
   "id": "df8efe33",
   "metadata": {},
   "outputs": [
    {
     "data": {
      "text/html": [
       "<div>\n",
       "<style scoped>\n",
       "    .dataframe tbody tr th:only-of-type {\n",
       "        vertical-align: middle;\n",
       "    }\n",
       "\n",
       "    .dataframe tbody tr th {\n",
       "        vertical-align: top;\n",
       "    }\n",
       "\n",
       "    .dataframe thead th {\n",
       "        text-align: right;\n",
       "    }\n",
       "</style>\n",
       "<table border=\"1\" class=\"dataframe\">\n",
       "  <thead>\n",
       "    <tr style=\"text-align: right;\">\n",
       "      <th></th>\n",
       "      <th>Id</th>\n",
       "      <th>Names</th>\n",
       "      <th>Hair_Color</th>\n",
       "      <th>Gender</th>\n",
       "      <th>Tags</th>\n",
       "      <th>Anime</th>\n",
       "      <th>Manga</th>\n",
       "      <th>Anime_List</th>\n",
       "    </tr>\n",
       "  </thead>\n",
       "  <tbody>\n",
       "    <tr>\n",
       "      <th>91</th>\n",
       "      <td>91</td>\n",
       "      <td>Saber</td>\n",
       "      <td>Blonde Hair</td>\n",
       "      <td>Female</td>\n",
       "      <td>['Armor', 'Braids', 'Gloves', 'Hair Antenna', ...</td>\n",
       "      <td>['Carnival Phantasm', 'Carnival Phantasm: EX S...</td>\n",
       "      <td>['All Around Type-Moon: Ahnenerbe no Nichijou'...</td>\n",
       "      <td>[Carnival Phantasm, Carnival Phantasm: EX Seas...</td>\n",
       "    </tr>\n",
       "    <tr>\n",
       "      <th>280</th>\n",
       "      <td>280</td>\n",
       "      <td>Archer</td>\n",
       "      <td>White Hair</td>\n",
       "      <td>Male</td>\n",
       "      <td>['Amnesia', 'Archer', 'Dark-skinned', 'Dual Wi...</td>\n",
       "      <td>['Carnival Phantasm', \"Carnival Phantasm: Illy...</td>\n",
       "      <td>['All Around Type-Moon: Ahnenerbe no Nichijou'...</td>\n",
       "      <td>[Carnival Phantasm, Carnival Phantasm: Illya's...</td>\n",
       "    </tr>\n",
       "    <tr>\n",
       "      <th>512</th>\n",
       "      <td>513</td>\n",
       "      <td>Rider</td>\n",
       "      <td>Red Hair</td>\n",
       "      <td>Male</td>\n",
       "      <td>['Armor', 'Breathtaking Beard', 'Cape', 'Chari...</td>\n",
       "      <td>['Carnival Phantasm', 'Fate/Extella OP', 'Fate...</td>\n",
       "      <td>['Fate/Grand Order: Turas Réalta', 'Fate/Ixtel...</td>\n",
       "      <td>[Carnival Phantasm, Fate/Extella OP, Fate/Gran...</td>\n",
       "    </tr>\n",
       "    <tr>\n",
       "      <th>1073</th>\n",
       "      <td>1074</td>\n",
       "      <td>Lancer</td>\n",
       "      <td>Blue Hair</td>\n",
       "      <td>Male</td>\n",
       "      <td>['Bloodthirsty', 'Immortal', 'Lancer', 'Magica...</td>\n",
       "      <td>['Carnival Phantasm', 'Carnival Phantasm: EX S...</td>\n",
       "      <td>['All Around Type-Moon: Ahnenerbe no Nichijou'...</td>\n",
       "      <td>[Carnival Phantasm, Carnival Phantasm: EX Seas...</td>\n",
       "    </tr>\n",
       "    <tr>\n",
       "      <th>1088</th>\n",
       "      <td>1089</td>\n",
       "      <td>Lancer</td>\n",
       "      <td>Black Hair</td>\n",
       "      <td>Male</td>\n",
       "      <td>['Dual Wielder', 'Honorable Fighter', 'Immorta...</td>\n",
       "      <td>['Fate/Grand Carnival', 'Fate/Grand Order: Fif...</td>\n",
       "      <td>['Fate/Grand Order Comic Anthology STAR', 'Fat...</td>\n",
       "      <td>[Fate/Grand Carnival, Fate/Grand Order: Fifth ...</td>\n",
       "    </tr>\n",
       "    <tr>\n",
       "      <th>...</th>\n",
       "      <td>...</td>\n",
       "      <td>...</td>\n",
       "      <td>...</td>\n",
       "      <td>...</td>\n",
       "      <td>...</td>\n",
       "      <td>...</td>\n",
       "      <td>...</td>\n",
       "      <td>...</td>\n",
       "    </tr>\n",
       "    <tr>\n",
       "      <th>98713</th>\n",
       "      <td>113695</td>\n",
       "      <td>Rider</td>\n",
       "      <td>White Hair</td>\n",
       "      <td>Male</td>\n",
       "      <td>['Balding', 'Facial Hair', 'Historical Figure'...</td>\n",
       "      <td>['Fate/Grand Order x Himuro no Tenchi: 7-nin n...</td>\n",
       "      <td>NaN</td>\n",
       "      <td>[Fate/Grand Order x Himuro no Tenchi: 7-nin no...</td>\n",
       "    </tr>\n",
       "    <tr>\n",
       "      <th>98798</th>\n",
       "      <td>113811</td>\n",
       "      <td>Caster</td>\n",
       "      <td>White Hair</td>\n",
       "      <td>Male</td>\n",
       "      <td>['Analytical', 'Dark-skinned', 'Glasses', 'Glo...</td>\n",
       "      <td>['Fate/Grand Order: Cosmos in the Lostbelt - L...</td>\n",
       "      <td>NaN</td>\n",
       "      <td>[Fate/Grand Order: Cosmos in the Lostbelt - Lo...</td>\n",
       "    </tr>\n",
       "    <tr>\n",
       "      <th>98952</th>\n",
       "      <td>114009</td>\n",
       "      <td>Berserker</td>\n",
       "      <td>White Hair</td>\n",
       "      <td>Male</td>\n",
       "      <td>['Barefoot', 'Dark-skinned', 'Deity', 'Horns',...</td>\n",
       "      <td>['Fate/Grand Order: Cosmos in the Lostbelt - L...</td>\n",
       "      <td>NaN</td>\n",
       "      <td>[Fate/Grand Order: Cosmos in the Lostbelt - Lo...</td>\n",
       "    </tr>\n",
       "    <tr>\n",
       "      <th>98954</th>\n",
       "      <td>114011</td>\n",
       "      <td>Rider</td>\n",
       "      <td>White Hair</td>\n",
       "      <td>Male</td>\n",
       "      <td>['Cape', 'Immortal', 'Magical Familiar', 'Mech...</td>\n",
       "      <td>['Fate/Grand Order: Cosmos in the Lostbelt - L...</td>\n",
       "      <td>NaN</td>\n",
       "      <td>[Fate/Grand Order: Cosmos in the Lostbelt - Lo...</td>\n",
       "    </tr>\n",
       "    <tr>\n",
       "      <th>99066</th>\n",
       "      <td>114182</td>\n",
       "      <td>Rider</td>\n",
       "      <td>Blonde Hair</td>\n",
       "      <td>Female</td>\n",
       "      <td>['Crown', 'Immortal', 'Magical Familiar', 'Rap...</td>\n",
       "      <td>['Fate/Grand Order: Cosmos in the Lostbelt - L...</td>\n",
       "      <td>NaN</td>\n",
       "      <td>[Fate/Grand Order: Cosmos in the Lostbelt - Lo...</td>\n",
       "    </tr>\n",
       "  </tbody>\n",
       "</table>\n",
       "<p>169 rows × 8 columns</p>\n",
       "</div>"
      ],
      "text/plain": [
       "           Id      Names   Hair_Color  Gender  \\\n",
       "91         91      Saber  Blonde Hair  Female   \n",
       "280       280     Archer   White Hair    Male   \n",
       "512       513      Rider     Red Hair    Male   \n",
       "1073     1074     Lancer    Blue Hair    Male   \n",
       "1088     1089     Lancer   Black Hair    Male   \n",
       "...       ...        ...          ...     ...   \n",
       "98713  113695      Rider   White Hair    Male   \n",
       "98798  113811     Caster   White Hair    Male   \n",
       "98952  114009  Berserker   White Hair    Male   \n",
       "98954  114011      Rider   White Hair    Male   \n",
       "99066  114182      Rider  Blonde Hair  Female   \n",
       "\n",
       "                                                    Tags  \\\n",
       "91     ['Armor', 'Braids', 'Gloves', 'Hair Antenna', ...   \n",
       "280    ['Amnesia', 'Archer', 'Dark-skinned', 'Dual Wi...   \n",
       "512    ['Armor', 'Breathtaking Beard', 'Cape', 'Chari...   \n",
       "1073   ['Bloodthirsty', 'Immortal', 'Lancer', 'Magica...   \n",
       "1088   ['Dual Wielder', 'Honorable Fighter', 'Immorta...   \n",
       "...                                                  ...   \n",
       "98713  ['Balding', 'Facial Hair', 'Historical Figure'...   \n",
       "98798  ['Analytical', 'Dark-skinned', 'Glasses', 'Glo...   \n",
       "98952  ['Barefoot', 'Dark-skinned', 'Deity', 'Horns',...   \n",
       "98954  ['Cape', 'Immortal', 'Magical Familiar', 'Mech...   \n",
       "99066  ['Crown', 'Immortal', 'Magical Familiar', 'Rap...   \n",
       "\n",
       "                                                   Anime  \\\n",
       "91     ['Carnival Phantasm', 'Carnival Phantasm: EX S...   \n",
       "280    ['Carnival Phantasm', \"Carnival Phantasm: Illy...   \n",
       "512    ['Carnival Phantasm', 'Fate/Extella OP', 'Fate...   \n",
       "1073   ['Carnival Phantasm', 'Carnival Phantasm: EX S...   \n",
       "1088   ['Fate/Grand Carnival', 'Fate/Grand Order: Fif...   \n",
       "...                                                  ...   \n",
       "98713  ['Fate/Grand Order x Himuro no Tenchi: 7-nin n...   \n",
       "98798  ['Fate/Grand Order: Cosmos in the Lostbelt - L...   \n",
       "98952  ['Fate/Grand Order: Cosmos in the Lostbelt - L...   \n",
       "98954  ['Fate/Grand Order: Cosmos in the Lostbelt - L...   \n",
       "99066  ['Fate/Grand Order: Cosmos in the Lostbelt - L...   \n",
       "\n",
       "                                                   Manga  \\\n",
       "91     ['All Around Type-Moon: Ahnenerbe no Nichijou'...   \n",
       "280    ['All Around Type-Moon: Ahnenerbe no Nichijou'...   \n",
       "512    ['Fate/Grand Order: Turas Réalta', 'Fate/Ixtel...   \n",
       "1073   ['All Around Type-Moon: Ahnenerbe no Nichijou'...   \n",
       "1088   ['Fate/Grand Order Comic Anthology STAR', 'Fat...   \n",
       "...                                                  ...   \n",
       "98713                                                NaN   \n",
       "98798                                                NaN   \n",
       "98952                                                NaN   \n",
       "98954                                                NaN   \n",
       "99066                                                NaN   \n",
       "\n",
       "                                              Anime_List  \n",
       "91     [Carnival Phantasm, Carnival Phantasm: EX Seas...  \n",
       "280    [Carnival Phantasm, Carnival Phantasm: Illya's...  \n",
       "512    [Carnival Phantasm, Fate/Extella OP, Fate/Gran...  \n",
       "1073   [Carnival Phantasm, Carnival Phantasm: EX Seas...  \n",
       "1088   [Fate/Grand Carnival, Fate/Grand Order: Fifth ...  \n",
       "...                                                  ...  \n",
       "98713  [Fate/Grand Order x Himuro no Tenchi: 7-nin no...  \n",
       "98798  [Fate/Grand Order: Cosmos in the Lostbelt - Lo...  \n",
       "98952  [Fate/Grand Order: Cosmos in the Lostbelt - Lo...  \n",
       "98954  [Fate/Grand Order: Cosmos in the Lostbelt - Lo...  \n",
       "99066  [Fate/Grand Order: Cosmos in the Lostbelt - Lo...  \n",
       "\n",
       "[169 rows x 8 columns]"
      ]
     },
     "execution_count": 50,
     "metadata": {},
     "output_type": "execute_result"
    }
   ],
   "source": [
    "filtered_df"
   ]
  },
  {
   "cell_type": "code",
   "execution_count": 51,
   "id": "1c0aed8b",
   "metadata": {},
   "outputs": [],
   "source": [
    "df.drop(filtered_df.index, inplace=True)"
   ]
  },
  {
   "cell_type": "code",
   "execution_count": 52,
   "id": "9614c9a1-f5e9-4270-8b8d-caab165732ca",
   "metadata": {},
   "outputs": [],
   "source": [
    "training_df.to_pickle('df_cleaned_generic1.pkl')"
   ]
  },
  {
   "cell_type": "markdown",
   "id": "5a635a53-18c5-47aa-8913-a09366bcba4e",
   "metadata": {},
   "source": [
    "### Run the same code again to find more"
   ]
  },
  {
   "cell_type": "code",
   "execution_count": 53,
   "id": "289b0c23-b63e-4580-947e-71444b81f5ef",
   "metadata": {},
   "outputs": [
    {
     "data": {
      "text/plain": [
       "Names\n",
       "Conan EDOGAWA          34\n",
       "Rider                  33\n",
       "Saber                  33\n",
       "Caster                 33\n",
       "Maria                  32\n",
       "                       ..\n",
       "Ryuk                    1\n",
       "Fumimaro AYANOKOUJI     1\n",
       "Keiko SHIRATORO         1\n",
       "Lover                   1\n",
       "Azuma IRIKI             1\n",
       "Name: count, Length: 44988, dtype: int64"
      ]
     },
     "execution_count": 53,
     "metadata": {},
     "output_type": "execute_result"
    }
   ],
   "source": [
    "name_counts = training_df['Names'].value_counts()\n",
    "name_counts"
   ]
  },
  {
   "cell_type": "code",
   "execution_count": 54,
   "id": "6b366482-ed7d-4c90-8e44-c00225fe17ce",
   "metadata": {},
   "outputs": [
    {
     "name": "stdout",
     "output_type": "stream",
     "text": [
      "Conan EDOGAWA, Rider, Saber, Caster, Maria, Alice, Lancer, Sakura, Anna, Yuki, Archer, Yamada, Tanaka, King, Ran MORI, Miki, Berserker, Yuri, Kei, Shin, Genta KOJIMA, Mitsuhiko TSUBURAYA, Maki, Ayumi YOSHIDA, Rin, Suzuki, Ai, Mina, Sarah, Marie, Leo, Nobunaga ODA, Yuu, Lucifer, Misaki, Michael, Haruka, Lily, Goku SON, Grandma, Hana, Rei, Tama, Hiroshi AGASA, Kogoro MORI, Kuro, Kagura, Sora, Mao, Mari, Kiki, Saito, Hiro, Char AZNABLE, Loki, Ryu, Kai, Mary, Sonoko SUZUKI, Shiro, Shinnosuke NOHARA, Ishikawa, Mimi, Gin, Freya, Suzu, Tsubaki, Jin, Sara, Mayu, Mika, Ayame, Makoto, Mai, Hitomi, John, Toshizou HIJIKATA, Kana, Maetel, Haru, Masamune DATE, Amuro RAY, Yui, Nami, Lala, Miyako, Sakamoto, Naomi, Chris, Sasaki, Akira, Rose, Kobayashi, Sakuya, Ran, Satou, David, Watanabe, Nakamura, Takahashi\n"
     ]
    }
   ],
   "source": [
    "top_100_names = training_df['Names'].value_counts().head(100).index.tolist()\n",
    "print(*top_100_names, sep=\", \")"
   ]
  },
  {
   "cell_type": "code",
   "execution_count": 55,
   "id": "4aedbf88-5987-4701-9d68-be3ab2d97a53",
   "metadata": {},
   "outputs": [
    {
     "data": {
      "text/html": [
       "<div>\n",
       "<style scoped>\n",
       "    .dataframe tbody tr th:only-of-type {\n",
       "        vertical-align: middle;\n",
       "    }\n",
       "\n",
       "    .dataframe tbody tr th {\n",
       "        vertical-align: top;\n",
       "    }\n",
       "\n",
       "    .dataframe thead th {\n",
       "        text-align: right;\n",
       "    }\n",
       "</style>\n",
       "<table border=\"1\" class=\"dataframe\">\n",
       "  <thead>\n",
       "    <tr style=\"text-align: right;\">\n",
       "      <th></th>\n",
       "      <th>Id</th>\n",
       "      <th>Names</th>\n",
       "      <th>Hair_Color</th>\n",
       "      <th>Gender</th>\n",
       "      <th>Tags</th>\n",
       "      <th>Anime</th>\n",
       "      <th>Manga</th>\n",
       "      <th>Anime_List</th>\n",
       "      <th>Cleaned_Anime_Title</th>\n",
       "      <th>Merged_Title</th>\n",
       "      <th>synopsis</th>\n",
       "      <th>Cleaned_Title</th>\n",
       "    </tr>\n",
       "  </thead>\n",
       "  <tbody>\n",
       "    <tr>\n",
       "      <th>34543</th>\n",
       "      <td>31278</td>\n",
       "      <td>NaN</td>\n",
       "      <td>Blonde Hair</td>\n",
       "      <td>Female</td>\n",
       "      <td>[Child, Child Prodigy, Elementary School Stude...</td>\n",
       "      <td>['Null &amp; Peta', 'Null &amp; Peta Special']</td>\n",
       "      <td>NaN</td>\n",
       "      <td>Null &amp; Peta</td>\n",
       "      <td>null &amp; peta</td>\n",
       "      <td>Null &amp; Peta</td>\n",
       "      <td>Genius inventor Null tragically loses her olde...</td>\n",
       "      <td>null &amp; peta</td>\n",
       "    </tr>\n",
       "  </tbody>\n",
       "</table>\n",
       "</div>"
      ],
      "text/plain": [
       "          Id Names   Hair_Color  Gender  \\\n",
       "34543  31278   NaN  Blonde Hair  Female   \n",
       "\n",
       "                                                    Tags  \\\n",
       "34543  [Child, Child Prodigy, Elementary School Stude...   \n",
       "\n",
       "                                        Anime Manga   Anime_List  \\\n",
       "34543  ['Null & Peta', 'Null & Peta Special']   NaN  Null & Peta   \n",
       "\n",
       "      Cleaned_Anime_Title Merged_Title  \\\n",
       "34543         null & peta  Null & Peta   \n",
       "\n",
       "                                                synopsis Cleaned_Title  \n",
       "34543  Genius inventor Null tragically loses her olde...   null & peta  "
      ]
     },
     "execution_count": 55,
     "metadata": {},
     "output_type": "execute_result"
    }
   ],
   "source": [
    "missing_names = training_df[training_df['Names'].isnull()]\n",
    "missing_names"
   ]
  },
  {
   "cell_type": "raw",
   "id": "e4234477-4371-44c8-bfdc-29fbe01179fb",
   "metadata": {
    "vscode": {
     "languageId": "raw"
    }
   },
   "source": [
    "=> There is only one without the name but there are other useful tags so I leave this as-is"
   ]
  },
  {
   "cell_type": "markdown",
   "id": "f3743099-ee5b-4782-bd94-471232a1a49e",
   "metadata": {},
   "source": [
    "## Hair Color Column Distribution"
   ]
  },
  {
   "cell_type": "code",
   "execution_count": 56,
   "id": "7ca30135-3278-4fc8-b4ae-60ee8ed4c39a",
   "metadata": {},
   "outputs": [
    {
     "data": {
      "image/png": "[encoded data removed]",
      "text/plain": [
       "<Figure size 1400x800 with 1 Axes>"
      ]
     },
     "metadata": {},
     "output_type": "display_data"
    }
   ],
   "source": [
    "# import visualization libraries\n",
    "import matplotlib.pyplot as plt\n",
    "import seaborn as sns\n",
    "\n",
    "hair_color_counts = training_df['Hair_Color'].value_counts()\n",
    "\n",
    "\n",
    "top_10_hair_colors = hair_color_counts.head(20)\n",
    "\n",
    "plt.figure(figsize=(14,8))\n",
    "sns.countplot(training_df, x=\"Hair_Color\", order=top_10_hair_colors.index)\n",
    "plt.xticks(rotation=45, ha='right')  \n",
    "plt.title(f'Top 10 Most Frequent Hair Colors')\n",
    "plt.xlabel('Number of Characters')\n",
    "plt.ylabel('Hair Color')\n",
    "plt.tight_layout()\n",
    "plt.show()"
   ]
  },
  {
   "cell_type": "code",
   "execution_count": 57,
   "id": "d2a27853-50ce-4bf1-9c92-13e25197da19",
   "metadata": {},
   "outputs": [
    {
     "data": {
      "text/plain": [
       "Hair_Color\n",
       "Brown Hair           19359\n",
       "Black Hair           16776\n",
       "Blonde Hair           9355\n",
       "Grey Hair             4941\n",
       "Blue Hair             3427\n",
       "White Hair            3129\n",
       "Purple Hair           2882\n",
       "Red Hair              2377\n",
       "Multicolored Hair     2129\n",
       "Green Hair            1887\n",
       "Pink Hair             1854\n",
       "Orange Hair           1573\n",
       "Turquoise Hair         623\n",
       "Magenta Hair           316\n",
       "Name: count, dtype: int64"
      ]
     },
     "execution_count": 57,
     "metadata": {},
     "output_type": "execute_result"
    }
   ],
   "source": [
    "hair_color_counts = training_df['Hair_Color'].value_counts()\n",
    "hair_color_counts"
   ]
  },
  {
   "cell_type": "raw",
   "id": "e7c2f390-db66-47f1-8a05-f6d1207bc726",
   "metadata": {},
   "source": [
    "=> Distribution of hair color seems reasonable."
   ]
  },
  {
   "cell_type": "markdown",
   "id": "713de176-919f-4d3e-afb8-0d024d167f24",
   "metadata": {},
   "source": [
    "## Handling Unnecessary text in Synopsis"
   ]
  },
  {
   "cell_type": "raw",
   "id": "474bdda5-9686-42d8-a936-619ec77d1ee0",
   "metadata": {},
   "source": [
    "Since there is unnecessary source information inside the synopsis cells, we need to remove them."
   ]
  },
  {
   "cell_type": "code",
   "execution_count": 58,
   "id": "7db2d409-982f-431d-9caf-c956a8376c33",
   "metadata": {},
   "outputs": [
    {
     "name": "stdout",
     "output_type": "stream",
     "text": [
      "Rows with '[Written by MAL Rewrite]': 44748\n"
     ]
    }
   ],
   "source": [
    "mal_rewrite_count = training_df['synopsis'].str.contains(r'\\[Written by MAL Rewrite\\]').sum()\n",
    "print(f\"Rows with '[Written by MAL Rewrite]': {mal_rewrite_count}\")"
   ]
  },
  {
   "cell_type": "code",
   "execution_count": 59,
   "id": "430622c2-dac8-431e-b9a3-5eefc9abeb1a",
   "metadata": {},
   "outputs": [
    {
     "data": {
      "text/plain": [
       "(70628, 12)"
      ]
     },
     "execution_count": 59,
     "metadata": {},
     "output_type": "execute_result"
    }
   ],
   "source": [
    "training_df.shape"
   ]
  },
  {
   "cell_type": "code",
   "execution_count": 60,
   "id": "5e26a659-7955-45d6-879a-a3906ce7d0a3",
   "metadata": {},
   "outputs": [],
   "source": [
    "# Using regex, replace the text with '' and clean up possible white spaces, newlines, etc\n",
    "training_df['synopsis'] = training_df['synopsis'].str.replace(r'\\[Written by MAL Rewrite\\]', '', regex=True)\n",
    "training_df['synopsis'] = training_df['synopsis'].str.replace(r'\\n{2,}', '\\n\\n', regex=True).str.strip()"
   ]
  },
  {
   "cell_type": "code",
   "execution_count": 61,
   "id": "dddda7da-4913-457e-ad80-d0a05cdcc63f",
   "metadata": {},
   "outputs": [
    {
     "name": "stdout",
     "output_type": "stream",
     "text": [
      "Rows with '[Written by MAL Rewrite]': 0\n"
     ]
    }
   ],
   "source": [
    "# Verify that they are removed\n",
    "mal_rewrite_count = training_df['synopsis'].str.contains(r'\\[Written by MAL Rewrite\\]').sum()\n",
    "print(f\"Rows with '[Written by MAL Rewrite]': {mal_rewrite_count}\")"
   ]
  },
  {
   "cell_type": "code",
   "execution_count": 62,
   "id": "e13383d9-b81c-4f7a-9e23-a4fb3f0cd184",
   "metadata": {},
   "outputs": [],
   "source": [
    "# Using regex, replace the text with '' and clean up possible white spaces, newlines, etc\n",
    "training_df['synopsis'] = training_df['synopsis'].str.replace(r'\\(Source:.*?\\)', '', regex=True)\n",
    "training_df['synopsis'] = training_df['synopsis'].str.replace(r'\\n{2,}', '\\n\\n', regex=True).str.strip()"
   ]
  },
  {
   "cell_type": "code",
   "execution_count": 63,
   "id": "61b764be-76ab-4326-83e1-81406b498135",
   "metadata": {},
   "outputs": [],
   "source": [
    "training_df.to_pickle('df_cleaned_synopsis.pkl')"
   ]
  },
  {
   "cell_type": "code",
   "execution_count": 64,
   "id": "080f7a72-5a3a-4bd9-9a0d-e314fc5ebc70",
   "metadata": {},
   "outputs": [
    {
     "data": {
      "text/plain": [
       "(70628, 12)"
      ]
     },
     "execution_count": 64,
     "metadata": {},
     "output_type": "execute_result"
    }
   ],
   "source": [
    "training_df.shape"
   ]
  },
  {
   "cell_type": "code",
   "execution_count": null,
   "id": "bf526030-bfc0-473c-a52c-cffea67fd3ec",
   "metadata": {},
   "outputs": [],
   "source": []
  }
 ],
 "metadata": {
  "kernelspec": {
   "display_name": "animegen",
   "language": "python",
   "name": "python3"
  },
  "language_info": {
   "codemirror_mode": {
    "name": "ipython",
    "version": 3
   },
   "file_extension": ".py",
   "mimetype": "text/x-python",
   "name": "python",
   "nbconvert_exporter": "python",
   "pygments_lexer": "ipython3",
   "version": "3.11.9"
  }
 },
 "nbformat": 4,
 "nbformat_minor": 5
}
