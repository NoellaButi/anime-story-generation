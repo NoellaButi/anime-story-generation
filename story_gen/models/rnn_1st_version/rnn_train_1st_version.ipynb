{
  "cells": [
    {
      "cell_type": "code",
      "execution_count": null,
      "metadata": {
        "id": "9C1aeZp28aQk"
      },
      "outputs": [],
      "source": [
        "# Author: Yuki Rivera\n",
        "# This notebook contains the implementation of RNN model building, training and some evaluation"
      ]
    },
    {
      "cell_type": "code",
      "execution_count": null,
      "metadata": {
        "id": "cCG4I28I82WE",
        "outputId": "869390be-cda9-42de-c778-360fd967623f"
      },
      "outputs": [],
      "source": [
        "from tensorflow.keras.preprocessing.text import Tokenizer\n",
        "from tensorflow.keras.preprocessing.sequence import pad_sequences\n",
        "from tensorflow.keras.utils import to_categorical\n",
        "from tensorflow.keras.models import Sequential\n",
        "from tensorflow.keras.layers import Dense, SimpleRNN, Embedding, TimeDistributed\n",
        "import pandas as pd\n",
        "from tensorflow.keras.models import load_model\n",
        "import pickle\n",
        "from tensorflow.keras.callbacks import ModelCheckpoint, EarlyStopping, LambdaCallback\n",
        "import matplotlib.pyplot as plt\n",
        "from tensorflow.keras.losses import sparse_categorical_crossentropy\n",
        "import tensorflow as tf\n",
        "import numpy as np\n",
        "from tensorflow.keras.layers import Dropout"
      ]
    },
    {
      "cell_type": "markdown",
      "metadata": {},
      "source": [
        "### Load the training dataset"
      ]
    },
    {
      "cell_type": "code",
      "execution_count": null,
      "metadata": {
        "id": "2G-fCEwb8_99"
      },
      "outputs": [],
      "source": [
        "training_df = pd.read_csv('prompt_synopsis_train.csv')"
      ]
    },
    {
      "cell_type": "code",
      "execution_count": null,
      "metadata": {
        "colab": {
          "base_uri": "https://localhost:8080/"
        },
        "id": "qnfPVH-DL9f9",
        "outputId": "fd9c9ec8-c9aa-4e21-baef-88792374e1b8"
      },
      "outputs": [
        {
          "data": {
            "text/plain": [
              "(63278, 2)"
            ]
          },
          "execution_count": 7,
          "metadata": {},
          "output_type": "execute_result"
        }
      ],
      "source": [
        "training_df.shape"
      ]
    },
    {
      "cell_type": "markdown",
      "metadata": {
        "id": "Jijk4wvtH_RY"
      },
      "source": [
        "### Randomly select 40000 rows from the pairs"
      ]
    },
    {
      "cell_type": "code",
      "execution_count": null,
      "metadata": {
        "id": "SeZRT6vAHwSK"
      },
      "outputs": [],
      "source": [
        "training_df = training_df.sample(n=40000, random_state=42)"
      ]
    },
    {
      "cell_type": "markdown",
      "metadata": {},
      "source": [
        "### Data Preprocessing"
      ]
    },
    {
      "cell_type": "code",
      "execution_count": null,
      "metadata": {
        "id": "Jar2SMLjCbAn"
      },
      "outputs": [],
      "source": [
        "word_limit = 3000\n",
        "pad_length = 60\n",
        "vocab_size = 3000"
      ]
    },
    {
      "cell_type": "code",
      "execution_count": null,
      "metadata": {
        "id": "p2pIBHMjN6Wj"
      },
      "outputs": [],
      "source": [
        "# instantiates a tokenizer\n",
        "tokenizer = Tokenizer(num_words=word_limit)\n",
        "# the tokenizer builds a single shared vocabulary across both the input and the output\n",
        "tokenizer.fit_on_texts(training_df['prompt'].tolist() + training_df['synopsis'].tolist())\n",
        "\n",
        "# converts each prompt or synopsis into a list of integers\n",
        "input_seqs = tokenizer.texts_to_sequences(training_df['prompt'])\n",
        "output_seqs = tokenizer.texts_to_sequences(training_df['synopsis'])\n",
        "\n",
        "# pads the sequences \n",
        "padded_input = pad_sequences(input_seqs, maxlen=pad_length, truncating='post', padding='post')\n",
        "padded_output = pad_sequences(output_seqs, maxlen=pad_length, truncating='post',padding='post')\n"
      ]
    },
    {
      "cell_type": "markdown",
      "metadata": {
        "id": "81mm4JnRloYL"
      },
      "source": [
        "### Defines RNN Model"
      ]
    },
    {
      "cell_type": "code",
      "execution_count": null,
      "metadata": {
        "id": "pg9f83z1io5x",
        "outputId": "8a2a840e-c5ac-479f-9cbb-d9f75efc5812"
      },
      "outputs": [],
      "source": [
        "# creates a sequential to group a linear stack of layers into a model\n",
        "model = Sequential()\n",
        "\n",
        "# adds the embedding layer\n",
        "model.add(Embedding(input_dim=vocab_size, output_dim=64))\n",
        "\n",
        "# adds a dropout layer\n",
        "# model.add(Dropout(0.2)) \n",
        "\n",
        "# adds the RNN layer\n",
        "model.add(SimpleRNN(64, return_sequences=True))\n",
        "\n",
        "# adds another RNN Layer\n",
        "# model.add(SimpleRNN(64, return_sequences=True))  # Second RNN layer\n",
        "\n",
        "# adds a dropout layer\n",
        "# model.add(Dropout(0.2))\n",
        "\n",
        "# adds the dense layer \n",
        "# wraps with TimeDistributed() so that the Dense layer is applied to each time step\n",
        "model.add(TimeDistributed(Dense(vocab_size, activation='softmax')))"
      ]
    },
    {
      "cell_type": "markdown",
      "metadata": {
        "id": "fN7egsM-oKQp"
      },
      "source": [
        "### Configures the model to train"
      ]
    },
    {
      "cell_type": "code",
      "execution_count": null,
      "metadata": {
        "id": "PbAiY9ysyEya"
      },
      "outputs": [],
      "source": [
        "# compiles the model with loss, optimizer, and accuracy metric\n",
        "model.compile(\n",
        "    loss='sparse_categorical_crossentropy',\n",
        "    optimizer='adam',\n",
        "    metrics=['accuracy']\n",
        ")"
      ]
    },
    {
      "cell_type": "markdown",
      "metadata": {
        "id": "5cpNxiuGEs9Q"
      },
      "source": [
        "### Display the model's performance during training"
      ]
    },
    {
      "cell_type": "code",
      "execution_count": null,
      "metadata": {},
      "outputs": [],
      "source": [
        "# samples an index from predictions with temperature to control randomness\n",
        "def sample_with_temperature(preds, temperature=0.7):\n",
        "    preds = np.asarray(preds).astype('float64')\n",
        "    preds = np.log(preds + 1e-8) / temperature\n",
        "    exp_preds = np.exp(preds)\n",
        "    preds = exp_preds / np.sum(exp_preds)\n",
        "    probas = np.random.multinomial(1, preds, 1)\n",
        "    return np.argmax(probas)"
      ]
    },
    {
      "cell_type": "markdown",
      "metadata": {},
      "source": [
        "### Helper functions to see generated text during training"
      ]
    },
    {
      "cell_type": "code",
      "execution_count": null,
      "metadata": {},
      "outputs": [],
      "source": [
        "# generates a synopsis by predicting one word at a time from a prompt\n",
        "def generate_synopsis(prompt, tokenizer, model, max_words=50, pad_length=100, temperature=0.7):\n",
        "    # tokenizes the prompt once\n",
        "    generated_tokens = tokenizer.texts_to_sequences([prompt])[0]\n",
        "\n",
        "    for _ in range(max_words):\n",
        "        # pads sequence for model input\n",
        "        input_seq = pad_sequences([generated_tokens], maxlen=pad_length, padding='pre')\n",
        "\n",
        "        # predicts next token probabilities\n",
        "        preds = model.predict(input_seq, verbose=0)[0][-1]\n",
        "\n",
        "        # samples next token with temperature\n",
        "        next_token = sample_with_temperature(preds, temperature)\n",
        "\n",
        "        # stopts if no valid next token or end token is generated (optional)\n",
        "        if next_token == 0 or next_token == tokenizer.word_index.get('<end>'):\n",
        "            break\n",
        "\n",
        "        # appends the predicted token to sequence\n",
        "        generated_tokens.append(next_token)\n",
        "\n",
        "    # decodes token IDs back to words\n",
        "    generated_words = [tokenizer.index_word.get(token, '') for token in generated_tokens]\n",
        "\n",
        "    # joins words to form the generated synopsis text\n",
        "    generated_text = ' '.join(generated_words)\n",
        "\n",
        "    return generated_text"
      ]
    },
    {
      "cell_type": "markdown",
      "metadata": {},
      "source": [
        "### Callbacks for displaying the model's output change during training"
      ]
    },
    {
      "cell_type": "code",
      "execution_count": null,
      "metadata": {
        "id": "BYe7oUYuEtj1"
      },
      "outputs": [],
      "source": [
        "# helper Function to display the model's output during training\n",
        "def make_epoch_callback(prompt, tokenizer, model):\n",
        "    def on_epoch_end(epoch, logs):\n",
        "        generated = generate_synopsis(prompt, tokenizer, model)\n",
        "        print(f\"\\n--- Epoch {epoch + 1} ---\")\n",
        "        print(\"Prompt:\", prompt)\n",
        "        print(\"Generated:\", generated)\n",
        "    return LambdaCallback(on_epoch_end=on_epoch_end)\n",
        "\n",
        "# Creates the callback with a sample prompt to see the progress\n",
        "sample_prompt = \"Create an anime with 'romance' and 'fantasy' for 'shoujo'.\"\n",
        "print_callback = make_epoch_callback(sample_prompt, tokenizer, model)"
      ]
    },
    {
      "cell_type": "markdown",
      "metadata": {
        "id": "v7wZh1fZVDdb"
      },
      "source": [
        "### Callbacks for saving the best model & early stopping"
      ]
    },
    {
      "cell_type": "code",
      "execution_count": null,
      "metadata": {
        "id": "57yyBzQUU9Sa"
      },
      "outputs": [],
      "source": [
        "# Saves the best model\n",
        "checkpoint_callback = ModelCheckpoint(\n",
        "    \"best_model.keras\",   \n",
        "    save_best_only=True,  \n",
        "    monitor='val_loss',   \n",
        "    mode='min'            \n",
        ")\n",
        "\n",
        "# Stops early if val_loss stops improving\n",
        "early_stopping = EarlyStopping(\n",
        "    monitor=\"val_loss\",\n",
        "    patience=4,\n",
        "    min_delta=0.01,\n",
        "    restore_best_weights=True\n",
        ")"
      ]
    },
    {
      "cell_type": "markdown",
      "metadata": {
        "id": "GfBw5X9hDqsI"
      },
      "source": [
        "### Creates Training and Validation sets"
      ]
    },
    {
      "cell_type": "code",
      "execution_count": null,
      "metadata": {
        "id": "5lUvtRV4DpUg"
      },
      "outputs": [],
      "source": [
        "# Example: 80% train, 20% val\n",
        "split_index = int(len(padded_input) * 0.8)\n",
        "\n",
        "X_train_padded = padded_input[:split_index]\n",
        "y_train_padded = padded_output[:split_index]\n",
        "X_val_padded = padded_input[split_index:]\n",
        "y_val_padded = padded_output[split_index:]\n"
      ]
    },
    {
      "cell_type": "markdown",
      "metadata": {
        "id": "99Xk2GlxYsyn"
      },
      "source": [
        "### Trains the model with validation data and callbacks included"
      ]
    },
    {
      "cell_type": "code",
      "execution_count": null,
      "metadata": {
        "id": "HuQwBu1gD7Fg"
      },
      "outputs": [],
      "source": [
        "batch = 128 # 128:faster, 64: slower\n",
        "repeat = 15"
      ]
    },
    {
      "cell_type": "markdown",
      "metadata": {},
      "source": [
        "### Trains the model"
      ]
    },
    {
      "cell_type": "code",
      "execution_count": null,
      "metadata": {
        "colab": {
          "base_uri": "https://localhost:8080/"
        },
        "id": "m5U7dVTkWxMz",
        "outputId": "91ac63d5-9dfe-4f3e-d5b5-51a69916d6f9"
      },
      "outputs": [
        {
          "name": "stdout",
          "output_type": "stream",
          "text": [
            "Epoch 1/15\n",
            "\u001b[1m250/250\u001b[0m \u001b[32m━━━━━━━━━━━━━━━━━━━━\u001b[0m\u001b[37m\u001b[0m \u001b[1m0s\u001b[0m 634ms/step - accuracy: 0.2070 - loss: 6.1061\n",
            "--- Epoch 1 ---\n",
            "Prompt: Create an anime with 'romance' and 'fantasy' for 'shoujo'.\n",
            "Generated: create an anime with 'romance' and 'fantasy' for 'shoujo' who of on changes\n",
            "\u001b[1m250/250\u001b[0m \u001b[32m━━━━━━━━━━━━━━━━━━━━\u001b[0m\u001b[37m\u001b[0m \u001b[1m184s\u001b[0m 724ms/step - accuracy: 0.2071 - loss: 6.1038 - val_accuracy: 0.2354 - val_loss: 5.1968\n",
            "Epoch 2/15\n",
            "\u001b[1m250/250\u001b[0m \u001b[32m━━━━━━━━━━━━━━━━━━━━\u001b[0m\u001b[37m\u001b[0m \u001b[1m0s\u001b[0m 622ms/step - accuracy: 0.2263 - loss: 5.2386\n",
            "--- Epoch 2 ---\n",
            "Prompt: Create an anime with 'romance' and 'fantasy' for 'shoujo'.\n",
            "Generated: create an anime with 'romance' and 'fantasy' for 'shoujo' the two a on siblings of\n",
            "\u001b[1m250/250\u001b[0m \u001b[32m━━━━━━━━━━━━━━━━━━━━\u001b[0m\u001b[37m\u001b[0m \u001b[1m176s\u001b[0m 705ms/step - accuracy: 0.2263 - loss: 5.2385 - val_accuracy: 0.2444 - val_loss: 5.1597\n",
            "Epoch 3/15\n",
            "\u001b[1m250/250\u001b[0m \u001b[32m━━━━━━━━━━━━━━━━━━━━\u001b[0m\u001b[37m\u001b[0m \u001b[1m0s\u001b[0m 607ms/step - accuracy: 0.2397 - loss: 5.1820\n",
            "--- Epoch 3 ---\n",
            "Prompt: Create an anime with 'romance' and 'fantasy' for 'shoujo'.\n",
            "Generated: create an anime with 'romance' and 'fantasy' for 'shoujo' the episode the with from she the and\n",
            "\u001b[1m250/250\u001b[0m \u001b[32m━━━━━━━━━━━━━━━━━━━━\u001b[0m\u001b[37m\u001b[0m \u001b[1m172s\u001b[0m 690ms/step - accuracy: 0.2397 - loss: 5.1821 - val_accuracy: 0.2452 - val_loss: 5.1419\n",
            "Epoch 4/15\n",
            "\u001b[1m250/250\u001b[0m \u001b[32m━━━━━━━━━━━━━━━━━━━━\u001b[0m\u001b[37m\u001b[0m \u001b[1m0s\u001b[0m 609ms/step - accuracy: 0.2380 - loss: 5.1831\n",
            "--- Epoch 4 ---\n",
            "Prompt: Create an anime with 'romance' and 'fantasy' for 'shoujo'.\n",
            "Generated: create an anime with 'romance' and 'fantasy' for 'shoujo' because of\n",
            "\u001b[1m250/250\u001b[0m \u001b[32m━━━━━━━━━━━━━━━━━━━━\u001b[0m\u001b[37m\u001b[0m \u001b[1m172s\u001b[0m 689ms/step - accuracy: 0.2380 - loss: 5.1831 - val_accuracy: 0.2453 - val_loss: 5.1419\n",
            "Epoch 5/15\n",
            "\u001b[1m250/250\u001b[0m \u001b[32m━━━━━━━━━━━━━━━━━━━━\u001b[0m\u001b[37m\u001b[0m \u001b[1m0s\u001b[0m 607ms/step - accuracy: 0.2388 - loss: 5.1752\n",
            "--- Epoch 5 ---\n",
            "Prompt: Create an anime with 'romance' and 'fantasy' for 'shoujo'.\n",
            "Generated: create an anime with 'romance' and 'fantasy' for 'shoujo' ago\n",
            "\u001b[1m250/250\u001b[0m \u001b[32m━━━━━━━━━━━━━━━━━━━━\u001b[0m\u001b[37m\u001b[0m \u001b[1m171s\u001b[0m 685ms/step - accuracy: 0.2388 - loss: 5.1752 - val_accuracy: 0.2453 - val_loss: 5.1396\n",
            "Epoch 6/15\n",
            "\u001b[1m250/250\u001b[0m \u001b[32m━━━━━━━━━━━━━━━━━━━━\u001b[0m\u001b[37m\u001b[0m \u001b[1m0s\u001b[0m 586ms/step - accuracy: 0.2378 - loss: 5.1791\n",
            "--- Epoch 6 ---\n",
            "Prompt: Create an anime with 'romance' and 'fantasy' for 'shoujo'.\n",
            "Generated: create an anime with 'romance' and 'fantasy' for 'shoujo' on in friends as a\n",
            "\u001b[1m250/250\u001b[0m \u001b[32m━━━━━━━━━━━━━━━━━━━━\u001b[0m\u001b[37m\u001b[0m \u001b[1m166s\u001b[0m 663ms/step - accuracy: 0.2378 - loss: 5.1791 - val_accuracy: 0.2454 - val_loss: 5.1389\n",
            "Epoch 7/15\n",
            "\u001b[1m250/250\u001b[0m \u001b[32m━━━━━━━━━━━━━━━━━━━━\u001b[0m\u001b[37m\u001b[0m \u001b[1m0s\u001b[0m 570ms/step - accuracy: 0.2356 - loss: 5.1879\n",
            "--- Epoch 7 ---\n",
            "Prompt: Create an anime with 'romance' and 'fantasy' for 'shoujo'.\n",
            "Generated: create an anime with 'romance' and 'fantasy' for 'shoujo' are to have he\n",
            "\u001b[1m250/250\u001b[0m \u001b[32m━━━━━━━━━━━━━━━━━━━━\u001b[0m\u001b[37m\u001b[0m \u001b[1m162s\u001b[0m 650ms/step - accuracy: 0.2356 - loss: 5.1878 - val_accuracy: 0.2455 - val_loss: 5.1384\n"
          ]
        }
      ],
      "source": [
        "# trains the model with teacher-forcing\n",
        "history = model.fit(\n",
        "    X_train_padded, \n",
        "    y_train_padded, \n",
        "    validation_data=(X_val_padded, y_val_padded), \n",
        "    batch_size = batch,\n",
        "    epochs = repeat,\n",
        "    callbacks=[checkpoint_callback, early_stopping, print_callback] \n",
        "    )"
      ]
    },
    {
      "cell_type": "markdown",
      "metadata": {
        "id": "ie0IdsvUn4nR"
      },
      "source": [
        "### Save the tokenizer"
      ]
    },
    {
      "cell_type": "code",
      "execution_count": null,
      "metadata": {
        "id": "-XQgHu4wnyD3"
      },
      "outputs": [],
      "source": [
        "with open(\"tokenizer.pkl\", \"wb\") as f:\n",
        "    pickle.dump(tokenizer, f)"
      ]
    },
    {
      "cell_type": "markdown",
      "metadata": {
        "id": "kxPzE4WHY9sf"
      },
      "source": [
        "### Save the training history"
      ]
    },
    {
      "cell_type": "code",
      "execution_count": null,
      "metadata": {
        "id": "MXLLUZGAY6yH"
      },
      "outputs": [],
      "source": [
        "with open('history.pkl', 'wb') as f:\n",
        "    pickle.dump(history.history, f)"
      ]
    },
    {
      "cell_type": "markdown",
      "metadata": {
        "id": "UYDf408ImHWY"
      },
      "source": [
        "### Plot the Loss Curve"
      ]
    },
    {
      "cell_type": "code",
      "execution_count": null,
      "metadata": {
        "id": "mPdhoZtso1RD",
        "outputId": "a787b89f-290e-4d46-c3cd-0291b0840235"
      },
      "outputs": [
        {
          "name": "stdout",
          "output_type": "stream",
          "text": [
            "dict_keys(['accuracy', 'loss', 'val_accuracy', 'val_loss'])\n"
          ]
        }
      ],
      "source": [
        "print(history.history.keys())"
      ]
    },
    {
      "cell_type": "code",
      "execution_count": null,
      "metadata": {
        "id": "Mg2hqIp9mFx2",
        "outputId": "b4794010-7a2f-46a9-df1d-096a38cbae79"
      },
      "outputs": [
        {
          "data": {
            "image/png": "[encoded data removed]",
            "text/plain": [
              "<Figure size 640x480 with 1 Axes>"
            ]
          },
          "metadata": {},
          "output_type": "display_data"
        }
      ],
      "source": [
        "# Plot training & validation loss\n",
        "plt.plot(history.history['loss'], label='Training Loss')\n",
        "plt.plot(history.history['val_loss'], label='Validation Loss')\n",
        "plt.title('Loss Curve')\n",
        "plt.xlabel('Epoch')\n",
        "plt.ylabel('Loss')\n",
        "plt.legend()\n",
        "plt.show()"
      ]
    },
    {
      "cell_type": "markdown",
      "metadata": {
        "id": "5ASCVBown745"
      },
      "source": [
        "### Perplexity Calculation"
      ]
    },
    {
      "cell_type": "code",
      "execution_count": null,
      "metadata": {
        "id": "tEpwdt7dUroG"
      },
      "outputs": [],
      "source": [
        "def calculate_perplexity_in_chunks(model, X_val_padded, y_val_padded, batch_size = 128, return_all = False):\n",
        "    all_perplexities = []\n",
        "\n",
        "    for i in range(0, len(X_val_padded), batch_size):\n",
        "        x_batch = X_val_padded[i:i+batch_size]\n",
        "        y_batch = y_val_padded[i:i+batch_size]\n",
        "\n",
        "        # predicts probabilities on validation set\n",
        "        y_pred = model.predict(x_batch, verbose = 0)\n",
        "\n",
        "\n",
        "        # calculates cross-entropy loss per token\n",
        "        loss_per_token = sparse_categorical_crossentropy(y_batch, y_pred)\n",
        "\n",
        "        # creates mask to ignore 0 used for padding\n",
        "        mask = tf.cast(tf.not_equal(y_batch, 0), tf.float32)\n",
        "\n",
        "        # applies mask and calculates average loss per single input-output pair\n",
        "        # by dividing total token loss by the number of real tokens\n",
        "        masked_loss = loss_per_token * mask\n",
        "        loss_per_sample = tf.reduce_sum(masked_loss, axis=1) / tf.reduce_sum(mask, axis=1)\n",
        "\n",
        "        # computes perplexity per sample and average across all input-output pairs\n",
        "        perplexity_batch = tf.exp(loss_per_sample)\n",
        "        all_perplexities.extend(perplexity_batch.numpy())\n",
        "\n",
        "    avg_perplexity = np.mean(all_perplexities)\n",
        "\n",
        "    if return_all:\n",
        "        return avg_perplexity, all_perplexities\n",
        "    else:\n",
        "        return avg_perplexity\n"
      ]
    },
    {
      "cell_type": "markdown",
      "metadata": {},
      "source": [
        "### Computes validation perplexity"
      ]
    },
    {
      "cell_type": "code",
      "execution_count": null,
      "metadata": {
        "id": "0IXjmOFx-NAn",
        "outputId": "99600ced-5021-4ec2-e485-708d5782b378"
      },
      "outputs": [
        {
          "name": "stdout",
          "output_type": "stream",
          "text": [
            "Validation Perplexity: 542.88\n"
          ]
        }
      ],
      "source": [
        "ppl = calculate_perplexity_in_chunks(model, X_val_padded, y_val_padded, batch_size=64)\n",
        "print(f\"Validation Perplexity: {ppl:.2f}\")"
      ]
    },
    {
      "cell_type": "code",
      "execution_count": null,
      "metadata": {
        "id": "b4cGKwjZoEQ-"
      },
      "outputs": [],
      "source": []
    }
  ],
  "metadata": {
    "colab": {
      "provenance": []
    },
    "kernelspec": {
      "display_name": "Python 3 (ipykernel)",
      "language": "python",
      "name": "python3"
    },
    "language_info": {
      "codemirror_mode": {
        "name": "ipython",
        "version": 3
      },
      "file_extension": ".py",
      "mimetype": "text/x-python",
      "name": "python",
      "nbconvert_exporter": "python",
      "pygments_lexer": "ipython3",
      "version": "3.11.0rc1"
    }
  },
  "nbformat": 4,
  "nbformat_minor": 0
}
