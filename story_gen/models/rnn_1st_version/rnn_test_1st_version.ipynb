{
 "cells": [
  {
   "cell_type": "code",
   "execution_count": null,
   "id": "a6db7910",
   "metadata": {},
   "outputs": [],
   "source": [
    "# Author: Yuki Rivera\n",
    "# This notebook contains the code to evaluate the trained RNN model"
   ]
  },
  {
   "cell_type": "code",
   "execution_count": null,
   "id": "8f92e49b-65e3-4883-8200-f4233546b7de",
   "metadata": {
    "id": "8f92e49b-65e3-4883-8200-f4233546b7de"
   },
   "outputs": [],
   "source": [
    "from tensorflow.keras.models import load_model\n",
    "import pickle\n",
    "import pandas as pd\n",
    "from tensorflow.keras.preprocessing.sequence import pad_sequences\n",
    "import numpy as np\n",
    "from sentence_transformers import SentenceTransformer\n",
    "from sklearn.metrics.pairwise import cosine_similarity\n",
    "from IPython.display import display\n",
    "import matplotlib.pyplot as plt\n",
    "import umap\n"
   ]
  },
  {
   "cell_type": "markdown",
   "id": "ee52c50e-34c0-4d6e-8ed3-7156b20bf1f8",
   "metadata": {
    "id": "ee52c50e-34c0-4d6e-8ed3-7156b20bf1f8"
   },
   "source": [
    "### Loads the training history, the model and the tokenizer"
   ]
  },
  {
   "cell_type": "code",
   "execution_count": null,
   "id": "84a6bf29-5e0c-4a34-b7ef-09c358dd118d",
   "metadata": {
    "id": "84a6bf29-5e0c-4a34-b7ef-09c358dd118d"
   },
   "outputs": [],
   "source": [
    "# Loads tokenizer\n",
    "with open(\"tokenizer.pkl\", \"rb\") as f:\n",
    "    tokenizer = pickle.load(f)\n",
    "\n",
    "# Loads model\n",
    "model = load_model(\"best_model.keras\")"
   ]
  },
  {
   "cell_type": "markdown",
   "id": "2f639e0b-aa52-44f5-8356-555d55604a02",
   "metadata": {
    "id": "2f639e0b-aa52-44f5-8356-555d55604a02"
   },
   "source": [
    "### Loads the testing dataset"
   ]
  },
  {
   "cell_type": "code",
   "execution_count": null,
   "id": "lMuVI-KOwyla",
   "metadata": {
    "id": "lMuVI-KOwyla"
   },
   "outputs": [],
   "source": [
    "testing_df = pd.read_csv('prompt_synopsis_test.csv')\n"
   ]
  },
  {
   "cell_type": "code",
   "execution_count": null,
   "id": "rqsoFzqH9hEM",
   "metadata": {
    "id": "rqsoFzqH9hEM"
   },
   "outputs": [],
   "source": [
    "# pd.set_option('display.max_colwidth', None)\n",
    "# testing_df.head(50)"
   ]
  },
  {
   "cell_type": "markdown",
   "id": "Jl_S1T7K-GIs",
   "metadata": {
    "id": "Jl_S1T7K-GIs"
   },
   "source": [
    "### Preprocess the testing data"
   ]
  },
  {
   "cell_type": "code",
   "execution_count": null,
   "id": "UIlawiyg8QYb",
   "metadata": {
    "id": "UIlawiyg8QYb"
   },
   "outputs": [],
   "source": [
    "testing_df = testing_df.iloc[[0, 4, 16, 25, 47],0:]\n",
    "testing_df = testing_df.reset_index(drop=True)\n",
    "\n",
    "input_prompts = testing_df['prompt']\n",
    "output_synopsis = testing_df['synopsis']\n",
    "\n",
    "test_input_seq = tokenizer.texts_to_sequences(input_prompts)\n",
    "test_output_seq = tokenizer.texts_to_sequences(output_synopsis)\n",
    "\n",
    "pad_length = 100\n",
    "\n",
    "padded_test_input = pad_sequences(test_input_seq, maxlen=pad_length)\n",
    "padded_test_output = pad_sequences(test_output_seq, maxlen=pad_length)"
   ]
  },
  {
   "cell_type": "code",
   "execution_count": null,
   "id": "ZNUat4bY_EnF",
   "metadata": {
    "id": "ZNUat4bY_EnF"
   },
   "outputs": [],
   "source": [
    "sample_input = padded_test_input\n",
    "sample_output = padded_test_output"
   ]
  },
  {
   "cell_type": "markdown",
   "id": "5Da79UpmuMa5",
   "metadata": {
    "id": "5Da79UpmuMa5"
   },
   "source": [
    "### Function to add temprature sampling"
   ]
  },
  {
   "cell_type": "code",
   "execution_count": null,
   "id": "9kOOXEGQuKmh",
   "metadata": {
    "id": "9kOOXEGQuKmh"
   },
   "outputs": [],
   "source": [
    "def sample_with_temperature(preds, temperature=0.7):\n",
    "    preds = np.asarray(preds).astype('float64')\n",
    "    preds = np.log(preds + 1e-8) / temperature\n",
    "    exp_preds = np.exp(preds)\n",
    "    preds = exp_preds / np.sum(exp_preds)\n",
    "    probas = np.random.multinomial(1, preds, 1)\n",
    "    return np.argmax(probas)"
   ]
  },
  {
   "cell_type": "markdown",
   "id": "rFB5YLdMN6fx",
   "metadata": {
    "id": "rFB5YLdMN6fx"
   },
   "source": [
    "### Function to generate Synopsis"
   ]
  },
  {
   "cell_type": "code",
   "execution_count": null,
   "id": "GnCNhMX-zXsp",
   "metadata": {
    "id": "GnCNhMX-zXsp"
   },
   "outputs": [],
   "source": [
    "def generate_synopsis(prompt, tokenizer, model, max_words=50, pad_length=100, temperature=0.7):\n",
    "    # tokenizes the prompt once\n",
    "    generated_tokens = tokenizer.texts_to_sequences([prompt])[0]\n",
    "\n",
    "    for _ in range(max_words):\n",
    "        # pads sequence for model input\n",
    "        input_seq = pad_sequences([generated_tokens], maxlen=pad_length, padding='pre')\n",
    "\n",
    "        # predicts next token probabilities\n",
    "        preds = model.predict(input_seq, verbose=0)[0][-1]\n",
    "\n",
    "        # samples next token with temperature\n",
    "        next_token = sample_with_temperature(preds, temperature)\n",
    "\n",
    "        # stopts if no valid next token or end token is generated (optional)\n",
    "        if next_token == 0 or next_token == tokenizer.word_index.get('<end>'):\n",
    "            break\n",
    "\n",
    "        # appends the predicted token to sequence\n",
    "        generated_tokens.append(next_token)\n",
    "\n",
    "    # decodes token IDs back to words\n",
    "    generated_words = [tokenizer.index_word.get(token, '') for token in generated_tokens]\n",
    "\n",
    "    # joins words to form the generated synopsis text\n",
    "    generated_text = ' '.join(generated_words)\n",
    "\n",
    "    return generated_text"
   ]
  },
  {
   "cell_type": "markdown",
   "id": "CZJ9DrIsQQ-A",
   "metadata": {
    "id": "CZJ9DrIsQQ-A"
   },
   "source": [
    "### Generates synopsis, computes cosine similarity for each pair, prints the result"
   ]
  },
  {
   "cell_type": "code",
   "execution_count": null,
   "id": "YwId4klNzJoV",
   "metadata": {
    "colab": {
     "base_uri": "https://localhost:8080/",
     "height": 528,
     "referenced_widgets": [
      "6992342d75684040b92039f8cb84cd1d",
      "c8a424b0808447d5b631d0bea2ddf766",
      "b2ff10c8d0b447d39c29ed0064947194",
      "4242ce07650441fcaf35b17eb731fc6c",
      "a019577781af4badb57856398e5ce94d",
      "3514d98054de42cd991532346cc2d5c5",
      "61b2186c738a4bbcbd2520b5b4c322d5",
      "8f3dba604627489982099c46506d89bf",
      "5e06db00a936453c8b49d2616b2c2840",
      "fcfae010b7344b11aae97ac36e82d092",
      "c99d3829886846f0b068f9fc30429946",
      "8373659946bf473cbbf77c2b3f50fa78",
      "cf48b7fee65a4eaeac028f28491cf5ca",
      "172ddc36fa654acc9ab9f4cbe08360ef",
      "3664b66f7770483ba9e201fbf6218b98",
      "c3cca9acff694220a7c7c4ed7b51b342",
      "1f28b7fd5ce9436a94ac5fcabdcaead1",
      "6fc8d9204c784b4085222e5819f3905a",
      "7b8bfb9c2fc34b00a76337c4619c1fe7",
      "8e0c9e23ad2e42b5a7b5711945471d84",
      "1f1b5b5d339d4d1fa4952e82b5a199f9",
      "869cf46cac344605990111d200b7c604",
      "5406335d173948f9bc42f843bee90317",
      "30775c508bc84547949230bb07c19e51",
      "0ab2e51b726c4872ac959e160750565a",
      "df0f5c0ab1ab43119272356f204c4420",
      "c44637c26e614e08871f64a4d4b56a1a",
      "1a7baf12949744e18cda273ed01b1b7b",
      "a7be0dd5dceb468fb3439cc68d09128e",
      "602483b68b794b7991b2404e7a5c7947",
      "62a8ba54d19f48d383fc614fedec901c",
      "bc1e57e669e7422b86b8ee8bf450b74b",
      "e70488f1cbb94d0bb3108aec60701302",
      "1e232045af354618a650631db544cf30",
      "166a1176c240406497af1eb6828f270c",
      "d59643ce32c34404b3cf92ddc0875838",
      "241f495308b54dbbb12d526854e676e9",
      "a6d093e5ebe64338a3e6a8ba8be70c98",
      "7ac81e84303046c587a2dc183cc4beb6",
      "e112951badf44ffca4154385bb3eb022",
      "b28ccdb192ed47d0a1c655bd79f9a70b",
      "d1adc9f562724d51ab04eac2bfecee57",
      "a914015e65b74aee8849ed79486cd25f",
      "a308ab8201a449f9843249b2f454f554",
      "4f18021f95af49a690b3c4aec3327f27",
      "cd37c7da2b6d47abab53a6358ca157de",
      "901476ffdbb64b3f99e9deb445113ee3",
      "304863b5182840da920097b55dc252fc",
      "b7af825e56fe4966b647a092e5cb3846",
      "e9c5c055a28e491eb39cecd3ac0c8ba0",
      "359022cd91304115884d8697064a03bb",
      "73dff51a4d9f482a8dd4f463bdab49b5",
      "0e99831136ab4b2f96e150e5266a7880",
      "c052c60097114af283a32dbcfdd942d6",
      "f9c53ee45c0843c9b1415b25d36bf92c",
      "a5eff6d88b95431ca8851377596bb169",
      "1e09d9b9c97d49f8ae4980730a45ae31",
      "7ea41731e1d348e381db4bb20f9cd8f8",
      "d8725d85848a4223878e413240c35d55",
      "69de975fb8164aaebc777a896d99b808",
      "59498c531a0b4a699ff40cb8f05d7dac",
      "79671e131e514ce4bcdbbe50f79f32ce",
      "5b3bcd7357f04cfb95b5b534f1057f98",
      "ebcc8fb453c24a2a9b222f6816272b98",
      "2371c777043142e0a2f4d13dbc6a48d1",
      "b8c62b00d39e4abcbce036d8d925c7cf",
      "11c34e72d002440a890148a21f764200",
      "fa942128a1844f94b7dbee8a71ca839c",
      "94d3dd767b684e3e8673e0c6017c8ef0",
      "91e4f3991c4e4307832daf6b2e2b36da",
      "f2e5fd0302304e9ea77accf527006370",
      "ae4777295e7b4704af7a9b586a71bcdf",
      "fbe8d97b4d8740a195e1afbe5d3b5e48",
      "4ce36f1233c54dcf9a40311b34250e7d",
      "eec101a076ff4396b228444c5be9538d",
      "84f0c7cd8b484db9b88f0fc746fb0fbb",
      "d351ca8489ef4b818b8e8f92d05cdff1",
      "0898a72441e3458f8f09d9a7283269a0",
      "fa4751a643b349478b8fac5280abfc15",
      "8b72914cc461401e9f9b77ad65814f46",
      "5b4469afba9e4b49929d56b085913149",
      "1874be5bb1a64b038c7524f676d867a2",
      "4a3e95e08b4e428284d790d83d7a5ebd",
      "e1c31ea885cb45769a8d9afd2a68c2eb",
      "c8cdfae690f04c16b7c0809070069afc",
      "3e12570cd836440abb227d365ecbf691",
      "3a5d18f44cb049d0b0586dda634d541c",
      "e9de321cbe1545c6b372ec90e41603b7",
      "7115ac1972cb4afc80aa9467a43d1b76",
      "b5b761664b64450cb5c1e504d6c4056e",
      "87f17ae0ee824aacb9ca459f82fbeca2",
      "368f5093d23e45b78ece23f83daa83ad",
      "55c55622c94d40a19dd961324cae1a02",
      "f3578998fdbc4b718e1b8218dc593dff",
      "6ffd3750142c4030a02b3b9647f7fea1",
      "b2bcf9489ed249d2af484343fb098127",
      "a930f616856d4d58a6e69265193ec883",
      "6590819a494e4985adf7c828391d6b79",
      "ea20b00be4a845e8a1dd64f666bde52f",
      "0f5486b272f8432b88869e437dda922b",
      "fb5c787be64d44c58d4be06bdfd56dfe",
      "743a241c7a774e78975b10f9a77b25b8",
      "042d2c3773e14398a0fed7b1fb7f4d28",
      "e8dbbb53a1604f13ab42f9679a4e6796",
      "f9d850a4694847fcb2a3f022819c3270",
      "07267f016ac247b6afa8d0210ca18111",
      "119f490894864307b84d78b98e637470",
      "f4490318767441ec995bf7311eb4fead",
      "97a7b1b679ca45d6bb83352ef37e1a8c",
      "26d912dbe28247809af9b9797b95e6a1",
      "a3ae35161488431e8ae0f6728542b303",
      "37abcde1f9314815aa5fb3fffa0465f5",
      "936a4a929ffb4e789d0671dab15f5baa",
      "080188e8cc8945cda3c883ced67b0f48",
      "8b1203c6f8dc4735be275263ba4758e2",
      "5e05e12bd03848da83c30c0f21727d6d",
      "231aecc241844bb7a2500b4c455ea97f",
      "3a4048cc38be4304b19a1fd218b07f12",
      "37aabaa057ba43a09907aa7114ad970d",
      "1eaa124c46a845288267ade14e96878f",
      "3eac6d8722b54e3db389bb5b8f3a04b1"
     ]
    },
    "id": "YwId4klNzJoV",
    "outputId": "7168ca36-45a9-4bef-da73-6e52a76daa1d"
   },
   "outputs": [],
   "source": [
    "# loads the embedding model\n",
    "embedding_model = SentenceTransformer('all-MiniLM-L6-v2')"
   ]
  },
  {
   "cell_type": "code",
   "execution_count": null,
   "id": "VE1tHzXuST2t",
   "metadata": {
    "colab": {
     "base_uri": "https://localhost:8080/"
    },
    "id": "VE1tHzXuST2t",
    "outputId": "b23cb61a-9c69-4291-eb4b-635b9e95328d"
   },
   "outputs": [
    {
     "name": "stdout",
     "output_type": "stream",
     "text": [
      "\n",
      "Prompt 1: Write an anime synopsis that matches 'Fantasy and Sci-Fi'.\n",
      "Generated: write an anime synopsis that matches 'fantasy and sci fi' high that the and to he\n",
      "True:      armored beings called garm engage the formless monsters called seal who are destroying the planet annwn.\n",
      "Cosine Similarity: 0.098\n",
      "——————————————————————————————————————————————————\n",
      "\n",
      "Prompt 2: Generate an anime story idea similar to 'Hyperdimension Neptunia OVA'.\n",
      "Generated: generate an anime story idea similar to ova' a life the a in and a the the\n",
      "True:      the four goddesses alongside their sistersnepgear, uni, rom, and rammeet at a famous mountain resort in lastation kingdom seeking that nostalgic summer vacation feeling. but their plan to sit back and relax in a hot spring is interrupted when the younger sisters are swept into a portal leading to a parallel universe! the seemingly unfortunate situation takes a comical turn when they are greeted by a familiar face.\n",
      "Cosine Similarity: 0.235\n",
      "——————————————————————————————————————————————————\n",
      "\n",
      "Prompt 3: Create an anime synopsis with 'Action and Supernatural' and 'School and Vampire'.\n",
      "Generated: create an anime synopsis with 'action and supernatural' and 'school and vampire'\n",
      "True:      long ago lived the nobles, an ancient race of immortal supernatural beings. they were revered as rulers and gods. among the nobles was the noblesse, a powerful individual shrouded in mystery named cadis etrama di raizel, or rai. upon awakening in south korea after an 820yearlong sleep, rai sets to find his loyal and devoted servant, frankenstein, whom he discovers to be the current director of ye ran high school. in his wish to learn more about modern civilization, rai enrolls as a student to better experience life in the modern world. noblesse: awakening details the beginning of rai's new life as a high school student as he spends time with friends and fights threats both human and supernatural in order to prevent their schemes from harming korea.\n",
      "Cosine Similarity: 0.296\n",
      "——————————————————————————————————————————————————\n",
      "\n",
      "Prompt 4: Write an anime idea in 'Action and Adventure' for 'Shounen'.\n",
      "Generated: write an anime idea in 'action and adventure' for 'shounen' the\n",
      "True:      the year is 1999. morioh, a normally quiet and peaceful town, has recently become a hotbed of strange activity. joutarou kuujou, now a marine biologist, heads to the mysterious town to meet jousuke higashikata. while the two may seem like strangers at first, jousuke is actually the illegitimate child of joutarou's grandfather, joseph joestar. when they meet, joutarou realizes that he may have more in common with jousuke than just a blood relation. along with the mildmannered kouichi hirose and the boisterous okuyasu nijimura, the group dedicates themselves to investigating recent disappearances and other suspicious occurrences within morioh. aided by the power of stands, the four men will encounter danger at every street corner, as it is up to them to unravel the town's secrets, before another occurs.\n",
      "Cosine Similarity: 0.307\n",
      "——————————————————————————————————————————————————\n",
      "\n",
      "Prompt 5: Provide me an anime story idea in 'Drama, Horror, Sci-Fi and Suspense' with 'Psychological and Super Power', similar to 'Sci-Fi Harry'.\n",
      "Generated: provide me an anime story idea in 'drama horror sci fi and suspense' with and super power' similar to 'sci fi with\n",
      "True:      harry is definitely not your average american teenager. instead, he is the epitome of an alienated youthfriendless at school, extremely weird, and nervous to the point of paranoia. but a chance occurrence causes harry to start to demonstrate what appear to be psychic powersyet he neither believes in them nor consciously controls them. however, there are other ominous forces at work who do believe in harry and attempt to make use of him in ways that are threatening and frightful.\n",
      "Cosine Similarity: 0.122\n",
      "——————————————————————————————————————————————————\n"
     ]
    }
   ],
   "source": [
    "# sets how many times we want to run the loop\n",
    "count = len(sample_input)\n",
    "\n",
    "# list for saving the results\n",
    "results = []\n",
    "\n",
    "# loop through the input\n",
    "for i in range(count):\n",
    "    prompt = input_prompts[i]       \n",
    "    true = output_synopsis[i]       \n",
    "    generated = generate_synopsis(prompt, tokenizer, model)\n",
    "\n",
    "    # calculates sentence embeddings using the sentence-transformer model\n",
    "    emb_true = embedding_model.encode(true)\n",
    "    emb_generated = embedding_model.encode(generated)\n",
    "\n",
    "    similarity = cosine_similarity([emb_true], [emb_generated])[0][0]\n",
    "\n",
    "    # stores the prompt, generated and target text\n",
    "    # along with the cosine similarity as a dictionary\n",
    "    results.append({\n",
    "        \"prompt\":prompt,\n",
    "        \"generated\":generated,\n",
    "        \"true\":true,\n",
    "        \"cosine_similarity\": similarity\n",
    "        })\n",
    "\n",
    "    # prints only the first 10 examples\n",
    "    if i < 10:\n",
    "      print(f\"\\nPrompt {i+1}: {prompt}\")\n",
    "      print(f\"Generated: {generated}\")\n",
    "      print(f\"True:      {true}\")\n",
    "      print(f\"Cosine Similarity: {similarity:.3f}\")\n",
    "      print(\"—\" * 50)"
   ]
  },
  {
   "cell_type": "markdown",
   "id": "99b4f2f4",
   "metadata": {},
   "source": [
    "### Saves the results to csv file"
   ]
  },
  {
   "cell_type": "code",
   "execution_count": null,
   "id": "UVDZuKg5k7h9",
   "metadata": {
    "id": "UVDZuKg5k7h9"
   },
   "outputs": [],
   "source": [
    "# Converts the results to DataFrame and save to csv for record\n",
    "df_results = pd.DataFrame(results)\n",
    "df_results.to_csv(\"generated_results_with_similarity_calc.csv\", index=False)"
   ]
  },
  {
   "cell_type": "markdown",
   "id": "BzEkXWUy7vqC",
   "metadata": {
    "id": "BzEkXWUy7vqC"
   },
   "source": [
    "### Table for comparison"
   ]
  },
  {
   "cell_type": "code",
   "execution_count": null,
   "id": "tZcxG88j7tQh",
   "metadata": {
    "colab": {
     "base_uri": "https://localhost:8080/",
     "height": 692
    },
    "id": "tZcxG88j7tQh",
    "outputId": "7778767d-fdff-48b6-f796-21f381ee7842"
   },
   "outputs": [
    {
     "data": {
      "text/html": [
       "<style type=\"text/css\">\n",
       "#T_a7b70 th {\n",
       "  text-align: left;\n",
       "}\n",
       "#T_a7b70_row0_col0, #T_a7b70_row0_col1, #T_a7b70_row0_col2, #T_a7b70_row0_col3, #T_a7b70_row1_col0, #T_a7b70_row1_col1, #T_a7b70_row1_col2, #T_a7b70_row1_col3, #T_a7b70_row2_col0, #T_a7b70_row2_col1, #T_a7b70_row2_col2, #T_a7b70_row2_col3, #T_a7b70_row3_col0, #T_a7b70_row3_col1, #T_a7b70_row3_col2, #T_a7b70_row3_col3, #T_a7b70_row4_col0, #T_a7b70_row4_col1, #T_a7b70_row4_col2, #T_a7b70_row4_col3 {\n",
       "  text-align: left;\n",
       "  white-space: pre-wrap;\n",
       "}\n",
       "</style>\n",
       "<table id=\"T_a7b70\" class=\"dataframe\">\n",
       "  <thead>\n",
       "    <tr>\n",
       "      <th class=\"blank level0\" >&nbsp;</th>\n",
       "      <th id=\"T_a7b70_level0_col0\" class=\"col_heading level0 col0\" >prompt</th>\n",
       "      <th id=\"T_a7b70_level0_col1\" class=\"col_heading level0 col1\" >generated</th>\n",
       "      <th id=\"T_a7b70_level0_col2\" class=\"col_heading level0 col2\" >true</th>\n",
       "      <th id=\"T_a7b70_level0_col3\" class=\"col_heading level0 col3\" >cosine_similarity</th>\n",
       "    </tr>\n",
       "  </thead>\n",
       "  <tbody>\n",
       "    <tr>\n",
       "      <th id=\"T_a7b70_level0_row0\" class=\"row_heading level0 row0\" >0</th>\n",
       "      <td id=\"T_a7b70_row0_col0\" class=\"data row0 col0\" >Write an anime synopsis that matches 'Fantasy and Sci-Fi'.</td>\n",
       "      <td id=\"T_a7b70_row0_col1\" class=\"data row0 col1\" >write an anime synopsis that matches 'fantasy and sci fi' high that the and to he</td>\n",
       "      <td id=\"T_a7b70_row0_col2\" class=\"data row0 col2\" >armored beings called garm engage the formless monsters called seal who are destroying the planet annwn.</td>\n",
       "      <td id=\"T_a7b70_row0_col3\" class=\"data row0 col3\" >0.098360</td>\n",
       "    </tr>\n",
       "    <tr>\n",
       "      <th id=\"T_a7b70_level0_row1\" class=\"row_heading level0 row1\" >1</th>\n",
       "      <td id=\"T_a7b70_row1_col0\" class=\"data row1 col0\" >Generate an anime story idea similar to 'Hyperdimension Neptunia OVA'.</td>\n",
       "      <td id=\"T_a7b70_row1_col1\" class=\"data row1 col1\" >generate an anime story idea similar to ova' a life the a in and a the the</td>\n",
       "      <td id=\"T_a7b70_row1_col2\" class=\"data row1 col2\" >the four goddesses alongside their sistersnepgear, uni, rom, and rammeet at a famous mountain resort in lastation kingdom seeking that nostalgic summer vacation feeling. but their plan to sit back and relax in a hot spring is interrupted when the younger sisters are swept into a portal leading to a parallel universe! the seemingly unfortunate situation takes a comical turn when they are greeted by a familiar face.</td>\n",
       "      <td id=\"T_a7b70_row1_col3\" class=\"data row1 col3\" >0.235013</td>\n",
       "    </tr>\n",
       "    <tr>\n",
       "      <th id=\"T_a7b70_level0_row2\" class=\"row_heading level0 row2\" >2</th>\n",
       "      <td id=\"T_a7b70_row2_col0\" class=\"data row2 col0\" >Create an anime synopsis with 'Action and Supernatural' and 'School and Vampire'.</td>\n",
       "      <td id=\"T_a7b70_row2_col1\" class=\"data row2 col1\" >create an anime synopsis with 'action and supernatural' and 'school and vampire'</td>\n",
       "      <td id=\"T_a7b70_row2_col2\" class=\"data row2 col2\" >long ago lived the nobles, an ancient race of immortal supernatural beings. they were revered as rulers and gods. among the nobles was the noblesse, a powerful individual shrouded in mystery named cadis etrama di raizel, or rai. upon awakening in south korea after an 820yearlong sleep, rai sets to find his loyal and devoted servant, frankenstein, whom he discovers to be the current director of ye ran high school. in his wish to learn more about modern civilization, rai enrolls as a student to better experience life in the modern world. noblesse: awakening details the beginning of rai's new life as a high school student as he spends time with friends and fights threats both human and supernatural in order to prevent their schemes from harming korea.</td>\n",
       "      <td id=\"T_a7b70_row2_col3\" class=\"data row2 col3\" >0.295556</td>\n",
       "    </tr>\n",
       "    <tr>\n",
       "      <th id=\"T_a7b70_level0_row3\" class=\"row_heading level0 row3\" >3</th>\n",
       "      <td id=\"T_a7b70_row3_col0\" class=\"data row3 col0\" >Write an anime idea in 'Action and Adventure' for 'Shounen'.</td>\n",
       "      <td id=\"T_a7b70_row3_col1\" class=\"data row3 col1\" >write an anime idea in 'action and adventure' for 'shounen' the</td>\n",
       "      <td id=\"T_a7b70_row3_col2\" class=\"data row3 col2\" >the year is 1999. morioh, a normally quiet and peaceful town, has recently become a hotbed of strange activity. joutarou kuujou, now a marine biologist, heads to the mysterious town to meet jousuke higashikata. while the two may seem like strangers at first, jousuke is actually the illegitimate child of joutarou's grandfather, joseph joestar. when they meet, joutarou realizes that he may have more in common with jousuke than just a blood relation. along with the mildmannered kouichi hirose and the boisterous okuyasu nijimura, the group dedicates themselves to investigating recent disappearances and other suspicious occurrences within morioh. aided by the power of stands, the four men will encounter danger at every street corner, as it is up to them to unravel the town's secrets, before another occurs.</td>\n",
       "      <td id=\"T_a7b70_row3_col3\" class=\"data row3 col3\" >0.306565</td>\n",
       "    </tr>\n",
       "    <tr>\n",
       "      <th id=\"T_a7b70_level0_row4\" class=\"row_heading level0 row4\" >4</th>\n",
       "      <td id=\"T_a7b70_row4_col0\" class=\"data row4 col0\" >Provide me an anime story idea in 'Drama, Horror, Sci-Fi and Suspense' with 'Psychological and Super Power', similar to 'Sci-Fi Harry'.</td>\n",
       "      <td id=\"T_a7b70_row4_col1\" class=\"data row4 col1\" >provide me an anime story idea in 'drama horror sci fi and suspense' with and super power' similar to 'sci fi with</td>\n",
       "      <td id=\"T_a7b70_row4_col2\" class=\"data row4 col2\" >harry is definitely not your average american teenager. instead, he is the epitome of an alienated youthfriendless at school, extremely weird, and nervous to the point of paranoia. but a chance occurrence causes harry to start to demonstrate what appear to be psychic powersyet he neither believes in them nor consciously controls them. however, there are other ominous forces at work who do believe in harry and attempt to make use of him in ways that are threatening and frightful.</td>\n",
       "      <td id=\"T_a7b70_row4_col3\" class=\"data row4 col3\" >0.121764</td>\n",
       "    </tr>\n",
       "  </tbody>\n",
       "</table>\n"
      ],
      "text/plain": [
       "<pandas.io.formats.style.Styler at 0x7ea314f69850>"
      ]
     },
     "execution_count": 19,
     "metadata": {},
     "output_type": "execute_result"
    }
   ],
   "source": [
    "# shows full text in cells\n",
    "pd.set_option('display.max_colwidth', None)\n",
    "\n",
    "# displays a table nicely\n",
    "\n",
    "df_results.head(10).style.set_properties(**{\n",
    "    'text-align': 'left',\n",
    "    'white-space': 'pre-wrap'\n",
    "}).set_table_styles([{\n",
    "    'selector': 'th',\n",
    "    'props': [('text-align', 'left')]\n",
    "}])\n"
   ]
  },
  {
   "cell_type": "markdown",
   "id": "dANx9YvKyUmB",
   "metadata": {
    "id": "dANx9YvKyUmB"
   },
   "source": [
    "### Visualizing Prompt vs Output Embeddings Scatter Plot Using UMAP"
   ]
  },
  {
   "cell_type": "code",
   "execution_count": null,
   "id": "pOpeyo-pQism",
   "metadata": {
    "colab": {
     "base_uri": "https://localhost:8080/",
     "height": 731
    },
    "id": "pOpeyo-pQism",
    "outputId": "d4c2a0c6-309e-4f20-ec0e-0686d08f55b0"
   },
   "outputs": [
    {
     "name": "stderr",
     "output_type": "stream",
     "text": [
      "/usr/local/lib/python3.11/dist-packages/sklearn/utils/deprecation.py:151: FutureWarning: 'force_all_finite' was renamed to 'ensure_all_finite' in 1.6 and will be removed in 1.8.\n",
      "  warnings.warn(\n",
      "/usr/local/lib/python3.11/dist-packages/umap/umap_.py:1952: UserWarning: n_jobs value 1 overridden to 1 by setting random_state. Use no seed for parallelism.\n",
      "  warn(\n",
      "/usr/local/lib/python3.11/dist-packages/umap/umap_.py:2462: UserWarning: n_neighbors is larger than the dataset size; truncating to X.shape[0] - 1\n",
      "  warn(\n"
     ]
    },
    {
     "data": {
      "image/png": "[encoded data removed]",
      "text/plain": [
       "<Figure size 1000x600 with 1 Axes>"
      ]
     },
     "metadata": {},
     "output_type": "display_data"
    }
   ],
   "source": [
    "# extracts the prompt and generated synopsis from the results list\n",
    "prompts = [row[\"prompt\"] for row in results]\n",
    "generated_outputs = [row[\"generated\"] for row in results]\n",
    "\n",
    "# converts each prompt and generated output into a high-dim vector\n",
    "prompt_embeddings = embedding_model.encode(prompts)\n",
    "output_embeddings = embedding_model.encode(generated_outputs)\n",
    "\n",
    "# combines both embeddings into a single array\n",
    "all_embeddings = np.vstack([prompt_embeddings, output_embeddings])\n",
    "\n",
    "# reduces the dimension for visualization\n",
    "reducer = umap.UMAP(n_components=2, random_state=42)\n",
    "umap_embeddings = reducer.fit_transform(all_embeddings)\n",
    "\n",
    "# splits embeddings into the prompt and the output\n",
    "n = len(prompts)\n",
    "umap_prompts = umap_embeddings[:n]\n",
    "umap_outputs = umap_embeddings[n:]\n",
    "\n",
    "# plots a scatterplot\n",
    "plt.figure(figsize=(10, 6))\n",
    "plt.scatter(umap_prompts[:, 0], umap_prompts[:, 1], label=\"Prompts\", alpha=0.7)\n",
    "plt.scatter(umap_outputs[:, 0], umap_outputs[:, 1], label=\"RNN Outputs\", alpha=0.7)\n",
    "\n",
    "# draws light gray lines to show the differences between the prompt vs output\n",
    "for i in range(n):\n",
    "    plt.plot([umap_prompts[i, 0], umap_outputs[i, 0]],\n",
    "             [umap_prompts[i, 1], umap_outputs[i, 1]],\n",
    "             c='gray', linewidth=0.5)\n",
    "\n",
    "plt.title(\"Prompt vs RNN Output Embedding Projection (UMAP)\")\n",
    "plt.xlabel(\"UMAP Dimension 1\")\n",
    "plt.ylabel(\"UMAP Dimension 2\")\n",
    "plt.legend()\n",
    "plt.grid(True)\n",
    "plt.tight_layout()\n",
    "plt.show()"
   ]
  }
 ],
 "metadata": {
  "colab": {
   "provenance": []
  },
  "kernelspec": {
   "display_name": "Python 3 (ipykernel)",
   "language": "python",
   "name": "python3"
  },
  "language_info": {
   "codemirror_mode": {
    "name": "ipython",
    "version": 3
   },
   "file_extension": ".py",
   "mimetype": "text/x-python",
   "name": "python",
   "nbconvert_exporter": "python",
   "pygments_lexer": "ipython3",
   "version": "3.11.11"
  }
 },
 "nbformat": 4,
 "nbformat_minor": 5
}
