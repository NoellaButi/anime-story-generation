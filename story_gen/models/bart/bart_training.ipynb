{
 "cells": [
  {
   "cell_type": "code",
   "execution_count": 1,
   "id": "0ee4c30e",
   "metadata": {},
   "outputs": [],
   "source": [
    "# Author: Yuki Rivera\n",
    "# This notebook contains code to fine-tune the pretrained bart-base model with our anime project dataset"
   ]
  },
  {
   "cell_type": "markdown",
   "id": "4bd81bcb",
   "metadata": {},
   "source": [
    "### Install required libraries "
   ]
  },
  {
   "cell_type": "code",
   "execution_count": null,
   "id": "65d84b66",
   "metadata": {},
   "outputs": [],
   "source": [
    "!pip install datasets matplotlib pandas numpy accelerate scikit-learn"
   ]
  },
  {
   "cell_type": "code",
   "execution_count": null,
   "id": "ca265d18",
   "metadata": {},
   "outputs": [],
   "source": [
    "!pip install transformers==4.51.3"
   ]
  },
  {
   "cell_type": "markdown",
   "id": "861b6680",
   "metadata": {},
   "source": [
    "### Set the path for storage"
   ]
  },
  {
   "cell_type": "code",
   "execution_count": 1,
   "id": "97534869",
   "metadata": {
    "executionInfo": {
     "elapsed": 1,
     "status": "ok",
     "timestamp": 1748847169449,
     "user": {
      "displayName": "Yukiko Rivera",
      "userId": "02699279760362859349"
     },
     "user_tz": 420
    },
    "id": "97534869"
   },
   "outputs": [],
   "source": [
    "path = \"./\""
   ]
  },
  {
   "cell_type": "code",
   "execution_count": 2,
   "id": "19a3ac85",
   "metadata": {
    "executionInfo": {
     "elapsed": 1,
     "status": "ok",
     "timestamp": 1748847169451,
     "user": {
      "displayName": "Yukiko Rivera",
      "userId": "02699279760362859349"
     },
     "user_tz": 420
    },
    "id": "19a3ac85"
   },
   "outputs": [],
   "source": [
    "output_dir = path + \"results/\"\n",
    "logging_dir = output_dir + \"logs/\""
   ]
  },
  {
   "cell_type": "code",
   "execution_count": 5,
   "id": "cfc78711",
   "metadata": {},
   "outputs": [],
   "source": [
    "import os\n",
    "\n",
    "os.makedirs(output_dir, exist_ok=True)\n",
    "os.makedirs(logging_dir, exist_ok=True)"
   ]
  },
  {
   "cell_type": "markdown",
   "id": "c253f317",
   "metadata": {
    "id": "c253f317"
   },
   "source": [
    "### Import necessary libraries"
   ]
  },
  {
   "cell_type": "code",
   "execution_count": 6,
   "id": "c05d94d4",
   "metadata": {
    "executionInfo": {
     "elapsed": 18042,
     "status": "ok",
     "timestamp": 1748847187494,
     "user": {
      "displayName": "Yukiko Rivera",
      "userId": "02699279760362859349"
     },
     "user_tz": 420
    },
    "id": "c05d94d4"
   },
   "outputs": [],
   "source": [
    "from transformers import BartTokenizer, BartForConditionalGeneration, Trainer, TrainingArguments, DataCollatorForSeq2Seq\n",
    "from transformers import EarlyStoppingCallback\n",
    "from datasets import Dataset\n",
    "import pandas as pd\n",
    "import torch\n",
    "import math\n",
    "import numpy as np\n",
    "from torch.nn import CrossEntropyLoss\n",
    "import os\n",
    "import json\n",
    "import matplotlib.pyplot as plt\n",
    "from torch.utils.data import DataLoader\n",
    "import glob\n",
    "from sklearn.metrics import log_loss"
   ]
  },
  {
   "cell_type": "markdown",
   "id": "2d8d10d2",
   "metadata": {
    "id": "2d8d10d2"
   },
   "source": [
    "### Loads the training data"
   ]
  },
  {
   "cell_type": "code",
   "execution_count": 7,
   "id": "c012dc61",
   "metadata": {
    "executionInfo": {
     "elapsed": 2130,
     "status": "ok",
     "timestamp": 1748847189625,
     "user": {
      "displayName": "Yukiko Rivera",
      "userId": "02699279760362859349"
     },
     "user_tz": 420
    },
    "id": "c012dc61"
   },
   "outputs": [],
   "source": [
    "df = pd.read_csv(\"prompt_synopsis_train.csv\")\n",
    "df = df[[\"prompt\", \"synopsis\"]].dropna()\n",
    "\n",
    "# Converts to HuggingFace Dataset for Trainer compatibility\n",
    "dataset = Dataset.from_pandas(df)"
   ]
  },
  {
   "cell_type": "markdown",
   "id": "62a08e9a",
   "metadata": {},
   "source": [
    "### Loads the tokenizer and the model"
   ]
  },
  {
   "cell_type": "code",
   "execution_count": null,
   "id": "d8a984cc",
   "metadata": {
    "colab": {
     "base_uri": "https://localhost:8080/",
     "height": 336,
     "referenced_widgets": [
      "e79c153f4e60460c9ff7d5ccd950b576",
      "f8ba87e87aa848068793a142105dc7de",
      "ec5f955b5f2041de9a714546111090e8",
      "bc11d528e2b740208614778b34208d9e",
      "c8729f6baab2430095574c52cd0b155a",
      "bca04e2897694292b6aa07fbbbda08f3",
      "b43d6364ddf0477188b92e52088b51d5",
      "d1517b150dfa40d39da17e9c386babc0",
      "ad510bd2e90c4fdda158bd25059322f7",
      "593850f673e34bdfa124d88a6304a2d4",
      "5222e70ba97d4ab68d64b462860c9086",
      "069da47ea1f74cfe940d51bf70ff2336",
      "5ae26c3895ee42278dce1959b6987aa9",
      "ea2e03f7a58c4510bbcc726947e33a03",
      "5c244a4ddf464aad98cf1fc8d2bca0f5",
      "54256c04ed584418847c7191daf7da06",
      "b3b10ae7b9df4f30aecdbd8085f5d4f1",
      "3870c8687315433e8ac711e2b17fc902",
      "54a98202c53e413786d6860ebbf003be",
      "0ab6b1b0dd484828b8ce71fc94988cd2",
      "c5fb408f4e704435b8af23a318b2b49e",
      "fcf961ad7606462d8677786187d8eead",
      "69fa920ccbc148a99e1ab37f298f34e3",
      "80048e6b8e044b50a9926eaecbe2b2a9",
      "1609cc50361b4511a67facef2938bfd0",
      "76087b4942ab40eb9ccfaf443d72cae1",
      "bd06f6a9df5d43bdba9032fd97564260",
      "13c57d3d83b44aef8126d91f635081dd",
      "08d9e7ee66cc4d9ab06fa8dff5e2ec10",
      "84c920500bbf4912a3fa73c47782a03f",
      "d674797d561a4c5698078925db537a90",
      "e04ec34374f042aa93e8b6e0fe1c0b65",
      "5fc18ac2245e4a1bbb1d38d310a98c93",
      "9c05f9a6fb26451fabb048f474fb611e",
      "274d3c1e91d14737b9138f9797227e6e",
      "48b37c54106e4b8f89c469b84f94e1ae",
      "f911cf315ef94f6faed78a8bb5aa7e31",
      "492e6148bc8142b5949606fd1fde3f3a",
      "95a20311a38444688b7b8ce003631329",
      "6adc89f83dfc4331b78913b7d9a299ee",
      "fc5bd67173cb47d98533902259e46954",
      "d885200348294d89a51c2833963236ec",
      "05409d55ce6a4964bebf207ab45c85e1",
      "7aff3f348ce54187995eb28429ea6fc7",
      "83118420d3be4a97998a51f787f3f4e4",
      "b66f00497ad7487d95990192db2449bc",
      "55d13ca54c26425398677447acc37e32",
      "d08480f4ed014b338eecae638861154c",
      "94f3f55e634042c198fc2b34dc83d50a",
      "e69a69841eea4bff98b4688b013c57b0",
      "161d0c305bcc4e95a440cfab54ea4a4d",
      "877258df1e98423680b0b60f9139cdca",
      "cd3e88f8719e47ffbbfb4c42c4b37d81",
      "fafcb759fa634e4db60c002cf078b62a",
      "6c6a1a8bf3834ebca68e6e3979db5301"
     ]
    },
    "executionInfo": {
     "elapsed": 4526,
     "status": "ok",
     "timestamp": 1748847194153,
     "user": {
      "displayName": "Yukiko Rivera",
      "userId": "02699279760362859349"
     },
     "user_tz": 420
    },
    "id": "d8a984cc",
    "outputId": "73cbc907-59b5-4d8d-fbb9-826e3830d113"
   },
   "outputs": [],
   "source": [
    "tokenizer = BartTokenizer.from_pretrained(\"facebook/bart-base\")\n",
    "model = BartForConditionalGeneration.from_pretrained(\"facebook/bart-base\")"
   ]
  },
  {
   "cell_type": "markdown",
   "id": "142c82df",
   "metadata": {},
   "source": [
    "### Hyperparameters to use for training"
   ]
  },
  {
   "cell_type": "code",
   "execution_count": null,
   "id": "6e81b645",
   "metadata": {
    "executionInfo": {
     "elapsed": 12,
     "status": "ok",
     "timestamp": 1748847194166,
     "user": {
      "displayName": "Yukiko Rivera",
      "userId": "02699279760362859349"
     },
     "user_tz": 420
    },
    "id": "6e81b645"
   },
   "outputs": [],
   "source": [
    "# flag to whether or not to use the full dataset\n",
    "use_full_data = True\n",
    "\n",
    "# number of rows to use for training\n",
    "num_rows_to_use = 10000  # Ignored if use_full_data is True\n",
    "\n",
    "# max # of tokens\n",
    "enc_max_len = 64  \n",
    "dec_max_len = 150\n",
    "\n",
    "random = 42\n",
    "validation_ratio = 0.2\n",
    "\n",
    "# variables to set for the training\n",
    "epochs = 10   \n",
    "batch_size = 32   \n",
    "log_steps = 200   \n",
    "save_limit = 2   \n",
    "stopping_patience = 3  \n",
    "eval_steps = 500  \n",
    "\n",
    "# learning rate \n",
    "alpha = 3e-5 \n",
    "# helps prevent overfitting\n",
    "weight_decay = 0.01  \n",
    "\n",
    "scheduler_type = 'linear' \n",
    "# simulates larger batches without more memory\n",
    "accumulation_steps = 2  \n",
    "# warmup_step ratio (helps stabilize training early on)\n",
    "ratio = 0.1"
   ]
  },
  {
   "cell_type": "code",
   "execution_count": null,
   "id": "8b32a508",
   "metadata": {
    "executionInfo": {
     "elapsed": 1,
     "status": "ok",
     "timestamp": 1748847194168,
     "user": {
      "displayName": "Yukiko Rivera",
      "userId": "02699279760362859349"
     },
     "user_tz": 420
    },
    "id": "8b32a508"
   },
   "outputs": [],
   "source": [
    "# computes warmup_steps depending on the size of data used\n",
    "if use_full_data:\n",
    "    total_samples = len(df)  \n",
    "else:\n",
    "    total_samples = num_rows_to_use\n",
    "warmup_steps = int(ratio * (total_samples // batch_size) * epochs)"
   ]
  },
  {
   "cell_type": "markdown",
   "id": "1a6932e5",
   "metadata": {},
   "source": [
    "### Function to tokenize data"
   ]
  },
  {
   "cell_type": "code",
   "execution_count": 11,
   "id": "b04194f0",
   "metadata": {
    "executionInfo": {
     "elapsed": 1,
     "status": "ok",
     "timestamp": 1748847194171,
     "user": {
      "displayName": "Yukiko Rivera",
      "userId": "02699279760362859349"
     },
     "user_tz": 420
    },
    "id": "b04194f0"
   },
   "outputs": [],
   "source": [
    "def tokenize_data(example):\n",
    "    model_inputs = tokenizer(\n",
    "        example[\"prompt\"],\n",
    "        truncation=True,\n",
    "        max_length=enc_max_len\n",
    "    )\n",
    "\n",
    "    with tokenizer.as_target_tokenizer():\n",
    "        labels = tokenizer(\n",
    "            example[\"synopsis\"],\n",
    "            truncation=True,\n",
    "            max_length=dec_max_len,\n",
    "            add_special_tokens=True  \n",
    "        )\n",
    "\n",
    "    model_inputs[\"labels\"] = labels[\"input_ids\"]\n",
    "    return model_inputs\n"
   ]
  },
  {
   "cell_type": "markdown",
   "id": "7ff1bf98",
   "metadata": {
    "id": "7ff1bf98"
   },
   "source": [
    "### Prepare the training and validation sets"
   ]
  },
  {
   "cell_type": "code",
   "execution_count": 12,
   "id": "c67ea1da",
   "metadata": {
    "executionInfo": {
     "elapsed": 18,
     "status": "ok",
     "timestamp": 1748847194191,
     "user": {
      "displayName": "Yukiko Rivera",
      "userId": "02699279760362859349"
     },
     "user_tz": 420
    },
    "id": "c67ea1da"
   },
   "outputs": [],
   "source": [
    "if use_full_data:\n",
    "    df_sampled = dataset\n",
    "else:\n",
    "    df_sampled = dataset.shuffle(seed=random).select(range(num_rows_to_use))"
   ]
  },
  {
   "cell_type": "code",
   "execution_count": 13,
   "id": "46eddcf0",
   "metadata": {
    "executionInfo": {
     "elapsed": 25,
     "status": "ok",
     "timestamp": 1748847194219,
     "user": {
      "displayName": "Yukiko Rivera",
      "userId": "02699279760362859349"
     },
     "user_tz": 420
    },
    "id": "46eddcf0"
   },
   "outputs": [],
   "source": [
    "# Splits the dataset to the training and the validation sets\n",
    "split = df_sampled.train_test_split(test_size=validation_ratio, seed=42)\n",
    "train_raw = split[\"train\"]\n",
    "eval_raw = split[\"test\"]"
   ]
  },
  {
   "cell_type": "code",
   "execution_count": 14,
   "id": "d9ba2d42",
   "metadata": {
    "colab": {
     "base_uri": "https://localhost:8080/",
     "height": 98,
     "referenced_widgets": [
      "1faa2d1b06ff40af9da0f8a73061270b",
      "d738e8bf5d544dcdaf5b494d8c5f8dfa",
      "103d42d6a47c46b28d647a02cfda4023",
      "6dd3297559034217b6377861e09ab65f",
      "d1eff90f4fc04877923d83d2e87cc964",
      "898c0c2da8d54bf1b524dabc0169ff4b",
      "1123a51c346a464680b3889153a8297a",
      "bafb398502ba4a2bb12572f2772b5368",
      "cca3bcf65b344aca8625bde56a39558e",
      "94db4f7b52cd4d87a8c5b636d801c866",
      "3d0ae45aa8d145e8a9f782f209265627",
      "0dad9800c3924f01b166da6206d4bdce",
      "e7a1be21b31a4fde95702333ba408ab8",
      "84c21806260344bfa0a1357d6d2bb8cb",
      "7ed8cb6cc4a345e2a942366c74c17fa0",
      "c5cf424fa7af4afab3cccaee4d95adde",
      "4d1d7ecadd4f48e29e318e59fd9ebde6",
      "ad5774c80ff949f9aff80a781face8cb",
      "ae1f653fe29b4bb7975eb0a5e67e2f60",
      "e3090d60cdf24841a34977dc6c2645cc",
      "36f29a6908d043d2b745caf603c6ff96",
      "00a540b7b41f443c9ab5312f678f348f"
     ]
    },
    "executionInfo": {
     "elapsed": 22579,
     "status": "ok",
     "timestamp": 1748847216799,
     "user": {
      "displayName": "Yukiko Rivera",
      "userId": "02699279760362859349"
     },
     "user_tz": 420
    },
    "id": "d9ba2d42",
    "outputId": "1a8524fb-839b-4970-89e4-342939b90282"
   },
   "outputs": [
    {
     "data": {
      "application/vnd.jupyter.widget-view+json": {
       "model_id": "fdbf3e3763104715b8704371ee46bf46",
       "version_major": 2,
       "version_minor": 0
      },
      "text/plain": [
       "Map:   0%|          | 0/48208 [00:00<?, ? examples/s]"
      ]
     },
     "metadata": {},
     "output_type": "display_data"
    },
    {
     "name": "stderr",
     "output_type": "stream",
     "text": [
      "/usr/local/lib/python3.10/dist-packages/transformers/tokenization_utils_base.py:3980: UserWarning: `as_target_tokenizer` is deprecated and will be removed in v5 of Transformers. You can tokenize your labels by using the argument `text_target` of the regular `__call__` method (either in the same call as your input texts if you use the same keyword arguments, or in a separate call.\n",
      "  warnings.warn(\n"
     ]
    },
    {
     "data": {
      "application/vnd.jupyter.widget-view+json": {
       "model_id": "1d1750e8af834c01b42d37d2df6d3fd9",
       "version_major": 2,
       "version_minor": 0
      },
      "text/plain": [
       "Map:   0%|          | 0/12052 [00:00<?, ? examples/s]"
      ]
     },
     "metadata": {},
     "output_type": "display_data"
    }
   ],
   "source": [
    "# Applies the tokenizing function to both sets\n",
    "train_dataset = train_raw.map(tokenize_data, batched=True)\n",
    "eval_dataset = eval_raw.map(tokenize_data, batched=True)"
   ]
  },
  {
   "cell_type": "markdown",
   "id": "c8633234",
   "metadata": {
    "id": "c8633234"
   },
   "source": [
    "### Functions to use with Trainer"
   ]
  },
  {
   "cell_type": "code",
   "execution_count": 15,
   "id": "f9aa4dd3",
   "metadata": {
    "executionInfo": {
     "elapsed": 3,
     "status": "ok",
     "timestamp": 1748847216803,
     "user": {
      "displayName": "Yukiko Rivera",
      "userId": "02699279760362859349"
     },
     "user_tz": 420
    },
    "id": "f9aa4dd3"
   },
   "outputs": [],
   "source": [
    "# For dynamically pad the data\n",
    "data_collator = DataCollatorForSeq2Seq(\n",
    "    tokenizer=tokenizer,\n",
    "    model=model,\n",
    "    padding=\"longest\"\n",
    ")"
   ]
  },
  {
   "cell_type": "markdown",
   "id": "TcTUcxUFh1Sr",
   "metadata": {
    "id": "TcTUcxUFh1Sr"
   },
   "source": [
    "### Set up the training and trainer configurations"
   ]
  },
  {
   "cell_type": "code",
   "execution_count": null,
   "id": "25bd7882",
   "metadata": {
    "executionInfo": {
     "elapsed": 407,
     "status": "ok",
     "timestamp": 1748847217211,
     "user": {
      "displayName": "Yukiko Rivera",
      "userId": "02699279760362859349"
     },
     "user_tz": 420
    },
    "id": "25bd7882"
   },
   "outputs": [],
   "source": [
    "training_args = TrainingArguments(\n",
    "    output_dir=output_dir,\n",
    "    num_train_epochs=epochs,\n",
    "    per_device_train_batch_size=batch_size,\n",
    "    per_device_eval_batch_size=batch_size,\n",
    "    logging_dir=logging_dir,\n",
    "    logging_steps=log_steps,\n",
    "    save_strategy=\"epoch\",\n",
    "    eval_strategy=\"epoch\",\n",
    "    eval_steps= eval_steps,\n",
    "    save_steps = eval_steps,\n",
    "    save_total_limit=save_limit,\n",
    "    overwrite_output_dir=True,\n",
    "    report_to=[\"none\"],\n",
    "    run_name=\"bart_run1\",\n",
    "    load_best_model_at_end=True,\n",
    "    metric_for_best_model=\"eval_loss\",\n",
    "    greater_is_better=False,\n",
    "    disable_tqdm=False,\n",
    "    learning_rate=alpha,\n",
    "    weight_decay=weight_decay,\n",
    "    warmup_steps=warmup_steps,\n",
    "    lr_scheduler_type=scheduler_type,\n",
    "    gradient_accumulation_steps=accumulation_steps,\n",
    "    fp16=True\n",
    ")\n",
    "\n",
    "trainer = Trainer(\n",
    "    model=model,\n",
    "    args=training_args,\n",
    "    train_dataset=train_dataset,\n",
    "    eval_dataset=eval_dataset,\n",
    "    data_collator=data_collator,\n",
    "    callbacks=[EarlyStoppingCallback(early_stopping_patience=stopping_patience)]\n",
    ")\n"
   ]
  },
  {
   "cell_type": "markdown",
   "id": "ac82cb07",
   "metadata": {
    "id": "ac82cb07"
   },
   "source": [
    "### Trains the model"
   ]
  },
  {
   "cell_type": "code",
   "execution_count": 18,
   "id": "6f5ba8e3",
   "metadata": {
    "colab": {
     "base_uri": "https://localhost:8080/",
     "height": 433
    },
    "executionInfo": {
     "elapsed": 709709,
     "status": "ok",
     "timestamp": 1748847927196,
     "user": {
      "displayName": "Yukiko Rivera",
      "userId": "02699279760362859349"
     },
     "user_tz": 420
    },
    "id": "6f5ba8e3",
    "outputId": "fd3998af-c9bf-41ea-d724-0c925f7d7bec"
   },
   "outputs": [
    {
     "data": {
      "text/html": [
       "\n",
       "    <div>\n",
       "      \n",
       "      <progress value='7530' max='7530' style='width:300px; height:20px; vertical-align: middle;'></progress>\n",
       "      [7530/7530 35:22, Epoch 9/10]\n",
       "    </div>\n",
       "    <table border=\"1\" class=\"dataframe\">\n",
       "  <thead>\n",
       " <tr style=\"text-align: left;\">\n",
       "      <th>Epoch</th>\n",
       "      <th>Training Loss</th>\n",
       "      <th>Validation Loss</th>\n",
       "    </tr>\n",
       "  </thead>\n",
       "  <tbody>\n",
       "    <tr>\n",
       "      <td>1</td>\n",
       "      <td>4.163000</td>\n",
       "      <td>3.639770</td>\n",
       "    </tr>\n",
       "    <tr>\n",
       "      <td>2</td>\n",
       "      <td>3.726600</td>\n",
       "      <td>3.299282</td>\n",
       "    </tr>\n",
       "    <tr>\n",
       "      <td>3</td>\n",
       "      <td>3.355300</td>\n",
       "      <td>2.971034</td>\n",
       "    </tr>\n",
       "    <tr>\n",
       "      <td>4</td>\n",
       "      <td>3.065900</td>\n",
       "      <td>2.715122</td>\n",
       "    </tr>\n",
       "    <tr>\n",
       "      <td>5</td>\n",
       "      <td>2.896600</td>\n",
       "      <td>2.513649</td>\n",
       "    </tr>\n",
       "    <tr>\n",
       "      <td>6</td>\n",
       "      <td>2.716600</td>\n",
       "      <td>2.356012</td>\n",
       "    </tr>\n",
       "    <tr>\n",
       "      <td>7</td>\n",
       "      <td>2.584400</td>\n",
       "      <td>2.237594</td>\n",
       "    </tr>\n",
       "    <tr>\n",
       "      <td>8</td>\n",
       "      <td>2.491400</td>\n",
       "      <td>2.154710</td>\n",
       "    </tr>\n",
       "    <tr>\n",
       "      <td>9</td>\n",
       "      <td>2.403200</td>\n",
       "      <td>2.089798</td>\n",
       "    </tr>\n",
       "  </tbody>\n",
       "</table><p>"
      ],
      "text/plain": [
       "<IPython.core.display.HTML object>"
      ]
     },
     "metadata": {},
     "output_type": "display_data"
    },
    {
     "name": "stderr",
     "output_type": "stream",
     "text": [
      "/usr/local/lib/python3.10/dist-packages/transformers/modeling_utils.py:3339: UserWarning: Moving the following attributes in the config to the generation config: {'early_stopping': True, 'num_beams': 4, 'no_repeat_ngram_size': 3, 'forced_bos_token_id': 0}. You are seeing this warning because you've set generation parameters in the model config, as opposed to in the generation config.\n",
      "  warnings.warn(\n",
      "There were missing keys in the checkpoint model loaded: ['model.encoder.embed_tokens.weight', 'model.decoder.embed_tokens.weight', 'lm_head.weight'].\n"
     ]
    },
    {
     "data": {
      "text/plain": [
       "TrainOutput(global_step=7530, training_loss=3.0535337815405046, metrics={'train_runtime': 2122.8662, 'train_samples_per_second': 227.089, 'train_steps_per_second': 3.547, 'total_flos': 1.265864333819904e+16, 'train_loss': 3.0535337815405046, 'epoch': 9.987392169873921})"
      ]
     },
     "execution_count": 18,
     "metadata": {},
     "output_type": "execute_result"
    }
   ],
   "source": [
    "trainer.train()"
   ]
  },
  {
   "cell_type": "markdown",
   "id": "32286981",
   "metadata": {},
   "source": [
    "### Saves the log file"
   ]
  },
  {
   "cell_type": "code",
   "execution_count": 19,
   "id": "eb14755c",
   "metadata": {},
   "outputs": [],
   "source": [
    "final_dir = \"final_model/\"\n",
    "os.makedirs(final_dir, exist_ok=True)\n",
    "\n",
    "with open(final_dir + \"trainer_log_history.json\", \"w\") as f:\n",
    "    json.dump(trainer.state.log_history, f, indent=2)"
   ]
  },
  {
   "cell_type": "markdown",
   "id": "9tv9qfubhUkx",
   "metadata": {
    "id": "9tv9qfubhUkx"
   },
   "source": [
    "### Plot the loss curve"
   ]
  },
  {
   "cell_type": "code",
   "execution_count": null,
   "id": "4da4dca8",
   "metadata": {},
   "outputs": [
    {
     "data": {
      "image/png": "[encoded data removed]",
      "text/plain": [
       "<Figure size 640x480 with 1 Axes>"
      ]
     },
     "metadata": {},
     "output_type": "display_data"
    }
   ],
   "source": [
    "log_history = trainer.state.log_history\n",
    "\n",
    "train_loss = [(log[\"epoch\"], log[\"loss\"]) for log in log_history if \"loss\" in log]\n",
    "eval_loss = [(log[\"epoch\"], log[\"eval_loss\"]) for log in log_history if \"eval_loss\" in log]\n",
    "\n",
    "train_epochs, train_values = zip(*train_loss)\n",
    "eval_epochs, eval_values = zip(*eval_loss)\n",
    "\n",
    "plt.plot(train_epochs, train_values, label=\"Train Loss\")\n",
    "plt.plot(eval_epochs, eval_values, label=\"Eval Loss\", marker=\"o\")\n",
    "plt.xlabel(\"Epoch\")\n",
    "plt.ylabel(\"Loss\")\n",
    "plt.title(\"Training and Evaluation Loss\")\n",
    "plt.legend()\n",
    "plt.grid(True)\n",
    "plt.savefig(output_dir + \"loss_curve_bart.png\", dpi=300, bbox_inches=\"tight\")\n",
    "plt.show()\n"
   ]
  },
  {
   "cell_type": "markdown",
   "id": "ulvGMoVfUWZ3",
   "metadata": {
    "id": "ulvGMoVfUWZ3"
   },
   "source": [
    "### Computes validation perplexity"
   ]
  },
  {
   "cell_type": "code",
   "execution_count": 23,
   "id": "7811a969",
   "metadata": {},
   "outputs": [
    {
     "data": {
      "text/html": [
       "\n",
       "    <div>\n",
       "      \n",
       "      <progress value='377' max='377' style='width:300px; height:20px; vertical-align: middle;'></progress>\n",
       "      [377/377 00:16]\n",
       "    </div>\n",
       "    "
      ],
      "text/plain": [
       "<IPython.core.display.HTML object>"
      ]
     },
     "metadata": {},
     "output_type": "display_data"
    },
    {
     "name": "stdout",
     "output_type": "stream",
     "text": [
      "Best Model Perplexity: 8.08\n"
     ]
    }
   ],
   "source": [
    "eval_results = trainer.evaluate()\n",
    "val_loss = eval_results[\"eval_loss\"]\n",
    "perplexity = math.exp(val_loss)\n",
    "print(f\"Best Model Perplexity: {perplexity:.2f}\")"
   ]
  },
  {
   "cell_type": "markdown",
   "id": "59792444",
   "metadata": {},
   "source": [
    "### Saves the hyperparameters used and perplexity value to a text file"
   ]
  },
  {
   "cell_type": "code",
   "execution_count": 24,
   "id": "60f7d45f",
   "metadata": {},
   "outputs": [],
   "source": [
    "parameters = {'epochs':epochs, 'batch_size':batch_size, 'eval_steps':eval_steps, 'learning_rate':alpha,\n",
    "              'patience':stopping_patience, 'validation_ratio':validation_ratio, 'scheduler_type':scheduler_type,\n",
    "               'warmup_step_ratio':ratio, 'weight_decay': weight_decay,'perplexity':perplexity}"
   ]
  },
  {
   "cell_type": "code",
   "execution_count": 25,
   "id": "ef698489",
   "metadata": {},
   "outputs": [],
   "source": [
    "with open(\"results_parameters.txt\", \"w\", encoding=\"utf-8\") as f:\n",
    "    for key, value in parameters.items():\n",
    "        f.write(f\"{key}: {value}\\n\")"
   ]
  },
  {
   "cell_type": "markdown",
   "id": "8b7L3WSrhPoo",
   "metadata": {
    "id": "8b7L3WSrhPoo"
   },
   "source": [
    "### Saves the model weights + config"
   ]
  },
  {
   "cell_type": "code",
   "execution_count": 27,
   "id": "c5XXR2dyhNPO",
   "metadata": {
    "executionInfo": {
     "elapsed": 1,
     "status": "ok",
     "timestamp": 1748847927486,
     "user": {
      "displayName": "Yukiko Rivera",
      "userId": "02699279760362859349"
     },
     "user_tz": 420
    },
    "id": "c5XXR2dyhNPO"
   },
   "outputs": [],
   "source": [
    "save_path = \"final_model\"\n",
    "os.makedirs(save_path, exist_ok=True)"
   ]
  },
  {
   "cell_type": "code",
   "execution_count": null,
   "id": "fc8654a8",
   "metadata": {
    "colab": {
     "base_uri": "https://localhost:8080/"
    },
    "executionInfo": {
     "elapsed": 2216,
     "status": "ok",
     "timestamp": 1748847929703,
     "user": {
      "displayName": "Yukiko Rivera",
      "userId": "02699279760362859349"
     },
     "user_tz": 420
    },
    "id": "fc8654a8",
    "outputId": "2b634eed-c937-4c14-995f-33697f7aef3a"
   },
   "outputs": [
    {
     "data": {
      "text/plain": [
       "('final_model/tokenizer_config.json',\n",
       " 'final_model/special_tokens_map.json',\n",
       " 'final_model/vocab.json',\n",
       " 'final_model/merges.txt',\n",
       " 'final_model/added_tokens.json')"
      ]
     },
     "execution_count": 28,
     "metadata": {},
     "output_type": "execute_result"
    }
   ],
   "source": [
    "trainer.save_model(save_path)           \n",
    "tokenizer.save_pretrained(save_path)    "
   ]
  },
  {
   "cell_type": "markdown",
   "id": "a64f0ec1",
   "metadata": {},
   "source": [
    "### Saves the model to a zip file due to the storage size issue"
   ]
  },
  {
   "cell_type": "code",
   "execution_count": 29,
   "id": "491d68e3",
   "metadata": {},
   "outputs": [
    {
     "data": {
      "text/plain": [
       "'/workspace/final_model.zip'"
      ]
     },
     "execution_count": 29,
     "metadata": {},
     "output_type": "execute_result"
    }
   ],
   "source": [
    "import shutil\n",
    "\n",
    "shutil.make_archive(\"final_model\", \"zip\", \"final_model\")"
   ]
  },
  {
   "cell_type": "code",
   "execution_count": 30,
   "id": "05e780a9-1b0b-4c2f-83c6-7e1f1225d116",
   "metadata": {},
   "outputs": [
    {
     "name": "stdout",
     "output_type": "stream",
     "text": [
      "493M\tfinal_model.zip\n"
     ]
    }
   ],
   "source": [
    "!du -h final_model.zip"
   ]
  }
 ],
 "metadata": {
  "accelerator": "GPU",
  "colab": {
   "gpuType": "A100",
   "machine_shape": "hm",
   "provenance": []
  },
  "kernelspec": {
   "display_name": "animegen",
   "language": "python",
   "name": "python3"
  },
  "language_info": {
   "codemirror_mode": {
    "name": "ipython",
    "version": 3
   },
   "file_extension": ".py",
   "mimetype": "text/x-python",
   "name": "python",
   "nbconvert_exporter": "python",
   "pygments_lexer": "ipython3",
   "version": "3.11.9"
  }
 },
 "nbformat": 4,
 "nbformat_minor": 5
}
