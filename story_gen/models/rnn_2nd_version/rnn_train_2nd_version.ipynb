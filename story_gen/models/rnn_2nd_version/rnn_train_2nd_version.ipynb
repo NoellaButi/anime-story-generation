{
  "cells": [
    {
      "cell_type": "code",
      "execution_count": null,
      "metadata": {
        "id": "9C1aeZp28aQk"
      },
      "outputs": [],
      "source": [
        "# Author: Yuki Rivera\n",
        "# This notebook contains the implementation of RNN model building, training and some evaluation\n",
        "# This version of RNN utilizes an encoder-decoder structure to improve the output"
      ]
    },
    {
      "cell_type": "code",
      "execution_count": null,
      "metadata": {
        "id": "cCG4I28I82WE"
      },
      "outputs": [],
      "source": [
        "import tensorflow as tf\n",
        "from tensorflow.keras.preprocessing.text import Tokenizer\n",
        "from tensorflow.keras.preprocessing.sequence import pad_sequences\n",
        "from tensorflow.keras.layers import Input, Dense, SimpleRNN, Embedding, TimeDistributed\n",
        "import pandas as pd\n",
        "from tensorflow.keras.models import Model\n",
        "import pickle\n",
        "from tensorflow.keras.callbacks import ModelCheckpoint, EarlyStopping, LambdaCallback\n",
        "import matplotlib.pyplot as plt\n",
        "from tensorflow.keras.losses import sparse_categorical_crossentropy\n",
        "import numpy as np\n",
        "from tensorflow.keras.layers import Dropout\n",
        "from sklearn.model_selection import train_test_split\n",
        "from tensorflow.keras.optimizers import Adam"
      ]
    },
    {
      "cell_type": "markdown",
      "metadata": {
        "id": "cHnBLrC2ypag"
      },
      "source": [
        "### Parameters"
      ]
    },
    {
      "cell_type": "code",
      "execution_count": null,
      "metadata": {
        "id": "Jar2SMLjCbAn"
      },
      "outputs": [],
      "source": [
        "vocab_limit = 15000\n",
        "enc_max_len = 64  # the prompt length\n",
        "dec_max_len = 150   # the synopsis length\n",
        "max_dec_input_length = dec_max_len - 1  # decoder input length\n",
        "\n",
        "embedding_dim = 128 # output_dim\n",
        "units = 128  # number of RNN units\n",
        "\n",
        "batch = 64\n",
        "repeat = 20 # num of epochs\n",
        "patience = 3 # early-stopping patience\n",
        "\n",
        "custom_learning_rate = 5e-5\n",
        "adam_optimizer = Adam(learning_rate=custom_learning_rate)\n",
        "\n",
        "val_ratio = 0.2 # validation set ratio\n",
        "\n",
        "min_delta = 0.01 # minimum threshold regarded as improvement\n",
        "\n",
        "dropout_rate = 0.3"
      ]
    },
    {
      "cell_type": "markdown",
      "metadata": {
        "id": "Jijk4wvtH_RY"
      },
      "source": [
        "### Preprocess the data"
      ]
    },
    {
      "cell_type": "code",
      "execution_count": null,
      "metadata": {},
      "outputs": [],
      "source": [
        "# Cleans text\n",
        "def clean_text(text):\n",
        "    return text.lower().strip().replace('\\n', ' ')"
      ]
    },
    {
      "cell_type": "code",
      "execution_count": null,
      "metadata": {
        "id": "3bW71m2cOkuo"
      },
      "outputs": [],
      "source": [
        "# Loads dataset\n",
        "train_df = pd.read_csv(\"prompt_synopsis_train.csv\")\n",
        "\n",
        "for col in ['prompt', 'synopsis']:\n",
        "    train_df[col] = train_df[col].astype(str).apply(clean_text)"
      ]
    },
    {
      "cell_type": "code",
      "execution_count": null,
      "metadata": {
        "id": "gI8TVHyJ2QoR"
      },
      "outputs": [],
      "source": [
        "# Defines fixed IDs for special tokens.\n",
        "PAD_ID = 0\n",
        "OOV_ID = 1\n",
        "BOS_ID = 2\n",
        "EOS_ID = 3\n",
        "\n",
        "# Number of special tokens we manually reserve IDs for.\n",
        "NUM_SPECIAL_TOKENS_RESERVED = 4 # (PAD, OOV, BOS, EOS)\n",
        "\n",
        "# The number of actual content words the tokenizer should learn\n",
        "num_words_to_fit = vocab_limit - NUM_SPECIAL_TOKENS_RESERVED"
      ]
    },
    {
      "cell_type": "code",
      "execution_count": null,
      "metadata": {
        "id": "p2pIBHMjN6Wj"
      },
      "outputs": [],
      "source": [
        "# Instantiates a tokenizer (disabling special character filtering)\n",
        "tokenizer = Tokenizer(num_words=num_words_to_fit, oov_token='<OOV>', filters='')\n",
        "# Builds a single shared vocabulary across both the input and the output\n",
        "tokenizer.fit_on_texts(train_df['prompt'].tolist() + train_df['synopsis'].tolist())"
      ]
    },
    {
      "cell_type": "code",
      "execution_count": null,
      "metadata": {
        "id": "L8t7xkce2_o_"
      },
      "outputs": [],
      "source": [
        "# Creates a new word_index starting from our desired order.\n",
        "new_word_index = {}\n",
        "new_index_word = {}\n",
        "\n",
        "# Assigns reserved IDs first\n",
        "new_word_index[\"<PAD>\"] = PAD_ID\n",
        "new_index_word[PAD_ID] = \"<PAD>\"\n",
        "\n",
        "new_word_index[\"<OOV>\"] = OOV_ID\n",
        "new_index_word[OOV_ID] = \"<OOV>\"\n",
        "\n",
        "new_word_index[\"<BOS>\"] = BOS_ID\n",
        "new_index_word[BOS_ID] = \"<BOS>\"\n",
        "\n",
        "new_word_index[\"<EOS>\"] = EOS_ID\n",
        "new_index_word[EOS_ID] = \"<EOS>\""
      ]
    },
    {
      "cell_type": "code",
      "execution_count": null,
      "metadata": {
        "id": "faoaYlty3JwL"
      },
      "outputs": [],
      "source": [
        "# Starts assigning IDs from the next available slot after special tokens.\n",
        "next_available_id = NUM_SPECIAL_TOKENS_RESERVED\n",
        "content_words_assigned = 0 # Tracks how many content words we've assigned\n",
        "\n",
        "for word, original_id in sorted(tokenizer.word_index.items(), key=lambda item: item[1]):\n",
        "    # Skips words not in the new word index\n",
        "    if word in new_word_index:\n",
        "        continue\n",
        "    # Assigns the new ID to the content word\n",
        "    if content_words_assigned < num_words_to_fit:\n",
        "        new_word_index[word] = next_available_id\n",
        "        new_index_word[next_available_id] = word\n",
        "        next_available_id += 1\n",
        "        content_words_assigned += 1\n",
        "\n",
        "    else:\n",
        "        # Breaks the loop once all required content words have been assigned\n",
        "        break\n",
        "\n",
        "\n",
        "tokenizer.word_index = new_word_index\n",
        "tokenizer.index_word = new_index_word\n",
        "\n",
        "# Ensures the vocab_size for Embedding layer stays the same as the target vocab limit\n",
        "vocab_size = vocab_limit"
      ]
    },
    {
      "cell_type": "markdown",
      "metadata": {
        "id": "BHP0XL8bwvA7"
      },
      "source": [
        "### Saves the tokenizer"
      ]
    },
    {
      "cell_type": "code",
      "execution_count": null,
      "metadata": {
        "colab": {
          "base_uri": "https://localhost:8080/"
        },
        "id": "257HFvpIoo_r",
        "outputId": "ab2d154f-6626-4c10-ccb5-5c7f812facb1"
      },
      "outputs": [],
      "source": [
        "with open(\"tokenizer_RNN.pkl\", \"wb\") as f:\n",
        "    pickle.dump(tokenizer, f)"
      ]
    },
    {
      "cell_type": "markdown",
      "metadata": {
        "id": "iZJ_XUNZwvA7"
      },
      "source": [
        "### Converts words into token IDs and creates sequences"
      ]
    },
    {
      "cell_type": "code",
      "execution_count": null,
      "metadata": {
        "id": "jtyqPfOyoZ6Z"
      },
      "outputs": [],
      "source": [
        "# Converts each prompt or synopsis into a list of integers\n",
        "input_seqs = tokenizer.texts_to_sequences(train_df['prompt'])\n",
        "output_seqs = tokenizer.texts_to_sequences(train_df['synopsis'])\n",
        "\n",
        "# Adds BOS and EOS tokens to each synopsis sequence\n",
        "synopsis_token_ids_augmented = [[BOS_ID] + seq + [EOS_ID] for seq in output_seqs]\n",
        "\n",
        "# Creates decoder inputs that goes into the decoder during training\n",
        "decoder_input_ids = [seq[:-1] for seq in synopsis_token_ids_augmented]\n",
        "\n",
        "# Create decoder targets for loss calculation\n",
        "decoder_target_ids = [seq[1:] for seq in synopsis_token_ids_augmented]"
      ]
    },
    {
      "cell_type": "markdown",
      "metadata": {
        "id": "UQUQUI6gwvA8"
      },
      "source": [
        "### Pads sequences"
      ]
    },
    {
      "cell_type": "code",
      "execution_count": null,
      "metadata": {
        "id": "wpRyfzWNrohS"
      },
      "outputs": [],
      "source": [
        "# Encoder input (prompts)\n",
        "padded_input = pad_sequences(input_seqs, maxlen=enc_max_len, truncating='post', padding='post', value=0)\n",
        "\n",
        "# Decoder input for training\n",
        "decoder_input_data = pad_sequences(decoder_input_ids, maxlen=max_dec_input_length, truncating='post', padding='post', value=0)\n",
        "\n",
        "# Decoder target for training (needs to be expanded for sparse_categorical_crossentropy)\n",
        "decoder_target_data = pad_sequences(decoder_target_ids, maxlen=max_dec_input_length, truncating='post', padding='post', value=0)\n",
        "decoder_target_data = np.expand_dims(decoder_target_data, axis=-1)"
      ]
    },
    {
      "cell_type": "markdown",
      "metadata": {
        "id": "81mm4JnRloYL"
      },
      "source": [
        "### Defines RNN Model"
      ]
    },
    {
      "cell_type": "code",
      "execution_count": null,
      "metadata": {
        "id": "pg9f83z1io5x"
      },
      "outputs": [],
      "source": [
        "#### Encoder ####\n",
        "\n",
        "# Input layer for the encoder (prompts)\n",
        "encoder_inputs = Input(shape=(enc_max_len,), name='encoder_input')\n",
        "\n",
        "# Embedding layer for the encoder inputs\n",
        "# `mask_zero=True` to ignore padding (token ID 0) during processing.\n",
        "encoder_embedding = Embedding(vocab_size, embedding_dim, mask_zero=True, name='encoder_embedding')(encoder_inputs)\n",
        "\n",
        "# Encoder SimpleRNN layer.\n",
        "# `return_state=True` to make the RNN layer return its final hidden state along with its outputs.\n",
        "encoder_rnn = SimpleRNN(units, return_state=True, name='encoder_rnn')\n",
        "encoder_outputs, state_h = encoder_rnn(encoder_embedding)\n",
        "\n",
        "# `encoder_states` holds the final hidden state of the encoder.\n",
        "encoder_states = state_h\n",
        "\n",
        "\n",
        "#### Decoder ####\n",
        "\n",
        "# Input layer for the decoder (shifted target synopsis sequences, thus dec_max_len -1 for the shape)\n",
        "decoder_inputs = Input(shape=(dec_max_len - 1,), name='decoder_input')\n",
        "\n",
        "# Embedding layer for the decoder inputs.\n",
        "# `mask_zero=True` is for the decoder's input to ignore padding.\n",
        "decoder_embedding = Embedding(vocab_size, embedding_dim, mask_zero=True, name='decoder_embedding')(decoder_inputs)\n",
        "\n",
        "# Decoder SimpleRNN layer.\n",
        "# `return_sequences=True` ensures that the RNN outputs a sequence, not just a single final output.\n",
        "# `initial_state=encoder_states` connects the encoder to the decoder.\n",
        "decoder_rnn = SimpleRNN(units, return_sequences=True, return_state=True, name='decoder_rnn')\n",
        "decoder_outputs_sequence, decoder_state_h = decoder_rnn(decoder_embedding, initial_state=encoder_states)\n",
        "\n",
        "# Dense layer at the end of the decoder.\n",
        "decoder_dense = Dense(vocab_size, activation='softmax', name='decoder_output')\n",
        "output = decoder_dense(decoder_outputs_sequence)\n",
        "\n",
        "\n",
        "#### Defines the Encoder-Decoder model ####\n",
        "model_rnn = Model(inputs=[encoder_inputs, decoder_inputs], outputs=output)"
      ]
    },
    {
      "cell_type": "markdown",
      "metadata": {
        "id": "v7wZh1fZVDdb"
      },
      "source": [
        "### Callbacks for saving the best model & early stopping"
      ]
    },
    {
      "cell_type": "code",
      "execution_count": null,
      "metadata": {
        "id": "57yyBzQUU9Sa"
      },
      "outputs": [],
      "source": [
        "# Saves the best model\n",
        "checkpoint_callback = ModelCheckpoint(\n",
        "    \"best_model_RNN.keras\",   \n",
        "    save_best_only=True,  \n",
        "    monitor='val_loss',   \n",
        "    mode='min',           \n",
        "    verbose = 1           \n",
        ")\n",
        "\n",
        "# Stops early if val_loss stops improving\n",
        "early_stopping = EarlyStopping(\n",
        "    monitor=\"val_loss\",\n",
        "    patience=patience,\n",
        "    min_delta=min_delta,\n",
        "    restore_best_weights=True,\n",
        "    verbose = 1\n",
        ")"
      ]
    },
    {
      "cell_type": "markdown",
      "metadata": {
        "id": "apmPJkdNXNfo"
      },
      "source": [
        "### Prepare training and validation sets"
      ]
    },
    {
      "cell_type": "code",
      "execution_count": null,
      "metadata": {
        "id": "svEZUk0mXLqn"
      },
      "outputs": [],
      "source": [
        "X = [padded_input, decoder_input_data]\n",
        "y = decoder_target_data\n",
        "\n",
        "# Performs the split\n",
        "X_train_encoder, X_val_encoder, X_train_decoder, X_val_decoder, y_train_target, y_val_target = train_test_split(\n",
        "    X[0], X[1], y, test_size=val_ratio, random_state=42\n",
        ")"
      ]
    },
    {
      "cell_type": "markdown",
      "metadata": {
        "id": "fN7egsM-oKQp"
      },
      "source": [
        "### Configures the model to train"
      ]
    },
    {
      "cell_type": "code",
      "execution_count": null,
      "metadata": {
        "colab": {
          "base_uri": "https://localhost:8080/",
          "height": 546
        },
        "id": "PbAiY9ysyEya",
        "outputId": "db4e6cd6-d8c8-45ca-919c-ab39b3188be3"
      },
      "outputs": [],
      "source": [
        "model_rnn.compile(\n",
        "    optimizer=adam_optimizer,\n",
        "    loss='sparse_categorical_crossentropy',\n",
        "    metrics=['accuracy']\n",
        ")"
      ]
    },
    {
      "cell_type": "markdown",
      "metadata": {
        "id": "99Xk2GlxYsyn"
      },
      "source": [
        "### Trains the model with validation data and callbacks included"
      ]
    },
    {
      "cell_type": "code",
      "execution_count": null,
      "metadata": {
        "id": "r_vDIZyXOam_"
      },
      "outputs": [],
      "source": [
        "full_history = []"
      ]
    },
    {
      "cell_type": "code",
      "execution_count": null,
      "metadata": {
        "id": "M4Df9LbuYSFa"
      },
      "outputs": [],
      "source": [
        "# Combine encoder and decoder inputs for the training set\n",
        "train_inputs = [X_train_encoder, X_train_decoder]\n",
        "# Combine encoder and decoder inputs for the validation set\n",
        "val_inputs = [X_val_encoder, X_val_decoder]"
      ]
    },
    {
      "cell_type": "code",
      "execution_count": null,
      "metadata": {
        "colab": {
          "base_uri": "https://localhost:8080/"
        },
        "id": "m5U7dVTkWxMz",
        "outputId": "48103cd3-3e01-4c76-a6f2-13e40532f977"
      },
      "outputs": [
        {
          "name": "stdout",
          "output_type": "stream",
          "text": [
            "Epoch 1/20\n",
            "\u001b[1m754/754\u001b[0m \u001b[32m━━━━━━━━━━━━━━━━━━━━\u001b[0m\u001b[37m\u001b[0m \u001b[1m0s\u001b[0m 71ms/step - accuracy: 0.0275 - loss: 8.4605\n",
            "Epoch 1: val_loss improved from inf to 6.66194, saving model to best_model_RNN.keras\n",
            "\u001b[1m754/754\u001b[0m \u001b[32m━━━━━━━━━━━━━━━━━━━━\u001b[0m\u001b[37m\u001b[0m \u001b[1m67s\u001b[0m 80ms/step - accuracy: 0.0275 - loss: 8.4594 - val_accuracy: 0.0534 - val_loss: 6.6619\n",
            "Epoch 2/20\n",
            "\u001b[1m753/754\u001b[0m \u001b[32m━━━━━━━━━━━━━━━━━━━\u001b[0m\u001b[37m━\u001b[0m \u001b[1m0s\u001b[0m 70ms/step - accuracy: 0.0540 - loss: 6.6293\n",
            "Epoch 2: val_loss improved from 6.66194 to 6.61548, saving model to best_model_RNN.keras\n",
            "\u001b[1m754/754\u001b[0m \u001b[32m━━━━━━━━━━━━━━━━━━━━\u001b[0m\u001b[37m\u001b[0m \u001b[1m58s\u001b[0m 77ms/step - accuracy: 0.0540 - loss: 6.6293 - val_accuracy: 0.0534 - val_loss: 6.6155\n",
            "Epoch 3/20\n",
            "\u001b[1m753/754\u001b[0m \u001b[32m━━━━━━━━━━━━━━━━━━━\u001b[0m\u001b[37m━\u001b[0m \u001b[1m0s\u001b[0m 71ms/step - accuracy: 0.0538 - loss: 6.6080\n",
            "Epoch 3: val_loss improved from 6.61548 to 6.58175, saving model to best_model_RNN.keras\n",
            "\u001b[1m754/754\u001b[0m \u001b[32m━━━━━━━━━━━━━━━━━━━━\u001b[0m\u001b[37m\u001b[0m \u001b[1m58s\u001b[0m 78ms/step - accuracy: 0.0538 - loss: 6.6080 - val_accuracy: 0.0534 - val_loss: 6.5817\n",
            "Epoch 4/20\n",
            "\u001b[1m753/754\u001b[0m \u001b[32m━━━━━━━━━━━━━━━━━━━\u001b[0m\u001b[37m━\u001b[0m \u001b[1m0s\u001b[0m 71ms/step - accuracy: 0.0543 - loss: 6.5446\n",
            "Epoch 4: val_loss improved from 6.58175 to 6.46549, saving model to best_model_RNN.keras\n",
            "\u001b[1m754/754\u001b[0m \u001b[32m━━━━━━━━━━━━━━━━━━━━\u001b[0m\u001b[37m\u001b[0m \u001b[1m59s\u001b[0m 78ms/step - accuracy: 0.0543 - loss: 6.5445 - val_accuracy: 0.0645 - val_loss: 6.4655\n",
            "Epoch 5/20\n",
            "\u001b[1m753/754\u001b[0m \u001b[32m━━━━━━━━━━━━━━━━━━━\u001b[0m\u001b[37m━\u001b[0m \u001b[1m0s\u001b[0m 71ms/step - accuracy: 0.0654 - loss: 6.4343\n",
            "Epoch 5: val_loss improved from 6.46549 to 6.37685, saving model to best_model_RNN.keras\n",
            "\u001b[1m754/754\u001b[0m \u001b[32m━━━━━━━━━━━━━━━━━━━━\u001b[0m\u001b[37m\u001b[0m \u001b[1m59s\u001b[0m 78ms/step - accuracy: 0.0654 - loss: 6.4343 - val_accuracy: 0.0655 - val_loss: 6.3769\n",
            "Epoch 6/20\n",
            "\u001b[1m753/754\u001b[0m \u001b[32m━━━━━━━━━━━━━━━━━━━\u001b[0m\u001b[37m━\u001b[0m \u001b[1m0s\u001b[0m 71ms/step - accuracy: 0.0687 - loss: 6.3506\n",
            "Epoch 6: val_loss improved from 6.37685 to 6.30679, saving model to best_model_RNN.keras\n",
            "\u001b[1m754/754\u001b[0m \u001b[32m━━━━━━━━━━━━━━━━━━━━\u001b[0m\u001b[37m\u001b[0m \u001b[1m59s\u001b[0m 78ms/step - accuracy: 0.0687 - loss: 6.3506 - val_accuracy: 0.0734 - val_loss: 6.3068\n",
            "Epoch 7/20\n",
            "\u001b[1m753/754\u001b[0m \u001b[32m━━━━━━━━━━━━━━━━━━━\u001b[0m\u001b[37m━\u001b[0m \u001b[1m0s\u001b[0m 71ms/step - accuracy: 0.0741 - loss: 6.2826\n",
            "Epoch 7: val_loss improved from 6.30679 to 6.24161, saving model to best_model_RNN.keras\n",
            "\u001b[1m754/754\u001b[0m \u001b[32m━━━━━━━━━━━━━━━━━━━━\u001b[0m\u001b[37m\u001b[0m \u001b[1m59s\u001b[0m 78ms/step - accuracy: 0.0741 - loss: 6.2826 - val_accuracy: 0.0758 - val_loss: 6.2416\n",
            "Epoch 8/20\n",
            "\u001b[1m753/754\u001b[0m \u001b[32m━━━━━━━━━━━━━━━━━━━\u001b[0m\u001b[37m━\u001b[0m \u001b[1m0s\u001b[0m 71ms/step - accuracy: 0.0802 - loss: 6.2149\n",
            "Epoch 8: val_loss improved from 6.24161 to 6.15295, saving model to best_model_RNN.keras\n",
            "\u001b[1m754/754\u001b[0m \u001b[32m━━━━━━━━━━━━━━━━━━━━\u001b[0m\u001b[37m\u001b[0m \u001b[1m59s\u001b[0m 78ms/step - accuracy: 0.0802 - loss: 6.2149 - val_accuracy: 0.0846 - val_loss: 6.1529\n",
            "Epoch 9/20\n",
            "\u001b[1m753/754\u001b[0m \u001b[32m━━━━━━━━━━━━━━━━━━━\u001b[0m\u001b[37m━\u001b[0m \u001b[1m0s\u001b[0m 71ms/step - accuracy: 0.0858 - loss: 6.1187\n",
            "Epoch 9: val_loss improved from 6.15295 to 6.06570, saving model to best_model_RNN.keras\n",
            "\u001b[1m754/754\u001b[0m \u001b[32m━━━━━━━━━━━━━━━━━━━━\u001b[0m\u001b[37m\u001b[0m \u001b[1m59s\u001b[0m 78ms/step - accuracy: 0.0858 - loss: 6.1187 - val_accuracy: 0.0871 - val_loss: 6.0657\n",
            "Epoch 10/20\n",
            "\u001b[1m753/754\u001b[0m \u001b[32m━━━━━━━━━━━━━━━━━━━\u001b[0m\u001b[37m━\u001b[0m \u001b[1m0s\u001b[0m 71ms/step - accuracy: 0.0891 - loss: 6.0333\n",
            "Epoch 10: val_loss improved from 6.06570 to 5.98871, saving model to best_model_RNN.keras\n",
            "\u001b[1m754/754\u001b[0m \u001b[32m━━━━━━━━━━━━━━━━━━━━\u001b[0m\u001b[37m\u001b[0m \u001b[1m59s\u001b[0m 78ms/step - accuracy: 0.0891 - loss: 6.0333 - val_accuracy: 0.0897 - val_loss: 5.9887\n",
            "Epoch 11/20\n",
            "\u001b[1m753/754\u001b[0m \u001b[32m━━━━━━━━━━━━━━━━━━━\u001b[0m\u001b[37m━\u001b[0m \u001b[1m0s\u001b[0m 71ms/step - accuracy: 0.0912 - loss: 5.9616\n",
            "Epoch 11: val_loss improved from 5.98871 to 5.91874, saving model to best_model_RNN.keras\n",
            "\u001b[1m754/754\u001b[0m \u001b[32m━━━━━━━━━━━━━━━━━━━━\u001b[0m\u001b[37m\u001b[0m \u001b[1m59s\u001b[0m 78ms/step - accuracy: 0.0912 - loss: 5.9615 - val_accuracy: 0.0919 - val_loss: 5.9187\n",
            "Epoch 12/20\n",
            "\u001b[1m753/754\u001b[0m \u001b[32m━━━━━━━━━━━━━━━━━━━\u001b[0m\u001b[37m━\u001b[0m \u001b[1m0s\u001b[0m 71ms/step - accuracy: 0.0936 - loss: 5.8867\n",
            "Epoch 12: val_loss improved from 5.91874 to 5.85470, saving model to best_model_RNN.keras\n",
            "\u001b[1m754/754\u001b[0m \u001b[32m━━━━━━━━━━━━━━━━━━━━\u001b[0m\u001b[37m\u001b[0m \u001b[1m59s\u001b[0m 78ms/step - accuracy: 0.0936 - loss: 5.8866 - val_accuracy: 0.0944 - val_loss: 5.8547\n",
            "Epoch 13/20\n",
            "\u001b[1m753/754\u001b[0m \u001b[32m━━━━━━━━━━━━━━━━━━━\u001b[0m\u001b[37m━\u001b[0m \u001b[1m0s\u001b[0m 71ms/step - accuracy: 0.0965 - loss: 5.8246\n",
            "Epoch 13: val_loss improved from 5.85470 to 5.79614, saving model to best_model_RNN.keras\n",
            "\u001b[1m754/754\u001b[0m \u001b[32m━━━━━━━━━━━━━━━━━━━━\u001b[0m\u001b[37m\u001b[0m \u001b[1m59s\u001b[0m 78ms/step - accuracy: 0.0965 - loss: 5.8245 - val_accuracy: 0.0970 - val_loss: 5.7961\n",
            "Epoch 14/20\n",
            "\u001b[1m753/754\u001b[0m \u001b[32m━━━━━━━━━━━━━━━━━━━\u001b[0m\u001b[37m━\u001b[0m \u001b[1m0s\u001b[0m 71ms/step - accuracy: 0.0993 - loss: 5.7669\n",
            "Epoch 14: val_loss improved from 5.79614 to 5.74241, saving model to best_model_RNN.keras\n",
            "\u001b[1m754/754\u001b[0m \u001b[32m━━━━━━━━━━━━━━━━━━━━\u001b[0m\u001b[37m\u001b[0m \u001b[1m59s\u001b[0m 78ms/step - accuracy: 0.0993 - loss: 5.7669 - val_accuracy: 0.0999 - val_loss: 5.7424\n",
            "Epoch 15/20\n",
            "\u001b[1m753/754\u001b[0m \u001b[32m━━━━━━━━━━━━━━━━━━━\u001b[0m\u001b[37m━\u001b[0m \u001b[1m0s\u001b[0m 71ms/step - accuracy: 0.1017 - loss: 5.7136\n",
            "Epoch 15: val_loss improved from 5.74241 to 5.69249, saving model to best_model_RNN.keras\n",
            "\u001b[1m754/754\u001b[0m \u001b[32m━━━━━━━━━━━━━━━━━━━━\u001b[0m\u001b[37m\u001b[0m \u001b[1m59s\u001b[0m 78ms/step - accuracy: 0.1017 - loss: 5.7136 - val_accuracy: 0.1024 - val_loss: 5.6925\n",
            "Epoch 16/20\n",
            "\u001b[1m753/754\u001b[0m \u001b[32m━━━━━━━━━━━━━━━━━━━\u001b[0m\u001b[37m━\u001b[0m \u001b[1m0s\u001b[0m 71ms/step - accuracy: 0.1042 - loss: 5.6632\n",
            "Epoch 16: val_loss improved from 5.69249 to 5.64613, saving model to best_model_RNN.keras\n",
            "\u001b[1m754/754\u001b[0m \u001b[32m━━━━━━━━━━━━━━━━━━━━\u001b[0m\u001b[37m\u001b[0m \u001b[1m59s\u001b[0m 78ms/step - accuracy: 0.1042 - loss: 5.6631 - val_accuracy: 0.1044 - val_loss: 5.6461\n",
            "Epoch 17/20\n",
            "\u001b[1m753/754\u001b[0m \u001b[32m━━━━━━━━━━━━━━━━━━━\u001b[0m\u001b[37m━\u001b[0m \u001b[1m0s\u001b[0m 71ms/step - accuracy: 0.1070 - loss: 5.6151\n",
            "Epoch 17: val_loss improved from 5.64613 to 5.60288, saving model to best_model_RNN.keras\n",
            "\u001b[1m754/754\u001b[0m \u001b[32m━━━━━━━━━━━━━━━━━━━━\u001b[0m\u001b[37m\u001b[0m \u001b[1m59s\u001b[0m 78ms/step - accuracy: 0.1070 - loss: 5.6151 - val_accuracy: 0.1062 - val_loss: 5.6029\n",
            "Epoch 18/20\n",
            "\u001b[1m753/754\u001b[0m \u001b[32m━━━━━━━━━━━━━━━━━━━\u001b[0m\u001b[37m━\u001b[0m \u001b[1m0s\u001b[0m 71ms/step - accuracy: 0.1081 - loss: 5.5702\n",
            "Epoch 18: val_loss improved from 5.60288 to 5.56247, saving model to best_model_RNN.keras\n",
            "\u001b[1m754/754\u001b[0m \u001b[32m━━━━━━━━━━━━━━━━━━━━\u001b[0m\u001b[37m\u001b[0m \u001b[1m59s\u001b[0m 78ms/step - accuracy: 0.1081 - loss: 5.5702 - val_accuracy: 0.1078 - val_loss: 5.5625\n",
            "Epoch 19/20\n",
            "\u001b[1m753/754\u001b[0m \u001b[32m━━━━━━━━━━━━━━━━━━━\u001b[0m\u001b[37m━\u001b[0m \u001b[1m0s\u001b[0m 71ms/step - accuracy: 0.1098 - loss: 5.5329\n",
            "Epoch 19: val_loss improved from 5.56247 to 5.52485, saving model to best_model_RNN.keras\n",
            "\u001b[1m754/754\u001b[0m \u001b[32m━━━━━━━━━━━━━━━━━━━━\u001b[0m\u001b[37m\u001b[0m \u001b[1m59s\u001b[0m 78ms/step - accuracy: 0.1098 - loss: 5.5329 - val_accuracy: 0.1094 - val_loss: 5.5249\n",
            "Epoch 20/20\n",
            "\u001b[1m753/754\u001b[0m \u001b[32m━━━━━━━━━━━━━━━━━━━\u001b[0m\u001b[37m━\u001b[0m \u001b[1m0s\u001b[0m 71ms/step - accuracy: 0.1110 - loss: 5.4953\n",
            "Epoch 20: val_loss improved from 5.52485 to 5.48948, saving model to best_model_RNN.keras\n",
            "\u001b[1m754/754\u001b[0m \u001b[32m━━━━━━━━━━━━━━━━━━━━\u001b[0m\u001b[37m\u001b[0m \u001b[1m59s\u001b[0m 78ms/step - accuracy: 0.1110 - loss: 5.4953 - val_accuracy: 0.1109 - val_loss: 5.4895\n",
            "Restoring model weights from the end of the best epoch: 20.\n"
          ]
        }
      ],
      "source": [
        "# trains the model with teacher-forcing\n",
        "history1 = model_rnn.fit(\n",
        "    train_inputs,       # List of training inputs for encoder and decoder\n",
        "    y_train_target,     # Training target\n",
        "    batch_size=batch,\n",
        "    epochs=repeat,      # Set a higher number of epochs, EarlyStopping will stop it\n",
        "    validation_data=(val_inputs, y_val_target), # Pass the split validation data\n",
        "    callbacks=[checkpoint_callback, early_stopping], # Pass the list of callbacks here\n",
        "    verbose=1,\n",
        "    shuffle=True\n",
        ")"
      ]
    },
    {
      "cell_type": "code",
      "execution_count": null,
      "metadata": {
        "id": "3f1i08__OgUL"
      },
      "outputs": [],
      "source": [
        "full_history.append(history1.history)"
      ]
    },
    {
      "cell_type": "markdown",
      "metadata": {},
      "source": [
        "### Second round training if necessary"
      ]
    },
    {
      "cell_type": "code",
      "execution_count": null,
      "metadata": {
        "id": "3QyAhj9QLS41"
      },
      "outputs": [],
      "source": [
        "# model_rnn.load_weights(\"best_model_RNN.keras\")"
      ]
    },
    {
      "cell_type": "code",
      "execution_count": null,
      "metadata": {
        "id": "zHBvhfXjLS1X"
      },
      "outputs": [],
      "source": [
        "# # trains the model with teacher-forcing\n",
        "# history2 = model_rnn.fit(\n",
        "#     train_inputs,       # List of training inputs for encoder and decoder\n",
        "#     y_train_target,     # Training target\n",
        "#     batch_size=batch,\n",
        "#     initial_epoch=repeat,\n",
        "#     epochs=120,\n",
        "#     validation_data=(val_inputs, y_val_target), # Pass the split validation data\n",
        "#     callbacks=[checkpoint_callback, early_stopping], # Pass the list of callbacks here\n",
        "#     verbose=1 # Show training progress\n",
        "# )"
      ]
    },
    {
      "cell_type": "code",
      "execution_count": null,
      "metadata": {
        "id": "-SxMCBBTLSy1"
      },
      "outputs": [],
      "source": [
        "# full_history.append(history2.history)"
      ]
    },
    {
      "cell_type": "markdown",
      "metadata": {
        "id": "HACtnb2swvA9"
      },
      "source": [
        "### Combines the training history"
      ]
    },
    {
      "cell_type": "code",
      "execution_count": null,
      "metadata": {
        "id": "a7SI6i_pOroC"
      },
      "outputs": [],
      "source": [
        "combined = {\n",
        "    \"loss\": sum([h[\"loss\"] for h in full_history], []),\n",
        "    \"val_loss\": sum([h[\"val_loss\"] for h in full_history], []),\n",
        "}"
      ]
    },
    {
      "cell_type": "markdown",
      "metadata": {
        "id": "ie0IdsvUn4nR"
      },
      "source": [
        "### Save the tokenizer"
      ]
    },
    {
      "cell_type": "code",
      "execution_count": null,
      "metadata": {
        "id": "-XQgHu4wnyD3"
      },
      "outputs": [],
      "source": [
        "with open(\"tokenizer_RNN.pkl\", \"wb\") as f:\n",
        "    pickle.dump(tokenizer, f)"
      ]
    },
    {
      "cell_type": "markdown",
      "metadata": {
        "id": "kxPzE4WHY9sf"
      },
      "source": [
        "### Save the training history"
      ]
    },
    {
      "cell_type": "code",
      "execution_count": null,
      "metadata": {
        "id": "MXLLUZGAY6yH"
      },
      "outputs": [],
      "source": [
        "with open(\"combined_history.pkl\", \"wb\") as f:\n",
        "    pickle.dump(combined, f)"
      ]
    },
    {
      "cell_type": "markdown",
      "metadata": {
        "id": "UYDf408ImHWY"
      },
      "source": [
        "### Plot the Loss Curve"
      ]
    },
    {
      "cell_type": "code",
      "execution_count": null,
      "metadata": {
        "colab": {
          "base_uri": "https://localhost:8080/",
          "height": 472
        },
        "id": "Mg2hqIp9mFx2",
        "outputId": "040c05eb-469d-497d-acae-9f07adf2a14f"
      },
      "outputs": [
        {
          "data": {
            "image/png": "[encoded data removed]",
            "text/plain": [
              "<Figure size 640x480 with 1 Axes>"
            ]
          },
          "metadata": {},
          "output_type": "display_data"
        }
      ],
      "source": [
        "# Plot training & validation loss\n",
        "plt.plot(combined['loss'], label='Training Loss')\n",
        "plt.plot(combined['val_loss'], label='Validation Loss')\n",
        "plt.title('Loss Over Epochs')\n",
        "plt.xlabel('Epoch')\n",
        "plt.ylabel('Loss')\n",
        "plt.legend()\n",
        "plt.grid(True)\n",
        "plt.savefig('loss_curve_RNN.png')\n",
        "plt.show()"
      ]
    },
    {
      "cell_type": "markdown",
      "metadata": {},
      "source": [
        "### Perplexity calculation"
      ]
    },
    {
      "cell_type": "code",
      "execution_count": null,
      "metadata": {
        "id": "OyRYrnBTx-QF"
      },
      "outputs": [],
      "source": [
        "model_rnn.load_weights(\"best_model_RNN.keras\")"
      ]
    },
    {
      "cell_type": "code",
      "execution_count": null,
      "metadata": {
        "colab": {
          "base_uri": "https://localhost:8080/"
        },
        "id": "b4cGKwjZoEQ-",
        "outputId": "b9b76159-a8a2-4468-acd9-f6bfef09a24f"
      },
      "outputs": [],
      "source": [
        "val_perplexities = []\n",
        "\n",
        "val_loss, val_accuracy = model_rnn.evaluate(val_inputs, y_val_target, verbose=0)\n",
        "perplexity = np.exp(val_loss)"
      ]
    },
    {
      "cell_type": "markdown",
      "metadata": {
        "id": "uTJhuaAUUE1B"
      },
      "source": [
        "### Saves parameters and perplexity"
      ]
    },
    {
      "cell_type": "code",
      "execution_count": null,
      "metadata": {
        "id": "xjygo1S3EAQD"
      },
      "outputs": [],
      "source": [
        "parameters = {'epochs':repeat, 'batch_size':batch, 'embedding_dim':embedding_dim,\n",
        "              'RNN units':units, 'vocab_limit':vocab_limit, 'learning_rate':custom_learning_rate,'patience':patience,\n",
        "              'min_delta':min_delta, 'validation_ratio':val_ratio, 'dropout':dropout_rate, 'perplexity':perplexity}\n",
        "\n",
        "results = ''\n",
        "for key, value in parameters.items():\n",
        "    results += \"{key}: {value}\".format(key=key, value=value)\n",
        "    results += '\\n'\n",
        "\n",
        "with open('results_RNN.txt', 'w') as f:\n",
        "    f.write(results)"
      ]
    }
  ],
  "metadata": {
    "colab": {
      "machine_shape": "hm",
      "provenance": []
    },
    "kernelspec": {
      "display_name": "Python 3",
      "name": "python3"
    },
    "language_info": {
      "codemirror_mode": {
        "name": "ipython",
        "version": 3
      },
      "file_extension": ".py",
      "mimetype": "text/x-python",
      "name": "python",
      "nbconvert_exporter": "python",
      "pygments_lexer": "ipython3",
      "version": "3.11.0rc1"
    }
  },
  "nbformat": 4,
  "nbformat_minor": 0
}
