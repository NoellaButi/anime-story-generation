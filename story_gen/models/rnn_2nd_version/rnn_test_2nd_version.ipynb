{
 "cells": [
  {
   "cell_type": "code",
   "execution_count": null,
   "id": "ce3622fa",
   "metadata": {},
   "outputs": [],
   "source": [
    "# Author: Yuki Rivera\n",
    "# This notebook implements the code to evaluate the trained RNN model"
   ]
  },
  {
   "cell_type": "code",
   "execution_count": null,
   "id": "8f92e49b-65e3-4883-8200-f4233546b7de",
   "metadata": {
    "id": "8f92e49b-65e3-4883-8200-f4233546b7de"
   },
   "outputs": [],
   "source": [
    "import pickle\n",
    "import pandas as pd\n",
    "from tensorflow.keras.preprocessing.sequence import pad_sequences\n",
    "import numpy as np\n",
    "from sentence_transformers import SentenceTransformer\n",
    "from sklearn.metrics.pairwise import cosine_similarity\n",
    "from IPython.display import display\n",
    "import matplotlib.pyplot as plt\n",
    "import umap\n",
    "from tensorflow.keras.layers import Dropout, Input\n",
    "from sklearn.model_selection import train_test_split\n",
    "from tensorflow.keras.optimizers import Adam\n",
    "from tensorflow.keras.models import Model, load_model\n"
   ]
  },
  {
   "cell_type": "code",
   "execution_count": null,
   "id": "kk5kMZ5F_5A0",
   "metadata": {
    "id": "kk5kMZ5F_5A0"
   },
   "outputs": [],
   "source": [
    "perp_file_path = 'test_perplexity_rnn.txt'"
   ]
  },
  {
   "cell_type": "markdown",
   "id": "2rcOy4OfRTcw",
   "metadata": {
    "id": "2rcOy4OfRTcw"
   },
   "source": [
    "### Hyperparameters used for training"
   ]
  },
  {
   "cell_type": "code",
   "execution_count": null,
   "id": "0QS9_y3AgNXD",
   "metadata": {
    "id": "0QS9_y3AgNXD"
   },
   "outputs": [],
   "source": [
    "word_limit = 40000\n",
    "vocab_size = 40000\n",
    "enc_max_len = 64  # the prompt length\n",
    "dec_max_len = 150   # the synopsis length\n",
    "\n",
    "max_dec_input_length = dec_max_len - 1  # decoder input length\n",
    "\n",
    "max_generated_length = 50  # sets the limit for generated text\n",
    "\n",
    "embedding_dim = 128 # output_dim\n",
    "units = 128\n",
    "\n",
    "batch = 64\n",
    "repeat = 20 # num of epochs\n",
    "patience = 3 # early-stopping patience\n",
    "\n",
    "val_ratio = 0.2 # validation set ratio\n",
    "\n",
    "min_delta = 0.01\n",
    "\n",
    "dropout_rate = 0.3\n",
    "output_dim = 128"
   ]
  },
  {
   "cell_type": "markdown",
   "id": "ee52c50e-34c0-4d6e-8ed3-7156b20bf1f8",
   "metadata": {
    "id": "ee52c50e-34c0-4d6e-8ed3-7156b20bf1f8"
   },
   "source": [
    "### Load the training history, the model and the tokenizer"
   ]
  },
  {
   "cell_type": "code",
   "execution_count": null,
   "id": "84a6bf29-5e0c-4a34-b7ef-09c358dd118d",
   "metadata": {
    "id": "84a6bf29-5e0c-4a34-b7ef-09c358dd118d"
   },
   "outputs": [],
   "source": [
    "# Loads tokenizer\n",
    "with open(\"tokenizer_RNN.pkl\", \"rb\") as f:\n",
    "    tokenizer = pickle.load(f)\n",
    "\n",
    "# Loads model\n",
    "    model = load_model(\"best_model_RNN.keras\")"
   ]
  },
  {
   "cell_type": "code",
   "execution_count": null,
   "id": "YixZn3ke7NF-",
   "metadata": {
    "id": "YixZn3ke7NF-"
   },
   "outputs": [],
   "source": [
    "start_token_id = tokenizer.word_index.get('<BOS>') \n",
    "end_token_id = tokenizer.word_index.get('<EOS>')   \n",
    "oov_token_id = tokenizer.word_index.get('<OOV>')\n",
    "pad_token_id = tokenizer.word_index.get('<PAD>')"
   ]
  },
  {
   "cell_type": "markdown",
   "id": "2f639e0b-aa52-44f5-8356-555d55604a02",
   "metadata": {
    "id": "2f639e0b-aa52-44f5-8356-555d55604a02"
   },
   "source": [
    "### Loads the testing data"
   ]
  },
  {
   "cell_type": "code",
   "execution_count": null,
   "id": "lMuVI-KOwyla",
   "metadata": {
    "id": "lMuVI-KOwyla"
   },
   "outputs": [],
   "source": [
    "df = pd.read_csv('prompt_synopsis_test.csv')"
   ]
  },
  {
   "cell_type": "code",
   "execution_count": null,
   "id": "rqsoFzqH9hEM",
   "metadata": {
    "id": "rqsoFzqH9hEM"
   },
   "outputs": [],
   "source": [
    "# pd.set_option('display.max_colwidth', None)\n",
    "# testing_df.head(50)"
   ]
  },
  {
   "cell_type": "markdown",
   "id": "Jl_S1T7K-GIs",
   "metadata": {
    "id": "Jl_S1T7K-GIs"
   },
   "source": [
    "### Select 20 pairs for testing"
   ]
  },
  {
   "cell_type": "code",
   "execution_count": null,
   "id": "UIlawiyg8QYb",
   "metadata": {
    "id": "UIlawiyg8QYb"
   },
   "outputs": [],
   "source": [
    "testing_df = df.iloc[[20, 26, 64,84,88,98,106,111,127,164,190,199,225,231,242,244,259,298, 10597, 10609]]\n",
    "testing_df = testing_df.reset_index(drop=True)"
   ]
  },
  {
   "cell_type": "code",
   "execution_count": null,
   "id": "zjY_htd0RMOs",
   "metadata": {
    "colab": {
     "base_uri": "https://localhost:8080/",
     "height": 206
    },
    "executionInfo": {
     "elapsed": 44,
     "status": "ok",
     "timestamp": 1749948683196,
     "user": {
      "displayName": "Yukiko Rivera",
      "userId": "02699279760362859349"
     },
     "user_tz": 420
    },
    "id": "zjY_htd0RMOs",
    "outputId": "d0e2e7c8-97d3-429d-964a-3e2caba4fbc0"
   },
   "outputs": [
    {
     "data": {
      "application/vnd.google.colaboratory.intrinsic+json": {
       "summary": "{\n  \"name\": \"testing_df\",\n  \"rows\": 20,\n  \"fields\": [\n    {\n      \"column\": \"prompt\",\n      \"properties\": {\n        \"dtype\": \"string\",\n        \"num_unique_values\": 19,\n        \"samples\": [\n          \"Write an anime synopsis that matches 'Adventure, Comedy and Fantasy'.\",\n          \"Write an anime synopsis that matches 'Action, Adventure, Drama, Romance and Sci-Fi'.\",\n          \"Generate an anime synopsis for 'Kids'.\"\n        ],\n        \"semantic_type\": \"\",\n        \"description\": \"\"\n      }\n    },\n    {\n      \"column\": \"synopsis\",\n      \"properties\": {\n        \"dtype\": \"string\",\n        \"num_unique_values\": 20,\n        \"samples\": [\n          \"on one noteworthy day in the adventurer's guild, kazuma satou encounters someone unexpecteda fan of his named ran. surprised that he even has a fan, kazuma attempts to play it cool to impress her. unfortunately for him, the guild's receptionist arrives with a request to defeat a giant golem guarding some ancient ruins, and kazuma accepts only to keep ran's admiration. upon kazuma and his party's successful return from the ruins, kazuma continues to shamelessly brag to ran. capitalizing on his desperation, the receptionist approaches him with another quest that requires him to return to the same ruins. hoping to find valuable treasures, kazuma once again convinces his party to join himbut this time, he may be biting off more than he can chew.\",\n          \"while going through old documents, roberto nicholas comes upon a peculiar record. it details the agreement of a witch who concocted a soup that supposedly granted generations of popes with longevity in return for her exoneration from the brutal witch trials. curious as to why the vatican treated the record with such secrecy and whether the elixir of longevity truly exists, roberto and his partner, josef kou hiraga, seek to recreate the witchs soup.\",\n          \"for hearingimpaired university student yuki itose, silence has been a natural part of life since birth. her world is small and isolated; she commutes to campus, interacts with her best friend rin fujishiro, and communicates through writing and text messagesa lifestyle that offers little to no change. one day, during her commute, yuki meets fellow student itsuomi nagi, a multilingual travel enthusiast and friend of rin. when itsuomi learns of yuki's condition, he takes it in stride, moving yuki's heart. from this one simple gesture, yuki and itsuomi's lives start changing day by day as they let each other into their own worlds.\"\n        ],\n        \"semantic_type\": \"\",\n        \"description\": \"\"\n      }\n    },\n    {\n      \"column\": \"tags_combined\",\n      \"properties\": {\n        \"dtype\": \"string\",\n        \"num_unique_values\": 18,\n        \"samples\": [\n          \"adventure comedy fantasy\",\n          \"mystery supernatural\",\n          \"slice of life\"\n        ],\n        \"semantic_type\": \"\",\n        \"description\": \"\"\n      }\n    }\n  ]\n}",
       "type": "dataframe",
       "variable_name": "testing_df"
      },
      "text/html": [
       "\n",
       "  <div id=\"df-f691f935-e2ad-4607-ae5b-c750b2f952e5\" class=\"colab-df-container\">\n",
       "    <div>\n",
       "<style scoped>\n",
       "    .dataframe tbody tr th:only-of-type {\n",
       "        vertical-align: middle;\n",
       "    }\n",
       "\n",
       "    .dataframe tbody tr th {\n",
       "        vertical-align: top;\n",
       "    }\n",
       "\n",
       "    .dataframe thead th {\n",
       "        text-align: right;\n",
       "    }\n",
       "</style>\n",
       "<table border=\"1\" class=\"dataframe\">\n",
       "  <thead>\n",
       "    <tr style=\"text-align: right;\">\n",
       "      <th></th>\n",
       "      <th>prompt</th>\n",
       "      <th>synopsis</th>\n",
       "      <th>tags_combined</th>\n",
       "    </tr>\n",
       "  </thead>\n",
       "  <tbody>\n",
       "    <tr>\n",
       "      <th>0</th>\n",
       "      <td>Write an anime synopsis that matches 'Adventur...</td>\n",
       "      <td>on one noteworthy day in the adventurer's guil...</td>\n",
       "      <td>adventure comedy fantasy</td>\n",
       "    </tr>\n",
       "    <tr>\n",
       "      <th>1</th>\n",
       "      <td>Write an anime synopsis that matches 'Mystery ...</td>\n",
       "      <td>the anime is set in the fictional geso ward in...</td>\n",
       "      <td>mystery supernatural</td>\n",
       "    </tr>\n",
       "    <tr>\n",
       "      <th>2</th>\n",
       "      <td>Generate a 'Historical and Mythology' themed a...</td>\n",
       "      <td>in the nineteenth century, we find lydia carlt...</td>\n",
       "      <td>historical mythology shoujo</td>\n",
       "    </tr>\n",
       "    <tr>\n",
       "      <th>3</th>\n",
       "      <td>Write an anime synopsis that matches 'Adventure'.</td>\n",
       "      <td>takashi loves reading books and especially lov...</td>\n",
       "      <td>adventure</td>\n",
       "    </tr>\n",
       "    <tr>\n",
       "      <th>4</th>\n",
       "      <td>Create an anime synopsis with 'Comedy, Fantasy...</td>\n",
       "      <td>in a city filled with anthropomorphic catpeopl...</td>\n",
       "      <td>anthropomorphic comedy fantasy slice of life</td>\n",
       "    </tr>\n",
       "  </tbody>\n",
       "</table>\n",
       "</div>\n",
       "    <div class=\"colab-df-buttons\">\n",
       "\n",
       "  <div class=\"colab-df-container\">\n",
       "    <button class=\"colab-df-convert\" onclick=\"convertToInteractive('df-f691f935-e2ad-4607-ae5b-c750b2f952e5')\"\n",
       "            title=\"Convert this dataframe to an interactive table.\"\n",
       "            style=\"display:none;\">\n",
       "\n",
       "  <svg xmlns=\"http://www.w3.org/2000/svg\" height=\"24px\" viewBox=\"0 -960 960 960\">\n",
       "    <path d=\"M120-120v-720h720v720H120Zm60-500h600v-160H180v160Zm220 220h160v-160H400v160Zm0 220h160v-160H400v160ZM180-400h160v-160H180v160Zm440 0h160v-160H620v160ZM180-180h160v-160H180v160Zm440 0h160v-160H620v160Z\"/>\n",
       "  </svg>\n",
       "    </button>\n",
       "\n",
       "  <style>\n",
       "    .colab-df-container {\n",
       "      display:flex;\n",
       "      gap: 12px;\n",
       "    }\n",
       "\n",
       "    .colab-df-convert {\n",
       "      background-color: #E8F0FE;\n",
       "      border: none;\n",
       "      border-radius: 50%;\n",
       "      cursor: pointer;\n",
       "      display: none;\n",
       "      fill: #1967D2;\n",
       "      height: 32px;\n",
       "      padding: 0 0 0 0;\n",
       "      width: 32px;\n",
       "    }\n",
       "\n",
       "    .colab-df-convert:hover {\n",
       "      background-color: #E2EBFA;\n",
       "      box-shadow: 0px 1px 2px rgba(60, 64, 67, 0.3), 0px 1px 3px 1px rgba(60, 64, 67, 0.15);\n",
       "      fill: #174EA6;\n",
       "    }\n",
       "\n",
       "    .colab-df-buttons div {\n",
       "      margin-bottom: 4px;\n",
       "    }\n",
       "\n",
       "    [theme=dark] .colab-df-convert {\n",
       "      background-color: #3B4455;\n",
       "      fill: #D2E3FC;\n",
       "    }\n",
       "\n",
       "    [theme=dark] .colab-df-convert:hover {\n",
       "      background-color: #434B5C;\n",
       "      box-shadow: 0px 1px 3px 1px rgba(0, 0, 0, 0.15);\n",
       "      filter: drop-shadow(0px 1px 2px rgba(0, 0, 0, 0.3));\n",
       "      fill: #FFFFFF;\n",
       "    }\n",
       "  </style>\n",
       "\n",
       "    <script>\n",
       "      const buttonEl =\n",
       "        document.querySelector('#df-f691f935-e2ad-4607-ae5b-c750b2f952e5 button.colab-df-convert');\n",
       "      buttonEl.style.display =\n",
       "        google.colab.kernel.accessAllowed ? 'block' : 'none';\n",
       "\n",
       "      async function convertToInteractive(key) {\n",
       "        const element = document.querySelector('#df-f691f935-e2ad-4607-ae5b-c750b2f952e5');\n",
       "        const dataTable =\n",
       "          await google.colab.kernel.invokeFunction('convertToInteractive',\n",
       "                                                    [key], {});\n",
       "        if (!dataTable) return;\n",
       "\n",
       "        const docLinkHtml = 'Like what you see? Visit the ' +\n",
       "          '<a target=\"_blank\" href=https://colab.research.google.com/notebooks/data_table.ipynb>data table notebook</a>'\n",
       "          + ' to learn more about interactive tables.';\n",
       "        element.innerHTML = '';\n",
       "        dataTable['output_type'] = 'display_data';\n",
       "        await google.colab.output.renderOutput(dataTable, element);\n",
       "        const docLink = document.createElement('div');\n",
       "        docLink.innerHTML = docLinkHtml;\n",
       "        element.appendChild(docLink);\n",
       "      }\n",
       "    </script>\n",
       "  </div>\n",
       "\n",
       "\n",
       "    <div id=\"df-684197d9-8ca5-4ad8-be6b-546b4552c192\">\n",
       "      <button class=\"colab-df-quickchart\" onclick=\"quickchart('df-684197d9-8ca5-4ad8-be6b-546b4552c192')\"\n",
       "                title=\"Suggest charts\"\n",
       "                style=\"display:none;\">\n",
       "\n",
       "<svg xmlns=\"http://www.w3.org/2000/svg\" height=\"24px\"viewBox=\"0 0 24 24\"\n",
       "     width=\"24px\">\n",
       "    <g>\n",
       "        <path d=\"M19 3H5c-1.1 0-2 .9-2 2v14c0 1.1.9 2 2 2h14c1.1 0 2-.9 2-2V5c0-1.1-.9-2-2-2zM9 17H7v-7h2v7zm4 0h-2V7h2v10zm4 0h-2v-4h2v4z\"/>\n",
       "    </g>\n",
       "</svg>\n",
       "      </button>\n",
       "\n",
       "<style>\n",
       "  .colab-df-quickchart {\n",
       "      --bg-color: #E8F0FE;\n",
       "      --fill-color: #1967D2;\n",
       "      --hover-bg-color: #E2EBFA;\n",
       "      --hover-fill-color: #174EA6;\n",
       "      --disabled-fill-color: #AAA;\n",
       "      --disabled-bg-color: #DDD;\n",
       "  }\n",
       "\n",
       "  [theme=dark] .colab-df-quickchart {\n",
       "      --bg-color: #3B4455;\n",
       "      --fill-color: #D2E3FC;\n",
       "      --hover-bg-color: #434B5C;\n",
       "      --hover-fill-color: #FFFFFF;\n",
       "      --disabled-bg-color: #3B4455;\n",
       "      --disabled-fill-color: #666;\n",
       "  }\n",
       "\n",
       "  .colab-df-quickchart {\n",
       "    background-color: var(--bg-color);\n",
       "    border: none;\n",
       "    border-radius: 50%;\n",
       "    cursor: pointer;\n",
       "    display: none;\n",
       "    fill: var(--fill-color);\n",
       "    height: 32px;\n",
       "    padding: 0;\n",
       "    width: 32px;\n",
       "  }\n",
       "\n",
       "  .colab-df-quickchart:hover {\n",
       "    background-color: var(--hover-bg-color);\n",
       "    box-shadow: 0 1px 2px rgba(60, 64, 67, 0.3), 0 1px 3px 1px rgba(60, 64, 67, 0.15);\n",
       "    fill: var(--button-hover-fill-color);\n",
       "  }\n",
       "\n",
       "  .colab-df-quickchart-complete:disabled,\n",
       "  .colab-df-quickchart-complete:disabled:hover {\n",
       "    background-color: var(--disabled-bg-color);\n",
       "    fill: var(--disabled-fill-color);\n",
       "    box-shadow: none;\n",
       "  }\n",
       "\n",
       "  .colab-df-spinner {\n",
       "    border: 2px solid var(--fill-color);\n",
       "    border-color: transparent;\n",
       "    border-bottom-color: var(--fill-color);\n",
       "    animation:\n",
       "      spin 1s steps(1) infinite;\n",
       "  }\n",
       "\n",
       "  @keyframes spin {\n",
       "    0% {\n",
       "      border-color: transparent;\n",
       "      border-bottom-color: var(--fill-color);\n",
       "      border-left-color: var(--fill-color);\n",
       "    }\n",
       "    20% {\n",
       "      border-color: transparent;\n",
       "      border-left-color: var(--fill-color);\n",
       "      border-top-color: var(--fill-color);\n",
       "    }\n",
       "    30% {\n",
       "      border-color: transparent;\n",
       "      border-left-color: var(--fill-color);\n",
       "      border-top-color: var(--fill-color);\n",
       "      border-right-color: var(--fill-color);\n",
       "    }\n",
       "    40% {\n",
       "      border-color: transparent;\n",
       "      border-right-color: var(--fill-color);\n",
       "      border-top-color: var(--fill-color);\n",
       "    }\n",
       "    60% {\n",
       "      border-color: transparent;\n",
       "      border-right-color: var(--fill-color);\n",
       "    }\n",
       "    80% {\n",
       "      border-color: transparent;\n",
       "      border-right-color: var(--fill-color);\n",
       "      border-bottom-color: var(--fill-color);\n",
       "    }\n",
       "    90% {\n",
       "      border-color: transparent;\n",
       "      border-bottom-color: var(--fill-color);\n",
       "    }\n",
       "  }\n",
       "</style>\n",
       "\n",
       "      <script>\n",
       "        async function quickchart(key) {\n",
       "          const quickchartButtonEl =\n",
       "            document.querySelector('#' + key + ' button');\n",
       "          quickchartButtonEl.disabled = true;  // To prevent multiple clicks.\n",
       "          quickchartButtonEl.classList.add('colab-df-spinner');\n",
       "          try {\n",
       "            const charts = await google.colab.kernel.invokeFunction(\n",
       "                'suggestCharts', [key], {});\n",
       "          } catch (error) {\n",
       "            console.error('Error during call to suggestCharts:', error);\n",
       "          }\n",
       "          quickchartButtonEl.classList.remove('colab-df-spinner');\n",
       "          quickchartButtonEl.classList.add('colab-df-quickchart-complete');\n",
       "        }\n",
       "        (() => {\n",
       "          let quickchartButtonEl =\n",
       "            document.querySelector('#df-684197d9-8ca5-4ad8-be6b-546b4552c192 button');\n",
       "          quickchartButtonEl.style.display =\n",
       "            google.colab.kernel.accessAllowed ? 'block' : 'none';\n",
       "        })();\n",
       "      </script>\n",
       "    </div>\n",
       "\n",
       "    </div>\n",
       "  </div>\n"
      ],
      "text/plain": [
       "                                              prompt  \\\n",
       "0  Write an anime synopsis that matches 'Adventur...   \n",
       "1  Write an anime synopsis that matches 'Mystery ...   \n",
       "2  Generate a 'Historical and Mythology' themed a...   \n",
       "3  Write an anime synopsis that matches 'Adventure'.   \n",
       "4  Create an anime synopsis with 'Comedy, Fantasy...   \n",
       "\n",
       "                                            synopsis  \\\n",
       "0  on one noteworthy day in the adventurer's guil...   \n",
       "1  the anime is set in the fictional geso ward in...   \n",
       "2  in the nineteenth century, we find lydia carlt...   \n",
       "3  takashi loves reading books and especially lov...   \n",
       "4  in a city filled with anthropomorphic catpeopl...   \n",
       "\n",
       "                                  tags_combined  \n",
       "0                      adventure comedy fantasy  \n",
       "1                          mystery supernatural  \n",
       "2                   historical mythology shoujo  \n",
       "3                                     adventure  \n",
       "4  anthropomorphic comedy fantasy slice of life  "
      ]
     },
     "execution_count": 47,
     "metadata": {},
     "output_type": "execute_result"
    }
   ],
   "source": [
    "testing_df.head()"
   ]
  },
  {
   "cell_type": "code",
   "execution_count": null,
   "id": "ebQH9MQaAsKn",
   "metadata": {
    "id": "ebQH9MQaAsKn"
   },
   "outputs": [],
   "source": [
    "prompts = testing_df[\"prompt\"].tolist()\n",
    "references = testing_df[\"synopsis\"].tolist()\n",
    "tags_list = testing_df['tags_combined'].tolist()"
   ]
  },
  {
   "cell_type": "code",
   "execution_count": null,
   "id": "xkRKAHTphVO4",
   "metadata": {
    "colab": {
     "base_uri": "https://localhost:8080/",
     "height": 545
    },
    "executionInfo": {
     "elapsed": 4,
     "status": "ok",
     "timestamp": 1749948683243,
     "user": {
      "displayName": "Yukiko Rivera",
      "userId": "02699279760362859349"
     },
     "user_tz": 420
    },
    "id": "xkRKAHTphVO4",
    "outputId": "3de7fbb6-1a49-4e39-c09e-6a141cc239fb"
   },
   "outputs": [
    {
     "data": {
      "text/html": [
       "<pre style=\"white-space:pre;overflow-x:auto;line-height:normal;font-family:Menlo,'DejaVu Sans Mono',consolas,'Courier New',monospace\"><span style=\"font-weight: bold\">Model: \"functional\"</span>\n",
       "</pre>\n"
      ],
      "text/plain": [
       "\u001b[1mModel: \"functional\"\u001b[0m\n"
      ]
     },
     "metadata": {},
     "output_type": "display_data"
    },
    {
     "data": {
      "text/html": [
       "<pre style=\"white-space:pre;overflow-x:auto;line-height:normal;font-family:Menlo,'DejaVu Sans Mono',consolas,'Courier New',monospace\">┏━━━━━━━━━━━━━━━━━━━━━┳━━━━━━━━━━━━━━━━━━━┳━━━━━━━━━━━━┳━━━━━━━━━━━━━━━━━━━┓\n",
       "┃<span style=\"font-weight: bold\"> Layer (type)        </span>┃<span style=\"font-weight: bold\"> Output Shape      </span>┃<span style=\"font-weight: bold\">    Param # </span>┃<span style=\"font-weight: bold\"> Connected to      </span>┃\n",
       "┡━━━━━━━━━━━━━━━━━━━━━╇━━━━━━━━━━━━━━━━━━━╇━━━━━━━━━━━━╇━━━━━━━━━━━━━━━━━━━┩\n",
       "│ encoder_input       │ (<span style=\"color: #00d7ff; text-decoration-color: #00d7ff\">None</span>, <span style=\"color: #00af00; text-decoration-color: #00af00\">64</span>)        │          <span style=\"color: #00af00; text-decoration-color: #00af00\">0</span> │ -                 │\n",
       "│ (<span style=\"color: #0087ff; text-decoration-color: #0087ff\">InputLayer</span>)        │                   │            │                   │\n",
       "├─────────────────────┼───────────────────┼────────────┼───────────────────┤\n",
       "│ decoder_input       │ (<span style=\"color: #00d7ff; text-decoration-color: #00d7ff\">None</span>, <span style=\"color: #00af00; text-decoration-color: #00af00\">149</span>)       │          <span style=\"color: #00af00; text-decoration-color: #00af00\">0</span> │ -                 │\n",
       "│ (<span style=\"color: #0087ff; text-decoration-color: #0087ff\">InputLayer</span>)        │                   │            │                   │\n",
       "├─────────────────────┼───────────────────┼────────────┼───────────────────┤\n",
       "│ encoder_embedding   │ (<span style=\"color: #00d7ff; text-decoration-color: #00d7ff\">None</span>, <span style=\"color: #00af00; text-decoration-color: #00af00\">64</span>, <span style=\"color: #00af00; text-decoration-color: #00af00\">128</span>)   │  <span style=\"color: #00af00; text-decoration-color: #00af00\">1,920,000</span> │ encoder_input[<span style=\"color: #00af00; text-decoration-color: #00af00\">0</span>]… │\n",
       "│ (<span style=\"color: #0087ff; text-decoration-color: #0087ff\">Embedding</span>)         │                   │            │                   │\n",
       "├─────────────────────┼───────────────────┼────────────┼───────────────────┤\n",
       "│ not_equal           │ (<span style=\"color: #00d7ff; text-decoration-color: #00d7ff\">None</span>, <span style=\"color: #00af00; text-decoration-color: #00af00\">64</span>)        │          <span style=\"color: #00af00; text-decoration-color: #00af00\">0</span> │ encoder_input[<span style=\"color: #00af00; text-decoration-color: #00af00\">0</span>]… │\n",
       "│ (<span style=\"color: #0087ff; text-decoration-color: #0087ff\">NotEqual</span>)          │                   │            │                   │\n",
       "├─────────────────────┼───────────────────┼────────────┼───────────────────┤\n",
       "│ decoder_embedding   │ (<span style=\"color: #00d7ff; text-decoration-color: #00d7ff\">None</span>, <span style=\"color: #00af00; text-decoration-color: #00af00\">149</span>, <span style=\"color: #00af00; text-decoration-color: #00af00\">128</span>)  │  <span style=\"color: #00af00; text-decoration-color: #00af00\">1,920,000</span> │ decoder_input[<span style=\"color: #00af00; text-decoration-color: #00af00\">0</span>]… │\n",
       "│ (<span style=\"color: #0087ff; text-decoration-color: #0087ff\">Embedding</span>)         │                   │            │                   │\n",
       "├─────────────────────┼───────────────────┼────────────┼───────────────────┤\n",
       "│ encoder_rnn         │ [(<span style=\"color: #00d7ff; text-decoration-color: #00d7ff\">None</span>, <span style=\"color: #00af00; text-decoration-color: #00af00\">128</span>),     │     <span style=\"color: #00af00; text-decoration-color: #00af00\">32,896</span> │ encoder_embeddin… │\n",
       "│ (<span style=\"color: #0087ff; text-decoration-color: #0087ff\">SimpleRNN</span>)         │ (<span style=\"color: #00d7ff; text-decoration-color: #00d7ff\">None</span>, <span style=\"color: #00af00; text-decoration-color: #00af00\">128</span>)]      │            │ not_equal[<span style=\"color: #00af00; text-decoration-color: #00af00\">0</span>][<span style=\"color: #00af00; text-decoration-color: #00af00\">0</span>]   │\n",
       "├─────────────────────┼───────────────────┼────────────┼───────────────────┤\n",
       "│ decoder_rnn         │ [(<span style=\"color: #00d7ff; text-decoration-color: #00d7ff\">None</span>, <span style=\"color: #00af00; text-decoration-color: #00af00\">149</span>,      │     <span style=\"color: #00af00; text-decoration-color: #00af00\">32,896</span> │ decoder_embeddin… │\n",
       "│ (<span style=\"color: #0087ff; text-decoration-color: #0087ff\">SimpleRNN</span>)         │ <span style=\"color: #00af00; text-decoration-color: #00af00\">128</span>), (<span style=\"color: #00d7ff; text-decoration-color: #00d7ff\">None</span>,      │            │ encoder_rnn[<span style=\"color: #00af00; text-decoration-color: #00af00\">0</span>][<span style=\"color: #00af00; text-decoration-color: #00af00\">1</span>] │\n",
       "│                     │ <span style=\"color: #00af00; text-decoration-color: #00af00\">128</span>)]             │            │                   │\n",
       "├─────────────────────┼───────────────────┼────────────┼───────────────────┤\n",
       "│ decoder_output      │ (<span style=\"color: #00d7ff; text-decoration-color: #00d7ff\">None</span>, <span style=\"color: #00af00; text-decoration-color: #00af00\">149</span>,       │  <span style=\"color: #00af00; text-decoration-color: #00af00\">1,935,000</span> │ decoder_rnn[<span style=\"color: #00af00; text-decoration-color: #00af00\">0</span>][<span style=\"color: #00af00; text-decoration-color: #00af00\">0</span>] │\n",
       "│ (<span style=\"color: #0087ff; text-decoration-color: #0087ff\">Dense</span>)             │ <span style=\"color: #00af00; text-decoration-color: #00af00\">15000</span>)            │            │                   │\n",
       "└─────────────────────┴───────────────────┴────────────┴───────────────────┘\n",
       "</pre>\n"
      ],
      "text/plain": [
       "┏━━━━━━━━━━━━━━━━━━━━━┳━━━━━━━━━━━━━━━━━━━┳━━━━━━━━━━━━┳━━━━━━━━━━━━━━━━━━━┓\n",
       "┃\u001b[1m \u001b[0m\u001b[1mLayer (type)       \u001b[0m\u001b[1m \u001b[0m┃\u001b[1m \u001b[0m\u001b[1mOutput Shape     \u001b[0m\u001b[1m \u001b[0m┃\u001b[1m \u001b[0m\u001b[1m   Param #\u001b[0m\u001b[1m \u001b[0m┃\u001b[1m \u001b[0m\u001b[1mConnected to     \u001b[0m\u001b[1m \u001b[0m┃\n",
       "┡━━━━━━━━━━━━━━━━━━━━━╇━━━━━━━━━━━━━━━━━━━╇━━━━━━━━━━━━╇━━━━━━━━━━━━━━━━━━━┩\n",
       "│ encoder_input       │ (\u001b[38;5;45mNone\u001b[0m, \u001b[38;5;34m64\u001b[0m)        │          \u001b[38;5;34m0\u001b[0m │ -                 │\n",
       "│ (\u001b[38;5;33mInputLayer\u001b[0m)        │                   │            │                   │\n",
       "├─────────────────────┼───────────────────┼────────────┼───────────────────┤\n",
       "│ decoder_input       │ (\u001b[38;5;45mNone\u001b[0m, \u001b[38;5;34m149\u001b[0m)       │          \u001b[38;5;34m0\u001b[0m │ -                 │\n",
       "│ (\u001b[38;5;33mInputLayer\u001b[0m)        │                   │            │                   │\n",
       "├─────────────────────┼───────────────────┼────────────┼───────────────────┤\n",
       "│ encoder_embedding   │ (\u001b[38;5;45mNone\u001b[0m, \u001b[38;5;34m64\u001b[0m, \u001b[38;5;34m128\u001b[0m)   │  \u001b[38;5;34m1,920,000\u001b[0m │ encoder_input[\u001b[38;5;34m0\u001b[0m]… │\n",
       "│ (\u001b[38;5;33mEmbedding\u001b[0m)         │                   │            │                   │\n",
       "├─────────────────────┼───────────────────┼────────────┼───────────────────┤\n",
       "│ not_equal           │ (\u001b[38;5;45mNone\u001b[0m, \u001b[38;5;34m64\u001b[0m)        │          \u001b[38;5;34m0\u001b[0m │ encoder_input[\u001b[38;5;34m0\u001b[0m]… │\n",
       "│ (\u001b[38;5;33mNotEqual\u001b[0m)          │                   │            │                   │\n",
       "├─────────────────────┼───────────────────┼────────────┼───────────────────┤\n",
       "│ decoder_embedding   │ (\u001b[38;5;45mNone\u001b[0m, \u001b[38;5;34m149\u001b[0m, \u001b[38;5;34m128\u001b[0m)  │  \u001b[38;5;34m1,920,000\u001b[0m │ decoder_input[\u001b[38;5;34m0\u001b[0m]… │\n",
       "│ (\u001b[38;5;33mEmbedding\u001b[0m)         │                   │            │                   │\n",
       "├─────────────────────┼───────────────────┼────────────┼───────────────────┤\n",
       "│ encoder_rnn         │ [(\u001b[38;5;45mNone\u001b[0m, \u001b[38;5;34m128\u001b[0m),     │     \u001b[38;5;34m32,896\u001b[0m │ encoder_embeddin… │\n",
       "│ (\u001b[38;5;33mSimpleRNN\u001b[0m)         │ (\u001b[38;5;45mNone\u001b[0m, \u001b[38;5;34m128\u001b[0m)]      │            │ not_equal[\u001b[38;5;34m0\u001b[0m][\u001b[38;5;34m0\u001b[0m]   │\n",
       "├─────────────────────┼───────────────────┼────────────┼───────────────────┤\n",
       "│ decoder_rnn         │ [(\u001b[38;5;45mNone\u001b[0m, \u001b[38;5;34m149\u001b[0m,      │     \u001b[38;5;34m32,896\u001b[0m │ decoder_embeddin… │\n",
       "│ (\u001b[38;5;33mSimpleRNN\u001b[0m)         │ \u001b[38;5;34m128\u001b[0m), (\u001b[38;5;45mNone\u001b[0m,      │            │ encoder_rnn[\u001b[38;5;34m0\u001b[0m][\u001b[38;5;34m1\u001b[0m] │\n",
       "│                     │ \u001b[38;5;34m128\u001b[0m)]             │            │                   │\n",
       "├─────────────────────┼───────────────────┼────────────┼───────────────────┤\n",
       "│ decoder_output      │ (\u001b[38;5;45mNone\u001b[0m, \u001b[38;5;34m149\u001b[0m,       │  \u001b[38;5;34m1,935,000\u001b[0m │ decoder_rnn[\u001b[38;5;34m0\u001b[0m][\u001b[38;5;34m0\u001b[0m] │\n",
       "│ (\u001b[38;5;33mDense\u001b[0m)             │ \u001b[38;5;34m15000\u001b[0m)            │            │                   │\n",
       "└─────────────────────┴───────────────────┴────────────┴───────────────────┘\n"
      ]
     },
     "metadata": {},
     "output_type": "display_data"
    },
    {
     "data": {
      "text/html": [
       "<pre style=\"white-space:pre;overflow-x:auto;line-height:normal;font-family:Menlo,'DejaVu Sans Mono',consolas,'Courier New',monospace\"><span style=\"font-weight: bold\"> Total params: </span><span style=\"color: #00af00; text-decoration-color: #00af00\">17,522,378</span> (66.84 MB)\n",
       "</pre>\n"
      ],
      "text/plain": [
       "\u001b[1m Total params: \u001b[0m\u001b[38;5;34m17,522,378\u001b[0m (66.84 MB)\n"
      ]
     },
     "metadata": {},
     "output_type": "display_data"
    },
    {
     "data": {
      "text/html": [
       "<pre style=\"white-space:pre;overflow-x:auto;line-height:normal;font-family:Menlo,'DejaVu Sans Mono',consolas,'Courier New',monospace\"><span style=\"font-weight: bold\"> Trainable params: </span><span style=\"color: #00af00; text-decoration-color: #00af00\">5,840,792</span> (22.28 MB)\n",
       "</pre>\n"
      ],
      "text/plain": [
       "\u001b[1m Trainable params: \u001b[0m\u001b[38;5;34m5,840,792\u001b[0m (22.28 MB)\n"
      ]
     },
     "metadata": {},
     "output_type": "display_data"
    },
    {
     "data": {
      "text/html": [
       "<pre style=\"white-space:pre;overflow-x:auto;line-height:normal;font-family:Menlo,'DejaVu Sans Mono',consolas,'Courier New',monospace\"><span style=\"font-weight: bold\"> Non-trainable params: </span><span style=\"color: #00af00; text-decoration-color: #00af00\">0</span> (0.00 B)\n",
       "</pre>\n"
      ],
      "text/plain": [
       "\u001b[1m Non-trainable params: \u001b[0m\u001b[38;5;34m0\u001b[0m (0.00 B)\n"
      ]
     },
     "metadata": {},
     "output_type": "display_data"
    },
    {
     "data": {
      "text/html": [
       "<pre style=\"white-space:pre;overflow-x:auto;line-height:normal;font-family:Menlo,'DejaVu Sans Mono',consolas,'Courier New',monospace\"><span style=\"font-weight: bold\"> Optimizer params: </span><span style=\"color: #00af00; text-decoration-color: #00af00\">11,681,586</span> (44.56 MB)\n",
       "</pre>\n"
      ],
      "text/plain": [
       "\u001b[1m Optimizer params: \u001b[0m\u001b[38;5;34m11,681,586\u001b[0m (44.56 MB)\n"
      ]
     },
     "metadata": {},
     "output_type": "display_data"
    }
   ],
   "source": [
    "model.summary()"
   ]
  },
  {
   "cell_type": "markdown",
   "id": "7sKs8d7MVNuM",
   "metadata": {
    "id": "7sKs8d7MVNuM"
   },
   "source": [
    "### Build the inference models (Encoder and Decoder separately)"
   ]
  },
  {
   "cell_type": "code",
   "execution_count": null,
   "id": "4R9QXeOs_C7S",
   "metadata": {
    "id": "4R9QXeOs_C7S"
   },
   "outputs": [],
   "source": [
    "# Encoder\n",
    "# Input: The raw token IDs of the prompt\n",
    "encoder_inputs_inf = Input(shape=(enc_max_len,), name='encoder_input_inference')\n",
    "\n",
    "# Gets the Embedding layer from the trained model\n",
    "encoder_embedding_inf_layer = model.get_layer('encoder_embedding')\n",
    "\n",
    "# Gets the RNN layer from the trained model\n",
    "encoder_rnn_layer = model.get_layer('encoder_rnn')\n",
    "\n",
    "# Connects the input through the embedding layer first to get 3D tensor\n",
    "encoder_embedding_output_inf = encoder_embedding_inf_layer(encoder_inputs_inf)\n",
    "\n",
    "# Feeds the 3D embedded input to the RNN layer\n",
    "_, state_h_enc_inf = encoder_rnn_layer(encoder_embedding_output_inf)\n",
    "\n",
    "# The encoder inference model outputs the final hidden state\n",
    "encoder_states_inf = state_h_enc_inf\n",
    "\n",
    "encoder_model = Model(inputs=encoder_inputs_inf, outputs=encoder_states_inf)"
   ]
  },
  {
   "cell_type": "code",
   "execution_count": null,
   "id": "9k1coZl5_QXG",
   "metadata": {
    "colab": {
     "base_uri": "https://localhost:8080/",
     "height": 421
    },
    "executionInfo": {
     "elapsed": 29,
     "status": "ok",
     "timestamp": 1749948683308,
     "user": {
      "displayName": "Yukiko Rivera",
      "userId": "02699279760362859349"
     },
     "user_tz": 420
    },
    "id": "9k1coZl5_QXG",
    "outputId": "093200ed-499d-4727-fea0-bcff47911695"
   },
   "outputs": [],
   "source": [
    "# Decoder\n",
    "\n",
    "# Input for the single token that the decoder will receive at each step of inference.\n",
    "decoder_input_single_token_inf = Input(shape=(1,), name='decoder_input_inference_token')\n",
    "\n",
    "# Input for the previous decoder state\n",
    "decoder_state_input_h_inf = Input(shape=(units,), name='decoder_state_input_h_inf')\n",
    "\n",
    "\n",
    "# Gets the relevant layers from the loaded training_model by their names.\n",
    "decoder_embedding_inf_layer = model.get_layer('decoder_embedding')\n",
    "decoder_rnn_inf_layer = model.get_layer('decoder_rnn') \n",
    "decoder_dense_inf_layer = model.get_layer('decoder_output')\n",
    "\n",
    "# Connects the single token input to the decoder's embedding layer.\n",
    "decoder_embedding_output_inf = decoder_embedding_inf_layer(decoder_input_single_token_inf)\n",
    "\n",
    "# Connects the embedded token and previous state to the decoder RNN layer.\n",
    "decoder_outputs_inf_sequence, state_h_dec_inf = decoder_rnn_inf_layer(\n",
    "    decoder_embedding_output_inf, initial_state=decoder_state_input_h_inf\n",
    ")\n",
    "\n",
    "# Connects the decoder RNN's sequence output to the final dense layer to get probabilities.\n",
    "decoder_outputs_prob_inf = decoder_dense_inf_layer(decoder_outputs_inf_sequence)\n",
    "\n",
    "\n",
    "decoder_model = Model(\n",
    "    inputs=[decoder_input_single_token_inf, decoder_state_input_h_inf], # Inputs: token + h state\n",
    "    outputs=[decoder_outputs_prob_inf, state_h_dec_inf] # Outputs: probabilities + new h state\n",
    ")"
   ]
  },
  {
   "cell_type": "markdown",
   "id": "f6fb9bc6",
   "metadata": {},
   "source": [
    "### Preprocess the testing data"
   ]
  },
  {
   "cell_type": "code",
   "execution_count": null,
   "id": "f3EL07ZE0QAg",
   "metadata": {
    "id": "f3EL07ZE0QAg"
   },
   "outputs": [],
   "source": [
    "def clean_text(text):\n",
    "    return str(text).lower().strip()"
   ]
  },
  {
   "cell_type": "code",
   "execution_count": null,
   "id": "bY_5k6na0EEO",
   "metadata": {
    "id": "bY_5k6na0EEO"
   },
   "outputs": [],
   "source": [
    "for col in ['prompt', 'synopsis']:\n",
    "    testing_df[col] = testing_df[col].astype(str).apply(clean_text)\n",
    "\n",
    "test_prompt_seqs = tokenizer.texts_to_sequences(testing_df['prompt'].tolist())\n",
    "test_synopsis_seqs = tokenizer.texts_to_sequences(testing_df['synopsis'].tolist())\n",
    "\n",
    "# adds special tokens for decoder input/target\n",
    "test_decoder_input_ids = [[start_token_id] + seq for seq in test_synopsis_seqs]\n",
    "test_decoder_target_ids = [seq + [end_token_id] for seq in test_synopsis_seqs]\n",
    "\n",
    "# pads all sequences\n",
    "X_enc_test = pad_sequences(test_prompt_seqs, maxlen=enc_max_len, padding='post', value=pad_token_id)\n",
    "X_dec_test = pad_sequences(test_decoder_input_ids, maxlen=max_dec_input_length, padding='post', value=pad_token_id)\n",
    "\n",
    "y_test = pad_sequences(test_decoder_target_ids, maxlen=max_dec_input_length, padding='post', value=pad_token_id)\n",
    "\n",
    "# reshapes target for sparse_categorical_crossentropy\n",
    "y_test = np.expand_dims(y_test, axis=-1)"
   ]
  },
  {
   "cell_type": "markdown",
   "id": "a5885964",
   "metadata": {},
   "source": [
    "### Calculates the perplexity and saves to a text file"
   ]
  },
  {
   "cell_type": "code",
   "execution_count": null,
   "id": "3ie6Im0P0dAQ",
   "metadata": {
    "colab": {
     "base_uri": "https://localhost:8080/"
    },
    "executionInfo": {
     "elapsed": 1160,
     "status": "ok",
     "timestamp": 1749948684482,
     "user": {
      "displayName": "Yukiko Rivera",
      "userId": "02699279760362859349"
     },
     "user_tz": 420
    },
    "id": "3ie6Im0P0dAQ",
    "outputId": "e27f591c-7277-470d-b3db-4b654cf91dbe"
   },
   "outputs": [
    {
     "name": "stdout",
     "output_type": "stream",
     "text": [
      "Final RNN Test Perplexity: 225.52\n"
     ]
    }
   ],
   "source": [
    "rnn_test_results = model.evaluate([X_enc_test, X_dec_test], y_test, verbose=0)\n",
    "rnn_test_loss = rnn_test_results[0] if isinstance(rnn_test_results, list) else rnn_test_results\n",
    "\n",
    "# calculates perplexity\n",
    "rnn_test_perplexity = np.exp(rnn_test_loss)\n",
    "\n",
    "print(f\"Final RNN Test Perplexity: {rnn_test_perplexity:.2f}\")"
   ]
  },
  {
   "cell_type": "code",
   "execution_count": null,
   "id": "JK6uj27Vyq9R",
   "metadata": {
    "id": "JK6uj27Vyq9R"
   },
   "outputs": [],
   "source": [
    "with open(perp_file_path, 'w') as f:\n",
    "    f.write(str(rnn_test_perplexity))"
   ]
  },
  {
   "cell_type": "markdown",
   "id": "5Da79UpmuMa5",
   "metadata": {
    "id": "5Da79UpmuMa5"
   },
   "source": [
    "### Adds Temprature Sampling (adds more randomeness to get diverse output)"
   ]
  },
  {
   "cell_type": "code",
   "execution_count": null,
   "id": "ee685766",
   "metadata": {},
   "outputs": [],
   "source": [
    "def sample_with_temperature(preds, temperature=0.7):\n",
    "    preds = np.asarray(preds).astype('float64')\n",
    "    preds = np.log(preds + 1e-8) / temperature\n",
    "    exp_preds = np.exp(preds)\n",
    "    preds = exp_preds / np.sum(exp_preds)\n",
    "    probas = np.random.multinomial(1, preds, 1)\n",
    "    return np.argmax(probas)"
   ]
  },
  {
   "cell_type": "markdown",
   "id": "rFB5YLdMN6fx",
   "metadata": {
    "id": "rFB5YLdMN6fx"
   },
   "source": [
    "### Function to generate synopsis"
   ]
  },
  {
   "cell_type": "code",
   "execution_count": null,
   "id": "GnCNhMX-zXsp",
   "metadata": {
    "id": "GnCNhMX-zXsp"
   },
   "outputs": [],
   "source": [
    "def generate_synopsis(prompt, encoder_model, decoder_model, tokenizer, max_words=max_generated_length, temp=0.7):\n",
    "\n",
    "    input_seq = tokenizer.texts_to_sequences([prompt])\n",
    "    padded_input_seq = pad_sequences(input_seq, maxlen=enc_max_len, padding='post', truncating='post', value=pad_token_id)\n",
    "\n",
    "    # gets the final hidden state from the encoder_model by feeding the padded input\n",
    "    states_value = encoder_model.predict(padded_input_seq, verbose=0)\n",
    "\n",
    "    target_seq = np.zeros((1, 1), dtype='int32')\n",
    "    target_seq[0, 0] = start_token_id\n",
    "\n",
    "    stop_condition = False\n",
    "    generated_synopsis_ids = []\n",
    "\n",
    "    while not stop_condition:\n",
    "        # gets the prob distribution over the entire vocab for the next token by feeding the token input to the decoder\n",
    "        # as well as gets the hidden state\n",
    "        output_tokens, h = decoder_model.predict([target_seq, states_value], verbose=0)\n",
    "\n",
    "        # gets the output id that was chosen\n",
    "        sampled_token_index = sample_with_temperature(output_tokens[0, 0, :], temperature=temp)\n",
    "\n",
    "        # adds the newly predicted token id to the list\n",
    "        generated_synopsis_ids.append(sampled_token_index)\n",
    "\n",
    "        # checks for the stop conditions\n",
    "        if sampled_token_index == end_token_id:\n",
    "            stop_condition = True\n",
    "        if len(generated_synopsis_ids) >= max_words:\n",
    "            stop_condition = True\n",
    "\n",
    "        # the token that was predicted becomes the input for the next step\n",
    "        target_seq = np.zeros((1, 1), dtype='int32')\n",
    "        target_seq[0, 0] = sampled_token_index\n",
    "\n",
    "        # updates the decoder's hidden state to the newly computed state\n",
    "        states_value = h\n",
    "\n",
    "    generated_words = []\n",
    "\n",
    "    for token_id in generated_synopsis_ids:\n",
    "        if token_id == end_token_id: # Stop adding words after <EOS> token\n",
    "            break\n",
    "        word = tokenizer.index_word.get(token_id)\n",
    "        if word in {'<OOV>', '<PAD>'}:\n",
    "            continue\n",
    "        elif word is not None and token_id != start_token_id: \n",
    "            generated_words.append(word)\n",
    "\n",
    "    generated_text = ' '.join(generated_words)\n",
    "    return generated_text"
   ]
  },
  {
   "cell_type": "markdown",
   "id": "CZJ9DrIsQQ-A",
   "metadata": {
    "id": "CZJ9DrIsQQ-A"
   },
   "source": [
    "### Generates synopsis, computes cosine similarity for each pair, prints the result"
   ]
  },
  {
   "cell_type": "code",
   "execution_count": null,
   "id": "AFrzodIiv2p_",
   "metadata": {
    "id": "AFrzodIiv2p_"
   },
   "outputs": [],
   "source": [
    "def evaluate_outputs(model, tokenizer, prompts, references, tags_combined, enc_max_len, dec_max_len, print_count=10):\n",
    "\n",
    "    # Loads the pre-trained model for creating sentence embeddings\n",
    "    embedding_model = SentenceTransformer(\"all-MiniLM-L6-v2\")\n",
    "    results = []\n",
    "\n",
    "    for i in range(len(prompts)):\n",
    "        # Gets all the data for the current row\n",
    "        prompt = prompts[i]\n",
    "        true_synopsis = references[i]\n",
    "        tags = tags_combined[i]\n",
    "\n",
    "        # Generates a new synopsis from the full prompt\n",
    "        generated_synopsis = generate_synopsis(\n",
    "            prompt=prompt, encoder_model=encoder_model, decoder_model=decoder_model,tokenizer=tokenizer, max_words=dec_max_len\n",
    "        )\n",
    "\n",
    "\n",
    "        # Creates embeddings for the tags and the generated synopsis.\n",
    "        emb_tags = embedding_model.encode(tags)\n",
    "        emb_generated = embedding_model.encode(generated_synopsis)\n",
    "\n",
    "        # Calculates the cosine similarity between the tags and the generated text.\n",
    "        similarity = cosine_similarity([emb_tags], [emb_generated])[0][0]\n",
    "\n",
    "        # Stores all relevant information in the results dictionary\n",
    "        results.append({\n",
    "            \"tags_combined\": tags,\n",
    "            \"prompt\": prompt,\n",
    "            \"generated\": generated_synopsis,\n",
    "            \"true_synopsis\": true_synopsis, \n",
    "            \"cosine_similarity\": similarity\n",
    "        })\n",
    "\n",
    "        # Prints the first few results for manual inspection\n",
    "        if i < print_count:\n",
    "            print(f\"\\nPrompt {i+1}: {prompt}\")\n",
    "            print(f\"Generated: {generated_synopsis}\")\n",
    "            print(f\"True:      {true_synopsis}\")\n",
    "            print(f\"Cosine Similarity: {similarity:.3f}\")\n",
    "            print(\"—\" * 50)\n",
    "\n",
    "    return results"
   ]
  },
  {
   "cell_type": "code",
   "execution_count": null,
   "id": "I-7tSFWvw4-i",
   "metadata": {
    "colab": {
     "base_uri": "https://localhost:8080/"
    },
    "executionInfo": {
     "elapsed": 66360,
     "status": "ok",
     "timestamp": 1749949111335,
     "user": {
      "displayName": "Yukiko Rivera",
      "userId": "02699279760362859349"
     },
     "user_tz": 420
    },
    "id": "I-7tSFWvw4-i",
    "outputId": "7d13534f-447d-452a-9950-a68374deeefa"
   },
   "outputs": [
    {
     "name": "stdout",
     "output_type": "stream",
     "text": [
      "Inside generate_synopsis — type of tokenizer: <class 'keras.src.legacy.preprocessing.text.Tokenizer'>\n",
      "\n",
      "Prompt 1: Write an anime synopsis that matches 'Adventure, Comedy and Fantasy'.\n",
      "Generated: the anime of the school the first childhood anime episodes of the high school to fulfill the of the and the wall is a beautiful it has are a man that even the show is to the club to find her and the of while the that there is attacked by the\n",
      "True:      on one noteworthy day in the adventurer's guild, kazuma satou encounters someone unexpecteda fan of his named ran. surprised that he even has a fan, kazuma attempts to play it cool to impress her. unfortunately for him, the guild's receptionist arrives with a request to defeat a giant golem guarding some ancient ruins, and kazuma accepts only to keep ran's admiration. upon kazuma and his party's successful return from the ruins, kazuma continues to shamelessly brag to ran. capitalizing on his desperation, the receptionist approaches him with another quest that requires him to return to the same ruins. hoping to find valuable treasures, kazuma once again convinces his party to join himbut this time, he may be biting off more than he can chew.\n",
      "Cosine Similarity: 0.255\n",
      "——————————————————————————————————————————————————\n",
      "\n",
      "Prompt 2: Write an anime synopsis that matches 'Mystery and Supernatural'.\n",
      "Generated: an story of the is the they to the thief by than the way to the and a known as the of her who is an 11yearold that that the are someone in the of his own other and his he in the and the that the only haru was as the of their father, his former death.\n",
      "True:      the anime is set in the fictional geso ward in tokyo, a school city where an app called aicis is becoming popular. those who get the app are given supernatural powers, which they use to pursue their own selfish desires, leading to many occurrences of violence and other incidents. the story focuses on a group of detectives who solve cases related to power wielders.\n",
      "Cosine Similarity: 0.307\n",
      "——————————————————————————————————————————————————\n",
      "\n",
      "Prompt 3: Generate a 'Historical and Mythology' themed anime targeting 'Shoujo'.\n",
      "Generated: the is a young boy who incredibly who has been with the and and the interhigh battle.\n",
      "True:      in the nineteenth century, we find lydia carlton living in scotland, making a living as a fairy doctor. she is one of those rare humans who can see and communicate with fairies. but no one believes her. however, edgar is in need of someone with a vast knowledge of fairy lore, and lydia is just that person. after rescuing her, he becomes her employer, but there are many secrets and emotions that seem to follow edgar, who claims to be the blue knight's earl.\n",
      "Cosine Similarity: 0.246\n",
      "——————————————————————————————————————————————————\n",
      "\n",
      "Prompt 4: Write an anime synopsis that matches 'Adventure'.\n",
      "Generated: a series of the world of the human but is willing to be able to cute to his when it are the way, in the world. is completely by the by a two and and as the and allow a new and the entire season.\n",
      "True:      takashi loves reading books and especially loves alice's adventures in wonderland. one day, he buys some used books, and he finds one book thrown in. when takashi opens the book, the god of math m1 appeared. takashi is told that alice is kidnapped, and he's asked to rescue her by m1. and takashi goes on an adventure in wonderland to rescue alice.\n",
      "Cosine Similarity: 0.387\n",
      "——————————————————————————————————————————————————\n",
      "\n",
      "Prompt 5: Create an anime synopsis with 'Comedy, Fantasy and Slice Of Life' and 'Anthropomorphic'.\n",
      "Generated: by the of ruthless ceremony within the two high school episodes and\n",
      "True:      in a city filled with anthropomorphic catpeople, catman lives free of rules and boundaries, doing everything he wants, which often collides with the other inhabitants of the city. created entirely in flash, with no spoken dialog, catman instead speaks in english and japanese subtitles. the series is spread across three socalled 'seasons', with only the third having been aired.\n",
      "Cosine Similarity: 0.168\n",
      "——————————————————————————————————————————————————\n",
      "\n",
      "Prompt 6: Write an anime synopsis that matches 'Action, Adventure, Drama, Romance and Sci-Fi'.\n",
      "Generated: is a a witch and the followed and the girls about the strange however, in the the with him for her allowing her time and evil the government is with the first secrets of the time.\n",
      "True:      in the backwater town of bellforest lives a 14yearold boy named renton thurston. he desires to leave his home behind and join the mercenary group known as gekkostate, hoping to find some adventure to brighten up his mundane life. however, stuck between his grandfather's insistence to become a mechanic like him and the pressure of his deceased father's legacy, the only excitement renton finds is in his pastime of riding the trapar wave particles that are dispersed throughout the air, an activity akin to surfing. everything changes when an unknown object crashes through renton's garage, discovered to be a light finding operationa robot capable of riding the trapar wavesspecifically known as the nirvash typezero. its pilot is a young girl named eureka, a member of the gekkostate, who requests a tuneup for the nirvash. their meeting sparks the beginning of renton's involvement with the gekkostate as he takes off alongside eureka as the copilot of the nirvash.\n",
      "Cosine Similarity: 0.295\n",
      "——————————————————————————————————————————————————\n",
      "\n",
      "Prompt 7: Create an anime synopsis with 'Sports' and 'Anthropomorphic and Racing'.\n",
      "Generated: receives a sudden girl named and a new three school who soon as the however, one student is in the picturesque crush is a new to protect the future this mashiro which is a and dominance of one day called who and the help of his dream and and the and but a is more of this\n",
      "True:      within the horseracing world, the horse girls of team spica have been gaining popularity as they continue to rack up victories. the one receiving the most attention in the group is toukai teiou, known for her cheerful personality and exceptional running skills. teiou aims to become an undefeated triple crown horse girl by winning all three g1 races consecutively, a feat that has not been accomplished since the legendary symbolic rudolf managed to do so many years ago. on her path to obtaining the triple crown, teiou is met with many challenges, encountering both old and new rivals. amidst her fierce rivalries, however, teiou is soon confronted with decisions that will leave a huge impact on her very own racing career.\n",
      "Cosine Similarity: 0.078\n",
      "——————————————————————————————————————————————————\n",
      "\n",
      "Prompt 8: Write an anime synopsis based on the 'Mecha and Space'.\n",
      "Generated: a space\n",
      "True:      when one space colony declared its independence from the earth federation, the devastating 7th space war, an allout war between earth and space, resulted. the federation responded to the space revolutionary army with mobile suits, called gundams. however, the space revolutionary forces played their trump card and dropped hundreds of space colonies onto the earth, plunging the planet into a sevenyearlong nuclear winter. the federation collapsed, but the space revolutionary army was unable to invade the earth in the aftermath of the colony drop. fifteen years have passed. the year is now after war 0015, and a new federation has sprung up on earth to restore order. in space, the colonial leaders have been rebuilding their own forces as well. by chance, fifteenyearold garrod ran has discovered an old federation mobile suit, the gundam x, and now he uses it to help out the vulture ship freeden in its struggle to keep the powers that be from repeating the mistakes of the past.\n",
      "Cosine Similarity: 0.638\n",
      "——————————————————————————————————————————————————\n",
      "\n",
      "Prompt 9: Write a 'Slice Of Life' anime synopsis inspired by 'Welcome, Chitose'.\n",
      "Generated: no movie and the and the story of and the kingdom of the potential are the of the of the to save the of after a the of and one of\n",
      "True:      chitosechan is a penguin who lives in kyoto. getting in touch with people and getting fed delicious food as she curiously walks around kyoto streets is her favourite thing to do. the story features popular places in kyoto like kiyomizu temple, ginkaku temple, and gion from the penguin's point of view. this is a short story about a penguin that is nostalgic and warm, curing and relieving the heart.\n",
      "Cosine Similarity: 0.207\n",
      "——————————————————————————————————————————————————\n",
      "\n",
      "Prompt 10: Write an anime synopsis that matches 'Adventure, Mystery, Slice Of Life and Supernatural'.\n",
      "Generated: a series of the love of the\n",
      "True:      ghostly, primordial beings known as mushi continue to cause mysterious changes in the lives of humans. the travelling mushishi, ginko, persists in trying to set right the strange and unsettling situations he encounters. time loops, living shadows, and telepathy are among the overt effects of interference from mushi, but more subtle symptoms that take years to be noticed also rouse ginko's concern as he passes from village to village. through circumstance, ginko has become an arbiter, determining which mushi are blessings and which are curses. but the lines that he seeks to draw are subjective. some of his patients would rather exercise their new powers until they are utterly consumed by them; others desperately strive to rid themselves of afflictions which are in fact protecting their lives from devastation. those who cross paths with mushi must learn to accept seemingly impossible consequences for their actions, and heal wounds they did not know they had. otherwise, they risk meeting with fates beyond their comprehension.\n",
      "Cosine Similarity: 0.354\n",
      "——————————————————————————————————————————————————\n"
     ]
    }
   ],
   "source": [
    "results = evaluate_outputs(model, tokenizer, prompts, references, tags_list, enc_max_len, dec_max_len)"
   ]
  },
  {
   "cell_type": "markdown",
   "id": "71172db1",
   "metadata": {},
   "source": [
    "### Computs the avg cosine similarity and saves it to a text file"
   ]
  },
  {
   "cell_type": "code",
   "execution_count": null,
   "id": "ooO16-QaE6bJ",
   "metadata": {
    "colab": {
     "base_uri": "https://localhost:8080/"
    },
    "executionInfo": {
     "elapsed": 6,
     "status": "ok",
     "timestamp": 1749949111343,
     "user": {
      "displayName": "Yukiko Rivera",
      "userId": "02699279760362859349"
     },
     "user_tz": 420
    },
    "id": "ooO16-QaE6bJ",
    "outputId": "616bfab2-a53e-48be-ef22-86845949b9cd"
   },
   "outputs": [],
   "source": [
    "avg_similarity = sum(r[\"cosine_similarity\"] for r in results) / len(results)"
   ]
  },
  {
   "cell_type": "code",
   "execution_count": null,
   "id": "BS3llTZ0FFk7",
   "metadata": {
    "id": "BS3llTZ0FFk7"
   },
   "outputs": [],
   "source": [
    "with open('avg_sim_transformer.txt', 'w') as f:\n",
    "    f.write(str(avg_similarity))"
   ]
  },
  {
   "cell_type": "markdown",
   "id": "ab8fa0e8",
   "metadata": {},
   "source": [
    "### Saves all the results to a csv file"
   ]
  },
  {
   "cell_type": "code",
   "execution_count": null,
   "id": "UVDZuKg5k7h9",
   "metadata": {
    "id": "UVDZuKg5k7h9"
   },
   "outputs": [],
   "source": [
    "df_results = pd.DataFrame(results)\n",
    "df_results.to_csv(\"generated_results_with_similarity_calc.csv\", index=False)"
   ]
  },
  {
   "cell_type": "markdown",
   "id": "BzEkXWUy7vqC",
   "metadata": {
    "id": "BzEkXWUy7vqC"
   },
   "source": [
    "### Creates a table for comparison"
   ]
  },
  {
   "cell_type": "code",
   "execution_count": null,
   "id": "tZcxG88j7tQh",
   "metadata": {
    "colab": {
     "base_uri": "https://localhost:8080/",
     "height": 1000
    },
    "executionInfo": {
     "elapsed": 16,
     "status": "ok",
     "timestamp": 1749949111789,
     "user": {
      "displayName": "Yukiko Rivera",
      "userId": "02699279760362859349"
     },
     "user_tz": 420
    },
    "id": "tZcxG88j7tQh",
    "outputId": "faac05e7-3ba8-4f1c-8839-726178ae6d4d"
   },
   "outputs": [
    {
     "data": {
      "text/html": [
       "<style type=\"text/css\">\n",
       "#T_01363 th {\n",
       "  text-align: left;\n",
       "}\n",
       "#T_01363_row0_col0, #T_01363_row0_col1, #T_01363_row0_col2, #T_01363_row0_col3, #T_01363_row0_col4, #T_01363_row1_col0, #T_01363_row1_col1, #T_01363_row1_col2, #T_01363_row1_col3, #T_01363_row1_col4, #T_01363_row2_col0, #T_01363_row2_col1, #T_01363_row2_col2, #T_01363_row2_col3, #T_01363_row2_col4, #T_01363_row3_col0, #T_01363_row3_col1, #T_01363_row3_col2, #T_01363_row3_col3, #T_01363_row3_col4, #T_01363_row4_col0, #T_01363_row4_col1, #T_01363_row4_col2, #T_01363_row4_col3, #T_01363_row4_col4, #T_01363_row5_col0, #T_01363_row5_col1, #T_01363_row5_col2, #T_01363_row5_col3, #T_01363_row5_col4, #T_01363_row6_col0, #T_01363_row6_col1, #T_01363_row6_col2, #T_01363_row6_col3, #T_01363_row6_col4, #T_01363_row7_col0, #T_01363_row7_col1, #T_01363_row7_col2, #T_01363_row7_col3, #T_01363_row7_col4, #T_01363_row8_col0, #T_01363_row8_col1, #T_01363_row8_col2, #T_01363_row8_col3, #T_01363_row8_col4, #T_01363_row9_col0, #T_01363_row9_col1, #T_01363_row9_col2, #T_01363_row9_col3, #T_01363_row9_col4 {\n",
       "  text-align: left;\n",
       "  white-space: pre-wrap;\n",
       "}\n",
       "</style>\n",
       "<table id=\"T_01363\" class=\"dataframe\">\n",
       "  <thead>\n",
       "    <tr>\n",
       "      <th class=\"blank level0\" >&nbsp;</th>\n",
       "      <th id=\"T_01363_level0_col0\" class=\"col_heading level0 col0\" >tags_combined</th>\n",
       "      <th id=\"T_01363_level0_col1\" class=\"col_heading level0 col1\" >prompt</th>\n",
       "      <th id=\"T_01363_level0_col2\" class=\"col_heading level0 col2\" >generated</th>\n",
       "      <th id=\"T_01363_level0_col3\" class=\"col_heading level0 col3\" >true_synopsis</th>\n",
       "      <th id=\"T_01363_level0_col4\" class=\"col_heading level0 col4\" >cosine_similarity</th>\n",
       "    </tr>\n",
       "  </thead>\n",
       "  <tbody>\n",
       "    <tr>\n",
       "      <th id=\"T_01363_level0_row0\" class=\"row_heading level0 row0\" >0</th>\n",
       "      <td id=\"T_01363_row0_col0\" class=\"data row0 col0\" >adventure comedy fantasy</td>\n",
       "      <td id=\"T_01363_row0_col1\" class=\"data row0 col1\" >Write an anime synopsis that matches 'Adventure, Comedy and Fantasy'.</td>\n",
       "      <td id=\"T_01363_row0_col2\" class=\"data row0 col2\" >the anime of the school the first childhood anime episodes of the high school to fulfill the of the and the wall is a beautiful it has are a man that even the show is to the club to find her and the of while the that there is attacked by the</td>\n",
       "      <td id=\"T_01363_row0_col3\" class=\"data row0 col3\" >on one noteworthy day in the adventurer's guild, kazuma satou encounters someone unexpecteda fan of his named ran. surprised that he even has a fan, kazuma attempts to play it cool to impress her. unfortunately for him, the guild's receptionist arrives with a request to defeat a giant golem guarding some ancient ruins, and kazuma accepts only to keep ran's admiration. upon kazuma and his party's successful return from the ruins, kazuma continues to shamelessly brag to ran. capitalizing on his desperation, the receptionist approaches him with another quest that requires him to return to the same ruins. hoping to find valuable treasures, kazuma once again convinces his party to join himbut this time, he may be biting off more than he can chew.</td>\n",
       "      <td id=\"T_01363_row0_col4\" class=\"data row0 col4\" >0.254905</td>\n",
       "    </tr>\n",
       "    <tr>\n",
       "      <th id=\"T_01363_level0_row1\" class=\"row_heading level0 row1\" >1</th>\n",
       "      <td id=\"T_01363_row1_col0\" class=\"data row1 col0\" >mystery supernatural</td>\n",
       "      <td id=\"T_01363_row1_col1\" class=\"data row1 col1\" >Write an anime synopsis that matches 'Mystery and Supernatural'.</td>\n",
       "      <td id=\"T_01363_row1_col2\" class=\"data row1 col2\" >an story of the is the they to the thief by than the way to the and a known as the of her who is an 11yearold that that the are someone in the of his own other and his he in the and the that the only haru was as the of their father, his former death.</td>\n",
       "      <td id=\"T_01363_row1_col3\" class=\"data row1 col3\" >the anime is set in the fictional geso ward in tokyo, a school city where an app called aicis is becoming popular. those who get the app are given supernatural powers, which they use to pursue their own selfish desires, leading to many occurrences of violence and other incidents. the story focuses on a group of detectives who solve cases related to power wielders.</td>\n",
       "      <td id=\"T_01363_row1_col4\" class=\"data row1 col4\" >0.307352</td>\n",
       "    </tr>\n",
       "    <tr>\n",
       "      <th id=\"T_01363_level0_row2\" class=\"row_heading level0 row2\" >2</th>\n",
       "      <td id=\"T_01363_row2_col0\" class=\"data row2 col0\" >historical mythology shoujo</td>\n",
       "      <td id=\"T_01363_row2_col1\" class=\"data row2 col1\" >Generate a 'Historical and Mythology' themed anime targeting 'Shoujo'.</td>\n",
       "      <td id=\"T_01363_row2_col2\" class=\"data row2 col2\" >the is a young boy who incredibly who has been with the and and the interhigh battle.</td>\n",
       "      <td id=\"T_01363_row2_col3\" class=\"data row2 col3\" >in the nineteenth century, we find lydia carlton living in scotland, making a living as a fairy doctor. she is one of those rare humans who can see and communicate with fairies. but no one believes her. however, edgar is in need of someone with a vast knowledge of fairy lore, and lydia is just that person. after rescuing her, he becomes her employer, but there are many secrets and emotions that seem to follow edgar, who claims to be the blue knight's earl.</td>\n",
       "      <td id=\"T_01363_row2_col4\" class=\"data row2 col4\" >0.245607</td>\n",
       "    </tr>\n",
       "    <tr>\n",
       "      <th id=\"T_01363_level0_row3\" class=\"row_heading level0 row3\" >3</th>\n",
       "      <td id=\"T_01363_row3_col0\" class=\"data row3 col0\" >adventure</td>\n",
       "      <td id=\"T_01363_row3_col1\" class=\"data row3 col1\" >Write an anime synopsis that matches 'Adventure'.</td>\n",
       "      <td id=\"T_01363_row3_col2\" class=\"data row3 col2\" >a series of the world of the human but is willing to be able to cute to his when it are the way, in the world. is completely by the by a two and and as the and allow a new and the entire season.</td>\n",
       "      <td id=\"T_01363_row3_col3\" class=\"data row3 col3\" >takashi loves reading books and especially loves alice's adventures in wonderland. one day, he buys some used books, and he finds one book thrown in. when takashi opens the book, the god of math m1 appeared. takashi is told that alice is kidnapped, and he's asked to rescue her by m1. and takashi goes on an adventure in wonderland to rescue alice.</td>\n",
       "      <td id=\"T_01363_row3_col4\" class=\"data row3 col4\" >0.386848</td>\n",
       "    </tr>\n",
       "    <tr>\n",
       "      <th id=\"T_01363_level0_row4\" class=\"row_heading level0 row4\" >4</th>\n",
       "      <td id=\"T_01363_row4_col0\" class=\"data row4 col0\" >anthropomorphic comedy fantasy slice of life</td>\n",
       "      <td id=\"T_01363_row4_col1\" class=\"data row4 col1\" >Create an anime synopsis with 'Comedy, Fantasy and Slice Of Life' and 'Anthropomorphic'.</td>\n",
       "      <td id=\"T_01363_row4_col2\" class=\"data row4 col2\" >by the of ruthless ceremony within the two high school episodes and</td>\n",
       "      <td id=\"T_01363_row4_col3\" class=\"data row4 col3\" >in a city filled with anthropomorphic catpeople, catman lives free of rules and boundaries, doing everything he wants, which often collides with the other inhabitants of the city. created entirely in flash, with no spoken dialog, catman instead speaks in english and japanese subtitles. the series is spread across three socalled 'seasons', with only the third having been aired.</td>\n",
       "      <td id=\"T_01363_row4_col4\" class=\"data row4 col4\" >0.167646</td>\n",
       "    </tr>\n",
       "    <tr>\n",
       "      <th id=\"T_01363_level0_row5\" class=\"row_heading level0 row5\" >5</th>\n",
       "      <td id=\"T_01363_row5_col0\" class=\"data row5 col0\" >action adventure drama romance sci-fi</td>\n",
       "      <td id=\"T_01363_row5_col1\" class=\"data row5 col1\" >Write an anime synopsis that matches 'Action, Adventure, Drama, Romance and Sci-Fi'.</td>\n",
       "      <td id=\"T_01363_row5_col2\" class=\"data row5 col2\" >is a a witch and the followed and the girls about the strange however, in the the with him for her allowing her time and evil the government is with the first secrets of the time.</td>\n",
       "      <td id=\"T_01363_row5_col3\" class=\"data row5 col3\" >in the backwater town of bellforest lives a 14yearold boy named renton thurston. he desires to leave his home behind and join the mercenary group known as gekkostate, hoping to find some adventure to brighten up his mundane life. however, stuck between his grandfather's insistence to become a mechanic like him and the pressure of his deceased father's legacy, the only excitement renton finds is in his pastime of riding the trapar wave particles that are dispersed throughout the air, an activity akin to surfing. everything changes when an unknown object crashes through renton's garage, discovered to be a light finding operationa robot capable of riding the trapar wavesspecifically known as the nirvash typezero. its pilot is a young girl named eureka, a member of the gekkostate, who requests a tuneup for the nirvash. their meeting sparks the beginning of renton's involvement with the gekkostate as he takes off alongside eureka as the copilot of the nirvash.</td>\n",
       "      <td id=\"T_01363_row5_col4\" class=\"data row5 col4\" >0.295379</td>\n",
       "    </tr>\n",
       "    <tr>\n",
       "      <th id=\"T_01363_level0_row6\" class=\"row_heading level0 row6\" >6</th>\n",
       "      <td id=\"T_01363_row6_col0\" class=\"data row6 col0\" >anthropomorphic racing sports</td>\n",
       "      <td id=\"T_01363_row6_col1\" class=\"data row6 col1\" >Create an anime synopsis with 'Sports' and 'Anthropomorphic and Racing'.</td>\n",
       "      <td id=\"T_01363_row6_col2\" class=\"data row6 col2\" >receives a sudden girl named and a new three school who soon as the however, one student is in the picturesque crush is a new to protect the future this mashiro which is a and dominance of one day called who and the help of his dream and and the and but a is more of this</td>\n",
       "      <td id=\"T_01363_row6_col3\" class=\"data row6 col3\" >within the horseracing world, the horse girls of team spica have been gaining popularity as they continue to rack up victories. the one receiving the most attention in the group is toukai teiou, known for her cheerful personality and exceptional running skills. teiou aims to become an undefeated triple crown horse girl by winning all three g1 races consecutively, a feat that has not been accomplished since the legendary symbolic rudolf managed to do so many years ago. on her path to obtaining the triple crown, teiou is met with many challenges, encountering both old and new rivals. amidst her fierce rivalries, however, teiou is soon confronted with decisions that will leave a huge impact on her very own racing career.</td>\n",
       "      <td id=\"T_01363_row6_col4\" class=\"data row6 col4\" >0.078157</td>\n",
       "    </tr>\n",
       "    <tr>\n",
       "      <th id=\"T_01363_level0_row7\" class=\"row_heading level0 row7\" >7</th>\n",
       "      <td id=\"T_01363_row7_col0\" class=\"data row7 col0\" >mecha space</td>\n",
       "      <td id=\"T_01363_row7_col1\" class=\"data row7 col1\" >Write an anime synopsis based on the 'Mecha and Space'.</td>\n",
       "      <td id=\"T_01363_row7_col2\" class=\"data row7 col2\" >a space</td>\n",
       "      <td id=\"T_01363_row7_col3\" class=\"data row7 col3\" >when one space colony declared its independence from the earth federation, the devastating 7th space war, an allout war between earth and space, resulted. the federation responded to the space revolutionary army with mobile suits, called gundams. however, the space revolutionary forces played their trump card and dropped hundreds of space colonies onto the earth, plunging the planet into a sevenyearlong nuclear winter. the federation collapsed, but the space revolutionary army was unable to invade the earth in the aftermath of the colony drop. fifteen years have passed. the year is now after war 0015, and a new federation has sprung up on earth to restore order. in space, the colonial leaders have been rebuilding their own forces as well. by chance, fifteenyearold garrod ran has discovered an old federation mobile suit, the gundam x, and now he uses it to help out the vulture ship freeden in its struggle to keep the powers that be from repeating the mistakes of the past.</td>\n",
       "      <td id=\"T_01363_row7_col4\" class=\"data row7 col4\" >0.638044</td>\n",
       "    </tr>\n",
       "    <tr>\n",
       "      <th id=\"T_01363_level0_row8\" class=\"row_heading level0 row8\" >8</th>\n",
       "      <td id=\"T_01363_row8_col0\" class=\"data row8 col0\" >slice of life</td>\n",
       "      <td id=\"T_01363_row8_col1\" class=\"data row8 col1\" >Write a 'Slice Of Life' anime synopsis inspired by 'Welcome, Chitose'.</td>\n",
       "      <td id=\"T_01363_row8_col2\" class=\"data row8 col2\" >no movie and the and the story of and the kingdom of the potential are the of the of the to save the of after a the of and one of</td>\n",
       "      <td id=\"T_01363_row8_col3\" class=\"data row8 col3\" >chitosechan is a penguin who lives in kyoto. getting in touch with people and getting fed delicious food as she curiously walks around kyoto streets is her favourite thing to do. the story features popular places in kyoto like kiyomizu temple, ginkaku temple, and gion from the penguin's point of view. this is a short story about a penguin that is nostalgic and warm, curing and relieving the heart.</td>\n",
       "      <td id=\"T_01363_row8_col4\" class=\"data row8 col4\" >0.207445</td>\n",
       "    </tr>\n",
       "    <tr>\n",
       "      <th id=\"T_01363_level0_row9\" class=\"row_heading level0 row9\" >9</th>\n",
       "      <td id=\"T_01363_row9_col0\" class=\"data row9 col0\" >adventure mystery slice of life supernatural</td>\n",
       "      <td id=\"T_01363_row9_col1\" class=\"data row9 col1\" >Write an anime synopsis that matches 'Adventure, Mystery, Slice Of Life and Supernatural'.</td>\n",
       "      <td id=\"T_01363_row9_col2\" class=\"data row9 col2\" >a series of the love of the</td>\n",
       "      <td id=\"T_01363_row9_col3\" class=\"data row9 col3\" >ghostly, primordial beings known as mushi continue to cause mysterious changes in the lives of humans. the travelling mushishi, ginko, persists in trying to set right the strange and unsettling situations he encounters. time loops, living shadows, and telepathy are among the overt effects of interference from mushi, but more subtle symptoms that take years to be noticed also rouse ginko's concern as he passes from village to village. through circumstance, ginko has become an arbiter, determining which mushi are blessings and which are curses. but the lines that he seeks to draw are subjective. some of his patients would rather exercise their new powers until they are utterly consumed by them; others desperately strive to rid themselves of afflictions which are in fact protecting their lives from devastation. those who cross paths with mushi must learn to accept seemingly impossible consequences for their actions, and heal wounds they did not know they had. otherwise, they risk meeting with fates beyond their comprehension.</td>\n",
       "      <td id=\"T_01363_row9_col4\" class=\"data row9 col4\" >0.354273</td>\n",
       "    </tr>\n",
       "  </tbody>\n",
       "</table>\n"
      ],
      "text/plain": [
       "<pandas.io.formats.style.Styler at 0x7e4b36bcd550>"
      ]
     },
     "execution_count": 78,
     "metadata": {},
     "output_type": "execute_result"
    }
   ],
   "source": [
    "# shows full text in cells\n",
    "pd.set_option('display.max_colwidth', None)\n",
    "\n",
    "# displays a table nicely\n",
    "df_results.head(10).style.set_properties(**{\n",
    "    'text-align': 'left',\n",
    "    'white-space': 'pre-wrap'\n",
    "}).set_table_styles([{\n",
    "    'selector': 'th',\n",
    "    'props': [('text-align', 'left')]\n",
    "}])\n"
   ]
  },
  {
   "cell_type": "markdown",
   "id": "dANx9YvKyUmB",
   "metadata": {
    "id": "dANx9YvKyUmB"
   },
   "source": [
    "### Visualizing Tags vs Output Embeddings Scatter Plot Using UMAP"
   ]
  },
  {
   "cell_type": "code",
   "execution_count": null,
   "id": "uKViAtr0FNRQ",
   "metadata": {
    "id": "uKViAtr0FNRQ"
   },
   "outputs": [],
   "source": [
    "embedding_model = SentenceTransformer(\"all-MiniLM-L6-v2\")"
   ]
  },
  {
   "cell_type": "code",
   "execution_count": null,
   "id": "pOpeyo-pQism",
   "metadata": {
    "colab": {
     "base_uri": "https://localhost:8080/",
     "height": 696
    },
    "executionInfo": {
     "elapsed": 854,
     "status": "ok",
     "timestamp": 1749949128877,
     "user": {
      "displayName": "Yukiko Rivera",
      "userId": "02699279760362859349"
     },
     "user_tz": 420
    },
    "id": "pOpeyo-pQism",
    "outputId": "f7ec9507-5e06-41c2-ba1b-a51703cc81be"
   },
   "outputs": [
    {
     "name": "stderr",
     "output_type": "stream",
     "text": [
      "/usr/local/lib/python3.11/dist-packages/sklearn/utils/deprecation.py:151: FutureWarning: 'force_all_finite' was renamed to 'ensure_all_finite' in 1.6 and will be removed in 1.8.\n",
      "  warnings.warn(\n",
      "/usr/local/lib/python3.11/dist-packages/umap/umap_.py:1952: UserWarning: n_jobs value 1 overridden to 1 by setting random_state. Use no seed for parallelism.\n",
      "  warn(\n"
     ]
    },
    {
     "data": {
      "image/png": "[encoded data removed]",
      "text/plain": [
       "<Figure size 1000x600 with 1 Axes>"
      ]
     },
     "metadata": {},
     "output_type": "display_data"
    }
   ],
   "source": [
    "# extracts the tags and generated synopsis from the results list\n",
    "tags_to_match = [row[\"tags_combined\"] for row in results]\n",
    "generated_outputs = [row[\"generated\"] for row in results]\n",
    "\n",
    "# converts each prompt and generated output into a high-dim vector\n",
    "tags_embeddings = embedding_model.encode(tags_to_match)\n",
    "output_embeddings = embedding_model.encode(generated_outputs)\n",
    "\n",
    "# combines both embeddings into a single array\n",
    "all_embeddings = np.vstack([tags_embeddings, output_embeddings])\n",
    "\n",
    "# reduces the dimension for visualization\n",
    "reducer = umap.UMAP(n_components=2, random_state=42)\n",
    "umap_embeddings = reducer.fit_transform(all_embeddings)\n",
    "\n",
    "# splits embeddings into the tags and the output\n",
    "n = len(tags_to_match)\n",
    "umap_tags = umap_embeddings[:n]\n",
    "umap_outputs = umap_embeddings[n:]\n",
    "\n",
    "# plots a scatterplot\n",
    "plt.figure(figsize=(10, 6))\n",
    "plt.scatter(umap_tags[:, 0], umap_tags[:, 1], label=\"Genres/Themes/Demographics\", alpha=0.7, s=80)\n",
    "plt.scatter(umap_outputs[:, 0], umap_outputs[:, 1], label=\"RNN Outputs\", alpha=0.7, s=80)\n",
    "\n",
    "# draws light gray lines to show the differences between the tag vs output\n",
    "for i in range(n):\n",
    "    plt.plot([umap_tags[i, 0], umap_outputs[i, 0]],\n",
    "             [umap_tags[i, 1], umap_outputs[i, 1]],\n",
    "             c='gray', linewidth=0.7)\n",
    "\n",
    "plt.title(\"Genres/Themes/Demographics vs RNN Output Embedding Projection (UMAP)\")\n",
    "plt.xlabel(\"UMAP Dimension 1\", fontsize=12)\n",
    "plt.ylabel(\"UMAP Dimension 2\", fontsize=12)\n",
    "plt.legend(fontsize=10)\n",
    "plt.grid(True, which='both', linestyle='--', linewidth=0.5)\n",
    "plt.savefig(\n",
    "    'scatter_plot_rnn.png',\n",
    "    dpi=300,\n",
    "    bbox_inches='tight' \n",
    ")\n",
    "plt.tight_layout()\n",
    "plt.show()"
   ]
  }
 ],
 "metadata": {
  "colab": {
   "machine_shape": "hm",
   "provenance": []
  },
  "kernelspec": {
   "display_name": "Python 3",
   "name": "python3"
  },
  "language_info": {
   "codemirror_mode": {
    "name": "ipython",
    "version": 3
   },
   "file_extension": ".py",
   "mimetype": "text/x-python",
   "name": "python",
   "nbconvert_exporter": "python",
   "pygments_lexer": "ipython3",
   "version": "3.11.11"
  }
 },
 "nbformat": 4,
 "nbformat_minor": 5
}
