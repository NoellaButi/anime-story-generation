{
 "cells": [
  {
   "cell_type": "markdown",
   "metadata": {
    "id": "qxJ5OOEAzB3G"
   },
   "source": [
    "<div style=\"text-align: center; margin: 20px; background: linear-gradient(to right, #ff007f, #ff66b2); border-radius: 10px; padding: 30px;\">\n",
    "  <h1 style=\"color: white; font-family: 'Arial', sans-serif; font-size: 3em; text-shadow: 2px 2px 4px rgba(0, 0, 0, 0.2);\">\n",
    "    CS495 Notebook: Final Capstone – Anime Synopsis Generation\n",
    "  </h1>\n",
    "  <h2 style=\"color: #fff0f5; font-family: 'Arial', sans-serif; font-size: 2em; font-style: italic;\">\n",
    "    A Comparative Evaluation of Text Generation Models\n",
    "  </h2>\n",
    "  \n",
    "  <hr style=\"border: 2px solid #ffffff; margin: 20px auto; width: 70%; border-radius: 5px;\" />\n",
    "  \n",
    "  <p style=\"font-family: 'Arial', sans-serif; color: white; font-size: 1.2em;\">\n",
    "      <strong>Author:</strong> <span style=\"color: #ffccff;\">Noëlla Buti</span><br />\n",
    "      <strong>Term:</strong> <span style=\"color: #ffccff;\">Spring 2025</span><br />\n",
    "      <strong>Model Used:</strong> <span style=\"color: #ffccff;\">T5-Small (Fine-Tuned)</span><br />\n",
    "      <strong>Contact:</strong> <a href=\"mailto:noella.buti@bellevuecollege.edu\" style=\"color: #ffccff; text-decoration: none;\">noella.buti@bellevuecollege.edu</a><br />\n",
    "  </p>\n",
    "</div>"
   ]
  },
  {
   "cell_type": "code",
   "execution_count": 1,
   "metadata": {
    "colab": {
     "base_uri": "https://localhost:8080/"
    },
    "executionInfo": {
     "elapsed": 8875,
     "status": "ok",
     "timestamp": 1750722758187,
     "user": {
      "displayName": "Noella Buti",
      "userId": "06118441993782992948"
     },
     "user_tz": 420
    },
    "id": "AUrXAo4h-8W7",
    "outputId": "fde32ad6-db9d-4c8a-a6d1-d6f8c896cee6"
   },
   "outputs": [
    {
     "name": "stdout",
     "output_type": "stream",
     "text": [
      "Drive already mounted at /content/drive; to attempt to forcibly remount, call drive.mount(\"/content/drive\", force_remount=True).\n",
      "/content/drive/My Drive/CS 495 DataScience Capstone Project\n"
     ]
    }
   ],
   "source": [
    "from google.colab import drive\n",
    "drive.mount('/content/drive')\n",
    "%cd /content/drive/My Drive/CS 495 DataScience Capstone Project/"
   ]
  },
  {
   "cell_type": "code",
   "execution_count": 2,
   "metadata": {
    "colab": {
     "base_uri": "https://localhost:8080/"
    },
    "executionInfo": {
     "elapsed": 72133,
     "status": "ok",
     "timestamp": 1750723079804,
     "user": {
      "displayName": "Noella Buti",
      "userId": "06118441993782992948"
     },
     "user_tz": 420
    },
    "id": "SqJ-FGk-OKhq",
    "outputId": "2e29d22f-037b-45ed-bcd8-b91c735ba9d0"
   },
   "outputs": [
    {
     "name": "stdout",
     "output_type": "stream",
     "text": [
      "\u001b[2K   \u001b[90m━━━━━━━━━━━━━━━━━━━━━━━━━━━━━━━━━━━━━━━━\u001b[0m \u001b[32m84.1/84.1 kB\u001b[0m \u001b[31m2.5 MB/s\u001b[0m eta \u001b[36m0:00:00\u001b[0m\n",
      "\u001b[2K   \u001b[90m━━━━━━━━━━━━━━━━━━━━━━━━━━━━━━━━━━━━━━━━\u001b[0m \u001b[32m363.4/363.4 MB\u001b[0m \u001b[31m3.0 MB/s\u001b[0m eta \u001b[36m0:00:00\u001b[0m\n",
      "\u001b[2K   \u001b[90m━━━━━━━━━━━━━━━━━━━━━━━━━━━━━━━━━━━━━━━━\u001b[0m \u001b[32m13.8/13.8 MB\u001b[0m \u001b[31m123.8 MB/s\u001b[0m eta \u001b[36m0:00:00\u001b[0m\n",
      "\u001b[2K   \u001b[90m━━━━━━━━━━━━━━━━━━━━━━━━━━━━━━━━━━━━━━━━\u001b[0m \u001b[32m24.6/24.6 MB\u001b[0m \u001b[31m100.0 MB/s\u001b[0m eta \u001b[36m0:00:00\u001b[0m\n",
      "\u001b[2K   \u001b[90m━━━━━━━━━━━━━━━━━━━━━━━━━━━━━━━━━━━━━━━━\u001b[0m \u001b[32m883.7/883.7 kB\u001b[0m \u001b[31m56.6 MB/s\u001b[0m eta \u001b[36m0:00:00\u001b[0m\n",
      "\u001b[2K   \u001b[90m━━━━━━━━━━━━━━━━━━━━━━━━━━━━━━━━━━━━━━━━\u001b[0m \u001b[32m664.8/664.8 MB\u001b[0m \u001b[31m1.7 MB/s\u001b[0m eta \u001b[36m0:00:00\u001b[0m\n",
      "\u001b[2K   \u001b[90m━━━━━━━━━━━━━━━━━━━━━━━━━━━━━━━━━━━━━━━━\u001b[0m \u001b[32m211.5/211.5 MB\u001b[0m \u001b[31m11.6 MB/s\u001b[0m eta \u001b[36m0:00:00\u001b[0m\n",
      "\u001b[2K   \u001b[90m━━━━━━━━━━━━━━━━━━━━━━━━━━━━━━━━━━━━━━━━\u001b[0m \u001b[32m56.3/56.3 MB\u001b[0m \u001b[31m42.7 MB/s\u001b[0m eta \u001b[36m0:00:00\u001b[0m\n",
      "\u001b[2K   \u001b[90m━━━━━━━━━━━━━━━━━━━━━━━━━━━━━━━━━━━━━━━━\u001b[0m \u001b[32m127.9/127.9 MB\u001b[0m \u001b[31m19.4 MB/s\u001b[0m eta \u001b[36m0:00:00\u001b[0m\n",
      "\u001b[2K   \u001b[90m━━━━━━━━━━━━━━━━━━━━━━━━━━━━━━━━━━━━━━━━\u001b[0m \u001b[32m207.5/207.5 MB\u001b[0m \u001b[31m3.6 MB/s\u001b[0m eta \u001b[36m0:00:00\u001b[0m\n",
      "\u001b[2K   \u001b[90m━━━━━━━━━━━━━━━━━━━━━━━━━━━━━━━━━━━━━━━━\u001b[0m \u001b[32m21.1/21.1 MB\u001b[0m \u001b[31m104.2 MB/s\u001b[0m eta \u001b[36m0:00:00\u001b[0m\n",
      "\u001b[?25h"
     ]
    }
   ],
   "source": [
    "# --- Install ---\n",
    "!pip install transformers datasets sentence-transformers umap-learn evaluate -q"
   ]
  },
  {
   "cell_type": "code",
   "execution_count": 4,
   "metadata": {
    "executionInfo": {
     "elapsed": 33013,
     "status": "ok",
     "timestamp": 1750723164683,
     "user": {
      "displayName": "Noella Buti",
      "userId": "06118441993782992948"
     },
     "user_tz": 420
    },
    "id": "UhYLvuqVOR47"
   },
   "outputs": [],
   "source": [
    "# --- Imports ---\n",
    "import os\n",
    "import math\n",
    "import pandas as pd\n",
    "import numpy as np\n",
    "import matplotlib.pyplot as plt\n",
    "import torch\n",
    "import umap.umap_ as umap\n",
    "from tqdm import tqdm\n",
    "from datasets import Dataset\n",
    "from transformers import (\n",
    "    T5Tokenizer,\n",
    "    T5ForConditionalGeneration,\n",
    "    TrainingArguments,\n",
    "    DataCollatorForSeq2Seq,\n",
    "    Seq2SeqTrainer,\n",
    "    logging\n",
    ")\n",
    "from sentence_transformers import SentenceTransformer\n",
    "from sklearn.metrics.pairwise import cosine_similarity\n",
    "\n",
    "os.environ[\"WANDB_DISABLED\"] = \"true\"\n",
    "logging.set_verbosity_info()"
   ]
  },
  {
   "cell_type": "code",
   "execution_count": 5,
   "metadata": {
    "executionInfo": {
     "elapsed": 5,
     "status": "ok",
     "timestamp": 1750723167491,
     "user": {
      "displayName": "Noella Buti",
      "userId": "06118441993782992948"
     },
     "user_tz": 420
    },
    "id": "4fZ8SjfoOYWc"
   },
   "outputs": [],
   "source": [
    "# --- Config ---\n",
    "model_name = \"t5-small\"\n",
    "max_input_len = 64\n",
    "max_target_len = 150"
   ]
  },
  {
   "cell_type": "code",
   "execution_count": 6,
   "metadata": {
    "executionInfo": {
     "elapsed": 1577,
     "status": "ok",
     "timestamp": 1750723171435,
     "user": {
      "displayName": "Noella Buti",
      "userId": "06118441993782992948"
     },
     "user_tz": 420
    },
    "id": "Sfq-fSD-Od9A"
   },
   "outputs": [],
   "source": [
    "# --- Load & Prepare Data ---\n",
    "train_df = pd.read_csv(\"prompt_synopsis_train.csv\")\n",
    "test_df_full = pd.read_csv(\"prompt_synopsis_test.csv\")\n",
    "\n",
    "train_df = train_df[[\"prompt\", \"synopsis\"]].dropna().reset_index(drop=True)\n",
    "test_df_full = test_df_full[[\"prompt\", \"synopsis\"]].dropna().reset_index(drop=True)\n",
    "train_df[\"input_text\"] = \"generate synopsis: \" + train_df[\"prompt\"]\n",
    "train_df[\"target_text\"] = train_df[\"synopsis\"]\n",
    "test_df_full[\"input_text\"] = \"generate synopsis: \" + test_df_full[\"prompt\"]\n",
    "test_df_full[\"target_text\"] = test_df_full[\"synopsis\"]\n",
    "\n",
    "train_dataset = Dataset.from_pandas(train_df[[\"input_text\", \"target_text\"]])\n",
    "test_dataset = Dataset.from_pandas(test_df_full[[\"input_text\", \"target_text\"]])"
   ]
  },
  {
   "cell_type": "code",
   "execution_count": 7,
   "metadata": {
    "colab": {
     "base_uri": "https://localhost:8080/",
     "height": 1000,
     "referenced_widgets": [
      "0695ae1a19ed43aea2be9b9da44ef59f",
      "170960ef64694e9380fe6ffcc4cfb3d8",
      "acedccd5ffc94baa9a07ed91cc0dfb19",
      "3b1b7f12d3c44a21ba223c0be3faa29a",
      "14bfd08248bb4d259667cf5ada8de56d",
      "2f4ce21c6b6441ad8f717bee81c89fae",
      "0cf95fc4accd4031ae4881cb3c03c9fb",
      "87e6dd42174145499ae9309a692dcedc",
      "4848536352e54f1e84eae8c9698a799b",
      "7c5f0f66ff0147e29315c3f3323da850",
      "d7fd3726ceec4bf986db2d02c32a9835",
      "85423ec6b026485994be58fcc21af76a",
      "e46b1bc18c8e484fba2ce635383f819c",
      "34b1672c29714ad78c220805ccf14ffa",
      "eb587ebb50fe4347a5f6432838c23f7b",
      "2b5c1f0842d64c1e8efff0203076374c",
      "eedffb4b289c440bb16e52c28e74aa2f",
      "d03065fb157243d69d062891fb422c96",
      "b285951550aa4eb194acaef9a49fe9fd",
      "3450b136d0724a828f3af695eecaa416",
      "8e49f36bc536461f9357ead786541683",
      "91090e25c64f4b8c9961ef845ef4c0cd",
      "b500b4e2a65048fda6813c35d6731623",
      "356a2f27a9eb46fcbd917cf046a80e5c",
      "57f9bc04dbf34d96b76ed2dc9fb210c9",
      "8e5f344b74184bad87fc0d91a1b8c56f",
      "457df0f3e483489d98a21e1c75d2731c",
      "3865bbc722db432d9fcad8e92585d643",
      "219b98578e964ee08222d427c95afaa3",
      "eeb681121922447eb725deaceb1713b2",
      "da669109678146f5b8720090299916f9",
      "03f3c038ad1e44438120c104fadb7346",
      "9a2d0b47eaca439e9861378f22ceb7bf",
      "afbba78e45e04313837e63e10efcc0c1",
      "63539c38cfbb42dc88f55bab987741c0",
      "8144e0e1b4eb445f82f3d6c7df1fd4ca",
      "72d78b852b344986b723d54510f80479",
      "f3317a3e88dc471c8513b336b8a2ffbf",
      "f9582780eff34d86af3bc2ba53ef5e4d",
      "8415d762e7a44707b5af4447efbcc4a4",
      "9f245ba235a944a3b6bcda00de8f2b1f",
      "aa03cf9b06474306a06cc74c3a61bd89",
      "2b5d6bf3a2574135ac4d79b20a6394a4",
      "9d70ddfedbd24f44be4f3c893b9589e8",
      "a2e14931d1a6444ca3e2c86dfcd9b4e2",
      "770da0f4c4e944e28f6c7a7bf127be44",
      "126b93d18c3843e4975ab8f1c9edeeb1",
      "00314ede0c5e4481a521c2eb24553976",
      "85f4f776fcc64469a854c5e5f85f86a9",
      "7ce28ea9577c4cf8abdbe7ac6456a0a0",
      "95b1ef82754f423f8800fec93c440d2b",
      "38381fa35b9845ef8d5199fc4cf069df",
      "b97befffdc9c4733871e5ee2621fe58d",
      "7a3bac30e5d4407fb9b27303ea9feffc",
      "7e0c7c5999e54b3bbb12608bb61e03ca",
      "d42dca08afe048d2825cecd4061b6de3",
      "411dab9b8cb843198b046cf24d00f113",
      "69edce1544c14bc2ba1bb019fab2e83a",
      "4a786b8b7c6b448e859dd3328e5c9ebd",
      "c5c3cd9b6e9145728ac413b98ff4fc0b",
      "41e3d43309c546f0979817b20d2a479b",
      "79355d6e7eeb443f84ef1da29bc027b7",
      "b2158c0d155f4d9eb0a2832b8cd85726",
      "32e754fb5c0f4ad3be03a40869ebec55",
      "49fb2648f22342e1a38c8256ec1e8876",
      "1b0d9748f2924cc4b070ff033970fa88",
      "83c8547e3a134944b2e6d3605fa53cfd",
      "cd03dc581ff54615bef2666019b4d852",
      "dd01381bd43941ee88038f1b2e7acf25",
      "f1a671ec23104ef386a041f048fd5aa0",
      "393d0705db154932a00eb7a00687095e",
      "836b6a8fa8264d6aa9daab9fb7241a09",
      "da86de3e45384040bfd9ad960b07755d",
      "0b8abe6a7caf40088feb24ada1615431",
      "06d4f83d01fc4861bb1f54cce1f79489",
      "15dbfac17b6c4b94ad32e8fba73745bd",
      "0aa32588f4444fa5b973cbddc2e374e6",
      "b14cb7a208cc4095b43cdff58dad2db5",
      "4f5275cb3f4142adb88f023bec8df261",
      "cf8badc8cf374dd59145586f626ffb23",
      "291a62dd75614847bb4a82ae30547d0a",
      "790d971d5a0b429f92f2ff9e73073873",
      "eb1d11108f8b457484035511311dd0f7",
      "a4828b328cea4b02993f7b154c832b47",
      "2aef9d83f2f740d3a135f14264a1f1a2",
      "6b29762d95ee496a942b904801ae7fc0",
      "57042ef93265481487bb3c100cec38c9",
      "6f1b3e019b8848d8b83b3914fcc98b8b"
     ]
    },
    "executionInfo": {
     "elapsed": 52120,
     "status": "ok",
     "timestamp": 1750723250275,
     "user": {
      "displayName": "Noella Buti",
      "userId": "06118441993782992948"
     },
     "user_tz": 420
    },
    "id": "UfJELaMlOhJQ",
    "outputId": "823b856b-1f41-4333-95eb-05f70bdd0a58"
   },
   "outputs": [
    {
     "name": "stderr",
     "output_type": "stream",
     "text": [
      "/usr/local/lib/python3.11/dist-packages/huggingface_hub/utils/_auth.py:94: UserWarning: \n",
      "The secret `HF_TOKEN` does not exist in your Colab secrets.\n",
      "To authenticate with the Hugging Face Hub, create a token in your settings tab (https://huggingface.co/settings/tokens), set it as secret in your Google Colab and restart your session.\n",
      "You will be able to reuse this secret in all of your notebooks.\n",
      "Please note that authentication is recommended but still optional to access public models or datasets.\n",
      "  warnings.warn(\n"
     ]
    },
    {
     "data": {
      "application/vnd.jupyter.widget-view+json": {
       "model_id": "0695ae1a19ed43aea2be9b9da44ef59f",
       "version_major": 2,
       "version_minor": 0
      },
      "text/plain": [
       "tokenizer_config.json:   0%|          | 0.00/2.32k [00:00<?, ?B/s]"
      ]
     },
     "metadata": {},
     "output_type": "display_data"
    },
    {
     "data": {
      "application/vnd.jupyter.widget-view+json": {
       "model_id": "85423ec6b026485994be58fcc21af76a",
       "version_major": 2,
       "version_minor": 0
      },
      "text/plain": [
       "spiece.model:   0%|          | 0.00/792k [00:00<?, ?B/s]"
      ]
     },
     "metadata": {},
     "output_type": "display_data"
    },
    {
     "data": {
      "application/vnd.jupyter.widget-view+json": {
       "model_id": "b500b4e2a65048fda6813c35d6731623",
       "version_major": 2,
       "version_minor": 0
      },
      "text/plain": [
       "tokenizer.json:   0%|          | 0.00/1.39M [00:00<?, ?B/s]"
      ]
     },
     "metadata": {},
     "output_type": "display_data"
    },
    {
     "name": "stderr",
     "output_type": "stream",
     "text": [
      "loading file spiece.model from cache at /root/.cache/huggingface/hub/models--t5-small/snapshots/df1b051c49625cf57a3d0d8d3863ed4d13564fe4/spiece.model\n",
      "loading file added_tokens.json from cache at None\n",
      "loading file special_tokens_map.json from cache at None\n",
      "loading file tokenizer_config.json from cache at /root/.cache/huggingface/hub/models--t5-small/snapshots/df1b051c49625cf57a3d0d8d3863ed4d13564fe4/tokenizer_config.json\n",
      "loading file tokenizer.json from cache at /root/.cache/huggingface/hub/models--t5-small/snapshots/df1b051c49625cf57a3d0d8d3863ed4d13564fe4/tokenizer.json\n",
      "loading file chat_template.jinja from cache at None\n",
      "You are using the default legacy behaviour of the <class 'transformers.models.t5.tokenization_t5.T5Tokenizer'>. This is expected, and simply means that the `legacy` (previous) behavior will be used so nothing changes for you. If you want to use the new behaviour, set `legacy=False`. This should only be set if you understand what it means, and thoroughly read the reason why this was added as explained in https://github.com/huggingface/transformers/pull/24565\n",
      "Special tokens have been added in the vocabulary, make sure the associated word embeddings are fine-tuned or trained.\n"
     ]
    },
    {
     "data": {
      "application/vnd.jupyter.widget-view+json": {
       "model_id": "afbba78e45e04313837e63e10efcc0c1",
       "version_major": 2,
       "version_minor": 0
      },
      "text/plain": [
       "config.json:   0%|          | 0.00/1.21k [00:00<?, ?B/s]"
      ]
     },
     "metadata": {},
     "output_type": "display_data"
    },
    {
     "name": "stderr",
     "output_type": "stream",
     "text": [
      "loading configuration file config.json from cache at /root/.cache/huggingface/hub/models--t5-small/snapshots/df1b051c49625cf57a3d0d8d3863ed4d13564fe4/config.json\n",
      "Model config T5Config {\n",
      "  \"architectures\": [\n",
      "    \"T5ForConditionalGeneration\"\n",
      "  ],\n",
      "  \"classifier_dropout\": 0.0,\n",
      "  \"d_ff\": 2048,\n",
      "  \"d_kv\": 64,\n",
      "  \"d_model\": 512,\n",
      "  \"decoder_start_token_id\": 0,\n",
      "  \"dense_act_fn\": \"relu\",\n",
      "  \"dropout_rate\": 0.1,\n",
      "  \"eos_token_id\": 1,\n",
      "  \"feed_forward_proj\": \"relu\",\n",
      "  \"initializer_factor\": 1.0,\n",
      "  \"is_encoder_decoder\": true,\n",
      "  \"is_gated_act\": false,\n",
      "  \"layer_norm_epsilon\": 1e-06,\n",
      "  \"model_type\": \"t5\",\n",
      "  \"n_positions\": 512,\n",
      "  \"num_decoder_layers\": 6,\n",
      "  \"num_heads\": 8,\n",
      "  \"num_layers\": 6,\n",
      "  \"output_past\": true,\n",
      "  \"pad_token_id\": 0,\n",
      "  \"relative_attention_max_distance\": 128,\n",
      "  \"relative_attention_num_buckets\": 32,\n",
      "  \"task_specific_params\": {\n",
      "    \"summarization\": {\n",
      "      \"early_stopping\": true,\n",
      "      \"length_penalty\": 2.0,\n",
      "      \"max_length\": 200,\n",
      "      \"min_length\": 30,\n",
      "      \"no_repeat_ngram_size\": 3,\n",
      "      \"num_beams\": 4,\n",
      "      \"prefix\": \"summarize: \"\n",
      "    },\n",
      "    \"translation_en_to_de\": {\n",
      "      \"early_stopping\": true,\n",
      "      \"max_length\": 300,\n",
      "      \"num_beams\": 4,\n",
      "      \"prefix\": \"translate English to German: \"\n",
      "    },\n",
      "    \"translation_en_to_fr\": {\n",
      "      \"early_stopping\": true,\n",
      "      \"max_length\": 300,\n",
      "      \"num_beams\": 4,\n",
      "      \"prefix\": \"translate English to French: \"\n",
      "    },\n",
      "    \"translation_en_to_ro\": {\n",
      "      \"early_stopping\": true,\n",
      "      \"max_length\": 300,\n",
      "      \"num_beams\": 4,\n",
      "      \"prefix\": \"translate English to Romanian: \"\n",
      "    }\n",
      "  },\n",
      "  \"transformers_version\": \"4.52.4\",\n",
      "  \"use_cache\": true,\n",
      "  \"vocab_size\": 32128\n",
      "}\n",
      "\n"
     ]
    },
    {
     "data": {
      "application/vnd.jupyter.widget-view+json": {
       "model_id": "a2e14931d1a6444ca3e2c86dfcd9b4e2",
       "version_major": 2,
       "version_minor": 0
      },
      "text/plain": [
       "model.safetensors:   0%|          | 0.00/242M [00:00<?, ?B/s]"
      ]
     },
     "metadata": {},
     "output_type": "display_data"
    },
    {
     "name": "stderr",
     "output_type": "stream",
     "text": [
      "loading weights file model.safetensors from cache at /root/.cache/huggingface/hub/models--t5-small/snapshots/df1b051c49625cf57a3d0d8d3863ed4d13564fe4/model.safetensors\n",
      "Generate config GenerationConfig {\n",
      "  \"decoder_start_token_id\": 0,\n",
      "  \"eos_token_id\": 1,\n",
      "  \"pad_token_id\": 0\n",
      "}\n",
      "\n",
      "All model checkpoint weights were used when initializing T5ForConditionalGeneration.\n",
      "\n",
      "All the weights of T5ForConditionalGeneration were initialized from the model checkpoint at t5-small.\n",
      "If your task is similar to the task the model of the checkpoint was trained on, you can already use T5ForConditionalGeneration for predictions without further training.\n"
     ]
    },
    {
     "data": {
      "application/vnd.jupyter.widget-view+json": {
       "model_id": "d42dca08afe048d2825cecd4061b6de3",
       "version_major": 2,
       "version_minor": 0
      },
      "text/plain": [
       "generation_config.json:   0%|          | 0.00/147 [00:00<?, ?B/s]"
      ]
     },
     "metadata": {},
     "output_type": "display_data"
    },
    {
     "name": "stderr",
     "output_type": "stream",
     "text": [
      "loading configuration file generation_config.json from cache at /root/.cache/huggingface/hub/models--t5-small/snapshots/df1b051c49625cf57a3d0d8d3863ed4d13564fe4/generation_config.json\n",
      "Generate config GenerationConfig {\n",
      "  \"decoder_start_token_id\": 0,\n",
      "  \"eos_token_id\": 1,\n",
      "  \"pad_token_id\": 0\n",
      "}\n",
      "\n"
     ]
    },
    {
     "data": {
      "application/vnd.jupyter.widget-view+json": {
       "model_id": "83c8547e3a134944b2e6d3605fa53cfd",
       "version_major": 2,
       "version_minor": 0
      },
      "text/plain": [
       "Map:   0%|          | 0/60260 [00:00<?, ? examples/s]"
      ]
     },
     "metadata": {},
     "output_type": "display_data"
    },
    {
     "data": {
      "application/vnd.jupyter.widget-view+json": {
       "model_id": "b14cb7a208cc4095b43cdff58dad2db5",
       "version_major": 2,
       "version_minor": 0
      },
      "text/plain": [
       "Map:   0%|          | 0/10620 [00:00<?, ? examples/s]"
      ]
     },
     "metadata": {},
     "output_type": "display_data"
    }
   ],
   "source": [
    "# --- Tokenization ---\n",
    "tokenizer = T5Tokenizer.from_pretrained(model_name)\n",
    "model = T5ForConditionalGeneration.from_pretrained(model_name)\n",
    "\n",
    "def tokenize(batch):\n",
    "    inputs = tokenizer(batch[\"input_text\"], padding=\"max_length\", truncation=True, max_length=max_input_len)\n",
    "    targets = tokenizer(batch[\"target_text\"], padding=\"max_length\", truncation=True, max_length=max_target_len)\n",
    "    inputs[\"labels\"] = targets[\"input_ids\"]\n",
    "    return inputs\n",
    "\n",
    "tokenized_train = train_dataset.map(tokenize, batched=True)\n",
    "tokenized_test = test_dataset.map(tokenize, batched=True)\n",
    "data_collator = DataCollatorForSeq2Seq(tokenizer=tokenizer, model=model)"
   ]
  },
  {
   "cell_type": "code",
   "execution_count": 11,
   "metadata": {
    "colab": {
     "base_uri": "https://localhost:8080/"
    },
    "executionInfo": {
     "elapsed": 45,
     "status": "ok",
     "timestamp": 1750723467145,
     "user": {
      "displayName": "Noella Buti",
      "userId": "06118441993782992948"
     },
     "user_tz": 420
    },
    "id": "ms_7OQ1gOw27",
    "outputId": "147926ae-d4bb-4b21-f728-488381d5a48e"
   },
   "outputs": [
    {
     "name": "stderr",
     "output_type": "stream",
     "text": [
      "PyTorch: setting up devices\n"
     ]
    }
   ],
   "source": [
    "# --- Training ---\n",
    "training_args = TrainingArguments(\n",
    "    output_dir=\"/content/drive/My Drive/CS 495 DataScience Capstone Project/t5_anime_model\",\n",
    "    eval_strategy=\"epoch\",\n",
    "    learning_rate=5e-5,\n",
    "    per_device_train_batch_size=64,\n",
    "    per_device_eval_batch_size=64,\n",
    "    num_train_epochs=10,\n",
    "    weight_decay=0.01,\n",
    "    save_total_limit=2,\n",
    "    save_strategy=\"epoch\",\n",
    "    load_best_model_at_end=True,\n",
    "    logging_dir=\"/content/drive/My Drive/CS 495 DataScience Capstone Project/logs\",\n",
    "    logging_steps=100,\n",
    "    report_to=\"none\"\n",
    ")\n",
    "\n",
    "training_args.generation_max_length = 150\n",
    "training_args.generation_num_beams = 4\n",
    "training_args.predict_with_generate = True\n",
    "training_args.generation_config = None"
   ]
  },
  {
   "cell_type": "code",
   "execution_count": 12,
   "metadata": {
    "colab": {
     "base_uri": "https://localhost:8080/",
     "height": 1000
    },
    "executionInfo": {
     "elapsed": 2415686,
     "status": "ok",
     "timestamp": 1750725885106,
     "user": {
      "displayName": "Noella Buti",
      "userId": "06118441993782992948"
     },
     "user_tz": 420
    },
    "id": "xOZG4djyO041",
    "outputId": "515925c2-c835-406f-cf39-e6f171f90de3"
   },
   "outputs": [
    {
     "name": "stderr",
     "output_type": "stream",
     "text": [
      "/tmp/ipython-input-12-63289149.py:1: FutureWarning: `tokenizer` is deprecated and will be removed in version 5.0.0 for `Seq2SeqTrainer.__init__`. Use `processing_class` instead.\n",
      "  trainer = Seq2SeqTrainer(\n",
      "The following columns in the Training set don't have a corresponding argument in `T5ForConditionalGeneration.forward` and have been ignored: input_text, target_text. If input_text, target_text are not expected by `T5ForConditionalGeneration.forward`,  you can safely ignore this message.\n",
      "***** Running training *****\n",
      "  Num examples = 60,260\n",
      "  Num Epochs = 10\n",
      "  Instantaneous batch size per device = 64\n",
      "  Total train batch size (w. parallel, distributed & accumulation) = 64\n",
      "  Gradient Accumulation steps = 1\n",
      "  Total optimization steps = 9,420\n",
      "  Number of trainable parameters = 60,506,624\n",
      "Passing a tuple of `past_key_values` is deprecated and will be removed in Transformers v4.48.0. You should pass an instance of `EncoderDecoderCache` instead, e.g. `past_key_values=EncoderDecoderCache.from_legacy_cache(past_key_values)`.\n"
     ]
    },
    {
     "data": {
      "text/html": [
       "\n",
       "    <div>\n",
       "      \n",
       "      <progress value='9420' max='9420' style='width:300px; height:20px; vertical-align: middle;'></progress>\n",
       "      [9420/9420 40:13, Epoch 10/10]\n",
       "    </div>\n",
       "    <table border=\"1\" class=\"dataframe\">\n",
       "  <thead>\n",
       " <tr style=\"text-align: left;\">\n",
       "      <th>Epoch</th>\n",
       "      <th>Training Loss</th>\n",
       "      <th>Validation Loss</th>\n",
       "    </tr>\n",
       "  </thead>\n",
       "  <tbody>\n",
       "    <tr>\n",
       "      <td>1</td>\n",
       "      <td>2.889100</td>\n",
       "      <td>2.681830</td>\n",
       "    </tr>\n",
       "    <tr>\n",
       "      <td>2</td>\n",
       "      <td>2.808000</td>\n",
       "      <td>2.623364</td>\n",
       "    </tr>\n",
       "    <tr>\n",
       "      <td>3</td>\n",
       "      <td>2.742500</td>\n",
       "      <td>2.592033</td>\n",
       "    </tr>\n",
       "    <tr>\n",
       "      <td>4</td>\n",
       "      <td>2.739700</td>\n",
       "      <td>2.570870</td>\n",
       "    </tr>\n",
       "    <tr>\n",
       "      <td>5</td>\n",
       "      <td>2.697400</td>\n",
       "      <td>2.556279</td>\n",
       "    </tr>\n",
       "    <tr>\n",
       "      <td>6</td>\n",
       "      <td>2.671200</td>\n",
       "      <td>2.545763</td>\n",
       "    </tr>\n",
       "    <tr>\n",
       "      <td>7</td>\n",
       "      <td>2.646800</td>\n",
       "      <td>2.538926</td>\n",
       "    </tr>\n",
       "    <tr>\n",
       "      <td>8</td>\n",
       "      <td>2.626400</td>\n",
       "      <td>2.534079</td>\n",
       "    </tr>\n",
       "    <tr>\n",
       "      <td>9</td>\n",
       "      <td>2.658300</td>\n",
       "      <td>2.531205</td>\n",
       "    </tr>\n",
       "    <tr>\n",
       "      <td>10</td>\n",
       "      <td>2.603000</td>\n",
       "      <td>2.530646</td>\n",
       "    </tr>\n",
       "  </tbody>\n",
       "</table><p>"
      ],
      "text/plain": [
       "<IPython.core.display.HTML object>"
      ]
     },
     "metadata": {},
     "output_type": "display_data"
    },
    {
     "name": "stderr",
     "output_type": "stream",
     "text": [
      "The following columns in the Evaluation set don't have a corresponding argument in `T5ForConditionalGeneration.forward` and have been ignored: input_text, target_text. If input_text, target_text are not expected by `T5ForConditionalGeneration.forward`,  you can safely ignore this message.\n",
      "\n",
      "***** Running Evaluation *****\n",
      "  Num examples = 10620\n",
      "  Batch size = 64\n",
      "Saving model checkpoint to /content/drive/My Drive/CS 495 DataScience Capstone Project/t5_anime_model/checkpoint-942\n",
      "Configuration saved in /content/drive/My Drive/CS 495 DataScience Capstone Project/t5_anime_model/checkpoint-942/config.json\n",
      "Configuration saved in /content/drive/My Drive/CS 495 DataScience Capstone Project/t5_anime_model/checkpoint-942/generation_config.json\n",
      "Model weights saved in /content/drive/My Drive/CS 495 DataScience Capstone Project/t5_anime_model/checkpoint-942/model.safetensors\n",
      "tokenizer config file saved in /content/drive/My Drive/CS 495 DataScience Capstone Project/t5_anime_model/checkpoint-942/tokenizer_config.json\n",
      "Special tokens file saved in /content/drive/My Drive/CS 495 DataScience Capstone Project/t5_anime_model/checkpoint-942/special_tokens_map.json\n",
      "added tokens file saved in /content/drive/My Drive/CS 495 DataScience Capstone Project/t5_anime_model/checkpoint-942/added_tokens.json\n",
      "The following columns in the Evaluation set don't have a corresponding argument in `T5ForConditionalGeneration.forward` and have been ignored: input_text, target_text. If input_text, target_text are not expected by `T5ForConditionalGeneration.forward`,  you can safely ignore this message.\n",
      "\n",
      "***** Running Evaluation *****\n",
      "  Num examples = 10620\n",
      "  Batch size = 64\n",
      "Saving model checkpoint to /content/drive/My Drive/CS 495 DataScience Capstone Project/t5_anime_model/checkpoint-1884\n",
      "Configuration saved in /content/drive/My Drive/CS 495 DataScience Capstone Project/t5_anime_model/checkpoint-1884/config.json\n",
      "Configuration saved in /content/drive/My Drive/CS 495 DataScience Capstone Project/t5_anime_model/checkpoint-1884/generation_config.json\n",
      "Model weights saved in /content/drive/My Drive/CS 495 DataScience Capstone Project/t5_anime_model/checkpoint-1884/model.safetensors\n",
      "tokenizer config file saved in /content/drive/My Drive/CS 495 DataScience Capstone Project/t5_anime_model/checkpoint-1884/tokenizer_config.json\n",
      "Special tokens file saved in /content/drive/My Drive/CS 495 DataScience Capstone Project/t5_anime_model/checkpoint-1884/special_tokens_map.json\n",
      "added tokens file saved in /content/drive/My Drive/CS 495 DataScience Capstone Project/t5_anime_model/checkpoint-1884/added_tokens.json\n",
      "The following columns in the Evaluation set don't have a corresponding argument in `T5ForConditionalGeneration.forward` and have been ignored: input_text, target_text. If input_text, target_text are not expected by `T5ForConditionalGeneration.forward`,  you can safely ignore this message.\n",
      "\n",
      "***** Running Evaluation *****\n",
      "  Num examples = 10620\n",
      "  Batch size = 64\n",
      "Saving model checkpoint to /content/drive/My Drive/CS 495 DataScience Capstone Project/t5_anime_model/checkpoint-2826\n",
      "Configuration saved in /content/drive/My Drive/CS 495 DataScience Capstone Project/t5_anime_model/checkpoint-2826/config.json\n",
      "Configuration saved in /content/drive/My Drive/CS 495 DataScience Capstone Project/t5_anime_model/checkpoint-2826/generation_config.json\n",
      "Model weights saved in /content/drive/My Drive/CS 495 DataScience Capstone Project/t5_anime_model/checkpoint-2826/model.safetensors\n",
      "tokenizer config file saved in /content/drive/My Drive/CS 495 DataScience Capstone Project/t5_anime_model/checkpoint-2826/tokenizer_config.json\n",
      "Special tokens file saved in /content/drive/My Drive/CS 495 DataScience Capstone Project/t5_anime_model/checkpoint-2826/special_tokens_map.json\n",
      "added tokens file saved in /content/drive/My Drive/CS 495 DataScience Capstone Project/t5_anime_model/checkpoint-2826/added_tokens.json\n",
      "Deleting older checkpoint [/content/drive/My Drive/CS 495 DataScience Capstone Project/t5_anime_model/checkpoint-942] due to args.save_total_limit\n",
      "The following columns in the Evaluation set don't have a corresponding argument in `T5ForConditionalGeneration.forward` and have been ignored: input_text, target_text. If input_text, target_text are not expected by `T5ForConditionalGeneration.forward`,  you can safely ignore this message.\n",
      "\n",
      "***** Running Evaluation *****\n",
      "  Num examples = 10620\n",
      "  Batch size = 64\n",
      "Saving model checkpoint to /content/drive/My Drive/CS 495 DataScience Capstone Project/t5_anime_model/checkpoint-3768\n",
      "Configuration saved in /content/drive/My Drive/CS 495 DataScience Capstone Project/t5_anime_model/checkpoint-3768/config.json\n",
      "Configuration saved in /content/drive/My Drive/CS 495 DataScience Capstone Project/t5_anime_model/checkpoint-3768/generation_config.json\n",
      "Model weights saved in /content/drive/My Drive/CS 495 DataScience Capstone Project/t5_anime_model/checkpoint-3768/model.safetensors\n",
      "tokenizer config file saved in /content/drive/My Drive/CS 495 DataScience Capstone Project/t5_anime_model/checkpoint-3768/tokenizer_config.json\n",
      "Special tokens file saved in /content/drive/My Drive/CS 495 DataScience Capstone Project/t5_anime_model/checkpoint-3768/special_tokens_map.json\n",
      "added tokens file saved in /content/drive/My Drive/CS 495 DataScience Capstone Project/t5_anime_model/checkpoint-3768/added_tokens.json\n",
      "Deleting older checkpoint [/content/drive/My Drive/CS 495 DataScience Capstone Project/t5_anime_model/checkpoint-1884] due to args.save_total_limit\n",
      "The following columns in the Evaluation set don't have a corresponding argument in `T5ForConditionalGeneration.forward` and have been ignored: input_text, target_text. If input_text, target_text are not expected by `T5ForConditionalGeneration.forward`,  you can safely ignore this message.\n",
      "\n",
      "***** Running Evaluation *****\n",
      "  Num examples = 10620\n",
      "  Batch size = 64\n",
      "Saving model checkpoint to /content/drive/My Drive/CS 495 DataScience Capstone Project/t5_anime_model/checkpoint-4710\n",
      "Configuration saved in /content/drive/My Drive/CS 495 DataScience Capstone Project/t5_anime_model/checkpoint-4710/config.json\n",
      "Configuration saved in /content/drive/My Drive/CS 495 DataScience Capstone Project/t5_anime_model/checkpoint-4710/generation_config.json\n",
      "Model weights saved in /content/drive/My Drive/CS 495 DataScience Capstone Project/t5_anime_model/checkpoint-4710/model.safetensors\n",
      "tokenizer config file saved in /content/drive/My Drive/CS 495 DataScience Capstone Project/t5_anime_model/checkpoint-4710/tokenizer_config.json\n",
      "Special tokens file saved in /content/drive/My Drive/CS 495 DataScience Capstone Project/t5_anime_model/checkpoint-4710/special_tokens_map.json\n",
      "added tokens file saved in /content/drive/My Drive/CS 495 DataScience Capstone Project/t5_anime_model/checkpoint-4710/added_tokens.json\n",
      "Deleting older checkpoint [/content/drive/My Drive/CS 495 DataScience Capstone Project/t5_anime_model/checkpoint-2826] due to args.save_total_limit\n",
      "The following columns in the Evaluation set don't have a corresponding argument in `T5ForConditionalGeneration.forward` and have been ignored: input_text, target_text. If input_text, target_text are not expected by `T5ForConditionalGeneration.forward`,  you can safely ignore this message.\n",
      "\n",
      "***** Running Evaluation *****\n",
      "  Num examples = 10620\n",
      "  Batch size = 64\n",
      "Saving model checkpoint to /content/drive/My Drive/CS 495 DataScience Capstone Project/t5_anime_model/checkpoint-5652\n",
      "Configuration saved in /content/drive/My Drive/CS 495 DataScience Capstone Project/t5_anime_model/checkpoint-5652/config.json\n",
      "Configuration saved in /content/drive/My Drive/CS 495 DataScience Capstone Project/t5_anime_model/checkpoint-5652/generation_config.json\n",
      "Model weights saved in /content/drive/My Drive/CS 495 DataScience Capstone Project/t5_anime_model/checkpoint-5652/model.safetensors\n",
      "tokenizer config file saved in /content/drive/My Drive/CS 495 DataScience Capstone Project/t5_anime_model/checkpoint-5652/tokenizer_config.json\n",
      "Special tokens file saved in /content/drive/My Drive/CS 495 DataScience Capstone Project/t5_anime_model/checkpoint-5652/special_tokens_map.json\n",
      "added tokens file saved in /content/drive/My Drive/CS 495 DataScience Capstone Project/t5_anime_model/checkpoint-5652/added_tokens.json\n",
      "Deleting older checkpoint [/content/drive/My Drive/CS 495 DataScience Capstone Project/t5_anime_model/checkpoint-3768] due to args.save_total_limit\n",
      "The following columns in the Evaluation set don't have a corresponding argument in `T5ForConditionalGeneration.forward` and have been ignored: input_text, target_text. If input_text, target_text are not expected by `T5ForConditionalGeneration.forward`,  you can safely ignore this message.\n",
      "\n",
      "***** Running Evaluation *****\n",
      "  Num examples = 10620\n",
      "  Batch size = 64\n",
      "Saving model checkpoint to /content/drive/My Drive/CS 495 DataScience Capstone Project/t5_anime_model/checkpoint-6594\n",
      "Configuration saved in /content/drive/My Drive/CS 495 DataScience Capstone Project/t5_anime_model/checkpoint-6594/config.json\n",
      "Configuration saved in /content/drive/My Drive/CS 495 DataScience Capstone Project/t5_anime_model/checkpoint-6594/generation_config.json\n",
      "Model weights saved in /content/drive/My Drive/CS 495 DataScience Capstone Project/t5_anime_model/checkpoint-6594/model.safetensors\n",
      "tokenizer config file saved in /content/drive/My Drive/CS 495 DataScience Capstone Project/t5_anime_model/checkpoint-6594/tokenizer_config.json\n",
      "Special tokens file saved in /content/drive/My Drive/CS 495 DataScience Capstone Project/t5_anime_model/checkpoint-6594/special_tokens_map.json\n",
      "added tokens file saved in /content/drive/My Drive/CS 495 DataScience Capstone Project/t5_anime_model/checkpoint-6594/added_tokens.json\n",
      "Deleting older checkpoint [/content/drive/My Drive/CS 495 DataScience Capstone Project/t5_anime_model/checkpoint-4710] due to args.save_total_limit\n",
      "The following columns in the Evaluation set don't have a corresponding argument in `T5ForConditionalGeneration.forward` and have been ignored: input_text, target_text. If input_text, target_text are not expected by `T5ForConditionalGeneration.forward`,  you can safely ignore this message.\n",
      "\n",
      "***** Running Evaluation *****\n",
      "  Num examples = 10620\n",
      "  Batch size = 64\n",
      "Saving model checkpoint to /content/drive/My Drive/CS 495 DataScience Capstone Project/t5_anime_model/checkpoint-7536\n",
      "Configuration saved in /content/drive/My Drive/CS 495 DataScience Capstone Project/t5_anime_model/checkpoint-7536/config.json\n",
      "Configuration saved in /content/drive/My Drive/CS 495 DataScience Capstone Project/t5_anime_model/checkpoint-7536/generation_config.json\n",
      "Model weights saved in /content/drive/My Drive/CS 495 DataScience Capstone Project/t5_anime_model/checkpoint-7536/model.safetensors\n",
      "tokenizer config file saved in /content/drive/My Drive/CS 495 DataScience Capstone Project/t5_anime_model/checkpoint-7536/tokenizer_config.json\n",
      "Special tokens file saved in /content/drive/My Drive/CS 495 DataScience Capstone Project/t5_anime_model/checkpoint-7536/special_tokens_map.json\n",
      "added tokens file saved in /content/drive/My Drive/CS 495 DataScience Capstone Project/t5_anime_model/checkpoint-7536/added_tokens.json\n",
      "Deleting older checkpoint [/content/drive/My Drive/CS 495 DataScience Capstone Project/t5_anime_model/checkpoint-5652] due to args.save_total_limit\n",
      "The following columns in the Evaluation set don't have a corresponding argument in `T5ForConditionalGeneration.forward` and have been ignored: input_text, target_text. If input_text, target_text are not expected by `T5ForConditionalGeneration.forward`,  you can safely ignore this message.\n",
      "\n",
      "***** Running Evaluation *****\n",
      "  Num examples = 10620\n",
      "  Batch size = 64\n",
      "Saving model checkpoint to /content/drive/My Drive/CS 495 DataScience Capstone Project/t5_anime_model/checkpoint-8478\n",
      "Configuration saved in /content/drive/My Drive/CS 495 DataScience Capstone Project/t5_anime_model/checkpoint-8478/config.json\n",
      "Configuration saved in /content/drive/My Drive/CS 495 DataScience Capstone Project/t5_anime_model/checkpoint-8478/generation_config.json\n",
      "Model weights saved in /content/drive/My Drive/CS 495 DataScience Capstone Project/t5_anime_model/checkpoint-8478/model.safetensors\n",
      "tokenizer config file saved in /content/drive/My Drive/CS 495 DataScience Capstone Project/t5_anime_model/checkpoint-8478/tokenizer_config.json\n",
      "Special tokens file saved in /content/drive/My Drive/CS 495 DataScience Capstone Project/t5_anime_model/checkpoint-8478/special_tokens_map.json\n",
      "added tokens file saved in /content/drive/My Drive/CS 495 DataScience Capstone Project/t5_anime_model/checkpoint-8478/added_tokens.json\n",
      "Deleting older checkpoint [/content/drive/My Drive/CS 495 DataScience Capstone Project/t5_anime_model/checkpoint-6594] due to args.save_total_limit\n",
      "The following columns in the Evaluation set don't have a corresponding argument in `T5ForConditionalGeneration.forward` and have been ignored: input_text, target_text. If input_text, target_text are not expected by `T5ForConditionalGeneration.forward`,  you can safely ignore this message.\n",
      "\n",
      "***** Running Evaluation *****\n",
      "  Num examples = 10620\n",
      "  Batch size = 64\n",
      "Saving model checkpoint to /content/drive/My Drive/CS 495 DataScience Capstone Project/t5_anime_model/checkpoint-9420\n",
      "Configuration saved in /content/drive/My Drive/CS 495 DataScience Capstone Project/t5_anime_model/checkpoint-9420/config.json\n",
      "Configuration saved in /content/drive/My Drive/CS 495 DataScience Capstone Project/t5_anime_model/checkpoint-9420/generation_config.json\n",
      "Model weights saved in /content/drive/My Drive/CS 495 DataScience Capstone Project/t5_anime_model/checkpoint-9420/model.safetensors\n",
      "tokenizer config file saved in /content/drive/My Drive/CS 495 DataScience Capstone Project/t5_anime_model/checkpoint-9420/tokenizer_config.json\n",
      "Special tokens file saved in /content/drive/My Drive/CS 495 DataScience Capstone Project/t5_anime_model/checkpoint-9420/special_tokens_map.json\n",
      "added tokens file saved in /content/drive/My Drive/CS 495 DataScience Capstone Project/t5_anime_model/checkpoint-9420/added_tokens.json\n",
      "Deleting older checkpoint [/content/drive/My Drive/CS 495 DataScience Capstone Project/t5_anime_model/checkpoint-7536] due to args.save_total_limit\n",
      "\n",
      "\n",
      "Training completed. Do not forget to share your model on huggingface.co/models =)\n",
      "\n",
      "\n",
      "Loading best model from /content/drive/My Drive/CS 495 DataScience Capstone Project/t5_anime_model/checkpoint-9420 (score: 2.5306456089019775).\n",
      "There were missing keys in the checkpoint model loaded: ['encoder.embed_tokens.weight', 'decoder.embed_tokens.weight', 'lm_head.weight'].\n"
     ]
    },
    {
     "name": "stdout",
     "output_type": "stream",
     "text": [
      "TrainOutput(global_step=9420, training_loss=2.733043760959763, metrics={'train_runtime': 2415.2667, 'train_samples_per_second': 249.496, 'train_steps_per_second': 3.9, 'total_flos': 1.01946211958784e+16, 'train_loss': 2.733043760959763, 'epoch': 10.0})\n"
     ]
    }
   ],
   "source": [
    "trainer = Seq2SeqTrainer(\n",
    "    model=model,\n",
    "    args=training_args,\n",
    "    train_dataset=tokenized_train,\n",
    "    eval_dataset=tokenized_test,\n",
    "    tokenizer=tokenizer,\n",
    "    data_collator=data_collator\n",
    ")\n",
    "\n",
    "train_output = trainer.train()\n",
    "print(train_output)"
   ]
  },
  {
   "cell_type": "code",
   "execution_count": 13,
   "metadata": {
    "executionInfo": {
     "elapsed": 42,
     "status": "ok",
     "timestamp": 1750725908571,
     "user": {
      "displayName": "Noella Buti",
      "userId": "06118441993782992948"
     },
     "user_tz": 420
    },
    "id": "TvbZEjdgYnYk"
   },
   "outputs": [],
   "source": [
    "# --- Training Loss Plot ---\n",
    "def plot_loss(trainer):\n",
    "    logs = trainer.state.log_history\n",
    "    train_loss = [x[\"loss\"] for x in logs if \"loss\" in x and \"epoch\" in x]\n",
    "    eval_loss = [x[\"eval_loss\"] for x in logs if \"eval_loss\" in x and \"epoch\" in x]\n",
    "    epochs_train = range(1, len(train_loss) + 1)\n",
    "    epochs_eval = range(1, len(eval_loss) + 1)\n",
    "\n",
    "    plt.figure(figsize=(8, 5))\n",
    "    if train_loss:\n",
    "        plt.plot(epochs_train, train_loss, label=\"Train Loss\")\n",
    "    if eval_loss:\n",
    "        plt.plot(epochs_eval, eval_loss, label=\"Val Loss\")\n",
    "    plt.xlabel(\"Epoch\")\n",
    "    plt.ylabel(\"Loss\")\n",
    "    plt.title(\"Training vs Validation Loss\")\n",
    "    plt.legend()\n",
    "    plt.grid(True)\n",
    "    plt.tight_layout()\n",
    "    plt.show()"
   ]
  },
  {
   "cell_type": "code",
   "execution_count": 14,
   "metadata": {
    "colab": {
     "base_uri": "https://localhost:8080/",
     "height": 507
    },
    "executionInfo": {
     "elapsed": 236,
     "status": "ok",
     "timestamp": 1750725910871,
     "user": {
      "displayName": "Noella Buti",
      "userId": "06118441993782992948"
     },
     "user_tz": 420
    },
    "id": "Y5yyx8MLY0f0",
    "outputId": "f6fef995-f20e-46c2-cd88-9289447c8bf9"
   },
   "outputs": [
    {
     "data": {
      "image/png": "[encoded data removed]",
      "text/plain": [
       "<Figure size 800x500 with 1 Axes>"
      ]
     },
     "metadata": {},
     "output_type": "display_data"
    }
   ],
   "source": [
    "plot_loss(trainer)"
   ]
  },
  {
   "cell_type": "code",
   "execution_count": 15,
   "metadata": {
    "executionInfo": {
     "elapsed": 66,
     "status": "ok",
     "timestamp": 1750725918918,
     "user": {
      "displayName": "Noella Buti",
      "userId": "06118441993782992948"
     },
     "user_tz": 420
    },
    "id": "7J7JHDggO6aQ"
   },
   "outputs": [],
   "source": [
    "# --- Load Test Set ---\n",
    "testing_df = pd.read_csv(\"prompt_synopsis_test.csv\")\n",
    "testing_df = testing_df.iloc[[20, 26, 64, 84, 88, 98, 106, 111, 127, 164, 190, 199, 225, 231, 242, 244, 259, 298, 10597, 10609]].reset_index(drop=True)\n",
    "\n",
    "input_prompts = testing_df[\"prompt\"].tolist()\n",
    "true_synopsis = testing_df[\"synopsis\"].tolist()\n",
    "tags = testing_df[\"tags_combined\"].tolist()\n",
    "prompts = [\"generate synopsis: \" + p for p in input_prompts]"
   ]
  },
  {
   "cell_type": "code",
   "execution_count": 16,
   "metadata": {
    "colab": {
     "base_uri": "https://localhost:8080/"
    },
    "executionInfo": {
     "elapsed": 64,
     "status": "ok",
     "timestamp": 1750725921092,
     "user": {
      "displayName": "Noella Buti",
      "userId": "06118441993782992948"
     },
     "user_tz": 420
    },
    "id": "frBI5svBO-UN",
    "outputId": "98f3d352-a3e6-4ded-cf1c-34a539359ffb"
   },
   "outputs": [
    {
     "name": "stdout",
     "output_type": "stream",
     "text": [
      "\n",
      "T5 Test Loss: 3.7352\n",
      "T5 Test Perplexity;;: 41.90\n"
     ]
    },
    {
     "name": "stderr",
     "output_type": "stream",
     "text": [
      "/usr/local/lib/python3.11/dist-packages/transformers/tokenization_utils_base.py:3959: UserWarning: `as_target_tokenizer` is deprecated and will be removed in v5 of Transformers. You can tokenize your labels by using the argument `text_target` of the regular `__call__` method (either in the same call as your input texts if you use the same keyword arguments, or in a separate call.\n",
      "  warnings.warn(\n"
     ]
    }
   ],
   "source": [
    "# --- Perplexity Calculation ---\n",
    "encodings = tokenizer(prompts, padding=True, truncation=True, max_length=max_input_len, return_tensors=\"pt\")\n",
    "\n",
    "with tokenizer.as_target_tokenizer():\n",
    "    target_encodings = tokenizer(true_synopsis, padding=True, truncation=True, max_length=max_target_len, return_tensors=\"pt\")\n",
    "\n",
    "labels = target_encodings[\"input_ids\"]\n",
    "labels[labels == tokenizer.pad_token_id] = -100\n",
    "\n",
    "input_ids = encodings[\"input_ids\"].to(model.device)\n",
    "attention_mask = encodings[\"attention_mask\"].to(model.device)\n",
    "labels = labels.to(model.device)\n",
    "model.eval()\n",
    "\n",
    "with torch.no_grad():\n",
    "    outputs = model(input_ids=input_ids, attention_mask=attention_mask, labels=labels)\n",
    "    loss = outputs.loss.item()\n",
    "    perplexity = math.exp(loss)\n",
    "\n",
    "print(f\"\\nT5 Test Loss: {loss:.4f}\")\n",
    "print(f\"T5 Test Perplexity;;: {perplexity:.2f}\")"
   ]
  },
  {
   "cell_type": "code",
   "execution_count": 17,
   "metadata": {
    "colab": {
     "base_uri": "https://localhost:8080/",
     "height": 1000,
     "referenced_widgets": [
      "39b413c7a01c442a8337aecc45da3694",
      "7eebb05133414d539a4712041cd36d67",
      "d616460c1c94446b93bdb2766ea66506",
      "f47320d2a4b44a1b88623e32e75903df",
      "60b5418c46e947c5a445b130835f803e",
      "f4bf1b97db6c46578deecc9c0cfa2ab5",
      "9da397f3ac3c41c896accfd57659cf3b",
      "1da2c97dee494f2dabbf331672dc33c2",
      "1ea2949273e24f69b1df6bce04b2b277",
      "f20e60d701cc4359a2cfb394f1c1ee33",
      "bcfcc1511c844887b563232f50575da1",
      "faee906c2de94e7b9ab649f8a6c93af7",
      "87f7e5b7d28749468b71ff6b56001d2b",
      "535caacae2b94ed4ac1bcfe2cc223aae",
      "28067e9f3d9d4dc480e89917218c1d1a",
      "34e49b94c78f4d19b28efe444236745d",
      "81e877c5615542f8a1acd4e6afe95945",
      "664396aa4202466b9f08116a075e20b7",
      "73fde6d31040468e9e9251a87d697233",
      "05cc4082e7c34bc4a4efe7eaa579c38f",
      "e03490fa7fd04f61896f657d1a563a06",
      "1f09af9378924db8a4ac64cfc905dab4",
      "9be37e966a8e483699e382c9c636e837",
      "a12a5f8b1f124d5dbc2002fdfc49b4d4",
      "efb8130e06214d33bdd6f7ee2a8523e6",
      "0ecabce9f8514476a60c74ef31ed4910",
      "a831172a11d240159c38dd59cdc2dd52",
      "45c160fceec24f81b4ff8af90f37da3d",
      "a35049314f49461e865a1397037860bc",
      "6d0c0f18273f415f89fce963ba63312a",
      "1d0b60c822e048918f318a609cc556dc",
      "36a7302f02094eaa866614458ba82c51",
      "1a4a9ba4b96140b5a0baeb073570fcf6",
      "2ee51d7306be4987a17dfa724a9953b2",
      "8419d43b4c6b4906b7393b7253ba80a7",
      "cd25bb956b514d088c06ba08a459c04b",
      "300e60c02dd04c2783c9a3f14309202c",
      "984478936f1a4111af5dfb909933cc6f",
      "41b4bb11b22d404b96e3906f90cd1b6a",
      "005060d82f214e389845c6c46c371a1f",
      "2c81f8d2ce0942e7a32f4e6e1c585dae",
      "d29b39d3df094ee5ac32bb91e4abe50f",
      "747aaa20fa634c0eb3bce03add5336f7",
      "0863aef4b0c64eecbb89a64005f97b1a",
      "0f382340950a4f6bb78e0b0872c19cbb",
      "04ef8118f7d64ccf95cb3c19a751c903",
      "bd982430199c441bb15c12c62ecb4335",
      "088ad8b71d714fd9941f60f090d4a120",
      "38acbd2a9bcc408295158a8893d3a719",
      "d6290945568249669f1ad724e7ef7c5f",
      "7adb19f681a84de484564f9df376609c",
      "cfcace50bd824cd78dd35c14ba6d3e28",
      "9fc34dd3198246729ad8c6870a86087a",
      "ba1f21ae139b41659961281c52704631",
      "637a5af2cb7a4a749133aec95449c4d2",
      "9f06fbf2fe68431ea78b1f4249842b14",
      "06495423f6714355aa4cb79937f7ae3c",
      "1be99daa63874586be6cf28e7076bd8a",
      "f0d3568cff2942da990c7fdd9635b36d",
      "e1d7154e7a994f70b806cb8796e85fe6",
      "fd69eec536724c98b93ed1daf98f4e22",
      "c329e7c659d344b485f8df225173bc81",
      "d6be137e5c0b4be09a25930bd55e307f",
      "ceab84dcbd98485ba2577b48d424d964",
      "fe2fc32991dc4c63ad69489058370d08",
      "e8be6366ca244f0cb05fe54820681ca9",
      "f6b42931831b45e1b8a0559c91b829a9",
      "a4b40c15846d4f9c9cb737a5bf5da792",
      "0063a115670f48c3bf50bb2b5bb34ff9",
      "8388a9c22dfa46b1bcff39bee9cecd6c",
      "4a387b73fb7248a1aec96d114f38589e",
      "5e4b4d075e224b32abb70c3602c490cd",
      "d3c8fba021684df7923e149e7705fd65",
      "e5506d90c1d945ee8d7b01e640ce9071",
      "f18058be13c346e390c4e7f9d403216c",
      "9e7c46ee2fa24123956c33a23544d0af",
      "bc13a05535eb4e0da3ac0a5114c120fd",
      "e8ebfd3c8dfa4eab859ef122b4dd4867",
      "085e916baab14b0fa853c0427bdff122",
      "409455e554b84e21ad2b4812f5de5654",
      "3a44d870e8f446cb92119f87607f9040",
      "dece8fe5993e4a5996e3616963a18bc9",
      "95df391faeef48cf8b1a03dadff0d0b0",
      "ede9a6773b254f4a80f7258382a48e91",
      "a60345d5d8a842c4ae9e669f7c00f052",
      "c8533460f5204926b8d7c140e8d04360",
      "74461a3232df46d19fe887e8f7d59f3e",
      "2a922e710aad4b3d89219884030d540f",
      "e220b7ebd502472f979d053f540820db",
      "bb9ab6aed78f4b87ad56d72fe25a39a5",
      "c4712b87801d4a2bb333a0ecf3dec4ea",
      "1fc49cfc2a984f8ebfa8b03d3ddbf921",
      "187c35b0d9aa4300938a57272d543cf3",
      "1d9ceac795de4eaaadce2770187711f1",
      "dc2a337612db418d905aa499de106b13",
      "0ebf16a6f53748ad83e305926562255a",
      "0ba6e3c7e38c4bdc8bb8d606df9b7e36",
      "ab0b83c3078c4208ba65fb973bed603e",
      "ad1394a545c4435190d2f1cf713ffc3f",
      "4e818718b5bb4e7faac9091e8ade4d80",
      "71152bf0ef404693bde883730fe6ab76",
      "96685ecc6edb42c2b61fc16b6f4a8573",
      "7e656825664044bca150b53ce551796f",
      "a7d5c75b86d54082a3e67155cd179fb5",
      "0788b76f0eba40e09690f9bc876ea682",
      "f12c4d4346f04e24809a94154978bdb7",
      "a8af3a43732f481880079297b3b39bf6",
      "3173754d1e264a57b1eaa1a5cf8e8075",
      "252303d14af64e85a04587cd8c2fc01d",
      "a6a434c1e732489eb806f15f3af634b5",
      "db274e16269242e2a2c41b73fe672f33",
      "4b50e1d8b1324649ab71f7229a031a42",
      "0d45ce42beaf41a3950048c861e82f54",
      "affe7cb55d7e4b7a887c0cfa0793c575",
      "f096a8c876954adb9c7d7667deb583c2",
      "fbdd4f7665bd42b9ac9bfcbcb2e2a2af",
      "946108079eb742d9a0f97f5be2614d1e",
      "566a398c15914bffb1d68ca425207d46",
      "5809a24a7c7b401bbf92f8a5b4bccd96",
      "16154b4ff962432d98dc89853e264304",
      "e13f1d0256df48708cf2c0941cdd32cf"
     ]
    },
    "executionInfo": {
     "elapsed": 27370,
     "status": "ok",
     "timestamp": 1750725957213,
     "user": {
      "displayName": "Noella Buti",
      "userId": "06118441993782992948"
     },
     "user_tz": 420
    },
    "id": "mEWNarsEPPRn",
    "outputId": "f63188f6-b08a-4715-a998-1b01c1bf8409"
   },
   "outputs": [
    {
     "data": {
      "application/vnd.jupyter.widget-view+json": {
       "model_id": "39b413c7a01c442a8337aecc45da3694",
       "version_major": 2,
       "version_minor": 0
      },
      "text/plain": [
       "modules.json:   0%|          | 0.00/349 [00:00<?, ?B/s]"
      ]
     },
     "metadata": {},
     "output_type": "display_data"
    },
    {
     "data": {
      "application/vnd.jupyter.widget-view+json": {
       "model_id": "faee906c2de94e7b9ab649f8a6c93af7",
       "version_major": 2,
       "version_minor": 0
      },
      "text/plain": [
       "config_sentence_transformers.json:   0%|          | 0.00/116 [00:00<?, ?B/s]"
      ]
     },
     "metadata": {},
     "output_type": "display_data"
    },
    {
     "data": {
      "application/vnd.jupyter.widget-view+json": {
       "model_id": "9be37e966a8e483699e382c9c636e837",
       "version_major": 2,
       "version_minor": 0
      },
      "text/plain": [
       "README.md:   0%|          | 0.00/10.5k [00:00<?, ?B/s]"
      ]
     },
     "metadata": {},
     "output_type": "display_data"
    },
    {
     "data": {
      "application/vnd.jupyter.widget-view+json": {
       "model_id": "2ee51d7306be4987a17dfa724a9953b2",
       "version_major": 2,
       "version_minor": 0
      },
      "text/plain": [
       "sentence_bert_config.json:   0%|          | 0.00/53.0 [00:00<?, ?B/s]"
      ]
     },
     "metadata": {},
     "output_type": "display_data"
    },
    {
     "data": {
      "application/vnd.jupyter.widget-view+json": {
       "model_id": "0f382340950a4f6bb78e0b0872c19cbb",
       "version_major": 2,
       "version_minor": 0
      },
      "text/plain": [
       "config.json:   0%|          | 0.00/612 [00:00<?, ?B/s]"
      ]
     },
     "metadata": {},
     "output_type": "display_data"
    },
    {
     "name": "stderr",
     "output_type": "stream",
     "text": [
      "loading configuration file config.json from cache at /root/.cache/huggingface/hub/models--sentence-transformers--all-MiniLM-L6-v2/snapshots/c9745ed1d9f207416be6d2e6f8de32d1f16199bf/config.json\n",
      "Model config BertConfig {\n",
      "  \"architectures\": [\n",
      "    \"BertModel\"\n",
      "  ],\n",
      "  \"attention_probs_dropout_prob\": 0.1,\n",
      "  \"classifier_dropout\": null,\n",
      "  \"gradient_checkpointing\": false,\n",
      "  \"hidden_act\": \"gelu\",\n",
      "  \"hidden_dropout_prob\": 0.1,\n",
      "  \"hidden_size\": 384,\n",
      "  \"initializer_range\": 0.02,\n",
      "  \"intermediate_size\": 1536,\n",
      "  \"layer_norm_eps\": 1e-12,\n",
      "  \"max_position_embeddings\": 512,\n",
      "  \"model_type\": \"bert\",\n",
      "  \"num_attention_heads\": 12,\n",
      "  \"num_hidden_layers\": 6,\n",
      "  \"pad_token_id\": 0,\n",
      "  \"position_embedding_type\": \"absolute\",\n",
      "  \"transformers_version\": \"4.52.4\",\n",
      "  \"type_vocab_size\": 2,\n",
      "  \"use_cache\": true,\n",
      "  \"vocab_size\": 30522\n",
      "}\n",
      "\n"
     ]
    },
    {
     "data": {
      "application/vnd.jupyter.widget-view+json": {
       "model_id": "9f06fbf2fe68431ea78b1f4249842b14",
       "version_major": 2,
       "version_minor": 0
      },
      "text/plain": [
       "model.safetensors:   0%|          | 0.00/90.9M [00:00<?, ?B/s]"
      ]
     },
     "metadata": {},
     "output_type": "display_data"
    },
    {
     "name": "stderr",
     "output_type": "stream",
     "text": [
      "loading weights file model.safetensors from cache at /root/.cache/huggingface/hub/models--sentence-transformers--all-MiniLM-L6-v2/snapshots/c9745ed1d9f207416be6d2e6f8de32d1f16199bf/model.safetensors\n",
      "All model checkpoint weights were used when initializing BertModel.\n",
      "\n",
      "All the weights of BertModel were initialized from the model checkpoint at sentence-transformers/all-MiniLM-L6-v2.\n",
      "If your task is similar to the task the model of the checkpoint was trained on, you can already use BertModel for predictions without further training.\n"
     ]
    },
    {
     "data": {
      "application/vnd.jupyter.widget-view+json": {
       "model_id": "f6b42931831b45e1b8a0559c91b829a9",
       "version_major": 2,
       "version_minor": 0
      },
      "text/plain": [
       "tokenizer_config.json:   0%|          | 0.00/350 [00:00<?, ?B/s]"
      ]
     },
     "metadata": {},
     "output_type": "display_data"
    },
    {
     "data": {
      "application/vnd.jupyter.widget-view+json": {
       "model_id": "e8ebfd3c8dfa4eab859ef122b4dd4867",
       "version_major": 2,
       "version_minor": 0
      },
      "text/plain": [
       "vocab.txt:   0%|          | 0.00/232k [00:00<?, ?B/s]"
      ]
     },
     "metadata": {},
     "output_type": "display_data"
    },
    {
     "data": {
      "application/vnd.jupyter.widget-view+json": {
       "model_id": "e220b7ebd502472f979d053f540820db",
       "version_major": 2,
       "version_minor": 0
      },
      "text/plain": [
       "tokenizer.json:   0%|          | 0.00/466k [00:00<?, ?B/s]"
      ]
     },
     "metadata": {},
     "output_type": "display_data"
    },
    {
     "data": {
      "application/vnd.jupyter.widget-view+json": {
       "model_id": "4e818718b5bb4e7faac9091e8ade4d80",
       "version_major": 2,
       "version_minor": 0
      },
      "text/plain": [
       "special_tokens_map.json:   0%|          | 0.00/112 [00:00<?, ?B/s]"
      ]
     },
     "metadata": {},
     "output_type": "display_data"
    },
    {
     "name": "stderr",
     "output_type": "stream",
     "text": [
      "loading file vocab.txt from cache at /root/.cache/huggingface/hub/models--sentence-transformers--all-MiniLM-L6-v2/snapshots/c9745ed1d9f207416be6d2e6f8de32d1f16199bf/vocab.txt\n",
      "loading file tokenizer.json from cache at /root/.cache/huggingface/hub/models--sentence-transformers--all-MiniLM-L6-v2/snapshots/c9745ed1d9f207416be6d2e6f8de32d1f16199bf/tokenizer.json\n",
      "loading file added_tokens.json from cache at None\n",
      "loading file special_tokens_map.json from cache at /root/.cache/huggingface/hub/models--sentence-transformers--all-MiniLM-L6-v2/snapshots/c9745ed1d9f207416be6d2e6f8de32d1f16199bf/special_tokens_map.json\n",
      "loading file tokenizer_config.json from cache at /root/.cache/huggingface/hub/models--sentence-transformers--all-MiniLM-L6-v2/snapshots/c9745ed1d9f207416be6d2e6f8de32d1f16199bf/tokenizer_config.json\n",
      "loading file chat_template.jinja from cache at None\n"
     ]
    },
    {
     "data": {
      "application/vnd.jupyter.widget-view+json": {
       "model_id": "db274e16269242e2a2c41b73fe672f33",
       "version_major": 2,
       "version_minor": 0
      },
      "text/plain": [
       "config.json:   0%|          | 0.00/190 [00:00<?, ?B/s]"
      ]
     },
     "metadata": {},
     "output_type": "display_data"
    },
    {
     "name": "stdout",
     "output_type": "stream",
     "text": [
      "\n",
      "Prompt 1: Write an anime synopsis that matches 'Adventure, Comedy and Fantasy'.\n",
      "Generated: the story is about a young girl named sakura, who is a sakura. she is a sakura, a sakura, a sakura, a sakura, a sakura, a sakura, a sakura, a sakura, a sakura, and a sakura.\n",
      "True:      on one noteworthy day in the adventurer's guild, kazuma satou encounters someone unexpecteda fan of his named ran. surprised that he even has a fan, kazuma attempts to play it cool to impress her. unfortunately for him, the guild's receptionist arrives with a request to defeat a giant golem guarding some ancient ruins, and kazuma accepts only to keep ran's admiration. upon kazuma and his party's successful return from the ruins, kazuma continues to shamelessly brag to ran. capitalizing on his desperation, the receptionist approaches him with another quest that requires him to return to the same ruins. hoping to find valuable treasures, kazuma once again convinces his party to join himbut this time, he may be biting off more than he can chew.\n",
      "Cosine Similarity: 0.195\n",
      "——————————————————————————————————————————————————\n",
      "\n",
      "Prompt 2: Write an anime synopsis that matches 'Mystery and Supernatural'.\n",
      "Generated: a series of short shorts bundled with the bluraydvd volumes.\n",
      "True:      the anime is set in the fictional geso ward in tokyo, a school city where an app called aicis is becoming popular. those who get the app are given supernatural powers, which they use to pursue their own selfish desires, leading to many occurrences of violence and other incidents. the story focuses on a group of detectives who solve cases related to power wielders.\n",
      "Cosine Similarity: 0.151\n",
      "——————————————————————————————————————————————————\n",
      "\n",
      "Prompt 3: Generate a 'Historical and Mythology' themed anime targeting 'Shoujo'.\n",
      "Generated: sakura sakura is a sakura who is a sakura, a sakura, a sakura, a sakura, a sakura, a sakura, a sakura, a sakura, a sakura, a sakura, a sakura, a sakura.\n",
      "True:      in the nineteenth century, we find lydia carlton living in scotland, making a living as a fairy doctor. she is one of those rare humans who can see and communicate with fairies. but no one believes her. however, edgar is in need of someone with a vast knowledge of fairy lore, and lydia is just that person. after rescuing her, he becomes her employer, but there are many secrets and emotions that seem to follow edgar, who claims to be the blue knight's earl.\n",
      "Cosine Similarity: 0.071\n",
      "——————————————————————————————————————————————————\n",
      "\n",
      "Prompt 4: Write an anime synopsis that matches 'Adventure'.\n",
      "Generated: a special episode included with the bluraydvd release.\n",
      "True:      takashi loves reading books and especially loves alice's adventures in wonderland. one day, he buys some used books, and he finds one book thrown in. when takashi opens the book, the god of math m1 appeared. takashi is told that alice is kidnapped, and he's asked to rescue her by m1. and takashi goes on an adventure in wonderland to rescue alice.\n",
      "Cosine Similarity: 0.215\n",
      "——————————————————————————————————————————————————\n",
      "\n",
      "Prompt 5: Create an anime synopsis with 'Comedy, Fantasy and Slice Of Life' and 'Anthropomorphic'.\n",
      "Generated: yuuki yuuki is a high school student who lives in a small town in a small town. he is a young boy who has a dream of becoming a vampire. yuuki has a dream of becoming a vampire. yuuki has a dream of becoming a vampire. yuuki has a dream of becoming a vampire. yuuki has a dream of becoming a vampire.\n",
      "True:      in a city filled with anthropomorphic catpeople, catman lives free of rules and boundaries, doing everything he wants, which often collides with the other inhabitants of the city. created entirely in flash, with no spoken dialog, catman instead speaks in english and japanese subtitles. the series is spread across three socalled 'seasons', with only the third having been aired.\n",
      "Cosine Similarity: 0.182\n",
      "——————————————————————————————————————————————————\n",
      "\n",
      "Prompt 6: Write an anime synopsis that matches 'Action, Adventure, Drama, Romance and Sci-Fi'.\n",
      "Generated: a series of shorts based on the tv series.\n",
      "True:      in the backwater town of bellforest lives a 14yearold boy named renton thurston. he desires to leave his home behind and join the mercenary group known as gekkostate, hoping to find some adventure to brighten up his mundane life. however, stuck between his grandfather's insistence to become a mechanic like him and the pressure of his deceased father's legacy, the only excitement renton finds is in his pastime of riding the trapar wave particles that are dispersed throughout the air, an activity akin to surfing. everything changes when an unknown object crashes through renton's garage, discovered to be a light finding operationa robot capable of riding the trapar wavesspecifically known as the nirvash typezero. its pilot is a young girl named eureka, a member of the gekkostate, who requests a tuneup for the nirvash. their meeting sparks the beginning of renton's involvement with the gekkostate as he takes off alongside eureka as the copilot of the nirvash.\n",
      "Cosine Similarity: 0.361\n",
      "——————————————————————————————————————————————————\n",
      "\n",
      "Prompt 7: Create an anime synopsis with 'Sports' and 'Anthropomorphic and Racing'.\n",
      "Generated: a series of shorts aired on the tv of the tv series.\n",
      "True:      within the horseracing world, the horse girls of team spica have been gaining popularity as they continue to rack up victories. the one receiving the most attention in the group is toukai teiou, known for her cheerful personality and exceptional running skills. teiou aims to become an undefeated triple crown horse girl by winning all three g1 races consecutively, a feat that has not been accomplished since the legendary symbolic rudolf managed to do so many years ago. on her path to obtaining the triple crown, teiou is met with many challenges, encountering both old and new rivals. amidst her fierce rivalries, however, teiou is soon confronted with decisions that will leave a huge impact on her very own racing career.\n",
      "Cosine Similarity: 0.174\n",
      "——————————————————————————————————————————————————\n",
      "\n",
      "Prompt 8: Write an anime synopsis based on the 'Mecha and Space'.\n",
      "Generated: a series of shorts based on the tv series of the tv series.\n",
      "True:      when one space colony declared its independence from the earth federation, the devastating 7th space war, an allout war between earth and space, resulted. the federation responded to the space revolutionary army with mobile suits, called gundams. however, the space revolutionary forces played their trump card and dropped hundreds of space colonies onto the earth, plunging the planet into a sevenyearlong nuclear winter. the federation collapsed, but the space revolutionary army was unable to invade the earth in the aftermath of the colony drop. fifteen years have passed. the year is now after war 0015, and a new federation has sprung up on earth to restore order. in space, the colonial leaders have been rebuilding their own forces as well. by chance, fifteenyearold garrod ran has discovered an old federation mobile suit, the gundam x, and now he uses it to help out the vulture ship freeden in its struggle to keep the powers that be from repeating the mistakes of the past.\n",
      "Cosine Similarity: 0.161\n",
      "——————————————————————————————————————————————————\n",
      "\n",
      "Prompt 9: Write a 'Slice Of Life' anime synopsis inspired by 'Welcome, Chitose'.\n",
      "Generated: chitose is a high school student who lives in a small town. chitose is a chitose, a chitose who is a chitose. chitose is a chitose, a chitose who is a chitose. chitose is a chitose, a chitose who is a chitose who is a chitose. chitose is a chitose, chitose, and chitose's\n",
      "True:      chitosechan is a penguin who lives in kyoto. getting in touch with people and getting fed delicious food as she curiously walks around kyoto streets is her favourite thing to do. the story features popular places in kyoto like kiyomizu temple, ginkaku temple, and gion from the penguin's point of view. this is a short story about a penguin that is nostalgic and warm, curing and relieving the heart.\n",
      "Cosine Similarity: 0.028\n",
      "——————————————————————————————————————————————————\n",
      "\n",
      "Prompt 10: Write an anime synopsis that matches 'Adventure, Mystery, Slice Of Life and Supernatural'.\n",
      "Generated: the story is about a young girl named yuuki, who has been living in a secluded village for a long time. yuuki is a young girl who has been living in a village for a long time. yuuki is a young girl who has been living in a village for a long time. yuuki is a young girl who has been living in a village for a long time. yuuki is a young girl who is a slumber. yuuki's father, yuuki, and yuuki, and yu\n",
      "True:      ghostly, primordial beings known as mushi continue to cause mysterious changes in the lives of humans. the travelling mushishi, ginko, persists in trying to set right the strange and unsettling situations he encounters. time loops, living shadows, and telepathy are among the overt effects of interference from mushi, but more subtle symptoms that take years to be noticed also rouse ginko's concern as he passes from village to village. through circumstance, ginko has become an arbiter, determining which mushi are blessings and which are curses. but the lines that he seeks to draw are subjective. some of his patients would rather exercise their new powers until they are utterly consumed by them; others desperately strive to rid themselves of afflictions which are in fact protecting their lives from devastation. those who cross paths with mushi must learn to accept seemingly impossible consequences for their actions, and heal wounds they did not know they had. otherwise, they risk meeting with fates beyond their comprehension.\n",
      "Cosine Similarity: 0.240\n",
      "——————————————————————————————————————————————————\n",
      "\n",
      "Prompt 11: Generate a 'Historical and Visual Arts' themed anime targeting 'Seinen'.\n",
      "Generated: in the midst of the war, sakura sakura is a young boy who has been living with his father for a long time. however, he is unable to live with his father, a young boy named sakura. sakura sakura is unable to live with his father, and he is unable to live with his father. sakura sakura is unable to live with his father, but he is unable to live in the midst of a reincarnation. however, sakura's life has been ruined by his father's\n",
      "True:      in the 16th century, the city of florence booms with cultural and creative revival in celebration of the renaissance. arte, a delightful young lady from an aristocratic family, dreams of being an artist and contributing to the renewal of civilization. however, with her father's death, she ends up losing the only person who believed in her passion for art. now she is expected to marry a nobleman and live as a refined housewife without disgracing her family name. reluctant to accept her fate, the headstrong arte steps into the streets in search of a master artisan to take her on as an apprentice. in her quest for a mentor, arte has to face harsh reality when she is completely shunned for being a female artist. no one believes that women are capable of fine craftsmanship, and therefore none are willing to accept her. luckily, a renowned artisan by the name of leo is persuaded to take her as his disciple since he has none anyway. and thus, arte's new life begins, far from the comfort of her noble upbringing. as an apprentice, she must earn her keep while tackling various challenges along the difficult path to becoming a fullfledged, master artisan.\n",
      "Cosine Similarity: 0.035\n",
      "——————————————————————————————————————————————————\n",
      "\n",
      "Prompt 12: Generate an anime synopsis for 'Kids'.\n",
      "Generated: a series of shorts based on the tv series.\n",
      "True:      the separated sisters melonpanna and rollpanna both befriend a mysterious horse marin. she shows rollpanna her treasure, a sunken ship she raises from the depths. baikinman sees this and is inspired to build a ghost ship of his own with help from dr. hiyari. he also plots to turn rollpanna fully evil in order to use her to defeat anpanman.\n",
      "Cosine Similarity: 0.212\n",
      "——————————————————————————————————————————————————\n",
      "\n",
      "Prompt 13: Write a 'Slice Of Life' anime synopsis inspired by 'Is the Order a Rabbit? Bloom'.\n",
      "Generated: yuuki yuuki is a young boy who lives in a small village in a small village. he is a slumber, a slumber, and a slumber. he is a slumber, a slumber, a slumber, a slumber, and a slumber. yuuki is a slumber, a slumber, a slumber. yuuki is a slumber. yuuki and yuuki's\n",
      "True:      although the year is coming close to an end, there is no lack of fun for kokoa hoto and the other caf waitresses! from bazaars to festivals, life is as enjoyable as it gets. as for chino kafuu and her middle school friendsthe friendly megumi natsu and the playful maya jougathey begin to look towards the future and decide on a high school to enroll in. bonds of friendship and exciting adventures blend into gochuumon wa usagi desu ka? bloom as the joyful lives of the caf waitresses continue.\n",
      "Cosine Similarity: 0.008\n",
      "——————————————————————————————————————————————————\n",
      "\n",
      "Prompt 14: Create an anime synopsis with 'Action and Sci-Fi' and 'Mecha'.\n",
      "Generated: a series of shorts based on the tv series of the tv series.\n",
      "True:      fourteenyearold kouichi hayase's life has always been a mediocre one, if not dismal. however, those days of being bullied by classmates and escaping to a fantasy of being a hero are put to an end when a certain accident bestows on him a girl and a gigantic humanoid robot called linebarrel. the extraordinary power that kouichi obtains puts him and everything around him on a sudden rollercoaster ride of battles, intrigues and friendship! during the course of his adventure, the boy starts to learn what life has to offer; he meets new friends, bids farewell to the old ones, but most of all he now has considerable responsibilities and is forced to confront the world around him.\n",
      "Cosine Similarity: 0.283\n",
      "——————————————————————————————————————————————————\n",
      "\n",
      "Prompt 15: Write an anime synopsis based on the 'Martial Arts'.\n",
      "Generated: a series of shorts based on the tv series.\n",
      "True:      in the boundary of pazhou, there are hundreds of scholars, tang poetry and song poetry, all have shuling 30,000 years ago, the gods named nancheng library descended from the sky, and the books in the pazhou continent were born. shu ling, the analects of confucius, tang poetry, song song, compendium of materia medica, and perhaps threeyear examination of fiveyear college entrance examination; after 30,000 years, gu qi must wake up from three hundred tang poems riding on shan hai jing, i decided to go to miss liaozhai, talk about how to levy zheng clothing jiu world  um, everyone is good, my name is gu qi, my emotional intelligence is low, my mind has pit,i also like to say that i am very honest but nothing, you can't beat me!\n",
      "Cosine Similarity: 0.198\n",
      "——————————————————————————————————————————————————\n",
      "\n",
      "Prompt 16: Write an anime synopsis that matches 'Romance'.\n",
      "Generated: yuuki yuuki is a high school student who has a crush on a girl named yuuki. yuuki has a crush on yuuki, and yuuki has a crush on yuuki. yuuki has a crush on yuuki, and yuuki has a crush on yuuki. yuuki has a crush on yuuki and yuuki. yuuki and yuuki have a crush on yuuki. however, yuuki\n",
      "True:      for hearingimpaired university student yuki itose, silence has been a natural part of life since birth. her world is small and isolated; she commutes to campus, interacts with her best friend rin fujishiro, and communicates through writing and text messagesa lifestyle that offers little to no change. one day, during her commute, yuki meets fellow student itsuomi nagi, a multilingual travel enthusiast and friend of rin. when itsuomi learns of yuki's condition, he takes it in stride, moving yuki's heart. from this one simple gesture, yuki and itsuomi's lives start changing day by day as they let each other into their own worlds.\n",
      "Cosine Similarity: 0.186\n",
      "——————————————————————————————————————————————————\n",
      "\n",
      "Prompt 17: Write an anime synopsis based on the 'School and Team Sports'.\n",
      "Generated: yuuki yuuki is a high school student who has a passion for baseball. however, he is not the only one who has a passion for baseball. he has a passion for baseball, and he has a passion for baseball. he has a passion for baseball, and he has a passion for baseball. he has a passion for baseball, and he has a passion for baseball. he has a passion for baseball. he has a passion for baseball.\n",
      "True:      when minato kiyomizu wakes up in a hospital, he learns that he has been comatose for 203 days. as it turns out, a car accident has caused him to lose all memory of his middle school journey. eventually, he discovers his former glory in water polo and desires to continue where he has left off. however, embarrassingly becoming aware of the massive disparity between his old and current self, minato begins intensive rehabilitation in hopes of starting anewa life without water polo. yet, minato is promptly reminded of his past prowess and a promise on his very first day in yamanami high school. soon enough, despite being completely aware of his ineptitude, he joins the school's water polo club! while needing to relearn the sport's basics, he, along with his clubmates, must recruit new members to attain the required sevenman roster. with that, minato tries to rekindle his deeply buried talent for water poloand become one of japan's renowned players once again.\n",
      "Cosine Similarity: 0.260\n",
      "——————————————————————————————————————————————————\n",
      "\n",
      "Prompt 18: Write an anime synopsis that matches 'Drama, Mystery and Supernatural'.\n",
      "Generated: the story is about a young girl named yuuki, who has been living in a secluded village for a long time. yuuki is a young girl who has been living in a village for a long time. she is a young girl who has been living in a village for a long time. yuuki is a young girl who has been living in a village for a long time.\n",
      "True:      while going through old documents, roberto nicholas comes upon a peculiar record. it details the agreement of a witch who concocted a soup that supposedly granted generations of popes with longevity in return for her exoneration from the brutal witch trials. curious as to why the vatican treated the record with such secrecy and whether the elixir of longevity truly exists, roberto and his partner, josef kou hiraga, seek to recreate the witchs soup.\n",
      "Cosine Similarity: 0.257\n",
      "——————————————————————————————————————————————————\n",
      "\n",
      "Prompt 19: Write an anime synopsis based on the 'Mythology and School'.\n",
      "Generated: yuuki yuuki is a high school student who has a strong desire to become a teacher at a high school. however, he has a desire to become a teacher at a high school. yuuki has a desire to become a teacher at a high school. yuuki has a desire to become a teacher at a high school. yuuki has a desire to become a teacher at a high school. however, yuuki yuuki is a high school student. yuuki is a young girl with a strong desire to become\n",
      "True:      samatarou is not just an average highschool boy, the truth is that he is the son of a god, his mother is a goddess and his sisters are candidates to become goddesses. they are living in the human world, because they want their boy to learn about the human customs and the habits of the creatures that they are protecting, so that in this way samatarou will become a better god. tenko is a angel assigned to look after samatarou. she's born the same day, same year as samatarou and have been close friends ever since. life seems normal but things start to change with the appearance of a transfer student named kumiko. samatarou falls in love with her and from now on, things will be a lot more different for him. his decision of making her fall in love with him without using his powers will put him in trouble.\n",
      "Cosine Similarity: 0.236\n",
      "——————————————————————————————————————————————————\n",
      "\n",
      "Prompt 20: Generate an anime synopsis for 'Kids'.\n",
      "Generated: a series of shorts based on the tv series.\n",
      "True:      stray sheep is based on the tales of poe, a naive, independent and curious ram who finds himself sleepwalking into the most unpredictable situations on his path to reuniting with his herd and finding the ewe of his dreams.\n",
      "Cosine Similarity: 0.212\n",
      "——————————————————————————————————————————————————\n"
     ]
    }
   ],
   "source": [
    "# --- Evaluation & Visualization ---\n",
    "sbert = SentenceTransformer(\"all-MiniLM-L6-v2\")\n",
    "results = []\n",
    "\n",
    "for i in range(len(prompts)):\n",
    "    prompt = prompts[i]\n",
    "    reference = true_synopsis[i]\n",
    "    tag = tags[i]\n",
    "\n",
    "    input_ids = tokenizer(prompt, return_tensors=\"pt\", truncation=True, padding=\"max_length\", max_length=max_input_len).input_ids.to(model.device)\n",
    "\n",
    "    with torch.no_grad():\n",
    "        output = model.generate(input_ids, max_length=max_target_len, num_beams=4, early_stopping=True)\n",
    "        generated = tokenizer.decode(output[0], skip_special_tokens=True)\n",
    "\n",
    "    emb_tag = sbert.encode(tag)\n",
    "    emb_gen = sbert.encode(generated)\n",
    "    similarity = cosine_similarity([emb_tag], [emb_gen])[0][0]\n",
    "\n",
    "    results.append({\n",
    "        \"tags_combined\": tag,\n",
    "        \"prompt\": input_prompts[i],\n",
    "        \"generated\": generated,\n",
    "        \"true\": reference,\n",
    "        \"cosine_similarity\": similarity\n",
    "    })\n",
    "\n",
    "    if i < 20:\n",
    "        print(f\"\\nPrompt {i+1}: {input_prompts[i]}\")\n",
    "        print(f\"Generated: {generated}\")\n",
    "        print(f\"True:      {reference}\")\n",
    "        print(f\"Cosine Similarity: {similarity:.3f}\")\n",
    "        print(\"—\" * 50)\n",
    "\n",
    "df_results = pd.DataFrame(results)\n",
    "df_results.to_csv(\"t5_small_results.csv\", index=False)"
   ]
  },
  {
   "cell_type": "code",
   "execution_count": 20,
   "metadata": {
    "colab": {
     "base_uri": "https://localhost:8080/",
     "height": 696
    },
    "executionInfo": {
     "elapsed": 354,
     "status": "ok",
     "timestamp": 1750726049848,
     "user": {
      "displayName": "Noella Buti",
      "userId": "06118441993782992948"
     },
     "user_tz": 420
    },
    "id": "KnFyhMz0PTJ2",
    "outputId": "cba204a9-8087-4f4a-ada0-9629e0a559f3"
   },
   "outputs": [
    {
     "name": "stderr",
     "output_type": "stream",
     "text": [
      "/usr/local/lib/python3.11/dist-packages/sklearn/utils/deprecation.py:151: FutureWarning: 'force_all_finite' was renamed to 'ensure_all_finite' in 1.6 and will be removed in 1.8.\n",
      "  warnings.warn(\n",
      "/usr/local/lib/python3.11/dist-packages/umap/umap_.py:1952: UserWarning: n_jobs value 1 overridden to 1 by setting random_state. Use no seed for parallelism.\n",
      "  warn(\n"
     ]
    },
    {
     "data": {
      "image/png": "[encoded data removed]",
      "text/plain": [
       "<Figure size 1000x600 with 1 Axes>"
      ]
     },
     "metadata": {},
     "output_type": "display_data"
    }
   ],
   "source": [
    "# --- UMAP Visualization ---\n",
    "texts = tags + [r[\"generated\"] for r in results]\n",
    "embeddings = sbert.encode(texts)\n",
    "reducer = umap.UMAP(n_neighbors=5, min_dist=0.3, metric=\"cosine\", random_state=42)\n",
    "reduced = reducer.fit_transform(embeddings)\n",
    "n = len(tags)\n",
    "tags_2d = reduced[:n]\n",
    "gen_2d = reduced[n:]\n",
    "\n",
    "plt.figure(figsize=(10, 6))\n",
    "plt.scatter(tags_2d[:, 0], tags_2d[:, 1], c='blue', label='Tags (Reference)', alpha=0.7, s=60)\n",
    "plt.scatter(gen_2d[:, 0], gen_2d[:, 1], c='red', label='Generated Synopsis', alpha=0.7, s=60)\n",
    "\n",
    "for i in range(n):\n",
    "    plt.plot([tags_2d[i, 0], gen_2d[i, 0]], [tags_2d[i, 1], gen_2d[i, 1]], 'gray', alpha=0.3)\n",
    "\n",
    "plt.title(\"UMAP Projection of Tags vs Generated Synopses\")\n",
    "plt.xlabel(\"UMAP Dimension 1\")\n",
    "plt.ylabel(\"UMAP Dimension 2\")\n",
    "plt.legend()\n",
    "plt.grid(True)\n",
    "plt.tight_layout()\n",
    "plt.show()"
   ]
  }
 ],
 "metadata": {
  "accelerator": "GPU",
  "colab": {
   "authorship_tag": "ABX9TyOkavyshp45pvluzKbtdbmU",
   "gpuType": "A100",
   "machine_shape": "hm",
   "mount_file_id": "1mVHCUaIS3T_-CYrDcT3G3r6I9ZAaUPxK",
   "provenance": []
  },
  "kernelspec": {
   "display_name": "Python 3",
   "name": "python3"
  },
  "language_info": {
   "name": "python"
  }
 },
 "nbformat": 4,
 "nbformat_minor": 0
}
