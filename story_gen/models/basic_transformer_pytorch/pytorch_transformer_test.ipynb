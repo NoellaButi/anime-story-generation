{
 "cells": [
  {
   "cell_type": "code",
   "execution_count": null,
   "id": "94da2b95",
   "metadata": {},
   "outputs": [],
   "source": [
    "# Author: Yuki Rivera\n",
    "# This notebook contains the code to evaluate the basic transformer model built and trained in PyTorch"
   ]
  },
  {
   "cell_type": "code",
   "execution_count": null,
   "id": "9331f33e",
   "metadata": {
    "colab": {
     "base_uri": "https://localhost:8080/"
    },
    "executionInfo": {
     "elapsed": 1690,
     "status": "ok",
     "timestamp": 1749103790373,
     "user": {
      "displayName": "Yukiko Rivera",
      "userId": "02699279760362859349"
     },
     "user_tz": 420
    },
    "id": "9331f33e",
    "outputId": "96282cbc-9f67-44da-aa7c-a116fc5e5cdc"
   },
   "outputs": [
    {
     "name": "stdout",
     "output_type": "stream",
     "text": [
      "Mounted at /content/drive\n"
     ]
    }
   ],
   "source": [
    "# from google.colab import drive\n",
    "# drive.mount('/content/drive', force_remount=True)"
   ]
  },
  {
   "cell_type": "markdown",
   "id": "6516d193",
   "metadata": {},
   "source": [
    "### Sets the file paths"
   ]
  },
  {
   "cell_type": "code",
   "execution_count": null,
   "id": "f46fe5ca",
   "metadata": {},
   "outputs": [],
   "source": [
    "trial = \"3rd_10k/\"\n",
    "path = \"/content/drive/path/to/project/\"\n",
    "output_dir = path + trial + \"results\"\n",
    "vocab_path = output_dir + \"/vocab.pkl\"\n",
    "model_path = output_dir + \"/transformer_model.pt\""
   ]
  },
  {
   "cell_type": "code",
   "execution_count": 23,
   "id": "lt1JHDhSkY7z",
   "metadata": {
    "executionInfo": {
     "elapsed": 26,
     "status": "ok",
     "timestamp": 1749103790404,
     "user": {
      "displayName": "Yukiko Rivera",
      "userId": "02699279760362859349"
     },
     "user_tz": 420
    },
    "id": "lt1JHDhSkY7z"
   },
   "outputs": [],
   "source": [
    "import sys\n",
    "sys.path.append(path)"
   ]
  },
  {
   "cell_type": "markdown",
   "id": "347a8c66",
   "metadata": {},
   "source": [
    "### Imports necessary libraries"
   ]
  },
  {
   "cell_type": "code",
   "execution_count": 24,
   "id": "e08c0146",
   "metadata": {
    "executionInfo": {
     "elapsed": 1,
     "status": "ok",
     "timestamp": 1749103790406,
     "user": {
      "displayName": "Yukiko Rivera",
      "userId": "02699279760362859349"
     },
     "user_tz": 420
    },
    "id": "e08c0146"
   },
   "outputs": [],
   "source": [
    "import torch\n",
    "import zipfile\n",
    "from tokenizer_utils import encode\n",
    "import pandas as pd\n",
    "import pickle\n",
    "from sentence_transformers import SentenceTransformer, util\n",
    "from transformer_model import TransformerModel"
   ]
  },
  {
   "cell_type": "code",
   "execution_count": 25,
   "id": "8b773985",
   "metadata": {
    "executionInfo": {
     "elapsed": 1,
     "status": "ok",
     "timestamp": 1749103790408,
     "user": {
      "displayName": "Yukiko Rivera",
      "userId": "02699279760362859349"
     },
     "user_tz": 420
    },
    "id": "8b773985"
   },
   "outputs": [],
   "source": [
    "device = torch.device(\"cuda\" if torch.cuda.is_available() else \"cpu\")"
   ]
  },
  {
   "cell_type": "markdown",
   "id": "ca3f8c53",
   "metadata": {
    "id": "ca3f8c53"
   },
   "source": [
    "### Global variables & hyper parameters"
   ]
  },
  {
   "cell_type": "code",
   "execution_count": 26,
   "id": "babc98fd",
   "metadata": {
    "executionInfo": {
     "elapsed": 26,
     "status": "ok",
     "timestamp": 1749103790435,
     "user": {
      "displayName": "Yukiko Rivera",
      "userId": "02699279760362859349"
     },
     "user_tz": 420
    },
    "id": "babc98fd"
   },
   "outputs": [],
   "source": [
    "# Special tokens\n",
    "PAD_TOKEN = \"<pad>\"\n",
    "UNK_TOKEN = \"<unk>\"\n",
    "BOS_TOKEN = \"<bos>\"\n",
    "EOS_TOKEN = \"<eos>\""
   ]
  },
  {
   "cell_type": "code",
   "execution_count": null,
   "id": "ae17aa8c",
   "metadata": {
    "executionInfo": {
     "elapsed": 3,
     "status": "ok",
     "timestamp": 1749103790436,
     "user": {
      "displayName": "Yukiko Rivera",
      "userId": "02699279760362859349"
     },
     "user_tz": 420
    },
    "id": "ae17aa8c"
   },
   "outputs": [],
   "source": [
    "data_size = 500\n",
    "\n",
    "# max prompt length\n",
    "input_len = 50\n",
    "# # max synopsis length\n",
    "output_len = 150\n",
    "\n",
    "vocab_length = 8000 \n",
    "\n",
    "# embedding + hidden dimension size\n",
    "d_model_size = 128 \n",
    "# Number of attention heads\n",
    "num_head = 2 \n",
    "# Number of encoder-decoder layers\n",
    "layers = 2 \n",
    "# size of feedforward hidden layer\n",
    "forward_dim = 2 * d_model_size\n",
    "# Regularization (dropout probability)\n",
    "dropout_prob = 0.1 \n"
   ]
  },
  {
   "cell_type": "markdown",
   "id": "860bd50b",
   "metadata": {
    "id": "860bd50b"
   },
   "source": [
    "### Loads the test data"
   ]
  },
  {
   "cell_type": "code",
   "execution_count": null,
   "id": "6a47808d",
   "metadata": {
    "executionInfo": {
     "elapsed": 72,
     "status": "ok",
     "timestamp": 1749103790509,
     "user": {
      "displayName": "Yukiko Rivera",
      "userId": "02699279760362859349"
     },
     "user_tz": 420
    },
    "id": "6a47808d"
   },
   "outputs": [],
   "source": [
    "testing_df = pd.read_csv(path + \"/prompt_synopsis_test.csv\")\n",
    "\n",
    "testing_df = testing_df.iloc[[0, 4, 16, 25, 47],0:]\n",
    "testing_df = testing_df.reset_index(drop=True)\n",
    "\n",
    "prompts = testing_df[\"prompt\"].tolist()\n",
    "references = testing_df[\"synopsis\"].tolist()"
   ]
  },
  {
   "cell_type": "markdown",
   "id": "9ba93b29",
   "metadata": {
    "id": "9ba93b29"
   },
   "source": [
    "### Loads the vocab"
   ]
  },
  {
   "cell_type": "code",
   "execution_count": 31,
   "id": "7796dc82",
   "metadata": {
    "executionInfo": {
     "elapsed": 6,
     "status": "ok",
     "timestamp": 1749103790555,
     "user": {
      "displayName": "Yukiko Rivera",
      "userId": "02699279760362859349"
     },
     "user_tz": 420
    },
    "id": "7796dc82"
   },
   "outputs": [],
   "source": [
    "with open(vocab_path, \"rb\") as f:\n",
    "    vocab = pickle.load(f)"
   ]
  },
  {
   "cell_type": "markdown",
   "id": "638af101",
   "metadata": {
    "id": "638af101"
   },
   "source": [
    "### Rebuild id_to_token"
   ]
  },
  {
   "cell_type": "code",
   "execution_count": 32,
   "id": "ff80ceb7",
   "metadata": {
    "executionInfo": {
     "elapsed": 6,
     "status": "ok",
     "timestamp": 1749103790556,
     "user": {
      "displayName": "Yukiko Rivera",
      "userId": "02699279760362859349"
     },
     "user_tz": 420
    },
    "id": "ff80ceb7"
   },
   "outputs": [],
   "source": [
    "id_to_token = {idx: tok for tok, idx in vocab.items()}"
   ]
  },
  {
   "cell_type": "markdown",
   "id": "e72f27cd",
   "metadata": {
    "id": "e72f27cd"
   },
   "source": [
    "### Encodes Prompts"
   ]
  },
  {
   "cell_type": "code",
   "execution_count": 33,
   "id": "0c56b339",
   "metadata": {
    "executionInfo": {
     "elapsed": 4,
     "status": "ok",
     "timestamp": 1749103790556,
     "user": {
      "displayName": "Yukiko Rivera",
      "userId": "02699279760362859349"
     },
     "user_tz": 420
    },
    "id": "0c56b339"
   },
   "outputs": [],
   "source": [
    "input_tensors = [\n",
    "    torch.tensor(encode(p, vocab, input_len)) for p in prompts\n",
    "]\n",
    "input_tensors = torch.stack(input_tensors).to(device)"
   ]
  },
  {
   "cell_type": "markdown",
   "id": "e91e5dca",
   "metadata": {
    "id": "e91e5dca"
   },
   "source": [
    "### Loads the model"
   ]
  },
  {
   "cell_type": "code",
   "execution_count": 34,
   "id": "AL3VPviejj_0",
   "metadata": {
    "executionInfo": {
     "elapsed": 113,
     "status": "ok",
     "timestamp": 1749103790666,
     "user": {
      "displayName": "Yukiko Rivera",
      "userId": "02699279760362859349"
     },
     "user_tz": 420
    },
    "id": "AL3VPviejj_0"
   },
   "outputs": [],
   "source": [
    "model = TransformerModel(\n",
    "    vocab_size=len(vocab),\n",
    "    d_model=d_model_size,\n",
    "    nhead=num_head,\n",
    "    num_layers=layers,\n",
    "    dim_feedforward=forward_dim,\n",
    "    dropout=dropout_prob,\n",
    "    max_len=max(input_len, output_len)\n",
    ").to(device)"
   ]
  },
  {
   "cell_type": "code",
   "execution_count": 35,
   "id": "FJ09qY6UkEPj",
   "metadata": {
    "colab": {
     "base_uri": "https://localhost:8080/"
    },
    "executionInfo": {
     "elapsed": 1316,
     "status": "ok",
     "timestamp": 1749103791981,
     "user": {
      "displayName": "Yukiko Rivera",
      "userId": "02699279760362859349"
     },
     "user_tz": 420
    },
    "id": "FJ09qY6UkEPj",
    "outputId": "e670aac6-5213-4afe-b76c-43cbd405d8b7"
   },
   "outputs": [
    {
     "data": {
      "text/plain": [
       "<All keys matched successfully>"
      ]
     },
     "execution_count": 35,
     "metadata": {},
     "output_type": "execute_result"
    }
   ],
   "source": [
    "model.load_state_dict(torch.load(model_path, map_location=device))"
   ]
  },
  {
   "cell_type": "markdown",
   "id": "22da18eb",
   "metadata": {
    "id": "22da18eb"
   },
   "source": [
    "### Function to generate a text sequence"
   ]
  },
  {
   "cell_type": "code",
   "execution_count": null,
   "id": "24438ba9",
   "metadata": {
    "executionInfo": {
     "elapsed": 9,
     "status": "ok",
     "timestamp": 1749105007595,
     "user": {
      "displayName": "Yukiko Rivera",
      "userId": "02699279760362859349"
     },
     "user_tz": 420
    },
    "id": "24438ba9"
   },
   "outputs": [],
   "source": [
    "\n",
    "def decode(model, src_tensor, max_len, vocab):\n",
    "    # sets the evaluation mode for the model\n",
    "    model.eval()\n",
    "\n",
    "    eos_id = vocab.get(\"<eos>\") or vocab.get(\"<EOS>\") \n",
    "    bos_id = vocab.get(\"<bos>\") or vocab.get(\"<BOS>\") \n",
    "\n",
    "    if eos_id is None or bos_id is None:\n",
    "        raise ValueError(\"Missing <bos> or <eos> in vocab.\")\n",
    "\n",
    "\n",
    "    # disables gradient tracking\n",
    "    with torch.no_grad():\n",
    "\n",
    "        # encodes the input prompt\n",
    "        memory = model.encoder(model.embedding(src_tensor) + model.positional_encoding[:, :src_tensor.size(1), :].to(src_tensor.device))\n",
    "\n",
    "        # Start with BOS token\n",
    "        tgt = torch.tensor([[bos_id]], device=src_tensor.device)\n",
    "\n",
    "        for _ in range(max_len):\n",
    "            # decodes using current tokens\n",
    "            tgt_embed = model.embedding(tgt) + model.positional_encoding[:, :tgt.size(1), :].to(tgt.device)\n",
    "            output = model.decoder(tgt_embed, memory)\n",
    "            logits = model.fc_out(output)\n",
    "\n",
    "            # samples next token with temperature\n",
    "            temperature = 1.2  \n",
    "            probs = torch.softmax(logits[:, -1, :] / temperature, dim=-1)\n",
    "            next_token = torch.multinomial(probs, num_samples=1)\n",
    "\n",
    "            # appends the newly generated token to the sequence\n",
    "            tgt = torch.cat([tgt, next_token], dim=1)\n",
    "            # if the model predicts the eos token, stop decoding early.\n",
    "            if next_token[0, 0].item() == eos_id:\n",
    "                break\n",
    "    # returns the generated token ids\n",
    "    return tgt[0].tolist()\n"
   ]
  },
  {
   "cell_type": "markdown",
   "id": "d38c5a4b",
   "metadata": {},
   "source": [
    "### Function to generate output"
   ]
  },
  {
   "cell_type": "code",
   "execution_count": null,
   "id": "85c81e5e",
   "metadata": {
    "executionInfo": {
     "elapsed": 38,
     "status": "ok",
     "timestamp": 1749104473811,
     "user": {
      "displayName": "Yukiko Rivera",
      "userId": "02699279760362859349"
     },
     "user_tz": 420
    },
    "id": "85c81e5e"
   },
   "outputs": [],
   "source": [
    "def evaluate_and_print_samples(model, input_tensors, prompts, references, vocab, id_to_token, print_interval=100, print_count=10):\n",
    "    generated_texts = []\n",
    "\n",
    "    for i, input_tensor in enumerate(input_tensors):\n",
    "        try:\n",
    "            # transforms the tensor shape to match the model's input expectations\n",
    "            input_tensor = input_tensor.unsqueeze(0)  \n",
    "\n",
    "            # gets a list of token ids\n",
    "            output_ids = decode(model, input_tensor, max_len=output_len, vocab=vocab)\n",
    "\n",
    "            # converts the output token ids back into words\n",
    "            tokens = [id_to_token[idx] for idx in output_ids if idx not in {vocab[\"<pad>\"], vocab[\"<bos>\"], vocab[\"<eos>\"]}]\n",
    "\n",
    "            generated = \" \".join(tokens)\n",
    "\n",
    "            generated_texts.append(generated)\n",
    "\n",
    "        except Exception as e:\n",
    "            print(f\"[Warning] Skipped sample {i} due to error: {e}\")\n",
    "            generated = \"[Error during generation]\"\n",
    "\n",
    "\n",
    "        # Print samples at the given interval\n",
    "        if i % print_interval == 0 or (i == len(input_tensors) - 1 and len(input_tensors) < print_interval):\n",
    "            print(f\"\\n--- Sample group at index {i} ---\")\n",
    "            start = max(0, len(generated_texts) - print_count)\n",
    "            for j in range(start, len(generated_texts)):\n",
    "                print(f\"[{j}] Prompt     : {prompts[j]}\")\n",
    "                print(f\"     Reference : {references[j]}\")\n",
    "                print(f\"     Generated : {generated_texts[j]}\\n\")\n",
    "\n",
    "\n",
    "    return generated_texts\n"
   ]
  },
  {
   "cell_type": "markdown",
   "id": "af09a315",
   "metadata": {},
   "source": [
    "### Generate sample output"
   ]
  },
  {
   "cell_type": "code",
   "execution_count": 49,
   "id": "26a1ec1d",
   "metadata": {
    "colab": {
     "base_uri": "https://localhost:8080/"
    },
    "executionInfo": {
     "elapsed": 5618,
     "status": "ok",
     "timestamp": 1749105016386,
     "user": {
      "displayName": "Yukiko Rivera",
      "userId": "02699279760362859349"
     },
     "user_tz": 420
    },
    "id": "26a1ec1d",
    "outputId": "a8b5c3ca-acfc-4228-eb93-27754b50555b"
   },
   "outputs": [
    {
     "name": "stdout",
     "output_type": "stream",
     "text": [
      "\n",
      "--- Sample group at index 0 ---\n",
      "[0] Prompt     : Write an anime synopsis that matches 'Fantasy and Sci-Fi'.\n",
      "     Reference : armored beings called garm engage the formless monsters called seal who are destroying the planet annwn.\n",
      "     Generated : productions rena masters masters masters masters masters earning earning earning earning quality animals animals animals animals animals animals animals animals animals lone masters animals cards cards cards lone lone become animals animals animals animals animals diverse realm music animals music metal music music music music music music animals music music music music music music music music music music music music classical music music music music music music music music music music music music music music yet music music music music music music and classical and and and and dodging and music music music music music music music music music music instrument music music music music music music music music music music music music music music music music music music music music music thinking standard standard standard standard standard standard standard standard standard standard legs 2 2 2 racing children children children children children children specialty gaze rules and knowledge music\n",
      "\n",
      "\n",
      "--- Sample group at index 4 ---\n",
      "[0] Prompt     : Write an anime synopsis that matches 'Fantasy and Sci-Fi'.\n",
      "     Reference : armored beings called garm engage the formless monsters called seal who are destroying the planet annwn.\n",
      "     Generated : productions rena masters masters masters masters masters earning earning earning earning quality animals animals animals animals animals animals animals animals animals lone masters animals cards cards cards lone lone become animals animals animals animals animals diverse realm music animals music metal music music music music music music animals music music music music music music music music music music music music classical music music music music music music music music music music music music music music yet music music music music music music and classical and and and and dodging and music music music music music music music music music music instrument music music music music music music music music music music music music music music music music music music music music music thinking standard standard standard standard standard standard standard standard standard standard legs 2 2 2 racing children children children children children children specialty gaze rules and knowledge music\n",
      "\n",
      "[1] Prompt     : Generate an anime story idea similar to 'Hyperdimension Neptunia OVA'.\n",
      "     Reference : the four goddesses alongside their sistersnepgear, uni, rom, and rammeet at a famous mountain resort in lastation kingdom seeking that nostalgic summer vacation feeling. but their plan to sit back and relax in a hot spring is interrupted when the younger sisters are swept into a portal leading to a parallel universe! the seemingly unfortunate situation takes a comical turn when they are greeted by a familiar face.\n",
      "     Generated : nicknamed nicknamed challenges challenges challenges challenges challenges challenges challenges challenges challenges challenges challenges challenges challenges challenges challenges familiar familiar familiar familiar familiar familiar familiar familiar familiar familiar familiar familiar familiar familiar familiar familiar familiar familiar familiar familiar familiar familiar familiar familiar familiar familiar familiar familiar familiar familiar familiar familiar challenges challenges challenges challenges challenges challenges challenges challenges challenges challenges challenges challenges challenges challenges challenges challenges challenges challenges challenges challenges challenges challenges challenges challenges challenges challenges challenges challenges challenges challenges challenges challenges challenges challenges challenges challenges challenges challenges challenges challenges challenges challenges challenges challenges challenges challenges challenges challenges challenges challenges challenges challenges challenges challenges challenges challenges challenges challenges challenges challenges challenges challenges challenges challenges challenges challenges challenges challenges challenges challenges challenges challenges challenges challenges challenges challenges challenges challenges challenges challenges challenges challenges challenges challenges challenges challenges challenges challenges challenges challenges challenges challenges tennis challenges challenges challenges challenges challenges challenges challenges challenges\n",
      "\n",
      "[2] Prompt     : Create an anime synopsis with 'Action and Supernatural' and 'School and Vampire'.\n",
      "     Reference : long ago lived the nobles, an ancient race of immortal supernatural beings. they were revered as rulers and gods. among the nobles was the noblesse, a powerful individual shrouded in mystery named cadis etrama di raizel, or rai. upon awakening in south korea after an 820yearlong sleep, rai sets to find his loyal and devoted servant, frankenstein, whom he discovers to be the current director of ye ran high school. in his wish to learn more about modern civilization, rai enrolls as a student to better experience life in the modern world. noblesse: awakening details the beginning of rai's new life as a high school student as he spends time with friends and fights threats both human and supernatural in order to prevent their schemes from harming korea.\n",
      "     Generated : tensions tensions tensions tensions tensions tensions tensions tensions tensions tensions tensions tensions tensions tensions tensions tensions tensions tensions tensions tensions tensions tensions tensions tensions tensions tensions tensions tensions tensions tensions tensions tensions tensions tensions tensions tensions tensions tensions tensions tensions tensions tensions tensions tensions tensions tensions tensions tensions tensions tensions tensions tensions tensions tensions tensions tensions tensions tensions tensions tensions tensions tensions tensions tensions tensions tensions tensions tensions tensions tensions tensions tensions tensions tensions tensions tensions tensions tensions tensions tensions tensions tensions tensions tensions tensions tensions tensions tensions tensions tensions tensions tensions wonders wonders wonders tensions tensions tensions tensions tensions tensions tensions tensions tensions tensions tensions tensions tensions tensions tensions tensions tensions tensions tensions tensions tensions tensions tensions tensions tensions tensions tensions tensions tensions tensions tensions tensions tensions tensions tensions tensions tensions tensions tensions tensions tensions tensions tensions tensions tensions tensions tensions tensions tensions tensions tensions tensions tensions tensions tensions\n",
      "\n",
      "[3] Prompt     : Write an anime idea in 'Action and Adventure' for 'Shounen'.\n",
      "     Reference : the year is 1999. morioh, a normally quiet and peaceful town, has recently become a hotbed of strange activity. joutarou kuujou, now a marine biologist, heads to the mysterious town to meet jousuke higashikata. while the two may seem like strangers at first, jousuke is actually the illegitimate child of joutarou's grandfather, joseph joestar. when they meet, joutarou realizes that he may have more in common with jousuke than just a blood relation. along with the mildmannered kouichi hirose and the boisterous okuyasu nijimura, the group dedicates themselves to investigating recent disappearances and other suspicious occurrences within morioh. aided by the power of stands, the four men will encounter danger at every street corner, as it is up to them to unravel the town's secrets, before another occurs.\n",
      "     Generated : occasionally occasionally occasionally occasionally occasionally occasionally occasionally occasionally occasionally occasionally occasionally occasionally akudama akudama akudama akudama akudama akudama akudama akudama akudama akudama occasionally occasionally occasionally calm akudama challenged challenged challenged challenged challenged challenged challenged challenged challenged challenged challenged challenged challenged challenged city city containing city city city city city city city city city city city city city city city city city city city city city city city city city city city city city city city city city city city city city city city city city city city city city city city city city city city city city city city city city city shape shape shape city city city city city city city city city city city city city city city city city city city city city city city city city city city city now city city city city city city city city city city city city city city city city\n",
      "\n",
      "[4] Prompt     : Provide me an anime story idea in 'Drama, Horror, Sci-Fi and Suspense' with 'Psychological and Super Power', similar to 'Sci-Fi Harry'.\n",
      "     Reference : harry is definitely not your average american teenager. instead, he is the epitome of an alienated youthfriendless at school, extremely weird, and nervous to the point of paranoia. but a chance occurrence causes harry to start to demonstrate what appear to be psychic powersyet he neither believes in them nor consciously controls them. however, there are other ominous forces at work who do believe in harry and attempt to make use of him in ways that are threatening and frightful.\n",
      "     Generated : pero pero pero pero pero pero pero pero pero pero pero pero pero pero historical pero pero pero pero pero pero pero pero pero pero pero pero seiya seiya wasteland crushed pero pero pero pero pero pero departs pero pero pero pero date pero departs ghouls ghouls ghouls pero pero bombs known pero pero pero pero pero pero pero pero pero pero pero pero pero pero pero pero pero pero pero animals animals hatred pero pero pero pero pero departs pero departs physical departs pero pero pero pero departs wall wall wall wall wall wall wall wall wall wall wall kurumi shadows shadows shadows shadows shadows shadows shadows shadows shadows shadows shadows flying shadows shadows shadows shadows shadows damaged bounty shadows shadows shadows shadows shadows shadows shadows shadows shadows shadows shadows shadows figures tensions the executive executive executive executive so shadows munto club buster ye racer jail executive will pero\n",
      "\n"
     ]
    }
   ],
   "source": [
    "generated_texts = evaluate_and_print_samples(\n",
    "    model=model,\n",
    "    input_tensors=input_tensors,\n",
    "    prompts=prompts,\n",
    "    references=references,\n",
    "    vocab=vocab,\n",
    "    id_to_token=id_to_token\n",
    ")"
   ]
  },
  {
   "cell_type": "markdown",
   "id": "aaa5c1d5",
   "metadata": {
    "id": "aaa5c1d5"
   },
   "source": [
    "### Computes Cosine Similarity"
   ]
  },
  {
   "cell_type": "code",
   "execution_count": null,
   "id": "e44c4d39",
   "metadata": {
    "colab": {
     "base_uri": "https://localhost:8080/",
     "height": 493,
     "referenced_widgets": [
      "2dc23ad94d39472bad6a049471ef3c9d",
      "8acba3e2142248c78c840146bc23f1f8",
      "de86ce5bb2134b2bb4f813e0abf75acd",
      "3568cfcaf3c74db3aa0c7639404432ea",
      "9a9a3aa8211f4606aaf0288171701ddb",
      "437baedc664145dba5f507de8eea4192",
      "a01933ba1180491fbbb105385265665b",
      "3ba8e9a854fd417ab6f864583379c4b5",
      "5aeb81eebe3f4dfe98dac6580a60bf61",
      "51d820334551487cb5751e4d26b61bd2",
      "de552e342cd741fe9a773d6040f7e322",
      "b11eab450c8d479f9abf9a56658746e3",
      "5fcbc930a1404700aa24e7e737b9ef51",
      "fd875a63e0864599b1858f036a5ddb1d",
      "fe3c8ba7f0ac47ea9d4709aeae4b3ede",
      "eed778c910f74740b636fd1ec195de13",
      "a2b8bdf43cd94c9aba81146df9ccd62e",
      "eb4b464b4a154209a9b12541249c9397",
      "466476936dd14796a5123e11cce3643f",
      "a370cacc68744057b0e6807144ddf10d",
      "cf1b41600d934e51a56cb6a31806fcf5",
      "303c6fa9706d461d8d986b675fbc5a6e",
      "a4cb2d1b2ef741c3bb8c7c43fd58f39c",
      "bb3877698c014d4fbb9d545f754d832f",
      "738e782493874877a2eafba243675914",
      "d2a9ba3496e34238a99d6bd8dab51199",
      "84c05252d04248b799241fc3c30a69dd",
      "a0d0067ccb8041018b5c1cc7cf1b5fcf",
      "73895138bf7d4d84868d47bfc5b6d1aa",
      "2eb4a2b9f5c743718ea8e28171a23ba6",
      "d1c8197eafaa4a0daaf5b4cbce93ba95",
      "f708dde640044eba8332e17334a52292",
      "036a712a1f284dbaa5b5736f68fa4fb2",
      "94f6bfc04c594a02ba8bbcf7831bb9e7",
      "7c69fa379e7649e0b8a6ba26aeb8c7e0",
      "2ab838cf4f5b4100b42b98a7d2aec18c",
      "0bff098755614a269109a601f52b3f7b",
      "bb7e6e7c769943769688cabcf6a194d8",
      "7257f981125847dfa396803c57389142",
      "69fd636614f244e1b6afd7c458baaf55",
      "8ac2724446ae4b39aa32dcb3183fcf98",
      "4cd60db5357f497f959dc0c420167532",
      "7671459b17f74f78816b36a84b73e2ee",
      "00cd0fb08ada410f9ad5e3245c18e60a",
      "5bb75aa50d2e4a1ea65432b7695221d4",
      "24afbf92b81b448a8f563df8285eb8de",
      "d63e7c12338c475aa569bd5f1648760c",
      "057f470cc03c46398399c571391f81df",
      "60d45e13d0134bb3a18c9cb55748582a",
      "2ac2c74083de42e591fe718af5919406",
      "7dd012a2f07344188d4d7331ce8d7f54",
      "666ef4a5bd8d4cda83ea1a19ecfa8572",
      "036c111190614340a20e49c09a23b899",
      "cf758bdb65424841b209de951ba7ec82",
      "4cdce9a277ec40b09d816f75944aa0ee",
      "b94a07dc57774dd8a8a46fb117846238",
      "240f14680ec64efb9a7241ddf5055043",
      "798f497ad1204b2da21499f0f6f5a8f3",
      "ba8c91497ba643cf8cd79ac7e73e6cb9",
      "4099f47799374bf5861ee0f6385383dd",
      "d0f63501f40e4593b347c811761c9023",
      "37f5ccadaf054f75b000dda9541f91d3",
      "66e80074f1d44dd5820e6cceb2cdaec2",
      "9e74cfa3a40b481b9feb228f37b07858",
      "813ac4b80e1a4f50ad1f4ce77048f96e",
      "0e7818d3354f42e8a6090f2bc728c6fe",
      "7f2b9ffd1ae548189daf10c9228a08c9",
      "ec739f83b0034bf887ce3746cb4741f7",
      "1896153f627247b4b406414b0958c6b3",
      "455c01a78b85408791bd212684c3c8af",
      "ea87a37a0f094e919ddd54256cbd21e2",
      "461ad791207c468d853ecff4537358a3",
      "e990af68000c4eeb9bed20c887ce3b56",
      "b3cd8c5f273848febb49b0fe1bfde6a0",
      "b466b280eda34be4846b42ecdadbf596",
      "e4eb9ecaebdd4da39b0f2e528404136f",
      "d9a8a40e8ac94b058b3e193488ca2082",
      "648af145e331422b8a4852a0b0a0badc",
      "4ef06a93667145438f8c3c517d3911af",
      "0bca786dc0b44fb39137432b55630028",
      "edf4323645d845748387e56c287b3cfd",
      "8bcb823da0cd4169a4bae786483824d9",
      "04d83872d0004c779bcffbafa0e9a00c",
      "445b4fe8c47c4a64b9e81b0e4c56d92e",
      "e7f378ae80964daabf3876b4937d419f",
      "c9489ce3af7a451589bb97828e95e32b",
      "8f43a8ecce0e493693ce5ca7894fe1e6",
      "9e1a7e9d6643434bbd1e7bc81a15689f",
      "aebd906127b842f1887bee403b5db23d",
      "b46ef59b22cf41eab2c3b6cfa975287f",
      "47f8971ba0c8499a8ad1774f4c08c92f",
      "bbb29727598244b88e561be23f1999d5",
      "b1670514e8ed485c9881aa7aa4c35c1d",
      "4ba6f0f8c08d493c945500b1c00b2ef0",
      "7d9c55f74feb4aa5b0d6cd5d8805c07f",
      "d52716a656964d86bd61654acc7e2b67",
      "f125bfb624a84c66b05926a79dd6449f",
      "5e42cef506f94b409344f54f1ada106b",
      "62301dc6d23346f9b0a5a250a349a123",
      "e6891e3e0edb4efc93a4972f2b1ca05b",
      "2b835e8233454628964e407c70e8850e",
      "bcf11bf4918342ec9347b43304402d75",
      "3597a2e076fb4c41bd2ce8779bb2afdd",
      "58edd786bcbb42399ac86bdbaed6935a",
      "4afb8848dc11407dbde15c7b53a2f65a",
      "e092f56a280a44eda19a1390e58b45ca",
      "1c780866b70c4a18880c4171ee5bb10f",
      "becfeedd1ced4b89b0e85670345c3cc9",
      "7004f737c2a949d1bc1463044d90abf8",
      "cc97fc02935f44ebbb84e463d3580402",
      "74a7afead5be429e9951c7ccf60bb5e2",
      "e9cfd4ba3dc6413fb99cf31a2fdc1add",
      "c04c3c17fb4d4880b4ee62fec3ef2dac",
      "ae5fc416b92547a1b3e2b1d79ce5091b",
      "922c77b8bd9e4bd2b65c17efcd09fd2e",
      "47e25dbc0afd482a84462ec7ae521329",
      "f095ac9e7a6a4e8f920d12922dae494e",
      "e32db08d7eb4426db6786d29c2041cc6",
      "f5788072dcf042fda5438c9c24f519f9",
      "12f8ed46c424423896b5b27cb190c9f9",
      "29384be096134a70a7c5057b9b811cdc"
     ]
    },
    "executionInfo": {
     "elapsed": 9959,
     "status": "ok",
     "timestamp": 1749105149085,
     "user": {
      "displayName": "Yukiko Rivera",
      "userId": "02699279760362859349"
     },
     "user_tz": 420
    },
    "id": "e44c4d39",
    "outputId": "8bdabac5-3de8-41f4-b172-3d74e0e0e3c9"
   },
   "outputs": [],
   "source": [
    "embedder = SentenceTransformer(\"all-MiniLM-L6-v2\")"
   ]
  },
  {
   "cell_type": "code",
   "execution_count": null,
   "id": "791f6fc3",
   "metadata": {
    "executionInfo": {
     "elapsed": 1014,
     "status": "ok",
     "timestamp": 1749105150100,
     "user": {
      "displayName": "Yukiko Rivera",
      "userId": "02699279760362859349"
     },
     "user_tz": 420
    },
    "id": "791f6fc3"
   },
   "outputs": [],
   "source": [
    "gen_embeddings = embedder.encode(generated_texts, convert_to_tensor=True)\n",
    "ref_embeddings = embedder.encode(references, convert_to_tensor=True)\n",
    "\n",
    "cosine_scores = util.cos_sim(gen_embeddings, ref_embeddings).diagonal()"
   ]
  },
  {
   "cell_type": "markdown",
   "id": "3703740f",
   "metadata": {
    "id": "3703740f"
   },
   "source": [
    "### Saves the result to a csv file"
   ]
  },
  {
   "cell_type": "code",
   "execution_count": null,
   "id": "cc636e0b",
   "metadata": {
    "colab": {
     "base_uri": "https://localhost:8080/",
     "height": 321
    },
    "executionInfo": {
     "elapsed": 126,
     "status": "error",
     "timestamp": 1749105161561,
     "user": {
      "displayName": "Yukiko Rivera",
      "userId": "02699279760362859349"
     },
     "user_tz": 420
    },
    "id": "cc636e0b",
    "outputId": "cce48c48-3424-4cce-b99d-ec7f24b9a12c"
   },
   "outputs": [],
   "source": [
    "df_out = pd.DataFrame({\n",
    "    \"prompt\": prompts,\n",
    "    \"reference\": references,\n",
    "    \"generated\": generated_texts,\n",
    "    \"cosine_similarity\": cosine_scores.cpu().numpy()\n",
    "})\n",
    "\n",
    "df_out.to_csv(output_dir + \"/evaluation/evaluation_results.csv\", index=False)"
   ]
  }
 ],
 "metadata": {
  "colab": {
   "provenance": []
  },
  "kernelspec": {
   "display_name": "Python 3",
   "name": "python3"
  },
  "language_info": {
   "name": "python"
  }
 },
 "nbformat": 4,
 "nbformat_minor": 5
}
