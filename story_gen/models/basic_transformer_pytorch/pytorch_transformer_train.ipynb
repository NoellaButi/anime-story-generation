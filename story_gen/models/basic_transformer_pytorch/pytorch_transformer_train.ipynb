{
 "cells": [
  {
   "cell_type": "code",
   "execution_count": null,
   "id": "ded9eb6a",
   "metadata": {},
   "outputs": [],
   "source": [
    "# Author: Yuki Rivera\n",
    "# This notebook contains the code to build and train a basic transformer model in PyTorch."
   ]
  },
  {
   "cell_type": "code",
   "execution_count": null,
   "id": "ab6648c2",
   "metadata": {
    "colab": {
     "base_uri": "https://localhost:8080/"
    },
    "executionInfo": {
     "elapsed": 3951,
     "status": "ok",
     "timestamp": 1749102042752,
     "user": {
      "displayName": "Yukiko Rivera",
      "userId": "02699279760362859349"
     },
     "user_tz": 420
    },
    "id": "ab6648c2",
    "outputId": "e20a9199-bae9-42fe-a435-042ba3ac84b7"
   },
   "outputs": [
    {
     "name": "stdout",
     "output_type": "stream",
     "text": [
      "Mounted at /content/drive\n"
     ]
    }
   ],
   "source": [
    "# from google.colab import drive\n",
    "# drive.mount('/content/drive', force_remount=True)"
   ]
  },
  {
   "cell_type": "markdown",
   "id": "d45d4af6",
   "metadata": {},
   "source": [
    "### Sets the file paths"
   ]
  },
  {
   "cell_type": "code",
   "execution_count": null,
   "id": "75d6b0d8",
   "metadata": {
    "id": "75d6b0d8"
   },
   "outputs": [],
   "source": [
    "trial = \"3rd_10k/\"\n",
    "path = \"/content/drive/path/to/project/\"\n",
    "output_dir = path + trial + \"results\""
   ]
  },
  {
   "cell_type": "markdown",
   "id": "b4e1a9ce",
   "metadata": {},
   "source": [
    "### Imports necessary libraries"
   ]
  },
  {
   "cell_type": "code",
   "execution_count": null,
   "id": "6e2b13ca",
   "metadata": {
    "id": "6e2b13ca"
   },
   "outputs": [],
   "source": [
    "from collections import Counter\n",
    "import re\n",
    "from torch.utils.data import Dataset\n",
    "from torch.utils.data import DataLoader\n",
    "import pandas as pd\n",
    "import torch\n",
    "import torch.nn as nn\n",
    "import math\n",
    "import matplotlib.pyplot as plt\n",
    "from sklearn.model_selection import train_test_split\n",
    "import os\n",
    "import time\n",
    "import zipfile\n",
    "import pickle"
   ]
  },
  {
   "cell_type": "markdown",
   "id": "39a91a75",
   "metadata": {
    "id": "39a91a75"
   },
   "source": [
    "### Global Variables"
   ]
  },
  {
   "cell_type": "code",
   "execution_count": null,
   "id": "681e7e44",
   "metadata": {
    "id": "681e7e44"
   },
   "outputs": [],
   "source": [
    "# Special tokens\n",
    "PAD_TOKEN = \"<pad>\"\n",
    "UNK_TOKEN = \"<unk>\"\n",
    "BOS_TOKEN = \"<bos>\"\n",
    "EOS_TOKEN = \"<eos>\""
   ]
  },
  {
   "cell_type": "markdown",
   "id": "e51afb48",
   "metadata": {
    "id": "e51afb48"
   },
   "source": [
    "### Hyperparameters used for training"
   ]
  },
  {
   "cell_type": "code",
   "execution_count": null,
   "id": "911e4787",
   "metadata": {
    "id": "911e4787"
   },
   "outputs": [],
   "source": [
    "full_data = False\n",
    "\n",
    "# number of rows for testing\n",
    "data_size = 10000\n",
    "# Number of epochs\n",
    "epochs = 60\n",
    "# batch size\n",
    "batch_size = 16  \n",
    "# Patience for early stopping\n",
    "patience = 2\n",
    "\n",
    "vocab_length = 8000 \n",
    "\n",
    "# Set the minimum to remove rare words from vocab\n",
    "minimum_frequency = 2 \n",
    "\n",
    "# max prompt length\n",
    "input_len = 50\n",
    "# max synopsis length\n",
    "output_len = 150\n",
    "\n",
    "vocab_size = vocab_length\n",
    "# embedding + hidden dimension size\n",
    "d_model_size = 128 \n",
    "# Number of attention heads\n",
    "num_head = 2 \n",
    "# Number of encoder-decoder layers\n",
    "layers = 2 \n",
    "# size of feedforward hidden layer\n",
    "forward_dim = 2 * d_model_size\n",
    "# Regularization (dropout probability)\n",
    "dropout_prob = 0.1 \n",
    "# Max sequence length for positional encoding\n",
    "seq_length = 30 \n",
    "\n",
    "# learning rate\n",
    "alpha = 1e-4\n"
   ]
  },
  {
   "cell_type": "markdown",
   "id": "5d17d73a",
   "metadata": {
    "id": "5d17d73a"
   },
   "source": [
    "### Function Definitions"
   ]
  },
  {
   "cell_type": "code",
   "execution_count": null,
   "id": "76d7f5d9",
   "metadata": {
    "id": "76d7f5d9"
   },
   "outputs": [],
   "source": [
    "# Manual tokenizer \n",
    "def tokenize(text):\n",
    "    # cleans the text\n",
    "    text = re.sub(r\"[^\\w\\s]\", \"\", text.lower())\n",
    "    return text.strip().split()\n",
    "\n",
    "# Builds a vocabulary dictionary\n",
    "def build_vocab(dataset, min_freq=minimum_frequency, max_size=vocab_length):\n",
    "\n",
    "    # counts how many times each token appears in the dataset\n",
    "    counter = Counter()\n",
    "    for text in dataset:\n",
    "        tokens = tokenize(text)\n",
    "        counter.update(tokens)\n",
    "\n",
    "    # initializes the vocab with special tokens\n",
    "    vocab = {PAD_TOKEN: 0, UNK_TOKEN: 1, BOS_TOKEN: 2, EOS_TOKEN: 3}\n",
    "\n",
    "    # goes through the most frequent words first, then adds only those with\n",
    "    # more than the min frequency and stops when vocabulary max_size is reached\n",
    "    index = 4\n",
    "    for word, freq in counter.most_common():\n",
    "        if freq >= min_freq and len(vocab) < max_size:\n",
    "            vocab[word] = index\n",
    "            index += 1\n",
    "    return vocab\n",
    "\n",
    "# Converts a text string into a fixed-length list of token IDs\n",
    "def encode(text, vocab, max_len):\n",
    "\n",
    "    tokens = [BOS_TOKEN] + tokenize(text) + [EOS_TOKEN]\n",
    "    # looks up each token's id in the vocab (if not found, use unk)\n",
    "    ids = [vocab.get(t, vocab[UNK_TOKEN]) for t in tokens]\n",
    "    # truncates or pads based on the max_len\n",
    "    ids = ids[:max_len] + [vocab[PAD_TOKEN]] * max(0, max_len - len(ids))\n",
    "    return ids\n"
   ]
  },
  {
   "cell_type": "markdown",
   "id": "1648a95a",
   "metadata": {},
   "source": [
    "### Function to preprocess the dataset for batching with a PyTorch dataloader"
   ]
  },
  {
   "cell_type": "code",
   "execution_count": null,
   "id": "68e0510d",
   "metadata": {
    "id": "68e0510d"
   },
   "outputs": [],
   "source": [
    "class PromptSynopsisDataset(Dataset):\n",
    "    def __init__(self, prompts, synopses, vocab, max_input_len, max_output_len):\n",
    "        self.prompts = prompts\n",
    "        self.synopses = synopses\n",
    "        self.vocab = vocab\n",
    "        self.max_input_len = max_input_len\n",
    "        self.max_output_len = max_output_len\n",
    "\n",
    "    def __len__(self):\n",
    "        return len(self.prompts)\n",
    "\n",
    "    # returns tokenized prompt and synopsis as tensors\n",
    "    def __getitem__(self, idx):\n",
    "        prompt = self.prompts[idx]\n",
    "        synopsis = self.synopses[idx]\n",
    "        input_ids = encode(prompt, self.vocab, self.max_input_len)\n",
    "        target_ids = encode(synopsis, self.vocab, self.max_output_len)\n",
    "        return {\n",
    "            'input_ids': torch.tensor(input_ids, dtype=torch.long),\n",
    "            'target_ids': torch.tensor(target_ids, dtype=torch.long)\n",
    "        }"
   ]
  },
  {
   "cell_type": "markdown",
   "id": "5906c874",
   "metadata": {},
   "source": [
    "### Function to wrap the data into a PyTorch dataset and returns a dataloader"
   ]
  },
  {
   "cell_type": "code",
   "execution_count": null,
   "id": "769cc88b",
   "metadata": {
    "id": "769cc88b"
   },
   "outputs": [],
   "source": [
    "def get_dataloader(prompts, synopses, vocab, batch_size=batch_size, max_input_len=input_len, max_output_len=output_len):\n",
    "    dataset = PromptSynopsisDataset(prompts, synopses, vocab, max_input_len, max_output_len)\n",
    "    return DataLoader(dataset, batch_size=batch_size, shuffle=True)"
   ]
  },
  {
   "cell_type": "markdown",
   "id": "33c2361b",
   "metadata": {
    "id": "33c2361b"
   },
   "source": [
    "### Loads Input/Output Pairs"
   ]
  },
  {
   "cell_type": "code",
   "execution_count": null,
   "id": "ec262334",
   "metadata": {
    "id": "ec262334"
   },
   "outputs": [],
   "source": [
    "df = pd.read_csv(path + \"/prompt_synopsis_train.csv\")\n",
    "\n",
    "if not full_data:\n",
    "    sampled_df = df.sample(n=data_size, random_state=42).reset_index(drop=True)\n",
    "else:\n",
    "    sampled_df = df\n",
    "\n",
    "prompts = sampled_df[\"prompt\"].tolist()\n",
    "synopses = sampled_df[\"synopsis\"].tolist()"
   ]
  },
  {
   "cell_type": "markdown",
   "id": "01dd11d0",
   "metadata": {
    "id": "01dd11d0"
   },
   "source": [
    "### Splits the data into training and validation sets"
   ]
  },
  {
   "cell_type": "code",
   "execution_count": null,
   "id": "dba24ef8",
   "metadata": {
    "id": "dba24ef8"
   },
   "outputs": [],
   "source": [
    "train_prompts, val_prompts, train_synopses, val_synopses = train_test_split(\n",
    "    prompts, synopses, test_size=0.2, random_state=42)"
   ]
  },
  {
   "cell_type": "markdown",
   "id": "f8b2b6fb",
   "metadata": {
    "id": "f8b2b6fb"
   },
   "source": [
    "### Sets the device"
   ]
  },
  {
   "cell_type": "code",
   "execution_count": null,
   "id": "0b4279c4",
   "metadata": {
    "id": "0b4279c4"
   },
   "outputs": [],
   "source": [
    "device = torch.device(\"cuda\" if torch.cuda.is_available() else \"cpu\")"
   ]
  },
  {
   "cell_type": "markdown",
   "id": "42dbd0fd",
   "metadata": {
    "id": "42dbd0fd"
   },
   "source": [
    "### Builds the Vocabulary"
   ]
  },
  {
   "cell_type": "code",
   "execution_count": null,
   "id": "542b2ec1",
   "metadata": {
    "id": "542b2ec1"
   },
   "outputs": [],
   "source": [
    "all_texts = prompts + synopses\n",
    "vocab = build_vocab(all_texts, minimum_frequency, vocab_length)"
   ]
  },
  {
   "cell_type": "code",
   "execution_count": null,
   "id": "fEZn9KAQA_74",
   "metadata": {
    "id": "fEZn9KAQA_74"
   },
   "outputs": [],
   "source": [
    "# Saves the vocab for evaluation later\n",
    "with open(output_dir + \"/vocab.pkl\", \"wb\") as f:\n",
    "    pickle.dump(vocab, f)"
   ]
  },
  {
   "cell_type": "markdown",
   "id": "b7be3f34",
   "metadata": {
    "id": "b7be3f34"
   },
   "source": [
    "### Define the tranformer model"
   ]
  },
  {
   "cell_type": "code",
   "execution_count": null,
   "id": "a541645a",
   "metadata": {
    "id": "a541645a"
   },
   "outputs": [],
   "source": [
    "class TransformerModel(nn.Module): \n",
    "    def __init__(self, vocab_size, d_model=256, nhead=8, num_layers=2, dim_feedforward=512, dropout=0.1, max_len=50):\n",
    "        super().__init__()\n",
    "\n",
    "        self.embedding = nn.Embedding(vocab_size, d_model)\n",
    "        self.positional_encoding = self._build_positional_encoding(max_len, d_model)\n",
    "\n",
    "        # encoder-decoder layer with multi-head self-attention, feedforward network with layernorm + dropout\n",
    "        encoder_layer = nn.TransformerEncoderLayer(d_model, nhead, dim_feedforward, dropout, batch_first=True)\n",
    "        decoder_layer = nn.TransformerDecoderLayer(d_model, nhead, dim_feedforward, dropout, batch_first=True)\n",
    "\n",
    "        self.encoder = nn.TransformerEncoder(encoder_layer, num_layers)\n",
    "        self.decoder = nn.TransformerDecoder(decoder_layer, num_layers)\n",
    "\n",
    "        self.fc_out = nn.Linear(d_model, vocab_size)\n",
    "\n",
    "    # Creates sine/cosine positional encodings\n",
    "    def _build_positional_encoding(self, max_len, d_model):\n",
    "\n",
    "        pe = torch.zeros(max_len, d_model)\n",
    "        position = torch.arange(0, max_len).unsqueeze(1)\n",
    "        div_term = torch.exp(torch.arange(0, d_model, 2) * (-torch.log(torch.tensor(10000.0)) / d_model))\n",
    "        # fills even-numbered dimensions with sin()\n",
    "        pe[:, 0::2] = torch.sin(position * div_term)\n",
    "        # fills odd-numbered dimensions with cos()\n",
    "        pe[:, 1::2] = torch.cos(position * div_term)\n",
    "\n",
    "        return pe.unsqueeze(0)  # shape: (1, max_len, d_model)\n",
    "\n",
    "\n",
    "    def forward(self, src, tgt):\n",
    "\n",
    "        # embeds the prompt/target using learned embeddings and adds positional encoding for each token's position\n",
    "        src_embed = self.embedding(src) + self.positional_encoding[:, :src.size(1), :].to(src.device)\n",
    "        tgt_embed = self.embedding(tgt) + self.positional_encoding[:, :tgt.size(1), :].to(tgt.device)\n",
    "\n",
    "        # feeds the prompt/target into the transformer encoder/decoder\n",
    "        memory = self.encoder(src_embed)\n",
    "        output = self.decoder(tgt_embed, memory)\n",
    "\n",
    "        # applies a final linear layer to convert decoder outputs into logits over the vocab\n",
    "        return self.fc_out(output)"
   ]
  },
  {
   "cell_type": "markdown",
   "id": "a7a71abd",
   "metadata": {
    "id": "a7a71abd"
   },
   "source": [
    "### Initializes the model"
   ]
  },
  {
   "cell_type": "code",
   "execution_count": null,
   "id": "e7ccd932",
   "metadata": {
    "id": "e7ccd932"
   },
   "outputs": [],
   "source": [
    "model = TransformerModel(\n",
    "    vocab_size=len(vocab),\n",
    "    d_model=d_model_size,\n",
    "    nhead=num_head,\n",
    "    num_layers=layers,\n",
    "    dim_feedforward=forward_dim,\n",
    "    dropout=dropout_prob,\n",
    "    max_len=max(input_len, output_len)\n",
    ").to(device)"
   ]
  },
  {
   "cell_type": "markdown",
   "id": "9032058d",
   "metadata": {
    "id": "9032058d"
   },
   "source": [
    "### Set up training components"
   ]
  },
  {
   "cell_type": "code",
   "execution_count": null,
   "id": "6fe1b3db",
   "metadata": {
    "id": "6fe1b3db"
   },
   "outputs": [],
   "source": [
    "loss_fn = torch.nn.CrossEntropyLoss(ignore_index=vocab[PAD_TOKEN])\n",
    "optimizer = torch.optim.Adam(model.parameters(), lr=alpha)"
   ]
  },
  {
   "cell_type": "markdown",
   "id": "6ce5b3fa",
   "metadata": {
    "id": "6ce5b3fa"
   },
   "source": [
    "### Prepare DataLoader"
   ]
  },
  {
   "cell_type": "code",
   "execution_count": null,
   "id": "e9472cc5",
   "metadata": {
    "id": "e9472cc5"
   },
   "outputs": [],
   "source": [
    "train_loader = get_dataloader(train_prompts, train_synopses, vocab, batch_size=16, max_input_len=50, max_output_len=150)\n",
    "val_loader = get_dataloader(val_prompts, val_synopses, vocab, batch_size=16, max_input_len=50, max_output_len=150)"
   ]
  },
  {
   "cell_type": "markdown",
   "id": "78b7a5ae",
   "metadata": {
    "id": "78b7a5ae"
   },
   "source": [
    "### Function to run one full epoch over the data"
   ]
  },
  {
   "cell_type": "code",
   "execution_count": null,
   "id": "44bc5d7b",
   "metadata": {
    "id": "44bc5d7b"
   },
   "outputs": [],
   "source": [
    "def run_epoch(model, dataloader, loss_fn, device, optimizer=None):\n",
    "\n",
    "    is_training = optimizer is not None\n",
    "    total_loss = 0\n",
    "\n",
    "    if is_training:\n",
    "        model.train()\n",
    "    else:\n",
    "        model.eval()\n",
    "\n",
    "    for batch in dataloader:\n",
    "        src = batch[\"input_ids\"].to(device)  \n",
    "        tgt = batch[\"target_ids\"].to(device) \n",
    "\n",
    "        # removes the last token (for decoder input)\n",
    "        tgt_input = tgt[:, :-1]\n",
    "        # removes the first token (for expected output)\n",
    "        tgt_expected = tgt[:, 1:]\n",
    "\n",
    "        if is_training:\n",
    "            # resets gradients\n",
    "            optimizer.zero_grad()\n",
    "\n",
    "        with torch.set_grad_enabled(is_training):\n",
    "            # forward pass \n",
    "            output = model(src, tgt_input)\n",
    "            # flatten the output\n",
    "            output = output.reshape(-1, output.shape[-1])\n",
    "            # flatten the target \n",
    "            tgt_expected = tgt_expected.reshape(-1)\n",
    "\n",
    "            # computes loss\n",
    "            loss = loss_fn(output, tgt_expected)\n",
    "\n",
    "            if is_training:\n",
    "                # backpropagation\n",
    "                loss.backward()\n",
    "                # update weights\n",
    "                optimizer.step()\n",
    "\n",
    "        total_loss += loss.item()\n",
    "\n",
    "    avg_loss = total_loss / len(dataloader)\n",
    "    return avg_loss\n"
   ]
  },
  {
   "cell_type": "markdown",
   "id": "8703c1b1",
   "metadata": {},
   "source": [
    "### Function to train the model over multiple epochs"
   ]
  },
  {
   "cell_type": "code",
   "execution_count": null,
   "id": "f1d88418",
   "metadata": {
    "id": "f1d88418"
   },
   "outputs": [],
   "source": [
    "def train_model(model, train_loader, val_loader, optimizer, loss_fn,\n",
    "                num_epochs=5, patience=3, device=\"cuda\", save_path=None):\n",
    "\n",
    "    model.to(device)\n",
    "    train_losses, val_losses = [], []\n",
    "\n",
    "    best_val_loss = float(\"inf\")\n",
    "    wait = 0\n",
    "\n",
    "    for epoch in range(num_epochs):\n",
    "        train_loss = run_epoch(model, train_loader, loss_fn, device, optimizer)\n",
    "        val_loss = run_epoch(model, val_loader, loss_fn, device)\n",
    "\n",
    "        train_losses.append(train_loss)\n",
    "        val_losses.append(val_loss)\n",
    "\n",
    "        train_perplexity = math.exp(train_loss)\n",
    "        val_perplexity = math.exp(val_loss)\n",
    "\n",
    "        print(f\"Epoch {epoch+1}: \"\n",
    "                f\"Train Loss = {train_loss:.4f}, Val Loss = {val_loss:.4f} | \"\n",
    "                f\"Train PPL = {train_perplexity:.2f}, Val PPL = {val_perplexity:.2f}\")\n",
    "\n",
    "        # Early stopping check\n",
    "        if val_loss < best_val_loss:\n",
    "            best_val_loss = val_loss\n",
    "            wait = 0\n",
    "            # Saves the model only when the validation loss improves\n",
    "            if save_path:\n",
    "                torch.save(model.state_dict(), save_path)\n",
    "                print(f\"Saved model weights to {save_path}\")\n",
    "\n",
    "        else:\n",
    "            wait += 1\n",
    "            if wait >= patience:\n",
    "                print(f\"Early stopping triggered after {epoch+1} epochs.\")\n",
    "                break\n",
    "\n",
    "    return train_losses, val_losses\n"
   ]
  },
  {
   "cell_type": "markdown",
   "id": "4b19618e",
   "metadata": {
    "id": "4b19618e"
   },
   "source": [
    "### Train the model and calculates the validation perplexity"
   ]
  },
  {
   "cell_type": "code",
   "execution_count": null,
   "id": "93fe8a9b",
   "metadata": {
    "colab": {
     "base_uri": "https://localhost:8080/"
    },
    "executionInfo": {
     "elapsed": 597786,
     "status": "ok",
     "timestamp": 1749102651325,
     "user": {
      "displayName": "Yukiko Rivera",
      "userId": "02699279760362859349"
     },
     "user_tz": 420
    },
    "id": "93fe8a9b",
    "outputId": "a703cbc5-7a73-4a16-f62d-6cee09002769"
   },
   "outputs": [
    {
     "name": "stdout",
     "output_type": "stream",
     "text": [
      "Epoch 1: Train Loss = 6.8725, Val Loss = 6.3464 | Train PPL = 965.35, Val PPL = 570.46\n",
      "Saved model weights to /content/drive/My Drive/BC_CS/CS495_Capstone/notebooks/StoryGeneration/BasicTransformer/3rd_10k/results/transformer_model.pt\n",
      "Epoch 2: Train Loss = 6.2269, Val Loss = 6.1047 | Train PPL = 506.18, Val PPL = 447.94\n",
      "Saved model weights to /content/drive/My Drive/BC_CS/CS495_Capstone/notebooks/StoryGeneration/BasicTransformer/3rd_10k/results/transformer_model.pt\n",
      "Epoch 3: Train Loss = 6.0286, Val Loss = 5.9387 | Train PPL = 415.12, Val PPL = 379.46\n",
      "Saved model weights to /content/drive/My Drive/BC_CS/CS495_Capstone/notebooks/StoryGeneration/BasicTransformer/3rd_10k/results/transformer_model.pt\n",
      "Epoch 4: Train Loss = 5.8689, Val Loss = 5.7896 | Train PPL = 353.88, Val PPL = 326.90\n",
      "Saved model weights to /content/drive/My Drive/BC_CS/CS495_Capstone/notebooks/StoryGeneration/BasicTransformer/3rd_10k/results/transformer_model.pt\n",
      "Epoch 5: Train Loss = 5.7136, Val Loss = 5.6164 | Train PPL = 302.95, Val PPL = 274.89\n",
      "Saved model weights to /content/drive/My Drive/BC_CS/CS495_Capstone/notebooks/StoryGeneration/BasicTransformer/3rd_10k/results/transformer_model.pt\n",
      "Epoch 6: Train Loss = 5.5038, Val Loss = 5.3186 | Train PPL = 245.62, Val PPL = 204.09\n",
      "Saved model weights to /content/drive/My Drive/BC_CS/CS495_Capstone/notebooks/StoryGeneration/BasicTransformer/3rd_10k/results/transformer_model.pt\n",
      "Epoch 7: Train Loss = 5.1416, Val Loss = 4.8422 | Train PPL = 170.99, Val PPL = 126.75\n",
      "Saved model weights to /content/drive/My Drive/BC_CS/CS495_Capstone/notebooks/StoryGeneration/BasicTransformer/3rd_10k/results/transformer_model.pt\n",
      "Epoch 8: Train Loss = 4.7700, Val Loss = 4.5255 | Train PPL = 117.92, Val PPL = 92.35\n",
      "Saved model weights to /content/drive/My Drive/BC_CS/CS495_Capstone/notebooks/StoryGeneration/BasicTransformer/3rd_10k/results/transformer_model.pt\n",
      "Epoch 9: Train Loss = 4.4850, Val Loss = 4.2567 | Train PPL = 88.68, Val PPL = 70.58\n",
      "Saved model weights to /content/drive/My Drive/BC_CS/CS495_Capstone/notebooks/StoryGeneration/BasicTransformer/3rd_10k/results/transformer_model.pt\n",
      "Epoch 10: Train Loss = 4.2332, Val Loss = 4.0131 | Train PPL = 68.94, Val PPL = 55.32\n",
      "Saved model weights to /content/drive/My Drive/BC_CS/CS495_Capstone/notebooks/StoryGeneration/BasicTransformer/3rd_10k/results/transformer_model.pt\n",
      "Epoch 11: Train Loss = 3.9830, Val Loss = 3.7558 | Train PPL = 53.68, Val PPL = 42.77\n",
      "Saved model weights to /content/drive/My Drive/BC_CS/CS495_Capstone/notebooks/StoryGeneration/BasicTransformer/3rd_10k/results/transformer_model.pt\n",
      "Epoch 12: Train Loss = 3.7351, Val Loss = 3.4971 | Train PPL = 41.89, Val PPL = 33.02\n",
      "Saved model weights to /content/drive/My Drive/BC_CS/CS495_Capstone/notebooks/StoryGeneration/BasicTransformer/3rd_10k/results/transformer_model.pt\n",
      "Epoch 13: Train Loss = 3.4792, Val Loss = 3.2424 | Train PPL = 32.43, Val PPL = 25.59\n",
      "Saved model weights to /content/drive/My Drive/BC_CS/CS495_Capstone/notebooks/StoryGeneration/BasicTransformer/3rd_10k/results/transformer_model.pt\n",
      "Epoch 14: Train Loss = 3.2231, Val Loss = 2.9780 | Train PPL = 25.11, Val PPL = 19.65\n",
      "Saved model weights to /content/drive/My Drive/BC_CS/CS495_Capstone/notebooks/StoryGeneration/BasicTransformer/3rd_10k/results/transformer_model.pt\n",
      "Epoch 15: Train Loss = 2.9699, Val Loss = 2.7320 | Train PPL = 19.49, Val PPL = 15.36\n",
      "Saved model weights to /content/drive/My Drive/BC_CS/CS495_Capstone/notebooks/StoryGeneration/BasicTransformer/3rd_10k/results/transformer_model.pt\n",
      "Epoch 16: Train Loss = 2.7286, Val Loss = 2.4894 | Train PPL = 15.31, Val PPL = 12.05\n",
      "Saved model weights to /content/drive/My Drive/BC_CS/CS495_Capstone/notebooks/StoryGeneration/BasicTransformer/3rd_10k/results/transformer_model.pt\n",
      "Epoch 17: Train Loss = 2.4963, Val Loss = 2.2633 | Train PPL = 12.14, Val PPL = 9.61\n",
      "Saved model weights to /content/drive/My Drive/BC_CS/CS495_Capstone/notebooks/StoryGeneration/BasicTransformer/3rd_10k/results/transformer_model.pt\n",
      "Epoch 18: Train Loss = 2.2780, Val Loss = 2.0574 | Train PPL = 9.76, Val PPL = 7.83\n",
      "Saved model weights to /content/drive/My Drive/BC_CS/CS495_Capstone/notebooks/StoryGeneration/BasicTransformer/3rd_10k/results/transformer_model.pt\n",
      "Epoch 19: Train Loss = 2.0758, Val Loss = 1.8678 | Train PPL = 7.97, Val PPL = 6.47\n",
      "Saved model weights to /content/drive/My Drive/BC_CS/CS495_Capstone/notebooks/StoryGeneration/BasicTransformer/3rd_10k/results/transformer_model.pt\n",
      "Epoch 20: Train Loss = 1.8882, Val Loss = 1.6960 | Train PPL = 6.61, Val PPL = 5.45\n",
      "Saved model weights to /content/drive/My Drive/BC_CS/CS495_Capstone/notebooks/StoryGeneration/BasicTransformer/3rd_10k/results/transformer_model.pt\n",
      "Epoch 21: Train Loss = 1.7195, Val Loss = 1.5308 | Train PPL = 5.58, Val PPL = 4.62\n",
      "Saved model weights to /content/drive/My Drive/BC_CS/CS495_Capstone/notebooks/StoryGeneration/BasicTransformer/3rd_10k/results/transformer_model.pt\n",
      "Epoch 22: Train Loss = 1.5650, Val Loss = 1.3980 | Train PPL = 4.78, Val PPL = 4.05\n",
      "Saved model weights to /content/drive/My Drive/BC_CS/CS495_Capstone/notebooks/StoryGeneration/BasicTransformer/3rd_10k/results/transformer_model.pt\n",
      "Epoch 23: Train Loss = 1.4261, Val Loss = 1.2701 | Train PPL = 4.16, Val PPL = 3.56\n",
      "Saved model weights to /content/drive/My Drive/BC_CS/CS495_Capstone/notebooks/StoryGeneration/BasicTransformer/3rd_10k/results/transformer_model.pt\n",
      "Epoch 24: Train Loss = 1.2950, Val Loss = 1.1563 | Train PPL = 3.65, Val PPL = 3.18\n",
      "Saved model weights to /content/drive/My Drive/BC_CS/CS495_Capstone/notebooks/StoryGeneration/BasicTransformer/3rd_10k/results/transformer_model.pt\n",
      "Epoch 25: Train Loss = 1.1857, Val Loss = 1.0502 | Train PPL = 3.27, Val PPL = 2.86\n",
      "Saved model weights to /content/drive/My Drive/BC_CS/CS495_Capstone/notebooks/StoryGeneration/BasicTransformer/3rd_10k/results/transformer_model.pt\n",
      "Epoch 26: Train Loss = 1.0812, Val Loss = 0.9618 | Train PPL = 2.95, Val PPL = 2.62\n",
      "Saved model weights to /content/drive/My Drive/BC_CS/CS495_Capstone/notebooks/StoryGeneration/BasicTransformer/3rd_10k/results/transformer_model.pt\n",
      "Epoch 27: Train Loss = 0.9893, Val Loss = 0.8870 | Train PPL = 2.69, Val PPL = 2.43\n",
      "Saved model weights to /content/drive/My Drive/BC_CS/CS495_Capstone/notebooks/StoryGeneration/BasicTransformer/3rd_10k/results/transformer_model.pt\n",
      "Epoch 28: Train Loss = 0.9070, Val Loss = 0.8136 | Train PPL = 2.48, Val PPL = 2.26\n",
      "Saved model weights to /content/drive/My Drive/BC_CS/CS495_Capstone/notebooks/StoryGeneration/BasicTransformer/3rd_10k/results/transformer_model.pt\n",
      "Epoch 29: Train Loss = 0.8372, Val Loss = 0.7564 | Train PPL = 2.31, Val PPL = 2.13\n",
      "Saved model weights to /content/drive/My Drive/BC_CS/CS495_Capstone/notebooks/StoryGeneration/BasicTransformer/3rd_10k/results/transformer_model.pt\n",
      "Epoch 30: Train Loss = 0.7692, Val Loss = 0.6936 | Train PPL = 2.16, Val PPL = 2.00\n",
      "Saved model weights to /content/drive/My Drive/BC_CS/CS495_Capstone/notebooks/StoryGeneration/BasicTransformer/3rd_10k/results/transformer_model.pt\n",
      "Epoch 31: Train Loss = 0.7115, Val Loss = 0.6456 | Train PPL = 2.04, Val PPL = 1.91\n",
      "Saved model weights to /content/drive/My Drive/BC_CS/CS495_Capstone/notebooks/StoryGeneration/BasicTransformer/3rd_10k/results/transformer_model.pt\n",
      "Epoch 32: Train Loss = 0.6582, Val Loss = 0.6021 | Train PPL = 1.93, Val PPL = 1.83\n",
      "Saved model weights to /content/drive/My Drive/BC_CS/CS495_Capstone/notebooks/StoryGeneration/BasicTransformer/3rd_10k/results/transformer_model.pt\n",
      "Epoch 33: Train Loss = 0.6115, Val Loss = 0.5618 | Train PPL = 1.84, Val PPL = 1.75\n",
      "Saved model weights to /content/drive/My Drive/BC_CS/CS495_Capstone/notebooks/StoryGeneration/BasicTransformer/3rd_10k/results/transformer_model.pt\n",
      "Epoch 34: Train Loss = 0.5688, Val Loss = 0.5253 | Train PPL = 1.77, Val PPL = 1.69\n",
      "Saved model weights to /content/drive/My Drive/BC_CS/CS495_Capstone/notebooks/StoryGeneration/BasicTransformer/3rd_10k/results/transformer_model.pt\n",
      "Epoch 35: Train Loss = 0.5302, Val Loss = 0.4949 | Train PPL = 1.70, Val PPL = 1.64\n",
      "Saved model weights to /content/drive/My Drive/BC_CS/CS495_Capstone/notebooks/StoryGeneration/BasicTransformer/3rd_10k/results/transformer_model.pt\n",
      "Epoch 36: Train Loss = 0.4948, Val Loss = 0.4669 | Train PPL = 1.64, Val PPL = 1.60\n",
      "Saved model weights to /content/drive/My Drive/BC_CS/CS495_Capstone/notebooks/StoryGeneration/BasicTransformer/3rd_10k/results/transformer_model.pt\n",
      "Epoch 37: Train Loss = 0.4640, Val Loss = 0.4411 | Train PPL = 1.59, Val PPL = 1.55\n",
      "Saved model weights to /content/drive/My Drive/BC_CS/CS495_Capstone/notebooks/StoryGeneration/BasicTransformer/3rd_10k/results/transformer_model.pt\n",
      "Epoch 38: Train Loss = 0.4366, Val Loss = 0.4187 | Train PPL = 1.55, Val PPL = 1.52\n",
      "Saved model weights to /content/drive/My Drive/BC_CS/CS495_Capstone/notebooks/StoryGeneration/BasicTransformer/3rd_10k/results/transformer_model.pt\n",
      "Epoch 39: Train Loss = 0.4094, Val Loss = 0.3909 | Train PPL = 1.51, Val PPL = 1.48\n",
      "Saved model weights to /content/drive/My Drive/BC_CS/CS495_Capstone/notebooks/StoryGeneration/BasicTransformer/3rd_10k/results/transformer_model.pt\n",
      "Epoch 40: Train Loss = 0.3856, Val Loss = 0.3816 | Train PPL = 1.47, Val PPL = 1.46\n",
      "Saved model weights to /content/drive/My Drive/BC_CS/CS495_Capstone/notebooks/StoryGeneration/BasicTransformer/3rd_10k/results/transformer_model.pt\n",
      "Epoch 41: Train Loss = 0.3656, Val Loss = 0.3562 | Train PPL = 1.44, Val PPL = 1.43\n",
      "Saved model weights to /content/drive/My Drive/BC_CS/CS495_Capstone/notebooks/StoryGeneration/BasicTransformer/3rd_10k/results/transformer_model.pt\n",
      "Epoch 42: Train Loss = 0.3461, Val Loss = 0.3427 | Train PPL = 1.41, Val PPL = 1.41\n",
      "Saved model weights to /content/drive/My Drive/BC_CS/CS495_Capstone/notebooks/StoryGeneration/BasicTransformer/3rd_10k/results/transformer_model.pt\n",
      "Epoch 43: Train Loss = 0.3265, Val Loss = 0.3232 | Train PPL = 1.39, Val PPL = 1.38\n",
      "Saved model weights to /content/drive/My Drive/BC_CS/CS495_Capstone/notebooks/StoryGeneration/BasicTransformer/3rd_10k/results/transformer_model.pt\n",
      "Epoch 44: Train Loss = 0.3101, Val Loss = 0.3136 | Train PPL = 1.36, Val PPL = 1.37\n",
      "Saved model weights to /content/drive/My Drive/BC_CS/CS495_Capstone/notebooks/StoryGeneration/BasicTransformer/3rd_10k/results/transformer_model.pt\n",
      "Epoch 45: Train Loss = 0.2966, Val Loss = 0.3019 | Train PPL = 1.35, Val PPL = 1.35\n",
      "Saved model weights to /content/drive/My Drive/BC_CS/CS495_Capstone/notebooks/StoryGeneration/BasicTransformer/3rd_10k/results/transformer_model.pt\n",
      "Epoch 46: Train Loss = 0.2787, Val Loss = 0.2923 | Train PPL = 1.32, Val PPL = 1.34\n",
      "Saved model weights to /content/drive/My Drive/BC_CS/CS495_Capstone/notebooks/StoryGeneration/BasicTransformer/3rd_10k/results/transformer_model.pt\n",
      "Epoch 47: Train Loss = 0.2667, Val Loss = 0.2816 | Train PPL = 1.31, Val PPL = 1.33\n",
      "Saved model weights to /content/drive/My Drive/BC_CS/CS495_Capstone/notebooks/StoryGeneration/BasicTransformer/3rd_10k/results/transformer_model.pt\n",
      "Epoch 48: Train Loss = 0.2540, Val Loss = 0.2705 | Train PPL = 1.29, Val PPL = 1.31\n",
      "Saved model weights to /content/drive/My Drive/BC_CS/CS495_Capstone/notebooks/StoryGeneration/BasicTransformer/3rd_10k/results/transformer_model.pt\n",
      "Epoch 49: Train Loss = 0.2422, Val Loss = 0.2623 | Train PPL = 1.27, Val PPL = 1.30\n",
      "Saved model weights to /content/drive/My Drive/BC_CS/CS495_Capstone/notebooks/StoryGeneration/BasicTransformer/3rd_10k/results/transformer_model.pt\n",
      "Epoch 50: Train Loss = 0.2333, Val Loss = 0.2541 | Train PPL = 1.26, Val PPL = 1.29\n",
      "Saved model weights to /content/drive/My Drive/BC_CS/CS495_Capstone/notebooks/StoryGeneration/BasicTransformer/3rd_10k/results/transformer_model.pt\n",
      "Epoch 51: Train Loss = 0.2219, Val Loss = 0.2466 | Train PPL = 1.25, Val PPL = 1.28\n",
      "Saved model weights to /content/drive/My Drive/BC_CS/CS495_Capstone/notebooks/StoryGeneration/BasicTransformer/3rd_10k/results/transformer_model.pt\n",
      "Epoch 52: Train Loss = 0.2147, Val Loss = 0.2393 | Train PPL = 1.24, Val PPL = 1.27\n",
      "Saved model weights to /content/drive/My Drive/BC_CS/CS495_Capstone/notebooks/StoryGeneration/BasicTransformer/3rd_10k/results/transformer_model.pt\n",
      "Epoch 53: Train Loss = 0.2038, Val Loss = 0.2339 | Train PPL = 1.23, Val PPL = 1.26\n",
      "Saved model weights to /content/drive/My Drive/BC_CS/CS495_Capstone/notebooks/StoryGeneration/BasicTransformer/3rd_10k/results/transformer_model.pt\n",
      "Epoch 54: Train Loss = 0.2013, Val Loss = 0.2247 | Train PPL = 1.22, Val PPL = 1.25\n",
      "Saved model weights to /content/drive/My Drive/BC_CS/CS495_Capstone/notebooks/StoryGeneration/BasicTransformer/3rd_10k/results/transformer_model.pt\n",
      "Epoch 55: Train Loss = 0.1902, Val Loss = 0.2197 | Train PPL = 1.21, Val PPL = 1.25\n",
      "Saved model weights to /content/drive/My Drive/BC_CS/CS495_Capstone/notebooks/StoryGeneration/BasicTransformer/3rd_10k/results/transformer_model.pt\n",
      "Epoch 56: Train Loss = 0.1831, Val Loss = 0.2164 | Train PPL = 1.20, Val PPL = 1.24\n",
      "Saved model weights to /content/drive/My Drive/BC_CS/CS495_Capstone/notebooks/StoryGeneration/BasicTransformer/3rd_10k/results/transformer_model.pt\n",
      "Epoch 57: Train Loss = 0.1800, Val Loss = 0.2131 | Train PPL = 1.20, Val PPL = 1.24\n",
      "Saved model weights to /content/drive/My Drive/BC_CS/CS495_Capstone/notebooks/StoryGeneration/BasicTransformer/3rd_10k/results/transformer_model.pt\n",
      "Epoch 58: Train Loss = 0.1732, Val Loss = 0.2083 | Train PPL = 1.19, Val PPL = 1.23\n",
      "Saved model weights to /content/drive/My Drive/BC_CS/CS495_Capstone/notebooks/StoryGeneration/BasicTransformer/3rd_10k/results/transformer_model.pt\n",
      "Epoch 59: Train Loss = 0.1672, Val Loss = 0.2038 | Train PPL = 1.18, Val PPL = 1.23\n",
      "Saved model weights to /content/drive/My Drive/BC_CS/CS495_Capstone/notebooks/StoryGeneration/BasicTransformer/3rd_10k/results/transformer_model.pt\n",
      "Epoch 60: Train Loss = 0.1610, Val Loss = 0.2033 | Train PPL = 1.17, Val PPL = 1.23\n",
      "Saved model weights to /content/drive/My Drive/BC_CS/CS495_Capstone/notebooks/StoryGeneration/BasicTransformer/3rd_10k/results/transformer_model.pt\n",
      "Training completed in 597.78 seconds (9.96 minutes).\n",
      "Final Train Perplexity: 1.17\n",
      "Final Val Perplexity: 1.23\n"
     ]
    }
   ],
   "source": [
    "# Create the output directory\n",
    "os.makedirs(output_dir, exist_ok=True)\n",
    "\n",
    "train_losses, val_losses = train_model(model, train_loader, val_loader, optimizer, loss_fn, epochs, patience, device=device, save_path=output_dir + \"/transformer_model.pt\")\n",
    "\n",
    "final_train_loss = train_losses[-1]\n",
    "final_val_loss = val_losses[-1]\n",
    "\n",
    "final_train_perplexity = math.exp(final_train_loss)\n",
    "final_val_perplexity = math.exp(final_val_loss)\n",
    "\n",
    "print(f\"Final Train Perplexity: {final_train_perplexity:.2f}\")\n",
    "print(f\"Final Val Perplexity: {final_val_perplexity:.2f}\")\n"
   ]
  },
  {
   "cell_type": "markdown",
   "id": "fb1fc3a1",
   "metadata": {
    "id": "fb1fc3a1"
   },
   "source": [
    "### Plot the loss curve"
   ]
  },
  {
   "cell_type": "code",
   "execution_count": null,
   "id": "c8781ec5",
   "metadata": {
    "colab": {
     "base_uri": "https://localhost:8080/",
     "height": 472
    },
    "executionInfo": {
     "elapsed": 381,
     "status": "ok",
     "timestamp": 1749102651707,
     "user": {
      "displayName": "Yukiko Rivera",
      "userId": "02699279760362859349"
     },
     "user_tz": 420
    },
    "id": "c8781ec5",
    "outputId": "8cd6ee4b-d9d5-49ae-81a0-d98d4da382dc"
   },
   "outputs": [
    {
     "data": {
      "image/png": "[encoded data removed]",
      "text/plain": [
       "<Figure size 640x480 with 1 Axes>"
      ]
     },
     "metadata": {},
     "output_type": "display_data"
    }
   ],
   "source": [
    "epochs = range(1, len(train_losses) + 1)\n",
    "\n",
    "plt.plot(epochs, train_losses, label=\"Train Loss\")\n",
    "plt.plot(epochs, val_losses, label=\"Val Loss\")\n",
    "plt.xlabel(\"Epoch\")\n",
    "plt.ylabel(\"Loss\")\n",
    "plt.title(\"Loss Curve\")\n",
    "plt.legend()\n",
    "plt.grid(True)\n",
    "plt.savefig(output_dir + \"/loss_curve.png\")\n",
    "plt.show()\n"
   ]
  },
  {
   "cell_type": "markdown",
   "id": "9017627a",
   "metadata": {
    "id": "9017627a"
   },
   "source": [
    "### Plot the perplexity curve"
   ]
  },
  {
   "cell_type": "code",
   "execution_count": null,
   "id": "ca61008e",
   "metadata": {
    "colab": {
     "base_uri": "https://localhost:8080/",
     "height": 472
    },
    "executionInfo": {
     "elapsed": 202,
     "status": "ok",
     "timestamp": 1749102651910,
     "user": {
      "displayName": "Yukiko Rivera",
      "userId": "02699279760362859349"
     },
     "user_tz": 420
    },
    "id": "ca61008e",
    "outputId": "9efd10f7-b253-46ea-b343-5234b7a02785"
   },
   "outputs": [
    {
     "data": {
      "image/png": "[encoded data removed]",
      "text/plain": [
       "<Figure size 640x480 with 1 Axes>"
      ]
     },
     "metadata": {},
     "output_type": "display_data"
    }
   ],
   "source": [
    "train_perplexities = [math.exp(loss) for loss in train_losses]\n",
    "val_perplexities = [math.exp(loss) for loss in val_losses]\n",
    "\n",
    "plt.plot(epochs, train_perplexities, label=\"Train Perplexity\")\n",
    "plt.plot(epochs, val_perplexities, label=\"Val Perplexity\")\n",
    "plt.xlabel(\"Epoch\")\n",
    "plt.ylabel(\"Perplexity\")\n",
    "plt.title(\"Perplexity Curve\")\n",
    "plt.legend()\n",
    "plt.grid(True)\n",
    "plt.savefig(output_dir + \"/perplexity_curve.png\")\n",
    "plt.show()\n"
   ]
  }
 ],
 "metadata": {
  "colab": {
   "provenance": []
  },
  "kernelspec": {
   "display_name": "Python 3",
   "name": "python3"
  },
  "language_info": {
   "codemirror_mode": {
    "name": "ipython",
    "version": 3
   },
   "file_extension": ".py",
   "mimetype": "text/x-python",
   "name": "python",
   "nbconvert_exporter": "python",
   "pygments_lexer": "ipython3",
   "version": "3.11.9"
  }
 },
 "nbformat": 4,
 "nbformat_minor": 5
}
