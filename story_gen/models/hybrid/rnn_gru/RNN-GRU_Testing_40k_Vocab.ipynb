{
 "cells": [
  {
   "cell_type": "code",
   "execution_count": 1,
   "metadata": {
    "colab": {
     "base_uri": "https://localhost:8080/"
    },
    "executionInfo": {
     "elapsed": 11520,
     "status": "ok",
     "timestamp": 1750019414881,
     "user": {
      "displayName": "Noella Buti",
      "userId": "06118441993782992948"
     },
     "user_tz": 420
    },
    "id": "xNW3LbVHZ-ac",
    "outputId": "7763f7e9-7fab-49a6-ffaf-8168de85014d"
   },
   "outputs": [
    {
     "name": "stdout",
     "output_type": "stream",
     "text": [
      "Drive already mounted at /content/drive; to attempt to forcibly remount, call drive.mount(\"/content/drive\", force_remount=True).\n",
      "/content/drive/My Drive/CS 495 DataScience Capstone Project\n"
     ]
    }
   ],
   "source": [
    "# --- Mount & Setup ---\n",
    "from google.colab import drive\n",
    "drive.mount('/content/drive')\n",
    "%cd /content/drive/My Drive/CS 495 DataScience Capstone Project/"
   ]
  },
  {
   "cell_type": "code",
   "execution_count": 2,
   "metadata": {
    "executionInfo": {
     "elapsed": 33864,
     "status": "ok",
     "timestamp": 1750019451182,
     "user": {
      "displayName": "Noella Buti",
      "userId": "06118441993782992948"
     },
     "user_tz": 420
    },
    "id": "EmgiC2c-aKjS"
   },
   "outputs": [],
   "source": [
    "# --- Imports ---\n",
    "import pandas as pd\n",
    "import numpy as np\n",
    "import pickle\n",
    "import matplotlib.pyplot as plt\n",
    "import umap\n",
    "from tensorflow.keras.models import load_model, Model\n",
    "from tensorflow.keras.layers import Input\n",
    "from tensorflow.keras.preprocessing.sequence import pad_sequences\n",
    "from sklearn.metrics.pairwise import cosine_similarity\n",
    "from sentence_transformers import SentenceTransformer"
   ]
  },
  {
   "cell_type": "code",
   "execution_count": 3,
   "metadata": {
    "executionInfo": {
     "elapsed": 400,
     "status": "ok",
     "timestamp": 1750019455306,
     "user": {
      "displayName": "Noella Buti",
      "userId": "06118441993782992948"
     },
     "user_tz": 420
    },
    "id": "56hr7huxaURv"
   },
   "outputs": [],
   "source": [
    "# --- Load Data ---\n",
    "test_df = pd.read_csv(\"prompt_synopsis_test.csv\")\n",
    "selected_rows = [20, 26, 64, 84, 88, 98, 106, 111, 127, 164,\n",
    "                 190, 199, 225, 231, 242, 244, 259, 298, 10597, 10609]\n",
    "test_df = test_df.iloc[selected_rows].reset_index(drop=True)\n",
    "input_prompts = test_df[\"prompt\"]\n",
    "output_synopsis = test_df[\"synopsis\"]\n",
    "tags = test_df[\"tags_combined\"]"
   ]
  },
  {
   "cell_type": "code",
   "execution_count": 4,
   "metadata": {
    "executionInfo": {
     "elapsed": 9,
     "status": "ok",
     "timestamp": 1750019458388,
     "user": {
      "displayName": "Noella Buti",
      "userId": "06118441993782992948"
     },
     "user_tz": 420
    },
    "id": "E9FdiB9TaX73"
   },
   "outputs": [],
   "source": [
    "# --- Hyperparameters ---\n",
    "vocab_size = 40000\n",
    "enc_max_len = 64\n",
    "dec_max_len = 150\n",
    "max_generated_length = 50\n",
    "embedding_dim = 128\n",
    "units = 128"
   ]
  },
  {
   "cell_type": "code",
   "execution_count": 5,
   "metadata": {
    "executionInfo": {
     "elapsed": 3974,
     "status": "ok",
     "timestamp": 1750019479405,
     "user": {
      "displayName": "Noella Buti",
      "userId": "06118441993782992948"
     },
     "user_tz": 420
    },
    "id": "ELbeUPzvabOe"
   },
   "outputs": [],
   "source": [
    "# --- Load Tokenizer & Model ---\n",
    "with open(\"tokenizer_RNN-GRU_40k.pkl\", \"rb\") as f:\n",
    "    tokenizer = pickle.load(f)\n",
    "model = load_model(\"rnn_gru_model_40k.keras\")\n",
    "\n",
    "start_token_id = tokenizer.word_index[\"<BOS>\"]\n",
    "end_token_id = tokenizer.word_index[\"<EOS>\"]\n",
    "pad_token_id = tokenizer.word_index[\"<PAD>\"]"
   ]
  },
  {
   "cell_type": "code",
   "execution_count": 6,
   "metadata": {
    "executionInfo": {
     "elapsed": 11,
     "status": "ok",
     "timestamp": 1750019487845,
     "user": {
      "displayName": "Noella Buti",
      "userId": "06118441993782992948"
     },
     "user_tz": 420
    },
    "id": "yTvrJs0FalKE"
   },
   "outputs": [],
   "source": [
    "# --- Build Inference Encoder ---\n",
    "encoder_inputs_inf = Input(shape=(enc_max_len,), name=\"encoder_input\")\n",
    "encoder_emb = model.get_layer(\"embedding\")(encoder_inputs_inf)\n",
    "encoder_outputs_inf, state_h_inf = model.get_layer(\"encoder_gru\")(encoder_emb)\n",
    "encoder_model = Model(inputs=encoder_inputs_inf, outputs=state_h_inf)\n",
    "\n",
    "# --- Build Inference Decoder ---\n",
    "decoder_input_token = Input(shape=(1,), name=\"decoder_input_token\")\n",
    "decoder_state_input = Input(shape=(units,), name=\"decoder_state_input\")\n",
    "decoder_emb = model.get_layer(\"embedding_1\")(decoder_input_token)\n",
    "decoder_outputs, decoder_state = model.get_layer(\"decoder_gru\")(decoder_emb, initial_state=decoder_state_input)\n",
    "decoder_outputs_probs = model.get_layer(\"dense\")(decoder_outputs)\n",
    "\n",
    "decoder_model_inf = Model(\n",
    "    inputs=[decoder_input_token, decoder_state_input],\n",
    "    outputs=[decoder_outputs_probs, decoder_state]\n",
    ")"
   ]
  },
  {
   "cell_type": "code",
   "execution_count": 7,
   "metadata": {
    "executionInfo": {
     "elapsed": 8,
     "status": "ok",
     "timestamp": 1750019491470,
     "user": {
      "displayName": "Noella Buti",
      "userId": "06118441993782992948"
     },
     "user_tz": 420
    },
    "id": "uC2MpMAPaojy"
   },
   "outputs": [],
   "source": [
    "# --- Sampling Function ---\n",
    "def sample_with_temperature(preds, temperature=0.7):\n",
    "    preds = np.asarray(preds).astype(\"float64\")\n",
    "    preds = np.log(preds + 1e-8) / temperature\n",
    "    exp_preds = np.exp(preds)\n",
    "    preds = exp_preds / np.sum(exp_preds)\n",
    "    return np.argmax(np.random.multinomial(1, preds, 1))\n"
   ]
  },
  {
   "cell_type": "code",
   "execution_count": 8,
   "metadata": {
    "executionInfo": {
     "elapsed": 5,
     "status": "ok",
     "timestamp": 1750019496808,
     "user": {
      "displayName": "Noella Buti",
      "userId": "06118441993782992948"
     },
     "user_tz": 420
    },
    "id": "29tyqbvLatkS"
   },
   "outputs": [],
   "source": [
    "# --- Generation Function ---\n",
    "def generate_synopsis(prompt, encoder_model, decoder_model, tokenizer, temp=0.7):\n",
    "    input_seq = tokenizer.texts_to_sequences([prompt])\n",
    "    input_seq = pad_sequences(input_seq, maxlen=enc_max_len, padding=\"post\", value=pad_token_id)\n",
    "    state = encoder_model.predict(input_seq, verbose=0)\n",
    "\n",
    "    target_seq = np.zeros((1, 1), dtype=\"int32\")\n",
    "    target_seq[0, 0] = start_token_id\n",
    "    generated_ids = []\n",
    "\n",
    "    while True:\n",
    "        output_tokens, state = decoder_model.predict([target_seq, state], verbose=0)\n",
    "        sampled_token_index = sample_with_temperature(output_tokens[0, 0, :], temperature=temp)\n",
    "        if sampled_token_index == end_token_id or len(generated_ids) >= max_generated_length:\n",
    "            break\n",
    "        generated_ids.append(sampled_token_index)\n",
    "        target_seq[0, 0] = sampled_token_index\n",
    "\n",
    "    return \" \".join(\n",
    "        tokenizer.index_word.get(token_id, \"[UNK]\") for token_id in generated_ids\n",
    "        if tokenizer.index_word.get(token_id) not in [\"<PAD>\", \"<OOV>\"]\n",
    "    )"
   ]
  },
  {
   "cell_type": "code",
   "execution_count": 9,
   "metadata": {
    "colab": {
     "base_uri": "https://localhost:8080/",
     "height": 1000,
     "referenced_widgets": [
      "ae6d25ed59994219831f9c27ba0cc778",
      "ee161efb14e149c4a67639fd60297570",
      "70bedfa7520647dc81ce6799f7598684",
      "c1cfab4ce62b44c9b8aaf11d65a7f1a5",
      "bc40542dfabc44cca815019f42640d1f",
      "6dfbca3bb74f43f2bf8b0e4079c2f89a",
      "064f76b045b84c899cf2cc1180d9973b",
      "c698eeddc7284404af27e07b6d2740b5",
      "a9ca6daf2af941468367ef57526ded25",
      "ad521dac51a24c16a8bb3b2d1056f65d",
      "d1c271be665e41bd8ff37f8e7f6c8014",
      "4ca7cba7b0ee46da8d85c8a203c6d905",
      "bfbcf9779f704e8b8f9f61e9d989bc86",
      "83ab5bb7b783490d8d3f9052a0aafa4f",
      "6a52c343da104b04822a98f744cec16e",
      "c145d142f1d04577b1b7059067302fd8",
      "f414f3edf71d4dd98d8bce41df258ce4",
      "e5c853b74b8f490aa2b98574607e236c",
      "6cc8dda98189440680d200bfa1d8c252",
      "d2f6721b9e2a420f8728b1b1664e8c82",
      "a2e8324df0ef4f949499af18d2c81d45",
      "aea3626a5f664146a6070d540d972313",
      "7d653ecd6721413abf5b5bdd184c65fc",
      "4c2f5e01c706457bb9b42fc28d56b721",
      "db4c8b94789b4974b350dda17a01fded",
      "0a56cc285d314820879a1cf453a966ee",
      "f70a709f29554a9f95ddce1ece005734",
      "2cb6605cc8c8462688b8e767922c9f72",
      "0b5c29a5f45a47cab1e7656b9a12197f",
      "a4ed1850365d4281909f76ec064a7148",
      "9ac7449c123148d48d9fbfd0148688d9",
      "de0329dc646a4b5c9feee6d2f321cd41",
      "dbfac08fc8ae43189f2437fdefbb5aef",
      "3f758c290b074882ab44794e6cbde7b6",
      "f2b91c6ba67645ba98e0ba5ff9036848",
      "5743632a77c64e07a7a971e4294f9196",
      "a78703aa3bf14a8e86096bc41a5ba23d",
      "6124f424b59646f493c062301b8cebb0",
      "fe2ebb2f5bee48c3b48e3c27511d826d",
      "ceb284df856546e798351bdefce52acc",
      "f13b347377e2458096bdc2f383aad105",
      "32242e26a5a44a8ca2d9e02d6e51618d",
      "0107129ff27c4c409fdb69eb41bb074a",
      "00f535763a574ab8af53bcd1d21751f4",
      "018f37b942234fd2895396a9bbd5c555",
      "8a4de3f9d1714be8b1f34ed3cf97dac4",
      "8d96086ac5bd4b3d866a105134429e62",
      "b418bd86ef014d9191d3385dde6417e4",
      "4561a4ba2f8d495ba100bba000989ea4",
      "25d7719522e140f982d295dcac173388",
      "444e708487154a559e441f3dca7432a4",
      "6178e4e94d954ecea1686b86ecf30b15",
      "a4e5281cbe034ac0a13d10b595cadc39",
      "0dc287425e7b41479ad8416d543afa89",
      "be39e21ddb0745adb40742a2ebf210f4",
      "5613e00e59584374a819b17b46eceb7b",
      "f8733c340ccd44cf93e2319c9c54cc76",
      "688e64005df94630bd3aea0f54ddd0a0",
      "f4ded77170d544de81938d146e2c587a",
      "72433a34bfef485cb20b348ee57d29a6",
      "d1f8544032084f999aaa2080b22a820b",
      "a7b46a60c8f54bb5b979496efcf7ee18",
      "db6434fdbdce4e93aba4029479343f4a",
      "5cb0099c133844e4812d078a48a9e8eb",
      "d6bc5197ba05416c92af505ed91a8af7",
      "58d3f216e58f4395af6115a884093e69",
      "dc201bcb2b5a4224b7419be96436c6f2",
      "d1d4d3498def4cdb8574d31f57456157",
      "34ca2fc076f94e90b335b8197c214ea1",
      "b4156562ffa14d8781483b156dee2209",
      "f37776b68b9f4b7783c781793833265d",
      "b32c5b7b6cb543eda6a88a9c1e038a47",
      "eb13e55f39f94ad08ff7b5acdf4fc811",
      "7e1f63906b13469ebce1442019b0acd9",
      "2970af317d724924ac535b2feda93b7b",
      "f4ffad60076d47c2812f684b1d413d53",
      "7481e1a2e8ff4ecc99afe7e54ed3150f",
      "ed814d44ebc44dcea415a7e764b2faf9",
      "4ce1d26e9b8f4960af8d927b2c208526",
      "6ea536dfef954519a07d79dcf38a5a65",
      "ab79cdc8844e423980f6379522004e7e",
      "a99c593bed2e42bf87afb9e27dc83dc5",
      "4e54c19baa584634a60c2c2ddf1f3886",
      "93f5dfd904d1411da5fbcb29609e60e8",
      "c6533c5595bc48ce8ab1aadd6dc9f77c",
      "e2ab6ef6c76f4551878e180257554732",
      "9e712ce6ae9742189f923454faab2835",
      "a9a3832fbe3345659242252417ee5104",
      "a37f8859d1ad4f078efeaefd124dec11",
      "243ee282f8bc40e2a53f51d101909cdb",
      "1a3ab3195d7949b6a79f748c1e7786ec",
      "3003ec689c584115bc6de800cb61c7fe",
      "50b875526d3b46d98e1f0428f2e44a93",
      "42d395a0e5834d808964b3ee37574828",
      "ad819e1a47554cbfa62696b05c5c33dd",
      "8a6e15a552f84b0cbf1cfd797532f7a9",
      "141d7f127ef24f1bbafeb925e46c0097",
      "973784350647498fbdd0d97554e71c6f",
      "7e61bc8d10a843e1b39838cc678b160a",
      "59049888fee646aeb9fd2ceef75432c4",
      "c13e6efba02f401e8e3292e9ffd35f26",
      "915220305daf446abed8dab39a016db4",
      "de86be72ef4a488e828d4a986e187ca8",
      "a0570d8a50f84795b7410b6feb61874d",
      "b838ce5be8ae44f6a4f8343ad79af17a",
      "b33be4c5e1dd4e2fb906efad8a935e9e",
      "4012f718790c4271931d872bd4b5befd",
      "abc91f4dfbb74ac987b6b0c31444318f",
      "8cf575746a14468eb53c8759402dfef4",
      "0032c67e94dd4f79ac71f82b069c0fa2",
      "fe5ae9088c7341ccb0ac0c8ea4f4114b",
      "d0ab1f3131d744838519f71474c53ea4",
      "7609a74b0c2e4893af18515162720941",
      "2ded1e9ac5234217b649dad30c7b195d",
      "2eb6d94aeab64add950eda03648391da",
      "f50fe4b3a27c46059c5da4ffd14b995e",
      "fc584ead78fe4f4a8b739f204216e5bf",
      "0b4763d3faf64d6786ac59ffc336e609",
      "f9a44e57bc854258bd12f43b0b0b0217",
      "de330c1a0ed24c3eb5430c22392c70b1",
      "8d30bb0927764e82a68d2d4650cb8261"
     ]
    },
    "executionInfo": {
     "elapsed": 68213,
     "status": "ok",
     "timestamp": 1750019576982,
     "user": {
      "displayName": "Noella Buti",
      "userId": "06118441993782992948"
     },
     "user_tz": 420
    },
    "id": "-IFrE17zaxYl",
    "outputId": "c698a822-dfea-401f-a818-c8364106f791"
   },
   "outputs": [
    {
     "name": "stderr",
     "output_type": "stream",
     "text": [
      "/usr/local/lib/python3.11/dist-packages/huggingface_hub/utils/_auth.py:94: UserWarning: \n",
      "The secret `HF_TOKEN` does not exist in your Colab secrets.\n",
      "To authenticate with the Hugging Face Hub, create a token in your settings tab (https://huggingface.co/settings/tokens), set it as secret in your Google Colab and restart your session.\n",
      "You will be able to reuse this secret in all of your notebooks.\n",
      "Please note that authentication is recommended but still optional to access public models or datasets.\n",
      "  warnings.warn(\n"
     ]
    },
    {
     "data": {
      "application/vnd.jupyter.widget-view+json": {
       "model_id": "ae6d25ed59994219831f9c27ba0cc778",
       "version_major": 2,
       "version_minor": 0
      },
      "text/plain": [
       "modules.json:   0%|          | 0.00/349 [00:00<?, ?B/s]"
      ]
     },
     "metadata": {},
     "output_type": "display_data"
    },
    {
     "data": {
      "application/vnd.jupyter.widget-view+json": {
       "model_id": "4ca7cba7b0ee46da8d85c8a203c6d905",
       "version_major": 2,
       "version_minor": 0
      },
      "text/plain": [
       "config_sentence_transformers.json:   0%|          | 0.00/116 [00:00<?, ?B/s]"
      ]
     },
     "metadata": {},
     "output_type": "display_data"
    },
    {
     "data": {
      "application/vnd.jupyter.widget-view+json": {
       "model_id": "7d653ecd6721413abf5b5bdd184c65fc",
       "version_major": 2,
       "version_minor": 0
      },
      "text/plain": [
       "README.md:   0%|          | 0.00/10.5k [00:00<?, ?B/s]"
      ]
     },
     "metadata": {},
     "output_type": "display_data"
    },
    {
     "data": {
      "application/vnd.jupyter.widget-view+json": {
       "model_id": "3f758c290b074882ab44794e6cbde7b6",
       "version_major": 2,
       "version_minor": 0
      },
      "text/plain": [
       "sentence_bert_config.json:   0%|          | 0.00/53.0 [00:00<?, ?B/s]"
      ]
     },
     "metadata": {},
     "output_type": "display_data"
    },
    {
     "data": {
      "application/vnd.jupyter.widget-view+json": {
       "model_id": "018f37b942234fd2895396a9bbd5c555",
       "version_major": 2,
       "version_minor": 0
      },
      "text/plain": [
       "config.json:   0%|          | 0.00/612 [00:00<?, ?B/s]"
      ]
     },
     "metadata": {},
     "output_type": "display_data"
    },
    {
     "data": {
      "application/vnd.jupyter.widget-view+json": {
       "model_id": "5613e00e59584374a819b17b46eceb7b",
       "version_major": 2,
       "version_minor": 0
      },
      "text/plain": [
       "model.safetensors:   0%|          | 0.00/90.9M [00:00<?, ?B/s]"
      ]
     },
     "metadata": {},
     "output_type": "display_data"
    },
    {
     "data": {
      "application/vnd.jupyter.widget-view+json": {
       "model_id": "dc201bcb2b5a4224b7419be96436c6f2",
       "version_major": 2,
       "version_minor": 0
      },
      "text/plain": [
       "tokenizer_config.json:   0%|          | 0.00/350 [00:00<?, ?B/s]"
      ]
     },
     "metadata": {},
     "output_type": "display_data"
    },
    {
     "data": {
      "application/vnd.jupyter.widget-view+json": {
       "model_id": "ed814d44ebc44dcea415a7e764b2faf9",
       "version_major": 2,
       "version_minor": 0
      },
      "text/plain": [
       "vocab.txt:   0%|          | 0.00/232k [00:00<?, ?B/s]"
      ]
     },
     "metadata": {},
     "output_type": "display_data"
    },
    {
     "data": {
      "application/vnd.jupyter.widget-view+json": {
       "model_id": "a37f8859d1ad4f078efeaefd124dec11",
       "version_major": 2,
       "version_minor": 0
      },
      "text/plain": [
       "tokenizer.json:   0%|          | 0.00/466k [00:00<?, ?B/s]"
      ]
     },
     "metadata": {},
     "output_type": "display_data"
    },
    {
     "data": {
      "application/vnd.jupyter.widget-view+json": {
       "model_id": "59049888fee646aeb9fd2ceef75432c4",
       "version_major": 2,
       "version_minor": 0
      },
      "text/plain": [
       "special_tokens_map.json:   0%|          | 0.00/112 [00:00<?, ?B/s]"
      ]
     },
     "metadata": {},
     "output_type": "display_data"
    },
    {
     "data": {
      "application/vnd.jupyter.widget-view+json": {
       "model_id": "fe5ae9088c7341ccb0ac0c8ea4f4114b",
       "version_major": 2,
       "version_minor": 0
      },
      "text/plain": [
       "config.json:   0%|          | 0.00/190 [00:00<?, ?B/s]"
      ]
     },
     "metadata": {},
     "output_type": "display_data"
    },
    {
     "name": "stdout",
     "output_type": "stream",
     "text": [
      "\n",
      "Prompt 1: Write an anime synopsis that matches 'Adventure, Comedy and Fantasy'.\n",
      "Generated: the same season of the original season of the second boy to the anime of the the cold of the world and a named and their father is a in a wandering she is been they to get the and\n",
      "True:      on one noteworthy day in the adventurer's guild, kazuma satou encounters someone unexpecteda fan of his named ran. surprised that he even has a fan, kazuma attempts to play it cool to impress her. unfortunately for him, the guild's receptionist arrives with a request to defeat a giant golem guarding some ancient ruins, and kazuma accepts only to keep ran's admiration. upon kazuma and his party's successful return from the ruins, kazuma continues to shamelessly brag to ran. capitalizing on his desperation, the receptionist approaches him with another quest that requires him to return to the same ruins. hoping to find valuable treasures, kazuma once again convinces his party to join himbut this time, he may be biting off more than he can chew.\n",
      "Cosine Similarity: 0.297\n",
      "--------------------------------------------------\n",
      "\n",
      "Prompt 2: Write an anime synopsis that matches 'Mystery and Supernatural'.\n",
      "Generated: the based at the world of the first is a of a planet.\n",
      "True:      the anime is set in the fictional geso ward in tokyo, a school city where an app called aicis is becoming popular. those who get the app are given supernatural powers, which they use to pursue their own selfish desires, leading to many occurrences of violence and other incidents. the story focuses on a group of detectives who solve cases related to power wielders.\n",
      "Cosine Similarity: 0.102\n",
      "--------------------------------------------------\n",
      "\n",
      "Prompt 3: Generate a 'Historical and Mythology' themed anime targeting 'Shoujo'.\n",
      "Generated: two recap of the first episodes of the girls episodes in the bluray chibi country and second teenage saves a story of the original season of and the third end on the small island.\n",
      "True:      in the nineteenth century, we find lydia carlton living in scotland, making a living as a fairy doctor. she is one of those rare humans who can see and communicate with fairies. but no one believes her. however, edgar is in need of someone with a vast knowledge of fairy lore, and lydia is just that person. after rescuing her, he becomes her employer, but there are many secrets and emotions that seem to follow edgar, who claims to be the blue knight's earl.\n",
      "Cosine Similarity: 0.193\n",
      "--------------------------------------------------\n",
      "\n",
      "Prompt 4: Write an anime synopsis that matches 'Adventure'.\n",
      "Generated: episode in the planet of the new\n",
      "True:      takashi loves reading books and especially loves alice's adventures in wonderland. one day, he buys some used books, and he finds one book thrown in. when takashi opens the book, the god of math m1 appeared. takashi is told that alice is kidnapped, and he's asked to rescue her by m1. and takashi goes on an adventure in wonderland to rescue alice.\n",
      "Cosine Similarity: 0.226\n",
      "--------------------------------------------------\n",
      "\n",
      "Prompt 5: Create an anime synopsis with 'Comedy, Fantasy and Slice Of Life' and 'Anthropomorphic'.\n",
      "Generated: an episode of the normal school\n",
      "True:      in a city filled with anthropomorphic catpeople, catman lives free of rules and boundaries, doing everything he wants, which often collides with the other inhabitants of the city. created entirely in flash, with no spoken dialog, catman instead speaks in english and japanese subtitles. the series is spread across three socalled 'seasons', with only the third having been aired.\n",
      "Cosine Similarity: 0.251\n",
      "--------------------------------------------------\n",
      "\n",
      "Prompt 6: Write an anime synopsis that matches 'Action, Adventure, Drama, Romance and Sci-Fi'.\n",
      "Generated: a year characters living\n",
      "True:      in the backwater town of bellforest lives a 14yearold boy named renton thurston. he desires to leave his home behind and join the mercenary group known as gekkostate, hoping to find some adventure to brighten up his mundane life. however, stuck between his grandfather's insistence to become a mechanic like him and the pressure of his deceased father's legacy, the only excitement renton finds is in his pastime of riding the trapar wave particles that are dispersed throughout the air, an activity akin to surfing. everything changes when an unknown object crashes through renton's garage, discovered to be a light finding operationa robot capable of riding the trapar wavesspecifically known as the nirvash typezero. its pilot is a young girl named eureka, a member of the gekkostate, who requests a tuneup for the nirvash. their meeting sparks the beginning of renton's involvement with the gekkostate as he takes off alongside eureka as the copilot of the nirvash.\n",
      "Cosine Similarity: 0.354\n",
      "--------------------------------------------------\n",
      "\n",
      "Prompt 7: Create an anime synopsis with 'Sports' and 'Anthropomorphic and Racing'.\n",
      "Generated: a secret hour of the story of the land of the warmth of the original and the group of the number of the to the limited art of and\n",
      "True:      within the horseracing world, the horse girls of team spica have been gaining popularity as they continue to rack up victories. the one receiving the most attention in the group is toukai teiou, known for her cheerful personality and exceptional running skills. teiou aims to become an undefeated triple crown horse girl by winning all three g1 races consecutively, a feat that has not been accomplished since the legendary symbolic rudolf managed to do so many years ago. on her path to obtaining the triple crown, teiou is met with many challenges, encountering both old and new rivals. amidst her fierce rivalries, however, teiou is soon confronted with decisions that will leave a huge impact on her very own racing career.\n",
      "Cosine Similarity: 0.098\n",
      "--------------------------------------------------\n",
      "\n",
      "Prompt 8: Write an anime synopsis based on the 'Mecha and Space'.\n",
      "Generated: the four high son of the victory with a other peaceful school to unravel the school of the destruction of music it is a and is the and videos with the new school of his on the heart of\n",
      "True:      when one space colony declared its independence from the earth federation, the devastating 7th space war, an allout war between earth and space, resulted. the federation responded to the space revolutionary army with mobile suits, called gundams. however, the space revolutionary forces played their trump card and dropped hundreds of space colonies onto the earth, plunging the planet into a sevenyearlong nuclear winter. the federation collapsed, but the space revolutionary army was unable to invade the earth in the aftermath of the colony drop. fifteen years have passed. the year is now after war 0015, and a new federation has sprung up on earth to restore order. in space, the colonial leaders have been rebuilding their own forces as well. by chance, fifteenyearold garrod ran has discovered an old federation mobile suit, the gundam x, and now he uses it to help out the vulture ship freeden in its struggle to keep the powers that be from repeating the mistakes of the past.\n",
      "Cosine Similarity: 0.058\n",
      "--------------------------------------------------\n",
      "\n",
      "Prompt 9: Write a 'Slice Of Life' anime synopsis inspired by 'Welcome, Chitose'.\n",
      "Generated: the official included between the episode of the elite girl and trying to the chief of the after a giant\n",
      "True:      chitosechan is a penguin who lives in kyoto. getting in touch with people and getting fed delicious food as she curiously walks around kyoto streets is her favourite thing to do. the story features popular places in kyoto like kiyomizu temple, ginkaku temple, and gion from the penguin's point of view. this is a short story about a penguin that is nostalgic and warm, curing and relieving the heart.\n",
      "Cosine Similarity: 0.080\n",
      "--------------------------------------------------\n",
      "\n",
      "Prompt 10: Write an anime synopsis that matches 'Adventure, Mystery, Slice Of Life and Supernatural'.\n",
      "Generated: in if a girl is suddenly once a planet of the to be the high school is a new is the however, when the and the through the last is a young\n",
      "True:      ghostly, primordial beings known as mushi continue to cause mysterious changes in the lives of humans. the travelling mushishi, ginko, persists in trying to set right the strange and unsettling situations he encounters. time loops, living shadows, and telepathy are among the overt effects of interference from mushi, but more subtle symptoms that take years to be noticed also rouse ginko's concern as he passes from village to village. through circumstance, ginko has become an arbiter, determining which mushi are blessings and which are curses. but the lines that he seeks to draw are subjective. some of his patients would rather exercise their new powers until they are utterly consumed by them; others desperately strive to rid themselves of afflictions which are in fact protecting their lives from devastation. those who cross paths with mushi must learn to accept seemingly impossible consequences for their actions, and heal wounds they did not know they had. otherwise, they risk meeting with fates beyond their comprehension.\n",
      "Cosine Similarity: 0.221\n",
      "--------------------------------------------------\n",
      "\n",
      "Prompt 11: Generate a 'Historical and Visual Arts' themed anime targeting 'Seinen'.\n",
      "Generated: the bodyresumes the story of the nation of the kind of the main student but the year match on the kingdom of the first characters and the a most who have the girls is the only getting to them to been go to take a boy and the\n",
      "True:      in the 16th century, the city of florence booms with cultural and creative revival in celebration of the renaissance. arte, a delightful young lady from an aristocratic family, dreams of being an artist and contributing to the renewal of civilization. however, with her father's death, she ends up losing the only person who believed in her passion for art. now she is expected to marry a nobleman and live as a refined housewife without disgracing her family name. reluctant to accept her fate, the headstrong arte steps into the streets in search of a master artisan to take her on as an apprentice. in her quest for a mentor, arte has to face harsh reality when she is completely shunned for being a female artist. no one believes that women are capable of fine craftsmanship, and therefore none are willing to accept her. luckily, a renowned artisan by the name of leo is persuaded to take her as his disciple since he has none anyway. and thus, arte's new life begins, far from the comfort of her noble upbringing. as an apprentice, she must earn her keep while tackling various challenges along the difficult path to becoming a fullfledged, master artisan.\n",
      "Cosine Similarity: 0.188\n",
      "--------------------------------------------------\n",
      "\n",
      "Prompt 12: Generate an anime synopsis for 'Kids'.\n",
      "Generated: a monstrous series of the second battle of the young girl's new tv episode of the alternate normal legend up in the truth of the female\n",
      "True:      the separated sisters melonpanna and rollpanna both befriend a mysterious horse marin. she shows rollpanna her treasure, a sunken ship she raises from the depths. baikinman sees this and is inspired to build a ghost ship of his own with help from dr. hiyari. he also plots to turn rollpanna fully evil in order to use her to defeat anpanman.\n",
      "Cosine Similarity: 0.097\n",
      "--------------------------------------------------\n",
      "\n",
      "Prompt 13: Write a 'Slice Of Life' anime synopsis inspired by 'Is the Order a Rabbit? Bloom'.\n",
      "Generated: in the second season of a world.\n",
      "True:      although the year is coming close to an end, there is no lack of fun for kokoa hoto and the other caf waitresses! from bazaars to festivals, life is as enjoyable as it gets. as for chino kafuu and her middle school friendsthe friendly megumi natsu and the playful maya jougathey begin to look towards the future and decide on a high school to enroll in. bonds of friendship and exciting adventures blend into gochuumon wa usagi desu ka? bloom as the joyful lives of the caf waitresses continue.\n",
      "Cosine Similarity: 0.290\n",
      "--------------------------------------------------\n",
      "\n",
      "Prompt 14: Create an anime synopsis with 'Action and Sci-Fi' and 'Mecha'.\n",
      "Generated: unaired special third world is the series of the extra skills. when the and the world, has just to take the a and is lost the two girl who is able to be with the true police of her master\n",
      "True:      fourteenyearold kouichi hayase's life has always been a mediocre one, if not dismal. however, those days of being bullied by classmates and escaping to a fantasy of being a hero are put to an end when a certain accident bestows on him a girl and a gigantic humanoid robot called linebarrel. the extraordinary power that kouichi obtains puts him and everything around him on a sudden rollercoaster ride of battles, intrigues and friendship! during the course of his adventure, the boy starts to learn what life has to offer; he meets new friends, bids farewell to the old ones, but most of all he now has considerable responsibilities and is forced to confront the world around him.\n",
      "Cosine Similarity: 0.263\n",
      "--------------------------------------------------\n",
      "\n",
      "Prompt 15: Write an anime synopsis based on the 'Martial Arts'.\n",
      "Generated: in the king of the tv episode of the war is a girl known of the and the state of the and an boy of the of he has not he must be a festival who he are quite\n",
      "True:      in the boundary of pazhou, there are hundreds of scholars, tang poetry and song poetry, all have shuling 30,000 years ago, the gods named nancheng library descended from the sky, and the books in the pazhou continent were born. shu ling, the analects of confucius, tang poetry, song song, compendium of materia medica, and perhaps threeyear examination of fiveyear college entrance examination; after 30,000 years, gu qi must wake up from three hundred tang poems riding on shan hai jing, i decided to go to miss liaozhai, talk about how to levy zheng clothing jiu world  um, everyone is good, my name is gu qi, my emotional intelligence is low, my mind has pit,i also like to say that i am very honest but nothing, you can't beat me!\n",
      "Cosine Similarity: 0.152\n",
      "--------------------------------------------------\n",
      "\n",
      "Prompt 16: Write an anime synopsis that matches 'Romance'.\n",
      "Generated: the human star school battle in his days or a where the school of the and the on the world of but the village and a yet and sometimes can make the desire to a conspiracy to her new\n",
      "True:      for hearingimpaired university student yuki itose, silence has been a natural part of life since birth. her world is small and isolated; she commutes to campus, interacts with her best friend rin fujishiro, and communicates through writing and text messagesa lifestyle that offers little to no change. one day, during her commute, yuki meets fellow student itsuomi nagi, a multilingual travel enthusiast and friend of rin. when itsuomi learns of yuki's condition, he takes it in stride, moving yuki's heart. from this one simple gesture, yuki and itsuomi's lives start changing day by day as they let each other into their own worlds.\n",
      "Cosine Similarity: 0.272\n",
      "--------------------------------------------------\n",
      "\n",
      "Prompt 17: Write an anime synopsis based on the 'School and Team Sports'.\n",
      "Generated: the world of the basketball martial dutchman arts is the best of the local artist against the truth.\n",
      "True:      when minato kiyomizu wakes up in a hospital, he learns that he has been comatose for 203 days. as it turns out, a car accident has caused him to lose all memory of his middle school journey. eventually, he discovers his former glory in water polo and desires to continue where he has left off. however, embarrassingly becoming aware of the massive disparity between his old and current self, minato begins intensive rehabilitation in hopes of starting anewa life without water polo. yet, minato is promptly reminded of his past prowess and a promise on his very first day in yamanami high school. soon enough, despite being completely aware of his ineptitude, he joins the school's water polo club! while needing to relearn the sport's basics, he, along with his clubmates, must recruit new members to attain the required sevenman roster. with that, minato tries to rekindle his deeply buried talent for water poloand become one of japan's renowned players once again.\n",
      "Cosine Similarity: 0.279\n",
      "--------------------------------------------------\n",
      "\n",
      "Prompt 18: Write an anime synopsis that matches 'Drama, Mystery and Supernatural'.\n",
      "Generated: three life starts to years with a\n",
      "True:      while going through old documents, roberto nicholas comes upon a peculiar record. it details the agreement of a witch who concocted a soup that supposedly granted generations of popes with longevity in return for her exoneration from the brutal witch trials. curious as to why the vatican treated the record with such secrecy and whether the elixir of longevity truly exists, roberto and his partner, josef kou hiraga, seek to recreate the witchs soup.\n",
      "Cosine Similarity: 0.203\n",
      "--------------------------------------------------\n",
      "\n",
      "Prompt 19: Write an anime synopsis based on the 'Mythology and School'.\n",
      "Generated: orders with the attention of the last man and high from the of the two student and considered a young learns in the bluraydvd to become a in a member of the world of the everyday man and the\n",
      "True:      samatarou is not just an average highschool boy, the truth is that he is the son of a god, his mother is a goddess and his sisters are candidates to become goddesses. they are living in the human world, because they want their boy to learn about the human customs and the habits of the creatures that they are protecting, so that in this way samatarou will become a better god. tenko is a angel assigned to look after samatarou. she's born the same day, same year as samatarou and have been close friends ever since. life seems normal but things start to change with the appearance of a transfer student named kumiko. samatarou falls in love with her and from now on, things will be a lot more different for him. his decision of making her fall in love with him without using his powers will put him in trouble.\n",
      "Cosine Similarity: 0.310\n",
      "--------------------------------------------------\n",
      "\n",
      "Prompt 20: Generate an anime synopsis for 'Kids'.\n",
      "Generated: in a school wants for a dark drivers to grant an joy of and all the is a girl and his while to three manga of the girls are the is to help the the world and\n",
      "True:      stray sheep is based on the tales of poe, a naive, independent and curious ram who finds himself sleepwalking into the most unpredictable situations on his path to reuniting with his herd and finding the ewe of his dreams.\n",
      "Cosine Similarity: 0.300\n",
      "--------------------------------------------------\n"
     ]
    }
   ],
   "source": [
    "# --- Evaluation ---\n",
    "embedding_model = SentenceTransformer(\"all-MiniLM-L6-v2\")\n",
    "results = []\n",
    "\n",
    "for i in range(len(test_df)):\n",
    "    prompt = input_prompts[i]\n",
    "    true = output_synopsis[i]\n",
    "    tag = tags[i] if isinstance(tags[i], str) else \"\"\n",
    "\n",
    "    generated = generate_synopsis(prompt, encoder_model, decoder_model_inf, tokenizer)\n",
    "    emb_tag = embedding_model.encode(tag.strip())\n",
    "    emb_gen = embedding_model.encode(generated.strip())\n",
    "    similarity = cosine_similarity([emb_tag], [emb_gen])[0][0]\n",
    "\n",
    "    results.append({\n",
    "        \"tags_combined\": tag,\n",
    "        \"prompt\": prompt,\n",
    "        \"generated\": generated,\n",
    "        \"true\": true,\n",
    "        \"cosine_similarity\": similarity\n",
    "    })\n",
    "\n",
    "    print(f\"\\nPrompt {i+1}: {prompt}\")\n",
    "    print(f\"Generated: {generated}\")\n",
    "    print(f\"True:      {true}\")\n",
    "    print(f\"Cosine Similarity: {similarity:.3f}\")\n",
    "    print(\"--------------------------------------------------\")\n"
   ]
  },
  {
   "cell_type": "code",
   "execution_count": 10,
   "metadata": {
    "executionInfo": {
     "elapsed": 401,
     "status": "ok",
     "timestamp": 1750019583022,
     "user": {
      "displayName": "Noella Buti",
      "userId": "06118441993782992948"
     },
     "user_tz": 420
    },
    "id": "CWV1FSrda2FY"
   },
   "outputs": [],
   "source": [
    "# --- Save Results ---\n",
    "test_df_results = pd.DataFrame(results)\n",
    "test_df_results.to_csv(\"RNN-GRU_EVAL_20rows_with_cosine_similarity.csv\", index=False)"
   ]
  },
  {
   "cell_type": "code",
   "execution_count": 11,
   "metadata": {
    "colab": {
     "base_uri": "https://localhost:8080/",
     "height": 1000
    },
    "executionInfo": {
     "elapsed": 62,
     "status": "ok",
     "timestamp": 1750019599344,
     "user": {
      "displayName": "Noella Buti",
      "userId": "06118441993782992948"
     },
     "user_tz": 420
    },
    "id": "aum3cy8fcaWx",
    "outputId": "ac954b93-5972-485b-f609-d4ad67f26338"
   },
   "outputs": [
    {
     "data": {
      "text/html": [
       "<style type=\"text/css\">\n",
       "#T_a330a th {\n",
       "  text-align: left;\n",
       "}\n",
       "#T_a330a_row0_col0, #T_a330a_row0_col1, #T_a330a_row0_col2, #T_a330a_row0_col3, #T_a330a_row0_col4, #T_a330a_row1_col0, #T_a330a_row1_col1, #T_a330a_row1_col2, #T_a330a_row1_col3, #T_a330a_row1_col4, #T_a330a_row2_col0, #T_a330a_row2_col1, #T_a330a_row2_col2, #T_a330a_row2_col3, #T_a330a_row2_col4, #T_a330a_row3_col0, #T_a330a_row3_col1, #T_a330a_row3_col2, #T_a330a_row3_col3, #T_a330a_row3_col4, #T_a330a_row4_col0, #T_a330a_row4_col1, #T_a330a_row4_col2, #T_a330a_row4_col3, #T_a330a_row4_col4, #T_a330a_row5_col0, #T_a330a_row5_col1, #T_a330a_row5_col2, #T_a330a_row5_col3, #T_a330a_row5_col4, #T_a330a_row6_col0, #T_a330a_row6_col1, #T_a330a_row6_col2, #T_a330a_row6_col3, #T_a330a_row6_col4, #T_a330a_row7_col0, #T_a330a_row7_col1, #T_a330a_row7_col2, #T_a330a_row7_col3, #T_a330a_row7_col4, #T_a330a_row8_col0, #T_a330a_row8_col1, #T_a330a_row8_col2, #T_a330a_row8_col3, #T_a330a_row8_col4, #T_a330a_row9_col0, #T_a330a_row9_col1, #T_a330a_row9_col2, #T_a330a_row9_col3, #T_a330a_row9_col4 {\n",
       "  text-align: left;\n",
       "  white-space: pre-wrap;\n",
       "}\n",
       "</style>\n",
       "<table id=\"T_a330a\" class=\"dataframe\">\n",
       "  <thead>\n",
       "    <tr>\n",
       "      <th class=\"blank level0\" >&nbsp;</th>\n",
       "      <th id=\"T_a330a_level0_col0\" class=\"col_heading level0 col0\" >tags_combined</th>\n",
       "      <th id=\"T_a330a_level0_col1\" class=\"col_heading level0 col1\" >prompt</th>\n",
       "      <th id=\"T_a330a_level0_col2\" class=\"col_heading level0 col2\" >generated</th>\n",
       "      <th id=\"T_a330a_level0_col3\" class=\"col_heading level0 col3\" >true</th>\n",
       "      <th id=\"T_a330a_level0_col4\" class=\"col_heading level0 col4\" >cosine_similarity</th>\n",
       "    </tr>\n",
       "  </thead>\n",
       "  <tbody>\n",
       "    <tr>\n",
       "      <th id=\"T_a330a_level0_row0\" class=\"row_heading level0 row0\" >0</th>\n",
       "      <td id=\"T_a330a_row0_col0\" class=\"data row0 col0\" >adventure comedy fantasy</td>\n",
       "      <td id=\"T_a330a_row0_col1\" class=\"data row0 col1\" >Write an anime synopsis that matches 'Adventure, Comedy and Fantasy'.</td>\n",
       "      <td id=\"T_a330a_row0_col2\" class=\"data row0 col2\" >the same season of the original season of the second boy to the anime of the the cold of the world and a named and their father is a in a wandering she is been they to get the and</td>\n",
       "      <td id=\"T_a330a_row0_col3\" class=\"data row0 col3\" >on one noteworthy day in the adventurer's guild, kazuma satou encounters someone unexpecteda fan of his named ran. surprised that he even has a fan, kazuma attempts to play it cool to impress her. unfortunately for him, the guild's receptionist arrives with a request to defeat a giant golem guarding some ancient ruins, and kazuma accepts only to keep ran's admiration. upon kazuma and his party's successful return from the ruins, kazuma continues to shamelessly brag to ran. capitalizing on his desperation, the receptionist approaches him with another quest that requires him to return to the same ruins. hoping to find valuable treasures, kazuma once again convinces his party to join himbut this time, he may be biting off more than he can chew.</td>\n",
       "      <td id=\"T_a330a_row0_col4\" class=\"data row0 col4\" >0.296875</td>\n",
       "    </tr>\n",
       "    <tr>\n",
       "      <th id=\"T_a330a_level0_row1\" class=\"row_heading level0 row1\" >1</th>\n",
       "      <td id=\"T_a330a_row1_col0\" class=\"data row1 col0\" >mystery supernatural</td>\n",
       "      <td id=\"T_a330a_row1_col1\" class=\"data row1 col1\" >Write an anime synopsis that matches 'Mystery and Supernatural'.</td>\n",
       "      <td id=\"T_a330a_row1_col2\" class=\"data row1 col2\" >the based at the world of the first is a of a planet.</td>\n",
       "      <td id=\"T_a330a_row1_col3\" class=\"data row1 col3\" >the anime is set in the fictional geso ward in tokyo, a school city where an app called aicis is becoming popular. those who get the app are given supernatural powers, which they use to pursue their own selfish desires, leading to many occurrences of violence and other incidents. the story focuses on a group of detectives who solve cases related to power wielders.</td>\n",
       "      <td id=\"T_a330a_row1_col4\" class=\"data row1 col4\" >0.102090</td>\n",
       "    </tr>\n",
       "    <tr>\n",
       "      <th id=\"T_a330a_level0_row2\" class=\"row_heading level0 row2\" >2</th>\n",
       "      <td id=\"T_a330a_row2_col0\" class=\"data row2 col0\" >historical mythology shoujo</td>\n",
       "      <td id=\"T_a330a_row2_col1\" class=\"data row2 col1\" >Generate a 'Historical and Mythology' themed anime targeting 'Shoujo'.</td>\n",
       "      <td id=\"T_a330a_row2_col2\" class=\"data row2 col2\" >two recap of the first episodes of the girls episodes in the bluray chibi country and second teenage saves a story of the original season of and the third end on the small island.</td>\n",
       "      <td id=\"T_a330a_row2_col3\" class=\"data row2 col3\" >in the nineteenth century, we find lydia carlton living in scotland, making a living as a fairy doctor. she is one of those rare humans who can see and communicate with fairies. but no one believes her. however, edgar is in need of someone with a vast knowledge of fairy lore, and lydia is just that person. after rescuing her, he becomes her employer, but there are many secrets and emotions that seem to follow edgar, who claims to be the blue knight's earl.</td>\n",
       "      <td id=\"T_a330a_row2_col4\" class=\"data row2 col4\" >0.192956</td>\n",
       "    </tr>\n",
       "    <tr>\n",
       "      <th id=\"T_a330a_level0_row3\" class=\"row_heading level0 row3\" >3</th>\n",
       "      <td id=\"T_a330a_row3_col0\" class=\"data row3 col0\" >adventure</td>\n",
       "      <td id=\"T_a330a_row3_col1\" class=\"data row3 col1\" >Write an anime synopsis that matches 'Adventure'.</td>\n",
       "      <td id=\"T_a330a_row3_col2\" class=\"data row3 col2\" >episode in the planet of the new</td>\n",
       "      <td id=\"T_a330a_row3_col3\" class=\"data row3 col3\" >takashi loves reading books and especially loves alice's adventures in wonderland. one day, he buys some used books, and he finds one book thrown in. when takashi opens the book, the god of math m1 appeared. takashi is told that alice is kidnapped, and he's asked to rescue her by m1. and takashi goes on an adventure in wonderland to rescue alice.</td>\n",
       "      <td id=\"T_a330a_row3_col4\" class=\"data row3 col4\" >0.226136</td>\n",
       "    </tr>\n",
       "    <tr>\n",
       "      <th id=\"T_a330a_level0_row4\" class=\"row_heading level0 row4\" >4</th>\n",
       "      <td id=\"T_a330a_row4_col0\" class=\"data row4 col0\" >anthropomorphic comedy fantasy slice of life</td>\n",
       "      <td id=\"T_a330a_row4_col1\" class=\"data row4 col1\" >Create an anime synopsis with 'Comedy, Fantasy and Slice Of Life' and 'Anthropomorphic'.</td>\n",
       "      <td id=\"T_a330a_row4_col2\" class=\"data row4 col2\" >an episode of the normal school</td>\n",
       "      <td id=\"T_a330a_row4_col3\" class=\"data row4 col3\" >in a city filled with anthropomorphic catpeople, catman lives free of rules and boundaries, doing everything he wants, which often collides with the other inhabitants of the city. created entirely in flash, with no spoken dialog, catman instead speaks in english and japanese subtitles. the series is spread across three socalled 'seasons', with only the third having been aired.</td>\n",
       "      <td id=\"T_a330a_row4_col4\" class=\"data row4 col4\" >0.251394</td>\n",
       "    </tr>\n",
       "    <tr>\n",
       "      <th id=\"T_a330a_level0_row5\" class=\"row_heading level0 row5\" >5</th>\n",
       "      <td id=\"T_a330a_row5_col0\" class=\"data row5 col0\" >action adventure drama romance sci-fi</td>\n",
       "      <td id=\"T_a330a_row5_col1\" class=\"data row5 col1\" >Write an anime synopsis that matches 'Action, Adventure, Drama, Romance and Sci-Fi'.</td>\n",
       "      <td id=\"T_a330a_row5_col2\" class=\"data row5 col2\" >a year characters living</td>\n",
       "      <td id=\"T_a330a_row5_col3\" class=\"data row5 col3\" >in the backwater town of bellforest lives a 14yearold boy named renton thurston. he desires to leave his home behind and join the mercenary group known as gekkostate, hoping to find some adventure to brighten up his mundane life. however, stuck between his grandfather's insistence to become a mechanic like him and the pressure of his deceased father's legacy, the only excitement renton finds is in his pastime of riding the trapar wave particles that are dispersed throughout the air, an activity akin to surfing. everything changes when an unknown object crashes through renton's garage, discovered to be a light finding operationa robot capable of riding the trapar wavesspecifically known as the nirvash typezero. its pilot is a young girl named eureka, a member of the gekkostate, who requests a tuneup for the nirvash. their meeting sparks the beginning of renton's involvement with the gekkostate as he takes off alongside eureka as the copilot of the nirvash.</td>\n",
       "      <td id=\"T_a330a_row5_col4\" class=\"data row5 col4\" >0.353658</td>\n",
       "    </tr>\n",
       "    <tr>\n",
       "      <th id=\"T_a330a_level0_row6\" class=\"row_heading level0 row6\" >6</th>\n",
       "      <td id=\"T_a330a_row6_col0\" class=\"data row6 col0\" >anthropomorphic racing sports</td>\n",
       "      <td id=\"T_a330a_row6_col1\" class=\"data row6 col1\" >Create an anime synopsis with 'Sports' and 'Anthropomorphic and Racing'.</td>\n",
       "      <td id=\"T_a330a_row6_col2\" class=\"data row6 col2\" >a secret hour of the story of the land of the warmth of the original and the group of the number of the to the limited art of and</td>\n",
       "      <td id=\"T_a330a_row6_col3\" class=\"data row6 col3\" >within the horseracing world, the horse girls of team spica have been gaining popularity as they continue to rack up victories. the one receiving the most attention in the group is toukai teiou, known for her cheerful personality and exceptional running skills. teiou aims to become an undefeated triple crown horse girl by winning all three g1 races consecutively, a feat that has not been accomplished since the legendary symbolic rudolf managed to do so many years ago. on her path to obtaining the triple crown, teiou is met with many challenges, encountering both old and new rivals. amidst her fierce rivalries, however, teiou is soon confronted with decisions that will leave a huge impact on her very own racing career.</td>\n",
       "      <td id=\"T_a330a_row6_col4\" class=\"data row6 col4\" >0.098121</td>\n",
       "    </tr>\n",
       "    <tr>\n",
       "      <th id=\"T_a330a_level0_row7\" class=\"row_heading level0 row7\" >7</th>\n",
       "      <td id=\"T_a330a_row7_col0\" class=\"data row7 col0\" >mecha space</td>\n",
       "      <td id=\"T_a330a_row7_col1\" class=\"data row7 col1\" >Write an anime synopsis based on the 'Mecha and Space'.</td>\n",
       "      <td id=\"T_a330a_row7_col2\" class=\"data row7 col2\" >the four high son of the victory with a other peaceful school to unravel the school of the destruction of music it is a and is the and videos with the new school of his on the heart of</td>\n",
       "      <td id=\"T_a330a_row7_col3\" class=\"data row7 col3\" >when one space colony declared its independence from the earth federation, the devastating 7th space war, an allout war between earth and space, resulted. the federation responded to the space revolutionary army with mobile suits, called gundams. however, the space revolutionary forces played their trump card and dropped hundreds of space colonies onto the earth, plunging the planet into a sevenyearlong nuclear winter. the federation collapsed, but the space revolutionary army was unable to invade the earth in the aftermath of the colony drop. fifteen years have passed. the year is now after war 0015, and a new federation has sprung up on earth to restore order. in space, the colonial leaders have been rebuilding their own forces as well. by chance, fifteenyearold garrod ran has discovered an old federation mobile suit, the gundam x, and now he uses it to help out the vulture ship freeden in its struggle to keep the powers that be from repeating the mistakes of the past.</td>\n",
       "      <td id=\"T_a330a_row7_col4\" class=\"data row7 col4\" >0.058454</td>\n",
       "    </tr>\n",
       "    <tr>\n",
       "      <th id=\"T_a330a_level0_row8\" class=\"row_heading level0 row8\" >8</th>\n",
       "      <td id=\"T_a330a_row8_col0\" class=\"data row8 col0\" >slice of life</td>\n",
       "      <td id=\"T_a330a_row8_col1\" class=\"data row8 col1\" >Write a 'Slice Of Life' anime synopsis inspired by 'Welcome, Chitose'.</td>\n",
       "      <td id=\"T_a330a_row8_col2\" class=\"data row8 col2\" >the official included between the episode of the elite girl and trying to the chief of the after a giant</td>\n",
       "      <td id=\"T_a330a_row8_col3\" class=\"data row8 col3\" >chitosechan is a penguin who lives in kyoto. getting in touch with people and getting fed delicious food as she curiously walks around kyoto streets is her favourite thing to do. the story features popular places in kyoto like kiyomizu temple, ginkaku temple, and gion from the penguin's point of view. this is a short story about a penguin that is nostalgic and warm, curing and relieving the heart.</td>\n",
       "      <td id=\"T_a330a_row8_col4\" class=\"data row8 col4\" >0.080459</td>\n",
       "    </tr>\n",
       "    <tr>\n",
       "      <th id=\"T_a330a_level0_row9\" class=\"row_heading level0 row9\" >9</th>\n",
       "      <td id=\"T_a330a_row9_col0\" class=\"data row9 col0\" >adventure mystery slice of life supernatural</td>\n",
       "      <td id=\"T_a330a_row9_col1\" class=\"data row9 col1\" >Write an anime synopsis that matches 'Adventure, Mystery, Slice Of Life and Supernatural'.</td>\n",
       "      <td id=\"T_a330a_row9_col2\" class=\"data row9 col2\" >in if a girl is suddenly once a planet of the to be the high school is a new is the however, when the and the through the last is a young</td>\n",
       "      <td id=\"T_a330a_row9_col3\" class=\"data row9 col3\" >ghostly, primordial beings known as mushi continue to cause mysterious changes in the lives of humans. the travelling mushishi, ginko, persists in trying to set right the strange and unsettling situations he encounters. time loops, living shadows, and telepathy are among the overt effects of interference from mushi, but more subtle symptoms that take years to be noticed also rouse ginko's concern as he passes from village to village. through circumstance, ginko has become an arbiter, determining which mushi are blessings and which are curses. but the lines that he seeks to draw are subjective. some of his patients would rather exercise their new powers until they are utterly consumed by them; others desperately strive to rid themselves of afflictions which are in fact protecting their lives from devastation. those who cross paths with mushi must learn to accept seemingly impossible consequences for their actions, and heal wounds they did not know they had. otherwise, they risk meeting with fates beyond their comprehension.</td>\n",
       "      <td id=\"T_a330a_row9_col4\" class=\"data row9 col4\" >0.221271</td>\n",
       "    </tr>\n",
       "  </tbody>\n",
       "</table>\n"
      ],
      "text/plain": [
       "<pandas.io.formats.style.Styler at 0x7864e812add0>"
      ]
     },
     "execution_count": 11,
     "metadata": {},
     "output_type": "execute_result"
    }
   ],
   "source": [
    "# Show full text in cells and nice table formatting\n",
    "pd.set_option('display.max_colwidth', None)\n",
    "test_df_results.head(10).style.set_properties(**{\n",
    "    'text-align': 'left',\n",
    "    'white-space': 'pre-wrap'\n",
    "}).set_table_styles([{\n",
    "    'selector': 'th',\n",
    "    'props': [('text-align', 'left')]\n",
    "}])"
   ]
  },
  {
   "cell_type": "code",
   "execution_count": 13,
   "metadata": {
    "colab": {
     "base_uri": "https://localhost:8080/",
     "height": 696
    },
    "executionInfo": {
     "elapsed": 379,
     "status": "ok",
     "timestamp": 1750019646276,
     "user": {
      "displayName": "Noella Buti",
      "userId": "06118441993782992948"
     },
     "user_tz": 420
    },
    "id": "lbR2IVfOdE9R",
    "outputId": "5ac734a2-a6d2-472f-a878-cd864d211865"
   },
   "outputs": [
    {
     "name": "stderr",
     "output_type": "stream",
     "text": [
      "/usr/local/lib/python3.11/dist-packages/sklearn/utils/deprecation.py:151: FutureWarning: 'force_all_finite' was renamed to 'ensure_all_finite' in 1.6 and will be removed in 1.8.\n",
      "  warnings.warn(\n",
      "/usr/local/lib/python3.11/dist-packages/umap/umap_.py:1952: UserWarning: n_jobs value 1 overridden to 1 by setting random_state. Use no seed for parallelism.\n",
      "  warn(\n"
     ]
    },
    {
     "data": {
      "image/png": "[encoded data removed]",
      "text/plain": [
       "<Figure size 1000x600 with 1 Axes>"
      ]
     },
     "metadata": {},
     "output_type": "display_data"
    }
   ],
   "source": [
    "# --- UMAP Visualization: Tags vs RNN-GRU Outputs ---\n",
    "tags_to_match = test_df_results[\"tags_combined\"].fillna(\"\").tolist()\n",
    "generated_outputs = test_df_results[\"generated\"].tolist()\n",
    "\n",
    "# Compute embeddings\n",
    "tags_embeddings = embedding_model.encode(tags_to_match)\n",
    "output_embeddings = embedding_model.encode(generated_outputs)\n",
    "\n",
    "# Combine and reduce dimensions\n",
    "all_embeddings = np.vstack([tags_embeddings, output_embeddings])\n",
    "reducer = umap.UMAP(n_components=2, random_state=42)\n",
    "umap_embeddings = reducer.fit_transform(all_embeddings)\n",
    "\n",
    "# Split\n",
    "n = len(tags_to_match)\n",
    "umap_tags = umap_embeddings[:n]\n",
    "umap_outputs = umap_embeddings[n:]\n",
    "\n",
    "# Plot\n",
    "plt.figure(figsize=(10, 6))\n",
    "plt.scatter(umap_tags[:, 0], umap_tags[:, 1], label=\"Tags (Genres/Themes)\", alpha=0.7)\n",
    "plt.scatter(umap_outputs[:, 0], umap_outputs[:, 1], label=\"GRU Outputs\", alpha=0.7)\n",
    "\n",
    "# Connect matching tag-output pairs\n",
    "for i in range(n):\n",
    "    plt.plot([umap_tags[i, 0], umap_outputs[i, 0]],\n",
    "             [umap_tags[i, 1], umap_outputs[i, 1]],\n",
    "             c='gray', linewidth=0.5)\n",
    "\n",
    "plt.title(\"Tags vs GRU (40k) Output Embedding Projection (UMAP)\")\n",
    "plt.xlabel(\"UMAP Dimension 1\")\n",
    "plt.ylabel(\"UMAP Dimension 2\")\n",
    "plt.legend()\n",
    "plt.grid(True)\n",
    "plt.tight_layout()\n",
    "plt.show()"
   ]
  }
 ],
 "metadata": {
  "accelerator": "GPU",
  "colab": {
   "authorship_tag": "ABX9TyOZNfr26IPc6acw1R/oay+A",
   "gpuType": "A100",
   "machine_shape": "hm",
   "mount_file_id": "1Ix8Go2axaEpVy-69naZRP5mF1Tzw7cQJ",
   "provenance": []
  },
  "kernelspec": {
   "display_name": "Python 3",
   "name": "python3"
  },
  "language_info": {
   "name": "python"
  }
 },
 "nbformat": 4,
 "nbformat_minor": 0
}
