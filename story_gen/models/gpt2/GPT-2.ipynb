{
 "cells": [
  {
   "cell_type": "markdown",
   "metadata": {
    "id": "1bnivqe3eLlK"
   },
   "source": [
    "<div style=\"text-align: center; margin: 20px; background: linear-gradient(to right, #ff007f, #ff66b2); border-radius: 10px; padding: 30px;\">\n",
    "  <h1 style=\"color: white; font-family: 'Arial', sans-serif; font-size: 3em; text-shadow: 2px 2px 4px rgba(0, 0, 0, 0.2);\">\n",
    "    CS495 Notebook: Final Capstone – Anime Synopsis Generation\n",
    "  </h1>\n",
    "  <h2 style=\"color: #fff0f5; font-family: 'Arial', sans-serif; font-size: 2em; font-style: italic;\">\n",
    "    A Comparative Evaluation of Text Generation Models\n",
    "  </h2>\n",
    "  \n",
    "  <hr style=\"border: 2px solid #ffffff; margin: 20px auto; width: 70%; border-radius: 5px;\" />\n",
    "  \n",
    "  <p style=\"font-family: 'Arial', sans-serif; color: white; font-size: 1.2em;\">\n",
    "      <strong>Author:</strong> <span style=\"color: #ffccff;\">Noëlla Buti</span><br />\n",
    "      <strong>Term:</strong> <span style=\"color: #ffccff;\">Spring 2025</span><br />\n",
    "      <strong>Model Used:</strong> <span style=\"color: #ffccff;\">GPT-2 (Fine-Tuned)</span><br />\n",
    "      <strong>Contact:</strong> <a href=\"mailto:noella.buti@bellevuecollege.edu\" style=\"color: #ffccff; text-decoration: none;\">noella.buti@bellevuecollege.edu</a><br />\n",
    "  </p>\n",
    "</div>"
   ]
  },
  {
   "cell_type": "code",
   "execution_count": null,
   "metadata": {
    "colab": {
     "base_uri": "https://localhost:8080/"
    },
    "executionInfo": {
     "elapsed": 586,
     "status": "ok",
     "timestamp": 1750804612311,
     "user": {
      "displayName": "Noella Buti",
      "userId": "06118441993782992948"
     },
     "user_tz": 420
    },
    "id": "FnXr6iniOHW6",
    "outputId": "3b3a0b63-dcea-42fe-fd54-8868a7aac06e"
   },
   "outputs": [
    {
     "name": "stdout",
     "output_type": "stream",
     "text": [
      "Drive already mounted at /content/drive; to attempt to forcibly remount, call drive.mount(\"/content/drive\", force_remount=True).\n",
      "/content/drive/My Drive/CS 495 DataScience Capstone Project\n"
     ]
    }
   ],
   "source": [
    "from google.colab import drive\n",
    "drive.mount('/content/drive')\n",
    "%cd /content/drive/My Drive/CS 495 DataScience Capstone Project/"
   ]
  },
  {
   "cell_type": "code",
   "execution_count": null,
   "metadata": {
    "id": "WtwFLEs6Dbeh"
   },
   "outputs": [],
   "source": [
    "!pip install transformers --quiet"
   ]
  },
  {
   "cell_type": "code",
   "execution_count": null,
   "metadata": {
    "id": "WhBqcaoNDePe"
   },
   "outputs": [],
   "source": [
    "# --- Imports ---\n",
    "import torch\n",
    "from torch.utils.data import Dataset\n",
    "from transformers import GPT2Tokenizer, GPT2LMHeadModel, Trainer, TrainingArguments, DataCollatorForLanguageModeling\n",
    "import pandas as pd"
   ]
  },
  {
   "cell_type": "code",
   "execution_count": null,
   "metadata": {
    "colab": {
     "base_uri": "https://localhost:8080/"
    },
    "executionInfo": {
     "elapsed": 973,
     "status": "ok",
     "timestamp": 1750804639063,
     "user": {
      "displayName": "Noella Buti",
      "userId": "06118441993782992948"
     },
     "user_tz": 420
    },
    "id": "a35Yd6eBDkQd",
    "outputId": "fcf53a3c-ac2c-4b18-c50d-89f1eceb2bce"
   },
   "outputs": [
    {
     "name": "stderr",
     "output_type": "stream",
     "text": [
      "/usr/local/lib/python3.11/dist-packages/huggingface_hub/utils/_auth.py:94: UserWarning: \n",
      "The secret `HF_TOKEN` does not exist in your Colab secrets.\n",
      "To authenticate with the Hugging Face Hub, create a token in your settings tab (https://huggingface.co/settings/tokens), set it as secret in your Google Colab and restart your session.\n",
      "You will be able to reuse this secret in all of your notebooks.\n",
      "Please note that authentication is recommended but still optional to access public models or datasets.\n",
      "  warnings.warn(\n"
     ]
    }
   ],
   "source": [
    "# === SETUP ===\n",
    "model_name = \"gpt2\"\n",
    "tokenizer = GPT2Tokenizer.from_pretrained(model_name)\n",
    "tokenizer.pad_token = tokenizer.eos_token\n",
    "model = GPT2LMHeadModel.from_pretrained(model_name)"
   ]
  },
  {
   "cell_type": "code",
   "execution_count": null,
   "metadata": {
    "id": "5KTxEgrGDns_"
   },
   "outputs": [],
   "source": [
    "# === LOAD DATA ===\n",
    "train_df = pd.read_csv(\"prompt_synopsis_train.csv\")\n",
    "texts = (train_df[\"prompt\"] + \" \" + train_df[\"synopsis\"]).tolist()"
   ]
  },
  {
   "cell_type": "code",
   "execution_count": null,
   "metadata": {
    "id": "6iwhORMwDyVJ"
   },
   "outputs": [],
   "source": [
    "# === CUSTOM TORCH DATASET ===\n",
    "class GPT2Dataset(Dataset):\n",
    "    def __init__(self, texts, tokenizer, max_length=512):\n",
    "        self.examples = []\n",
    "        for text in texts:\n",
    "            tokens = tokenizer(text, padding=\"max_length\", truncation=True, max_length=max_length, return_tensors=\"pt\")\n",
    "            self.examples.append({\n",
    "                \"input_ids\": tokens[\"input_ids\"].squeeze(),\n",
    "                \"attention_mask\": tokens[\"attention_mask\"].squeeze(),\n",
    "                \"labels\": tokens[\"input_ids\"].squeeze()  # causal LM task\n",
    "            })\n",
    "\n",
    "    def __len__(self):\n",
    "        return len(self.examples)\n",
    "\n",
    "    def __getitem__(self, idx):\n",
    "        return self.examples[idx]\n",
    "\n",
    "train_dataset = GPT2Dataset(texts, tokenizer)"
   ]
  },
  {
   "cell_type": "code",
   "execution_count": null,
   "metadata": {
    "id": "9Dh9-AHpD2gw"
   },
   "outputs": [],
   "source": [
    "# === DATA COLLATOR ===\n",
    "data_collator = DataCollatorForLanguageModeling(tokenizer=tokenizer, mlm=False)"
   ]
  },
  {
   "cell_type": "code",
   "execution_count": null,
   "metadata": {
    "id": "JpwP10bUD4td"
   },
   "outputs": [],
   "source": [
    "# === TRAINING ARGS ===\n",
    "training_args = TrainingArguments(\n",
    "    output_dir=\"/content/drive/My Drive/CS 495 DataScience Capstone Project/gpt2_finetuned\",\n",
    "    overwrite_output_dir=True,\n",
    "    num_train_epochs=3,\n",
    "    per_device_train_batch_size=16,\n",
    "    save_steps=500,\n",
    "    save_total_limit=1,\n",
    "    logging_steps=100,\n",
    "    fp16=True,\n",
    "    report_to=\"none\"\n",
    ")"
   ]
  },
  {
   "cell_type": "code",
   "execution_count": null,
   "metadata": {
    "id": "10bUWOA2D9OM"
   },
   "outputs": [],
   "source": [
    "# === TRAINER ===\n",
    "trainer = Trainer(\n",
    "    model=model,\n",
    "    args=training_args,\n",
    "    train_dataset=train_dataset,\n",
    "    data_collator=data_collator\n",
    ")"
   ]
  },
  {
   "cell_type": "code",
   "execution_count": null,
   "metadata": {
    "colab": {
     "base_uri": "https://localhost:8080/",
     "height": 1000
    },
    "executionInfo": {
     "elapsed": 1888370,
     "status": "ok",
     "timestamp": 1750806816687,
     "user": {
      "displayName": "Noella Buti",
      "userId": "06118441993782992948"
     },
     "user_tz": 420
    },
    "id": "UQS8m8K_ECP6",
    "outputId": "863a85f9-bb69-476e-ec2d-43298c6d3585"
   },
   "outputs": [
    {
     "name": "stderr",
     "output_type": "stream",
     "text": [
      "`loss_type=None` was set in the config but it is unrecognised.Using the default loss: `ForCausalLMLoss`.\n"
     ]
    },
    {
     "data": {
      "text/html": [
       "\n",
       "    <div>\n",
       "      \n",
       "      <progress value='11301' max='11301' style='width:300px; height:20px; vertical-align: middle;'></progress>\n",
       "      [11301/11301 31:27, Epoch 3/3]\n",
       "    </div>\n",
       "    <table border=\"1\" class=\"dataframe\">\n",
       "  <thead>\n",
       " <tr style=\"text-align: left;\">\n",
       "      <th>Step</th>\n",
       "      <th>Training Loss</th>\n",
       "    </tr>\n",
       "  </thead>\n",
       "  <tbody>\n",
       "    <tr>\n",
       "      <td>100</td>\n",
       "      <td>3.586100</td>\n",
       "    </tr>\n",
       "    <tr>\n",
       "      <td>200</td>\n",
       "      <td>3.361800</td>\n",
       "    </tr>\n",
       "    <tr>\n",
       "      <td>300</td>\n",
       "      <td>3.268600</td>\n",
       "    </tr>\n",
       "    <tr>\n",
       "      <td>400</td>\n",
       "      <td>3.205600</td>\n",
       "    </tr>\n",
       "    <tr>\n",
       "      <td>500</td>\n",
       "      <td>3.194900</td>\n",
       "    </tr>\n",
       "    <tr>\n",
       "      <td>600</td>\n",
       "      <td>3.097500</td>\n",
       "    </tr>\n",
       "    <tr>\n",
       "      <td>700</td>\n",
       "      <td>3.082100</td>\n",
       "    </tr>\n",
       "    <tr>\n",
       "      <td>800</td>\n",
       "      <td>3.062400</td>\n",
       "    </tr>\n",
       "    <tr>\n",
       "      <td>900</td>\n",
       "      <td>3.039400</td>\n",
       "    </tr>\n",
       "    <tr>\n",
       "      <td>1000</td>\n",
       "      <td>2.998200</td>\n",
       "    </tr>\n",
       "    <tr>\n",
       "      <td>1100</td>\n",
       "      <td>2.958400</td>\n",
       "    </tr>\n",
       "    <tr>\n",
       "      <td>1200</td>\n",
       "      <td>2.945200</td>\n",
       "    </tr>\n",
       "    <tr>\n",
       "      <td>1300</td>\n",
       "      <td>2.929000</td>\n",
       "    </tr>\n",
       "    <tr>\n",
       "      <td>1400</td>\n",
       "      <td>2.913900</td>\n",
       "    </tr>\n",
       "    <tr>\n",
       "      <td>1500</td>\n",
       "      <td>2.889700</td>\n",
       "    </tr>\n",
       "    <tr>\n",
       "      <td>1600</td>\n",
       "      <td>2.852600</td>\n",
       "    </tr>\n",
       "    <tr>\n",
       "      <td>1700</td>\n",
       "      <td>2.822500</td>\n",
       "    </tr>\n",
       "    <tr>\n",
       "      <td>1800</td>\n",
       "      <td>2.805900</td>\n",
       "    </tr>\n",
       "    <tr>\n",
       "      <td>1900</td>\n",
       "      <td>2.808100</td>\n",
       "    </tr>\n",
       "    <tr>\n",
       "      <td>2000</td>\n",
       "      <td>2.779000</td>\n",
       "    </tr>\n",
       "    <tr>\n",
       "      <td>2100</td>\n",
       "      <td>2.786900</td>\n",
       "    </tr>\n",
       "    <tr>\n",
       "      <td>2200</td>\n",
       "      <td>2.759300</td>\n",
       "    </tr>\n",
       "    <tr>\n",
       "      <td>2300</td>\n",
       "      <td>2.718300</td>\n",
       "    </tr>\n",
       "    <tr>\n",
       "      <td>2400</td>\n",
       "      <td>2.697800</td>\n",
       "    </tr>\n",
       "    <tr>\n",
       "      <td>2500</td>\n",
       "      <td>2.686700</td>\n",
       "    </tr>\n",
       "    <tr>\n",
       "      <td>2600</td>\n",
       "      <td>2.672600</td>\n",
       "    </tr>\n",
       "    <tr>\n",
       "      <td>2700</td>\n",
       "      <td>2.669600</td>\n",
       "    </tr>\n",
       "    <tr>\n",
       "      <td>2800</td>\n",
       "      <td>2.665200</td>\n",
       "    </tr>\n",
       "    <tr>\n",
       "      <td>2900</td>\n",
       "      <td>2.661800</td>\n",
       "    </tr>\n",
       "    <tr>\n",
       "      <td>3000</td>\n",
       "      <td>2.620000</td>\n",
       "    </tr>\n",
       "    <tr>\n",
       "      <td>3100</td>\n",
       "      <td>2.611800</td>\n",
       "    </tr>\n",
       "    <tr>\n",
       "      <td>3200</td>\n",
       "      <td>2.601100</td>\n",
       "    </tr>\n",
       "    <tr>\n",
       "      <td>3300</td>\n",
       "      <td>2.571000</td>\n",
       "    </tr>\n",
       "    <tr>\n",
       "      <td>3400</td>\n",
       "      <td>2.569300</td>\n",
       "    </tr>\n",
       "    <tr>\n",
       "      <td>3500</td>\n",
       "      <td>2.552300</td>\n",
       "    </tr>\n",
       "    <tr>\n",
       "      <td>3600</td>\n",
       "      <td>2.525000</td>\n",
       "    </tr>\n",
       "    <tr>\n",
       "      <td>3700</td>\n",
       "      <td>2.526900</td>\n",
       "    </tr>\n",
       "    <tr>\n",
       "      <td>3800</td>\n",
       "      <td>2.479400</td>\n",
       "    </tr>\n",
       "    <tr>\n",
       "      <td>3900</td>\n",
       "      <td>2.436800</td>\n",
       "    </tr>\n",
       "    <tr>\n",
       "      <td>4000</td>\n",
       "      <td>2.450300</td>\n",
       "    </tr>\n",
       "    <tr>\n",
       "      <td>4100</td>\n",
       "      <td>2.437600</td>\n",
       "    </tr>\n",
       "    <tr>\n",
       "      <td>4200</td>\n",
       "      <td>2.392000</td>\n",
       "    </tr>\n",
       "    <tr>\n",
       "      <td>4300</td>\n",
       "      <td>2.412800</td>\n",
       "    </tr>\n",
       "    <tr>\n",
       "      <td>4400</td>\n",
       "      <td>2.399400</td>\n",
       "    </tr>\n",
       "    <tr>\n",
       "      <td>4500</td>\n",
       "      <td>2.385700</td>\n",
       "    </tr>\n",
       "    <tr>\n",
       "      <td>4600</td>\n",
       "      <td>2.366500</td>\n",
       "    </tr>\n",
       "    <tr>\n",
       "      <td>4700</td>\n",
       "      <td>2.356400</td>\n",
       "    </tr>\n",
       "    <tr>\n",
       "      <td>4800</td>\n",
       "      <td>2.332000</td>\n",
       "    </tr>\n",
       "    <tr>\n",
       "      <td>4900</td>\n",
       "      <td>2.373700</td>\n",
       "    </tr>\n",
       "    <tr>\n",
       "      <td>5000</td>\n",
       "      <td>2.338000</td>\n",
       "    </tr>\n",
       "    <tr>\n",
       "      <td>5100</td>\n",
       "      <td>2.339800</td>\n",
       "    </tr>\n",
       "    <tr>\n",
       "      <td>5200</td>\n",
       "      <td>2.326300</td>\n",
       "    </tr>\n",
       "    <tr>\n",
       "      <td>5300</td>\n",
       "      <td>2.290900</td>\n",
       "    </tr>\n",
       "    <tr>\n",
       "      <td>5400</td>\n",
       "      <td>2.321800</td>\n",
       "    </tr>\n",
       "    <tr>\n",
       "      <td>5500</td>\n",
       "      <td>2.262500</td>\n",
       "    </tr>\n",
       "    <tr>\n",
       "      <td>5600</td>\n",
       "      <td>2.288700</td>\n",
       "    </tr>\n",
       "    <tr>\n",
       "      <td>5700</td>\n",
       "      <td>2.276500</td>\n",
       "    </tr>\n",
       "    <tr>\n",
       "      <td>5800</td>\n",
       "      <td>2.274100</td>\n",
       "    </tr>\n",
       "    <tr>\n",
       "      <td>5900</td>\n",
       "      <td>2.274800</td>\n",
       "    </tr>\n",
       "    <tr>\n",
       "      <td>6000</td>\n",
       "      <td>2.254300</td>\n",
       "    </tr>\n",
       "    <tr>\n",
       "      <td>6100</td>\n",
       "      <td>2.239100</td>\n",
       "    </tr>\n",
       "    <tr>\n",
       "      <td>6200</td>\n",
       "      <td>2.256800</td>\n",
       "    </tr>\n",
       "    <tr>\n",
       "      <td>6300</td>\n",
       "      <td>2.233300</td>\n",
       "    </tr>\n",
       "    <tr>\n",
       "      <td>6400</td>\n",
       "      <td>2.201700</td>\n",
       "    </tr>\n",
       "    <tr>\n",
       "      <td>6500</td>\n",
       "      <td>2.240300</td>\n",
       "    </tr>\n",
       "    <tr>\n",
       "      <td>6600</td>\n",
       "      <td>2.238400</td>\n",
       "    </tr>\n",
       "    <tr>\n",
       "      <td>6700</td>\n",
       "      <td>2.209500</td>\n",
       "    </tr>\n",
       "    <tr>\n",
       "      <td>6800</td>\n",
       "      <td>2.218000</td>\n",
       "    </tr>\n",
       "    <tr>\n",
       "      <td>6900</td>\n",
       "      <td>2.197000</td>\n",
       "    </tr>\n",
       "    <tr>\n",
       "      <td>7000</td>\n",
       "      <td>2.177900</td>\n",
       "    </tr>\n",
       "    <tr>\n",
       "      <td>7100</td>\n",
       "      <td>2.172900</td>\n",
       "    </tr>\n",
       "    <tr>\n",
       "      <td>7200</td>\n",
       "      <td>2.165100</td>\n",
       "    </tr>\n",
       "    <tr>\n",
       "      <td>7300</td>\n",
       "      <td>2.182600</td>\n",
       "    </tr>\n",
       "    <tr>\n",
       "      <td>7400</td>\n",
       "      <td>2.146700</td>\n",
       "    </tr>\n",
       "    <tr>\n",
       "      <td>7500</td>\n",
       "      <td>2.178200</td>\n",
       "    </tr>\n",
       "    <tr>\n",
       "      <td>7600</td>\n",
       "      <td>2.103800</td>\n",
       "    </tr>\n",
       "    <tr>\n",
       "      <td>7700</td>\n",
       "      <td>2.117900</td>\n",
       "    </tr>\n",
       "    <tr>\n",
       "      <td>7800</td>\n",
       "      <td>2.105700</td>\n",
       "    </tr>\n",
       "    <tr>\n",
       "      <td>7900</td>\n",
       "      <td>2.105000</td>\n",
       "    </tr>\n",
       "    <tr>\n",
       "      <td>8000</td>\n",
       "      <td>2.102200</td>\n",
       "    </tr>\n",
       "    <tr>\n",
       "      <td>8100</td>\n",
       "      <td>2.114200</td>\n",
       "    </tr>\n",
       "    <tr>\n",
       "      <td>8200</td>\n",
       "      <td>2.128700</td>\n",
       "    </tr>\n",
       "    <tr>\n",
       "      <td>8300</td>\n",
       "      <td>2.064400</td>\n",
       "    </tr>\n",
       "    <tr>\n",
       "      <td>8400</td>\n",
       "      <td>2.070200</td>\n",
       "    </tr>\n",
       "    <tr>\n",
       "      <td>8500</td>\n",
       "      <td>2.073600</td>\n",
       "    </tr>\n",
       "    <tr>\n",
       "      <td>8600</td>\n",
       "      <td>2.044800</td>\n",
       "    </tr>\n",
       "    <tr>\n",
       "      <td>8700</td>\n",
       "      <td>2.070500</td>\n",
       "    </tr>\n",
       "    <tr>\n",
       "      <td>8800</td>\n",
       "      <td>2.081200</td>\n",
       "    </tr>\n",
       "    <tr>\n",
       "      <td>8900</td>\n",
       "      <td>2.039900</td>\n",
       "    </tr>\n",
       "    <tr>\n",
       "      <td>9000</td>\n",
       "      <td>2.042600</td>\n",
       "    </tr>\n",
       "    <tr>\n",
       "      <td>9100</td>\n",
       "      <td>2.062500</td>\n",
       "    </tr>\n",
       "    <tr>\n",
       "      <td>9200</td>\n",
       "      <td>2.054900</td>\n",
       "    </tr>\n",
       "    <tr>\n",
       "      <td>9300</td>\n",
       "      <td>2.044200</td>\n",
       "    </tr>\n",
       "    <tr>\n",
       "      <td>9400</td>\n",
       "      <td>2.052300</td>\n",
       "    </tr>\n",
       "    <tr>\n",
       "      <td>9500</td>\n",
       "      <td>2.030600</td>\n",
       "    </tr>\n",
       "    <tr>\n",
       "      <td>9600</td>\n",
       "      <td>2.035300</td>\n",
       "    </tr>\n",
       "    <tr>\n",
       "      <td>9700</td>\n",
       "      <td>2.054400</td>\n",
       "    </tr>\n",
       "    <tr>\n",
       "      <td>9800</td>\n",
       "      <td>2.034200</td>\n",
       "    </tr>\n",
       "    <tr>\n",
       "      <td>9900</td>\n",
       "      <td>2.055000</td>\n",
       "    </tr>\n",
       "    <tr>\n",
       "      <td>10000</td>\n",
       "      <td>2.008100</td>\n",
       "    </tr>\n",
       "    <tr>\n",
       "      <td>10100</td>\n",
       "      <td>1.994700</td>\n",
       "    </tr>\n",
       "    <tr>\n",
       "      <td>10200</td>\n",
       "      <td>2.016100</td>\n",
       "    </tr>\n",
       "    <tr>\n",
       "      <td>10300</td>\n",
       "      <td>2.025700</td>\n",
       "    </tr>\n",
       "    <tr>\n",
       "      <td>10400</td>\n",
       "      <td>2.025100</td>\n",
       "    </tr>\n",
       "    <tr>\n",
       "      <td>10500</td>\n",
       "      <td>2.024000</td>\n",
       "    </tr>\n",
       "    <tr>\n",
       "      <td>10600</td>\n",
       "      <td>2.014800</td>\n",
       "    </tr>\n",
       "    <tr>\n",
       "      <td>10700</td>\n",
       "      <td>2.009600</td>\n",
       "    </tr>\n",
       "    <tr>\n",
       "      <td>10800</td>\n",
       "      <td>2.000100</td>\n",
       "    </tr>\n",
       "    <tr>\n",
       "      <td>10900</td>\n",
       "      <td>2.026600</td>\n",
       "    </tr>\n",
       "    <tr>\n",
       "      <td>11000</td>\n",
       "      <td>2.004000</td>\n",
       "    </tr>\n",
       "    <tr>\n",
       "      <td>11100</td>\n",
       "      <td>2.038100</td>\n",
       "    </tr>\n",
       "    <tr>\n",
       "      <td>11200</td>\n",
       "      <td>2.021500</td>\n",
       "    </tr>\n",
       "    <tr>\n",
       "      <td>11300</td>\n",
       "      <td>2.030000</td>\n",
       "    </tr>\n",
       "  </tbody>\n",
       "</table><p>"
      ],
      "text/plain": [
       "<IPython.core.display.HTML object>"
      ]
     },
     "metadata": {},
     "output_type": "display_data"
    },
    {
     "data": {
      "text/plain": [
       "TrainOutput(global_step=11301, training_loss=2.3942216833168803, metrics={'train_runtime': 1888.3549, 'train_samples_per_second': 95.734, 'train_steps_per_second': 5.985, 'total_flos': 4.723637354496e+16, 'train_loss': 2.3942216833168803, 'epoch': 3.0})"
      ]
     },
     "execution_count": 10,
     "metadata": {},
     "output_type": "execute_result"
    }
   ],
   "source": [
    "# === TRAIN ===\n",
    "trainer.train()"
   ]
  },
  {
   "cell_type": "code",
   "execution_count": null,
   "metadata": {
    "colab": {
     "base_uri": "https://localhost:8080/"
    },
    "executionInfo": {
     "elapsed": 1823,
     "status": "ok",
     "timestamp": 1750807686411,
     "user": {
      "displayName": "Noella Buti",
      "userId": "06118441993782992948"
     },
     "user_tz": 420
    },
    "id": "vTKNubILEFLd",
    "outputId": "8b21c045-b893-450a-efb9-ddc4106b60c4"
   },
   "outputs": [
    {
     "data": {
      "text/plain": [
       "('/content/drive/My Drive/CS 495 DataScience Capstone Project/gpt2_finetuned/tokenizer_config.json',\n",
       " '/content/drive/My Drive/CS 495 DataScience Capstone Project/gpt2_finetuned/special_tokens_map.json',\n",
       " '/content/drive/My Drive/CS 495 DataScience Capstone Project/gpt2_finetuned/vocab.json',\n",
       " '/content/drive/My Drive/CS 495 DataScience Capstone Project/gpt2_finetuned/merges.txt',\n",
       " '/content/drive/My Drive/CS 495 DataScience Capstone Project/gpt2_finetuned/added_tokens.json')"
      ]
     },
     "execution_count": 15,
     "metadata": {},
     "output_type": "execute_result"
    }
   ],
   "source": [
    "# === SAVE MODEL ===\n",
    "model.save_pretrained(\"/content/drive/My Drive/CS 495 DataScience Capstone Project/gpt2_finetuned\")\n",
    "tokenizer.save_pretrained(\"/content/drive/My Drive/CS 495 DataScience Capstone Project/gpt2_finetuned\")"
   ]
  },
  {
   "cell_type": "code",
   "execution_count": null,
   "metadata": {
    "id": "GWjfoBCVOnAf"
   },
   "outputs": [],
   "source": [
    "# === SETUP ===\n",
    "!pip install transformers --quiet"
   ]
  },
  {
   "cell_type": "code",
   "execution_count": null,
   "metadata": {
    "id": "ZoqqUOB4Otlu"
   },
   "outputs": [],
   "source": [
    "from transformers import GPT2LMHeadModel, GPT2Tokenizer\n",
    "import torch\n",
    "import pandas as pd\n",
    "import math\n",
    "from tqdm import tqdm"
   ]
  },
  {
   "cell_type": "code",
   "execution_count": null,
   "metadata": {
    "colab": {
     "base_uri": "https://localhost:8080/"
    },
    "executionInfo": {
     "elapsed": 603,
     "status": "ok",
     "timestamp": 1750808147824,
     "user": {
      "displayName": "Noella Buti",
      "userId": "06118441993782992948"
     },
     "user_tz": 420
    },
    "id": "RdEjezovOxj8",
    "outputId": "8d0c92d0-7cfd-4da3-bf1d-5c28ca1e0d6c"
   },
   "outputs": [
    {
     "data": {
      "text/plain": [
       "GPT2LMHeadModel(\n",
       "  (transformer): GPT2Model(\n",
       "    (wte): Embedding(50257, 768)\n",
       "    (wpe): Embedding(1024, 768)\n",
       "    (drop): Dropout(p=0.1, inplace=False)\n",
       "    (h): ModuleList(\n",
       "      (0-11): 12 x GPT2Block(\n",
       "        (ln_1): LayerNorm((768,), eps=1e-05, elementwise_affine=True)\n",
       "        (attn): GPT2Attention(\n",
       "          (c_attn): Conv1D(nf=2304, nx=768)\n",
       "          (c_proj): Conv1D(nf=768, nx=768)\n",
       "          (attn_dropout): Dropout(p=0.1, inplace=False)\n",
       "          (resid_dropout): Dropout(p=0.1, inplace=False)\n",
       "        )\n",
       "        (ln_2): LayerNorm((768,), eps=1e-05, elementwise_affine=True)\n",
       "        (mlp): GPT2MLP(\n",
       "          (c_fc): Conv1D(nf=3072, nx=768)\n",
       "          (c_proj): Conv1D(nf=768, nx=3072)\n",
       "          (act): NewGELUActivation()\n",
       "          (dropout): Dropout(p=0.1, inplace=False)\n",
       "        )\n",
       "      )\n",
       "    )\n",
       "    (ln_f): LayerNorm((768,), eps=1e-05, elementwise_affine=True)\n",
       "  )\n",
       "  (lm_head): Linear(in_features=768, out_features=50257, bias=False)\n",
       ")"
      ]
     },
     "execution_count": 20,
     "metadata": {},
     "output_type": "execute_result"
    }
   ],
   "source": [
    "# Load model and tokenizer\n",
    "model_path = \"gpt2_finetuned\"\n",
    "tokenizer = GPT2Tokenizer.from_pretrained(model_path)\n",
    "model = GPT2LMHeadModel.from_pretrained(model_path)\n",
    "model.eval()\n",
    "device = torch.device(\"cuda\" if torch.cuda.is_available() else \"cpu\")\n",
    "model.to(device)"
   ]
  },
  {
   "cell_type": "code",
   "execution_count": null,
   "metadata": {
    "id": "TLFgbr88RXc2"
   },
   "outputs": [],
   "source": [
    "# === LOAD TEST DATA AND SELECT SPECIFIC ROWS ===\n",
    "test_df = pd.read_csv(\"prompt_synopsis_test.csv\")\n",
    "\n",
    "# Select specific test rows using iloc\n",
    "testing_df = test_df.iloc[[20, 26, 64, 84, 88, 98, 106, 111, 127, 164, 190, 199, 225, 231, 242, 244, 259, 298, 10597, 10609]]\n",
    "\n",
    "# Extract prompts and target synopses\n",
    "prompts = testing_df[\"prompt\"].tolist()\n",
    "synopses = testing_df[\"synopsis\"].tolist()"
   ]
  },
  {
   "cell_type": "code",
   "execution_count": null,
   "metadata": {
    "colab": {
     "base_uri": "https://localhost:8080/"
    },
    "executionInfo": {
     "elapsed": 22104,
     "status": "ok",
     "timestamp": 1750809076327,
     "user": {
      "displayName": "Noella Buti",
      "userId": "06118441993782992948"
     },
     "user_tz": 420
    },
    "id": "yBLfurrEWNDX",
    "outputId": "7d4a9719-a20f-489f-f236-8e76f9716f5f"
   },
   "outputs": [
    {
     "name": "stderr",
     "output_type": "stream",
     "text": [
      "The attention mask and the pad token id were not set. As a consequence, you may observe unexpected behavior. Please pass your input's `attention_mask` to obtain reliable results.\n",
      "Setting `pad_token_id` to `eos_token_id`:50256 for open-end generation.\n"
     ]
    },
    {
     "name": "stdout",
     "output_type": "stream",
     "text": [
      "=== Sample Generation ===\n"
     ]
    },
    {
     "name": "stderr",
     "output_type": "stream",
     "text": [
      "The attention mask and the pad token id were not set. As a consequence, you may observe unexpected behavior. Please pass your input's `attention_mask` to obtain reliable results.\n",
      "Setting `pad_token_id` to `eos_token_id`:50256 for open-end generation.\n"
     ]
    },
    {
     "name": "stdout",
     "output_type": "stream",
     "text": [
      "\n",
      "Prompt: Write an anime synopsis that matches 'Adventure, Comedy and Fantasy'.\n",
      "Generated: Write an anime synopsis that matches 'Adventure, Comedy and Fantasy'. two young boys and their friends find the secret treasure of the holy land. but while taking the treasure, they have a lot more problems than they bargained for! the two boys decide to start a band of their own and bring peace to the land. but before the adventure begins, they go to the neighboring land of galding. but when they get there, they discover that there is actually a treasure hiding under the castle! will the heroes of the land save the children!? where to start\n"
     ]
    },
    {
     "name": "stderr",
     "output_type": "stream",
     "text": [
      "The attention mask and the pad token id were not set. As a consequence, you may observe unexpected behavior. Please pass your input's `attention_mask` to obtain reliable results.\n",
      "Setting `pad_token_id` to `eos_token_id`:50256 for open-end generation.\n"
     ]
    },
    {
     "name": "stdout",
     "output_type": "stream",
     "text": [
      "\n",
      "Prompt: Write an anime synopsis that matches 'Mystery and Supernatural'.\n",
      "Generated: Write an anime synopsis that matches 'Mystery and Supernatural'. the story starts when the girl who is the reincarnation of his friend sakura youji wakes up in a strange world. with the powers of his katana, which can turn into any object, he is able to travel back in time. when he arrives at his new destination, however, his journey will not be a pleasant one. after some time, he is shocked to discover that sakura has lost all of her memories due to an accident that took place a few months back. moreover,\n"
     ]
    },
    {
     "name": "stderr",
     "output_type": "stream",
     "text": [
      "The attention mask and the pad token id were not set. As a consequence, you may observe unexpected behavior. Please pass your input's `attention_mask` to obtain reliable results.\n",
      "Setting `pad_token_id` to `eos_token_id`:50256 for open-end generation.\n"
     ]
    },
    {
     "name": "stdout",
     "output_type": "stream",
     "text": [
      "\n",
      "Prompt: Generate a 'Historical and Mythology' themed anime targeting 'Shoujo'.\n",
      "Generated: Generate a 'Historical and Mythology' themed anime targeting 'Shoujo'. yukino yukina is a sixth grader and a widow who cannot leave her home. she has no idea how to raise her kids and neither does she. she is saddled with lots of debt, which has forced her to move into a secluded mansion with only a handful of rooms. her quiet and unassuming home, however, does not inspire any grumble. just when her worries about her future begin to seem to fade, an evil entity materializes from a moth and sl\n"
     ]
    },
    {
     "name": "stderr",
     "output_type": "stream",
     "text": [
      "The attention mask and the pad token id were not set. As a consequence, you may observe unexpected behavior. Please pass your input's `attention_mask` to obtain reliable results.\n",
      "Setting `pad_token_id` to `eos_token_id`:50256 for open-end generation.\n"
     ]
    },
    {
     "name": "stdout",
     "output_type": "stream",
     "text": [
      "\n",
      "Prompt: Write an anime synopsis that matches 'Adventure'.\n",
      "Generated: Write an anime synopsis that matches 'Adventure'. a man finds a golden owl named bud in a shed. bud becomes a mermaid. a mermaid is born, a mermaid falls, and the mermaids who live in the human world turn into humans. the human world is filled with humans, and they seek the power of bud to fulfill their desires. bud and his companions fight a battle against the mermaids. when bud meets the mermaids who live in the human world and defeats them, they become human beings as well\n"
     ]
    },
    {
     "name": "stderr",
     "output_type": "stream",
     "text": [
      "The attention mask and the pad token id were not set. As a consequence, you may observe unexpected behavior. Please pass your input's `attention_mask` to obtain reliable results.\n",
      "Setting `pad_token_id` to `eos_token_id`:50256 for open-end generation.\n"
     ]
    },
    {
     "name": "stdout",
     "output_type": "stream",
     "text": [
      "\n",
      "Prompt: Create an anime synopsis with 'Comedy, Fantasy and Slice Of Life' and 'Anthropomorphic'.\n",
      "Generated: Create an anime synopsis with 'Comedy, Fantasy and Slice Of Life' and 'Anthropomorphic'. after the conclusion of the hajime kikuryuu no tsukai kara hare , the five members of the shinsengumi were left devastated. tsukiumi's former friend, masami, left as well. with no further contact with kara, the group is left wondering what is next for the group. and thus, the hajime kikuryuu no tsukai kara hare resumes its grim journey toward the beginning of its fifth volume\n"
     ]
    },
    {
     "name": "stderr",
     "output_type": "stream",
     "text": [
      "The attention mask and the pad token id were not set. As a consequence, you may observe unexpected behavior. Please pass your input's `attention_mask` to obtain reliable results.\n",
      "Setting `pad_token_id` to `eos_token_id`:50256 for open-end generation.\n"
     ]
    },
    {
     "name": "stdout",
     "output_type": "stream",
     "text": [
      "\n",
      "Prompt: Write an anime synopsis that matches 'Action, Adventure, Drama, Romance and Sci-Fi'.\n",
      "Generated: Write an anime synopsis that matches 'Action, Adventure, Drama, Romance and Sci-Fi'. a certain planet is in deep trouble. the city has been divided into 10 districts by a hostile alien race. the government forces them to form a secret police corps called a squad called the 10th unit. they are supposed to protect civilians and protect against alien invasion, and they're not too far from it. although, as usual, this isn't the first time things have gone wrong. the people of the 10th district are running from hostile alien invaders. there is one place that's defended by\n"
     ]
    },
    {
     "name": "stderr",
     "output_type": "stream",
     "text": [
      "The attention mask and the pad token id were not set. As a consequence, you may observe unexpected behavior. Please pass your input's `attention_mask` to obtain reliable results.\n",
      "Setting `pad_token_id` to `eos_token_id`:50256 for open-end generation.\n"
     ]
    },
    {
     "name": "stdout",
     "output_type": "stream",
     "text": [
      "\n",
      "Prompt: Create an anime synopsis with 'Sports' and 'Anthropomorphic and Racing'.\n",
      "Generated: Create an anime synopsis with 'Sports' and 'Anthropomorphic and Racing'. the third recap special of xx xxx, covering the first 12 episodes of the original series. the recap consists of three short interspersed segments; the first recap recap segments look back at the first 12 episodes of xxx, while the second and third recap segments were not previously included on the main anime dvd. each of the episodes were featured in at least three episode episodes within the main series. a summary of the first 12 episodes can be found at: vol. 27 no. 21\n"
     ]
    },
    {
     "name": "stderr",
     "output_type": "stream",
     "text": [
      "The attention mask and the pad token id were not set. As a consequence, you may observe unexpected behavior. Please pass your input's `attention_mask` to obtain reliable results.\n",
      "Setting `pad_token_id` to `eos_token_id`:50256 for open-end generation.\n"
     ]
    },
    {
     "name": "stdout",
     "output_type": "stream",
     "text": [
      "\n",
      "Prompt: Write an anime synopsis based on the 'Mecha and Space'.\n",
      "Generated: Write an anime synopsis based on the 'Mecha and Space'. after receiving a distress call from the black hole that has already annihilated earth, a boy named kuroo kabuto wakes up from deep sleep in a strange planet. there he encounters the same boy named tarou kuroo, who has been kidnapped by black hole after the death of his father. after getting help from an old man named mion kuroo, who has been searching for tarou, a group of young people are assembled at the campground to aid tarou.\n"
     ]
    },
    {
     "name": "stderr",
     "output_type": "stream",
     "text": [
      "The attention mask and the pad token id were not set. As a consequence, you may observe unexpected behavior. Please pass your input's `attention_mask` to obtain reliable results.\n",
      "Setting `pad_token_id` to `eos_token_id`:50256 for open-end generation.\n"
     ]
    },
    {
     "name": "stdout",
     "output_type": "stream",
     "text": [
      "\n",
      "Prompt: Write a 'Slice Of Life' anime synopsis inspired by 'Welcome, Chitose'.\n",
      "Generated: Write a 'Slice Of Life' anime synopsis inspired by 'Welcome, Chitose'. this episode features chitose, a secondyear high schooler in chicago. chitose has an odd fascination with cute things. when she finds an old antique shop, she gets the curious curious idea that there might be more to this world than meets the eye. soon enough, she meets some interesting neighbors: her twin brother, chloe, a rabbitloving kid with a cute bun; her older brother, lucy, who has the ability to hear voices; and her dog,\n"
     ]
    },
    {
     "name": "stderr",
     "output_type": "stream",
     "text": [
      "The attention mask and the pad token id were not set. As a consequence, you may observe unexpected behavior. Please pass your input's `attention_mask` to obtain reliable results.\n",
      "Setting `pad_token_id` to `eos_token_id`:50256 for open-end generation.\n"
     ]
    },
    {
     "name": "stdout",
     "output_type": "stream",
     "text": [
      "\n",
      "Prompt: Write an anime synopsis that matches 'Adventure, Mystery, Slice Of Life and Supernatural'.\n",
      "Generated: Write an anime synopsis that matches 'Adventure, Mystery, Slice Of Life and Supernatural'. yuusuke and chise are looking forward to moving to a new town when they discover a mysterious place called the garden of paradise. they soon discover that the garden of paradise contains the souls of many children that had died at an evil cult while in prison. the children will soon learn to control their powers and join a new organization called utopians and their new friends, shaizou and mai, who were in the prison. and as soon as the garden of paradise opens up\n"
     ]
    },
    {
     "name": "stderr",
     "output_type": "stream",
     "text": [
      "The attention mask and the pad token id were not set. As a consequence, you may observe unexpected behavior. Please pass your input's `attention_mask` to obtain reliable results.\n",
      "Setting `pad_token_id` to `eos_token_id`:50256 for open-end generation.\n"
     ]
    },
    {
     "name": "stdout",
     "output_type": "stream",
     "text": [
      "\n",
      "Prompt: Generate a 'Historical and Visual Arts' themed anime targeting 'Seinen'.\n",
      "Generated: Generate a 'Historical and Visual Arts' themed anime targeting 'Seinen'. based on the manga by takatoshi arima serialised in super hero manga ua since 1923. an animated picture drama starring the four original characters of samurai arashi. the story depicts arashi, a boy raised by his father and raised by his grandfather, who deals with disputes between samurai and civilians. the story's animation was done by toyota tachibana. the series was produced in two volumes and was animated for three years at a huge cost to the government. a new\n"
     ]
    },
    {
     "name": "stderr",
     "output_type": "stream",
     "text": [
      "The attention mask and the pad token id were not set. As a consequence, you may observe unexpected behavior. Please pass your input's `attention_mask` to obtain reliable results.\n",
      "Setting `pad_token_id` to `eos_token_id`:50256 for open-end generation.\n"
     ]
    },
    {
     "name": "stdout",
     "output_type": "stream",
     "text": [
      "\n",
      "Prompt: Generate an anime synopsis for 'Kids'.\n",
      "Generated: Generate an anime synopsis for 'Kids'. a spinoff based on the doraemon video game series. the story begins when an old lady named kumu receives a box containing the doraemon video game from her grandmother. in the box, she meets a boy named yuuri who uses the game to train his fox cousin, hikari. as soon as they become friends, the two form a big friendship and together they fight against monsters. they soon discover that they can transform into normal kids and their doraemon video\n"
     ]
    },
    {
     "name": "stderr",
     "output_type": "stream",
     "text": [
      "The attention mask and the pad token id were not set. As a consequence, you may observe unexpected behavior. Please pass your input's `attention_mask` to obtain reliable results.\n",
      "Setting `pad_token_id` to `eos_token_id`:50256 for open-end generation.\n"
     ]
    },
    {
     "name": "stdout",
     "output_type": "stream",
     "text": [
      "\n",
      "Prompt: Write a 'Slice Of Life' anime synopsis inspired by 'Is the Order a Rabbit? Bloom'.\n",
      "Generated: Write a 'Slice Of Life' anime synopsis inspired by 'Is the Order a Rabbit? Bloom'. yoshika yuki, a young girl who goes to school alone, has lost her mother in a tragic car accident. when her heart is racing, she hopes to take yuuki back to her family, which lost her to a car accident. however, this is no small feat when yuki meets sakura kotomi, a young girl who adopts a dog and grows up into a good husband. they spend their days together blissfully together, always bringing up new memories. however\n"
     ]
    },
    {
     "name": "stderr",
     "output_type": "stream",
     "text": [
      "The attention mask and the pad token id were not set. As a consequence, you may observe unexpected behavior. Please pass your input's `attention_mask` to obtain reliable results.\n",
      "Setting `pad_token_id` to `eos_token_id`:50256 for open-end generation.\n"
     ]
    },
    {
     "name": "stdout",
     "output_type": "stream",
     "text": [
      "\n",
      "Prompt: Create an anime synopsis with 'Action and Sci-Fi' and 'Mecha'.\n",
      "Generated: Create an anime synopsis with 'Action and Sci-Fi' and 'Mecha'. in the planet earth federation, the kappa warriors have fought against a powerful group of enemy warriors known as the mazinger z and their revived friend luliana, while the queen and her people are embroiled in a rivalry for the future of earth. at the head of this feud are the kappa knights who have their eye on the throne. kappa knight jirott katsuragi is appointed to assist kappa knight jirott in fighting with the kappa knights and to find\n"
     ]
    },
    {
     "name": "stderr",
     "output_type": "stream",
     "text": [
      "The attention mask and the pad token id were not set. As a consequence, you may observe unexpected behavior. Please pass your input's `attention_mask` to obtain reliable results.\n",
      "Setting `pad_token_id` to `eos_token_id`:50256 for open-end generation.\n"
     ]
    },
    {
     "name": "stdout",
     "output_type": "stream",
     "text": [
      "\n",
      "Prompt: Write an anime synopsis based on the 'Martial Arts'.\n",
      "Generated: Write an anime synopsis based on the 'Martial Arts'. the second season of hattori no ken: tenryoukai. after a battle against tetsushi, rin kirisame returns to tokyo and helps the people of the city in protecting japan against the invading monsters. a few days later, tetsushi returns and threatens the world with his ultimate creation, a legendary dragon, named ken, whose name was given to it when he was young. the plan goes exactly as planned, except that the dragon has been\n"
     ]
    },
    {
     "name": "stderr",
     "output_type": "stream",
     "text": [
      "The attention mask and the pad token id were not set. As a consequence, you may observe unexpected behavior. Please pass your input's `attention_mask` to obtain reliable results.\n",
      "Setting `pad_token_id` to `eos_token_id`:50256 for open-end generation.\n"
     ]
    },
    {
     "name": "stdout",
     "output_type": "stream",
     "text": [
      "\n",
      "Prompt: Write an anime synopsis that matches 'Romance'.\n",
      "Generated: Write an anime synopsis that matches 'Romance'. at school, yoriko wataya meets a popular and goodlooking boy named ayaka ayakashi. ayaka is a shy boy who has never been in a relationship. instead of secretly wanting to get along, he just can't seem to get over the fact that others see him as nothing more than a vulgar and crude delinquent. meanwhile, ayaka's sister yoriko also cherishes ayaka's cute innocence, but just cannot help himself from flirting with her. ayaka falls\n"
     ]
    },
    {
     "name": "stderr",
     "output_type": "stream",
     "text": [
      "The attention mask and the pad token id were not set. As a consequence, you may observe unexpected behavior. Please pass your input's `attention_mask` to obtain reliable results.\n",
      "Setting `pad_token_id` to `eos_token_id`:50256 for open-end generation.\n"
     ]
    },
    {
     "name": "stdout",
     "output_type": "stream",
     "text": [
      "\n",
      "Prompt: Write an anime synopsis based on the 'School and Team Sports'.\n",
      "Generated: Write an anime synopsis based on the 'School and Team Sports'. a short special episode of the hakumei high school basketball team that was only shown on tv in japan. this short has an animation studio name  seiichirou, and it contains the match between seirin high and kouya ja kimura high. it was only shown on tv in japan at the end of the first season, but it was later released on the iwatobi website. the first and third episodes are unaired, and the videos on the respective\n"
     ]
    },
    {
     "name": "stderr",
     "output_type": "stream",
     "text": [
      "The attention mask and the pad token id were not set. As a consequence, you may observe unexpected behavior. Please pass your input's `attention_mask` to obtain reliable results.\n",
      "Setting `pad_token_id` to `eos_token_id`:50256 for open-end generation.\n"
     ]
    },
    {
     "name": "stdout",
     "output_type": "stream",
     "text": [
      "\n",
      "Prompt: Write an anime synopsis that matches 'Drama, Mystery and Supernatural'.\n",
      "Generated: Write an anime synopsis that matches 'Drama, Mystery and Supernatural'. the supernatural world is a cesspool of corruption and lies. the top ten villains are all in it for themselves. with each villain earning themselves quite a bit of money and power, it is not uncommon for these villains to end up in a coma. however, when a young girl named rita finds that a mysterious man calling himself tasogare's henchman may have taken her there, the suspicions are soon proven correct: the man is not only an evil, but also an organization bent\n"
     ]
    },
    {
     "name": "stderr",
     "output_type": "stream",
     "text": [
      "The attention mask and the pad token id were not set. As a consequence, you may observe unexpected behavior. Please pass your input's `attention_mask` to obtain reliable results.\n",
      "Setting `pad_token_id` to `eos_token_id`:50256 for open-end generation.\n"
     ]
    },
    {
     "name": "stdout",
     "output_type": "stream",
     "text": [
      "\n",
      "Prompt: Write an anime synopsis based on the 'Mythology and School'.\n",
      "Generated: Write an anime synopsis based on the 'Mythology and School'. unaired episode included with the bluraydvd volume. aired around the second and third seasons and takes place before the second season even began. the episode is a summary of the first season and third season. it reveals how unaired the episode was. unaired episode 12.0 included with the bluraydvd volume. unaired episode 13.0 included with the bluraydvd volume. this episode reveals the events in the third season that was not featured in the first season. this\n",
      "\n",
      "Prompt: Generate an anime synopsis for 'Kids'.\n",
      "Generated: Generate an anime synopsis for 'Kids'. kitty and mimmy are looking for a lost penguin egg. but when they run into the big fluffy creature who says he's coming home, kitty decides to take him back to the woods so she can find the egg. now kitty and mimmy have eggs and must team up to find the egg in the forest! what's so special about this story is that kitty discovers a secret room with an invisible penguin nest. what was the nest? who took the egg from the\n"
     ]
    }
   ],
   "source": [
    "# === GENERATE SAMPLE OUTPUTS ===\n",
    "print(\"=== Sample Generation ===\")\n",
    "for i in range(min(20, len(prompts))):\n",
    "    input_ids = tokenizer(prompts[i], return_tensors=\"pt\").input_ids.to(device)\n",
    "    output = model.generate(input_ids, max_new_tokens=100, do_sample=True, top_k=50, top_p=0.95)\n",
    "    print(f\"\\nPrompt: {prompts[i]}\")\n",
    "    print(f\"Generated: {tokenizer.decode(output[0], skip_special_tokens=True)}\")"
   ]
  },
  {
   "cell_type": "code",
   "execution_count": null,
   "metadata": {
    "colab": {
     "base_uri": "https://localhost:8080/"
    },
    "executionInfo": {
     "elapsed": 240,
     "status": "ok",
     "timestamp": 1750809092579,
     "user": {
      "displayName": "Noella Buti",
      "userId": "06118441993782992948"
     },
     "user_tz": 420
    },
    "id": "Q-yH9uvJWS1F",
    "outputId": "a1a47201-c0a2-4aa4-b84d-173b5fb62a44"
   },
   "outputs": [
    {
     "name": "stderr",
     "output_type": "stream",
     "text": [
      "Calculating Perplexity: 100%|██████████| 20/20 [00:00<00:00, 86.48it/s]"
     ]
    },
    {
     "name": "stdout",
     "output_type": "stream",
     "text": [
      "\n",
      "GPT-2 Perplexity on Selected Synopses: 52.23\n"
     ]
    },
    {
     "name": "stderr",
     "output_type": "stream",
     "text": [
      "\n"
     ]
    }
   ],
   "source": [
    "# === CALCULATE PERPLEXITY ON SYNOPSES ONLY ===\n",
    "def calculate_perplexity(sentences):\n",
    "    total_loss = 0.0\n",
    "    total_length = 0\n",
    "\n",
    "    for sentence in tqdm(sentences, desc=\"Calculating Perplexity\"):\n",
    "        encodings = tokenizer(sentence, return_tensors=\"pt\", truncation=True, max_length=512)\n",
    "        input_ids = encodings.input_ids.to(device)\n",
    "        with torch.no_grad():\n",
    "            outputs = model(input_ids, labels=input_ids)\n",
    "            loss = outputs.loss\n",
    "        total_loss += loss.item() * input_ids.size(1)\n",
    "        total_length += input_ids.size(1)\n",
    "\n",
    "    avg_loss = total_loss / total_length\n",
    "    perplexity = math.exp(avg_loss)\n",
    "    return perplexity\n",
    "\n",
    "ppl = calculate_perplexity(synopses)\n",
    "print(f\"\\nGPT-2 Perplexity on Selected Synopses: {ppl:.2f}\")"
   ]
  },
  {
   "cell_type": "code",
   "execution_count": null,
   "metadata": {
    "colab": {
     "base_uri": "https://localhost:8080/",
     "height": 472
    },
    "executionInfo": {
     "elapsed": 193,
     "status": "ok",
     "timestamp": 1750809225158,
     "user": {
      "displayName": "Noella Buti",
      "userId": "06118441993782992948"
     },
     "user_tz": 420
    },
    "id": "X6W2A8VwDaTB",
    "outputId": "1dc6cf72-d3be-464f-d6ce-55d04499f8f8"
   },
   "outputs": [
    {
     "data": {
      "image/png": "[encoded data removed]",
      "text/plain": [
       "<Figure size 640x480 with 1 Axes>"
      ]
     },
     "metadata": {},
     "output_type": "display_data"
    }
   ],
   "source": [
    "import matplotlib.pyplot as plt\n",
    "\n",
    "logs = trainer.state.log_history\n",
    "train_loss = [x['loss'] for x in logs if 'loss' in x]\n",
    "eval_loss = [x['eval_loss'] for x in logs if 'eval_loss' in x]\n",
    "\n",
    "plt.plot(range(1, len(train_loss)+1), train_loss, label='Training Loss')\n",
    "plt.plot(range(1, len(eval_loss)+1), eval_loss, label='Validation Loss')\n",
    "plt.xlabel(\"Epoch\")\n",
    "plt.ylabel(\"Loss\")\n",
    "plt.title(\"Training vs Validation Loss\")\n",
    "plt.legend()\n",
    "plt.show()"
   ]
  },
  {
   "cell_type": "code",
   "execution_count": null,
   "metadata": {
    "colab": {
     "base_uri": "https://localhost:8080/",
     "height": 369,
     "referenced_widgets": [
      "e8606b27e5644acaaa48659ed3aa6469",
      "d7c8c5a9cc2a4b4aaf239cf0910c5bd7",
      "6a79769dbe564ec58cec4b44a197bf17",
      "cc4ab7a73c314c0fbd719f2a0d2a2f32",
      "1891039c48034c4a9f7e2aceb3a12525",
      "22db91ef085a48e2916c2ff6ebe14e5d",
      "abe09a626c0740c5a6eca645c1a07e7a",
      "0bc63a769027456f9417a54920f893e8",
      "6c651df8e0bc49ff9cdd3979c92ba65e",
      "ebbb6949d94a4f1d833e61b2258cdaf7",
      "d7e0960d3e9749978447d40b423a9ff7",
      "416f8efdec43495db59bdf8f4997b395",
      "e324f55321e543df9c40983f28841d87",
      "dd9e490abcca4843a832a43ea56dac49",
      "f749269aac1d4d55a251b6abf2f7637b",
      "19ad52eb7a4848db9fe40db47d555634",
      "ce9e83c632be44f69e7f1cbd7cb90cc0",
      "4754cc43babe4b7385bca436f8da889e",
      "fb528bdc97e74b99990c7b20bfb5db92",
      "7f40e1c406824e64929688e715786a26",
      "70a2bd7c1d884d779b0f647c3e5d75c8",
      "f4b6af0ada59448cbb7319585bbe10dd",
      "004e6cd3e5924447995391e033545aae",
      "3a55f10d07a14642bab99a1d2d1342fb",
      "baf63ec4e3bc42f896a7ae1af782656f",
      "982dc67d1b9741299dbae3946251a768",
      "6f52356fe073465b956d580edf5e8361",
      "f556e16545ea4b26a8df116c07078791",
      "8e37b9b9e8064334ab979707e04277a0",
      "4119eb9716d64a92bb49e1ff1d6cbed4",
      "ac280cd2509a4eba9ec29c8c0d638ee7",
      "9de7024d997242f4a8886db854eb25ae",
      "16672866e3e747b7989653d99138d08f",
      "e6e9e28679e14b529a260f2ee2fc982b",
      "d175a5d5e3db4285810579ee5bdf8f42",
      "4115cbe4fe774968b868ebb316578bb7",
      "2ead16ced17a490f82d560abbbcd45b9",
      "9bcab9b57d8f4accb671b0ba27bd97f1",
      "c4a1e1464f534ca4a97419c57cf9709c",
      "c661dd835efb467397a04c0557fc2af4",
      "b1fc29f82d044621ac5398d64cccaa9a",
      "73ffb0f88d7947f99bf081b44f3c6b75",
      "2a6935084e804537a95d9a311000192c",
      "dfa02c219d1847b8a0342bbcb01a7347",
      "e511075a49d84df3b8f3ab4d6675f27a",
      "22b6ac3df4d845d0b83650d2095a604e",
      "08d1f91a56aa4da4b9c7aad603218b13",
      "7adb9f3ee2664e2891eafa23bbd18cca",
      "dde342913f694599afa173d94c65c26c",
      "edec9193a4da490a9ce89c3b9fbd5cae",
      "1f2672782df84268989397ec9d973973",
      "da50cefd7c1643639782669f445c47cd",
      "102296fcb59a46ac92429a0d3aaa6385",
      "f63b1d385ed74dd4ace2ddc228a79ff9",
      "2f9d8add17f34e73be2f4ed9da60b602",
      "71f50cac8555400fa1828237f344016c",
      "66237eb9d05f436ca40e454adf0b6f2b",
      "4a4f744f441143ffa9882d97dde2cd7b",
      "0572b8bbe0af4ff5ac38127195920713",
      "c064710883f646fc91b34a108a548f2b",
      "db22bbc4d4ce4f5fba47dcbc7f5d00ad",
      "b2dc07c6cfb74b55a3a4109ab4a9d1fb",
      "fd014dafd3e149cd822b00a92bd7c81d",
      "d087d81247764ca49e3d3754123e6daa",
      "2ce9ae59bcbf416bb14411fe02792fcc",
      "d1e9508bd53d4f4f83932701f564984e",
      "bcd33b683a5645eba504fa97c20defd6",
      "53f2bd095e4f4a6ea728c6066797dd18",
      "8010b9055d244a368951c5a97bfa0ab5",
      "18b054b6bb4f4501857275942f04feb4",
      "5728a42068ee428e97af1d86e9b4f56e",
      "ba8047c75142496a87d97fcf63e07c39",
      "43bd5b47c12b4646bfc07621d8f026b1",
      "ff279d8b348b42a3b3b42bdefb341807",
      "395ce57264cd46ad823bf15898c70fe9",
      "6d3d32a6673e4fe584955e826d385438",
      "254091672637423ca8fb67945e730a76",
      "6b38ac00262a4ce98d4a1521cb794422",
      "966dc89aa98f4b44978a9f54e4e1159f",
      "6c84d76cc8bd4cea8ea37224a9ae5f06",
      "edef043febac4764a4e3db5ea448d185",
      "5928321335f342cd8c02965aedf5b985",
      "7cfa8f204e4e4cf89000de0db9f5e694",
      "b345d62a2f944050a9e76e784bfefed5",
      "925935ab45694134963f61994fe7a3c5",
      "2eb908b319154e4d92c8306f3e5ec1f9",
      "7dbbbd175cc147b68203c00469b283e9",
      "50839b222c664e5fa524d10ecceea3cb",
      "6b5e088b6fef4c3dbfda3481998f0a1c",
      "0bf9c0a744a74f06b54574b2bf810974",
      "3f1269cb0df74b68b828a70e2518ddf6",
      "ed47302e9fc9491c9a70fcfa60d8211c",
      "d26e79c2bbee457b85b8c3a5e248fdf1",
      "96d93806022e4b6ea82cefff2ffa1897",
      "f36a23a1575e4480aaffb775e8ee38df",
      "a4c4f7265a474f57a3b5d925e348d8f4",
      "132da0d164c84c7392d63841ef2d38df",
      "8015e3c263bd462c9b5b168aefddef0c",
      "bbd556b16cb74d86b0b356a42d1a30b9",
      "ff69563c957946e3b49a4378582e0b55",
      "00cc705e3ba5441299a93087071fb740",
      "37ad495ca9f04e698ee0c516dc3e5cc6",
      "69283d23245549998c41141fc0817ee8",
      "3d2fd66418284c3ca6e8b2a2c178779b",
      "f1c91f81a39a460db3ecd2731c10bf64",
      "508d1b2b99fd40a7b604fa9022a94c4e",
      "b12f36486d774536994e356e8b0ba418",
      "e8611b77098646e083f9578844ca5a48",
      "559d55462a5144c286ac0ee5857c71d2",
      "d74fa71d617c4c76a791d56fdd1babc0",
      "f9e83251814247908b1b4c4f07ee2f50",
      "470bb21599854b33975539e0f37848d5",
      "a9450abddd7247dc9a11b84b353bd5a3",
      "a74b5cb3006d4476862068f0ba9962fe",
      "645e77f5b8f346edaf634f250dfab809",
      "f4cfbb06bd2840c6884c82b745953389",
      "b676cd0f094140628faeae54051bae02",
      "85f905cc7def49afaba4b05e993d5e8b",
      "c5eb9016a69843e9a7e28d5fa8d8b89b",
      "314d256151014011823f044fabcc6f3b",
      "da39239a81cb451981f62d96ca5cb5c9"
     ]
    },
    "executionInfo": {
     "elapsed": 6580,
     "status": "ok",
     "timestamp": 1750809295099,
     "user": {
      "displayName": "Noella Buti",
      "userId": "06118441993782992948"
     },
     "user_tz": 420
    },
    "id": "mxU2j8B2XMRP",
    "outputId": "92d81263-0138-4e60-d5a3-1748ca363d7c"
   },
   "outputs": [
    {
     "data": {
      "application/vnd.jupyter.widget-view+json": {
       "model_id": "e8606b27e5644acaaa48659ed3aa6469",
       "version_major": 2,
       "version_minor": 0
      },
      "text/plain": [
       "modules.json:   0%|          | 0.00/349 [00:00<?, ?B/s]"
      ]
     },
     "metadata": {},
     "output_type": "display_data"
    },
    {
     "data": {
      "application/vnd.jupyter.widget-view+json": {
       "model_id": "416f8efdec43495db59bdf8f4997b395",
       "version_major": 2,
       "version_minor": 0
      },
      "text/plain": [
       "config_sentence_transformers.json:   0%|          | 0.00/116 [00:00<?, ?B/s]"
      ]
     },
     "metadata": {},
     "output_type": "display_data"
    },
    {
     "data": {
      "application/vnd.jupyter.widget-view+json": {
       "model_id": "004e6cd3e5924447995391e033545aae",
       "version_major": 2,
       "version_minor": 0
      },
      "text/plain": [
       "README.md:   0%|          | 0.00/10.5k [00:00<?, ?B/s]"
      ]
     },
     "metadata": {},
     "output_type": "display_data"
    },
    {
     "data": {
      "application/vnd.jupyter.widget-view+json": {
       "model_id": "e6e9e28679e14b529a260f2ee2fc982b",
       "version_major": 2,
       "version_minor": 0
      },
      "text/plain": [
       "sentence_bert_config.json:   0%|          | 0.00/53.0 [00:00<?, ?B/s]"
      ]
     },
     "metadata": {},
     "output_type": "display_data"
    },
    {
     "data": {
      "application/vnd.jupyter.widget-view+json": {
       "model_id": "e511075a49d84df3b8f3ab4d6675f27a",
       "version_major": 2,
       "version_minor": 0
      },
      "text/plain": [
       "config.json:   0%|          | 0.00/612 [00:00<?, ?B/s]"
      ]
     },
     "metadata": {},
     "output_type": "display_data"
    },
    {
     "data": {
      "application/vnd.jupyter.widget-view+json": {
       "model_id": "71f50cac8555400fa1828237f344016c",
       "version_major": 2,
       "version_minor": 0
      },
      "text/plain": [
       "model.safetensors:   0%|          | 0.00/90.9M [00:00<?, ?B/s]"
      ]
     },
     "metadata": {},
     "output_type": "display_data"
    },
    {
     "data": {
      "application/vnd.jupyter.widget-view+json": {
       "model_id": "bcd33b683a5645eba504fa97c20defd6",
       "version_major": 2,
       "version_minor": 0
      },
      "text/plain": [
       "tokenizer_config.json:   0%|          | 0.00/350 [00:00<?, ?B/s]"
      ]
     },
     "metadata": {},
     "output_type": "display_data"
    },
    {
     "data": {
      "application/vnd.jupyter.widget-view+json": {
       "model_id": "6b38ac00262a4ce98d4a1521cb794422",
       "version_major": 2,
       "version_minor": 0
      },
      "text/plain": [
       "vocab.txt:   0%|          | 0.00/232k [00:00<?, ?B/s]"
      ]
     },
     "metadata": {},
     "output_type": "display_data"
    },
    {
     "data": {
      "application/vnd.jupyter.widget-view+json": {
       "model_id": "6b5e088b6fef4c3dbfda3481998f0a1c",
       "version_major": 2,
       "version_minor": 0
      },
      "text/plain": [
       "tokenizer.json:   0%|          | 0.00/466k [00:00<?, ?B/s]"
      ]
     },
     "metadata": {},
     "output_type": "display_data"
    },
    {
     "data": {
      "application/vnd.jupyter.widget-view+json": {
       "model_id": "ff69563c957946e3b49a4378582e0b55",
       "version_major": 2,
       "version_minor": 0
      },
      "text/plain": [
       "special_tokens_map.json:   0%|          | 0.00/112 [00:00<?, ?B/s]"
      ]
     },
     "metadata": {},
     "output_type": "display_data"
    },
    {
     "data": {
      "application/vnd.jupyter.widget-view+json": {
       "model_id": "f9e83251814247908b1b4c4f07ee2f50",
       "version_major": 2,
       "version_minor": 0
      },
      "text/plain": [
       "config.json:   0%|          | 0.00/190 [00:00<?, ?B/s]"
      ]
     },
     "metadata": {},
     "output_type": "display_data"
    }
   ],
   "source": [
    "from sentence_transformers import SentenceTransformer, util\n",
    "\n",
    "# Load model\n",
    "embedder = SentenceTransformer(\"all-MiniLM-L6-v2\")"
   ]
  },
  {
   "cell_type": "code",
   "execution_count": null,
   "metadata": {
    "colab": {
     "base_uri": "https://localhost:8080/"
    },
    "executionInfo": {
     "elapsed": 22254,
     "status": "ok",
     "timestamp": 1750809345653,
     "user": {
      "displayName": "Noella Buti",
      "userId": "06118441993782992948"
     },
     "user_tz": 420
    },
    "id": "Za7dsA0gXbQS",
    "outputId": "b10334b9-998b-4d3a-c356-b8fc2b99a5d8"
   },
   "outputs": [
    {
     "name": "stderr",
     "output_type": "stream",
     "text": [
      "The attention mask and the pad token id were not set. As a consequence, you may observe unexpected behavior. Please pass your input's `attention_mask` to obtain reliable results.\n",
      "Setting `pad_token_id` to `eos_token_id`:50256 for open-end generation.\n",
      "The attention mask and the pad token id were not set. As a consequence, you may observe unexpected behavior. Please pass your input's `attention_mask` to obtain reliable results.\n",
      "Setting `pad_token_id` to `eos_token_id`:50256 for open-end generation.\n",
      "The attention mask and the pad token id were not set. As a consequence, you may observe unexpected behavior. Please pass your input's `attention_mask` to obtain reliable results.\n",
      "Setting `pad_token_id` to `eos_token_id`:50256 for open-end generation.\n",
      "The attention mask and the pad token id were not set. As a consequence, you may observe unexpected behavior. Please pass your input's `attention_mask` to obtain reliable results.\n",
      "Setting `pad_token_id` to `eos_token_id`:50256 for open-end generation.\n",
      "The attention mask and the pad token id were not set. As a consequence, you may observe unexpected behavior. Please pass your input's `attention_mask` to obtain reliable results.\n",
      "Setting `pad_token_id` to `eos_token_id`:50256 for open-end generation.\n",
      "The attention mask and the pad token id were not set. As a consequence, you may observe unexpected behavior. Please pass your input's `attention_mask` to obtain reliable results.\n",
      "Setting `pad_token_id` to `eos_token_id`:50256 for open-end generation.\n",
      "The attention mask and the pad token id were not set. As a consequence, you may observe unexpected behavior. Please pass your input's `attention_mask` to obtain reliable results.\n",
      "Setting `pad_token_id` to `eos_token_id`:50256 for open-end generation.\n",
      "The attention mask and the pad token id were not set. As a consequence, you may observe unexpected behavior. Please pass your input's `attention_mask` to obtain reliable results.\n",
      "Setting `pad_token_id` to `eos_token_id`:50256 for open-end generation.\n",
      "The attention mask and the pad token id were not set. As a consequence, you may observe unexpected behavior. Please pass your input's `attention_mask` to obtain reliable results.\n",
      "Setting `pad_token_id` to `eos_token_id`:50256 for open-end generation.\n",
      "The attention mask and the pad token id were not set. As a consequence, you may observe unexpected behavior. Please pass your input's `attention_mask` to obtain reliable results.\n",
      "Setting `pad_token_id` to `eos_token_id`:50256 for open-end generation.\n",
      "The attention mask and the pad token id were not set. As a consequence, you may observe unexpected behavior. Please pass your input's `attention_mask` to obtain reliable results.\n",
      "Setting `pad_token_id` to `eos_token_id`:50256 for open-end generation.\n",
      "The attention mask and the pad token id were not set. As a consequence, you may observe unexpected behavior. Please pass your input's `attention_mask` to obtain reliable results.\n",
      "Setting `pad_token_id` to `eos_token_id`:50256 for open-end generation.\n",
      "The attention mask and the pad token id were not set. As a consequence, you may observe unexpected behavior. Please pass your input's `attention_mask` to obtain reliable results.\n",
      "Setting `pad_token_id` to `eos_token_id`:50256 for open-end generation.\n",
      "The attention mask and the pad token id were not set. As a consequence, you may observe unexpected behavior. Please pass your input's `attention_mask` to obtain reliable results.\n",
      "Setting `pad_token_id` to `eos_token_id`:50256 for open-end generation.\n",
      "The attention mask and the pad token id were not set. As a consequence, you may observe unexpected behavior. Please pass your input's `attention_mask` to obtain reliable results.\n",
      "Setting `pad_token_id` to `eos_token_id`:50256 for open-end generation.\n",
      "The attention mask and the pad token id were not set. As a consequence, you may observe unexpected behavior. Please pass your input's `attention_mask` to obtain reliable results.\n",
      "Setting `pad_token_id` to `eos_token_id`:50256 for open-end generation.\n",
      "The attention mask and the pad token id were not set. As a consequence, you may observe unexpected behavior. Please pass your input's `attention_mask` to obtain reliable results.\n",
      "Setting `pad_token_id` to `eos_token_id`:50256 for open-end generation.\n",
      "The attention mask and the pad token id were not set. As a consequence, you may observe unexpected behavior. Please pass your input's `attention_mask` to obtain reliable results.\n",
      "Setting `pad_token_id` to `eos_token_id`:50256 for open-end generation.\n",
      "The attention mask and the pad token id were not set. As a consequence, you may observe unexpected behavior. Please pass your input's `attention_mask` to obtain reliable results.\n",
      "Setting `pad_token_id` to `eos_token_id`:50256 for open-end generation.\n",
      "The attention mask and the pad token id were not set. As a consequence, you may observe unexpected behavior. Please pass your input's `attention_mask` to obtain reliable results.\n",
      "Setting `pad_token_id` to `eos_token_id`:50256 for open-end generation.\n"
     ]
    },
    {
     "name": "stdout",
     "output_type": "stream",
     "text": [
      "\n",
      "Average Cosine Similarity: 0.2830\n"
     ]
    }
   ],
   "source": [
    "generated_outputs = []\n",
    "for prompt in prompts:\n",
    "    input_ids = tokenizer(prompt, return_tensors=\"pt\").input_ids.to(device)\n",
    "    output = model.generate(input_ids, max_new_tokens=100, do_sample=True, top_k=50, top_p=0.95)\n",
    "    generated = tokenizer.decode(output[0], skip_special_tokens=True)\n",
    "    generated_outputs.append(generated)\n",
    "\n",
    "# Compute cosine similarity\n",
    "gen_embeddings = embedder.encode(generated_outputs, convert_to_tensor=True)\n",
    "true_embeddings = embedder.encode(synopses, convert_to_tensor=True)\n",
    "\n",
    "cosine_scores = util.cos_sim(gen_embeddings, true_embeddings)\n",
    "avg_cosine_sim = torch.mean(torch.diagonal(cosine_scores)).item()\n",
    "print(f\"\\nAverage Cosine Similarity: {avg_cosine_sim:.4f}\")"
   ]
  }
 ],
 "metadata": {
  "accelerator": "GPU",
  "colab": {
   "gpuType": "A100",
   "machine_shape": "hm",
   "provenance": []
  },
  "kernelspec": {
   "display_name": "Python 3",
   "name": "python3"
  },
  "language_info": {
   "name": "python"
  }
 },
 "nbformat": 4,
 "nbformat_minor": 0
}
