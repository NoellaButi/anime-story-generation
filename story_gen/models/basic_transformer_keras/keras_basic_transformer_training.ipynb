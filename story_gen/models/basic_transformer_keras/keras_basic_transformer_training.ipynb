{
  "cells": [
    {
      "cell_type": "code",
      "execution_count": 1,
      "metadata": {},
      "outputs": [],
      "source": [
        "# Author: Yuki Rivera\n",
        "# This notebook contains the implementation of basic transformer using Keras.\n",
        "# The notebook was used for building and training a basic transformer from scratch."
      ]
    },
    {
      "cell_type": "code",
      "execution_count": null,
      "metadata": {
        "colab": {
          "base_uri": "https://localhost:8080/"
        },
        "id": "WwSHHfRpw65W",
        "outputId": "6d29903d-b589-468b-e4bc-6ba7cf469642"
      },
      "outputs": [
        {
          "name": "stdout",
          "output_type": "stream",
          "text": [
            "Mounted at /content/drive\n"
          ]
        }
      ],
      "source": [
        "# from google.colab import drive\n",
        "# drive.mount('/content/drive', force_remount=True)"
      ]
    },
    {
      "cell_type": "markdown",
      "metadata": {},
      "source": [
        "### Sets file paths"
      ]
    },
    {
      "cell_type": "code",
      "execution_count": null,
      "metadata": {
        "id": "mrRP9j2ww95P"
      },
      "outputs": [],
      "source": [
        "path = \"/content/drive/path/to/project/\"\n",
        "results_file_path = \"perplexity_score_transformer.txt\"\n",
        "model_path = \"basic_transformer_model.keras\"\n",
        "loss_curve_path = \"loss_curve_transformer.png\"\n",
        "tokenizer_path = \"basic_transformer_tokenizer.pkl\"\n",
        "results_file_path = \"results_transformer.txt\""
      ]
    },
    {
      "cell_type": "code",
      "execution_count": 21,
      "metadata": {
        "id": "H55g3CmO4xVs"
      },
      "outputs": [],
      "source": [
        "import sys\n",
        "sys.path.insert(0, path)"
      ]
    },
    {
      "cell_type": "markdown",
      "metadata": {},
      "source": [
        "### Import the definition of basic_transformer_layers in a separate python file"
      ]
    },
    {
      "cell_type": "code",
      "execution_count": 22,
      "metadata": {
        "id": "ypcEYnkW3ONT"
      },
      "outputs": [],
      "source": [
        "from basic_transformer_layers import PositionalEncoding, EncoderBlock, DecoderBlock"
      ]
    },
    {
      "cell_type": "markdown",
      "metadata": {},
      "source": [
        "### Import other libraries"
      ]
    },
    {
      "cell_type": "code",
      "execution_count": 23,
      "metadata": {
        "id": "18I8GGeqwsS7"
      },
      "outputs": [],
      "source": [
        "from tensorflow.keras.preprocessing.text import Tokenizer\n",
        "from tensorflow.keras.preprocessing.sequence import pad_sequences\n",
        "from sklearn.model_selection import train_test_split\n",
        "import numpy as np\n",
        "import tensorflow as tf\n",
        "from tensorflow import keras\n",
        "from tensorflow.keras import layers\n",
        "import pandas as pd\n",
        "import matplotlib.pyplot as plt\n",
        "from tensorflow.keras.optimizers import Adam\n",
        "import pickle\n",
        "import os\n",
        "from tensorflow.keras.losses import SparseCategoricalCrossentropy\n",
        "from tensorflow.keras.utils import register_keras_serializable\n",
        "from tensorflow.keras.models import save_model\n",
        "from tensorflow.keras.models import load_model"
      ]
    },
    {
      "cell_type": "markdown",
      "metadata": {
        "id": "OnXWXchExIZR"
      },
      "source": [
        "### Hyperparameters"
      ]
    },
    {
      "cell_type": "code",
      "execution_count": null,
      "metadata": {
        "id": "xi4OZxL6xGX-"
      },
      "outputs": [],
      "source": [
        "full_data = True\n",
        "data_size = 1000\n",
        "\n",
        "# batch_size\n",
        "batch_size = 64\n",
        "# number of epochs\n",
        "num_epochs = 20\n",
        "\n",
        "# Max sequence length\n",
        "enc_max_len = 64\n",
        "dec_max_len = 150\n",
        "\n",
        "vocab_limit = 15000\n",
        "# Dimension for token embeddings\n",
        "embedding_dim = 128\n",
        "# Number of attention heads\n",
        "num_heads = 4\n",
        "# Hidden layer size of feed-forward network\n",
        "ff_dim = 512\n",
        "num_layers = 2          # Number of transformer blocks\n",
        "dropout_rate = 0.3\n",
        "\n",
        "# size of each head\n",
        "key_dim = embedding_dim // num_heads\n",
        "# value to avoid zero division for normalization\n",
        "eps = 1e-6\n",
        "\n",
        "# early stopping patience\n",
        "patience = 3\n",
        "# threshold for minimum improvement\n",
        "min_delta = 0.01\n",
        "\n",
        "# validation_split\n",
        "validation_ratio = 0.2\n",
        "\n",
        "# learning rate\n",
        "alpha = 5e-5 # for small data 3e-4\n",
        "adam_optimizer = Adam(learning_rate=alpha)\n",
        "\n",
        "# # label_smoothing\n",
        "# ls=0.2"
      ]
    },
    {
      "cell_type": "markdown",
      "metadata": {},
      "source": [
        "### Loads the training dataset"
      ]
    },
    {
      "cell_type": "code",
      "execution_count": 26,
      "metadata": {
        "id": "eNLbO9vSK1vZ"
      },
      "outputs": [],
      "source": [
        "train_df = pd.read_csv(\"prompt_synopsis_train.csv\")"
      ]
    },
    {
      "cell_type": "code",
      "execution_count": 27,
      "metadata": {
        "id": "djE1H3WO45W9"
      },
      "outputs": [],
      "source": [
        "# Samples the data\n",
        "if not full_data:\n",
        "    train_df = train_df.sample(n=data_size, random_state=42).reset_index(drop=True)"
      ]
    },
    {
      "cell_type": "markdown",
      "metadata": {
        "id": "JvvsWTyV3mN-"
      },
      "source": [
        "### Preprocess the data"
      ]
    },
    {
      "cell_type": "code",
      "execution_count": 28,
      "metadata": {
        "id": "GclGwrVD3mAW"
      },
      "outputs": [],
      "source": [
        "# Cleans text\n",
        "def clean_text(text):\n",
        "    return text.lower().strip().replace('\\n', ' ')\n",
        "\n",
        "for col in ['prompt', 'synopsis']:\n",
        "    train_df[col] = train_df[col].astype(str).apply(clean_text)"
      ]
    },
    {
      "cell_type": "code",
      "execution_count": null,
      "metadata": {
        "id": "Z5UvThs13p4Z"
      },
      "outputs": [],
      "source": [
        "# Define fixed IDs for special tokens.\n",
        "PAD_ID = 0\n",
        "OOV_ID = 1\n",
        "BOS_ID = 2\n",
        "EOS_ID = 3\n",
        "\n",
        "# Number of special tokens we manually reserve IDs for.\n",
        "NUM_SPECIAL_TOKENS_RESERVED = 4 # (PAD, OOV, BOS, EOS)\n",
        "\n",
        "# The number of actual content words the tokenizer should learn.\n",
        "num_words_to_fit = vocab_limit - NUM_SPECIAL_TOKENS_RESERVED"
      ]
    },
    {
      "cell_type": "code",
      "execution_count": 30,
      "metadata": {
        "id": "uTqrl_cJ3l9j"
      },
      "outputs": [],
      "source": [
        "# instantiate a tokenizer (disabling special character filtering)\n",
        "tokenizer = Tokenizer(num_words=num_words_to_fit, oov_token='<OOV>', filters='')\n",
        "# the tokenizer builds a single shared vocabulary across both the input and the output\n",
        "tokenizer.fit_on_texts(train_df['prompt'].tolist() + train_df['synopsis'].tolist())"
      ]
    },
    {
      "cell_type": "code",
      "execution_count": 31,
      "metadata": {
        "id": "FayBlwLR3l67"
      },
      "outputs": [],
      "source": [
        "# Create a new word_index starting from our desired order.\n",
        "new_word_index = {}\n",
        "new_index_word = {}\n",
        "\n",
        "# Assign reserved IDs first\n",
        "new_word_index[\"<PAD>\"] = PAD_ID\n",
        "new_index_word[PAD_ID] = \"<PAD>\"\n",
        "\n",
        "new_word_index[\"<OOV>\"] = OOV_ID\n",
        "new_index_word[OOV_ID] = \"<OOV>\"\n",
        "\n",
        "new_word_index[\"<BOS>\"] = BOS_ID\n",
        "new_index_word[BOS_ID] = \"<BOS>\"\n",
        "\n",
        "new_word_index[\"<EOS>\"] = EOS_ID\n",
        "new_index_word[EOS_ID] = \"<EOS>\""
      ]
    },
    {
      "cell_type": "code",
      "execution_count": null,
      "metadata": {
        "id": "fCLNMEd23l4H"
      },
      "outputs": [],
      "source": [
        "# Start assigning IDs from the next available slot after special tokens.\n",
        "next_available_id = NUM_SPECIAL_TOKENS_RESERVED\n",
        "content_words_assigned = 0 # Track how many content words we've assigned\n",
        "\n",
        "for word, original_id in sorted(tokenizer.word_index.items(), key=lambda item: item[1]):\n",
        "    # Skips words not in the new word index\n",
        "    if word in new_word_index:\n",
        "        continue\n",
        "    # Assign the new ID to the content word\n",
        "    if content_words_assigned < num_words_to_fit:\n",
        "        new_word_index[word] = next_available_id\n",
        "        new_index_word[next_available_id] = word\n",
        "        next_available_id += 1\n",
        "        content_words_assigned += 1\n",
        "\n",
        "    else:\n",
        "        # Breaks the loop once all required content words have been assigned\n",
        "        break\n",
        "\n",
        "\n",
        "tokenizer.word_index = new_word_index\n",
        "tokenizer.index_word = new_index_word\n",
        "\n",
        "# Final vocabulary size for the Embedding layer stays the same as the target vocab limit\n",
        "vocab_size = vocab_limit"
      ]
    },
    {
      "cell_type": "markdown",
      "metadata": {},
      "source": [
        "### Converts words into token IDs "
      ]
    },
    {
      "cell_type": "code",
      "execution_count": null,
      "metadata": {
        "id": "K1tBEhNa4nnm"
      },
      "outputs": [],
      "source": [
        "# converts each prompt or synopsis into a list of integers\n",
        "input_seqs = tokenizer.texts_to_sequences(train_df['prompt'])\n",
        "output_seqs = tokenizer.texts_to_sequences(train_df['synopsis'])\n",
        "\n",
        "# Add BOS and EOS tokens to each synopsis sequence \n",
        "synopsis_token_ids_augmented = [[BOS_ID] + seq + [EOS_ID] for seq in output_seqs]"
      ]
    },
    {
      "cell_type": "markdown",
      "metadata": {
        "id": "AyLjha4m4pVV"
      },
      "source": [
        "### Creates decoder input and target"
      ]
    },
    {
      "cell_type": "code",
      "execution_count": null,
      "metadata": {
        "id": "r1P0Av2Q3l1V"
      },
      "outputs": [],
      "source": [
        "# Creates decoder inputs that goes into the decoder during training\n",
        "decoder_input_ids = [seq[:-1] for seq in synopsis_token_ids_augmented]\n",
        "\n",
        "# Create decoder targets for loss calculation\n",
        "decoder_target_ids = [seq[1:] for seq in synopsis_token_ids_augmented]"
      ]
    },
    {
      "cell_type": "markdown",
      "metadata": {
        "id": "TqigaKQV4bv3"
      },
      "source": [
        "### Pads sequences"
      ]
    },
    {
      "cell_type": "code",
      "execution_count": 35,
      "metadata": {
        "id": "pwg4bULR3lyg"
      },
      "outputs": [],
      "source": [
        "# Encoder input (prompts)\n",
        "encoder_input_data = pad_sequences(input_seqs, maxlen=enc_max_len, truncating='post', padding='post', value=0)\n",
        "\n",
        "# Decoder input for training\n",
        "decoder_input_data = pad_sequences(decoder_input_ids, maxlen=dec_max_len, truncating='post', padding='post', value=0)\n",
        "\n",
        "# Decoder target for training (needs to be expanded for sparse_categorical_crossentropy)\n",
        "decoder_target_data = pad_sequences(decoder_target_ids, maxlen=dec_max_len, truncating='post', padding='post', value=0)\n",
        "decoder_target_data = np.expand_dims(decoder_target_data, axis=-1)"
      ]
    },
    {
      "cell_type": "markdown",
      "metadata": {},
      "source": [
        "### Saves the tokenizer"
      ]
    },
    {
      "cell_type": "code",
      "execution_count": null,
      "metadata": {
        "id": "xm5vAlQ1tw_l"
      },
      "outputs": [],
      "source": [
        "with open(tokenizer_path, \"wb\") as f:\n",
        "    pickle.dump(tokenizer, f)"
      ]
    },
    {
      "cell_type": "markdown",
      "metadata": {
        "id": "Ri_xc5WOSXK5"
      },
      "source": [
        "### Prepares the training and validation sets"
      ]
    },
    {
      "cell_type": "code",
      "execution_count": 37,
      "metadata": {
        "id": "K3cS2NnoSSbh"
      },
      "outputs": [],
      "source": [
        "X_enc_train, X_enc_val, X_dec_train, X_dec_val, y_train, y_val = train_test_split(\n",
        "    encoder_input_data, decoder_input_data, decoder_target_data, test_size=validation_ratio, random_state=42\n",
        ")"
      ]
    },
    {
      "cell_type": "markdown",
      "metadata": {
        "id": "UZiqhjOWDyBY"
      },
      "source": [
        "### Create a transformer model (encoder + decoder)"
      ]
    },
    {
      "cell_type": "code",
      "execution_count": null,
      "metadata": {
        "id": "e0RkCAOA0OJk"
      },
      "outputs": [],
      "source": [
        "# This function assembles the encoder and decoder into a complete model.\n",
        "def build_transformer_model():\n",
        "\n",
        "    #### Encoder Stack ####\n",
        "\n",
        "    # Processes input tokens with embeddings, positional encoding, and attention layer.\n",
        "    encoder_inputs = layers.Input(shape=(None,), dtype=\"int32\", name=\"encoder_inputs\")\n",
        "    x_enc = layers.Embedding(input_dim=vocab_size, output_dim=embedding_dim, mask_zero=True)(encoder_inputs)\n",
        "    encoder_padding_mask = x_enc._keras_mask\n",
        "    x_enc = PositionalEncoding(enc_max_len, embedding_dim)(x_enc)\n",
        "    for _ in range(num_layers):\n",
        "        x_enc = EncoderBlock(embedding_dim, num_heads, ff_dim, dropout_rate)(x_enc, mask=encoder_padding_mask)\n",
        "    encoder_outputs = x_enc\n",
        "\n",
        "    #### Decoder Stack ####\n",
        "\n",
        "    # Generates output tokens by attending to previous tokens and encoder output\n",
        "    decoder_inputs = layers.Input(shape=(None,), dtype=\"int32\", name=\"decoder_inputs\")\n",
        "    x_dec = layers.Embedding(input_dim=vocab_size, output_dim=embedding_dim, mask_zero=True)(decoder_inputs)\n",
        "    decoder_padding_mask = x_dec._keras_mask\n",
        "    x_dec = PositionalEncoding(dec_max_len, embedding_dim)(x_dec)\n",
        "    for _ in range(num_layers):\n",
        "        x_dec = DecoderBlock(embedding_dim, num_heads, ff_dim, dropout_rate)(x_dec, encoder_outputs, decoder_mask=decoder_padding_mask, encoder_mask=encoder_padding_mask)\n",
        "\n",
        "    # Final output layer to predict the next word.\n",
        "    outputs = layers.Dense(vocab_size, activation=\"softmax\")(x_dec)\n",
        "\n",
        "    # Defines the model with inputs and outputs\n",
        "    model = keras.Model(inputs=[encoder_inputs, decoder_inputs], outputs=outputs)\n",
        "    return model"
      ]
    },
    {
      "cell_type": "markdown",
      "metadata": {
        "id": "a8ZfzTMZEBtE"
      },
      "source": [
        "### Compiles the Model"
      ]
    },
    {
      "cell_type": "code",
      "execution_count": null,
      "metadata": {
        "colab": {
          "base_uri": "https://localhost:8080/",
          "height": 906
        },
        "id": "B1fXqr-q8vf9",
        "outputId": "41d74406-3f63-4550-a837-c8a92df396b6"
      },
      "outputs": [],
      "source": [
        "# Builds the model instance.\n",
        "transformer = build_transformer_model()\n",
        "\n",
        "# Compiles the model, configuring the optimizer, loss function, and metrics.\n",
        "transformer.compile(\n",
        "    optimizer=adam_optimizer,\n",
        "    loss=\"sparse_categorical_crossentropy\",\n",
        "    metrics=[\"accuracy\"]\n",
        ")"
      ]
    },
    {
      "cell_type": "markdown",
      "metadata": {
        "id": "xxK2O8CtET_H"
      },
      "source": [
        "### Defines callbacks"
      ]
    },
    {
      "cell_type": "code",
      "execution_count": 40,
      "metadata": {
        "id": "P_JTOfFAUqHN"
      },
      "outputs": [],
      "source": [
        "# Callback for saving the best model\n",
        "checkpoint_callback = keras.callbacks.ModelCheckpoint(\n",
        "    filepath= model_path,\n",
        "    save_best_only=True,\n",
        "    save_weights_only=False,\n",
        "    monitor=\"val_loss\",\n",
        "    verbose=1\n",
        ")\n",
        "# callback for early stopping\n",
        "early_stop_callback = keras.callbacks.EarlyStopping(\n",
        "    monitor=\"val_loss\",\n",
        "    patience=patience,\n",
        "    min_delta=min_delta,\n",
        "    restore_best_weights=True\n",
        ")\n",
        "\n",
        "callbacks = [early_stop_callback, checkpoint_callback]"
      ]
    },
    {
      "cell_type": "markdown",
      "metadata": {
        "id": "vVwtXWxGEhJ7"
      },
      "source": [
        "### Trains the model"
      ]
    },
    {
      "cell_type": "code",
      "execution_count": null,
      "metadata": {
        "colab": {
          "base_uri": "https://localhost:8080/"
        },
        "id": "cgDU8Y6qzg8O",
        "outputId": "b94fee7a-d6ac-4961-8e34-a90f237604fc"
      },
      "outputs": [
        {
          "name": "stdout",
          "output_type": "stream",
          "text": [
            "Epoch 1/20\n",
            "\u001b[1m754/754\u001b[0m \u001b[32m━━━━━━━━━━━━━━━━━━━━\u001b[0m\u001b[37m\u001b[0m \u001b[1m0s\u001b[0m 81ms/step - accuracy: 0.3987 - loss: 7.6837\n",
            "Epoch 1: val_loss improved from inf to 4.32344, saving model to basic_transformer_model.keras\n",
            "\u001b[1m754/754\u001b[0m \u001b[32m━━━━━━━━━━━━━━━━━━━━\u001b[0m\u001b[37m\u001b[0m \u001b[1m152s\u001b[0m 105ms/step - accuracy: 0.3987 - loss: 7.6819 - val_accuracy: 0.4317 - val_loss: 4.3234\n",
            "Epoch 2/20\n",
            "\u001b[1m753/754\u001b[0m \u001b[32m━━━━━━━━━━━━━━━━━━━\u001b[0m\u001b[37m━\u001b[0m \u001b[1m0s\u001b[0m 17ms/step - accuracy: 0.4559 - loss: 4.1079\n",
            "Epoch 2: val_loss improved from 4.32344 to 3.75364, saving model to basic_transformer_model.keras\n",
            "\u001b[1m754/754\u001b[0m \u001b[32m━━━━━━━━━━━━━━━━━━━━\u001b[0m\u001b[37m\u001b[0m \u001b[1m15s\u001b[0m 19ms/step - accuracy: 0.4559 - loss: 4.1075 - val_accuracy: 0.4933 - val_loss: 3.7536\n",
            "Epoch 3/20\n",
            "\u001b[1m752/754\u001b[0m \u001b[32m━━━━━━━━━━━━━━━━━━━\u001b[0m\u001b[37m━\u001b[0m \u001b[1m0s\u001b[0m 17ms/step - accuracy: 0.4959 - loss: 3.7140\n",
            "Epoch 3: val_loss improved from 3.75364 to 3.57297, saving model to basic_transformer_model.keras\n",
            "\u001b[1m754/754\u001b[0m \u001b[32m━━━━━━━━━━━━━━━━━━━━\u001b[0m\u001b[37m\u001b[0m \u001b[1m14s\u001b[0m 19ms/step - accuracy: 0.4959 - loss: 3.7139 - val_accuracy: 0.5073 - val_loss: 3.5730\n",
            "Epoch 4/20\n",
            "\u001b[1m752/754\u001b[0m \u001b[32m━━━━━━━━━━━━━━━━━━━\u001b[0m\u001b[37m━\u001b[0m \u001b[1m0s\u001b[0m 16ms/step - accuracy: 0.5086 - loss: 3.5441\n",
            "Epoch 4: val_loss improved from 3.57297 to 3.44142, saving model to basic_transformer_model.keras\n",
            "\u001b[1m754/754\u001b[0m \u001b[32m━━━━━━━━━━━━━━━━━━━━\u001b[0m\u001b[37m\u001b[0m \u001b[1m14s\u001b[0m 18ms/step - accuracy: 0.5086 - loss: 3.5440 - val_accuracy: 0.5151 - val_loss: 3.4414\n",
            "Epoch 5/20\n",
            "\u001b[1m754/754\u001b[0m \u001b[32m━━━━━━━━━━━━━━━━━━━━\u001b[0m\u001b[37m\u001b[0m \u001b[1m0s\u001b[0m 16ms/step - accuracy: 0.5161 - loss: 3.4299\n",
            "Epoch 5: val_loss improved from 3.44142 to 3.37181, saving model to basic_transformer_model.keras\n",
            "\u001b[1m754/754\u001b[0m \u001b[32m━━━━━━━━━━━━━━━━━━━━\u001b[0m\u001b[37m\u001b[0m \u001b[1m13s\u001b[0m 18ms/step - accuracy: 0.5161 - loss: 3.4299 - val_accuracy: 0.5191 - val_loss: 3.3718\n",
            "Epoch 6/20\n",
            "\u001b[1m751/754\u001b[0m \u001b[32m━━━━━━━━━━━━━━━━━━━\u001b[0m\u001b[37m━\u001b[0m \u001b[1m0s\u001b[0m 16ms/step - accuracy: 0.5178 - loss: 3.3823\n",
            "Epoch 6: val_loss improved from 3.37181 to 3.32538, saving model to basic_transformer_model.keras\n",
            "\u001b[1m754/754\u001b[0m \u001b[32m━━━━━━━━━━━━━━━━━━━━\u001b[0m\u001b[37m\u001b[0m \u001b[1m14s\u001b[0m 19ms/step - accuracy: 0.5178 - loss: 3.3822 - val_accuracy: 0.5215 - val_loss: 3.3254\n",
            "Epoch 7/20\n",
            "\u001b[1m752/754\u001b[0m \u001b[32m━━━━━━━━━━━━━━━━━━━\u001b[0m\u001b[37m━\u001b[0m \u001b[1m0s\u001b[0m 17ms/step - accuracy: 0.5218 - loss: 3.3267\n",
            "Epoch 7: val_loss improved from 3.32538 to 3.28700, saving model to basic_transformer_model.keras\n",
            "\u001b[1m754/754\u001b[0m \u001b[32m━━━━━━━━━━━━━━━━━━━━\u001b[0m\u001b[37m\u001b[0m \u001b[1m14s\u001b[0m 19ms/step - accuracy: 0.5218 - loss: 3.3266 - val_accuracy: 0.5242 - val_loss: 3.2870\n",
            "Epoch 8/20\n",
            "\u001b[1m752/754\u001b[0m \u001b[32m━━━━━━━━━━━━━━━━━━━\u001b[0m\u001b[37m━\u001b[0m \u001b[1m0s\u001b[0m 17ms/step - accuracy: 0.5232 - loss: 3.2943\n",
            "Epoch 8: val_loss improved from 3.28700 to 3.25290, saving model to basic_transformer_model.keras\n",
            "\u001b[1m754/754\u001b[0m \u001b[32m━━━━━━━━━━━━━━━━━━━━\u001b[0m\u001b[37m\u001b[0m \u001b[1m14s\u001b[0m 19ms/step - accuracy: 0.5232 - loss: 3.2942 - val_accuracy: 0.5265 - val_loss: 3.2529\n",
            "Epoch 9/20\n",
            "\u001b[1m751/754\u001b[0m \u001b[32m━━━━━━━━━━━━━━━━━━━\u001b[0m\u001b[37m━\u001b[0m \u001b[1m0s\u001b[0m 17ms/step - accuracy: 0.5266 - loss: 3.2526\n",
            "Epoch 9: val_loss improved from 3.25290 to 3.22129, saving model to basic_transformer_model.keras\n",
            "\u001b[1m754/754\u001b[0m \u001b[32m━━━━━━━━━━━━━━━━━━━━\u001b[0m\u001b[37m\u001b[0m \u001b[1m14s\u001b[0m 19ms/step - accuracy: 0.5266 - loss: 3.2526 - val_accuracy: 0.5283 - val_loss: 3.2213\n",
            "Epoch 10/20\n",
            "\u001b[1m751/754\u001b[0m \u001b[32m━━━━━━━━━━━━━━━━━━━\u001b[0m\u001b[37m━\u001b[0m \u001b[1m0s\u001b[0m 17ms/step - accuracy: 0.5269 - loss: 3.2287\n",
            "Epoch 10: val_loss improved from 3.22129 to 3.18820, saving model to basic_transformer_model.keras\n",
            "\u001b[1m754/754\u001b[0m \u001b[32m━━━━━━━━━━━━━━━━━━━━\u001b[0m\u001b[37m\u001b[0m \u001b[1m14s\u001b[0m 19ms/step - accuracy: 0.5269 - loss: 3.2286 - val_accuracy: 0.5301 - val_loss: 3.1882\n",
            "Epoch 11/20\n",
            "\u001b[1m753/754\u001b[0m \u001b[32m━━━━━━━━━━━━━━━━━━━\u001b[0m\u001b[37m━\u001b[0m \u001b[1m0s\u001b[0m 17ms/step - accuracy: 0.5297 - loss: 3.1875\n",
            "Epoch 11: val_loss improved from 3.18820 to 3.15781, saving model to basic_transformer_model.keras\n",
            "\u001b[1m754/754\u001b[0m \u001b[32m━━━━━━━━━━━━━━━━━━━━\u001b[0m\u001b[37m\u001b[0m \u001b[1m14s\u001b[0m 19ms/step - accuracy: 0.5297 - loss: 3.1875 - val_accuracy: 0.5313 - val_loss: 3.1578\n",
            "Epoch 12/20\n",
            "\u001b[1m754/754\u001b[0m \u001b[32m━━━━━━━━━━━━━━━━━━━━\u001b[0m\u001b[37m\u001b[0m \u001b[1m0s\u001b[0m 17ms/step - accuracy: 0.5286 - loss: 3.1741\n",
            "Epoch 12: val_loss improved from 3.15781 to 3.12684, saving model to basic_transformer_model.keras\n",
            "\u001b[1m754/754\u001b[0m \u001b[32m━━━━━━━━━━━━━━━━━━━━\u001b[0m\u001b[37m\u001b[0m \u001b[1m14s\u001b[0m 19ms/step - accuracy: 0.5287 - loss: 3.1741 - val_accuracy: 0.5335 - val_loss: 3.1268\n",
            "Epoch 13/20\n",
            "\u001b[1m753/754\u001b[0m \u001b[32m━━━━━━━━━━━━━━━━━━━\u001b[0m\u001b[37m━\u001b[0m \u001b[1m0s\u001b[0m 17ms/step - accuracy: 0.5315 - loss: 3.1356\n",
            "Epoch 13: val_loss improved from 3.12684 to 3.10081, saving model to basic_transformer_model.keras\n",
            "\u001b[1m754/754\u001b[0m \u001b[32m━━━━━━━━━━━━━━━━━━━━\u001b[0m\u001b[37m\u001b[0m \u001b[1m14s\u001b[0m 19ms/step - accuracy: 0.5315 - loss: 3.1356 - val_accuracy: 0.5338 - val_loss: 3.1008\n",
            "Epoch 14/20\n",
            "\u001b[1m751/754\u001b[0m \u001b[32m━━━━━━━━━━━━━━━━━━━\u001b[0m\u001b[37m━\u001b[0m \u001b[1m0s\u001b[0m 17ms/step - accuracy: 0.5322 - loss: 3.1126\n",
            "Epoch 14: val_loss improved from 3.10081 to 3.06852, saving model to basic_transformer_model.keras\n",
            "\u001b[1m754/754\u001b[0m \u001b[32m━━━━━━━━━━━━━━━━━━━━\u001b[0m\u001b[37m\u001b[0m \u001b[1m14s\u001b[0m 19ms/step - accuracy: 0.5322 - loss: 3.1126 - val_accuracy: 0.5361 - val_loss: 3.0685\n",
            "Epoch 15/20\n",
            "\u001b[1m753/754\u001b[0m \u001b[32m━━━━━━━━━━━━━━━━━━━\u001b[0m\u001b[37m━\u001b[0m \u001b[1m0s\u001b[0m 17ms/step - accuracy: 0.5361 - loss: 3.0684\n",
            "Epoch 15: val_loss improved from 3.06852 to 3.04173, saving model to basic_transformer_model.keras\n",
            "\u001b[1m754/754\u001b[0m \u001b[32m━━━━━━━━━━━━━━━━━━━━\u001b[0m\u001b[37m\u001b[0m \u001b[1m14s\u001b[0m 19ms/step - accuracy: 0.5361 - loss: 3.0684 - val_accuracy: 0.5369 - val_loss: 3.0417\n",
            "Epoch 16/20\n",
            "\u001b[1m753/754\u001b[0m \u001b[32m━━━━━━━━━━━━━━━━━━━\u001b[0m\u001b[37m━\u001b[0m \u001b[1m0s\u001b[0m 17ms/step - accuracy: 0.5372 - loss: 3.0403\n",
            "Epoch 16: val_loss improved from 3.04173 to 3.01121, saving model to basic_transformer_model.keras\n",
            "\u001b[1m754/754\u001b[0m \u001b[32m━━━━━━━━━━━━━━━━━━━━\u001b[0m\u001b[37m\u001b[0m \u001b[1m14s\u001b[0m 19ms/step - accuracy: 0.5372 - loss: 3.0403 - val_accuracy: 0.5395 - val_loss: 3.0112\n",
            "Epoch 17/20\n",
            "\u001b[1m752/754\u001b[0m \u001b[32m━━━━━━━━━━━━━━━━━━━\u001b[0m\u001b[37m━\u001b[0m \u001b[1m0s\u001b[0m 16ms/step - accuracy: 0.5362 - loss: 3.0270\n",
            "Epoch 17: val_loss improved from 3.01121 to 2.98454, saving model to basic_transformer_model.keras\n",
            "\u001b[1m754/754\u001b[0m \u001b[32m━━━━━━━━━━━━━━━━━━━━\u001b[0m\u001b[37m\u001b[0m \u001b[1m14s\u001b[0m 18ms/step - accuracy: 0.5362 - loss: 3.0269 - val_accuracy: 0.5404 - val_loss: 2.9845\n",
            "Epoch 18/20\n",
            "\u001b[1m753/754\u001b[0m \u001b[32m━━━━━━━━━━━━━━━━━━━\u001b[0m\u001b[37m━\u001b[0m \u001b[1m0s\u001b[0m 16ms/step - accuracy: 0.5382 - loss: 2.9944\n",
            "Epoch 18: val_loss improved from 2.98454 to 2.95602, saving model to basic_transformer_model.keras\n",
            "\u001b[1m754/754\u001b[0m \u001b[32m━━━━━━━━━━━━━━━━━━━━\u001b[0m\u001b[37m\u001b[0m \u001b[1m13s\u001b[0m 18ms/step - accuracy: 0.5382 - loss: 2.9944 - val_accuracy: 0.5417 - val_loss: 2.9560\n",
            "Epoch 19/20\n",
            "\u001b[1m753/754\u001b[0m \u001b[32m━━━━━━━━━━━━━━━━━━━\u001b[0m\u001b[37m━\u001b[0m \u001b[1m0s\u001b[0m 16ms/step - accuracy: 0.5383 - loss: 2.9742\n",
            "Epoch 19: val_loss improved from 2.95602 to 2.93160, saving model to basic_transformer_model.keras\n",
            "\u001b[1m754/754\u001b[0m \u001b[32m━━━━━━━━━━━━━━━━━━━━\u001b[0m\u001b[37m\u001b[0m \u001b[1m14s\u001b[0m 19ms/step - accuracy: 0.5383 - loss: 2.9742 - val_accuracy: 0.5425 - val_loss: 2.9316\n",
            "Epoch 20/20\n",
            "\u001b[1m751/754\u001b[0m \u001b[32m━━━━━━━━━━━━━━━━━━━\u001b[0m\u001b[37m━\u001b[0m \u001b[1m0s\u001b[0m 17ms/step - accuracy: 0.5407 - loss: 2.9400\n",
            "Epoch 20: val_loss improved from 2.93160 to 2.90416, saving model to basic_transformer_model.keras\n",
            "\u001b[1m754/754\u001b[0m \u001b[32m━━━━━━━━━━━━━━━━━━━━\u001b[0m\u001b[37m\u001b[0m \u001b[1m14s\u001b[0m 19ms/step - accuracy: 0.5406 - loss: 2.9400 - val_accuracy: 0.5438 - val_loss: 2.9042\n"
          ]
        }
      ],
      "source": [
        "history = transformer.fit(\n",
        "    [X_enc_train, X_dec_train],\n",
        "    y_train,\n",
        "    validation_data=(\n",
        "        [X_enc_val, X_dec_val],\n",
        "        y_val),\n",
        "    epochs=num_epochs,\n",
        "    batch_size=batch_size,\n",
        "    callbacks=callbacks,\n",
        "    shuffle=True\n",
        ")"
      ]
    },
    {
      "cell_type": "markdown",
      "metadata": {
        "id": "ho2BDUznMSa7"
      },
      "source": [
        "### Plot the loss curve"
      ]
    },
    {
      "cell_type": "code",
      "execution_count": 42,
      "metadata": {
        "colab": {
          "base_uri": "https://localhost:8080/",
          "height": 472
        },
        "id": "jGfKWQnMMTgS",
        "outputId": "1c987487-01d2-4e34-dfaf-c967171fd2cc"
      },
      "outputs": [
        {
          "data": {
            "image/png": "[encoded data removed]",
            "text/plain": [
              "<Figure size 640x480 with 1 Axes>"
            ]
          },
          "metadata": {},
          "output_type": "display_data"
        }
      ],
      "source": [
        "plt.plot(history.history['loss'], label='Train Loss')\n",
        "plt.plot(history.history['val_loss'], label='Validation Loss')\n",
        "plt.xlabel(\"Epoch\")\n",
        "plt.ylabel(\"Loss\")\n",
        "plt.title(\"Loss Curve\")\n",
        "plt.legend()\n",
        "plt.grid(True)\n",
        "plt.savefig(loss_curve_path, dpi=300, bbox_inches='tight')\n",
        "plt.xticks(range(1, len(history.history['loss']) + 1))\n",
        "plt.show()"
      ]
    },
    {
      "cell_type": "markdown",
      "metadata": {
        "id": "Ld2QASV-ROC8"
      },
      "source": [
        "### Validation Perplexity Calculation"
      ]
    },
    {
      "cell_type": "code",
      "execution_count": null,
      "metadata": {
        "colab": {
          "base_uri": "https://localhost:8080/"
        },
        "id": "T7E6y_94YP5a",
        "outputId": "c8ef63c5-aee8-4ae5-bc97-56dee6fef1d3"
      },
      "outputs": [
        {
          "name": "stdout",
          "output_type": "stream",
          "text": [
            "Transformer Perplexity: 18.25\n"
          ]
        }
      ],
      "source": [
        "val_loss, val_accuracy = transformer.evaluate(\n",
        "    [X_enc_val, X_dec_val], y_val, verbose=0\n",
        ")\n",
        "perplexity = np.exp(val_loss)\n",
        "print(f\"Transformer Perplexity: {perplexity:.2f}\")"
      ]
    },
    {
      "cell_type": "markdown",
      "metadata": {},
      "source": [
        "### Saves the hyperparameters used as well as the perplexity value to a text file"
      ]
    },
    {
      "cell_type": "code",
      "execution_count": null,
      "metadata": {
        "id": "S6DunumHC7Uw"
      },
      "outputs": [],
      "source": [
        "parameters = {'epochs':num_epochs, 'num_layers':num_layers, 'batch_size':batch_size, 'embedding_dim':embedding_dim,\n",
        "              'num_heads':num_heads, 'ff_dim':ff_dim, 'vocab_limit':vocab_limit, 'learning_rate':alpha,'patience':patience,\n",
        "              'min_delta':min_delta, 'validation_ratio':validation_ratio, 'dropout':dropout_rate, 'perplexity':perplexity}\n",
        "\n",
        "results = ''\n",
        "for key, value in parameters.items():\n",
        "    results += \"{key}: {value}\".format(key=key, value=value)\n",
        "    results += '\\n'\n",
        "\n",
        "with open(results_file_path, 'w') as f:\n",
        "    f.write(results)"
      ]
    },
    {
      "cell_type": "markdown",
      "metadata": {
        "id": "lrVxJkqV2BOG"
      },
      "source": [
        "### Quick Generation Check"
      ]
    },
    {
      "cell_type": "code",
      "execution_count": null,
      "metadata": {
        "id": "orRiKDJU2AX9"
      },
      "outputs": [],
      "source": [
        "# Gets special token IDs \n",
        "PAD_ID = tokenizer.word_index.get(\"<PAD>\", 0) \n",
        "BOS_ID = tokenizer.word_index[\"<BOS>\"]\n",
        "EOS_ID = tokenizer.word_index[\"<EOS>\"]"
      ]
    },
    {
      "cell_type": "code",
      "execution_count": null,
      "metadata": {
        "id": "Fom-Jhqtd7NP"
      },
      "outputs": [],
      "source": [
        "def generate_synopsis(prompt_text, transformer, tokenizer, enc_max_len, gen_max_len):\n",
        "\n",
        "    # Preprocesses the input prompt\n",
        "    prompt_cleaned = clean_text(prompt_text)\n",
        "    prompt_tokens = tokenizer.texts_to_sequences([prompt_cleaned])\n",
        "    encoder_input = pad_sequences(prompt_tokens, maxlen=enc_max_len, padding='post', value=PAD_ID)\n",
        "\n",
        "    encoder_input = tf.constant(encoder_input)\n",
        "    \n",
        "    # Initializes the decoder's output sequence \n",
        "    decoder_output = tf.constant([[BOS_ID]], dtype=tf.int32)\n",
        "\n",
        "    # Generates text\n",
        "    for i in range(gen_max_len):\n",
        "\n",
        "        predictions = transformer([encoder_input, decoder_output], training=False)\n",
        "\n",
        "        # Gets the predicted token ID for the very last position in the sequence.\n",
        "        last_token_logits = predictions[:, -1, :]\n",
        "\n",
        "        # Masks the OOV logit\n",
        "        if OOV_ID is not None and 0 <= OOV_ID < last_token_logits.shape[-1]:\n",
        "            last_token_logits = tf.tensor_scatter_nd_update(\n",
        "                last_token_logits,\n",
        "                indices=tf.constant([[0, OOV_ID]], dtype=tf.int32),\n",
        "                updates=tf.constant([-1e9], dtype=last_token_logits.dtype)\n",
        "            )\n",
        "\n",
        "\n",
        "        predicted_id = tf.argmax(last_token_logits, axis=-1, output_type=tf.int32)\n",
        "\n",
        "        # Checks if the model predicted the End-Of-Sentence token.\n",
        "        if predicted_id[0] == EOS_ID:\n",
        "            break\n",
        "\n",
        "        # Adds the new token to the end of our sequence. \n",
        "        decoder_output = tf.concat([decoder_output, predicted_id[:, tf.newaxis]], axis=-1)\n",
        "\n",
        "    # Converts token IDs to text\n",
        "    output_tokens = decoder_output.numpy().squeeze().tolist()\n",
        "\n",
        "    # Removes the initial <BOS> token from the output so it doesn't appear in the text.\n",
        "    if output_tokens and output_tokens[0] == BOS_ID:\n",
        "        output_tokens = output_tokens[1:]\n",
        "\n",
        "    # Uses the tokenizer to convert the list of IDs back into a string.\n",
        "    generated_text = tokenizer.sequences_to_texts([output_tokens])\n",
        "\n",
        "    return generated_text[0]"
      ]
    },
    {
      "cell_type": "markdown",
      "metadata": {},
      "source": [
        "### Generate a synopsis for testing"
      ]
    },
    {
      "cell_type": "code",
      "execution_count": null,
      "metadata": {
        "colab": {
          "base_uri": "https://localhost:8080/"
        },
        "id": "S1epgnQo9al8",
        "outputId": "2527e3d3-9fcb-45c2-9d3b-afbf56b78e3c"
      },
      "outputs": [],
      "source": [
        "test_prompt = 'Write an anime synopsis that matches \"Action, Adventure, Comedy and Fantasy\".'\n",
        "generated = generate_synopsis(test_prompt ,transformer, tokenizer, enc_max_len, 50)\n",
        "print(f\"Prompt: {test_prompt}\")\n",
        "print(f\"Generated Synopsis: {generated}\")"
      ]
    }
  ],
  "metadata": {
    "accelerator": "GPU",
    "colab": {
      "gpuType": "A100",
      "machine_shape": "hm",
      "provenance": []
    },
    "kernelspec": {
      "display_name": "animegen",
      "language": "python",
      "name": "python3"
    },
    "language_info": {
      "codemirror_mode": {
        "name": "ipython",
        "version": 3
      },
      "file_extension": ".py",
      "mimetype": "text/x-python",
      "name": "python",
      "nbconvert_exporter": "python",
      "pygments_lexer": "ipython3",
      "version": "3.11.9"
    }
  },
  "nbformat": 4,
  "nbformat_minor": 0
}
