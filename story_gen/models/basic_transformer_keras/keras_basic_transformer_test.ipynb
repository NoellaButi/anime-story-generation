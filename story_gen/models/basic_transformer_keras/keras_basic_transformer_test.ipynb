{
 "cells": [
  {
   "cell_type": "code",
   "execution_count": null,
   "id": "501d12c5",
   "metadata": {},
   "outputs": [],
   "source": [
    "# Author: Yuki Rivera\n",
    "# This notebook implements code for evaluating a basic transformer model built & trained in Keras"
   ]
  },
  {
   "cell_type": "code",
   "execution_count": null,
   "id": "9331f33e",
   "metadata": {
    "colab": {
     "base_uri": "https://localhost:8080/"
    },
    "id": "9331f33e",
    "outputId": "8e4141f4-094d-447f-a3ad-c3a3556d3f7a"
   },
   "outputs": [
    {
     "name": "stdout",
     "output_type": "stream",
     "text": [
      "Mounted at /content/drive\n"
     ]
    }
   ],
   "source": [
    "# from google.colab import drive\n",
    "# drive.mount('/content/drive', force_remount=True)"
   ]
  },
  {
   "cell_type": "markdown",
   "id": "d427db8e",
   "metadata": {},
   "source": [
    "### Sets the file paths"
   ]
  },
  {
   "cell_type": "code",
   "execution_count": null,
   "id": "8ee0640f",
   "metadata": {
    "id": "8ee0640f"
   },
   "outputs": [],
   "source": [
    "path = \"/path/to/project/\"\n",
    "tokenizer_path = \"basic_transformer_tokenizer.pkl\"\n",
    "model_path = \"basic_transformer_model.keras\"\n",
    "perp_file_path = \"basic_transformer_testing_perplexity.txt\""
   ]
  },
  {
   "cell_type": "code",
   "execution_count": 15,
   "id": "lt1JHDhSkY7z",
   "metadata": {
    "id": "lt1JHDhSkY7z"
   },
   "outputs": [],
   "source": [
    "import sys\n",
    "sys.path.insert(0, path)"
   ]
  },
  {
   "cell_type": "markdown",
   "id": "d677570a",
   "metadata": {},
   "source": [
    "### Imports basic transformer layer definitions from a separate python file"
   ]
  },
  {
   "cell_type": "code",
   "execution_count": null,
   "id": "9ccc3ace",
   "metadata": {},
   "outputs": [],
   "source": [
    "from basic_transformer_layers import PositionalEncoding, EncoderBlock, DecoderBlock"
   ]
  },
  {
   "cell_type": "markdown",
   "id": "1e1bd2b3",
   "metadata": {},
   "source": [
    "### Imports other libraries"
   ]
  },
  {
   "cell_type": "code",
   "execution_count": null,
   "id": "e08c0146",
   "metadata": {
    "id": "e08c0146"
   },
   "outputs": [],
   "source": [
    "import tensorflow as tf\n",
    "from tqdm import tqdm\n",
    "import pandas as pd\n",
    "import numpy as np\n",
    "import random\n",
    "from sentence_transformers import SentenceTransformer\n",
    "from sklearn.metrics.pairwise import cosine_similarity\n",
    "from IPython.display import display\n",
    "import matplotlib.pyplot as plt\n",
    "import umap\n",
    "import pickle\n",
    "from tensorflow.keras.preprocessing.sequence import pad_sequences\n",
    "from tensorflow.keras.optimizers import Adam\n",
    "from tensorflow.keras.models import Model, load_model\n",
    "import time"
   ]
  },
  {
   "cell_type": "markdown",
   "id": "ca3f8c53",
   "metadata": {
    "id": "ca3f8c53"
   },
   "source": [
    "### Hyperparemeters used in training"
   ]
  },
  {
   "cell_type": "code",
   "execution_count": null,
   "id": "ae17aa8c",
   "metadata": {
    "id": "ae17aa8c"
   },
   "outputs": [],
   "source": [
    "full_data = False\n",
    "data_size = 500\n",
    "\n",
    "# Max sequence length\n",
    "enc_max_len = 64\n",
    "dec_max_len = 150\n",
    "\n",
    "vocab_limit = 40000\n",
    "\n",
    "# Dimension for token embeddings\n",
    "embed_dim = 128\n",
    "# Number of attention heads\n",
    "num_heads = 4\n",
    "# Hidden layer size in the feed-forward network\n",
    "ff_dim = 512\n",
    "num_layers = 2          # Number of transformer blocks\n",
    "dropout_rate = 0.1\n",
    "\n",
    "# size of each head\n",
    "key_dim = embed_dim // num_heads\n",
    "# value to avoid zero division for normalization\n",
    "eps = 1e-6\n",
    "\n",
    "# early stopping patience\n",
    "patience = 3\n",
    "\n",
    "# batch_size\n",
    "batch_size = 32\n",
    "# number of epochs\n",
    "num_epochs = 20\n",
    "# validation_split\n",
    "validation_ratio = 0.1\n",
    "\n",
    "# learning rate\n",
    "alpha = 1e-4 # for small data 3e-4\n",
    "\n",
    "# top k\n",
    "k_value = 20\n",
    "# temperature\n",
    "temp = 1.5\n"
   ]
  },
  {
   "cell_type": "markdown",
   "id": "KMzmMDEMknjJ",
   "metadata": {
    "id": "KMzmMDEMknjJ"
   },
   "source": [
    "### Loads the tokenizer"
   ]
  },
  {
   "cell_type": "code",
   "execution_count": 18,
   "id": "7796dc82",
   "metadata": {
    "id": "7796dc82"
   },
   "outputs": [],
   "source": [
    "with open(tokenizer_path, \"rb\") as f:\n",
    "    tokenizer = pickle.load(f)"
   ]
  },
  {
   "cell_type": "markdown",
   "id": "5-UcJsJ4kpQE",
   "metadata": {
    "id": "5-UcJsJ4kpQE"
   },
   "source": [
    "### Loads the model"
   ]
  },
  {
   "cell_type": "code",
   "execution_count": 20,
   "id": "37-CJJBSj6hY",
   "metadata": {
    "colab": {
     "base_uri": "https://localhost:8080/"
    },
    "id": "37-CJJBSj6hY",
    "outputId": "d8857fda-d5cf-446e-ac75-94d29689a77d"
   },
   "outputs": [
    {
     "name": "stderr",
     "output_type": "stream",
     "text": [
      "/usr/local/lib/python3.11/dist-packages/keras/src/layers/layer.py:393: UserWarning: `build()` was called on layer 'encoder_block', however the layer does not have a `build()` method implemented and it looks like it has unbuilt state. This will cause the layer to be marked as built, despite not being actually built, which may cause failures down the line. Make sure to implement a proper `build()` method.\n",
      "  warnings.warn(\n",
      "/usr/local/lib/python3.11/dist-packages/keras/src/layers/layer.py:393: UserWarning: `build()` was called on layer 'encoder_block_1', however the layer does not have a `build()` method implemented and it looks like it has unbuilt state. This will cause the layer to be marked as built, despite not being actually built, which may cause failures down the line. Make sure to implement a proper `build()` method.\n",
      "  warnings.warn(\n",
      "/usr/local/lib/python3.11/dist-packages/keras/src/layers/layer.py:393: UserWarning: `build()` was called on layer 'decoder_block', however the layer does not have a `build()` method implemented and it looks like it has unbuilt state. This will cause the layer to be marked as built, despite not being actually built, which may cause failures down the line. Make sure to implement a proper `build()` method.\n",
      "  warnings.warn(\n",
      "/usr/local/lib/python3.11/dist-packages/keras/src/layers/layer.py:393: UserWarning: `build()` was called on layer 'decoder_block_1', however the layer does not have a `build()` method implemented and it looks like it has unbuilt state. This will cause the layer to be marked as built, despite not being actually built, which may cause failures down the line. Make sure to implement a proper `build()` method.\n",
      "  warnings.warn(\n",
      "/usr/local/lib/python3.11/dist-packages/keras/src/layers/layer.py:938: UserWarning: Layer 'positional_encoding' (of type PositionalEncoding) was passed an input with a mask attached to it. However, this layer does not support masking and will therefore destroy the mask information. Downstream layers will not see the mask.\n",
      "  warnings.warn(\n",
      "/usr/local/lib/python3.11/dist-packages/keras/src/layers/layer.py:938: UserWarning: Layer 'positional_encoding_1' (of type PositionalEncoding) was passed an input with a mask attached to it. However, this layer does not support masking and will therefore destroy the mask information. Downstream layers will not see the mask.\n",
      "  warnings.warn(\n"
     ]
    }
   ],
   "source": [
    "model = load_model(model_path,\n",
    "    custom_objects={\n",
    "        \"EncoderBlock\": EncoderBlock,\n",
    "        \"DecoderBlock\": DecoderBlock,\n",
    "        \"PositionalEncoding\": PositionalEncoding\n",
    "    }\n",
    ")"
   ]
  },
  {
   "cell_type": "markdown",
   "id": "860bd50b",
   "metadata": {
    "id": "860bd50b"
   },
   "source": [
    "### Loads the test data"
   ]
  },
  {
   "cell_type": "code",
   "execution_count": 21,
   "id": "aO43_32RtGjj",
   "metadata": {
    "id": "aO43_32RtGjj"
   },
   "outputs": [],
   "source": [
    "pd.set_option('display.max_colwidth', None)"
   ]
  },
  {
   "cell_type": "code",
   "execution_count": null,
   "id": "6a47808d",
   "metadata": {
    "id": "6a47808d"
   },
   "outputs": [],
   "source": [
    "df = pd.read_csv(\"prompt_synopsis_test.csv\")\n",
    "testing_df = df.iloc[[20, 26, 64,84,88,98,106,111,127,164,190,199,225,231,242,244,259,298, 10597, 10609]]"
   ]
  },
  {
   "cell_type": "code",
   "execution_count": 26,
   "id": "0d9fc01f",
   "metadata": {
    "id": "0d9fc01f"
   },
   "outputs": [],
   "source": [
    "prompts = testing_df[\"prompt\"].tolist()\n",
    "references = testing_df[\"synopsis\"].tolist()\n",
    "tags_list = testing_df['tags_combined'].tolist()"
   ]
  },
  {
   "cell_type": "markdown",
   "id": "82461c8e",
   "metadata": {},
   "source": [
    "### Preprocess the data"
   ]
  },
  {
   "cell_type": "code",
   "execution_count": 27,
   "id": "Ik-0kNDBkhhR",
   "metadata": {
    "id": "Ik-0kNDBkhhR"
   },
   "outputs": [],
   "source": [
    "# Cleans text\n",
    "def clean_text(text):\n",
    "    return text.lower().strip().replace('\\n', ' ')"
   ]
  },
  {
   "cell_type": "code",
   "execution_count": null,
   "id": "uqo1C4QloTzK",
   "metadata": {
    "colab": {
     "base_uri": "https://localhost:8080/"
    },
    "id": "uqo1C4QloTzK",
    "outputId": "fe719828-c1ec-4e8f-ee6f-88a6e324232b"
   },
   "outputs": [
    {
     "name": "stderr",
     "output_type": "stream",
     "text": [
      "<ipython-input-28-647376479>:2: SettingWithCopyWarning: \n",
      "A value is trying to be set on a copy of a slice from a DataFrame.\n",
      "Try using .loc[row_indexer,col_indexer] = value instead\n",
      "\n",
      "See the caveats in the documentation: https://pandas.pydata.org/pandas-docs/stable/user_guide/indexing.html#returning-a-view-versus-a-copy\n",
      "  testing_df[col] = testing_df[col].astype(str).apply(clean_text)\n",
      "<ipython-input-28-647376479>:2: SettingWithCopyWarning: \n",
      "A value is trying to be set on a copy of a slice from a DataFrame.\n",
      "Try using .loc[row_indexer,col_indexer] = value instead\n",
      "\n",
      "See the caveats in the documentation: https://pandas.pydata.org/pandas-docs/stable/user_guide/indexing.html#returning-a-view-versus-a-copy\n",
      "  testing_df[col] = testing_df[col].astype(str).apply(clean_text)\n"
     ]
    }
   ],
   "source": [
    "for col in ['prompt', 'synopsis']:\n",
    "    testing_df[col] = testing_df[col].astype(str).apply(clean_text)\n",
    "\n",
    "# Gets special token IDs from the loaded Keras tokenizer's word_index.\n",
    "PAD_ID = tokenizer.word_index.get(\"<PAD>\", 0)\n",
    "BOS_ID = tokenizer.word_index.get(\"<BOS>\")\n",
    "EOS_ID = tokenizer.word_index.get(\"<EOS>\")\n",
    "\n",
    "# Converts text to integer sequences.\n",
    "test_prompt_seqs = tokenizer.texts_to_sequences(testing_df['prompt'].tolist())\n",
    "test_synopsis_seqs = tokenizer.texts_to_sequences(testing_df['synopsis'].tolist())\n",
    "\n",
    "# Creates the shifted input/target pairs for the decoder.\n",
    "test_decoder_input_ids = [[BOS_ID] + seq for seq in test_synopsis_seqs]\n",
    "test_decoder_target_ids = [seq + [EOS_ID] for seq in test_synopsis_seqs]\n",
    "\n",
    "# Pads the sequences to a uniform length.\n",
    "X_enc_test = pad_sequences(test_prompt_seqs, maxlen=enc_max_len, padding='post', value=PAD_ID)\n",
    "X_dec_test = pad_sequences(test_decoder_input_ids, maxlen=dec_max_len, padding='post', value=PAD_ID)\n",
    "y_test = pad_sequences(test_decoder_target_ids, maxlen=dec_max_len, padding='post', value=PAD_ID)\n",
    "\n",
    "# Reshapes the final target data for the loss function.\n",
    "y_test = np.expand_dims(y_test, axis=-1)"
   ]
  },
  {
   "cell_type": "markdown",
   "id": "EUvVkVlrtKgJ",
   "metadata": {
    "id": "EUvVkVlrtKgJ"
   },
   "source": [
    "### Test perplexity calculation"
   ]
  },
  {
   "cell_type": "code",
   "execution_count": null,
   "id": "U5RJsnXntJsJ",
   "metadata": {
    "colab": {
     "base_uri": "https://localhost:8080/"
    },
    "id": "U5RJsnXntJsJ",
    "outputId": "c3473d53-c8b5-4a8d-bffc-b1c086fd0584"
   },
   "outputs": [
    {
     "name": "stderr",
     "output_type": "stream",
     "text": [
      "/usr/local/lib/python3.11/dist-packages/keras/src/layers/layer.py:938: UserWarning: Layer 'positional_encoding' (of type PositionalEncoding) was passed an input with a mask attached to it. However, this layer does not support masking and will therefore destroy the mask information. Downstream layers will not see the mask.\n",
      "  warnings.warn(\n",
      "/usr/local/lib/python3.11/dist-packages/keras/src/layers/layer.py:938: UserWarning: Layer 'positional_encoding_1' (of type PositionalEncoding) was passed an input with a mask attached to it. However, this layer does not support masking and will therefore destroy the mask information. Downstream layers will not see the mask.\n",
      "  warnings.warn(\n"
     ]
    },
    {
     "name": "stdout",
     "output_type": "stream",
     "text": [
      "Final Transformer Test Perplexity: 41.86\n"
     ]
    }
   ],
   "source": [
    "# Evaluates the model on the test set\n",
    "test_loss, test_accuracy = model.evaluate(\n",
    "    [X_enc_test, X_dec_test], y_test, verbose=0\n",
    ")\n",
    "\n",
    "# Calculates perplexity from the test loss\n",
    "test_perplexity = np.exp(test_loss)\n",
    "\n",
    "print(f\"Final Transformer Test Perplexity: {test_perplexity:.2f}\")"
   ]
  },
  {
   "cell_type": "markdown",
   "id": "1e3b4591",
   "metadata": {},
   "source": [
    "### Saves the perplexity to a text file"
   ]
  },
  {
   "cell_type": "code",
   "execution_count": null,
   "id": "LXz7TuhGtuSZ",
   "metadata": {
    "id": "LXz7TuhGtuSZ"
   },
   "outputs": [],
   "source": [
    "with open(perp_file_path, 'w') as f:\n",
    "    f.write(str(test_perplexity))"
   ]
  },
  {
   "cell_type": "markdown",
   "id": "ace7c26e",
   "metadata": {},
   "source": [
    "### Helper function to improve generation quality"
   ]
  },
  {
   "cell_type": "code",
   "execution_count": null,
   "id": "ebgjXTVJLPZf",
   "metadata": {
    "id": "ebgjXTVJLPZf"
   },
   "outputs": [],
   "source": [
    "def top_k_sampling(logits, k=5, temperature=1.0):\n",
    "    # Applies temperature\n",
    "    logits = logits / temperature\n",
    "\n",
    "    # Get top-k token indices and their probabilities\n",
    "    top_k_indices = np.argpartition(logits, -k)[-k:]\n",
    "    top_k_logits = logits[top_k_indices]\n",
    "    top_k_probs = tf.nn.softmax(top_k_logits).numpy()\n",
    "\n",
    "    # Samples from the top-k tokens\n",
    "    sampled_index = np.random.choice(top_k_indices, p=top_k_probs)\n",
    "    return sampled_index"
   ]
  },
  {
   "cell_type": "markdown",
   "id": "f4aa299b",
   "metadata": {},
   "source": [
    "### Helper function to prepare encoder inputs"
   ]
  },
  {
   "cell_type": "code",
   "execution_count": null,
   "id": "y5CZAhHTmWVY",
   "metadata": {
    "id": "y5CZAhHTmWVY"
   },
   "outputs": [],
   "source": [
    "# Converts a batch of input into padded token ids for the encoder\n",
    "def _prepare_encoder_inputs(tokenizer, batch_prompts, enc_max_len, pad_id):\n",
    "\n",
    "    input_ids_batch_list = tokenizer.texts_to_sequences(batch_prompts)\n",
    "    X_enc_batch = pad_sequences(input_ids_batch_list, maxlen=enc_max_len, padding='post', value=pad_id)\n",
    "\n",
    "    X_enc_batch_tf = None \n",
    "\n",
    "    # converts to tensorflow tensor\n",
    "    X_enc_batch_tf = tf.constant(X_enc_batch, dtype=tf.int32)\n",
    "\n",
    "    return X_enc_batch_tf"
   ]
  },
  {
   "cell_type": "markdown",
   "id": "b6b807e8",
   "metadata": {},
   "source": [
    "### Function to convert generated ids to text"
   ]
  },
  {
   "cell_type": "code",
   "execution_count": null,
   "id": "hhdCW7srG3-L",
   "metadata": {
    "id": "hhdCW7srG3-L"
   },
   "outputs": [],
   "source": [
    "# Converts a batch of generated token id sequences to readable text\n",
    "def _decode_generated_ids_batched(final_generated_ids_tensor, tokenizer, tokenizer_special_ids):\n",
    "\n",
    "    generated_texts_list = []\n",
    "    # maps token ids back to words\n",
    "    id_to_word = {v: k for k, v in tokenizer.word_index.items()}\n",
    "\n",
    "    for i in range(tf.shape(final_generated_ids_tensor)[0]): \n",
    "        sequence_ids = final_generated_ids_tensor[i].numpy()\n",
    "\n",
    "        # Finds the first EOS or PAD token to truncate the sequence\n",
    "        true_end = next((j for j, x in enumerate(sequence_ids) if x == tokenizer_special_ids['EOS_ID'] or x == tokenizer_special_ids['PAD_ID']), len(sequence_ids))\n",
    "        clean_sequence_ids = sequence_ids[:true_end]\n",
    "\n",
    "        # Filters out special tokens and converts ids to words\n",
    "        filtered_words = []\n",
    "        for idx in clean_sequence_ids:\n",
    "            if idx not in [tokenizer_special_ids['BOS_ID'], tokenizer_special_ids['EOS_ID'], tokenizer_special_ids['PAD_ID']]:\n",
    "                filtered_words.append(id_to_word.get(idx, '<unk>'))\n",
    "\n",
    "        # Joins tokens into a text string\n",
    "        generated_texts_list.append(\" \".join(filtered_words))\n",
    "    return generated_texts_list"
   ]
  },
  {
   "cell_type": "markdown",
   "id": "b4c6c3c9",
   "metadata": {},
   "source": [
    "### Function to select the next token for each sequence in a batch "
   ]
  },
  {
   "cell_type": "code",
   "execution_count": null,
   "id": "6d5v_sBtTvkz",
   "metadata": {
    "id": "6d5v_sBtTvkz"
   },
   "outputs": [],
   "source": [
    "def _select_next_tokens_batched(next_logits_batch, is_generating, tokenizer_special_ids, k, temperature):\n",
    "\n",
    "    # Ensures logits are float32 for TensorFlow operations\n",
    "    next_logits_batch = tf.cast(next_logits_batch, dtype=tf.float32)\n",
    "\n",
    "    # Applies temperature \n",
    "    next_logits_batch = next_logits_batch / temperature\n",
    "\n",
    "    # Masks OOV token to prevent it from being sampled\n",
    "    if tokenizer_special_ids['OOV_ID'] is not None:\n",
    "        oov_id = tokenizer_special_ids['OOV_ID']\n",
    "        batch_indices = tf.range(tf.shape(next_logits_batch)[0], dtype=tf.int32)\n",
    "        oov_indices = tf.stack([batch_indices, tf.fill(tf.shape(batch_indices), oov_id)], axis=1)\n",
    "\n",
    "        oov_values = tf.fill(tf.shape(batch_indices), -1e9) \n",
    "\n",
    "        # Updates the logits at the OOV index for all samples in the batch\n",
    "        next_logits_batch = tf.tensor_scatter_nd_update(next_logits_batch, oov_indices, oov_values)\n",
    "\n",
    "    # Applies top-k sampling\n",
    "    if k > 1:\n",
    "        # Gets top-k values and their original indices for each row in the batch\n",
    "        top_k_values, top_k_indices = tf.math.top_k(next_logits_batch, k=k, sorted=False)\n",
    "\n",
    "        # Reshape top_k_indices to (batch_size * k, 1) and combine with batch indices\n",
    "        batch_indices_expanded = tf.repeat(tf.range(tf.shape(next_logits_batch)[0]), k)\n",
    "        top_k_indices_flat = tf.reshape(top_k_indices, [-1]) \n",
    "\n",
    "        # Assigns top-k logits to their original positions in the output tensor\n",
    "        scatter_indices = tf.stack([batch_indices_expanded, top_k_indices_flat], axis=1) \n",
    "\n",
    "        # Fills logits with -1e9 to mask everything, then inserts top-k values at their positions\n",
    "        masked_logits = tf.fill(tf.shape(next_logits_batch), -1e9)\n",
    "        next_logits_batch = tf.tensor_scatter_nd_update(masked_logits, scatter_indices, tf.reshape(top_k_values, [-1]))\n",
    "\n",
    "    # Samples from the masked logits\n",
    "    next_tokens = tf.random.categorical(next_logits_batch, num_samples=1, dtype=tf.int32)\n",
    "    next_tokens = tf.squeeze(next_tokens, axis=1) \n",
    "\n",
    "    # Applies 'is_generating' mask\n",
    "    next_tokens = tf.where(is_generating, next_tokens, tokenizer_special_ids['PAD_ID'])\n",
    "\n",
    "    return next_tokens "
   ]
  },
  {
   "cell_type": "markdown",
   "id": "79c960d0",
   "metadata": {},
   "source": [
    "### Function to generate synopsis using batch process"
   ]
  },
  {
   "cell_type": "code",
   "execution_count": null,
   "id": "XvRraQ2-G7Ys",
   "metadata": {
    "id": "XvRraQ2-G7Ys"
   },
   "outputs": [],
   "source": [
    "def generate_synopsis_transformer_batched(model: Model, tokenizer, batch_prompts: list, enc_max_len: int, dec_max_len: int, k: int = 5, temperature: float = 1.0):\n",
    "\n",
    "    batch_size = len(batch_prompts)\n",
    "\n",
    "    tokenizer_special_ids = {\n",
    "        'PAD_ID': tokenizer.word_index.get(\"<PAD>\", 0),\n",
    "        'BOS_ID': tokenizer.word_index.get(\"<BOS>\"),\n",
    "        'EOS_ID': tokenizer.word_index.get(\"<EOS>\"),\n",
    "        'OOV_ID': tokenizer.word_index.get(\"<OOV>\", None)\n",
    "    }\n",
    "\n",
    "    if tokenizer_special_ids['BOS_ID'] is None: raise ValueError(\"BOS_ID not found in tokenizer.word_index.\")\n",
    "    if tokenizer_special_ids['EOS_ID'] is None: raise ValueError(\"EOS_ID not found in tokenizer.word_index.\")\n",
    "\n",
    "    X_enc_batch_tf = _prepare_encoder_inputs(tokenizer, batch_prompts, enc_max_len, tokenizer_special_ids['PAD_ID'])\n",
    "\n",
    "    decoder_input_batch = tf.constant(tokenizer_special_ids['BOS_ID'], shape=(batch_size, 1), dtype=tf.int32)\n",
    "    generated_ids_ta = tf.TensorArray(tf.int32, size=dec_max_len, dynamic_size=False, clear_after_read=False)\n",
    "    is_generating = tf.constant(True, shape=(batch_size,), dtype=tf.bool)\n",
    "\n",
    "    for t in tf.range(dec_max_len):\n",
    "        if not tf.reduce_any(is_generating):\n",
    "            break\n",
    "        \n",
    "        # Gets the prediction\n",
    "        preds = model.predict([X_enc_batch_tf, decoder_input_batch], verbose=0)\n",
    "\n",
    "        # Extracts the logits for the last position in each sequence\n",
    "        next_logits_batch = preds[:, tf.shape(decoder_input_batch)[1] - 1, :]\n",
    "\n",
    "        # Selects next tokens for the batch using sampling\n",
    "        next_tokens_batch = _select_next_tokens_batched(next_logits_batch, is_generating, tokenizer_special_ids, k, temperature)\n",
    "\n",
    "        generated_ids_ta = generated_ids_ta.write(t, next_tokens_batch)\n",
    "\n",
    "        # Updates 'is_generating' status for the next step\n",
    "        is_eos_this_step = tf.equal(next_tokens_batch, tokenizer_special_ids['EOS_ID'])\n",
    "        is_generating = is_generating & tf.logical_not(is_eos_this_step)\n",
    "\n",
    "        # Appends new tokens to decoder_input for the next iteration\n",
    "        next_tokens_reshaped = tf.expand_dims(next_tokens_batch, axis=1)\n",
    "        decoder_input_batch = tf.concat([decoder_input_batch, next_tokens_reshaped], axis=1)\n",
    "\n",
    "    final_generated_ids_tensor = tf.transpose(generated_ids_ta.stack())\n",
    "    generated_texts_list = _decode_generated_ids_batched(final_generated_ids_tensor, tokenizer, tokenizer_special_ids)\n",
    "\n",
    "\n",
    "    return generated_texts_list\n"
   ]
  },
  {
   "cell_type": "markdown",
   "id": "aaa5c1d5",
   "metadata": {
    "id": "aaa5c1d5"
   },
   "source": [
    "### Function to get generated output and calculates cosine similarity"
   ]
  },
  {
   "cell_type": "code",
   "execution_count": null,
   "id": "TAKSAQZ4ImhE",
   "metadata": {
    "id": "TAKSAQZ4ImhE"
   },
   "outputs": [],
   "source": [
    "def evaluate_outputs(model, tokenizer, prompts, references, tags_combined, enc_max_len, dec_max_len, print_count=10, batch_size=32, k=5, temperature=1.0):\n",
    "\n",
    "    embedding_model = SentenceTransformer(\"all-MiniLM-L6-v2\")\n",
    "    results = []\n",
    "\n",
    "    for i in tqdm(range(0, len(prompts), batch_size), desc=\"Evaluating Batches\"):\n",
    "\n",
    "        batch_prompts = prompts[i:i+batch_size]\n",
    "        batch_true_synopses = references[i:i+batch_size]\n",
    "        batch_tags = tags_combined[i:i+batch_size]\n",
    "\n",
    "        # Processes text generation in batches\n",
    "        batch_generated_synopses = generate_synopsis_transformer_batched(\n",
    "            model, tokenizer, batch_prompts, enc_max_len, dec_max_len,\n",
    "            k=k, temperature=temperature\n",
    "        )\n",
    "\n",
    "        emb_tags_batch = embedding_model.encode(batch_tags, batch_size=batch_size, show_progress_bar=False)\n",
    "        emb_generated_batch = embedding_model.encode(batch_generated_synopses, batch_size=batch_size, show_progress_bar=False)\n",
    "\n",
    "        similarities_batch = cosine_similarity(emb_generated_batch, emb_tags_batch).diagonal()\n",
    "\n",
    "        for j in range(len(batch_prompts)):\n",
    "            current_prompt = batch_prompts[j]\n",
    "            current_true_synopsis = batch_true_synopses[j]\n",
    "            current_tags = batch_tags[j]\n",
    "            current_generated_synopsis = batch_generated_synopses[j]\n",
    "            current_similarity = similarities_batch[j]\n",
    "\n",
    "            results.append({\n",
    "                \"tags_combined\": current_tags,\n",
    "                \"prompt\": current_prompt,\n",
    "                \"generated\": current_generated_synopsis,\n",
    "                \"true_synopsis\": current_true_synopsis,\n",
    "                \"cosine_similarity\": current_similarity\n",
    "            })\n",
    "\n",
    "            if i + j < print_count:\n",
    "                print(f\"\\nPrompt {i + j + 1}: {current_prompt}\")\n",
    "                print(f\"Generated: {current_generated_synopsis}\")\n",
    "                print(f\"True Synopsis: {current_true_synopsis}\")\n",
    "                print(f\"Cosine Similarity: {current_similarity:.3f}\")\n",
    "                print(\"—\" * 50)\n",
    "\n",
    "    return results"
   ]
  },
  {
   "cell_type": "markdown",
   "id": "560b8e82",
   "metadata": {},
   "source": [
    "### Gets the generated output and cosine similarity"
   ]
  },
  {
   "cell_type": "code",
   "execution_count": 41,
   "id": "BD7SJZjRJgnZ",
   "metadata": {
    "colab": {
     "base_uri": "https://localhost:8080/",
     "height": 1000,
     "referenced_widgets": [
      "8cbf5b7d21084bc69c535dff7bc15ebc",
      "3ee5938c98d94b43ae136b77b4c3cb09",
      "31e0cc1f8102474382ca07d372e3ea89",
      "aea1fe7bdff04f059316089a0ea17ce5",
      "927272c720564f8088baf3ca8f2a0420",
      "b2e3c9b019454f6aad7581c3d50f139b",
      "8cbd3bc95963416686a92a48698051de",
      "63ab4ced8aed4c02ac93d785f5ae313e",
      "0515ae5a3b134fdca76136b438619733",
      "3bde8adebbf34c41a9d1546ca8670278",
      "c2520d986dfb4f8b93ee5e7e23527123",
      "9d7e6229f8144b55b7d9eab0dcf62006",
      "e3d32ff5d0ad46db965782b09b560b14",
      "94bbfb93bb3743e5a404281c4e27c9e7",
      "48a6d7e276c84a11bd5ae1d22668307b",
      "40c6f3c5213c482f8076ca8b21e634bf",
      "0e85ca759ab2493d8e5b1060c80b8ac4",
      "c2fa757f076d4b86ac96fe6705e6c4c1",
      "24b83052bfee4c1da7d289facb496b37",
      "0814cd857f02430b851fd1531b6e0ea3",
      "f4d36bbb1ae748c1bdb74b76c00d8815",
      "c69e9231d1b241398c0c014384c9987a",
      "0b4e1af00af74004a5d63e3c27f89d87",
      "ecc9b26565884c99a50d2e816152491e",
      "555bd9d524a74ab0864002cece3f0203",
      "9214e6dafeba46bca1a6e87064bbf9f6",
      "ed526df9bfcc4db18078b26aac925031",
      "fc27837765f441d8bdd0ddea3fd94ae8",
      "b5ae2b9d4c304acc8afdaf982a45cb04",
      "cd67e61488d548789b7c28882eecd0a4",
      "e5f25be41606435d9f9ee08de9beef6e",
      "c75bfbe59e9c406a8a6f7a273a45da90",
      "5679fec769f94ab5b4aa710ca0d3c5a9",
      "f323946dffab43e6897c04218e206292",
      "d9cd77374c434da2bf8c77e70d6510b9",
      "2b07f81e752c43dabfc7df616dc32fb7",
      "efc34065280846efb360c268958dbbc8",
      "adc1b43f7fbc46b7ad7c5bf8568aaa38",
      "a2899a159f0e47dfbea88d7613dd69a8",
      "1f45d0ff588541d5af3ea160d2534d72",
      "2b47b73613cb4a4691a52456d96d8bcf",
      "e4b4709e2af94c53b5781d3409595c5b",
      "0067a45cd84f4cd1ac0d3d3de31100c9",
      "a5fe4ed2c4f242f9978ba3c4325bff5b",
      "445865b4d9fc40849d0c2adfed8c41de",
      "0ca2a7953f4a40a1be0a0b2c440396e7",
      "91ae3e067c7f406eb87c7c9314f2b526",
      "f21fe59765434f9ea2e6d85d1465d812",
      "591f4732a5f14c23ab0d2407a08dd1a6",
      "7da888a58e034ca6aa854bc6192001b7",
      "1375a35a091f40d593262489670851a8",
      "b49ac81809e34e05976ebce28fe02668",
      "0500ebe0d434460d811d0e85626c8a29",
      "40dfb36691cf42719a7dbaa947e9f0d6",
      "00fd497e85b3498d9568c8ed4bc96ccb",
      "0365278038534d17bde304eff957809f",
      "7548dbf8917a41fa89eb3dadd309c730",
      "316e374907804dc596dadd769afe3575",
      "18ed51a6944b494eb40a2f511967c544",
      "dd1fe25aa65943ce90333ad2ae99b11d",
      "0ba0584d4f6945df8b2e180cc1760e9e",
      "ef4cc8bc3021402990a05952be02727f",
      "bbfced28b4e741e9bb23b58db47bf598",
      "83bc90fa3eb84d10a9b022e633299ddf",
      "4a55dfbec82e496e94a0b668b5c4848e",
      "e4c5013f53184a2b9c299c5155091304",
      "d7dae0aadc8c41a6a69f9b1697e15d0b",
      "1a14cec6afa545b2b6ffb8b2bab3c1f1",
      "7c94a0bc4df747bd812aa3ff8080717f",
      "d63f6650989c47e2afaa835723383222",
      "b4492541664643fb8df5e6123ba4905f",
      "1a7a76dc4d6d451faaaea42926c8a8c4",
      "2725e9bcd1054db1805a343093a15864",
      "ad32a1c2f9f54bcaa57658c2ed8bdd36",
      "b2841ba64ae64000860a13f1480f187f",
      "40899db45e0e4b63b224b2bf5dcf4ff0",
      "bc312ca458eb4f989c23aa8e7a035dc1",
      "986e7b73cdca45ddab6f357935158e80",
      "bf7ce073ac31406aa24c849200dc47c4",
      "d8abafd977a24dd7b35f3086a5323ecc",
      "2b6fa056684e4669bcc851e402eb2bc3",
      "082a09b6b47940c8bb87f978538deb8c",
      "5a188c04220b41fe968797c02020f9cd",
      "c4f2ddd171d248f88f0885a680cba968",
      "4b0444e918414ae09077c4420cd25731",
      "aa33748db1fd4a2e9c05ae63983ab47f",
      "68ee90f2505c4e228e2fb6bb25b70fd5",
      "76341fe432624209a06fd06d79511552",
      "985c76f137614f55873990225e1c78f4",
      "2ce5c97b1eb145d3a7f5d55a9ce86f56",
      "a50b65c986f84f92b8c47924fe388dfd",
      "7c805f40e0814bca88f07dd723278931",
      "3006c756536c43ff975c54667d47f34f",
      "2d5975b10d7a4a2abe4e592afaaa60f1",
      "720cda8594f84df6a48d45803a7a2c5c",
      "c909aada78fc48c4b64367b2d658d027",
      "43be8fa9254e4ab5b3b0c1ae814a6df5",
      "7b08f049b37a4c4ab9afdcad11a32691",
      "fd86c75530e74c248f7e41897f30dd15",
      "0bd1f00bb8ae4c7b8834436ce99c3ad3",
      "244370e9632a4a1baa9f3faeafab9913",
      "6768e6e80c304e598ad554895fc746dd",
      "e987ca4389c8425c8e8fd341ddfae68e",
      "39cbf3f1528c4dceb6f2601763c17394",
      "62707bec8f2e47a5ad87282ce5bd5d20",
      "23a16c0d27104e418e74fe4027ab7405",
      "f743383b748d42f8a68eda8612b4c4eb",
      "21853a08a5c94d46a2a6407daf6aacf5",
      "cc98130bfd5d4b5c8f2986335ce2893a",
      "38f038ea63714b0ebad4f16ebffd8cf1",
      "20d1828854bd42c2ae7d73f2c5040dff",
      "1c0dd1c621444761989e8b071690b360",
      "fd67bd4853904e588cb70a1265456f9d",
      "f3a19c6b72d1408c9dd6f1549a9c40b8",
      "fe42a1370930482790e3dceebc67b243",
      "f6444d99036d408a8e3ae669dd92bc4f",
      "c8417c1cd20f43c4b36b363835f3a589",
      "fc19a06bd8614d0292a01a4649dfea2a",
      "0479b10d97cd4155b174214bbc6cbe08",
      "f6a6dd709dec4cfca301f5f1f6c753ea",
      "6e0ea7402c4745f483b5ac3ab287c75e"
     ]
    },
    "id": "BD7SJZjRJgnZ",
    "outputId": "fe1ca565-1231-4662-9d88-c90db758e4f1"
   },
   "outputs": [
    {
     "name": "stderr",
     "output_type": "stream",
     "text": [
      "/usr/local/lib/python3.11/dist-packages/huggingface_hub/utils/_auth.py:94: UserWarning: \n",
      "The secret `HF_TOKEN` does not exist in your Colab secrets.\n",
      "To authenticate with the Hugging Face Hub, create a token in your settings tab (https://huggingface.co/settings/tokens), set it as secret in your Google Colab and restart your session.\n",
      "You will be able to reuse this secret in all of your notebooks.\n",
      "Please note that authentication is recommended but still optional to access public models or datasets.\n",
      "  warnings.warn(\n"
     ]
    },
    {
     "data": {
      "application/vnd.jupyter.widget-view+json": {
       "model_id": "8cbf5b7d21084bc69c535dff7bc15ebc",
       "version_major": 2,
       "version_minor": 0
      },
      "text/plain": [
       "modules.json:   0%|          | 0.00/349 [00:00<?, ?B/s]"
      ]
     },
     "metadata": {},
     "output_type": "display_data"
    },
    {
     "data": {
      "application/vnd.jupyter.widget-view+json": {
       "model_id": "9d7e6229f8144b55b7d9eab0dcf62006",
       "version_major": 2,
       "version_minor": 0
      },
      "text/plain": [
       "config_sentence_transformers.json:   0%|          | 0.00/116 [00:00<?, ?B/s]"
      ]
     },
     "metadata": {},
     "output_type": "display_data"
    },
    {
     "data": {
      "application/vnd.jupyter.widget-view+json": {
       "model_id": "0b4e1af00af74004a5d63e3c27f89d87",
       "version_major": 2,
       "version_minor": 0
      },
      "text/plain": [
       "README.md:   0%|          | 0.00/10.5k [00:00<?, ?B/s]"
      ]
     },
     "metadata": {},
     "output_type": "display_data"
    },
    {
     "data": {
      "application/vnd.jupyter.widget-view+json": {
       "model_id": "f323946dffab43e6897c04218e206292",
       "version_major": 2,
       "version_minor": 0
      },
      "text/plain": [
       "sentence_bert_config.json:   0%|          | 0.00/53.0 [00:00<?, ?B/s]"
      ]
     },
     "metadata": {},
     "output_type": "display_data"
    },
    {
     "data": {
      "application/vnd.jupyter.widget-view+json": {
       "model_id": "445865b4d9fc40849d0c2adfed8c41de",
       "version_major": 2,
       "version_minor": 0
      },
      "text/plain": [
       "config.json:   0%|          | 0.00/612 [00:00<?, ?B/s]"
      ]
     },
     "metadata": {},
     "output_type": "display_data"
    },
    {
     "data": {
      "application/vnd.jupyter.widget-view+json": {
       "model_id": "0365278038534d17bde304eff957809f",
       "version_major": 2,
       "version_minor": 0
      },
      "text/plain": [
       "model.safetensors:   0%|          | 0.00/90.9M [00:00<?, ?B/s]"
      ]
     },
     "metadata": {},
     "output_type": "display_data"
    },
    {
     "data": {
      "application/vnd.jupyter.widget-view+json": {
       "model_id": "d7dae0aadc8c41a6a69f9b1697e15d0b",
       "version_major": 2,
       "version_minor": 0
      },
      "text/plain": [
       "tokenizer_config.json:   0%|          | 0.00/350 [00:00<?, ?B/s]"
      ]
     },
     "metadata": {},
     "output_type": "display_data"
    },
    {
     "data": {
      "application/vnd.jupyter.widget-view+json": {
       "model_id": "986e7b73cdca45ddab6f357935158e80",
       "version_major": 2,
       "version_minor": 0
      },
      "text/plain": [
       "vocab.txt:   0%|          | 0.00/232k [00:00<?, ?B/s]"
      ]
     },
     "metadata": {},
     "output_type": "display_data"
    },
    {
     "data": {
      "application/vnd.jupyter.widget-view+json": {
       "model_id": "985c76f137614f55873990225e1c78f4",
       "version_major": 2,
       "version_minor": 0
      },
      "text/plain": [
       "tokenizer.json:   0%|          | 0.00/466k [00:00<?, ?B/s]"
      ]
     },
     "metadata": {},
     "output_type": "display_data"
    },
    {
     "data": {
      "application/vnd.jupyter.widget-view+json": {
       "model_id": "0bd1f00bb8ae4c7b8834436ce99c3ad3",
       "version_major": 2,
       "version_minor": 0
      },
      "text/plain": [
       "special_tokens_map.json:   0%|          | 0.00/112 [00:00<?, ?B/s]"
      ]
     },
     "metadata": {},
     "output_type": "display_data"
    },
    {
     "data": {
      "application/vnd.jupyter.widget-view+json": {
       "model_id": "20d1828854bd42c2ae7d73f2c5040dff",
       "version_major": 2,
       "version_minor": 0
      },
      "text/plain": [
       "config.json:   0%|          | 0.00/190 [00:00<?, ?B/s]"
      ]
     },
     "metadata": {},
     "output_type": "display_data"
    },
    {
     "name": "stderr",
     "output_type": "stream",
     "text": [
      "\r",
      "Evaluating Batches:   0%|          | 0/1 [00:00<?, ?it/s]/usr/local/lib/python3.11/dist-packages/keras/src/layers/layer.py:938: UserWarning: Layer 'positional_encoding' (of type PositionalEncoding) was passed an input with a mask attached to it. However, this layer does not support masking and will therefore destroy the mask information. Downstream layers will not see the mask.\n",
      "  warnings.warn(\n",
      "/usr/local/lib/python3.11/dist-packages/keras/src/layers/layer.py:938: UserWarning: Layer 'positional_encoding_1' (of type PositionalEncoding) was passed an input with a mask attached to it. However, this layer does not support masking and will therefore destroy the mask information. Downstream layers will not see the mask.\n",
      "  warnings.warn(\n",
      "Evaluating Batches: 100%|██████████| 1/1 [16:58<00:00, 1018.70s/it]"
     ]
    },
    {
     "name": "stdout",
     "output_type": "stream",
     "text": [
      "\n",
      "Prompt 1: Write an anime synopsis that matches 'Adventure, Comedy and Fantasy'.\n",
      "Generated: one drama adaptation and friends but as they are attacked their life after she loves and is called its past on their home that takes one time at various danger. she is called in japan. but this is sent off the most other world of these monsters. this student in an accident he encounters her way when no young student from another of his friends the world. when that can make what the most team finds it, a strange team can only one night the two find her family to get the power they were already taken his powers as an adventure to discover how she meets the help his friend decides his best friends in search the first time from justice which will stop this battle from being in their past begin its new world. and is now no other world, will get him his own. she are the\n",
      "True Synopsis: on one noteworthy day in the adventurer's guild, kazuma satou encounters someone unexpecteda fan of his named ran. surprised that he even has a fan, kazuma attempts to play it cool to impress her. unfortunately for him, the guild's receptionist arrives with a request to defeat a giant golem guarding some ancient ruins, and kazuma accepts only to keep ran's admiration. upon kazuma and his party's successful return from the ruins, kazuma continues to shamelessly brag to ran. capitalizing on his desperation, the receptionist approaches him with another quest that requires him to return to the same ruins. hoping to find valuable treasures, kazuma once again convinces his party to join himbut this time, he may be biting off more than he can chew.\n",
      "Cosine Similarity: 0.397\n",
      "——————————————————————————————————————————————————\n",
      "\n",
      "Prompt 2: Write an anime synopsis that matches 'Mystery and Supernatural'.\n",
      "Generated: the fifth anime released the fourth years after episode volume.\n",
      "True Synopsis: the anime is set in the fictional geso ward in tokyo, a school city where an app called aicis is becoming popular. those who get the app are given supernatural powers, which they use to pursue their own selfish desires, leading to many occurrences of violence and other incidents. the story focuses on a group of detectives who solve cases related to power wielders.\n",
      "Cosine Similarity: 0.156\n",
      "——————————————————————————————————————————————————\n",
      "\n",
      "Prompt 3: Generate a 'Historical and Mythology' themed anime targeting 'Shoujo'.\n",
      "Generated: an extra recap episodes episode by no demons against its power which were born,\n",
      "True Synopsis: in the nineteenth century, we find lydia carlton living in scotland, making a living as a fairy doctor. she is one of those rare humans who can see and communicate with fairies. but no one believes her. however, edgar is in need of someone with a vast knowledge of fairy lore, and lydia is just that person. after rescuing her, he becomes her employer, but there are many secrets and emotions that seem to follow edgar, who claims to be the blue knight's earl.\n",
      "Cosine Similarity: 0.232\n",
      "——————————————————————————————————————————————————\n",
      "\n",
      "Prompt 4: Write an anime synopsis that matches 'Adventure'.\n",
      "Generated: unaired episodes that bundled at japan included between episode the episode bluray releases. with its new character and it tells of becoming another new days at their powers for being attacked episodes on space. who must protect them. meanwhile, he will become new high her best of this version featuring dr. warriors but however, this girl that are not as this new characters where he finds its world behind her mother to become new high new years ago. the people set in an old girls where and no events where the other group takes the only more world, the new world. although his first encounter in all sorts for their past that have just just is on new time who would not find what can discover and take out about its time with this man is also in addition he decides in japan. in love the help it seems in\n",
      "True Synopsis: takashi loves reading books and especially loves alice's adventures in wonderland. one day, he buys some used books, and he finds one book thrown in. when takashi opens the book, the god of math m1 appeared. takashi is told that alice is kidnapped, and he's asked to rescue her by m1. and takashi goes on an adventure in wonderland to rescue alice.\n",
      "Cosine Similarity: 0.246\n",
      "——————————————————————————————————————————————————\n",
      "\n",
      "Prompt 5: Create an anime synopsis with 'Comedy, Fantasy and Slice Of Life' and 'Anthropomorphic'.\n",
      "Generated: recap follows this of which they find her own and its world before the story between its world he receives himself by their journey when the world that can the entire school has the new woman has become new friend by being a man he ends meet, which the girls would know this time, an abandoned as his partner as he discovers no young student, that they be with his first years from her father meets and her way toward all his life begins a young family to save him. he believes it seems that all up for a result,\n",
      "True Synopsis: in a city filled with anthropomorphic catpeople, catman lives free of rules and boundaries, doing everything he wants, which often collides with the other inhabitants of the city. created entirely in flash, with no spoken dialog, catman instead speaks in english and japanese subtitles. the series is spread across three socalled 'seasons', with only the third having been aired.\n",
      "Cosine Similarity: 0.365\n",
      "——————————————————————————————————————————————————\n",
      "\n",
      "Prompt 6: Write an anime synopsis that matches 'Action, Adventure, Drama, Romance and Sci-Fi'.\n",
      "Generated: after this follows many children since no young life about all his father was called high high girls but her friends must go up in his life. but to find it has grown into all them at this people that were attacked them at their previous school, his sister no power in her father's leader, his former journey to fight from earth as he can stop this life on some time. when one such it begins a huge demon police as well as their father was actually been no way through some friends in order of a secret from them. unfortunately, but when all as a young high schooler known is tasked when she must take up her home a single goal called for his friend and no matter and save all with him on its new days but now finds its memories as all as if a battle may\n",
      "True Synopsis: in the backwater town of bellforest lives a 14yearold boy named renton thurston. he desires to leave his home behind and join the mercenary group known as gekkostate, hoping to find some adventure to brighten up his mundane life. however, stuck between his grandfather's insistence to become a mechanic like him and the pressure of his deceased father's legacy, the only excitement renton finds is in his pastime of riding the trapar wave particles that are dispersed throughout the air, an activity akin to surfing. everything changes when an unknown object crashes through renton's garage, discovered to be a light finding operationa robot capable of riding the trapar wavesspecifically known as the nirvash typezero. its pilot is a young girl named eureka, a member of the gekkostate, who requests a tuneup for the nirvash. their meeting sparks the beginning of renton's involvement with the gekkostate as he takes off alongside eureka as the copilot of the nirvash.\n",
      "Cosine Similarity: 0.220\n",
      "——————————————————————————————————————————————————\n",
      "\n",
      "Prompt 7: Create an anime synopsis with 'Sports' and 'Anthropomorphic and Racing'.\n",
      "Generated: the final anime adaptation day featuring the series. no basket manga series is forced about by his mother called by these people known only and make himself up at its best friend he becomes well against him. after one fateful fateful time and new time, it is on one other with its time and an invitation at one day, the three series is to save all them, as these as some powerful high men that she learns from the same time is on another club club and they will get a small group to fight in an invitation towards her former goal from all. while they are able home by an end. unfortunately, and begins his childhood and they can see an elite club who seems her life for them the young world are no secrets to protect her life. after it also also no dangerous life begins on all\n",
      "True Synopsis: within the horseracing world, the horse girls of team spica have been gaining popularity as they continue to rack up victories. the one receiving the most attention in the group is toukai teiou, known for her cheerful personality and exceptional running skills. teiou aims to become an undefeated triple crown horse girl by winning all three g1 races consecutively, a feat that has not been accomplished since the legendary symbolic rudolf managed to do so many years ago. on her path to obtaining the triple crown, teiou is met with many challenges, encountering both old and new rivals. amidst her fierce rivalries, however, teiou is soon confronted with decisions that will leave a huge impact on her very own racing career.\n",
      "Cosine Similarity: 0.153\n",
      "——————————————————————————————————————————————————\n",
      "\n",
      "Prompt 8: Write an anime synopsis based on the 'Mecha and Space'.\n",
      "Generated: one day, an anime based a battle between volume in theaters as no alien city from space. now his dream will see their quest with these memory is the people around their old life is also created a little world. while known after this was called by space and new life. with her fellow life as another and he encounters their father known when he must fight to meet all their new time, his journey from an adventure to combat while a giant world with earth known as no monsters may find a place and is more enough as her friends at her way out that their friends discovers no paths that it was attacked to discover his own new enemies has an ordinary world as an end into any people from it comes from any time. this time, of a dangerous powers called their power was put from any\n",
      "True Synopsis: when one space colony declared its independence from the earth federation, the devastating 7th space war, an allout war between earth and space, resulted. the federation responded to the space revolutionary army with mobile suits, called gundams. however, the space revolutionary forces played their trump card and dropped hundreds of space colonies onto the earth, plunging the planet into a sevenyearlong nuclear winter. the federation collapsed, but the space revolutionary army was unable to invade the earth in the aftermath of the colony drop. fifteen years have passed. the year is now after war 0015, and a new federation has sprung up on earth to restore order. in space, the colonial leaders have been rebuilding their own forces as well. by chance, fifteenyearold garrod ran has discovered an old federation mobile suit, the gundam x, and now he uses it to help out the vulture ship freeden in its struggle to keep the powers that be from repeating the mistakes of the past.\n",
      "Cosine Similarity: 0.296\n",
      "——————————————————————————————————————————————————\n",
      "\n",
      "Prompt 9: Write a 'Slice Of Life' anime synopsis inspired by 'Welcome, Chitose'.\n",
      "Generated: an aspiring years around four school, sakura itoshiki moves by all those with him, while he's that the best school is actually his father was now in reality, when being suddenly also her best as their family has an ordinary transfer student, in the student called he runs off out out in fact is no high her way and if things they need he soon ends in reality, after being an ancient other people have more and is to an evil with him. however, that will to join the truth for each other's and they fight against his childhood and has taken her to his former own longer a secret or become being trying a strange man at first, and has come about the entire world, after their journey between those around him into all them about them like him, is an abandoned her home of being more of her.\n",
      "True Synopsis: chitosechan is a penguin who lives in kyoto. getting in touch with people and getting fed delicious food as she curiously walks around kyoto streets is her favourite thing to do. the story features popular places in kyoto like kiyomizu temple, ginkaku temple, and gion from the penguin's point of view. this is a short story about a penguin that is nostalgic and warm, curing and relieving the heart.\n",
      "Cosine Similarity: 0.151\n",
      "——————————————————————————————————————————————————\n",
      "\n",
      "Prompt 10: Write an anime synopsis that matches 'Adventure, Mystery, Slice Of Life and Supernatural'.\n",
      "Generated: unaired included on their former senshi shinjuu series, based with high time, with their powers from japan that the end about to protect a series called one thing will join each of them when these longer learns he encounters to protect her first other high schooler, there have nothing but their true than one year known new new for this boy of becoming its existence from being a young girls whom he had always been tasked between these as this world of this story between its last world. but\n",
      "True Synopsis: ghostly, primordial beings known as mushi continue to cause mysterious changes in the lives of humans. the travelling mushishi, ginko, persists in trying to set right the strange and unsettling situations he encounters. time loops, living shadows, and telepathy are among the overt effects of interference from mushi, but more subtle symptoms that take years to be noticed also rouse ginko's concern as he passes from village to village. through circumstance, ginko has become an arbiter, determining which mushi are blessings and which are curses. but the lines that he seeks to draw are subjective. some of his patients would rather exercise their new powers until they are utterly consumed by them; others desperately strive to rid themselves of afflictions which are in fact protecting their lives from devastation. those who cross paths with mushi must learn to accept seemingly impossible consequences for their actions, and heal wounds they did not know they had. otherwise, they risk meeting with fates beyond their comprehension.\n",
      "Cosine Similarity: 0.313\n",
      "——————————————————————————————————————————————————\n"
     ]
    },
    {
     "name": "stderr",
     "output_type": "stream",
     "text": [
      "\n"
     ]
    }
   ],
   "source": [
    "similarity_results = evaluate_outputs(\n",
    "    model,\n",
    "    tokenizer,\n",
    "    prompts,\n",
    "    references,\n",
    "    tags_list,\n",
    "    enc_max_len,\n",
    "    dec_max_len,\n",
    "    print_count=10,\n",
    "    batch_size=32,\n",
    "    k=k_value,\n",
    "    temperature=temp\n",
    ")"
   ]
  },
  {
   "cell_type": "markdown",
   "id": "f24da46f",
   "metadata": {},
   "source": [
    "### Calculates the avg cosine similarity and saves to a text file"
   ]
  },
  {
   "cell_type": "code",
   "execution_count": null,
   "id": "bEJybOVgLCqn",
   "metadata": {
    "colab": {
     "base_uri": "https://localhost:8080/"
    },
    "id": "bEJybOVgLCqn",
    "outputId": "90b035bb-f8cf-40f6-89f9-c49ed568a9da"
   },
   "outputs": [],
   "source": [
    "avg_similarity = sum(r[\"cosine_similarity\"] for r in similarity_results) / len(similarity_results)"
   ]
  },
  {
   "cell_type": "code",
   "execution_count": null,
   "id": "s5msOzcR8E-J",
   "metadata": {
    "id": "s5msOzcR8E-J"
   },
   "outputs": [],
   "source": [
    "with open('avg_sim_transformer.txt', 'w') as f:\n",
    "    f.write(str(avg_similarity))"
   ]
  },
  {
   "cell_type": "markdown",
   "id": "aec2ddc1",
   "metadata": {},
   "source": [
    "### Saves all the results to a csv file"
   ]
  },
  {
   "cell_type": "code",
   "execution_count": 46,
   "id": "VLbQVtgmQ38j",
   "metadata": {
    "id": "VLbQVtgmQ38j"
   },
   "outputs": [],
   "source": [
    "df_results = pd.DataFrame(similarity_results)\n",
    "df_results.to_csv(\"generated_results_with_similarity.csv\", index=False)"
   ]
  },
  {
   "cell_type": "markdown",
   "id": "52a5c598",
   "metadata": {},
   "source": [
    "### Creates a table for easy check"
   ]
  },
  {
   "cell_type": "code",
   "execution_count": 47,
   "id": "yOcJhH1SRKDS",
   "metadata": {
    "colab": {
     "base_uri": "https://localhost:8080/",
     "height": 1000
    },
    "id": "yOcJhH1SRKDS",
    "outputId": "05c6e7a5-f487-4690-963c-3dcc52fa61c8"
   },
   "outputs": [
    {
     "data": {
      "text/html": [
       "<style type=\"text/css\">\n",
       "#T_61d05 th {\n",
       "  text-align: left;\n",
       "}\n",
       "#T_61d05_row0_col0, #T_61d05_row0_col1, #T_61d05_row0_col2, #T_61d05_row0_col3, #T_61d05_row0_col4, #T_61d05_row1_col0, #T_61d05_row1_col1, #T_61d05_row1_col2, #T_61d05_row1_col3, #T_61d05_row1_col4, #T_61d05_row2_col0, #T_61d05_row2_col1, #T_61d05_row2_col2, #T_61d05_row2_col3, #T_61d05_row2_col4, #T_61d05_row3_col0, #T_61d05_row3_col1, #T_61d05_row3_col2, #T_61d05_row3_col3, #T_61d05_row3_col4, #T_61d05_row4_col0, #T_61d05_row4_col1, #T_61d05_row4_col2, #T_61d05_row4_col3, #T_61d05_row4_col4, #T_61d05_row5_col0, #T_61d05_row5_col1, #T_61d05_row5_col2, #T_61d05_row5_col3, #T_61d05_row5_col4, #T_61d05_row6_col0, #T_61d05_row6_col1, #T_61d05_row6_col2, #T_61d05_row6_col3, #T_61d05_row6_col4, #T_61d05_row7_col0, #T_61d05_row7_col1, #T_61d05_row7_col2, #T_61d05_row7_col3, #T_61d05_row7_col4, #T_61d05_row8_col0, #T_61d05_row8_col1, #T_61d05_row8_col2, #T_61d05_row8_col3, #T_61d05_row8_col4, #T_61d05_row9_col0, #T_61d05_row9_col1, #T_61d05_row9_col2, #T_61d05_row9_col3, #T_61d05_row9_col4 {\n",
       "  text-align: left;\n",
       "  white-space: pre-wrap;\n",
       "}\n",
       "</style>\n",
       "<table id=\"T_61d05\" class=\"dataframe\">\n",
       "  <thead>\n",
       "    <tr>\n",
       "      <th class=\"blank level0\" >&nbsp;</th>\n",
       "      <th id=\"T_61d05_level0_col0\" class=\"col_heading level0 col0\" >tags_combined</th>\n",
       "      <th id=\"T_61d05_level0_col1\" class=\"col_heading level0 col1\" >prompt</th>\n",
       "      <th id=\"T_61d05_level0_col2\" class=\"col_heading level0 col2\" >generated</th>\n",
       "      <th id=\"T_61d05_level0_col3\" class=\"col_heading level0 col3\" >true_synopsis</th>\n",
       "      <th id=\"T_61d05_level0_col4\" class=\"col_heading level0 col4\" >cosine_similarity</th>\n",
       "    </tr>\n",
       "  </thead>\n",
       "  <tbody>\n",
       "    <tr>\n",
       "      <th id=\"T_61d05_level0_row0\" class=\"row_heading level0 row0\" >0</th>\n",
       "      <td id=\"T_61d05_row0_col0\" class=\"data row0 col0\" >adventure comedy fantasy</td>\n",
       "      <td id=\"T_61d05_row0_col1\" class=\"data row0 col1\" >Write an anime synopsis that matches 'Adventure, Comedy and Fantasy'.</td>\n",
       "      <td id=\"T_61d05_row0_col2\" class=\"data row0 col2\" >one drama adaptation and friends but as they are attacked their life after she loves and is called its past on their home that takes one time at various danger. she is called in japan. but this is sent off the most other world of these monsters. this student in an accident he encounters her way when no young student from another of his friends the world. when that can make what the most team finds it, a strange team can only one night the two find her family to get the power they were already taken his powers as an adventure to discover how she meets the help his friend decides his best friends in search the first time from justice which will stop this battle from being in their past begin its new world. and is now no other world, will get him his own. she are the</td>\n",
       "      <td id=\"T_61d05_row0_col3\" class=\"data row0 col3\" >on one noteworthy day in the adventurer's guild, kazuma satou encounters someone unexpecteda fan of his named ran. surprised that he even has a fan, kazuma attempts to play it cool to impress her. unfortunately for him, the guild's receptionist arrives with a request to defeat a giant golem guarding some ancient ruins, and kazuma accepts only to keep ran's admiration. upon kazuma and his party's successful return from the ruins, kazuma continues to shamelessly brag to ran. capitalizing on his desperation, the receptionist approaches him with another quest that requires him to return to the same ruins. hoping to find valuable treasures, kazuma once again convinces his party to join himbut this time, he may be biting off more than he can chew.</td>\n",
       "      <td id=\"T_61d05_row0_col4\" class=\"data row0 col4\" >0.397459</td>\n",
       "    </tr>\n",
       "    <tr>\n",
       "      <th id=\"T_61d05_level0_row1\" class=\"row_heading level0 row1\" >1</th>\n",
       "      <td id=\"T_61d05_row1_col0\" class=\"data row1 col0\" >mystery supernatural</td>\n",
       "      <td id=\"T_61d05_row1_col1\" class=\"data row1 col1\" >Write an anime synopsis that matches 'Mystery and Supernatural'.</td>\n",
       "      <td id=\"T_61d05_row1_col2\" class=\"data row1 col2\" >the fifth anime released the fourth years after episode volume.</td>\n",
       "      <td id=\"T_61d05_row1_col3\" class=\"data row1 col3\" >the anime is set in the fictional geso ward in tokyo, a school city where an app called aicis is becoming popular. those who get the app are given supernatural powers, which they use to pursue their own selfish desires, leading to many occurrences of violence and other incidents. the story focuses on a group of detectives who solve cases related to power wielders.</td>\n",
       "      <td id=\"T_61d05_row1_col4\" class=\"data row1 col4\" >0.156352</td>\n",
       "    </tr>\n",
       "    <tr>\n",
       "      <th id=\"T_61d05_level0_row2\" class=\"row_heading level0 row2\" >2</th>\n",
       "      <td id=\"T_61d05_row2_col0\" class=\"data row2 col0\" >historical mythology shoujo</td>\n",
       "      <td id=\"T_61d05_row2_col1\" class=\"data row2 col1\" >Generate a 'Historical and Mythology' themed anime targeting 'Shoujo'.</td>\n",
       "      <td id=\"T_61d05_row2_col2\" class=\"data row2 col2\" >an extra recap episodes episode by no demons against its power which were born,</td>\n",
       "      <td id=\"T_61d05_row2_col3\" class=\"data row2 col3\" >in the nineteenth century, we find lydia carlton living in scotland, making a living as a fairy doctor. she is one of those rare humans who can see and communicate with fairies. but no one believes her. however, edgar is in need of someone with a vast knowledge of fairy lore, and lydia is just that person. after rescuing her, he becomes her employer, but there are many secrets and emotions that seem to follow edgar, who claims to be the blue knight's earl.</td>\n",
       "      <td id=\"T_61d05_row2_col4\" class=\"data row2 col4\" >0.232457</td>\n",
       "    </tr>\n",
       "    <tr>\n",
       "      <th id=\"T_61d05_level0_row3\" class=\"row_heading level0 row3\" >3</th>\n",
       "      <td id=\"T_61d05_row3_col0\" class=\"data row3 col0\" >adventure</td>\n",
       "      <td id=\"T_61d05_row3_col1\" class=\"data row3 col1\" >Write an anime synopsis that matches 'Adventure'.</td>\n",
       "      <td id=\"T_61d05_row3_col2\" class=\"data row3 col2\" >unaired episodes that bundled at japan included between episode the episode bluray releases. with its new character and it tells of becoming another new days at their powers for being attacked episodes on space. who must protect them. meanwhile, he will become new high her best of this version featuring dr. warriors but however, this girl that are not as this new characters where he finds its world behind her mother to become new high new years ago. the people set in an old girls where and no events where the other group takes the only more world, the new world. although his first encounter in all sorts for their past that have just just is on new time who would not find what can discover and take out about its time with this man is also in addition he decides in japan. in love the help it seems in</td>\n",
       "      <td id=\"T_61d05_row3_col3\" class=\"data row3 col3\" >takashi loves reading books and especially loves alice's adventures in wonderland. one day, he buys some used books, and he finds one book thrown in. when takashi opens the book, the god of math m1 appeared. takashi is told that alice is kidnapped, and he's asked to rescue her by m1. and takashi goes on an adventure in wonderland to rescue alice.</td>\n",
       "      <td id=\"T_61d05_row3_col4\" class=\"data row3 col4\" >0.246380</td>\n",
       "    </tr>\n",
       "    <tr>\n",
       "      <th id=\"T_61d05_level0_row4\" class=\"row_heading level0 row4\" >4</th>\n",
       "      <td id=\"T_61d05_row4_col0\" class=\"data row4 col0\" >anthropomorphic comedy fantasy slice of life</td>\n",
       "      <td id=\"T_61d05_row4_col1\" class=\"data row4 col1\" >Create an anime synopsis with 'Comedy, Fantasy and Slice Of Life' and 'Anthropomorphic'.</td>\n",
       "      <td id=\"T_61d05_row4_col2\" class=\"data row4 col2\" >recap follows this of which they find her own and its world before the story between its world he receives himself by their journey when the world that can the entire school has the new woman has become new friend by being a man he ends meet, which the girls would know this time, an abandoned as his partner as he discovers no young student, that they be with his first years from her father meets and her way toward all his life begins a young family to save him. he believes it seems that all up for a result,</td>\n",
       "      <td id=\"T_61d05_row4_col3\" class=\"data row4 col3\" >in a city filled with anthropomorphic catpeople, catman lives free of rules and boundaries, doing everything he wants, which often collides with the other inhabitants of the city. created entirely in flash, with no spoken dialog, catman instead speaks in english and japanese subtitles. the series is spread across three socalled 'seasons', with only the third having been aired.</td>\n",
       "      <td id=\"T_61d05_row4_col4\" class=\"data row4 col4\" >0.364874</td>\n",
       "    </tr>\n",
       "    <tr>\n",
       "      <th id=\"T_61d05_level0_row5\" class=\"row_heading level0 row5\" >5</th>\n",
       "      <td id=\"T_61d05_row5_col0\" class=\"data row5 col0\" >action adventure drama romance sci-fi</td>\n",
       "      <td id=\"T_61d05_row5_col1\" class=\"data row5 col1\" >Write an anime synopsis that matches 'Action, Adventure, Drama, Romance and Sci-Fi'.</td>\n",
       "      <td id=\"T_61d05_row5_col2\" class=\"data row5 col2\" >after this follows many children since no young life about all his father was called high high girls but her friends must go up in his life. but to find it has grown into all them at this people that were attacked them at their previous school, his sister no power in her father's leader, his former journey to fight from earth as he can stop this life on some time. when one such it begins a huge demon police as well as their father was actually been no way through some friends in order of a secret from them. unfortunately, but when all as a young high schooler known is tasked when she must take up her home a single goal called for his friend and no matter and save all with him on its new days but now finds its memories as all as if a battle may</td>\n",
       "      <td id=\"T_61d05_row5_col3\" class=\"data row5 col3\" >in the backwater town of bellforest lives a 14yearold boy named renton thurston. he desires to leave his home behind and join the mercenary group known as gekkostate, hoping to find some adventure to brighten up his mundane life. however, stuck between his grandfather's insistence to become a mechanic like him and the pressure of his deceased father's legacy, the only excitement renton finds is in his pastime of riding the trapar wave particles that are dispersed throughout the air, an activity akin to surfing. everything changes when an unknown object crashes through renton's garage, discovered to be a light finding operationa robot capable of riding the trapar wavesspecifically known as the nirvash typezero. its pilot is a young girl named eureka, a member of the gekkostate, who requests a tuneup for the nirvash. their meeting sparks the beginning of renton's involvement with the gekkostate as he takes off alongside eureka as the copilot of the nirvash.</td>\n",
       "      <td id=\"T_61d05_row5_col4\" class=\"data row5 col4\" >0.220281</td>\n",
       "    </tr>\n",
       "    <tr>\n",
       "      <th id=\"T_61d05_level0_row6\" class=\"row_heading level0 row6\" >6</th>\n",
       "      <td id=\"T_61d05_row6_col0\" class=\"data row6 col0\" >anthropomorphic racing sports</td>\n",
       "      <td id=\"T_61d05_row6_col1\" class=\"data row6 col1\" >Create an anime synopsis with 'Sports' and 'Anthropomorphic and Racing'.</td>\n",
       "      <td id=\"T_61d05_row6_col2\" class=\"data row6 col2\" >the final anime adaptation day featuring the series. no basket manga series is forced about by his mother called by these people known only and make himself up at its best friend he becomes well against him. after one fateful fateful time and new time, it is on one other with its time and an invitation at one day, the three series is to save all them, as these as some powerful high men that she learns from the same time is on another club club and they will get a small group to fight in an invitation towards her former goal from all. while they are able home by an end. unfortunately, and begins his childhood and they can see an elite club who seems her life for them the young world are no secrets to protect her life. after it also also no dangerous life begins on all</td>\n",
       "      <td id=\"T_61d05_row6_col3\" class=\"data row6 col3\" >within the horseracing world, the horse girls of team spica have been gaining popularity as they continue to rack up victories. the one receiving the most attention in the group is toukai teiou, known for her cheerful personality and exceptional running skills. teiou aims to become an undefeated triple crown horse girl by winning all three g1 races consecutively, a feat that has not been accomplished since the legendary symbolic rudolf managed to do so many years ago. on her path to obtaining the triple crown, teiou is met with many challenges, encountering both old and new rivals. amidst her fierce rivalries, however, teiou is soon confronted with decisions that will leave a huge impact on her very own racing career.</td>\n",
       "      <td id=\"T_61d05_row6_col4\" class=\"data row6 col4\" >0.153368</td>\n",
       "    </tr>\n",
       "    <tr>\n",
       "      <th id=\"T_61d05_level0_row7\" class=\"row_heading level0 row7\" >7</th>\n",
       "      <td id=\"T_61d05_row7_col0\" class=\"data row7 col0\" >mecha space</td>\n",
       "      <td id=\"T_61d05_row7_col1\" class=\"data row7 col1\" >Write an anime synopsis based on the 'Mecha and Space'.</td>\n",
       "      <td id=\"T_61d05_row7_col2\" class=\"data row7 col2\" >one day, an anime based a battle between volume in theaters as no alien city from space. now his dream will see their quest with these memory is the people around their old life is also created a little world. while known after this was called by space and new life. with her fellow life as another and he encounters their father known when he must fight to meet all their new time, his journey from an adventure to combat while a giant world with earth known as no monsters may find a place and is more enough as her friends at her way out that their friends discovers no paths that it was attacked to discover his own new enemies has an ordinary world as an end into any people from it comes from any time. this time, of a dangerous powers called their power was put from any</td>\n",
       "      <td id=\"T_61d05_row7_col3\" class=\"data row7 col3\" >when one space colony declared its independence from the earth federation, the devastating 7th space war, an allout war between earth and space, resulted. the federation responded to the space revolutionary army with mobile suits, called gundams. however, the space revolutionary forces played their trump card and dropped hundreds of space colonies onto the earth, plunging the planet into a sevenyearlong nuclear winter. the federation collapsed, but the space revolutionary army was unable to invade the earth in the aftermath of the colony drop. fifteen years have passed. the year is now after war 0015, and a new federation has sprung up on earth to restore order. in space, the colonial leaders have been rebuilding their own forces as well. by chance, fifteenyearold garrod ran has discovered an old federation mobile suit, the gundam x, and now he uses it to help out the vulture ship freeden in its struggle to keep the powers that be from repeating the mistakes of the past.</td>\n",
       "      <td id=\"T_61d05_row7_col4\" class=\"data row7 col4\" >0.295965</td>\n",
       "    </tr>\n",
       "    <tr>\n",
       "      <th id=\"T_61d05_level0_row8\" class=\"row_heading level0 row8\" >8</th>\n",
       "      <td id=\"T_61d05_row8_col0\" class=\"data row8 col0\" >slice of life</td>\n",
       "      <td id=\"T_61d05_row8_col1\" class=\"data row8 col1\" >Write a 'Slice Of Life' anime synopsis inspired by 'Welcome, Chitose'.</td>\n",
       "      <td id=\"T_61d05_row8_col2\" class=\"data row8 col2\" >an aspiring years around four school, sakura itoshiki moves by all those with him, while he's that the best school is actually his father was now in reality, when being suddenly also her best as their family has an ordinary transfer student, in the student called he runs off out out in fact is no high her way and if things they need he soon ends in reality, after being an ancient other people have more and is to an evil with him. however, that will to join the truth for each other's and they fight against his childhood and has taken her to his former own longer a secret or become being trying a strange man at first, and has come about the entire world, after their journey between those around him into all them about them like him, is an abandoned her home of being more of her.</td>\n",
       "      <td id=\"T_61d05_row8_col3\" class=\"data row8 col3\" >chitosechan is a penguin who lives in kyoto. getting in touch with people and getting fed delicious food as she curiously walks around kyoto streets is her favourite thing to do. the story features popular places in kyoto like kiyomizu temple, ginkaku temple, and gion from the penguin's point of view. this is a short story about a penguin that is nostalgic and warm, curing and relieving the heart.</td>\n",
       "      <td id=\"T_61d05_row8_col4\" class=\"data row8 col4\" >0.150545</td>\n",
       "    </tr>\n",
       "    <tr>\n",
       "      <th id=\"T_61d05_level0_row9\" class=\"row_heading level0 row9\" >9</th>\n",
       "      <td id=\"T_61d05_row9_col0\" class=\"data row9 col0\" >adventure mystery slice of life supernatural</td>\n",
       "      <td id=\"T_61d05_row9_col1\" class=\"data row9 col1\" >Write an anime synopsis that matches 'Adventure, Mystery, Slice Of Life and Supernatural'.</td>\n",
       "      <td id=\"T_61d05_row9_col2\" class=\"data row9 col2\" >unaired included on their former senshi shinjuu series, based with high time, with their powers from japan that the end about to protect a series called one thing will join each of them when these longer learns he encounters to protect her first other high schooler, there have nothing but their true than one year known new new for this boy of becoming its existence from being a young girls whom he had always been tasked between these as this world of this story between its last world. but</td>\n",
       "      <td id=\"T_61d05_row9_col3\" class=\"data row9 col3\" >ghostly, primordial beings known as mushi continue to cause mysterious changes in the lives of humans. the travelling mushishi, ginko, persists in trying to set right the strange and unsettling situations he encounters. time loops, living shadows, and telepathy are among the overt effects of interference from mushi, but more subtle symptoms that take years to be noticed also rouse ginko's concern as he passes from village to village. through circumstance, ginko has become an arbiter, determining which mushi are blessings and which are curses. but the lines that he seeks to draw are subjective. some of his patients would rather exercise their new powers until they are utterly consumed by them; others desperately strive to rid themselves of afflictions which are in fact protecting their lives from devastation. those who cross paths with mushi must learn to accept seemingly impossible consequences for their actions, and heal wounds they did not know they had. otherwise, they risk meeting with fates beyond their comprehension.</td>\n",
       "      <td id=\"T_61d05_row9_col4\" class=\"data row9 col4\" >0.312782</td>\n",
       "    </tr>\n",
       "  </tbody>\n",
       "</table>\n"
      ],
      "text/plain": [
       "<pandas.io.formats.style.Styler at 0x79d70ca8d090>"
      ]
     },
     "execution_count": 47,
     "metadata": {},
     "output_type": "execute_result"
    }
   ],
   "source": [
    "# shows full text in cells\n",
    "pd.set_option('display.max_colwidth', None)\n",
    "\n",
    "# displays a table nicely\n",
    "\n",
    "df_results.head(10).style.set_properties(**{\n",
    "    'text-align': 'left',\n",
    "    'white-space': 'pre-wrap'\n",
    "}).set_table_styles([{\n",
    "    'selector': 'th',\n",
    "    'props': [('text-align', 'left')]\n",
    "}])"
   ]
  },
  {
   "cell_type": "markdown",
   "id": "z1qR3Rfex3Ml",
   "metadata": {
    "id": "z1qR3Rfex3Ml"
   },
   "source": [
    "### Visualizing Tags VS Output Embeddings Scatter Plot Using UMAP"
   ]
  },
  {
   "cell_type": "code",
   "execution_count": null,
   "id": "98Bpfz0kxxxX",
   "metadata": {
    "id": "98Bpfz0kxxxX"
   },
   "outputs": [],
   "source": [
    "embedding_model = SentenceTransformer(\"all-MiniLM-L6-v2\")"
   ]
  },
  {
   "cell_type": "code",
   "execution_count": 49,
   "id": "TXJHl6oaMM6b",
   "metadata": {
    "id": "TXJHl6oaMM6b"
   },
   "outputs": [],
   "source": [
    "sample_size = 100"
   ]
  },
  {
   "cell_type": "code",
   "execution_count": 50,
   "id": "rNFDGFGSL9ab",
   "metadata": {
    "id": "rNFDGFGSL9ab"
   },
   "outputs": [],
   "source": [
    "# Check if the list has enough elements to sample from\n",
    "if len(similarity_results) > sample_size:\n",
    "    # Randomly sample 'sample_size' dictionaries from the similarity_results list\n",
    "    sampled_results_for_plot = random.sample(similarity_results, sample_size)\n",
    "else:\n",
    "    # If there are fewer than 'sample_size' results, use all of them\n",
    "    sampled_results_for_plot = similarity_results\n",
    "\n",
    "tags_to_match = [row[\"tags_combined\"] for row in sampled_results_for_plot]\n",
    "generated_outputs = [row[\"generated\"] for row in sampled_results_for_plot]"
   ]
  },
  {
   "cell_type": "code",
   "execution_count": null,
   "id": "eX64uP8Gxxme",
   "metadata": {
    "colab": {
     "base_uri": "https://localhost:8080/",
     "height": 696
    },
    "id": "eX64uP8Gxxme",
    "outputId": "f004c0ac-bfec-4681-df30-3d017dc791b1"
   },
   "outputs": [
    {
     "name": "stderr",
     "output_type": "stream",
     "text": [
      "/usr/local/lib/python3.11/dist-packages/sklearn/utils/deprecation.py:151: FutureWarning: 'force_all_finite' was renamed to 'ensure_all_finite' in 1.6 and will be removed in 1.8.\n",
      "  warnings.warn(\n",
      "/usr/local/lib/python3.11/dist-packages/umap/umap_.py:1952: UserWarning: n_jobs value 1 overridden to 1 by setting random_state. Use no seed for parallelism.\n",
      "  warn(\n"
     ]
    },
    {
     "data": {
      "image/png": "[encoded data removed]",
      "text/plain": [
       "<Figure size 1000x600 with 1 Axes>"
      ]
     },
     "metadata": {},
     "output_type": "display_data"
    }
   ],
   "source": [
    "# converts each tags and generated output into a high-dim vector\n",
    "tags_embeddings = embedding_model.encode(tags_to_match)\n",
    "output_embeddings = embedding_model.encode(generated_outputs)\n",
    "\n",
    "# combines both embeddings into a single array\n",
    "all_embeddings = np.vstack([tags_embeddings, output_embeddings])\n",
    "\n",
    "# reduces the dimension for visualization\n",
    "reducer = umap.UMAP(n_components=2, random_state=42)\n",
    "umap_embeddings = reducer.fit_transform(all_embeddings)\n",
    "\n",
    "# splits embeddings into the tags and the output\n",
    "n = len(tags_to_match)\n",
    "umap_tags = umap_embeddings[:n]\n",
    "umap_outputs = umap_embeddings[n:]\n",
    "\n",
    "# plots a scatterplot\n",
    "plt.figure(figsize=(10, 6))\n",
    "plt.scatter(umap_tags[:, 0], umap_tags[:, 1], label=\"Genres/Themes/Demographics\", alpha=0.7, s=80)\n",
    "plt.scatter(umap_outputs[:, 0], umap_outputs[:, 1], label=\"Basic Transformer Outputs\", alpha=0.7, s=80)\n",
    "\n",
    "# draws light gray lines to show the differences between the tags vs output\n",
    "for i in range(n):\n",
    "    plt.plot([umap_tags[i, 0], umap_outputs[i, 0]],\n",
    "             [umap_tags[i, 1], umap_outputs[i, 1]],\n",
    "             c='gray', linewidth=0.7)\n",
    "\n",
    "plt.title(\"Genres/Themes/Demographics vs Basic Transformer Output Embedding Projection (UMAP)\")\n",
    "plt.xlabel(\"UMAP Dimension 1\", fontsize=12)\n",
    "plt.ylabel(\"UMAP Dimension 2\", fontsize=12)\n",
    "plt.legend(fontsize=10)\n",
    "plt.grid(True, which='both', linestyle='--', linewidth=0.5)\n",
    "plt.tight_layout()\n",
    "\n",
    "plt.savefig(\n",
    "    'scatter_plot_transformer.png',\n",
    "    dpi=300,\n",
    "    bbox_inches='tight' \n",
    ")\n",
    "plt.show()"
   ]
  }
 ],
 "metadata": {
  "accelerator": "GPU",
  "colab": {
   "gpuType": "A100",
   "machine_shape": "hm",
   "provenance": []
  },
  "kernelspec": {
   "display_name": "Python 3",
   "name": "python3"
  },
  "language_info": {
   "name": "python"
  }
 },
 "nbformat": 4,
 "nbformat_minor": 5
}
