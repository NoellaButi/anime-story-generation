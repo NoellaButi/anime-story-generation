{
 "cells": [
  {
   "cell_type": "code",
   "execution_count": 1,
   "id": "40370961",
   "metadata": {},
   "outputs": [],
   "source": [
    "# Author: Yuki Rivera\n",
    "# This notebook contains code to evaluate the trained LSTM model"
   ]
  },
  {
   "cell_type": "code",
   "execution_count": null,
   "id": "8f92e49b-65e3-4883-8200-f4233546b7de",
   "metadata": {
    "id": "8f92e49b-65e3-4883-8200-f4233546b7de"
   },
   "outputs": [],
   "source": [
    "from tensorflow.keras.models import Model,load_model\n",
    "import pickle\n",
    "import pandas as pd\n",
    "from tensorflow.keras.preprocessing.sequence import pad_sequences\n",
    "import numpy as np\n",
    "from sentence_transformers import SentenceTransformer\n",
    "from sklearn.metrics.pairwise import cosine_similarity\n",
    "from IPython.display import display\n",
    "import matplotlib.pyplot as plt\n",
    "import umap\n",
    "from tensorflow.keras.layers import Dropout, Input\n",
    "from sklearn.model_selection import train_test_split\n",
    "from tensorflow.keras.optimizers import Adam\n"
   ]
  },
  {
   "cell_type": "code",
   "execution_count": null,
   "id": "y9bRAmfHeGEX",
   "metadata": {
    "id": "y9bRAmfHeGEX"
   },
   "outputs": [],
   "source": [
    "perp_file_path = 'test_perplexity_rnn.txt'"
   ]
  },
  {
   "cell_type": "markdown",
   "id": "ZP8l-4M6yc-T",
   "metadata": {
    "id": "ZP8l-4M6yc-T"
   },
   "source": [
    "Hyperparam"
   ]
  },
  {
   "cell_type": "code",
   "execution_count": null,
   "id": "mdQntjMdye1J",
   "metadata": {
    "id": "mdQntjMdye1J"
   },
   "outputs": [],
   "source": [
    "# word_limit = 1000\n",
    "vocab_size = 1000\n",
    "enc_max_len = 64  # the prompt length\n",
    "dec_max_len = 150   # the synopsis length\n",
    "\n",
    "max_dec_input_length = dec_max_len - 1\n",
    "\n",
    "max_generated_length = 50\n",
    "\n",
    "embedding_dim = 128 # output_dim\n",
    "units = 128\n",
    "\n",
    "batch = 64\n",
    "repeat = 20 # num of epochs\n",
    "patience = 3 # early-stopping patience\n",
    "\n",
    "val_ratio = 0.2 # validation set ratio\n",
    "\n",
    "min_delta = 0.01\n",
    "\n",
    "dropout_rate = 0.3\n",
    "output_dim = 128"
   ]
  },
  {
   "cell_type": "markdown",
   "id": "ee52c50e-34c0-4d6e-8ed3-7156b20bf1f8",
   "metadata": {
    "id": "ee52c50e-34c0-4d6e-8ed3-7156b20bf1f8"
   },
   "source": [
    "## Load the training history, the model and the tokenizer"
   ]
  },
  {
   "cell_type": "code",
   "execution_count": null,
   "id": "84a6bf29-5e0c-4a34-b7ef-09c358dd118d",
   "metadata": {
    "id": "84a6bf29-5e0c-4a34-b7ef-09c358dd118d"
   },
   "outputs": [],
   "source": [
    "# Loads tokenizer\n",
    "with open(\"tokenizer_LSTM.pkl\", \"rb\") as f:\n",
    "    tokenizer = pickle.load(f)\n",
    "\n",
    "# Loads model\n",
    "model = load_model(\"lstm_model.keras\")"
   ]
  },
  {
   "cell_type": "code",
   "execution_count": null,
   "id": "orl-JYiCzAo7",
   "metadata": {
    "id": "orl-JYiCzAo7"
   },
   "outputs": [],
   "source": [
    "start_token_id = tokenizer.word_index.get('<BOS>') \n",
    "end_token_id = tokenizer.word_index.get('<EOS>')   \n",
    "oov_token_id = tokenizer.word_index.get('<OOV>')\n",
    "pad_token_id = tokenizer.word_index.get('<PAD>')"
   ]
  },
  {
   "cell_type": "markdown",
   "id": "2f639e0b-aa52-44f5-8356-555d55604a02",
   "metadata": {
    "id": "2f639e0b-aa52-44f5-8356-555d55604a02"
   },
   "source": [
    "## Get the testing data"
   ]
  },
  {
   "cell_type": "code",
   "execution_count": null,
   "id": "lMuVI-KOwyla",
   "metadata": {
    "id": "lMuVI-KOwyla"
   },
   "outputs": [],
   "source": [
    "df = pd.read_csv('prompt_synopsis_test.csv')"
   ]
  },
  {
   "cell_type": "code",
   "execution_count": null,
   "id": "rqsoFzqH9hEM",
   "metadata": {
    "id": "rqsoFzqH9hEM"
   },
   "outputs": [],
   "source": [
    "# pd.set_option('display.max_colwidth', None)\n",
    "# testing_df.head(50)"
   ]
  },
  {
   "cell_type": "markdown",
   "id": "Jl_S1T7K-GIs",
   "metadata": {
    "id": "Jl_S1T7K-GIs"
   },
   "source": [
    "### Select 20 pairs for testing"
   ]
  },
  {
   "cell_type": "code",
   "execution_count": null,
   "id": "UIlawiyg8QYb",
   "metadata": {
    "id": "UIlawiyg8QYb"
   },
   "outputs": [],
   "source": [
    "testing_df = df.iloc[[20, 26, 64,84,88,98,106,111,127,164,190,199,225,231,242,244,259,298, 10597, 10609]]\n",
    "testing_df = testing_df.reset_index(drop=True)"
   ]
  },
  {
   "cell_type": "code",
   "execution_count": null,
   "id": "KVWLHOx5FDWp",
   "metadata": {
    "id": "KVWLHOx5FDWp"
   },
   "outputs": [],
   "source": [
    "# testing_df"
   ]
  },
  {
   "cell_type": "code",
   "execution_count": null,
   "id": "lnRGj5p-zMGB",
   "metadata": {
    "id": "lnRGj5p-zMGB"
   },
   "outputs": [],
   "source": [
    "prompts = testing_df[\"prompt\"].tolist()\n",
    "references = testing_df[\"synopsis\"].tolist()\n",
    "tags_list = testing_df['tags_combined'].tolist()"
   ]
  },
  {
   "cell_type": "markdown",
   "id": "-i4rl5Axzgpe",
   "metadata": {
    "id": "-i4rl5Axzgpe"
   },
   "source": [
    "### Defines the inference models (encoder and decoder separately)"
   ]
  },
  {
   "cell_type": "code",
   "execution_count": null,
   "id": "9NVOMjjT8jmE",
   "metadata": {
    "id": "9NVOMjjT8jmE"
   },
   "outputs": [],
   "source": [
    "# Encoder\n",
    "\n",
    "# Input: The raw token IDs of the prompt\n",
    "encoder_inputs_inf = Input(shape=(enc_max_len,), name='encoder_input_inference')\n",
    "\n",
    "# Get the Embedding layer from the trained model\n",
    "encoder_embedding_inf_layer = model.get_layer('encoder_embedding')\n",
    "\n",
    "# Get the LSTM layer from the trained model\n",
    "encoder_lstm_layer = model.get_layer('encoder_lstm')\n",
    "\n",
    "# Connect the input through the embedding layer first to get 3D tensor\n",
    "encoder_embedding_output_inf = encoder_embedding_inf_layer(encoder_inputs_inf)\n",
    "\n",
    "# Feed the 3D embedded input to the LSTM layer\n",
    "# LSTM returns (sequence_output, last_h_state, last_c_state)\n",
    "_, state_h_enc_inf, state_c_enc_inf = encoder_lstm_layer(encoder_embedding_output_inf)\n",
    "\n",
    "# The encoder inference model outputs both final states\n",
    "encoder_states_inf = [state_h_enc_inf, state_c_enc_inf]\n",
    "\n",
    "encoder_model = Model(inputs=encoder_inputs_inf, outputs=encoder_states_inf)\n"
   ]
  },
  {
   "cell_type": "code",
   "execution_count": null,
   "id": "ub6a83VA89e-",
   "metadata": {
    "id": "ub6a83VA89e-"
   },
   "outputs": [],
   "source": [
    "# Decoder \n",
    "# Inputs: A single token (the one just predicted or <BOS>) AND the previous decoder states.\n",
    "decoder_input_single_token_inf = Input(shape=(1,), name='decoder_input_inference_token')\n",
    "\n",
    "# Inputs for the previous decoder states (both h and c states for LSTM).\n",
    "decoder_state_input_h_inf = Input(shape=(units,), name='decoder_state_input_h_inf')\n",
    "decoder_state_input_c_inf = Input(shape=(units,), name='decoder_state_input_c_inf')\n",
    "decoder_states_inputs_inf = [decoder_state_input_h_inf, decoder_state_input_c_inf]\n",
    "\n",
    "\n",
    "# Get the relevant layers from the loaded training_model by their names.\n",
    "decoder_embedding_inf_layer = model.get_layer('decoder_embedding')\n",
    "decoder_lstm_inf_layer = model.get_layer('decoder_lstm') \n",
    "decoder_dense_inf_layer = model.get_layer('decoder_output')\n",
    "\n",
    "# Connect the single token input to the decoder's embedding layer.\n",
    "decoder_embedding_output_inf = decoder_embedding_inf_layer(decoder_input_single_token_inf)\n",
    "\n",
    "# Connect the embedded token and previous states to the decoder LSTM layer.\n",
    "# Pass the list of two states as initial_state\n",
    "decoder_outputs_inf_sequence, state_h_dec_inf, state_c_dec_inf = decoder_lstm_inf_layer(\n",
    "    decoder_embedding_output_inf, initial_state=decoder_states_inputs_inf\n",
    ")\n",
    "\n",
    "# Connect the decoder LSTM's sequence output to the final dense layer to get probabilities.\n",
    "decoder_outputs_prob_inf = decoder_dense_inf_layer(decoder_outputs_inf_sequence)\n",
    "\n",
    "decoder_model = Model(\n",
    "    inputs=[decoder_input_single_token_inf] + decoder_states_inputs_inf, # All inputs: token + h state + c state\n",
    "    outputs=[decoder_outputs_prob_inf, state_h_dec_inf, state_c_dec_inf] # All outputs: probabilities + new h state + new c state\n",
    ")"
   ]
  },
  {
   "cell_type": "markdown",
   "id": "6b246727",
   "metadata": {},
   "source": [
    "### Preprocess the testing data"
   ]
  },
  {
   "cell_type": "code",
   "execution_count": null,
   "id": "LxAPG1rte_M8",
   "metadata": {
    "id": "LxAPG1rte_M8"
   },
   "outputs": [],
   "source": [
    "def clean_text(text):\n",
    "    return str(text).lower().strip()"
   ]
  },
  {
   "cell_type": "code",
   "execution_count": null,
   "id": "SrM_iMibfAs-",
   "metadata": {
    "id": "SrM_iMibfAs-"
   },
   "outputs": [],
   "source": [
    "# Applies text cleaning\n",
    "for col in ['prompt', 'synopsis']:\n",
    "    testing_df[col] = testing_df[col].astype(str).apply(clean_text)"
   ]
  },
  {
   "cell_type": "code",
   "execution_count": null,
   "id": "IpXVTeCvfCr_",
   "metadata": {
    "id": "IpXVTeCvfCr_"
   },
   "outputs": [],
   "source": [
    "# Converts text to sequences \n",
    "test_prompt_seqs = tokenizer.texts_to_sequences(testing_df['prompt'].tolist())\n",
    "test_synopsis_seqs = tokenizer.texts_to_sequences(testing_df['synopsis'].tolist())\n",
    "\n",
    "# Adds special tokens for decoder input/target\n",
    "test_decoder_input_ids = [[start_token_id] + seq for seq in test_synopsis_seqs]\n",
    "test_decoder_target_ids = [seq + [end_token_id] for seq in test_synopsis_seqs]\n",
    "\n",
    "# Pads all sequences\n",
    "X_enc_test = pad_sequences(test_prompt_seqs, maxlen=enc_max_len, padding='post', value=pad_token_id)\n",
    "X_dec_test = pad_sequences(test_decoder_input_ids, maxlen=max_dec_input_length, padding='post', value=pad_token_id)\n",
    "\n",
    "y_test = pad_sequences(test_decoder_target_ids, maxlen=max_dec_input_length, padding='post', value=pad_token_id)\n",
    "\n",
    "# Reshapes target \n",
    "y_test = np.expand_dims(y_test, axis=-1)"
   ]
  },
  {
   "cell_type": "markdown",
   "id": "a48111c6",
   "metadata": {},
   "source": [
    "### Calculates the test perplexity"
   ]
  },
  {
   "cell_type": "code",
   "execution_count": null,
   "id": "IC_whRC8fKJR",
   "metadata": {
    "colab": {
     "base_uri": "https://localhost:8080/"
    },
    "executionInfo": {
     "elapsed": 905,
     "status": "ok",
     "timestamp": 1749958012732,
     "user": {
      "displayName": "Yukiko Rivera",
      "userId": "02699279760362859349"
     },
     "user_tz": 420
    },
    "id": "IC_whRC8fKJR",
    "outputId": "b3d4504e-0441-4295-c25b-3191d486a3e8"
   },
   "outputs": [
    {
     "name": "stdout",
     "output_type": "stream",
     "text": [
      "Final LSTM Test Perplexity: 266.66\n"
     ]
    }
   ],
   "source": [
    "test_results = model.evaluate([X_enc_test, X_dec_test], y_test, verbose=0)\n",
    "\n",
    "# Extracts the loss value \n",
    "test_loss = test_results[0] if isinstance(test_results, list) else test_results\n",
    "\n",
    "# Calculate perplexity\n",
    "test_perplexity = np.exp(test_loss)\n",
    "\n",
    "print(f\"Final LSTM Test Perplexity: {test_perplexity:.2f}\")"
   ]
  },
  {
   "cell_type": "markdown",
   "id": "f13cbd98",
   "metadata": {},
   "source": [
    "### Saves the perplexity to a text file"
   ]
  },
  {
   "cell_type": "code",
   "execution_count": null,
   "id": "bIaS3j5QimL3",
   "metadata": {
    "id": "bIaS3j5QimL3"
   },
   "outputs": [],
   "source": [
    "with open('avg_perp_lstm.txt', 'w') as f:\n",
    "    f.write(str(test_perplexity))"
   ]
  },
  {
   "cell_type": "markdown",
   "id": "5Da79UpmuMa5",
   "metadata": {
    "id": "5Da79UpmuMa5"
   },
   "source": [
    "### Adds Temprature Sampling"
   ]
  },
  {
   "cell_type": "code",
   "execution_count": null,
   "id": "9kOOXEGQuKmh",
   "metadata": {
    "id": "9kOOXEGQuKmh"
   },
   "outputs": [],
   "source": [
    "def sample_with_temperature(preds, temperature=0.7):\n",
    "    preds = np.asarray(preds).astype('float64')\n",
    "    preds = np.log(preds + 1e-8) / temperature\n",
    "    exp_preds = np.exp(preds)\n",
    "    preds = exp_preds / np.sum(exp_preds)\n",
    "    probas = np.random.multinomial(1, preds, 1)\n",
    "    return np.argmax(probas)"
   ]
  },
  {
   "cell_type": "markdown",
   "id": "rFB5YLdMN6fx",
   "metadata": {
    "id": "rFB5YLdMN6fx"
   },
   "source": [
    "### Function to generate synopsis"
   ]
  },
  {
   "cell_type": "code",
   "execution_count": null,
   "id": "GnCNhMX-zXsp",
   "metadata": {
    "id": "GnCNhMX-zXsp"
   },
   "outputs": [],
   "source": [
    "def generate_synopsis(prompt, encoder_model, decoder_model, tokenizer, max_words=max_generated_length, temp=0.7):\n",
    "    input_seq = tokenizer.texts_to_sequences([prompt])\n",
    "    padded_input_seq = pad_sequences(input_seq, maxlen=enc_max_len, padding='post', truncating='post', value=pad_token_id)\n",
    "\n",
    "    states_value = encoder_model.predict(padded_input_seq, verbose=0) \n",
    "\n",
    "    target_seq = np.zeros((1, 1), dtype='int32')\n",
    "    target_seq[0, 0] = start_token_id\n",
    "\n",
    "    stop_condition = False\n",
    "    generated_synopsis_ids = []\n",
    "\n",
    "    OOV_ID = tokenizer.word_index.get(\"<OOV>\")\n",
    "\n",
    "    while not stop_condition:\n",
    "\n",
    "        output_tokens, h, c = decoder_model.predict([target_seq] + states_value, verbose=0) # Unpack h and c\n",
    "\n",
    "        sampled_token_index = sample_with_temperature(output_tokens[0, 0, :], temperature=temp)\n",
    "\n",
    "        generated_synopsis_ids.append(sampled_token_index)\n",
    "\n",
    "        if sampled_token_index == end_token_id:\n",
    "            stop_condition = True\n",
    "        if len(generated_synopsis_ids) >= max_words:\n",
    "            stop_condition = True\n",
    "\n",
    "        target_seq = np.zeros((1, 1), dtype='int32')\n",
    "        target_seq[0, 0] = sampled_token_index\n",
    "        states_value = [h, c] # Update states_value as a list for the next iteration\n",
    "\n",
    "    generated_words = []\n",
    "\n",
    "    for token_id in generated_synopsis_ids:\n",
    "        if token_id == end_token_id: \n",
    "            break\n",
    "        word = tokenizer.index_word.get(token_id)\n",
    "        if word in {'<OOV>', '<PAD>'}:\n",
    "            continue\n",
    "        elif word is not None and token_id != start_token_id: \n",
    "            generated_words.append(word)\n",
    "\n",
    "    generated_text = ' '.join(generated_words)\n",
    "    return generated_text"
   ]
  },
  {
   "cell_type": "markdown",
   "id": "CZJ9DrIsQQ-A",
   "metadata": {
    "id": "CZJ9DrIsQQ-A"
   },
   "source": [
    "### Generates synopsis, computes cosine similarity for each pair, prints the result"
   ]
  },
  {
   "cell_type": "code",
   "execution_count": null,
   "id": "4aYYi54JfxKg",
   "metadata": {
    "id": "4aYYi54JfxKg"
   },
   "outputs": [],
   "source": [
    "def evaluate_outputs(model, tokenizer, prompts, references, tags_combined, enc_max_len, dec_max_len, print_count=10):\n",
    "\n",
    "    # Loads the pre-trained model for creating sentence embeddings\n",
    "    embedding_model = SentenceTransformer(\"all-MiniLM-L6-v2\")\n",
    "    results = []\n",
    "\n",
    "    for i in range(len(prompts)):\n",
    "        # Gets all the data for the current row\n",
    "        prompt = prompts[i]\n",
    "        true_synopsis = references[i]\n",
    "        tags = tags_combined[i]\n",
    "\n",
    "        # Generates a new synopsis from the full prompt\n",
    "        generated_synopsis = generate_synopsis(\n",
    "            prompt=prompt, encoder_model=encoder_model, decoder_model=decoder_model,tokenizer=tokenizer, max_words=dec_max_len\n",
    "        )\n",
    "\n",
    "\n",
    "        # Creates embeddings for the tags and generated synopsis.\n",
    "        emb_tags = embedding_model.encode(tags)\n",
    "        emb_generated = embedding_model.encode(generated_synopsis)\n",
    "\n",
    "        # Calculates the cosine similarity between the tags and the generated text.\n",
    "        similarity = cosine_similarity([emb_tags], [emb_generated])[0][0]\n",
    "\n",
    "        # Stores all relevant information in the results dictionary\n",
    "        results.append({\n",
    "            \"tags_combined\": tags,\n",
    "            \"prompt\": prompt,\n",
    "            \"generated\": generated_synopsis,\n",
    "            \"true_synopsis\": true_synopsis, \n",
    "            \"cosine_similarity\": similarity\n",
    "        })\n",
    "\n",
    "        # Prints the first few results for manual inspection\n",
    "        if i < print_count:\n",
    "            print(f\"\\nPrompt {i+1}: {prompt}\")\n",
    "            print(f\"Generated: {generated_synopsis}\")\n",
    "            print(f\"True:      {true_synopsis}\")\n",
    "            print(f\"Cosine Similarity: {similarity:.3f}\")\n",
    "            print(\"—\" * 50)\n",
    "\n",
    "    return results"
   ]
  },
  {
   "cell_type": "code",
   "execution_count": null,
   "id": "_vKZem_cf2mO",
   "metadata": {
    "colab": {
     "base_uri": "https://localhost:8080/"
    },
    "executionInfo": {
     "elapsed": 53912,
     "status": "ok",
     "timestamp": 1749958231554,
     "user": {
      "displayName": "Yukiko Rivera",
      "userId": "02699279760362859349"
     },
     "user_tz": 420
    },
    "id": "_vKZem_cf2mO",
    "outputId": "e4719817-6064-4ce6-d427-1cb4a320ebad"
   },
   "outputs": [
    {
     "name": "stdout",
     "output_type": "stream",
     "text": [
      "Inside generate_synopsis — type of tokenizer: <class 'keras.src.legacy.preprocessing.text.Tokenizer'>\n",
      "\n",
      "Prompt 1: Write an anime synopsis that matches 'Adventure, Comedy and Fantasy'.\n",
      "Generated: a is a high problems of the young the school of the the like and when the of decides to find the\n",
      "True:      on one noteworthy day in the adventurer's guild, kazuma satou encounters someone unexpecteda fan of his named ran. surprised that he even has a fan, kazuma attempts to play it cool to impress her. unfortunately for him, the guild's receptionist arrives with a request to defeat a giant golem guarding some ancient ruins, and kazuma accepts only to keep ran's admiration. upon kazuma and his party's successful return from the ruins, kazuma continues to shamelessly brag to ran. capitalizing on his desperation, the receptionist approaches him with another quest that requires him to return to the same ruins. hoping to find valuable treasures, kazuma once again convinces his party to join himbut this time, he may be biting off more than he can chew.\n",
      "Cosine Similarity: 0.162\n",
      "——————————————————————————————————————————————————\n",
      "\n",
      "Prompt 2: Write an anime synopsis that matches 'Mystery and Supernatural'.\n",
      "Generated: years and and the mysterious for the second girl named has is a mission to demon of the users he is granted the shadow is a train to the and the village of this fifteen over the\n",
      "True:      the anime is set in the fictional geso ward in tokyo, a school city where an app called aicis is becoming popular. those who get the app are given supernatural powers, which they use to pursue their own selfish desires, leading to many occurrences of violence and other incidents. the story focuses on a group of detectives who solve cases related to power wielders.\n",
      "Cosine Similarity: 0.420\n",
      "——————————————————————————————————————————————————\n",
      "\n",
      "Prompt 3: Generate a 'Historical and Mythology' themed anime targeting 'Shoujo'.\n",
      "Generated: the is a second clan, is a super as a of a the mysterious group of and the the of the\n",
      "True:      in the nineteenth century, we find lydia carlton living in scotland, making a living as a fairy doctor. she is one of those rare humans who can see and communicate with fairies. but no one believes her. however, edgar is in need of someone with a vast knowledge of fairy lore, and lydia is just that person. after rescuing her, he becomes her employer, but there are many secrets and emotions that seem to follow edgar, who claims to be the blue knight's earl.\n",
      "Cosine Similarity: 0.248\n",
      "——————————————————————————————————————————————————\n",
      "\n",
      "Prompt 4: Write an anime synopsis that matches 'Adventure'.\n",
      "Generated: recap of the anime student\n",
      "True:      takashi loves reading books and especially loves alice's adventures in wonderland. one day, he buys some used books, and he finds one book thrown in. when takashi opens the book, the god of math m1 appeared. takashi is told that alice is kidnapped, and he's asked to rescue her by m1. and takashi goes on an adventure in wonderland to rescue alice.\n",
      "Cosine Similarity: 0.151\n",
      "——————————————————————————————————————————————————\n",
      "\n",
      "Prompt 5: Create an anime synopsis with 'Comedy, Fantasy and Slice Of Life' and 'Anthropomorphic'.\n",
      "Generated: \n",
      "True:      in a city filled with anthropomorphic catpeople, catman lives free of rules and boundaries, doing everything he wants, which often collides with the other inhabitants of the city. created entirely in flash, with no spoken dialog, catman instead speaks in english and japanese subtitles. the series is spread across three socalled 'seasons', with only the third having been aired.\n",
      "Cosine Similarity: 0.097\n",
      "——————————————————————————————————————————————————\n",
      "\n",
      "Prompt 6: Write an anime synopsis that matches 'Action, Adventure, Drama, Romance and Sci-Fi'.\n",
      "Generated: the series to participate our and a of the\n",
      "True:      in the backwater town of bellforest lives a 14yearold boy named renton thurston. he desires to leave his home behind and join the mercenary group known as gekkostate, hoping to find some adventure to brighten up his mundane life. however, stuck between his grandfather's insistence to become a mechanic like him and the pressure of his deceased father's legacy, the only excitement renton finds is in his pastime of riding the trapar wave particles that are dispersed throughout the air, an activity akin to surfing. everything changes when an unknown object crashes through renton's garage, discovered to be a light finding operationa robot capable of riding the trapar wavesspecifically known as the nirvash typezero. its pilot is a young girl named eureka, a member of the gekkostate, who requests a tuneup for the nirvash. their meeting sparks the beginning of renton's involvement with the gekkostate as he takes off alongside eureka as the copilot of the nirvash.\n",
      "Cosine Similarity: 0.329\n",
      "——————————————————————————————————————————————————\n",
      "\n",
      "Prompt 7: Create an anime synopsis with 'Sports' and 'Anthropomorphic and Racing'.\n",
      "Generated: the an year and is the there is a world with three is the girls by a and under the who can not the\n",
      "True:      within the horseracing world, the horse girls of team spica have been gaining popularity as they continue to rack up victories. the one receiving the most attention in the group is toukai teiou, known for her cheerful personality and exceptional running skills. teiou aims to become an undefeated triple crown horse girl by winning all three g1 races consecutively, a feat that has not been accomplished since the legendary symbolic rudolf managed to do so many years ago. on her path to obtaining the triple crown, teiou is met with many challenges, encountering both old and new rivals. amidst her fierce rivalries, however, teiou is soon confronted with decisions that will leave a huge impact on her very own racing career.\n",
      "Cosine Similarity: 0.170\n",
      "——————————————————————————————————————————————————\n",
      "\n",
      "Prompt 8: Write an anime synopsis based on the 'Mecha and Space'.\n",
      "Generated: the two with\n",
      "True:      when one space colony declared its independence from the earth federation, the devastating 7th space war, an allout war between earth and space, resulted. the federation responded to the space revolutionary army with mobile suits, called gundams. however, the space revolutionary forces played their trump card and dropped hundreds of space colonies onto the earth, plunging the planet into a sevenyearlong nuclear winter. the federation collapsed, but the space revolutionary army was unable to invade the earth in the aftermath of the colony drop. fifteen years have passed. the year is now after war 0015, and a new federation has sprung up on earth to restore order. in space, the colonial leaders have been rebuilding their own forces as well. by chance, fifteenyearold garrod ran has discovered an old federation mobile suit, the gundam x, and now he uses it to help out the vulture ship freeden in its struggle to keep the powers that be from repeating the mistakes of the past.\n",
      "Cosine Similarity: 0.220\n",
      "——————————————————————————————————————————————————\n",
      "\n",
      "Prompt 9: Write a 'Slice Of Life' anime synopsis inspired by 'Welcome, Chitose'.\n",
      "Generated: that in the named high young\n",
      "True:      chitosechan is a penguin who lives in kyoto. getting in touch with people and getting fed delicious food as she curiously walks around kyoto streets is her favourite thing to do. the story features popular places in kyoto like kiyomizu temple, ginkaku temple, and gion from the penguin's point of view. this is a short story about a penguin that is nostalgic and warm, curing and relieving the heart.\n",
      "Cosine Similarity: 0.185\n",
      "——————————————————————————————————————————————————\n",
      "\n",
      "Prompt 10: Write an anime synopsis that matches 'Adventure, Mystery, Slice Of Life and Supernatural'.\n",
      "Generated: in the new tv of the and and night, and the\n",
      "True:      ghostly, primordial beings known as mushi continue to cause mysterious changes in the lives of humans. the travelling mushishi, ginko, persists in trying to set right the strange and unsettling situations he encounters. time loops, living shadows, and telepathy are among the overt effects of interference from mushi, but more subtle symptoms that take years to be noticed also rouse ginko's concern as he passes from village to village. through circumstance, ginko has become an arbiter, determining which mushi are blessings and which are curses. but the lines that he seeks to draw are subjective. some of his patients would rather exercise their new powers until they are utterly consumed by them; others desperately strive to rid themselves of afflictions which are in fact protecting their lives from devastation. those who cross paths with mushi must learn to accept seemingly impossible consequences for their actions, and heal wounds they did not know they had. otherwise, they risk meeting with fates beyond their comprehension.\n",
      "Cosine Similarity: 0.279\n",
      "——————————————————————————————————————————————————\n"
     ]
    }
   ],
   "source": [
    "results = evaluate_outputs(model, tokenizer, prompts, references, tags_list, enc_max_len, dec_max_len)"
   ]
  },
  {
   "cell_type": "markdown",
   "id": "d90baaaa",
   "metadata": {},
   "source": [
    "### Computes the avg cosine similarity and saves it to a text file"
   ]
  },
  {
   "cell_type": "code",
   "execution_count": null,
   "id": "GZvjkE7-gAcg",
   "metadata": {
    "colab": {
     "base_uri": "https://localhost:8080/"
    },
    "executionInfo": {
     "elapsed": 11,
     "status": "ok",
     "timestamp": 1749958239217,
     "user": {
      "displayName": "Yukiko Rivera",
      "userId": "02699279760362859349"
     },
     "user_tz": 420
    },
    "id": "GZvjkE7-gAcg",
    "outputId": "5251384c-a5b3-4a04-99c9-3613639684f3"
   },
   "outputs": [],
   "source": [
    "avg_similarity = sum(r[\"cosine_similarity\"] for r in results) / len(results)\n",
    "with open('avg_sim_lstm.txt', 'w') as f:\n",
    "    f.write(str(avg_similarity))"
   ]
  },
  {
   "cell_type": "markdown",
   "id": "511624f9",
   "metadata": {},
   "source": [
    "### Saves all the results to a csv file"
   ]
  },
  {
   "cell_type": "code",
   "execution_count": null,
   "id": "UVDZuKg5k7h9",
   "metadata": {
    "id": "UVDZuKg5k7h9"
   },
   "outputs": [],
   "source": [
    "df_results = pd.DataFrame(results)\n",
    "df_results.to_csv(\"generated_results_with_similarity_calc.csv\", index=False)"
   ]
  },
  {
   "cell_type": "markdown",
   "id": "BzEkXWUy7vqC",
   "metadata": {
    "id": "BzEkXWUy7vqC"
   },
   "source": [
    "### Table for comparison"
   ]
  },
  {
   "cell_type": "code",
   "execution_count": null,
   "id": "tZcxG88j7tQh",
   "metadata": {
    "colab": {
     "base_uri": "https://localhost:8080/",
     "height": 1000
    },
    "executionInfo": {
     "elapsed": 16,
     "status": "ok",
     "timestamp": 1749958243267,
     "user": {
      "displayName": "Yukiko Rivera",
      "userId": "02699279760362859349"
     },
     "user_tz": 420
    },
    "id": "tZcxG88j7tQh",
    "outputId": "a1005038-5435-4dd6-93e8-a936306d31ed"
   },
   "outputs": [
    {
     "data": {
      "text/html": [
       "<style type=\"text/css\">\n",
       "#T_c5be5 th {\n",
       "  text-align: left;\n",
       "}\n",
       "#T_c5be5_row0_col0, #T_c5be5_row0_col1, #T_c5be5_row0_col2, #T_c5be5_row0_col3, #T_c5be5_row0_col4, #T_c5be5_row1_col0, #T_c5be5_row1_col1, #T_c5be5_row1_col2, #T_c5be5_row1_col3, #T_c5be5_row1_col4, #T_c5be5_row2_col0, #T_c5be5_row2_col1, #T_c5be5_row2_col2, #T_c5be5_row2_col3, #T_c5be5_row2_col4, #T_c5be5_row3_col0, #T_c5be5_row3_col1, #T_c5be5_row3_col2, #T_c5be5_row3_col3, #T_c5be5_row3_col4, #T_c5be5_row4_col0, #T_c5be5_row4_col1, #T_c5be5_row4_col2, #T_c5be5_row4_col3, #T_c5be5_row4_col4, #T_c5be5_row5_col0, #T_c5be5_row5_col1, #T_c5be5_row5_col2, #T_c5be5_row5_col3, #T_c5be5_row5_col4, #T_c5be5_row6_col0, #T_c5be5_row6_col1, #T_c5be5_row6_col2, #T_c5be5_row6_col3, #T_c5be5_row6_col4, #T_c5be5_row7_col0, #T_c5be5_row7_col1, #T_c5be5_row7_col2, #T_c5be5_row7_col3, #T_c5be5_row7_col4, #T_c5be5_row8_col0, #T_c5be5_row8_col1, #T_c5be5_row8_col2, #T_c5be5_row8_col3, #T_c5be5_row8_col4, #T_c5be5_row9_col0, #T_c5be5_row9_col1, #T_c5be5_row9_col2, #T_c5be5_row9_col3, #T_c5be5_row9_col4 {\n",
       "  text-align: left;\n",
       "  white-space: pre-wrap;\n",
       "}\n",
       "</style>\n",
       "<table id=\"T_c5be5\" class=\"dataframe\">\n",
       "  <thead>\n",
       "    <tr>\n",
       "      <th class=\"blank level0\" >&nbsp;</th>\n",
       "      <th id=\"T_c5be5_level0_col0\" class=\"col_heading level0 col0\" >tags_combined</th>\n",
       "      <th id=\"T_c5be5_level0_col1\" class=\"col_heading level0 col1\" >prompt</th>\n",
       "      <th id=\"T_c5be5_level0_col2\" class=\"col_heading level0 col2\" >generated</th>\n",
       "      <th id=\"T_c5be5_level0_col3\" class=\"col_heading level0 col3\" >true_synopsis</th>\n",
       "      <th id=\"T_c5be5_level0_col4\" class=\"col_heading level0 col4\" >cosine_similarity</th>\n",
       "    </tr>\n",
       "  </thead>\n",
       "  <tbody>\n",
       "    <tr>\n",
       "      <th id=\"T_c5be5_level0_row0\" class=\"row_heading level0 row0\" >0</th>\n",
       "      <td id=\"T_c5be5_row0_col0\" class=\"data row0 col0\" >adventure comedy fantasy</td>\n",
       "      <td id=\"T_c5be5_row0_col1\" class=\"data row0 col1\" >Write an anime synopsis that matches 'Adventure, Comedy and Fantasy'.</td>\n",
       "      <td id=\"T_c5be5_row0_col2\" class=\"data row0 col2\" >a is a high problems of the young the school of the the like and when the of decides to find the</td>\n",
       "      <td id=\"T_c5be5_row0_col3\" class=\"data row0 col3\" >on one noteworthy day in the adventurer's guild, kazuma satou encounters someone unexpecteda fan of his named ran. surprised that he even has a fan, kazuma attempts to play it cool to impress her. unfortunately for him, the guild's receptionist arrives with a request to defeat a giant golem guarding some ancient ruins, and kazuma accepts only to keep ran's admiration. upon kazuma and his party's successful return from the ruins, kazuma continues to shamelessly brag to ran. capitalizing on his desperation, the receptionist approaches him with another quest that requires him to return to the same ruins. hoping to find valuable treasures, kazuma once again convinces his party to join himbut this time, he may be biting off more than he can chew.</td>\n",
       "      <td id=\"T_c5be5_row0_col4\" class=\"data row0 col4\" >0.161820</td>\n",
       "    </tr>\n",
       "    <tr>\n",
       "      <th id=\"T_c5be5_level0_row1\" class=\"row_heading level0 row1\" >1</th>\n",
       "      <td id=\"T_c5be5_row1_col0\" class=\"data row1 col0\" >mystery supernatural</td>\n",
       "      <td id=\"T_c5be5_row1_col1\" class=\"data row1 col1\" >Write an anime synopsis that matches 'Mystery and Supernatural'.</td>\n",
       "      <td id=\"T_c5be5_row1_col2\" class=\"data row1 col2\" >years and and the mysterious for the second girl named has is a mission to demon of the users he is granted the shadow is a train to the and the village of this fifteen over the</td>\n",
       "      <td id=\"T_c5be5_row1_col3\" class=\"data row1 col3\" >the anime is set in the fictional geso ward in tokyo, a school city where an app called aicis is becoming popular. those who get the app are given supernatural powers, which they use to pursue their own selfish desires, leading to many occurrences of violence and other incidents. the story focuses on a group of detectives who solve cases related to power wielders.</td>\n",
       "      <td id=\"T_c5be5_row1_col4\" class=\"data row1 col4\" >0.420327</td>\n",
       "    </tr>\n",
       "    <tr>\n",
       "      <th id=\"T_c5be5_level0_row2\" class=\"row_heading level0 row2\" >2</th>\n",
       "      <td id=\"T_c5be5_row2_col0\" class=\"data row2 col0\" >historical mythology shoujo</td>\n",
       "      <td id=\"T_c5be5_row2_col1\" class=\"data row2 col1\" >Generate a 'Historical and Mythology' themed anime targeting 'Shoujo'.</td>\n",
       "      <td id=\"T_c5be5_row2_col2\" class=\"data row2 col2\" >the is a second clan, is a super as a of a the mysterious group of and the the of the</td>\n",
       "      <td id=\"T_c5be5_row2_col3\" class=\"data row2 col3\" >in the nineteenth century, we find lydia carlton living in scotland, making a living as a fairy doctor. she is one of those rare humans who can see and communicate with fairies. but no one believes her. however, edgar is in need of someone with a vast knowledge of fairy lore, and lydia is just that person. after rescuing her, he becomes her employer, but there are many secrets and emotions that seem to follow edgar, who claims to be the blue knight's earl.</td>\n",
       "      <td id=\"T_c5be5_row2_col4\" class=\"data row2 col4\" >0.248099</td>\n",
       "    </tr>\n",
       "    <tr>\n",
       "      <th id=\"T_c5be5_level0_row3\" class=\"row_heading level0 row3\" >3</th>\n",
       "      <td id=\"T_c5be5_row3_col0\" class=\"data row3 col0\" >adventure</td>\n",
       "      <td id=\"T_c5be5_row3_col1\" class=\"data row3 col1\" >Write an anime synopsis that matches 'Adventure'.</td>\n",
       "      <td id=\"T_c5be5_row3_col2\" class=\"data row3 col2\" >recap of the anime student</td>\n",
       "      <td id=\"T_c5be5_row3_col3\" class=\"data row3 col3\" >takashi loves reading books and especially loves alice's adventures in wonderland. one day, he buys some used books, and he finds one book thrown in. when takashi opens the book, the god of math m1 appeared. takashi is told that alice is kidnapped, and he's asked to rescue her by m1. and takashi goes on an adventure in wonderland to rescue alice.</td>\n",
       "      <td id=\"T_c5be5_row3_col4\" class=\"data row3 col4\" >0.151322</td>\n",
       "    </tr>\n",
       "    <tr>\n",
       "      <th id=\"T_c5be5_level0_row4\" class=\"row_heading level0 row4\" >4</th>\n",
       "      <td id=\"T_c5be5_row4_col0\" class=\"data row4 col0\" >anthropomorphic comedy fantasy slice of life</td>\n",
       "      <td id=\"T_c5be5_row4_col1\" class=\"data row4 col1\" >Create an anime synopsis with 'Comedy, Fantasy and Slice Of Life' and 'Anthropomorphic'.</td>\n",
       "      <td id=\"T_c5be5_row4_col2\" class=\"data row4 col2\" ></td>\n",
       "      <td id=\"T_c5be5_row4_col3\" class=\"data row4 col3\" >in a city filled with anthropomorphic catpeople, catman lives free of rules and boundaries, doing everything he wants, which often collides with the other inhabitants of the city. created entirely in flash, with no spoken dialog, catman instead speaks in english and japanese subtitles. the series is spread across three socalled 'seasons', with only the third having been aired.</td>\n",
       "      <td id=\"T_c5be5_row4_col4\" class=\"data row4 col4\" >0.097399</td>\n",
       "    </tr>\n",
       "    <tr>\n",
       "      <th id=\"T_c5be5_level0_row5\" class=\"row_heading level0 row5\" >5</th>\n",
       "      <td id=\"T_c5be5_row5_col0\" class=\"data row5 col0\" >action adventure drama romance sci-fi</td>\n",
       "      <td id=\"T_c5be5_row5_col1\" class=\"data row5 col1\" >Write an anime synopsis that matches 'Action, Adventure, Drama, Romance and Sci-Fi'.</td>\n",
       "      <td id=\"T_c5be5_row5_col2\" class=\"data row5 col2\" >the series to participate our and a of the</td>\n",
       "      <td id=\"T_c5be5_row5_col3\" class=\"data row5 col3\" >in the backwater town of bellforest lives a 14yearold boy named renton thurston. he desires to leave his home behind and join the mercenary group known as gekkostate, hoping to find some adventure to brighten up his mundane life. however, stuck between his grandfather's insistence to become a mechanic like him and the pressure of his deceased father's legacy, the only excitement renton finds is in his pastime of riding the trapar wave particles that are dispersed throughout the air, an activity akin to surfing. everything changes when an unknown object crashes through renton's garage, discovered to be a light finding operationa robot capable of riding the trapar wavesspecifically known as the nirvash typezero. its pilot is a young girl named eureka, a member of the gekkostate, who requests a tuneup for the nirvash. their meeting sparks the beginning of renton's involvement with the gekkostate as he takes off alongside eureka as the copilot of the nirvash.</td>\n",
       "      <td id=\"T_c5be5_row5_col4\" class=\"data row5 col4\" >0.328550</td>\n",
       "    </tr>\n",
       "    <tr>\n",
       "      <th id=\"T_c5be5_level0_row6\" class=\"row_heading level0 row6\" >6</th>\n",
       "      <td id=\"T_c5be5_row6_col0\" class=\"data row6 col0\" >anthropomorphic racing sports</td>\n",
       "      <td id=\"T_c5be5_row6_col1\" class=\"data row6 col1\" >Create an anime synopsis with 'Sports' and 'Anthropomorphic and Racing'.</td>\n",
       "      <td id=\"T_c5be5_row6_col2\" class=\"data row6 col2\" >the an year and is the there is a world with three is the girls by a and under the who can not the</td>\n",
       "      <td id=\"T_c5be5_row6_col3\" class=\"data row6 col3\" >within the horseracing world, the horse girls of team spica have been gaining popularity as they continue to rack up victories. the one receiving the most attention in the group is toukai teiou, known for her cheerful personality and exceptional running skills. teiou aims to become an undefeated triple crown horse girl by winning all three g1 races consecutively, a feat that has not been accomplished since the legendary symbolic rudolf managed to do so many years ago. on her path to obtaining the triple crown, teiou is met with many challenges, encountering both old and new rivals. amidst her fierce rivalries, however, teiou is soon confronted with decisions that will leave a huge impact on her very own racing career.</td>\n",
       "      <td id=\"T_c5be5_row6_col4\" class=\"data row6 col4\" >0.169876</td>\n",
       "    </tr>\n",
       "    <tr>\n",
       "      <th id=\"T_c5be5_level0_row7\" class=\"row_heading level0 row7\" >7</th>\n",
       "      <td id=\"T_c5be5_row7_col0\" class=\"data row7 col0\" >mecha space</td>\n",
       "      <td id=\"T_c5be5_row7_col1\" class=\"data row7 col1\" >Write an anime synopsis based on the 'Mecha and Space'.</td>\n",
       "      <td id=\"T_c5be5_row7_col2\" class=\"data row7 col2\" >the two with</td>\n",
       "      <td id=\"T_c5be5_row7_col3\" class=\"data row7 col3\" >when one space colony declared its independence from the earth federation, the devastating 7th space war, an allout war between earth and space, resulted. the federation responded to the space revolutionary army with mobile suits, called gundams. however, the space revolutionary forces played their trump card and dropped hundreds of space colonies onto the earth, plunging the planet into a sevenyearlong nuclear winter. the federation collapsed, but the space revolutionary army was unable to invade the earth in the aftermath of the colony drop. fifteen years have passed. the year is now after war 0015, and a new federation has sprung up on earth to restore order. in space, the colonial leaders have been rebuilding their own forces as well. by chance, fifteenyearold garrod ran has discovered an old federation mobile suit, the gundam x, and now he uses it to help out the vulture ship freeden in its struggle to keep the powers that be from repeating the mistakes of the past.</td>\n",
       "      <td id=\"T_c5be5_row7_col4\" class=\"data row7 col4\" >0.220251</td>\n",
       "    </tr>\n",
       "    <tr>\n",
       "      <th id=\"T_c5be5_level0_row8\" class=\"row_heading level0 row8\" >8</th>\n",
       "      <td id=\"T_c5be5_row8_col0\" class=\"data row8 col0\" >slice of life</td>\n",
       "      <td id=\"T_c5be5_row8_col1\" class=\"data row8 col1\" >Write a 'Slice Of Life' anime synopsis inspired by 'Welcome, Chitose'.</td>\n",
       "      <td id=\"T_c5be5_row8_col2\" class=\"data row8 col2\" >that in the named high young</td>\n",
       "      <td id=\"T_c5be5_row8_col3\" class=\"data row8 col3\" >chitosechan is a penguin who lives in kyoto. getting in touch with people and getting fed delicious food as she curiously walks around kyoto streets is her favourite thing to do. the story features popular places in kyoto like kiyomizu temple, ginkaku temple, and gion from the penguin's point of view. this is a short story about a penguin that is nostalgic and warm, curing and relieving the heart.</td>\n",
       "      <td id=\"T_c5be5_row8_col4\" class=\"data row8 col4\" >0.185003</td>\n",
       "    </tr>\n",
       "    <tr>\n",
       "      <th id=\"T_c5be5_level0_row9\" class=\"row_heading level0 row9\" >9</th>\n",
       "      <td id=\"T_c5be5_row9_col0\" class=\"data row9 col0\" >adventure mystery slice of life supernatural</td>\n",
       "      <td id=\"T_c5be5_row9_col1\" class=\"data row9 col1\" >Write an anime synopsis that matches 'Adventure, Mystery, Slice Of Life and Supernatural'.</td>\n",
       "      <td id=\"T_c5be5_row9_col2\" class=\"data row9 col2\" >in the new tv of the and and night, and the</td>\n",
       "      <td id=\"T_c5be5_row9_col3\" class=\"data row9 col3\" >ghostly, primordial beings known as mushi continue to cause mysterious changes in the lives of humans. the travelling mushishi, ginko, persists in trying to set right the strange and unsettling situations he encounters. time loops, living shadows, and telepathy are among the overt effects of interference from mushi, but more subtle symptoms that take years to be noticed also rouse ginko's concern as he passes from village to village. through circumstance, ginko has become an arbiter, determining which mushi are blessings and which are curses. but the lines that he seeks to draw are subjective. some of his patients would rather exercise their new powers until they are utterly consumed by them; others desperately strive to rid themselves of afflictions which are in fact protecting their lives from devastation. those who cross paths with mushi must learn to accept seemingly impossible consequences for their actions, and heal wounds they did not know they had. otherwise, they risk meeting with fates beyond their comprehension.</td>\n",
       "      <td id=\"T_c5be5_row9_col4\" class=\"data row9 col4\" >0.278880</td>\n",
       "    </tr>\n",
       "  </tbody>\n",
       "</table>\n"
      ],
      "text/plain": [
       "<pandas.io.formats.style.Styler at 0x7a6a21520e50>"
      ]
     },
     "execution_count": 61,
     "metadata": {},
     "output_type": "execute_result"
    }
   ],
   "source": [
    "# shows full text in cells\n",
    "pd.set_option('display.max_colwidth', None)\n",
    "\n",
    "# displays a table nicely\n",
    "\n",
    "df_results.head(10).style.set_properties(**{\n",
    "    'text-align': 'left',\n",
    "    'white-space': 'pre-wrap'\n",
    "}).set_table_styles([{\n",
    "    'selector': 'th',\n",
    "    'props': [('text-align', 'left')]\n",
    "}])\n"
   ]
  },
  {
   "cell_type": "markdown",
   "id": "dANx9YvKyUmB",
   "metadata": {
    "id": "dANx9YvKyUmB"
   },
   "source": [
    "### Visualizing Tags vs Output Embeddings Scatter Plot Using UMAP"
   ]
  },
  {
   "cell_type": "code",
   "execution_count": null,
   "id": "YwId4klNzJoV",
   "metadata": {
    "collapsed": true,
    "id": "YwId4klNzJoV"
   },
   "outputs": [],
   "source": [
    "# loads the embedding model\n",
    "embedding_model = SentenceTransformer('all-MiniLM-L6-v2')"
   ]
  },
  {
   "cell_type": "code",
   "execution_count": null,
   "id": "TsIL9pWc5dH9",
   "metadata": {
    "colab": {
     "base_uri": "https://localhost:8080/",
     "height": 696
    },
    "executionInfo": {
     "elapsed": 857,
     "status": "ok",
     "timestamp": 1749958250802,
     "user": {
      "displayName": "Yukiko Rivera",
      "userId": "02699279760362859349"
     },
     "user_tz": 420
    },
    "id": "TsIL9pWc5dH9",
    "outputId": "7222c499-b292-42d4-a80d-506d87294bcd"
   },
   "outputs": [
    {
     "name": "stderr",
     "output_type": "stream",
     "text": [
      "/usr/local/lib/python3.11/dist-packages/sklearn/utils/deprecation.py:151: FutureWarning: 'force_all_finite' was renamed to 'ensure_all_finite' in 1.6 and will be removed in 1.8.\n",
      "  warnings.warn(\n",
      "/usr/local/lib/python3.11/dist-packages/umap/umap_.py:1952: UserWarning: n_jobs value 1 overridden to 1 by setting random_state. Use no seed for parallelism.\n",
      "  warn(\n"
     ]
    },
    {
     "data": {
      "image/png": "[encoded data removed]",
      "text/plain": [
       "<Figure size 1000x600 with 1 Axes>"
      ]
     },
     "metadata": {},
     "output_type": "display_data"
    }
   ],
   "source": [
    "# extracts the tags and generated synopsis from the results list\n",
    "tags_to_match = [row[\"tags_combined\"] for row in results]\n",
    "generated_outputs = [row[\"generated\"] for row in results]\n",
    "\n",
    "# converts each prompt and generated output into a high-dim vector\n",
    "tags_embeddings = embedding_model.encode(tags_to_match)\n",
    "output_embeddings = embedding_model.encode(generated_outputs)\n",
    "\n",
    "# combines both embeddings into a single array\n",
    "all_embeddings = np.vstack([tags_embeddings, output_embeddings])\n",
    "\n",
    "# reduces the dimension for visualization\n",
    "reducer = umap.UMAP(n_components=2, random_state=42)\n",
    "umap_embeddings = reducer.fit_transform(all_embeddings)\n",
    "\n",
    "# splits embeddings into the tags and the output\n",
    "n = len(tags_to_match)\n",
    "umap_tags = umap_embeddings[:n]\n",
    "umap_outputs = umap_embeddings[n:]\n",
    "\n",
    "# plots a scatterplot\n",
    "plt.figure(figsize=(10, 6))\n",
    "plt.scatter(umap_tags[:, 0], umap_tags[:, 1], label=\"Genres/Themes/Demographics\", alpha=0.7)\n",
    "plt.scatter(umap_outputs[:, 0], umap_outputs[:, 1], label=\"LSTM Outputs\", alpha=0.7)\n",
    "\n",
    "# draws light gray lines to show the differences between the tags vs output\n",
    "for i in range(n):\n",
    "    plt.plot([umap_tags[i, 0], umap_outputs[i, 0]],\n",
    "             [umap_tags[i, 1], umap_outputs[i, 1]],\n",
    "             c='gray', linewidth=0.5)\n",
    "\n",
    "plt.title(\"Genres/Themes/Demographics vs LSTM Output Embedding Projection (UMAP)\")\n",
    "plt.xlabel(\"UMAP Dimension 1\")\n",
    "plt.ylabel(\"UMAP Dimension 2\")\n",
    "plt.legend(fontsize=10)\n",
    "plt.grid(True, which='both', linestyle='--', linewidth=0.5)\n",
    "plt.savefig(\n",
    "    'scatter_plot_lstm.png',\n",
    "    dpi=300,\n",
    "    bbox_inches='tight' \n",
    ")\n",
    "plt.tight_layout()\n",
    "plt.show()"
   ]
  }
 ],
 "metadata": {
  "colab": {
   "machine_shape": "hm",
   "provenance": []
  },
  "kernelspec": {
   "display_name": "animegen",
   "language": "python",
   "name": "python3"
  },
  "language_info": {
   "codemirror_mode": {
    "name": "ipython",
    "version": 3
   },
   "file_extension": ".py",
   "mimetype": "text/x-python",
   "name": "python",
   "nbconvert_exporter": "python",
   "pygments_lexer": "ipython3",
   "version": "3.11.9"
  }
 },
 "nbformat": 4,
 "nbformat_minor": 5
}
