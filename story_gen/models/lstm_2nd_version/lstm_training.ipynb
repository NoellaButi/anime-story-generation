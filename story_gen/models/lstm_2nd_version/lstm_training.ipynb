{
 "cells": [
  {
   "cell_type": "code",
   "execution_count": null,
   "metadata": {},
   "outputs": [],
   "source": [
    "# Author: Yuki Rivera\n",
    "# This notebook contains the code to build & train the lstm model with an encoder-decoder structure."
   ]
  },
  {
   "cell_type": "code",
   "execution_count": null,
   "metadata": {
    "id": "YcHyumD_slz7"
   },
   "outputs": [],
   "source": [
    "import tensorflow as tf\n",
    "from tensorflow.keras.preprocessing.text import Tokenizer\n",
    "from tensorflow.keras.preprocessing.sequence import pad_sequences\n",
    "from tensorflow.keras.utils import to_categorical\n",
    "from tensorflow.keras.models import Sequential\n",
    "from tensorflow.keras.layers import Input, Dense, LSTM, Embedding, TimeDistributed\n",
    "import pandas as pd\n",
    "from tensorflow.keras.models import Model, load_model\n",
    "import pickle\n",
    "from tensorflow.keras.callbacks import ModelCheckpoint, EarlyStopping, LambdaCallback\n",
    "import matplotlib.pyplot as plt\n",
    "from tensorflow.keras.losses import sparse_categorical_crossentropy\n",
    "import numpy as np\n",
    "from tensorflow.keras.layers import Dropout\n",
    "from sklearn.model_selection import train_test_split\n",
    "from tensorflow.keras.optimizers import Adam"
   ]
  },
  {
   "cell_type": "code",
   "execution_count": null,
   "metadata": {
    "id": "rD0E27M9rYGf"
   },
   "outputs": [],
   "source": [
    "full_data = True\n",
    "num_of_rows = 10000"
   ]
  },
  {
   "cell_type": "code",
   "execution_count": null,
   "metadata": {
    "id": "XeWQwo5FNoC7"
   },
   "outputs": [],
   "source": [
    "vocab_limit = 15000\n",
    "enc_max_len = 64  # the prompt length\n",
    "dec_max_len = 150   # the synopsis length\n",
    "max_dec_input_length = dec_max_len - 1  # decoder input length\n",
    "\n",
    "embedding_dim = 128 # output_dim\n",
    "units = 128   # number of lstm units\n",
    "\n",
    "batch = 64\n",
    "repeat = 20 # num of epochs\n",
    "patience = 3 # early-stopping patience\n",
    "\n",
    "# total_epochs = 120\n",
    "\n",
    "custom_learning_rate = 5e-5\n",
    "adam_optimizer = Adam(learning_rate=custom_learning_rate)\n",
    "\n",
    "val_ratio = 0.2 # validation set ratio\n",
    "\n",
    "min_delta = 0.01  # minimum threshold regarded as improvement\n",
    "\n",
    "dropout_rate = 0.3"
   ]
  },
  {
   "cell_type": "markdown",
   "metadata": {},
   "source": [
    "### Preprocess the data"
   ]
  },
  {
   "cell_type": "code",
   "execution_count": null,
   "metadata": {},
   "outputs": [],
   "source": [
    "# Cleans text\n",
    "def clean_text(text):\n",
    "    return text.lower().strip().replace('\\n', ' ')"
   ]
  },
  {
   "cell_type": "code",
   "execution_count": null,
   "metadata": {
    "id": "i0FHk9-YO7oB"
   },
   "outputs": [],
   "source": [
    "# Loads dataset\n",
    "train_df = pd.read_csv(\"prompt_synopsis_train.csv\")\n",
    "\n",
    "if not full_data:\n",
    "    train_df = train_df.sample(n=num_of_rows, random_state=42).reset_index(drop=True)\n",
    "\n",
    "for col in ['prompt', 'synopsis']:\n",
    "    train_df[col] = train_df[col].astype(str).apply(clean_text)"
   ]
  },
  {
   "cell_type": "code",
   "execution_count": null,
   "metadata": {
    "id": "-xLg0CLIoemo"
   },
   "outputs": [],
   "source": [
    "# Define fixed IDs for special tokens.\n",
    "PAD_ID = 0\n",
    "OOV_ID = 1\n",
    "BOS_ID = 2\n",
    "EOS_ID = 3\n",
    "\n",
    "# Number of special tokens we manually reserve IDs for.\n",
    "NUM_SPECIAL_TOKENS_RESERVED = 4 # (PAD, OOV, BOS, EOS)\n",
    "\n",
    "# The number of actual content words the tokenizer should learn.\n",
    "num_words_to_fit = vocab_limit - NUM_SPECIAL_TOKENS_RESERVED"
   ]
  },
  {
   "cell_type": "code",
   "execution_count": null,
   "metadata": {
    "id": "FcQtmpKQoegl"
   },
   "outputs": [],
   "source": [
    "# Instantiates a tokenizer (disabling special character filtering)\n",
    "tokenizer = Tokenizer(num_words=num_words_to_fit, oov_token='<OOV>', filters='')\n",
    "# Builds a single shared vocabulary across both the input and the output\n",
    "tokenizer.fit_on_texts(train_df['prompt'].tolist() + train_df['synopsis'].tolist())"
   ]
  },
  {
   "cell_type": "code",
   "execution_count": null,
   "metadata": {
    "id": "etSrXnWAoebF"
   },
   "outputs": [],
   "source": [
    "# Create a new word_index starting from special tokens.\n",
    "new_word_index = {}\n",
    "new_index_word = {}\n",
    "\n",
    "# Assign reserved IDs first\n",
    "new_word_index[\"<PAD>\"] = PAD_ID\n",
    "new_index_word[PAD_ID] = \"<PAD>\"\n",
    "\n",
    "new_word_index[\"<OOV>\"] = OOV_ID\n",
    "new_index_word[OOV_ID] = \"<OOV>\"\n",
    "\n",
    "new_word_index[\"<BOS>\"] = BOS_ID\n",
    "new_index_word[BOS_ID] = \"<BOS>\"\n",
    "\n",
    "new_word_index[\"<EOS>\"] = EOS_ID\n",
    "new_index_word[EOS_ID] = \"<EOS>\""
   ]
  },
  {
   "cell_type": "code",
   "execution_count": null,
   "metadata": {
    "id": "babFOGKSolyu"
   },
   "outputs": [],
   "source": [
    "# Starts assigning IDs from the next available slot after special tokens.\n",
    "next_available_id = NUM_SPECIAL_TOKENS_RESERVED\n",
    "content_words_assigned = 0 # Track how many content words we've assigned\n",
    "\n",
    "for word, original_id in sorted(tokenizer.word_index.items(), key=lambda item: item[1]):\n",
    "    # Skips words not in the new word index\n",
    "    if word in new_word_index:\n",
    "        continue\n",
    "    # Assigns the new ID to the content word\n",
    "    if content_words_assigned < num_words_to_fit:\n",
    "        new_word_index[word] = next_available_id\n",
    "        new_index_word[next_available_id] = word\n",
    "        next_available_id += 1\n",
    "        content_words_assigned += 1\n",
    "\n",
    "    else:\n",
    "        # Breaks the loop once all required content words have been assigned\n",
    "        break\n",
    "\n",
    "\n",
    "tokenizer.word_index = new_word_index\n",
    "tokenizer.index_word = new_index_word\n",
    "\n",
    "# Ensures the vocab_size for Embedding layer stays the same as the target vocab limit\n",
    "vocab_size = vocab_limit"
   ]
  },
  {
   "cell_type": "markdown",
   "metadata": {
    "id": "8eqbcKOkoy1C"
   },
   "source": [
    "### Saves the tokenizer for evaluation later"
   ]
  },
  {
   "cell_type": "code",
   "execution_count": null,
   "metadata": {
    "colab": {
     "base_uri": "https://localhost:8080/"
    },
    "executionInfo": {
     "elapsed": 57,
     "status": "ok",
     "timestamp": 1749950378114,
     "user": {
      "displayName": "Yukiko Rivera",
      "userId": "02699279760362859349"
     },
     "user_tz": 420
    },
    "id": "j_N57U3voltN",
    "outputId": "3264278c-37a9-4d7e-ae1e-e7c2dd810ce6"
   },
   "outputs": [],
   "source": [
    "# Saves the tokenizer after it has been fitted and checked\n",
    "with open(\"tokenizer_LSTM.pkl\", \"wb\") as f:\n",
    "    pickle.dump(tokenizer, f)"
   ]
  },
  {
   "cell_type": "markdown",
   "metadata": {},
   "source": [
    "### Converts words into token IDs and creates input sequences"
   ]
  },
  {
   "cell_type": "code",
   "execution_count": null,
   "metadata": {
    "id": "UTVLB99zo9fU"
   },
   "outputs": [],
   "source": [
    "# Converts each prompt or synopsis into a list of integers\n",
    "input_seqs = tokenizer.texts_to_sequences(train_df['prompt'])\n",
    "output_seqs = tokenizer.texts_to_sequences(train_df['synopsis'])\n",
    "\n",
    "# Adds BOS and EOS tokens to each synopsis sequence \n",
    "synopsis_token_ids_augmented = [[BOS_ID] + seq + [EOS_ID] for seq in output_seqs]\n",
    "\n",
    "# Creates decoder inputs that go into the decoder during training\n",
    "decoder_input_ids = [seq[:-1] for seq in synopsis_token_ids_augmented]\n",
    "\n",
    "# Creates decoder targets for loss calculation\n",
    "decoder_target_ids = [seq[1:] for seq in synopsis_token_ids_augmented]"
   ]
  },
  {
   "cell_type": "markdown",
   "metadata": {},
   "source": [
    "### Pads the input sequences"
   ]
  },
  {
   "cell_type": "code",
   "execution_count": null,
   "metadata": {
    "id": "fzaZXowEo9dC"
   },
   "outputs": [],
   "source": [
    "# Encoder input \n",
    "padded_input = pad_sequences(input_seqs, maxlen=enc_max_len, truncating='post', padding='post', value=0)\n",
    "\n",
    "# Decoder input for training\n",
    "decoder_input_data = pad_sequences(decoder_input_ids, maxlen=max_dec_input_length, truncating='post', padding='post', value=0)\n",
    "\n",
    "# Decoder target for training (needs to be expanded for sparse_categorical_crossentropy)\n",
    "decoder_target_data = pad_sequences(decoder_target_ids, maxlen=max_dec_input_length, truncating='post', padding='post', value=0)\n",
    "decoder_target_data = np.expand_dims(decoder_target_data, axis=-1)"
   ]
  },
  {
   "cell_type": "markdown",
   "metadata": {
    "id": "8gdx2l_KpGKZ"
   },
   "source": [
    "### Defines the LSTM"
   ]
  },
  {
   "cell_type": "code",
   "execution_count": null,
   "metadata": {
    "id": "-HDMY4_Ao9aV"
   },
   "outputs": [],
   "source": [
    "#### Encoder ####\n",
    "\n",
    "# Input layer for the encoder (prompts)\n",
    "encoder_inputs = Input(shape=(enc_max_len,), name='encoder_input')\n",
    "\n",
    "# Embedding layer for the encoder inputs\n",
    "# `mask_zero=True` to ignore padding (token ID 0) during processing.\n",
    "encoder_embedding = Embedding(vocab_size, embedding_dim, mask_zero=True, name='encoder_embedding')(encoder_inputs)\n",
    "\n",
    "# LSTM returns (output_sequence, last_hidden_state, last_cell_state)\n",
    "encoder_lstm = LSTM(units, return_state=True, name='encoder_lstm')\n",
    "encoder_outputs, state_h_enc, state_c_enc = encoder_lstm(encoder_embedding)\n",
    "encoder_states = [state_h_enc, state_c_enc] # LSTM states are (h, c)\n",
    "\n",
    "#### Decoder ####\n",
    "\n",
    "# Input layer for the decoder (shifted target synopsis sequences, thus dec_max_len -1 for the shape)\n",
    "decoder_inputs = Input(shape=(dec_max_len - 1,), name='decoder_input')\n",
    "\n",
    "# Embedding layer for the decoder inputs.\n",
    "# `mask_zero=True` is for the decoder's input to ignore padding.\n",
    "decoder_embedding = Embedding(vocab_size, embedding_dim, mask_zero=True, name='decoder_embedding')(decoder_inputs)\n",
    "\n",
    "# Decoder LSTM layer.\n",
    "# `return_sequences=True` ensures that the LSTM outputs a sequence, not just a single final output.\n",
    "# `initial_state=encoder_states` connects the encoder to the decoder.\n",
    "decoder_lstm = LSTM(units, return_sequences=True, return_state=True, name='decoder_lstm')\n",
    "decoder_outputs_sequence, decoder_state_h, decoder_state_c = decoder_lstm(\n",
    "    decoder_embedding, initial_state=encoder_states\n",
    ")\n",
    "\n",
    "# Dense layer at the end of the decoder.\n",
    "decoder_dense = Dense(vocab_size, activation='softmax', name='decoder_output')\n",
    "output = decoder_dense(decoder_outputs_sequence)\n",
    "\n",
    "\n",
    "#### Defines the Encoder-Decoder model ####\n",
    "model_lstm = Model(inputs=[encoder_inputs, decoder_inputs], outputs=output)"
   ]
  },
  {
   "cell_type": "markdown",
   "metadata": {},
   "source": [
    "### Configures the model to train"
   ]
  },
  {
   "cell_type": "code",
   "execution_count": null,
   "metadata": {
    "colab": {
     "base_uri": "https://localhost:8080/",
     "height": 578
    },
    "executionInfo": {
     "elapsed": 78,
     "status": "ok",
     "timestamp": 1749950383163,
     "user": {
      "displayName": "Yukiko Rivera",
      "userId": "02699279760362859349"
     },
     "user_tz": 420
    },
    "id": "AMCJ3SG9o9X5",
    "outputId": "aabb059f-79db-4c50-ee0a-5301a41d5bc4"
   },
   "outputs": [],
   "source": [
    "model_lstm.compile(optimizer=adam_optimizer, loss='sparse_categorical_crossentropy', metrics=['accuracy'])"
   ]
  },
  {
   "cell_type": "markdown",
   "metadata": {},
   "source": [
    "### Callbacks for saving the best model & early stopping"
   ]
  },
  {
   "cell_type": "code",
   "execution_count": null,
   "metadata": {},
   "outputs": [],
   "source": [
    "model_path = \"lstm_model.keras\""
   ]
  },
  {
   "cell_type": "code",
   "execution_count": null,
   "metadata": {
    "id": "V5fLa0_zo9TO"
   },
   "outputs": [],
   "source": [
    "# Set callbacks\n",
    "checkpoint_cb = ModelCheckpoint(\n",
    "    filepath=model_path,\n",
    "    save_best_only=True,  \n",
    "    monitor='val_loss',   \n",
    "    mode='min',           \n",
    "    verbose = 1           \n",
    ")\n",
    "earlystop_cb = EarlyStopping(\n",
    "    monitor=\"val_loss\",\n",
    "    patience=patience,\n",
    "    min_delta=min_delta,\n",
    "    restore_best_weights=True,\n",
    "    verbose = 1\n",
    ")"
   ]
  },
  {
   "cell_type": "markdown",
   "metadata": {
    "id": "Lx_RbYBsCw4-"
   },
   "source": [
    "### Split the data into training and validation sets"
   ]
  },
  {
   "cell_type": "code",
   "execution_count": null,
   "metadata": {
    "id": "BUR96bad8b5W"
   },
   "outputs": [],
   "source": [
    "X = [padded_input, decoder_input_data]\n",
    "y = decoder_target_data\n",
    "\n",
    "# Perform the split\n",
    "X_train_encoder, X_val_encoder, X_train_decoder, X_val_decoder, y_train_target, y_val_target = train_test_split(\n",
    "    X[0], X[1], y, test_size=val_ratio, random_state=42\n",
    ")"
   ]
  },
  {
   "cell_type": "markdown",
   "metadata": {
    "id": "ye1jtarEPjc6"
   },
   "source": [
    "### Trains the model"
   ]
  },
  {
   "cell_type": "code",
   "execution_count": null,
   "metadata": {
    "id": "CuZGpTRFgSsd"
   },
   "outputs": [],
   "source": [
    "full_history = []"
   ]
  },
  {
   "cell_type": "code",
   "execution_count": null,
   "metadata": {
    "id": "3hV60vTPrt-W"
   },
   "outputs": [],
   "source": [
    "# Combines encoder and decoder inputs for the training set\n",
    "train_inputs = [X_train_encoder, X_train_decoder]\n",
    "# Combines encoder and decoder inputs for the validation set\n",
    "val_inputs = [X_val_encoder, X_val_decoder]"
   ]
  },
  {
   "cell_type": "code",
   "execution_count": null,
   "metadata": {
    "colab": {
     "base_uri": "https://localhost:8080/"
    },
    "executionInfo": {
     "elapsed": 529167,
     "status": "ok",
     "timestamp": 1749950912387,
     "user": {
      "displayName": "Yukiko Rivera",
      "userId": "02699279760362859349"
     },
     "user_tz": 420
    },
    "id": "qKDTDVmsaPqH",
    "outputId": "8cd83418-ef68-4962-ad71-28e6f4e6c695"
   },
   "outputs": [
    {
     "name": "stdout",
     "output_type": "stream",
     "text": [
      "Epoch 1/20\n",
      "\u001b[1m753/754\u001b[0m \u001b[32m━━━━━━━━━━━━━━━━━━━\u001b[0m\u001b[37m━\u001b[0m \u001b[1m0s\u001b[0m 30ms/step - accuracy: 0.0490 - loss: 8.4797\n",
      "Epoch 1: val_loss improved from inf to 6.62977, saving model to lstm_model.keras\n",
      "\u001b[1m754/754\u001b[0m \u001b[32m━━━━━━━━━━━━━━━━━━━━\u001b[0m\u001b[37m\u001b[0m \u001b[1m31s\u001b[0m 35ms/step - accuracy: 0.0490 - loss: 8.4772 - val_accuracy: 0.0534 - val_loss: 6.6298\n",
      "Epoch 2/20\n",
      "\u001b[1m753/754\u001b[0m \u001b[32m━━━━━━━━━━━━━━━━━━━\u001b[0m\u001b[37m━\u001b[0m \u001b[1m0s\u001b[0m 29ms/step - accuracy: 0.0544 - loss: 6.6161\n",
      "Epoch 2: val_loss improved from 6.62977 to 6.61194, saving model to lstm_model.keras\n",
      "\u001b[1m754/754\u001b[0m \u001b[32m━━━━━━━━━━━━━━━━━━━━\u001b[0m\u001b[37m\u001b[0m \u001b[1m26s\u001b[0m 35ms/step - accuracy: 0.0544 - loss: 6.6161 - val_accuracy: 0.0534 - val_loss: 6.6119\n",
      "Epoch 3/20\n",
      "\u001b[1m753/754\u001b[0m \u001b[32m━━━━━━━━━━━━━━━━━━━\u001b[0m\u001b[37m━\u001b[0m \u001b[1m0s\u001b[0m 29ms/step - accuracy: 0.0537 - loss: 6.6018\n",
      "Epoch 3: val_loss improved from 6.61194 to 6.57920, saving model to lstm_model.keras\n",
      "\u001b[1m754/754\u001b[0m \u001b[32m━━━━━━━━━━━━━━━━━━━━\u001b[0m\u001b[37m\u001b[0m \u001b[1m26s\u001b[0m 35ms/step - accuracy: 0.0537 - loss: 6.6018 - val_accuracy: 0.0534 - val_loss: 6.5792\n",
      "Epoch 4/20\n",
      "\u001b[1m753/754\u001b[0m \u001b[32m━━━━━━━━━━━━━━━━━━━\u001b[0m\u001b[37m━\u001b[0m \u001b[1m0s\u001b[0m 29ms/step - accuracy: 0.0541 - loss: 6.5644\n",
      "Epoch 4: val_loss improved from 6.57920 to 6.52902, saving model to lstm_model.keras\n",
      "\u001b[1m754/754\u001b[0m \u001b[32m━━━━━━━━━━━━━━━━━━━━\u001b[0m\u001b[37m\u001b[0m \u001b[1m26s\u001b[0m 35ms/step - accuracy: 0.0541 - loss: 6.5643 - val_accuracy: 0.0534 - val_loss: 6.5290\n",
      "Epoch 5/20\n",
      "\u001b[1m753/754\u001b[0m \u001b[32m━━━━━━━━━━━━━━━━━━━\u001b[0m\u001b[37m━\u001b[0m \u001b[1m0s\u001b[0m 29ms/step - accuracy: 0.0574 - loss: 6.5067\n",
      "Epoch 5: val_loss improved from 6.52902 to 6.46352, saving model to lstm_model.keras\n",
      "\u001b[1m754/754\u001b[0m \u001b[32m━━━━━━━━━━━━━━━━━━━━\u001b[0m\u001b[37m\u001b[0m \u001b[1m26s\u001b[0m 35ms/step - accuracy: 0.0574 - loss: 6.5066 - val_accuracy: 0.0655 - val_loss: 6.4635\n",
      "Epoch 6/20\n",
      "\u001b[1m753/754\u001b[0m \u001b[32m━━━━━━━━━━━━━━━━━━━\u001b[0m\u001b[37m━\u001b[0m \u001b[1m0s\u001b[0m 29ms/step - accuracy: 0.0661 - loss: 6.4466\n",
      "Epoch 6: val_loss improved from 6.46352 to 6.40973, saving model to lstm_model.keras\n",
      "\u001b[1m754/754\u001b[0m \u001b[32m━━━━━━━━━━━━━━━━━━━━\u001b[0m\u001b[37m\u001b[0m \u001b[1m26s\u001b[0m 35ms/step - accuracy: 0.0661 - loss: 6.4466 - val_accuracy: 0.0667 - val_loss: 6.4097\n",
      "Epoch 7/20\n",
      "\u001b[1m753/754\u001b[0m \u001b[32m━━━━━━━━━━━━━━━━━━━\u001b[0m\u001b[37m━\u001b[0m \u001b[1m0s\u001b[0m 29ms/step - accuracy: 0.0668 - loss: 6.3921\n",
      "Epoch 7: val_loss improved from 6.40973 to 6.36361, saving model to lstm_model.keras\n",
      "\u001b[1m754/754\u001b[0m \u001b[32m━━━━━━━━━━━━━━━━━━━━\u001b[0m\u001b[37m\u001b[0m \u001b[1m26s\u001b[0m 35ms/step - accuracy: 0.0668 - loss: 6.3921 - val_accuracy: 0.0664 - val_loss: 6.3636\n",
      "Epoch 8/20\n",
      "\u001b[1m753/754\u001b[0m \u001b[32m━━━━━━━━━━━━━━━━━━━\u001b[0m\u001b[37m━\u001b[0m \u001b[1m0s\u001b[0m 29ms/step - accuracy: 0.0673 - loss: 6.3441\n",
      "Epoch 8: val_loss improved from 6.36361 to 6.32066, saving model to lstm_model.keras\n",
      "\u001b[1m754/754\u001b[0m \u001b[32m━━━━━━━━━━━━━━━━━━━━\u001b[0m\u001b[37m\u001b[0m \u001b[1m26s\u001b[0m 35ms/step - accuracy: 0.0673 - loss: 6.3441 - val_accuracy: 0.0730 - val_loss: 6.3207\n",
      "Epoch 9/20\n",
      "\u001b[1m753/754\u001b[0m \u001b[32m━━━━━━━━━━━━━━━━━━━\u001b[0m\u001b[37m━\u001b[0m \u001b[1m0s\u001b[0m 30ms/step - accuracy: 0.0748 - loss: 6.3014\n",
      "Epoch 9: val_loss improved from 6.32066 to 6.27257, saving model to lstm_model.keras\n",
      "\u001b[1m754/754\u001b[0m \u001b[32m━━━━━━━━━━━━━━━━━━━━\u001b[0m\u001b[37m\u001b[0m \u001b[1m26s\u001b[0m 35ms/step - accuracy: 0.0749 - loss: 6.3013 - val_accuracy: 0.0794 - val_loss: 6.2726\n",
      "Epoch 10/20\n",
      "\u001b[1m753/754\u001b[0m \u001b[32m━━━━━━━━━━━━━━━━━━━\u001b[0m\u001b[37m━\u001b[0m \u001b[1m0s\u001b[0m 29ms/step - accuracy: 0.0804 - loss: 6.2522\n",
      "Epoch 10: val_loss improved from 6.27257 to 6.21944, saving model to lstm_model.keras\n",
      "\u001b[1m754/754\u001b[0m \u001b[32m━━━━━━━━━━━━━━━━━━━━\u001b[0m\u001b[37m\u001b[0m \u001b[1m26s\u001b[0m 35ms/step - accuracy: 0.0804 - loss: 6.2521 - val_accuracy: 0.0812 - val_loss: 6.2194\n",
      "Epoch 11/20\n",
      "\u001b[1m753/754\u001b[0m \u001b[32m━━━━━━━━━━━━━━━━━━━\u001b[0m\u001b[37m━\u001b[0m \u001b[1m0s\u001b[0m 29ms/step - accuracy: 0.0828 - loss: 6.1945\n",
      "Epoch 11: val_loss improved from 6.21944 to 6.16020, saving model to lstm_model.keras\n",
      "\u001b[1m754/754\u001b[0m \u001b[32m━━━━━━━━━━━━━━━━━━━━\u001b[0m\u001b[37m\u001b[0m \u001b[1m26s\u001b[0m 35ms/step - accuracy: 0.0828 - loss: 6.1945 - val_accuracy: 0.0844 - val_loss: 6.1602\n",
      "Epoch 12/20\n",
      "\u001b[1m753/754\u001b[0m \u001b[32m━━━━━━━━━━━━━━━━━━━\u001b[0m\u001b[37m━\u001b[0m \u001b[1m0s\u001b[0m 29ms/step - accuracy: 0.0856 - loss: 6.1345\n",
      "Epoch 12: val_loss improved from 6.16020 to 6.09966, saving model to lstm_model.keras\n",
      "\u001b[1m754/754\u001b[0m \u001b[32m━━━━━━━━━━━━━━━━━━━━\u001b[0m\u001b[37m\u001b[0m \u001b[1m26s\u001b[0m 35ms/step - accuracy: 0.0856 - loss: 6.1344 - val_accuracy: 0.0862 - val_loss: 6.0997\n",
      "Epoch 13/20\n",
      "\u001b[1m753/754\u001b[0m \u001b[32m━━━━━━━━━━━━━━━━━━━\u001b[0m\u001b[37m━\u001b[0m \u001b[1m0s\u001b[0m 29ms/step - accuracy: 0.0878 - loss: 6.0741\n",
      "Epoch 13: val_loss improved from 6.09966 to 6.04198, saving model to lstm_model.keras\n",
      "\u001b[1m754/754\u001b[0m \u001b[32m━━━━━━━━━━━━━━━━━━━━\u001b[0m\u001b[37m\u001b[0m \u001b[1m26s\u001b[0m 35ms/step - accuracy: 0.0878 - loss: 6.0741 - val_accuracy: 0.0878 - val_loss: 6.0420\n",
      "Epoch 14/20\n",
      "\u001b[1m753/754\u001b[0m \u001b[32m━━━━━━━━━━━━━━━━━━━\u001b[0m\u001b[37m━\u001b[0m \u001b[1m0s\u001b[0m 29ms/step - accuracy: 0.0902 - loss: 6.0175\n",
      "Epoch 14: val_loss improved from 6.04198 to 5.98876, saving model to lstm_model.keras\n",
      "\u001b[1m754/754\u001b[0m \u001b[32m━━━━━━━━━━━━━━━━━━━━\u001b[0m\u001b[37m\u001b[0m \u001b[1m26s\u001b[0m 35ms/step - accuracy: 0.0902 - loss: 6.0175 - val_accuracy: 0.0903 - val_loss: 5.9888\n",
      "Epoch 15/20\n",
      "\u001b[1m753/754\u001b[0m \u001b[32m━━━━━━━━━━━━━━━━━━━\u001b[0m\u001b[37m━\u001b[0m \u001b[1m0s\u001b[0m 30ms/step - accuracy: 0.0918 - loss: 5.9627\n",
      "Epoch 15: val_loss improved from 5.98876 to 5.94087, saving model to lstm_model.keras\n",
      "\u001b[1m754/754\u001b[0m \u001b[32m━━━━━━━━━━━━━━━━━━━━\u001b[0m\u001b[37m\u001b[0m \u001b[1m26s\u001b[0m 35ms/step - accuracy: 0.0918 - loss: 5.9626 - val_accuracy: 0.0917 - val_loss: 5.9409\n",
      "Epoch 16/20\n",
      "\u001b[1m753/754\u001b[0m \u001b[32m━━━━━━━━━━━━━━━━━━━\u001b[0m\u001b[37m━\u001b[0m \u001b[1m0s\u001b[0m 29ms/step - accuracy: 0.0929 - loss: 5.9112\n",
      "Epoch 16: val_loss improved from 5.94087 to 5.89782, saving model to lstm_model.keras\n",
      "\u001b[1m754/754\u001b[0m \u001b[32m━━━━━━━━━━━━━━━━━━━━\u001b[0m\u001b[37m\u001b[0m \u001b[1m26s\u001b[0m 35ms/step - accuracy: 0.0929 - loss: 5.9112 - val_accuracy: 0.0928 - val_loss: 5.8978\n",
      "Epoch 17/20\n",
      "\u001b[1m753/754\u001b[0m \u001b[32m━━━━━━━━━━━━━━━━━━━\u001b[0m\u001b[37m━\u001b[0m \u001b[1m0s\u001b[0m 29ms/step - accuracy: 0.0945 - loss: 5.8737\n",
      "Epoch 17: val_loss improved from 5.89782 to 5.85838, saving model to lstm_model.keras\n",
      "\u001b[1m754/754\u001b[0m \u001b[32m━━━━━━━━━━━━━━━━━━━━\u001b[0m\u001b[37m\u001b[0m \u001b[1m26s\u001b[0m 35ms/step - accuracy: 0.0945 - loss: 5.8736 - val_accuracy: 0.0936 - val_loss: 5.8584\n",
      "Epoch 18/20\n",
      "\u001b[1m753/754\u001b[0m \u001b[32m━━━━━━━━━━━━━━━━━━━\u001b[0m\u001b[37m━\u001b[0m \u001b[1m0s\u001b[0m 29ms/step - accuracy: 0.0954 - loss: 5.8324\n",
      "Epoch 18: val_loss improved from 5.85838 to 5.82134, saving model to lstm_model.keras\n",
      "\u001b[1m754/754\u001b[0m \u001b[32m━━━━━━━━━━━━━━━━━━━━\u001b[0m\u001b[37m\u001b[0m \u001b[1m26s\u001b[0m 35ms/step - accuracy: 0.0954 - loss: 5.8324 - val_accuracy: 0.0944 - val_loss: 5.8213\n",
      "Epoch 19/20\n",
      "\u001b[1m753/754\u001b[0m \u001b[32m━━━━━━━━━━━━━━━━━━━\u001b[0m\u001b[37m━\u001b[0m \u001b[1m0s\u001b[0m 29ms/step - accuracy: 0.0961 - loss: 5.7942\n",
      "Epoch 19: val_loss improved from 5.82134 to 5.78541, saving model to lstm_model.keras\n",
      "\u001b[1m754/754\u001b[0m \u001b[32m━━━━━━━━━━━━━━━━━━━━\u001b[0m\u001b[37m\u001b[0m \u001b[1m26s\u001b[0m 35ms/step - accuracy: 0.0961 - loss: 5.7942 - val_accuracy: 0.0952 - val_loss: 5.7854\n",
      "Epoch 20/20\n",
      "\u001b[1m753/754\u001b[0m \u001b[32m━━━━━━━━━━━━━━━━━━━\u001b[0m\u001b[37m━\u001b[0m \u001b[1m0s\u001b[0m 29ms/step - accuracy: 0.0967 - loss: 5.7617\n",
      "Epoch 20: val_loss improved from 5.78541 to 5.75088, saving model to lstm_model.keras\n",
      "\u001b[1m754/754\u001b[0m \u001b[32m━━━━━━━━━━━━━━━━━━━━\u001b[0m\u001b[37m\u001b[0m \u001b[1m26s\u001b[0m 35ms/step - accuracy: 0.0967 - loss: 5.7617 - val_accuracy: 0.0964 - val_loss: 5.7509\n",
      "Restoring model weights from the end of the best epoch: 20.\n"
     ]
    }
   ],
   "source": [
    "# trains the model with teacher-forcing\n",
    "history1 = model_lstm.fit(\n",
    "    train_inputs,       \n",
    "    y_train_target,     \n",
    "    batch_size=batch,\n",
    "    epochs=repeat,      \n",
    "    validation_data=(val_inputs, y_val_target), \n",
    "    callbacks=[checkpoint_cb, earlystop_cb], \n",
    "    verbose=1 \n",
    ")"
   ]
  },
  {
   "cell_type": "markdown",
   "metadata": {},
   "source": [
    "### Saves the training history"
   ]
  },
  {
   "cell_type": "code",
   "execution_count": null,
   "metadata": {
    "id": "l2OkrQcOgYIp"
   },
   "outputs": [],
   "source": [
    "full_history.append(history1.history)"
   ]
  },
  {
   "cell_type": "code",
   "execution_count": null,
   "metadata": {
    "id": "VTi--evYgd3N"
   },
   "outputs": [],
   "source": [
    "combined = {\n",
    "    \"loss\": sum([h[\"loss\"] for h in full_history], []),\n",
    "    \"val_loss\": sum([h[\"val_loss\"] for h in full_history], []),\n",
    "}"
   ]
  },
  {
   "cell_type": "code",
   "execution_count": null,
   "metadata": {
    "id": "arCrm43ugf1I"
   },
   "outputs": [],
   "source": [
    "with open(\"combined_history.pkl\", \"wb\") as f:\n",
    "    pickle.dump(combined, f)"
   ]
  },
  {
   "cell_type": "markdown",
   "metadata": {
    "id": "4j2WG-svrBQp"
   },
   "source": [
    "### Plot the Loss Curve"
   ]
  },
  {
   "cell_type": "code",
   "execution_count": null,
   "metadata": {
    "colab": {
     "base_uri": "https://localhost:8080/",
     "height": 472
    },
    "executionInfo": {
     "elapsed": 458,
     "status": "ok",
     "timestamp": 1749950912972,
     "user": {
      "displayName": "Yukiko Rivera",
      "userId": "02699279760362859349"
     },
     "user_tz": 420
    },
    "id": "8q9agXjwaTCu",
    "outputId": "17ba0429-4e05-4796-c20b-5124076b17dc"
   },
   "outputs": [
    {
     "data": {
      "image/png": "[encoded data removed]",
      "text/plain": [
       "<Figure size 640x480 with 1 Axes>"
      ]
     },
     "metadata": {},
     "output_type": "display_data"
    }
   ],
   "source": [
    "# Plot training & validation loss\n",
    "plt.plot(combined['loss'], label='Training Loss')\n",
    "plt.plot(combined['val_loss'], label='Validation Loss')\n",
    "plt.title('Loss Over Epochs')\n",
    "plt.xlabel('Epoch')\n",
    "plt.ylabel('Loss')\n",
    "plt.legend()\n",
    "plt.grid(True)\n",
    "plt.savefig(\"loss_curve_lstm.png\")\n",
    "plt.show()"
   ]
  },
  {
   "cell_type": "markdown",
   "metadata": {},
   "source": [
    "### Validation perplexity calculation"
   ]
  },
  {
   "cell_type": "code",
   "execution_count": null,
   "metadata": {
    "id": "w27bCtHe-2_O"
   },
   "outputs": [],
   "source": [
    "model_lstm.load_weights(model_path)"
   ]
  },
  {
   "cell_type": "code",
   "execution_count": null,
   "metadata": {
    "colab": {
     "base_uri": "https://localhost:8080/"
    },
    "executionInfo": {
     "elapsed": 5807,
     "status": "ok",
     "timestamp": 1749951263881,
     "user": {
      "displayName": "Yukiko Rivera",
      "userId": "02699279760362859349"
     },
     "user_tz": 420
    },
    "id": "GiKKY50d-64U",
    "outputId": "9fc3ad83-f62d-4263-de5b-2159ce87ffd3"
   },
   "outputs": [
    {
     "name": "stdout",
     "output_type": "stream",
     "text": [
      "Perplexity: 314.27\n"
     ]
    }
   ],
   "source": [
    "val_loss, val_accuracy = model_lstm.evaluate(val_inputs, y_val_target, verbose=0)\n",
    "perplexity = np.exp(val_loss)\n",
    "print(f\"Perplexity: {perplexity:.2f}\")"
   ]
  },
  {
   "cell_type": "markdown",
   "metadata": {},
   "source": [
    "### Create a text to record the parameters used as well as the validation perplexity"
   ]
  },
  {
   "cell_type": "code",
   "execution_count": null,
   "metadata": {
    "id": "9sZZjRg6J0PM"
   },
   "outputs": [],
   "source": [
    "parameters = {'epochs':repeat, 'batch_size':batch, 'embedding_dim':embedding_dim,\n",
    "              'LSTM units':units, 'vocab_limit':vocab_limit, 'learning_rate':custom_learning_rate,'patience':patience,\n",
    "              'min_delta':min_delta, 'validation_ratio':val_ratio, 'dropout':dropout_rate, 'perplexity':perplexity}\n",
    "\n",
    "results = ''\n",
    "for key, value in parameters.items():\n",
    "    results += \"{key}: {value}\".format(key=key, value=value)\n",
    "    results += '\\n'\n",
    "\n",
    "with open('results_LSTM.txt', 'w') as f:\n",
    "    f.write(results)"
   ]
  }
 ],
 "metadata": {
  "accelerator": "GPU",
  "colab": {
   "gpuType": "A100",
   "machine_shape": "hm",
   "provenance": []
  },
  "kernelspec": {
   "display_name": "Python 3",
   "name": "python3"
  },
  "language_info": {
   "name": "python"
  }
 },
 "nbformat": 4,
 "nbformat_minor": 0
}
