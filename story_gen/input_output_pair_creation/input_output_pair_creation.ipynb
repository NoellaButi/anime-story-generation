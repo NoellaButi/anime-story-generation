{
  "cells": [
    {
      "cell_type": "code",
      "execution_count": 1,
      "id": "84d5d757",
      "metadata": {},
      "outputs": [],
      "source": [
        "# Author: Yuki Rivera\n",
        "# This notebook creates input/output pairs for our anime generation project"
      ]
    },
    {
      "cell_type": "code",
      "execution_count": null,
      "id": "afaf1b67",
      "metadata": {},
      "outputs": [],
      "source": [
        "import pandas as pd\n",
        "import ast\n",
        "from sklearn.model_selection import train_test_split\n",
        "from itertools import combinations\n",
        "from itertools import chain"
      ]
    },
    {
      "cell_type": "code",
      "execution_count": null,
      "id": "9e0c792a-0b62-47c2-ae16-5507562cc756",
      "metadata": {
        "id": "9e0c792a-0b62-47c2-ae16-5507562cc756"
      },
      "outputs": [],
      "source": [
        "# Expand the displayed length to max\n",
        "\n",
        "pd.set_option(\"display.max_colwidth\", None)"
      ]
    },
    {
      "cell_type": "markdown",
      "id": "6b1f1c14",
      "metadata": {},
      "source": [
        "### Loads the dataset"
      ]
    },
    {
      "cell_type": "code",
      "execution_count": null,
      "id": "20315c55-cb74-4d7a-a2d2-6294fe3065fb",
      "metadata": {
        "id": "20315c55-cb74-4d7a-a2d2-6294fe3065fb"
      },
      "outputs": [],
      "source": [
        "df = pd.read_csv('duplicates_removed_top_anime_v2.csv')"
      ]
    },
    {
      "cell_type": "code",
      "execution_count": null,
      "id": "4_A5ohrnFJzz",
      "metadata": {
        "colab": {
          "base_uri": "https://localhost:8080/"
        },
        "id": "4_A5ohrnFJzz",
        "outputId": "f55a43d2-8a19-4488-b2c6-3729ea9e4fe3"
      },
      "outputs": [
        {
          "data": {
            "text/plain": [
              "(10380, 33)"
            ]
          },
          "execution_count": 23,
          "metadata": {},
          "output_type": "execute_result"
        }
      ],
      "source": [
        "df.shape"
      ]
    },
    {
      "cell_type": "markdown",
      "id": "gxoK4K1lWJV1",
      "metadata": {
        "id": "gxoK4K1lWJV1"
      },
      "source": [
        "### Helper functions to create input/output pairs"
      ]
    },
    {
      "cell_type": "code",
      "execution_count": null,
      "id": "dec3e473-9749-42de-89e4-e7c12ce2ac67",
      "metadata": {
        "id": "dec3e473-9749-42de-89e4-e7c12ce2ac67"
      },
      "outputs": [],
      "source": [
        "# Converts str to python list in the corresponding columns\n",
        "def clean_list_columns(df):\n",
        "    for col in ['genres', 'themes', 'demographics']:\n",
        "        df.loc[:,col] = df[col].apply(lambda x: ast.literal_eval(x) if isinstance(x, str) and x.startswith(\"[\") else x)\n",
        "    return df\n"
      ]
    },
    {
      "cell_type": "code",
      "execution_count": null,
      "id": "565b2db2-f817-499e-b412-f676f0d290f6",
      "metadata": {
        "id": "565b2db2-f817-499e-b412-f676f0d290f6"
      },
      "outputs": [],
      "source": [
        "# Function to format list values\n",
        "def format_list_for_prompt(val):\n",
        "    if isinstance(val, list):\n",
        "        if not val:\n",
        "            return \"\"\n",
        "        if len(val) == 1:\n",
        "            return val[0]\n",
        "        return \", \".join(val[:-1]) + \" and \" + val[-1]\n",
        "    return str(val)"
      ]
    },
    {
      "cell_type": "code",
      "execution_count": null,
      "id": "7daa1789-a1ed-4fc8-b295-006f41a729df",
      "metadata": {
        "id": "7daa1789-a1ed-4fc8-b295-006f41a729df"
      },
      "outputs": [],
      "source": [
        "def build_prompt_from_template(formatted):\n",
        "    keys = tuple(sorted(formatted.keys()))\n",
        "    if keys in TEMPLATES_BY_FIELDS:\n",
        "        return TEMPLATES_BY_FIELDS[keys].format(**formatted)\n",
        "    else:\n",
        "        # builds pairs dynamically\n",
        "        prompt_parts = [\n",
        "            f\"'{v}' {k}\" if k != \"title\" else f\"similar to '{v}'\"\n",
        "            for k, v in formatted.items()\n",
        "        ]\n",
        "        return \"Create an anime synopsis with \" + \", \".join(prompt_parts) + \".\""
      ]
    },
    {
      "cell_type": "markdown",
      "id": "b70423e8",
      "metadata": {},
      "source": [
        "### Templates to combine with tags"
      ]
    },
    {
      "cell_type": "code",
      "execution_count": null,
      "id": "b3ea44ba-922d-4fa3-88e8-5e53a8b2fa0f",
      "metadata": {
        "id": "b3ea44ba-922d-4fa3-88e8-5e53a8b2fa0f"
      },
      "outputs": [],
      "source": [
        "TEMPLATES_BY_FIELDS = {\n",
        "    # One field\n",
        "    (\"demographic\",): \"Generate an anime synopsis for '{demographic}'.\",\n",
        "    (\"genre\",): \"Write an anime synopsis that matches '{genre}'.\",\n",
        "    (\"theme\",): \"Write an anime synopsis based on the '{theme}'.\",\n",
        "\n",
        "    # Two fields\n",
        "    (\"demographic\", \"genre\"): \"Write an anime idea in '{genre}' for '{demographic}'.\",\n",
        "    (\"demographic\", \"theme\"): \"Generate a '{theme}' themed anime targeting '{demographic}'.\",\n",
        "    (\"demographic\", \"title\"): \"Generate an anime synopsis for '{demographic}' like '{title}'.\",\n",
        "    (\"genre\", \"theme\"): \"Create an anime synopsis with '{genre}' and '{theme}'.\",\n",
        "    (\"genre\", \"title\"): \"Write a '{genre}' anime synopsis inspired by '{title}'.\",\n",
        "    (\"theme\", \"title\"): \"Write an anime story idea with '{theme}', similar to '{title}'.\",\n",
        "\n",
        "    # Three fields\n",
        "    (\"demographic\", \"genre\", \"theme\"): \"Create an anime with '{genre}' and '{theme}' for '{demographic}'.\",\n",
        "    (\"demographic\", \"genre\", \"title\"): \"Write an anime story idea with '{genre}' for '{demographic}', inspired by '{title}'.\",\n",
        "    (\"demographic\", \"theme\", \"title\"): \"Generate a '{theme}' themed anime synopsis for '{demographic}' like '{title}'.\",\n",
        "    (\"genre\", \"theme\", \"title\"): \"Provide me an anime story idea in '{genre}' with '{theme}', similar to '{title}'.\",\n",
        "\n",
        "    # All four fields\n",
        "    (\"demographic\", \"genre\", \"theme\", \"title\"): \"Write an anime synopsis involving '{genre}' with '{theme}' for '{demographic}', similar to '{title}'.\"\n",
        "}"
      ]
    },
    {
      "cell_type": "markdown",
      "id": "1351cd78",
      "metadata": {},
      "source": [
        "### Function to generate pairs"
      ]
    },
    {
      "cell_type": "code",
      "execution_count": null,
      "id": "3be7806f-6741-498b-8169-fe32f716529c",
      "metadata": {
        "id": "3be7806f-6741-498b-8169-fe32f716529c"
      },
      "outputs": [],
      "source": [
        "def generate_all_prompt_synopsis_pairs(row):\n",
        "    if pd.isna(row.get(\"synopsis\")) or not row[\"synopsis\"].strip():\n",
        "        return []\n",
        "\n",
        "    raw_fields_data = {\n",
        "        \"genre\": row.get(\"genres\"),\n",
        "        \"theme\": row.get(\"themes\"),\n",
        "        \"demographic\": row.get(\"demographics\"),\n",
        "        \"title\": row.get(\"english_name\")\n",
        "    }\n",
        "\n",
        "    # Filter out empty fields\n",
        "    valid_formatted_for_prompt = {\n",
        "        key: format_list_for_prompt(val)\n",
        "        for key, val in raw_fields_data.items() \n",
        "        if (isinstance(val, list) and val) or (isinstance(val, str) and val.strip())\n",
        "    }\n",
        "\n",
        "    if not valid_formatted_for_prompt:\n",
        "        return []\n",
        "\n",
        "    pairs = []\n",
        "    keys_for_combinations = list(valid_formatted_for_prompt.keys())\n",
        "\n",
        "    # Generate all non-empty combinations of the available fields\n",
        "    for r in range(1, len(keys_for_combinations) + 1):\n",
        "        for key_combo in combinations(keys_for_combinations, r):\n",
        "            # If the combination only contains 'title' and nothing else, skip it.\n",
        "            if len(key_combo) == 1 and 'title' in key_combo:\n",
        "                continue # Skip this combination\n",
        "\n",
        "            formatted_subset_for_prompt = {k: valid_formatted_for_prompt[k] for k in key_combo}\n",
        "            prompt = build_prompt_from_template(formatted_subset_for_prompt)\n",
        "\n",
        "            # Creates the 'tags_combined' string for the current combination \n",
        "            # This explicitly includes only 'genre', 'theme', 'demographic' and excludes 'title'.\n",
        "            current_tags_list = []\n",
        "            for k_tag in key_combo:\n",
        "                # Only process if the key is one of the desired tag categories\n",
        "                if k_tag in ['genre', 'theme', 'demographic']:\n",
        "                    val = raw_fields_data.get(k_tag) # Get the raw list/string value\n",
        "\n",
        "                    if isinstance(val, list):\n",
        "                        # Flatten list of tags, lowercasing and stripping each item\n",
        "                        current_tags_list.extend([item.lower().strip() for item in val if isinstance(item, str) and item.strip()])\n",
        "                    elif isinstance(val, str) and val.strip():\n",
        "                        cleaned_single_tag_str = re.sub(r'\\s+and\\s+|\\s*,\\s*', ' ', val.lower().strip())\n",
        "                        current_tags_list.extend(cleaned_single_tag_str.split())\n",
        "\n",
        "            tags_combined = \" \".join(sorted(list(set(current_tags_list))))\n",
        "\n",
        "\n",
        "            pairs.append({\n",
        "                \"prompt\": prompt.strip(),\n",
        "                \"synopsis\": row[\"synopsis\"].strip(),\n",
        "                \"tags_combined\": tags_combined \n",
        "            })\n",
        "\n",
        "    return pairs"
      ]
    },
    {
      "cell_type": "markdown",
      "id": "a76a49c1-b522-481e-8dfa-806875e75452",
      "metadata": {
        "id": "a76a49c1-b522-481e-8dfa-806875e75452"
      },
      "source": [
        "### Test with sample dataset"
      ]
    },
    {
      "cell_type": "code",
      "execution_count": null,
      "id": "6b5e5628-28e7-4498-9d13-1e2e4fc6ba3e",
      "metadata": {
        "id": "6b5e5628-28e7-4498-9d13-1e2e4fc6ba3e"
      },
      "outputs": [],
      "source": [
        "df = clean_list_columns(df.copy())"
      ]
    },
    {
      "cell_type": "code",
      "execution_count": null,
      "id": "99ad991f-6ea8-43cd-832e-f9cfced35472",
      "metadata": {
        "id": "99ad991f-6ea8-43cd-832e-f9cfced35472"
      },
      "outputs": [],
      "source": [
        "sample_df = df.sample(5)"
      ]
    },
    {
      "cell_type": "code",
      "execution_count": null,
      "id": "4a333cc6-c2d8-44b0-a2ea-ff7310aa473a",
      "metadata": {
        "id": "4a333cc6-c2d8-44b0-a2ea-ff7310aa473a"
      },
      "outputs": [],
      "source": [
        "# generate prompts\n",
        "prompts = [generate_all_prompt_synopsis_pairs(row) for _, row in sample_df.iterrows()]"
      ]
    },
    {
      "cell_type": "code",
      "execution_count": null,
      "id": "b875d6c2-7696-406c-a98c-0cf3257c6854",
      "metadata": {
        "colab": {
          "base_uri": "https://localhost:8080/"
        },
        "id": "b875d6c2-7696-406c-a98c-0cf3257c6854",
        "outputId": "051d8ad1-d23b-4199-8a85-7bce28f6472f"
      },
      "outputs": [
        {
          "name": "stdout",
          "output_type": "stream",
          "text": [
            "Prompt: Write an anime synopsis that matches 'Adventure, Comedy and Sci-Fi'.\n",
            "Synopsis: locomon, a train digimon, has suddenly appeared in the real world. all the tamers scramble to stop the train before it reaches its final destination: the portal into the digital world.\n",
            "Tags: adventure comedy sci-fi\n",
            "----------------------------------------\n",
            "Prompt: Write a 'Adventure, Comedy and Sci-Fi' anime synopsis inspired by 'Digimon Tamers: Runaway Locomon'.\n",
            "Synopsis: locomon, a train digimon, has suddenly appeared in the real world. all the tamers scramble to stop the train before it reaches its final destination: the portal into the digital world.\n",
            "Tags: adventure comedy sci-fi\n",
            "----------------------------------------\n",
            "Prompt: Write an anime synopsis that matches 'Comedy and Fantasy'.\n",
            "Synopsis: narrated recap of the first season of hataraku maousama!!.\n",
            "Tags: comedy fantasy\n",
            "----------------------------------------\n",
            "Prompt: Write an anime synopsis based on the 'Mythology and Workplace'.\n",
            "Synopsis: narrated recap of the first season of hataraku maousama!!.\n",
            "Tags: mythology workplace\n",
            "----------------------------------------\n",
            "Prompt: Create an anime synopsis with 'Comedy and Fantasy' and 'Mythology and Workplace'.\n",
            "Synopsis: narrated recap of the first season of hataraku maousama!!.\n",
            "Tags: comedy fantasy mythology workplace\n",
            "----------------------------------------\n",
            "Prompt: Write a 'Comedy and Fantasy' anime synopsis inspired by 'The Devil is a Part-Timer! Season 2: Recap Special From Sasazuka to Ente Isla!'.\n",
            "Synopsis: narrated recap of the first season of hataraku maousama!!.\n",
            "Tags: comedy fantasy\n",
            "----------------------------------------\n",
            "Prompt: Write an anime story idea with 'Mythology and Workplace', similar to 'The Devil is a Part-Timer! Season 2: Recap Special From Sasazuka to Ente Isla!'.\n",
            "Synopsis: narrated recap of the first season of hataraku maousama!!.\n",
            "Tags: mythology workplace\n",
            "----------------------------------------\n",
            "Prompt: Provide me an anime story idea in 'Comedy and Fantasy' with 'Mythology and Workplace', similar to 'The Devil is a Part-Timer! Season 2: Recap Special From Sasazuka to Ente Isla!'.\n",
            "Synopsis: narrated recap of the first season of hataraku maousama!!.\n",
            "Tags: comedy fantasy mythology workplace\n",
            "----------------------------------------\n",
            "Prompt: Write an anime synopsis that matches 'Action, Drama and Sci-Fi'.\n",
            "Synopsis: it is year 0079 of the universal century. mankind has moved to space, living in colony clusters known as sides. one of these sides declares itself the principality of zeon and declares war on the earth federation, the governmental body currently ruling earth. using powerful humanoid robots known as mobile suits, zeon quickly gains the upper hand. nine months into the conflict, the earth federation has developed its own powerful mobile suit called the gundam. when zeon launches an attack on the colony holding the gundam, a 15yearold civilian named amuro ray suddenly finds himself thrown into a conflict that will take him all across earth and space, pitting him against the enemy's ace pilot, char aznable.\n",
            "Tags: action drama sci-fi\n",
            "----------------------------------------\n",
            "Prompt: Write an anime synopsis based on the 'Mecha, Military and Space'.\n",
            "Synopsis: it is year 0079 of the universal century. mankind has moved to space, living in colony clusters known as sides. one of these sides declares itself the principality of zeon and declares war on the earth federation, the governmental body currently ruling earth. using powerful humanoid robots known as mobile suits, zeon quickly gains the upper hand. nine months into the conflict, the earth federation has developed its own powerful mobile suit called the gundam. when zeon launches an attack on the colony holding the gundam, a 15yearold civilian named amuro ray suddenly finds himself thrown into a conflict that will take him all across earth and space, pitting him against the enemy's ace pilot, char aznable.\n",
            "Tags: mecha military space\n",
            "----------------------------------------\n",
            "Prompt: Create an anime synopsis with 'Action, Drama and Sci-Fi' and 'Mecha, Military and Space'.\n",
            "Synopsis: it is year 0079 of the universal century. mankind has moved to space, living in colony clusters known as sides. one of these sides declares itself the principality of zeon and declares war on the earth federation, the governmental body currently ruling earth. using powerful humanoid robots known as mobile suits, zeon quickly gains the upper hand. nine months into the conflict, the earth federation has developed its own powerful mobile suit called the gundam. when zeon launches an attack on the colony holding the gundam, a 15yearold civilian named amuro ray suddenly finds himself thrown into a conflict that will take him all across earth and space, pitting him against the enemy's ace pilot, char aznable.\n",
            "Tags: action drama mecha military sci-fi space\n",
            "----------------------------------------\n",
            "Prompt: Write a 'Action, Drama and Sci-Fi' anime synopsis inspired by 'Mobile Suit Gundam'.\n",
            "Synopsis: it is year 0079 of the universal century. mankind has moved to space, living in colony clusters known as sides. one of these sides declares itself the principality of zeon and declares war on the earth federation, the governmental body currently ruling earth. using powerful humanoid robots known as mobile suits, zeon quickly gains the upper hand. nine months into the conflict, the earth federation has developed its own powerful mobile suit called the gundam. when zeon launches an attack on the colony holding the gundam, a 15yearold civilian named amuro ray suddenly finds himself thrown into a conflict that will take him all across earth and space, pitting him against the enemy's ace pilot, char aznable.\n",
            "Tags: action drama sci-fi\n",
            "----------------------------------------\n",
            "Prompt: Write an anime story idea with 'Mecha, Military and Space', similar to 'Mobile Suit Gundam'.\n",
            "Synopsis: it is year 0079 of the universal century. mankind has moved to space, living in colony clusters known as sides. one of these sides declares itself the principality of zeon and declares war on the earth federation, the governmental body currently ruling earth. using powerful humanoid robots known as mobile suits, zeon quickly gains the upper hand. nine months into the conflict, the earth federation has developed its own powerful mobile suit called the gundam. when zeon launches an attack on the colony holding the gundam, a 15yearold civilian named amuro ray suddenly finds himself thrown into a conflict that will take him all across earth and space, pitting him against the enemy's ace pilot, char aznable.\n",
            "Tags: mecha military space\n",
            "----------------------------------------\n",
            "Prompt: Provide me an anime story idea in 'Action, Drama and Sci-Fi' with 'Mecha, Military and Space', similar to 'Mobile Suit Gundam'.\n",
            "Synopsis: it is year 0079 of the universal century. mankind has moved to space, living in colony clusters known as sides. one of these sides declares itself the principality of zeon and declares war on the earth federation, the governmental body currently ruling earth. using powerful humanoid robots known as mobile suits, zeon quickly gains the upper hand. nine months into the conflict, the earth federation has developed its own powerful mobile suit called the gundam. when zeon launches an attack on the colony holding the gundam, a 15yearold civilian named amuro ray suddenly finds himself thrown into a conflict that will take him all across earth and space, pitting him against the enemy's ace pilot, char aznable.\n",
            "Tags: action drama mecha military sci-fi space\n",
            "----------------------------------------\n",
            "Prompt: Write an anime synopsis that matches 'Action and Fantasy'.\n",
            "Synopsis: the aloof high schooler mo fan has found himself in a universe similar yet distinctly different from his own mundane one; it is a place where magic has replaced the essence of science. here, the most capable students are taught to master the wonders of spellworking to fend off large devastating beasts that lurk in the forests surrounding the city. like his previous life, mo fan remains the son of a poor laborer and the older stepbrother to a crippled sister. despite these disadvantages, he dreams of attending a magic school to become a magiciana highly respected and lucrative tradein order to repay his father for his hard work. mo fan is accepted into a renowned magic institution. however, rumors spread about his poverty and lack of magical ability, labeling him as the laughing stock of the school. nonetheless, mo fan manages to harness not only the powerful fire element, but also the rare lightning element! now armed with dual abilities, what dangerous encounters will the versatile mage face?\n",
            "Tags: action fantasy\n",
            "----------------------------------------\n",
            "Prompt: Write an anime synopsis based on the 'School'.\n",
            "Synopsis: the aloof high schooler mo fan has found himself in a universe similar yet distinctly different from his own mundane one; it is a place where magic has replaced the essence of science. here, the most capable students are taught to master the wonders of spellworking to fend off large devastating beasts that lurk in the forests surrounding the city. like his previous life, mo fan remains the son of a poor laborer and the older stepbrother to a crippled sister. despite these disadvantages, he dreams of attending a magic school to become a magiciana highly respected and lucrative tradein order to repay his father for his hard work. mo fan is accepted into a renowned magic institution. however, rumors spread about his poverty and lack of magical ability, labeling him as the laughing stock of the school. nonetheless, mo fan manages to harness not only the powerful fire element, but also the rare lightning element! now armed with dual abilities, what dangerous encounters will the versatile mage face?\n",
            "Tags: school\n",
            "----------------------------------------\n",
            "Prompt: Create an anime synopsis with 'Action and Fantasy' and 'School'.\n",
            "Synopsis: the aloof high schooler mo fan has found himself in a universe similar yet distinctly different from his own mundane one; it is a place where magic has replaced the essence of science. here, the most capable students are taught to master the wonders of spellworking to fend off large devastating beasts that lurk in the forests surrounding the city. like his previous life, mo fan remains the son of a poor laborer and the older stepbrother to a crippled sister. despite these disadvantages, he dreams of attending a magic school to become a magiciana highly respected and lucrative tradein order to repay his father for his hard work. mo fan is accepted into a renowned magic institution. however, rumors spread about his poverty and lack of magical ability, labeling him as the laughing stock of the school. nonetheless, mo fan manages to harness not only the powerful fire element, but also the rare lightning element! now armed with dual abilities, what dangerous encounters will the versatile mage face?\n",
            "Tags: action fantasy school\n",
            "----------------------------------------\n",
            "Prompt: Write a 'Action and Fantasy' anime synopsis inspired by 'Full-Time Magister'.\n",
            "Synopsis: the aloof high schooler mo fan has found himself in a universe similar yet distinctly different from his own mundane one; it is a place where magic has replaced the essence of science. here, the most capable students are taught to master the wonders of spellworking to fend off large devastating beasts that lurk in the forests surrounding the city. like his previous life, mo fan remains the son of a poor laborer and the older stepbrother to a crippled sister. despite these disadvantages, he dreams of attending a magic school to become a magiciana highly respected and lucrative tradein order to repay his father for his hard work. mo fan is accepted into a renowned magic institution. however, rumors spread about his poverty and lack of magical ability, labeling him as the laughing stock of the school. nonetheless, mo fan manages to harness not only the powerful fire element, but also the rare lightning element! now armed with dual abilities, what dangerous encounters will the versatile mage face?\n",
            "Tags: action fantasy\n",
            "----------------------------------------\n",
            "Prompt: Write an anime story idea with 'School', similar to 'Full-Time Magister'.\n",
            "Synopsis: the aloof high schooler mo fan has found himself in a universe similar yet distinctly different from his own mundane one; it is a place where magic has replaced the essence of science. here, the most capable students are taught to master the wonders of spellworking to fend off large devastating beasts that lurk in the forests surrounding the city. like his previous life, mo fan remains the son of a poor laborer and the older stepbrother to a crippled sister. despite these disadvantages, he dreams of attending a magic school to become a magiciana highly respected and lucrative tradein order to repay his father for his hard work. mo fan is accepted into a renowned magic institution. however, rumors spread about his poverty and lack of magical ability, labeling him as the laughing stock of the school. nonetheless, mo fan manages to harness not only the powerful fire element, but also the rare lightning element! now armed with dual abilities, what dangerous encounters will the versatile mage face?\n",
            "Tags: school\n",
            "----------------------------------------\n",
            "Prompt: Provide me an anime story idea in 'Action and Fantasy' with 'School', similar to 'Full-Time Magister'.\n",
            "Synopsis: the aloof high schooler mo fan has found himself in a universe similar yet distinctly different from his own mundane one; it is a place where magic has replaced the essence of science. here, the most capable students are taught to master the wonders of spellworking to fend off large devastating beasts that lurk in the forests surrounding the city. like his previous life, mo fan remains the son of a poor laborer and the older stepbrother to a crippled sister. despite these disadvantages, he dreams of attending a magic school to become a magiciana highly respected and lucrative tradein order to repay his father for his hard work. mo fan is accepted into a renowned magic institution. however, rumors spread about his poverty and lack of magical ability, labeling him as the laughing stock of the school. nonetheless, mo fan manages to harness not only the powerful fire element, but also the rare lightning element! now armed with dual abilities, what dangerous encounters will the versatile mage face?\n",
            "Tags: action fantasy school\n",
            "----------------------------------------\n",
            "Prompt: Write an anime synopsis that matches 'Comedy and Romance'.\n",
            "Synopsis: in the wake of their first home burning down, nasa and tsukasa yuzaki are seeking temporary shelter at the arisugawas' bathhouse. though they have only been married for a short time, their relationship has only become sweeter by the day. nasa is determined to spend as much time with his wife as possible, basking in the happiness of their marriage. the newlyweds find new ways to explore their relationship. from adopting a cat, going to an amusement park, and even watching an impromptu romantic comedy featuring nasa's former teacher, every day is a new experience. but while tsukasa continues to meet the people in nasa's life, nasa has yet to meet more of tsukasa's family. though they appear to be the pictureperfect couple to everyone around them, nasa begins to wonder if he will ever learn more about his wife's mysterious past.\n",
            "Tags: comedy romance\n",
            "----------------------------------------\n",
            "Prompt: Generate an anime synopsis for 'Shounen'.\n",
            "Synopsis: in the wake of their first home burning down, nasa and tsukasa yuzaki are seeking temporary shelter at the arisugawas' bathhouse. though they have only been married for a short time, their relationship has only become sweeter by the day. nasa is determined to spend as much time with his wife as possible, basking in the happiness of their marriage. the newlyweds find new ways to explore their relationship. from adopting a cat, going to an amusement park, and even watching an impromptu romantic comedy featuring nasa's former teacher, every day is a new experience. but while tsukasa continues to meet the people in nasa's life, nasa has yet to meet more of tsukasa's family. though they appear to be the pictureperfect couple to everyone around them, nasa begins to wonder if he will ever learn more about his wife's mysterious past.\n",
            "Tags: shounen\n",
            "----------------------------------------\n",
            "Prompt: Write an anime idea in 'Comedy and Romance' for 'Shounen'.\n",
            "Synopsis: in the wake of their first home burning down, nasa and tsukasa yuzaki are seeking temporary shelter at the arisugawas' bathhouse. though they have only been married for a short time, their relationship has only become sweeter by the day. nasa is determined to spend as much time with his wife as possible, basking in the happiness of their marriage. the newlyweds find new ways to explore their relationship. from adopting a cat, going to an amusement park, and even watching an impromptu romantic comedy featuring nasa's former teacher, every day is a new experience. but while tsukasa continues to meet the people in nasa's life, nasa has yet to meet more of tsukasa's family. though they appear to be the pictureperfect couple to everyone around them, nasa begins to wonder if he will ever learn more about his wife's mysterious past.\n",
            "Tags: comedy romance shounen\n",
            "----------------------------------------\n",
            "Prompt: Write a 'Comedy and Romance' anime synopsis inspired by 'Tonikawa: Over The Moon For You Season 2'.\n",
            "Synopsis: in the wake of their first home burning down, nasa and tsukasa yuzaki are seeking temporary shelter at the arisugawas' bathhouse. though they have only been married for a short time, their relationship has only become sweeter by the day. nasa is determined to spend as much time with his wife as possible, basking in the happiness of their marriage. the newlyweds find new ways to explore their relationship. from adopting a cat, going to an amusement park, and even watching an impromptu romantic comedy featuring nasa's former teacher, every day is a new experience. but while tsukasa continues to meet the people in nasa's life, nasa has yet to meet more of tsukasa's family. though they appear to be the pictureperfect couple to everyone around them, nasa begins to wonder if he will ever learn more about his wife's mysterious past.\n",
            "Tags: comedy romance\n",
            "----------------------------------------\n",
            "Prompt: Generate an anime synopsis for 'Shounen' like 'Tonikawa: Over The Moon For You Season 2'.\n",
            "Synopsis: in the wake of their first home burning down, nasa and tsukasa yuzaki are seeking temporary shelter at the arisugawas' bathhouse. though they have only been married for a short time, their relationship has only become sweeter by the day. nasa is determined to spend as much time with his wife as possible, basking in the happiness of their marriage. the newlyweds find new ways to explore their relationship. from adopting a cat, going to an amusement park, and even watching an impromptu romantic comedy featuring nasa's former teacher, every day is a new experience. but while tsukasa continues to meet the people in nasa's life, nasa has yet to meet more of tsukasa's family. though they appear to be the pictureperfect couple to everyone around them, nasa begins to wonder if he will ever learn more about his wife's mysterious past.\n",
            "Tags: shounen\n",
            "----------------------------------------\n",
            "Prompt: Write an anime story idea with 'Comedy and Romance' for 'Shounen', inspired by 'Tonikawa: Over The Moon For You Season 2'.\n",
            "Synopsis: in the wake of their first home burning down, nasa and tsukasa yuzaki are seeking temporary shelter at the arisugawas' bathhouse. though they have only been married for a short time, their relationship has only become sweeter by the day. nasa is determined to spend as much time with his wife as possible, basking in the happiness of their marriage. the newlyweds find new ways to explore their relationship. from adopting a cat, going to an amusement park, and even watching an impromptu romantic comedy featuring nasa's former teacher, every day is a new experience. but while tsukasa continues to meet the people in nasa's life, nasa has yet to meet more of tsukasa's family. though they appear to be the pictureperfect couple to everyone around them, nasa begins to wonder if he will ever learn more about his wife's mysterious past.\n",
            "Tags: comedy romance shounen\n",
            "----------------------------------------\n"
          ]
        }
      ],
      "source": [
        "flattened = list(chain.from_iterable(prompts))\n",
        "\n",
        "for pair in flattened:\n",
        "    print(\"Prompt:\", pair[\"prompt\"])\n",
        "    print(\"Synopsis:\", pair[\"synopsis\"])\n",
        "    print('Tags:', pair['tags_combined'])\n",
        "    print(\"-\" * 40)"
      ]
    },
    {
      "cell_type": "markdown",
      "id": "8083ca54-fe23-4c9d-b315-a18d900e73f5",
      "metadata": {
        "id": "8083ca54-fe23-4c9d-b315-a18d900e73f5"
      },
      "source": [
        "### Create prompt/output pairs for training and test sets"
      ]
    },
    {
      "cell_type": "code",
      "execution_count": null,
      "id": "244999ec-87be-4d65-b3ff-3bc259eecbb0",
      "metadata": {
        "id": "244999ec-87be-4d65-b3ff-3bc259eecbb0"
      },
      "outputs": [],
      "source": [
        "# split the dataset into training and heldout sets\n",
        "training_df, heldout_df = train_test_split(df, test_size=0.15, random_state=42, shuffle=True)"
      ]
    },
    {
      "cell_type": "code",
      "execution_count": null,
      "id": "ddcdd850-e01d-47ce-aa44-29cd0e5869d3",
      "metadata": {
        "id": "ddcdd850-e01d-47ce-aa44-29cd0e5869d3"
      },
      "outputs": [],
      "source": [
        "train_pairs = []\n",
        "for _, row in training_df.iterrows():\n",
        "    train_pairs.extend(generate_all_prompt_synopsis_pairs(row))\n",
        "\n",
        "test_pairs = []\n",
        "for _, row in heldout_df.iterrows():\n",
        "    test_pairs.extend(generate_all_prompt_synopsis_pairs(row))\n",
        "\n",
        "train_df = pd.DataFrame(train_pairs)\n",
        "test_df = pd.DataFrame(test_pairs)"
      ]
    },
    {
      "cell_type": "code",
      "execution_count": null,
      "id": "776f718b-9773-4213-bbd9-4f6e7c9e5ed0",
      "metadata": {
        "colab": {
          "base_uri": "https://localhost:8080/"
        },
        "id": "776f718b-9773-4213-bbd9-4f6e7c9e5ed0",
        "outputId": "8f4f62f0-a045-4ea8-c5c8-e901abaa1d33"
      },
      "outputs": [
        {
          "data": {
            "text/plain": [
              "(60260, 3)"
            ]
          },
          "execution_count": 38,
          "metadata": {},
          "output_type": "execute_result"
        }
      ],
      "source": [
        "train_df.shape"
      ]
    },
    {
      "cell_type": "code",
      "execution_count": null,
      "id": "c0d41301-0d7c-40d4-92a3-bf4a36740222",
      "metadata": {
        "colab": {
          "base_uri": "https://localhost:8080/"
        },
        "id": "c0d41301-0d7c-40d4-92a3-bf4a36740222",
        "outputId": "06c53549-16e9-4e34-b5c5-0c18eb8a290b"
      },
      "outputs": [
        {
          "data": {
            "text/plain": [
              "(10620, 3)"
            ]
          },
          "execution_count": 39,
          "metadata": {},
          "output_type": "execute_result"
        }
      ],
      "source": [
        "test_df.shape"
      ]
    },
    {
      "cell_type": "markdown",
      "id": "35c96682-5514-4e07-a7e6-607ff117ba59",
      "metadata": {
        "id": "35c96682-5514-4e07-a7e6-607ff117ba59"
      },
      "source": [
        "### Saves the pairs to CSV"
      ]
    },
    {
      "cell_type": "code",
      "execution_count": null,
      "id": "1ef14c45-ca18-4839-8dc4-eedfa6a68d78",
      "metadata": {
        "id": "1ef14c45-ca18-4839-8dc4-eedfa6a68d78"
      },
      "outputs": [],
      "source": [
        "train_df.to_csv(\"prompt_synopsis_train.csv\", index=False)\n",
        "test_df.to_csv(\"prompt_synopsis_test.csv\", index=False)"
      ]
    }
  ],
  "metadata": {
    "colab": {
      "machine_shape": "hm",
      "provenance": []
    },
    "kernelspec": {
      "display_name": "animegen",
      "language": "python",
      "name": "python3"
    },
    "language_info": {
      "codemirror_mode": {
        "name": "ipython",
        "version": 3
      },
      "file_extension": ".py",
      "mimetype": "text/x-python",
      "name": "python",
      "nbconvert_exporter": "python",
      "pygments_lexer": "ipython3",
      "version": "3.11.9"
    }
  },
  "nbformat": 4,
  "nbformat_minor": 5
}
